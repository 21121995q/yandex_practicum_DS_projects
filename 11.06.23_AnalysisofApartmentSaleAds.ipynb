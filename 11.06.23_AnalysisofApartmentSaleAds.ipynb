{
 "cells": [
  {
   "cell_type": "markdown",
   "metadata": {},
   "source": [
    "# Исследование объявлений о продаже квартир\n",
    "\n",
    "В вашем распоряжении данные сервиса Яндекс.Недвижимость — архив объявлений о продаже квартир в Санкт-Петербурге и соседних населённых пунктов за несколько лет. Нужно научиться определять рыночную стоимость объектов недвижимости. Ваша задача — установить параметры. Это позволит построить автоматизированную систему: она отследит аномалии и мошенническую деятельность. \n",
    "\n",
    "По каждой квартире на продажу доступны два вида данных. Первые вписаны пользователем, вторые — получены автоматически на основе картографических данных. Например, расстояние до центра, аэропорта, ближайшего парка и водоёма. "
   ]
  },
  {
   "cell_type": "markdown",
   "metadata": {},
   "source": [
    "##  Откройте файл с данными и изучите общую информацию. "
   ]
  },
  {
   "cell_type": "code",
   "execution_count": 1,
   "metadata": {},
   "outputs": [
    {
     "name": "stdout",
     "output_type": "stream",
     "text": [
      "Original size: (23699, 22)\n"
     ]
    }
   ],
   "source": [
    "import pandas as pd\n",
    "import matplotlib.pyplot as plt\n",
    "df = pd.read_csv('/datasets/real_estate_data.csv', sep='\\t')\n",
    "print('Original size:', df.shape)"
   ]
  },
  {
   "cell_type": "code",
   "execution_count": 2,
   "metadata": {},
   "outputs": [
    {
     "name": "stdout",
     "output_type": "stream",
     "text": [
      "<class 'pandas.core.frame.DataFrame'>\n",
      "RangeIndex: 23699 entries, 0 to 23698\n",
      "Data columns (total 22 columns):\n",
      " #   Column                Non-Null Count  Dtype  \n",
      "---  ------                --------------  -----  \n",
      " 0   total_images          23699 non-null  int64  \n",
      " 1   last_price            23699 non-null  float64\n",
      " 2   total_area            23699 non-null  float64\n",
      " 3   first_day_exposition  23699 non-null  object \n",
      " 4   rooms                 23699 non-null  int64  \n",
      " 5   ceiling_height        14504 non-null  float64\n",
      " 6   floors_total          23613 non-null  float64\n",
      " 7   living_area           21796 non-null  float64\n",
      " 8   floor                 23699 non-null  int64  \n",
      " 9   is_apartment          2775 non-null   object \n",
      " 10  studio                23699 non-null  bool   \n",
      " 11  open_plan             23699 non-null  bool   \n",
      " 12  kitchen_area          21421 non-null  float64\n",
      " 13  balcony               12180 non-null  float64\n",
      " 14  locality_name         23650 non-null  object \n",
      " 15  airports_nearest      18157 non-null  float64\n",
      " 16  cityCenters_nearest   18180 non-null  float64\n",
      " 17  parks_around3000      18181 non-null  float64\n",
      " 18  parks_nearest         8079 non-null   float64\n",
      " 19  ponds_around3000      18181 non-null  float64\n",
      " 20  ponds_nearest         9110 non-null   float64\n",
      " 21  days_exposition       20518 non-null  float64\n",
      "dtypes: bool(2), float64(14), int64(3), object(3)\n",
      "memory usage: 3.7+ MB\n",
      "None\n"
     ]
    },
    {
     "data": {
      "text/html": [
       "<div>\n",
       "<style scoped>\n",
       "    .dataframe tbody tr th:only-of-type {\n",
       "        vertical-align: middle;\n",
       "    }\n",
       "\n",
       "    .dataframe tbody tr th {\n",
       "        vertical-align: top;\n",
       "    }\n",
       "\n",
       "    .dataframe thead th {\n",
       "        text-align: right;\n",
       "    }\n",
       "</style>\n",
       "<table border=\"1\" class=\"dataframe\">\n",
       "  <thead>\n",
       "    <tr style=\"text-align: right;\">\n",
       "      <th></th>\n",
       "      <th>total_images</th>\n",
       "      <th>last_price</th>\n",
       "      <th>total_area</th>\n",
       "      <th>first_day_exposition</th>\n",
       "      <th>rooms</th>\n",
       "      <th>ceiling_height</th>\n",
       "      <th>floors_total</th>\n",
       "      <th>living_area</th>\n",
       "      <th>floor</th>\n",
       "      <th>is_apartment</th>\n",
       "      <th>...</th>\n",
       "      <th>kitchen_area</th>\n",
       "      <th>balcony</th>\n",
       "      <th>locality_name</th>\n",
       "      <th>airports_nearest</th>\n",
       "      <th>cityCenters_nearest</th>\n",
       "      <th>parks_around3000</th>\n",
       "      <th>parks_nearest</th>\n",
       "      <th>ponds_around3000</th>\n",
       "      <th>ponds_nearest</th>\n",
       "      <th>days_exposition</th>\n",
       "    </tr>\n",
       "  </thead>\n",
       "  <tbody>\n",
       "    <tr>\n",
       "      <th>0</th>\n",
       "      <td>20</td>\n",
       "      <td>13000000.0</td>\n",
       "      <td>108.0</td>\n",
       "      <td>2019-03-07T00:00:00</td>\n",
       "      <td>3</td>\n",
       "      <td>2.70</td>\n",
       "      <td>16.0</td>\n",
       "      <td>51.0</td>\n",
       "      <td>8</td>\n",
       "      <td>NaN</td>\n",
       "      <td>...</td>\n",
       "      <td>25.0</td>\n",
       "      <td>NaN</td>\n",
       "      <td>Санкт-Петербург</td>\n",
       "      <td>18863.0</td>\n",
       "      <td>16028.0</td>\n",
       "      <td>1.0</td>\n",
       "      <td>482.0</td>\n",
       "      <td>2.0</td>\n",
       "      <td>755.0</td>\n",
       "      <td>NaN</td>\n",
       "    </tr>\n",
       "    <tr>\n",
       "      <th>1</th>\n",
       "      <td>7</td>\n",
       "      <td>3350000.0</td>\n",
       "      <td>40.4</td>\n",
       "      <td>2018-12-04T00:00:00</td>\n",
       "      <td>1</td>\n",
       "      <td>NaN</td>\n",
       "      <td>11.0</td>\n",
       "      <td>18.6</td>\n",
       "      <td>1</td>\n",
       "      <td>NaN</td>\n",
       "      <td>...</td>\n",
       "      <td>11.0</td>\n",
       "      <td>2.0</td>\n",
       "      <td>посёлок Шушары</td>\n",
       "      <td>12817.0</td>\n",
       "      <td>18603.0</td>\n",
       "      <td>0.0</td>\n",
       "      <td>NaN</td>\n",
       "      <td>0.0</td>\n",
       "      <td>NaN</td>\n",
       "      <td>81.0</td>\n",
       "    </tr>\n",
       "    <tr>\n",
       "      <th>2</th>\n",
       "      <td>10</td>\n",
       "      <td>5196000.0</td>\n",
       "      <td>56.0</td>\n",
       "      <td>2015-08-20T00:00:00</td>\n",
       "      <td>2</td>\n",
       "      <td>NaN</td>\n",
       "      <td>5.0</td>\n",
       "      <td>34.3</td>\n",
       "      <td>4</td>\n",
       "      <td>NaN</td>\n",
       "      <td>...</td>\n",
       "      <td>8.3</td>\n",
       "      <td>0.0</td>\n",
       "      <td>Санкт-Петербург</td>\n",
       "      <td>21741.0</td>\n",
       "      <td>13933.0</td>\n",
       "      <td>1.0</td>\n",
       "      <td>90.0</td>\n",
       "      <td>2.0</td>\n",
       "      <td>574.0</td>\n",
       "      <td>558.0</td>\n",
       "    </tr>\n",
       "    <tr>\n",
       "      <th>3</th>\n",
       "      <td>0</td>\n",
       "      <td>64900000.0</td>\n",
       "      <td>159.0</td>\n",
       "      <td>2015-07-24T00:00:00</td>\n",
       "      <td>3</td>\n",
       "      <td>NaN</td>\n",
       "      <td>14.0</td>\n",
       "      <td>NaN</td>\n",
       "      <td>9</td>\n",
       "      <td>NaN</td>\n",
       "      <td>...</td>\n",
       "      <td>NaN</td>\n",
       "      <td>0.0</td>\n",
       "      <td>Санкт-Петербург</td>\n",
       "      <td>28098.0</td>\n",
       "      <td>6800.0</td>\n",
       "      <td>2.0</td>\n",
       "      <td>84.0</td>\n",
       "      <td>3.0</td>\n",
       "      <td>234.0</td>\n",
       "      <td>424.0</td>\n",
       "    </tr>\n",
       "    <tr>\n",
       "      <th>4</th>\n",
       "      <td>2</td>\n",
       "      <td>10000000.0</td>\n",
       "      <td>100.0</td>\n",
       "      <td>2018-06-19T00:00:00</td>\n",
       "      <td>2</td>\n",
       "      <td>3.03</td>\n",
       "      <td>14.0</td>\n",
       "      <td>32.0</td>\n",
       "      <td>13</td>\n",
       "      <td>NaN</td>\n",
       "      <td>...</td>\n",
       "      <td>41.0</td>\n",
       "      <td>NaN</td>\n",
       "      <td>Санкт-Петербург</td>\n",
       "      <td>31856.0</td>\n",
       "      <td>8098.0</td>\n",
       "      <td>2.0</td>\n",
       "      <td>112.0</td>\n",
       "      <td>1.0</td>\n",
       "      <td>48.0</td>\n",
       "      <td>121.0</td>\n",
       "    </tr>\n",
       "  </tbody>\n",
       "</table>\n",
       "<p>5 rows × 22 columns</p>\n",
       "</div>"
      ],
      "text/plain": [
       "   total_images  last_price  total_area first_day_exposition  rooms  \\\n",
       "0            20  13000000.0       108.0  2019-03-07T00:00:00      3   \n",
       "1             7   3350000.0        40.4  2018-12-04T00:00:00      1   \n",
       "2            10   5196000.0        56.0  2015-08-20T00:00:00      2   \n",
       "3             0  64900000.0       159.0  2015-07-24T00:00:00      3   \n",
       "4             2  10000000.0       100.0  2018-06-19T00:00:00      2   \n",
       "\n",
       "   ceiling_height  floors_total  living_area  floor is_apartment  ...  \\\n",
       "0            2.70          16.0         51.0      8          NaN  ...   \n",
       "1             NaN          11.0         18.6      1          NaN  ...   \n",
       "2             NaN           5.0         34.3      4          NaN  ...   \n",
       "3             NaN          14.0          NaN      9          NaN  ...   \n",
       "4            3.03          14.0         32.0     13          NaN  ...   \n",
       "\n",
       "   kitchen_area  balcony    locality_name  airports_nearest  \\\n",
       "0          25.0      NaN  Санкт-Петербург           18863.0   \n",
       "1          11.0      2.0   посёлок Шушары           12817.0   \n",
       "2           8.3      0.0  Санкт-Петербург           21741.0   \n",
       "3           NaN      0.0  Санкт-Петербург           28098.0   \n",
       "4          41.0      NaN  Санкт-Петербург           31856.0   \n",
       "\n",
       "  cityCenters_nearest  parks_around3000  parks_nearest  ponds_around3000  \\\n",
       "0             16028.0               1.0          482.0               2.0   \n",
       "1             18603.0               0.0            NaN               0.0   \n",
       "2             13933.0               1.0           90.0               2.0   \n",
       "3              6800.0               2.0           84.0               3.0   \n",
       "4              8098.0               2.0          112.0               1.0   \n",
       "\n",
       "   ponds_nearest  days_exposition  \n",
       "0          755.0              NaN  \n",
       "1            NaN             81.0  \n",
       "2          574.0            558.0  \n",
       "3          234.0            424.0  \n",
       "4           48.0            121.0  \n",
       "\n",
       "[5 rows x 22 columns]"
      ]
     },
     "execution_count": 2,
     "metadata": {},
     "output_type": "execute_result"
    },
    {
     "data": {
      "image/png": "[encoded data removed]",
      "text/plain": [
       "<Figure size 720x1080 with 20 Axes>"
      ]
     },
     "metadata": {
      "needs_background": "light"
     },
     "output_type": "display_data"
    }
   ],
   "source": [
    "print(df.info())\n",
    "df.hist(figsize=(10, 15))\n",
    "df.head(5)"
   ]
  },
  {
   "cell_type": "markdown",
   "metadata": {},
   "source": [
    "В нашем распоряжении данные сервиса Яндекс Недвижимость — архив объявлений за несколько лет о продаже квартир в Санкт-Петербурге и соседних населённых пунктах.\n",
    "Задача — выполнить предобработку данных и изучить их, чтобы найти интересные особенности и зависимости, которые существуют на рынке недвижимости.\n",
    "О каждой квартире в базе содержится два типа данных: добавленные пользователем и картографические."
   ]
  },
  {
   "cell_type": "markdown",
   "metadata": {},
   "source": [
    "## Предобработка данных"
   ]
  },
  {
   "cell_type": "markdown",
   "metadata": {},
   "source": [
    " ### Обработка пропусков\n",
    " "
   ]
  },
  {
   "cell_type": "code",
   "execution_count": 3,
   "metadata": {},
   "outputs": [
    {
     "data": {
      "text/plain": [
       "total_images                0\n",
       "last_price                  0\n",
       "total_area                  0\n",
       "first_day_exposition        0\n",
       "rooms                       0\n",
       "ceiling_height           9195\n",
       "floors_total               86\n",
       "living_area              1903\n",
       "floor                       0\n",
       "is_apartment            20924\n",
       "studio                      0\n",
       "open_plan                   0\n",
       "kitchen_area             2278\n",
       "balcony                 11519\n",
       "locality_name              49\n",
       "airports_nearest         5542\n",
       "cityCenters_nearest      5519\n",
       "parks_around3000         5518\n",
       "parks_nearest           15620\n",
       "ponds_around3000         5518\n",
       "ponds_nearest           14589\n",
       "days_exposition          3181\n",
       "dtype: int64"
      ]
     },
     "execution_count": 3,
     "metadata": {},
     "output_type": "execute_result"
    }
   ],
   "source": [
    "df.isna().sum() #ищем пропуски"
   ]
  },
  {
   "cell_type": "markdown",
   "metadata": {},
   "source": [
    "### Почему могут возникать пропуски?\n",
    "Пропуски в столбцах df могут возникать по разным причинам, в зависимости от источника и способа сбора данных. Например, некоторые возможные причины пропусков в этих столбцах могут быть:\n",
    "\n",
    "**ceiling_height**: отсутствие измерения или записи высоты потолка в помещении, различные стандарты измерения в разных регионах или странах, ошибки при вводе или передаче данных.\n",
    "\n"
   ]
  },
  {
   "cell_type": "code",
   "execution_count": 4,
   "metadata": {},
   "outputs": [],
   "source": [
    "df['ceiling_height'].corr(df['last_price'])# выясняем корреляцию, чтобы понять как заполнять пропуски, она ровна 0.08\n",
    "df['ceiling_height']= df['ceiling_height'].fillna(df['ceiling_height'].median())\n"
   ]
  },
  {
   "cell_type": "markdown",
   "metadata": {},
   "source": [
    "**floors_total**: отсутствие информации о количестве этажей в здании, неоднозначность определения этажности для некоторых типов зданий (например, подвалы, чердаки, мансарды), ошибки при вводе или передаче данных."
   ]
  },
  {
   "cell_type": "code",
   "execution_count": 5,
   "metadata": {},
   "outputs": [],
   "source": [
    "df['floors_total']= df['floors_total'].fillna(df['floors_total'].mean())#Пропуски информации о количестве этажей заменяем на среднее значение"
   ]
  },
  {
   "cell_type": "markdown",
   "metadata": {},
   "source": [
    "**living_area**: отсутствие измерения или записи жилой площади в помещении, различные способы расчета жилой площади в разных регионах или странах (например, с учетом или без учета лоджий, балконов, коридоров), ошибки при вводе или передаче данных.\n"
   ]
  },
  {
   "cell_type": "code",
   "execution_count": 6,
   "metadata": {},
   "outputs": [],
   "source": [
    "df['total_area'].corr(df['living_area'])# выясняем корреляцию, чтобы понять как заполнять пропуски, она равна 0.9\n",
    "#значит заполняем пропуски в living_area не средним значением,но значением прямо порциональным total_area\n",
    "\n",
    "#считаем какой коэффицент соотношения living_area к total_area\n",
    "ratio = df ['living_area'].sum()/df['total_area'].sum()\n",
    "# определим функцию для заполнения пропусков\n",
    "def fill_living_area (row):\n",
    "  # если living_area не NaN, то возвращаем его же\n",
    "  if not pd.isna (row ['living_area']):\n",
    "    return row ['living_area']\n",
    "  # иначе возвращаем значение по формуле\n",
    "  else:\n",
    "    return row ['total_area'] * ratio # здесь используем рассчитанное соотношение\n",
    "\n",
    "df['living_area'] = df.apply (fill_living_area, axis = 1)"
   ]
  },
  {
   "cell_type": "markdown",
   "metadata": {},
   "source": [
    "**kitchen_area**: отсутствие измерения или записи площади кухни в помещении, различные способы расчета площади кухни в разных регионах или странах (например, с учетом или без учета стен, мебели, техники), ошибки при вводе или передаче данных.\n"
   ]
  },
  {
   "cell_type": "code",
   "execution_count": 7,
   "metadata": {},
   "outputs": [],
   "source": [
    "df['kitchen_area'].corr(df['total_area'])# выясняем корреляцию, чтобы понять как заполнять пропуски, она ровна 0.6. Корреляция недостаточная для однозначных выводов, но так как пропусков не так много - заполняем по тому же принципу что и в последний раз.\n",
    "\n",
    "#считаем какой коэффицент соотношения kitchen_area к total_area\n",
    "ratio = df ['kitchen_area'].sum()/df['total_area'].sum()\n",
    "# определим функцию для заполнения пропусков\n",
    "def fill_kitchen_area (row):\n",
    "  # если kitchen_area не NaN, то возвращаем его же\n",
    "  if not pd.isna (row ['kitchen_area']):\n",
    "    return row ['kitchen_area']\n",
    "  # иначе возвращаем значение по формуле\n",
    "    else:\n",
    "    return row ['total_area'] * ratio # здесь используем рассчитанное соотношение\n",
    "\n",
    "df['kitchen_area'] = df.apply (fill_kitchen_area, axis = 1)"
   ]
  },
  {
   "cell_type": "markdown",
   "metadata": {},
   "source": [
    "**is_apartment**: отсутствие информации о том, является ли помещение апартаментом или нет, неясность или разночтение понятия апартамента в разных регионах или странах, ошибки при вводе или передаче данных.\n"
   ]
  },
  {
   "cell_type": "markdown",
   "metadata": {},
   "source": [
    "рассмотрим столбец со значениям is_apartment - помимо того что из 24000 строчек, только 50 отмечены как апартаменты, а 30 из них имеют больше одной комнаты - делать какие либо выводы не надежно"
   ]
  },
  {
   "cell_type": "code",
   "execution_count": 8,
   "metadata": {},
   "outputs": [
    {
     "data": {
      "text/plain": [
       "30"
      ]
     },
     "execution_count": 8,
     "metadata": {},
     "output_type": "execute_result"
    }
   ],
   "source": [
    "df.query('is_apartment == True and rooms>1')['last_price'].count()\n"
   ]
  },
  {
   "cell_type": "code",
   "execution_count": 9,
   "metadata": {},
   "outputs": [],
   "source": [
    "df['is_apartment']= df['is_apartment'].fillna(df['is_apartment']==False)"
   ]
  },
  {
   "cell_type": "markdown",
   "metadata": {},
   "source": [
    "balcony: отсутствие информации о наличии и количестве балконов в помещении, неоднозначность определения балкона для некоторых типов помещений (например, лоджия, терраса, французский балкон), ошибки при вводе или передаче данных."
   ]
  },
  {
   "cell_type": "code",
   "execution_count": 10,
   "metadata": {},
   "outputs": [],
   "source": [
    "df['balcony']=df['balcony'].fillna(df['balcony']==0)"
   ]
  },
  {
   "cell_type": "markdown",
   "metadata": {},
   "source": [
    "locality_name: отсутствие информации о населенном пункте, где расположено помещение, неоднозначность или совпадение названий населенных пунктов в разных регионах или странах, ошибки при вводе или передаче данных."
   ]
  },
  {
   "cell_type": "markdown",
   "metadata": {},
   "source": [
    "### Изменение типа данных"
   ]
  },
  {
   "cell_type": "code",
   "execution_count": 11,
   "metadata": {},
   "outputs": [
    {
     "data": {
      "text/plain": [
       "total_images              int64\n",
       "last_price              float64\n",
       "total_area              float64\n",
       "first_day_exposition     object\n",
       "rooms                     int64\n",
       "ceiling_height          float64\n",
       "floors_total            float64\n",
       "living_area             float64\n",
       "floor                     int64\n",
       "is_apartment               bool\n",
       "studio                     bool\n",
       "open_plan                  bool\n",
       "kitchen_area            float64\n",
       "balcony                  object\n",
       "locality_name            object\n",
       "airports_nearest        float64\n",
       "cityCenters_nearest     float64\n",
       "parks_around3000        float64\n",
       "parks_nearest           float64\n",
       "ponds_around3000        float64\n",
       "ponds_nearest           float64\n",
       "days_exposition         float64\n",
       "dtype: object"
      ]
     },
     "execution_count": 11,
     "metadata": {},
     "output_type": "execute_result"
    }
   ],
   "source": [
    "df.dtypes"
   ]
  },
  {
   "cell_type": "markdown",
   "metadata": {},
   "source": [
    "\n",
    "Нужно изменить тип данных в следующих столбцах:\n",
    "\n",
    "floors_total содержит количество этажей в здании, которое является целым числом. Если он имел тип float, то можно было бы преобразовать его в тип int для удобства работы с данными и экономии памяти.\n",
    "\n",
    "is_apartment столбец содержит логические значения (True или False), которые указывают, является ли помещение апартаментом или нет. Если он имел тип object (строка), то можно было бы преобразовать его в тип bool для корректности анализа данных и избежания ошибок при выполнении логических операций или подсчетов с этим столбцом.\n",
    "\n",
    "first_day_exposition столбец содержит даты и время публикации объявлений о продаже жилья. Если он имел тип object (строка), то можно было бы преобразовать его в тип datetime с помощью функции pd.to_datetime(), которая принимает строку и возвращает объект datetime. Это позволит использовать специальные методы и атрибуты для работы с датами и временем, например, извлекать год, месяц, день недели или час из даты или вычислять разницу между датами.\n",
    "\n",
    "last_price этот столбец содержит цены на жилье в рублях, которые являются целыми числами. Нет необходимости хранить их как float, так как это занимает больше памяти и может приводить к неточностям при округлении. Можно преобразовать этот столбец в тип int.\n",
    "\n",
    "balcony этот столбец содержит количество балконов в помещении, которые также являются целыми числами. Нет смысла хранить их как object (строку), так как это затрудняет выполнение арифметических операций и сравнений с этим столбцом. Можно преобразовать этот столбец в тип int.\n"
   ]
  },
  {
   "cell_type": "code",
   "execution_count": 12,
   "metadata": {},
   "outputs": [],
   "source": [
    "df['floors_total'] = df['floors_total'].astype(int)\n",
    "df['is_apartment'] = df['is_apartment'].astype(bool)\n",
    "df['balcony'] = df['balcony'].astype(int)\n",
    "df['last_price'] = df['last_price'].astype(int)\n",
    "df['first_day_exposition'] = pd.to_datetime(df['first_day_exposition'])"
   ]
  },
  {
   "cell_type": "markdown",
   "metadata": {},
   "source": [
    "### Удаление дубликатов\n"
   ]
  },
  {
   "cell_type": "code",
   "execution_count": 13,
   "metadata": {},
   "outputs": [
    {
     "name": "stdout",
     "output_type": "stream",
     "text": [
      "364\n",
      "['Санкт-Петербург' 'посёлок Шушары' 'городской посёлок Янино-1'\n",
      " 'посёлок Парголово' 'посёлок Мурино' 'Ломоносов' 'Сертолово' 'Петергоф'\n",
      " 'Пушкин' 'деревня Кудрово' 'Коммунар' 'Колпино'\n",
      " 'поселок городского типа Красный Бор' 'Гатчина' 'поселок Мурино'\n",
      " 'деревня Фёдоровское' 'Выборг' 'Кронштадт' 'Кировск'\n",
      " 'деревня Новое Девяткино' 'посёлок Металлострой'\n",
      " 'посёлок городского типа Лебяжье' 'посёлок городского типа Сиверский'\n",
      " 'поселок Молодцово' 'поселок городского типа Кузьмоловский'\n",
      " 'садовое товарищество Новая Ропша' 'Павловск' 'деревня Пикколово'\n",
      " 'Всеволожск' 'Волхов' 'Кингисепп' 'Приозерск' 'Сестрорецк'\n",
      " 'деревня Куттузи' 'посёлок Аннино' 'поселок городского типа Ефимовский'\n",
      " 'посёлок Плодовое' 'деревня Заклинье' 'поселок Торковичи'\n",
      " 'поселок Первомайское' 'Красное Село' 'посёлок Понтонный' 'Сясьстрой'\n",
      " 'деревня Старая' 'деревня Лесколово' 'посёлок Новый Свет' 'Сланцы'\n",
      " 'село Путилово' 'Ивангород' 'Мурино' 'Шлиссельбург' 'Никольское'\n",
      " 'Зеленогорск' 'Сосновый Бор' 'поселок Новый Свет' 'деревня Оржицы'\n",
      " 'деревня Кальтино' 'Кудрово' 'поселок Романовка' 'посёлок Бугры'\n",
      " 'поселок Бугры' 'поселок городского типа Рощино' 'Кириши' 'Луга'\n",
      " 'Волосово' 'Отрадное' 'село Павлово' 'поселок Оредеж' 'село Копорье'\n",
      " 'посёлок городского типа Красный Бор' 'посёлок Молодёжное' 'Тихвин'\n",
      " 'посёлок Победа' 'деревня Нурма' 'поселок городского типа Синявино'\n",
      " 'Тосно' 'посёлок городского типа Кузьмоловский' 'посёлок Стрельна'\n",
      " 'Бокситогорск' 'посёлок Александровская' 'деревня Лопухинка' 'Пикалёво'\n",
      " 'поселок Терволово' 'поселок городского типа Советский' 'Подпорожье'\n",
      " 'посёлок Петровское' 'посёлок городского типа Токсово' 'поселок Сельцо'\n",
      " 'посёлок городского типа Вырица' 'деревня Кипень' 'деревня Келози'\n",
      " 'деревня Вартемяги' 'посёлок Тельмана' 'поселок Севастьяново'\n",
      " 'городской поселок Большая Ижора' nan 'городской посёлок Павлово'\n",
      " 'деревня Агалатово' 'посёлок Новогорелово'\n",
      " 'городской посёлок Лесогорский' 'деревня Лаголово' 'поселок Цвелодубово'\n",
      " 'поселок городского типа Рахья' 'поселок городского типа Вырица'\n",
      " 'деревня Белогорка' 'поселок Заводской' 'городской посёлок Новоселье'\n",
      " 'деревня Большие Колпаны' 'деревня Горбунки' 'деревня Батово'\n",
      " 'деревня Заневка' 'деревня Иссад' 'Приморск'\n",
      " 'городской посёлок Фёдоровское' 'деревня Мистолово' 'Новая Ладога'\n",
      " 'поселок Зимитицы' 'поселок Барышево' 'деревня Разметелево'\n",
      " 'поселок городского типа имени Свердлова' 'деревня Пеники'\n",
      " 'поселок Рябово' 'деревня Пудомяги' 'поселок станции Корнево'\n",
      " 'деревня Низино' 'деревня Бегуницы' 'посёлок Поляны'\n",
      " 'городской посёлок Мга' 'поселок Елизаветино'\n",
      " 'посёлок городского типа Кузнечное' 'деревня Колтуши'\n",
      " 'поселок Запорожское' 'посёлок городского типа Рощино'\n",
      " 'деревня Гостилицы' 'деревня Малое Карлино' 'посёлок Мичуринское'\n",
      " 'посёлок городского типа имени Морозова' 'посёлок Песочный'\n",
      " 'посёлок Сосново' 'деревня Аро' 'поселок Ильичёво'\n",
      " 'посёлок городского типа Тайцы' 'деревня Малое Верево' 'деревня Извара'\n",
      " 'поселок станции Вещево' 'село Паша' 'деревня Калитино'\n",
      " 'посёлок городского типа Ульяновка' 'деревня Чудской Бор'\n",
      " 'поселок городского типа Дубровка' 'деревня Мины' 'поселок Войсковицы'\n",
      " 'посёлок городского типа имени Свердлова' 'деревня Коркино'\n",
      " 'посёлок Ропша' 'поселок городского типа Приладожский' 'посёлок Щеглово'\n",
      " 'посёлок Гаврилово' 'Лодейное Поле' 'деревня Рабитицы'\n",
      " 'поселок городского типа Никольский' 'деревня Кузьмолово'\n",
      " 'деревня Малые Колпаны' 'поселок Тельмана' 'посёлок Петро-Славянка'\n",
      " 'городской посёлок Назия' 'посёлок Репино' 'посёлок Ильичёво'\n",
      " 'поселок Углово' 'поселок Старая Малукса' 'садовое товарищество Рахья'\n",
      " 'поселок Аннино' 'поселок Победа' 'деревня Меньково'\n",
      " 'деревня Старые Бегуницы' 'посёлок Сапёрный' 'поселок Семрино'\n",
      " 'поселок Гаврилово' 'поселок Глажево' 'поселок Кобринское'\n",
      " 'деревня Гарболово' 'деревня Юкки' 'поселок станции Приветнинское'\n",
      " 'деревня Мануйлово' 'деревня Пчева' 'поселок Поляны' 'поселок Цвылёво'\n",
      " 'поселок Мельниково' 'посёлок Пудость' 'посёлок Усть-Луга' 'Светогорск'\n",
      " 'Любань' 'поселок Селезнёво' 'поселок городского типа Рябово'\n",
      " 'Каменногорск' 'деревня Кривко' 'поселок Глебычево' 'деревня Парицы'\n",
      " 'поселок Жилпосёлок' 'посёлок городского типа Мга'\n",
      " 'городской поселок Янино-1' 'посёлок Войскорово' 'село Никольское'\n",
      " 'посёлок Терволово' 'поселок Стеклянный' 'посёлок городского типа Важины'\n",
      " 'посёлок Мыза-Ивановка' 'село Русско-Высоцкое'\n",
      " 'поселок городского типа Лебяжье' 'поселок городского типа Форносово'\n",
      " 'село Старая Ладога' 'поселок Житково' 'городской посёлок Виллози'\n",
      " 'деревня Лампово' 'деревня Шпаньково' 'деревня Лаврики' 'посёлок Сумино'\n",
      " 'посёлок Возрождение' 'деревня Старосиверская' 'посёлок Кикерино'\n",
      " 'поселок Возрождение' 'деревня Старое Хинколово' 'посёлок Пригородный'\n",
      " 'посёлок Торфяное' 'городской посёлок Будогощь' 'поселок Суходолье'\n",
      " 'поселок Красная Долина' 'деревня Хапо-Ое'\n",
      " 'поселок городского типа Дружная Горка' 'поселок Лисий Нос'\n",
      " 'деревня Яльгелево' 'посёлок Стеклянный' 'село Рождествено'\n",
      " 'деревня Старополье' 'посёлок Левашово' 'деревня Сяськелево'\n",
      " 'деревня Камышовка'\n",
      " 'садоводческое некоммерческое товарищество Лесная Поляна'\n",
      " 'деревня Хязельки' 'поселок Жилгородок' 'посёлок городского типа Павлово'\n",
      " 'деревня Ялгино' 'поселок Новый Учхоз' 'городской посёлок Рощино'\n",
      " 'поселок Гончарово' 'поселок Почап' 'посёлок Сапёрное'\n",
      " 'посёлок Платформа 69-й километр' 'поселок Каложицы' 'деревня Фалилеево'\n",
      " 'деревня Пельгора' 'поселок городского типа Лесогорский'\n",
      " 'деревня Торошковичи' 'посёлок Белоостров' 'посёлок Алексеевка'\n",
      " 'поселок Серебрянский' 'поселок Лукаши' 'поселок Петровское'\n",
      " 'деревня Щеглово' 'поселок Мичуринское' 'деревня Тарасово'\n",
      " 'поселок Кингисеппский' 'посёлок при железнодорожной станции Вещево'\n",
      " 'поселок Ушаки' 'деревня Котлы' 'деревня Сижно' 'деревня Торосово'\n",
      " 'посёлок Форт Красная Горка' 'поселок городского типа Токсово'\n",
      " 'деревня Новолисино' 'посёлок станции Громово' 'деревня Глинка'\n",
      " 'посёлок Мельниково' 'поселок городского типа Назия'\n",
      " 'деревня Старая Пустошь' 'поселок Коммунары' 'поселок Починок'\n",
      " 'посёлок городского типа Вознесенье' 'деревня Разбегаево'\n",
      " 'посёлок городского типа Рябово' 'поселок Гладкое'\n",
      " 'посёлок при железнодорожной станции Приветнинское' 'поселок Тёсово-4'\n",
      " 'посёлок Жилгородок' 'деревня Бор' 'посёлок Коробицыно'\n",
      " 'деревня Большая Вруда' 'деревня Курковицы' 'посёлок Лисий Нос'\n",
      " 'городской посёлок Советский' 'посёлок Кобралово' 'деревня Суоранда'\n",
      " 'поселок Кобралово' 'поселок городского типа Кондратьево'\n",
      " 'коттеджный поселок Счастье' 'поселок Любань' 'деревня Реброво'\n",
      " 'деревня Зимитицы' 'деревня Тойворово' 'поселок Семиозерье'\n",
      " 'поселок Лесное' 'поселок Совхозный' 'поселок Усть-Луга'\n",
      " 'посёлок Ленинское' 'посёлок Суйда' 'посёлок городского типа Форносово'\n",
      " 'деревня Нижние Осельки' 'посёлок станции Свирь' 'поселок Перово'\n",
      " 'Высоцк' 'поселок Гарболово' 'село Шум' 'поселок Котельский'\n",
      " 'поселок станции Лужайка' 'деревня Большая Пустомержа'\n",
      " 'поселок Красносельское' 'деревня Вахнова Кара' 'деревня Пижма'\n",
      " 'коттеджный поселок Кивеннапа Север' 'поселок Коробицыно'\n",
      " 'поселок Ромашки' 'посёлок Перово' 'деревня Каськово' 'деревня Куровицы'\n",
      " 'посёлок Плоское' 'поселок Сумино'\n",
      " 'поселок городского типа Большая Ижора' 'поселок Кирпичное'\n",
      " 'деревня Ям-Тесово' 'деревня Раздолье' 'деревня Терпилицы'\n",
      " 'посёлок Шугозеро' 'деревня Ваганово' 'поселок Пушное'\n",
      " 'садовое товарищество Садко' 'посёлок Усть-Ижора' 'деревня Выскатка'\n",
      " 'городской посёлок Свирьстрой' 'поселок Громово' 'деревня Кисельня'\n",
      " 'посёлок Старая Малукса' 'деревня Трубников Бор' 'поселок Калитино'\n",
      " 'посёлок Высокоключевой' 'садовое товарищество Приладожский'\n",
      " 'посёлок Пансионат Зелёный Бор' 'деревня Ненимяки'\n",
      " 'поселок Пансионат Зелёный Бор' 'деревня Снегирёвка' 'деревня Рапполово'\n",
      " 'деревня Пустынка' 'поселок Рабитицы' 'деревня Большой Сабск'\n",
      " 'деревня Русско' 'деревня Лупполово' 'деревня Большое Рейзино'\n",
      " 'деревня Малая Романовка' 'поселок Дружноселье' 'поселок Пчевжа'\n",
      " 'поселок Володарское' 'деревня Нижняя' 'коттеджный посёлок Лесное'\n",
      " 'деревня Тихковицы' 'деревня Борисова Грива' 'посёлок Дзержинского']\n"
     ]
    },
    {
     "data": {
      "text/plain": [
       "Санкт-Петербург                                            15721\n",
       "посёлок Мурино                                               522\n",
       "посёлок Шушары                                               440\n",
       "Всеволожск                                                   398\n",
       "Пушкин                                                       369\n",
       "Колпино                                                      338\n",
       "посёлок Парголово                                            327\n",
       "Гатчина                                                      307\n",
       "деревня Кудрово                                              299\n",
       "Выборг                                                       237\n",
       "Петергоф                                                     201\n",
       "Сестрорецк                                                   183\n",
       "Красное Село                                                 178\n",
       "Кудрово                                                      173\n",
       "деревня Новое Девяткино                                      144\n",
       "Сертолово                                                    142\n",
       "Ломоносов                                                    133\n",
       "Кириши                                                       125\n",
       "Сланцы                                                       112\n",
       "Волхов                                                       111\n",
       "Кингисепп                                                    104\n",
       "Тосно                                                        104\n",
       "Кронштадт                                                     96\n",
       "Никольское                                                    93\n",
       "Коммунар                                                      89\n",
       "Сосновый Бор                                                  87\n",
       "Кировск                                                       84\n",
       "Отрадное                                                      80\n",
       "посёлок Бугры                                                 69\n",
       "посёлок Металлострой                                          66\n",
       "Приозерск                                                     66\n",
       "деревня Старая                                                64\n",
       "городской посёлок Янино-1                                     61\n",
       "Шлиссельбург                                                  57\n",
       "Луга                                                          56\n",
       "Тихвин                                                        49\n",
       "поселок Бугры                                                 45\n",
       "посёлок Стрельна                                              44\n",
       "посёлок Тельмана                                              39\n",
       "Павловск                                                      38\n",
       "Волосово                                                      36\n",
       "поселок Романовка                                             36\n",
       "Мурино                                                        34\n",
       "поселок Мурино                                                34\n",
       "посёлок городского типа Сиверский                             29\n",
       "Ивангород                                                     28\n",
       "городской посёлок Новоселье                                   28\n",
       "городской посёлок Мга                                         27\n",
       "поселок городского типа имени Свердлова                       25\n",
       "Сясьстрой                                                     24\n",
       "Зеленогорск                                                   24\n",
       "посёлок Щеглово                                               23\n",
       "посёлок городского типа Кузьмоловский                         22\n",
       "поселок городского типа Синявино                              21\n",
       "Лодейное Поле                                                 20\n",
       "посёлок Новогорелово                                          20\n",
       "деревня Лесколово                                             20\n",
       "посёлок Понтонный                                             20\n",
       "деревня Вартемяги                                             20\n",
       "поселок городского типа Рощино                                19\n",
       "Подпорожье                                                    19\n",
       "посёлок Сосново                                               18\n",
       "Пикалёво                                                      18\n",
       "посёлок Новый Свет                                            17\n",
       "деревня Бегуницы                                              17\n",
       "посёлок городского типа имени Морозова                        17\n",
       "Бокситогорск                                                  16\n",
       "посёлок городского типа Токсово                               16\n",
       "деревня Большие Колпаны                                       16\n",
       "городской поселок Большая Ижора                               16\n",
       "городской посёлок Назия                                       15\n",
       "посёлок городского типа Рощино                                15\n",
       "поселок городского типа Дубровка                              15\n",
       "поселок городского типа Рахья                                 15\n",
       "деревня Горбунки                                              15\n",
       "Новая Ладога                                                  14\n",
       "поселок городского типа Кузьмоловский                         13\n",
       "деревня Гарболово                                             13\n",
       "Каменногорск                                                  13\n",
       "посёлок городского типа Кузнечное                             13\n",
       "посёлок городского типа Ульяновка                             13\n",
       "поселок Елизаветино                                           13\n",
       "поселок городского типа Вырица                                12\n",
       "деревня Белогорка                                             11\n",
       "Светогорск                                                    11\n",
       "деревня Гостилицы                                             11\n",
       "деревня Мистолово                                             11\n",
       "посёлок городского типа Лебяжье                               11\n",
       "деревня Малое Верево                                          11\n",
       "деревня Нурма                                                 11\n",
       "посёлок городского типа имени Свердлова                       11\n",
       "посёлок Аннино                                                11\n",
       "деревня Колтуши                                               11\n",
       "поселок Войсковицы                                            10\n",
       "посёлок городского типа Вырица                                10\n",
       "деревня Лаголово                                              10\n",
       "деревня Сяськелево                                            10\n",
       "деревня Низино                                                10\n",
       "деревня Оржицы                                                 9\n",
       "деревня Малое Карлино                                          9\n",
       "село Русско-Высоцкое                                           9\n",
       "поселок Сельцо                                                 9\n",
       "посёлок Пудость                                                9\n",
       "поселок городского типа Приладожский                           9\n",
       "поселок городского типа Советский                              9\n",
       "деревня Батово                                                 9\n",
       "поселок Молодцово                                              9\n",
       "городской посёлок Павлово                                      9\n",
       "Приморск                                                       8\n",
       "поселок Суходолье                                              8\n",
       "Любань                                                         8\n",
       "поселок Первомайское                                           8\n",
       "поселок Запорожское                                            8\n",
       "деревня Фёдоровское                                            8\n",
       "городской посёлок Фёдоровское                                  7\n",
       "городской поселок Янино-1                                      7\n",
       "деревня Калитино                                               7\n",
       "деревня Кузьмолово                                             7\n",
       "деревня Куттузи                                                7\n",
       "деревня Извара                                                 7\n",
       "поселок городского типа Никольский                             7\n",
       "поселок Углово                                                 7\n",
       "деревня Кальтино                                               7\n",
       "село Павлово                                                   7\n",
       "деревня Кипень                                                 7\n",
       "деревня Малые Колпаны                                          7\n",
       "посёлок Сапёрный                                               6\n",
       "деревня Лопухинка                                              6\n",
       "посёлок городского типа Важины                                 6\n",
       "деревня Пеники                                                 6\n",
       "поселок Кобринское                                             6\n",
       "деревня Лампово                                                6\n",
       "поселок Новый Учхоз                                            6\n",
       "поселок Ушаки                                                  6\n",
       "деревня Яльгелево                                              6\n",
       "посёлок городского типа Мга                                    6\n",
       "посёлок Ильичёво                                               6\n",
       "деревня Заневка                                                6\n",
       "посёлок Мичуринское                                            6\n",
       "посёлок городского типа Тайцы                                  6\n",
       "деревня Пудомяги                                               6\n",
       "поселок Семрино                                                5\n",
       "село Копорье                                                   5\n",
       "посёлок Молодёжное                                             5\n",
       "деревня Юкки                                                   5\n",
       "поселок городского типа Дружная Горка                          5\n",
       "поселок Аннино                                                 5\n",
       "посёлок Плодовое                                               5\n",
       "посёлок Кобралово                                              5\n",
       "городской посёлок Рощино                                       5\n",
       "посёлок Стеклянный                                             5\n",
       "поселок Глажево                                                5\n",
       "поселок городского типа Красный Бор                            5\n",
       "поселок Новый Свет                                             5\n",
       "поселок Селезнёво                                              5\n",
       "посёлок Войскорово                                             5\n",
       "поселок Мичуринское                                            5\n",
       "городской посёлок Будогощь                                     4\n",
       "посёлок Гаврилово                                              4\n",
       "посёлок Усть-Луга                                              4\n",
       "посёлок городского типа Форносово                              4\n",
       "поселок Цвелодубово                                            4\n",
       "поселок городского типа Лебяжье                                4\n",
       "деревня Парицы                                                 4\n",
       "деревня Агалатово                                              4\n",
       "посёлок Песочный                                               4\n",
       "поселок Кобралово                                              4\n",
       "Высоцк                                                         4\n",
       "поселок Гарболово                                              4\n",
       "посёлок Терволово                                              4\n",
       "деревня Разбегаево                                             4\n",
       "деревня Большая Вруда                                          4\n",
       "посёлок Суйда                                                  4\n",
       "поселок городского типа Токсово                                4\n",
       "деревня Разметелево                                            4\n",
       "поселок станции Вещево                                         4\n",
       "посёлок Торфяное                                               4\n",
       "деревня Келози                                                 4\n",
       "посёлок Кикерино                                               4\n",
       "посёлок Поляны                                                 4\n",
       "посёлок Репино                                                 4\n",
       "поселок Громово                                                3\n",
       "посёлок городского типа Красный Бор                            3\n",
       "поселок Заводской                                              3\n",
       "посёлок Петровское                                             3\n",
       "посёлок Пригородный                                            3\n",
       "деревня Заклинье                                               3\n",
       "поселок Победа                                                 3\n",
       "поселок Глебычево                                              3\n",
       "поселок Любань                                                 3\n",
       "городской посёлок Виллози                                      3\n",
       "деревня Старосиверская                                         3\n",
       "село Рождествено                                               3\n",
       "деревня Старополье                                             3\n",
       "посёлок станции Громово                                        3\n",
       "поселок Красная Долина                                         3\n",
       "поселок Оредеж                                                 3\n",
       "поселок городского типа Ефимовский                             3\n",
       "поселок Стеклянный                                             3\n",
       "деревня Ваганово                                               3\n",
       "деревня Торосово                                               3\n",
       "поселок Лукаши                                                 3\n",
       "посёлок Перово                                                 3\n",
       "поселок Котельский                                             3\n",
       "посёлок Победа                                                 3\n",
       "поселок Зимитицы                                               3\n",
       "деревня Торошковичи                                            3\n",
       "деревня Аро                                                    3\n",
       "поселок Мельниково                                             3\n",
       "поселок городского типа Лесогорский                            3\n",
       "поселок Торковичи                                              3\n",
       "посёлок Жилгородок                                             2\n",
       "село Путилово                                                  2\n",
       "деревня Выскатка                                               2\n",
       "деревня Мины                                                   2\n",
       "посёлок Лисий Нос                                              2\n",
       "поселок Пушное                                                 2\n",
       "деревня Ям-Тесово                                              2\n",
       "посёлок Старая Малукса                                         2\n",
       "поселок Барышево                                               2\n",
       "деревня Старые Бегуницы                                        2\n",
       "поселок Петровское                                             2\n",
       "деревня Коркино                                                2\n",
       "поселок Житково                                                2\n",
       "посёлок Сапёрное                                               2\n",
       "посёлок Возрождение                                            2\n",
       "поселок городского типа Назия                                  2\n",
       "городской посёлок Лесогорский                                  2\n",
       "поселок Рябово                                                 2\n",
       "деревня Старая Пустошь                                         2\n",
       "посёлок станции Свирь                                          2\n",
       "деревня Суоранда                                               2\n",
       "поселок Кингисеппский                                          2\n",
       "городской посёлок Советский                                    2\n",
       "деревня Бор                                                    2\n",
       "деревня Камышовка                                              2\n",
       "поселок станции Приветнинское                                  2\n",
       "деревня Ненимяки                                               2\n",
       "посёлок городского типа Вознесенье                             2\n",
       "поселок Ильичёво                                               2\n",
       "деревня Глинка                                                 2\n",
       "поселок Совхозный                                              2\n",
       "поселок Починок                                                2\n",
       "поселок Старая Малукса                                         2\n",
       "поселок Поляны                                                 2\n",
       "посёлок Усть-Ижора                                             2\n",
       "посёлок городского типа Павлово                                2\n",
       "посёлок Мельниково                                             2\n",
       "деревня Фалилеево                                              2\n",
       "посёлок Ленинское                                              2\n",
       "деревня Рабитицы                                               2\n",
       "поселок Серебрянский                                           2\n",
       "поселок Лесное                                                 2\n",
       "поселок Терволово                                              2\n",
       "деревня Тарасово                                               2\n",
       "поселок Тельмана                                               2\n",
       "село Паша                                                      2\n",
       "село Старая Ладога                                             2\n",
       "посёлок Александровская                                        2\n",
       "поселок городского типа Форносово                              2\n",
       "деревня Трубников Бор                                          1\n",
       "поселок Семиозерье                                             1\n",
       "садовое товарищество Приладожский                              1\n",
       "деревня Щеглово                                                1\n",
       "деревня Большое Рейзино                                        1\n",
       "деревня Снегирёвка                                             1\n",
       "деревня Малая Романовка                                        1\n",
       "деревня Каськово                                               1\n",
       "поселок Пчевжа                                                 1\n",
       "деревня Реброво                                                1\n",
       "посёлок Сумино                                                 1\n",
       "посёлок Форт Красная Горка                                     1\n",
       "посёлок Плоское                                                1\n",
       "поселок Лисий Нос                                              1\n",
       "деревня Большой Сабск                                          1\n",
       "деревня Пельгора                                               1\n",
       "поселок Коммунары                                              1\n",
       "деревня Русско                                                 1\n",
       "деревня Кисельня                                               1\n",
       "поселок Жилпосёлок                                             1\n",
       "деревня Шпаньково                                              1\n",
       "деревня Борисова Грива                                         1\n",
       "деревня Ялгино                                                 1\n",
       "деревня Рапполово                                              1\n",
       "деревня Тойворово                                              1\n",
       "деревня Новолисино                                             1\n",
       "поселок станции Корнево                                        1\n",
       "деревня Раздолье                                               1\n",
       "деревня Нижние Осельки                                         1\n",
       "деревня Пчева                                                  1\n",
       "деревня Котлы                                                  1\n",
       "деревня Тихковицы                                              1\n",
       "посёлок при железнодорожной станции Приветнинское              1\n",
       "поселок Дружноселье                                            1\n",
       "деревня Старое Хинколово                                       1\n",
       "посёлок Высокоключевой                                         1\n",
       "посёлок Платформа 69-й километр                                1\n",
       "поселок Кирпичное                                              1\n",
       "посёлок Мыза-Ивановка                                          1\n",
       "поселок городского типа Рябово                                 1\n",
       "поселок Почап                                                  1\n",
       "деревня Терпилицы                                              1\n",
       "посёлок Петро-Славянка                                         1\n",
       "деревня Большая Пустомержа                                     1\n",
       "поселок Тёсово-4                                               1\n",
       "деревня Пустынка                                               1\n",
       "поселок Володарское                                            1\n",
       "деревня Хязельки                                               1\n",
       "поселок Пансионат Зелёный Бор                                  1\n",
       "село Никольское                                                1\n",
       "поселок Красносельское                                         1\n",
       "деревня Мануйлово                                              1\n",
       "поселок Сумино                                                 1\n",
       "деревня Куровицы                                               1\n",
       "деревня Меньково                                               1\n",
       "деревня Лупполово                                              1\n",
       "садовое товарищество Садко                                     1\n",
       "деревня Лаврики                                                1\n",
       "поселок Рабитицы                                               1\n",
       "поселок городского типа Кондратьево                            1\n",
       "поселок Гончарово                                              1\n",
       "деревня Пижма                                                  1\n",
       "поселок Калитино                                               1\n",
       "посёлок Алексеевка                                             1\n",
       "поселок городского типа Большая Ижора                          1\n",
       "посёлок Ропша                                                  1\n",
       "деревня Иссад                                                  1\n",
       "деревня Зимитицы                                               1\n",
       "коттеджный поселок Счастье                                     1\n",
       "садовое товарищество Рахья                                     1\n",
       "поселок Гаврилово                                              1\n",
       "посёлок Левашово                                               1\n",
       "деревня Кривко                                                 1\n",
       "городской посёлок Свирьстрой                                   1\n",
       "посёлок Коробицыно                                             1\n",
       "деревня Вахнова Кара                                           1\n",
       "поселок Ромашки                                                1\n",
       "деревня Чудской Бор                                            1\n",
       "посёлок при железнодорожной станции Вещево                     1\n",
       "садовое товарищество Новая Ропша                               1\n",
       "поселок Жилгородок                                             1\n",
       "поселок Возрождение                                            1\n",
       "поселок Цвылёво                                                1\n",
       "деревня Пикколово                                              1\n",
       "посёлок Шугозеро                                               1\n",
       "поселок Коробицыно                                             1\n",
       "поселок Каложицы                                               1\n",
       "посёлок Дзержинского                                           1\n",
       "поселок Усть-Луга                                              1\n",
       "коттеджный поселок Кивеннапа Север                             1\n",
       "коттеджный посёлок Лесное                                      1\n",
       "деревня Хапо-Ое                                                1\n",
       "деревня Сижно                                                  1\n",
       "деревня Нижняя                                                 1\n",
       "деревня Курковицы                                              1\n",
       "посёлок городского типа Рябово                                 1\n",
       "садоводческое некоммерческое товарищество Лесная Поляна        1\n",
       "посёлок Пансионат Зелёный Бор                                  1\n",
       "поселок Перово                                                 1\n",
       "поселок станции Лужайка                                        1\n",
       "село Шум                                                       1\n",
       "посёлок Белоостров                                             1\n",
       "поселок Севастьяново                                           1\n",
       "поселок Гладкое                                                1\n",
       "Name: locality_name, dtype: int64"
      ]
     },
     "execution_count": 13,
     "metadata": {},
     "output_type": "execute_result"
    }
   ],
   "source": [
    "pd.set_option(\"display.max_rows\", None)\n",
    "print(df['locality_name'].nunique())\n",
    "print(df['locality_name'].unique())\n",
    "df['locality_name'].value_counts()"
   ]
  },
  {
   "cell_type": "markdown",
   "metadata": {},
   "source": [
    "- много дубликатов которые отличаются только е и ё \n",
    "- дубликаты с одинаковым почтовым индексом\n",
    "- дубликаты с незначительной разницей в названиях"
   ]
  },
  {
   "cell_type": "code",
   "execution_count": 14,
   "metadata": {},
   "outputs": [],
   "source": [
    "# определяем функцию, которая заменяет ё на е в строке\n",
    "df['locality_name'].fillna(\" \", inplace=True)\n",
    "def replace_yo(s):\n",
    "    return s.replace(\"ё\", \"е\")\n",
    "\n",
    "df['locality_name'] = df['locality_name'].apply(replace_yo)# применяем функцию к столбцу locality_name в датафрейме df\n"
   ]
  },
  {
   "cell_type": "code",
   "execution_count": 15,
   "metadata": {},
   "outputs": [
    {
     "data": {
      "text/plain": [
       "326"
      ]
     },
     "execution_count": 15,
     "metadata": {},
     "output_type": "execute_result"
    }
   ],
   "source": [
    "# Заменяем дубликаты на одинаковые названия\n",
    "df['locality_name'] = df['locality_name'].replace('деревня Калитино', 'поселок Калитино')\n",
    "df['locality_name'] = df['locality_name'].replace('Мурино', 'поселок Мурино') \n",
    "df['locality_name'] = df['locality_name'].replace('деревня Кудрово', 'Кудрово') \n",
    "df['locality_name'] = df['locality_name'].replace('Коммунар', 'поселок Коммунары')\n",
    "df['locality_name'] = df['locality_name'].replace('поселок Ропша','садовое товарищество Новая Ропша')\n",
    "#эти дубликаты мы устраняем, тк это одни и те же места, которые имеют одинаковый почтовый индекс\n",
    "df['locality_name'].nunique()"
   ]
  },
  {
   "cell_type": "markdown",
   "metadata": {},
   "source": [
    "Мы сократили количество уникальных значений с 364 до 326"
   ]
  },
  {
   "cell_type": "markdown",
   "metadata": {},
   "source": [
    "### Обработка аномальных значений"
   ]
  },
  {
   "cell_type": "code",
   "execution_count": 16,
   "metadata": {},
   "outputs": [
    {
     "name": "stdout",
     "output_type": "stream",
     "text": [
      "count    23699.000000\n",
      "mean         2.724358\n",
      "std          0.988298\n",
      "min          1.000000\n",
      "25%          2.600000\n",
      "50%          2.650000\n",
      "75%          2.700000\n",
      "max        100.000000\n",
      "Name: ceiling_height, dtype: float64\n"
     ]
    },
    {
     "data": {
      "text/plain": [
       "array([  2.7 ,   2.65,   3.03,   2.5 ,   2.67,   2.56,   3.05,   2.75,\n",
       "         2.6 ,   2.9 ,   2.8 ,   2.55,   3.  ,   3.2 ,   2.61,   3.25,\n",
       "         3.45,   2.77,   2.85,   2.64,   2.57,   4.15,   3.5 ,   3.3 ,\n",
       "         2.71,   4.  ,   2.47,   2.73,   2.84,   3.1 ,   2.34,   3.4 ,\n",
       "         3.06,   2.72,   2.54,   2.51,   2.78,   2.76,  25.  ,   2.58,\n",
       "         3.7 ,   2.52,   5.2 ,   2.87,   2.66,   2.59,   2.  ,   2.45,\n",
       "         3.6 ,   2.92,   3.11,   3.13,   3.8 ,   3.15,   3.55,   3.16,\n",
       "         3.62,   3.12,   2.53,   2.74,   2.96,   2.46,   5.3 ,   5.  ,\n",
       "         2.79,   2.95,   4.06,   2.94,   3.82,   3.54,   3.53,   2.83,\n",
       "         4.7 ,   2.4 ,   3.38,   3.01,   5.6 ,   3.65,   3.9 ,   3.18,\n",
       "         3.35,   2.3 ,   3.57,   2.48,   2.62,   2.82,   3.98,   2.63,\n",
       "         3.83,   3.52,   3.95,   3.75,   2.88,   3.67,   3.87,   3.66,\n",
       "         3.85,   3.86,   4.19,   3.24,   4.8 ,   4.5 ,   4.2 ,   3.36,\n",
       "        32.  ,   3.08,   3.68,   3.07,   3.37,   3.09,   8.  ,   3.26,\n",
       "         3.34,   2.81,   3.44,   2.97,   3.14,   4.37,   2.68,   3.22,\n",
       "         3.27,  27.  ,   4.1 ,   2.93,   3.46,  24.  ,   3.47,   3.33,\n",
       "         3.63,   3.32,  26.  ,   1.2 ,   8.3 ,   2.98,   2.86,   3.17,\n",
       "         4.4 ,   3.28,   3.04,   4.45,   5.5 ,   3.84,   3.23,   3.02,\n",
       "         3.21,   3.43,   3.78,   4.3 ,   3.39,   2.69,   3.31,   4.65,\n",
       "         3.56,   2.2 ,   3.51,   3.93,   3.42,   2.99,   3.49,  14.  ,\n",
       "         4.14,   2.91,   3.88,   1.75,   4.25,   3.29,  20.  ,   2.25,\n",
       "         3.76,   3.69,   6.  ,  22.6 ,   2.89,   3.58,   5.8 ,  27.5 ,\n",
       "         2.49,   4.9 ,   3.48,  10.3 ,   1.  , 100.  ,   3.59])"
      ]
     },
     "execution_count": 16,
     "metadata": {},
     "output_type": "execute_result"
    }
   ],
   "source": [
    "print(df['ceiling_height'].describe())\n",
    "# Получение уникальных значений столбца ceiling_height\n",
    "df['ceiling_height'].unique()\n"
   ]
  },
  {
   "cell_type": "markdown",
   "metadata": {},
   "source": [
    "В столбце ceiling_height может быть указана высота потолков 25 м и 32 м. Логично предположить, что на самом деле это вещественные значения: 2.5 м и 3.2 м, так же избавляемся от аномально высоких и низких потолков."
   ]
  },
  {
   "cell_type": "code",
   "execution_count": 17,
   "metadata": {},
   "outputs": [],
   "source": [
    "def fix_ceiling_height(x):\n",
    "    if x >= 10:\n",
    "        return x / 10\n",
    "    else:\n",
    "        return x\n",
    "df['ceiling_height'] = df['ceiling_height'].apply(fix_ceiling_height) #делим двузначные значения на 10\n",
    "\n",
    "df = df.query('ceiling_height < 4.25 and ceiling_height > 1.75') #избавляемся от аномально высоких и низких значений\n"
   ]
  },
  {
   "cell_type": "code",
   "execution_count": 18,
   "metadata": {},
   "outputs": [
    {
     "data": {
      "text/plain": [
       "count    2.366100e+04\n",
       "mean     6.500454e+06\n",
       "std      1.072626e+07\n",
       "min      1.219000e+04\n",
       "25%      3.400000e+06\n",
       "50%      4.646000e+06\n",
       "75%      6.775000e+06\n",
       "max      7.630000e+08\n",
       "Name: last_price, dtype: float64"
      ]
     },
     "execution_count": 18,
     "metadata": {},
     "output_type": "execute_result"
    }
   ],
   "source": [
    "df['last_price'].describe()"
   ]
  },
  {
   "cell_type": "markdown",
   "metadata": {},
   "source": [
    "Средняя цена продажи квартиры составляет 6.5 миллионов рублей, но стандартное отклонение очень большое (10.7 миллионов), что говорит о большом разбросе данных и наличии выбросов.\n",
    "\n",
    "Минимальная цена продажи квартиры составляет всего 12190 рублей, что кажется нереалистично низким значением и может быть ошибкой в данных.\n",
    "\n",
    "Максимальная цена продажи квартиры составляет 763 миллиона рублей, что кажется нереалистично высоким значением и может быть ошибкой в данных или редким случаем элитной недвижимости.\n",
    "\n",
    "Медианная цена продажи квартиры составляет 4.6 миллиона рублей, что меньше средней цены, что указывает на правостороннюю асимметрию распределения данных.\n",
    "\n",
    "    "
   ]
  },
  {
   "cell_type": "code",
   "execution_count": 19,
   "metadata": {},
   "outputs": [],
   "source": [
    "# Вычисляем 25-й и 75-й перцентили\n",
    "Q1 = df['last_price'].quantile(0.25)\n",
    "Q3 = df['last_price'].quantile(0.75)\n",
    "# Вычисляем IQR\n",
    "IQR = Q3 - Q1\n",
    "\n",
    "# Определяем границы для выбросов\n",
    "lower_bound = Q1 - 1 * IQR\n",
    "upper_bound = Q3 + 1.5 * IQR\n",
    "\n"
   ]
  },
  {
   "cell_type": "code",
   "execution_count": 20,
   "metadata": {},
   "outputs": [
    {
     "data": {
      "image/png": "[encoded data removed]",
      "text/plain": [
       "<Figure size 432x288 with 1 Axes>"
      ]
     },
     "metadata": {
      "needs_background": "light"
     },
     "output_type": "display_data"
    },
    {
     "data": {
      "text/plain": [
       "count    2.160900e+04\n",
       "mean     4.836711e+06\n",
       "std      2.212664e+06\n",
       "min      4.300000e+05\n",
       "25%      3.300000e+06\n",
       "50%      4.400000e+06\n",
       "75%      5.999999e+06\n",
       "max      1.182000e+07\n",
       "Name: last_price, dtype: float64"
      ]
     },
     "execution_count": 20,
     "metadata": {},
     "output_type": "execute_result"
    }
   ],
   "source": [
    "# Фильтруем набор данных, исключая выбросы\n",
    "df = df[(df['last_price'] > lower_bound) & (df['last_price'] < upper_bound)]\n",
    "df = df.query('last_price >= 430000')\n",
    "# Строим гистограмму last_price\n",
    "plt.hist(df['last_price'])\n",
    "\n",
    "x_ticks = [1000000, 3000000, 5000000, 7000000]\n",
    "#specify x-axis labels\n",
    "x_labels = ['1M', '3M', '5M', '7M']\n",
    "#add x-axis values to plot\n",
    "plt.xticks (ticks=x_ticks, labels=x_labels)\n",
    "\n",
    "plt.show()\n",
    "df['last_price'].describe()"
   ]
  },
  {
   "cell_type": "code",
   "execution_count": 21,
   "metadata": {},
   "outputs": [
    {
     "name": "stdout",
     "output_type": "stream",
     "text": [
      "count    21609.000000\n",
      "mean        53.239161\n",
      "std         19.036882\n",
      "min         12.000000\n",
      "25%         39.000000\n",
      "50%         49.200000\n",
      "75%         63.500000\n",
      "max        230.000000\n",
      "Name: total_area, dtype: float64\n"
     ]
    },
    {
     "data": {
      "text/plain": [
       "(array([  76., 1994., 5074., 4790., 3847., 2511., 1651.,  802.,  471.,\n",
       "         184.]),\n",
       " array([ 12.  ,  22.02,  32.04,  42.06,  52.08,  62.1 ,  72.12,  82.14,\n",
       "         92.16, 102.18, 112.2 ]),\n",
       " <BarContainer object of 10 artists>)"
      ]
     },
     "execution_count": 21,
     "metadata": {},
     "output_type": "execute_result"
    },
    {
     "data": {
      "image/png": "[encoded data removed]",
      "text/plain": [
       "<Figure size 432x288 with 1 Axes>"
      ]
     },
     "metadata": {
      "needs_background": "light"
     },
     "output_type": "display_data"
    }
   ],
   "source": [
    "print(df['total_area'].describe())\n",
    "\n",
    "# Вычисляем 25-й и 75-й перцентили\n",
    "Q1 = df['total_area'].quantile(0.25)\n",
    "Q3 = df['total_area'].quantile(0.75)\n",
    "# Вычисляем IQR\n",
    "IQR = Q3 - Q1\n",
    "\n",
    "# Определяем границы для выбросов\n",
    "lower_bound = Q1 - 1.5 * IQR\n",
    "upper_bound = Q3 + 2 * IQR\n",
    "\n",
    "# Фильтруем набор данных, исключая выбросы\n",
    "df = df[(df['total_area'] > lower_bound) & (df['total_area'] < upper_bound)]\n",
    "#df = df.query('total_area >= 430000')\n",
    "# Строим гистограмму last_price\n",
    "plt.hist(df['total_area'])"
   ]
  },
  {
   "cell_type": "code",
   "execution_count": 22,
   "metadata": {},
   "outputs": [
    {
     "name": "stdout",
     "output_type": "stream",
     "text": [
      "count    21400.000000\n",
      "mean         1.909206\n",
      "std          0.886223\n",
      "min          0.000000\n",
      "25%          1.000000\n",
      "50%          2.000000\n",
      "75%          3.000000\n",
      "max          6.000000\n",
      "Name: rooms, dtype: float64\n"
     ]
    },
    {
     "data": {
      "text/plain": [
       "(array([1.940e+02, 7.996e+03, 0.000e+00, 7.581e+03, 0.000e+00, 4.886e+03,\n",
       "        6.780e+02, 0.000e+00, 6.100e+01, 4.000e+00]),\n",
       " array([0. , 0.6, 1.2, 1.8, 2.4, 3. , 3.6, 4.2, 4.8, 5.4, 6. ]),\n",
       " <BarContainer object of 10 artists>)"
      ]
     },
     "execution_count": 22,
     "metadata": {},
     "output_type": "execute_result"
    },
    {
     "data": {
      "image/png": "[encoded data removed]",
      "text/plain": [
       "<Figure size 432x288 with 1 Axes>"
      ]
     },
     "metadata": {
      "needs_background": "light"
     },
     "output_type": "display_data"
    }
   ],
   "source": [
    "print(df['rooms'].describe())\n",
    "\n",
    "# Вычисляем 25-й и 75-й перцентили\n",
    "Q1 = df['rooms'].quantile(0.25)\n",
    "Q3 = df['rooms'].quantile(0.75)\n",
    "# Вычисляем IQR\n",
    "IQR = Q3 - Q1\n",
    "\n",
    "# Определяем границы для выбросов\n",
    "lower_bound = Q1 - 1.5 * IQR\n",
    "upper_bound = Q3 + 2 * IQR\n",
    "\n",
    "# Фильтруем набор данных, исключая выбросы\n",
    "df = df[(df['rooms'] > lower_bound) & (df['rooms'] < upper_bound)]\n",
    "#df = df.query('total_area >= 430000')\n",
    "# Строим гистограмму last_price\n",
    "plt.hist(df['rooms'])"
   ]
  },
  {
   "cell_type": "code",
   "execution_count": 23,
   "metadata": {},
   "outputs": [
    {
     "name": "stdout",
     "output_type": "stream",
     "text": [
      "count    21400.000000\n",
      "mean        29.885289\n",
      "std         12.444573\n",
      "min          2.000000\n",
      "25%         18.200000\n",
      "50%         29.000000\n",
      "75%         38.200000\n",
      "max         88.000000\n",
      "Name: living_area, dtype: float64\n"
     ]
    },
    {
     "data": {
      "text/plain": [
       "(array([  30., 3442., 4931., 5320., 2877., 2770., 1302.,  428.,  216.,\n",
       "          70.]),\n",
       " array([ 2. ,  9.6, 17.2, 24.8, 32.4, 40. , 47.6, 55.2, 62.8, 70.4, 78. ]),\n",
       " <BarContainer object of 10 artists>)"
      ]
     },
     "execution_count": 23,
     "metadata": {},
     "output_type": "execute_result"
    },
    {
     "data": {
      "image/png": "[encoded data removed]",
      "text/plain": [
       "<Figure size 432x288 with 1 Axes>"
      ]
     },
     "metadata": {
      "needs_background": "light"
     },
     "output_type": "display_data"
    }
   ],
   "source": [
    "print(df['living_area'].describe())\n",
    "\n",
    "# Вычисляем 25-й и 75-й перцентили\n",
    "Q1 = df['living_area'].quantile(0.25)\n",
    "Q3 = df['living_area'].quantile(0.75)\n",
    "# Вычисляем IQR\n",
    "IQR = Q3 - Q1\n",
    "\n",
    "# Определяем границы для выбросов\n",
    "lower_bound = Q1 - 1.5 * IQR\n",
    "upper_bound = Q3 + 2 * IQR\n",
    "\n",
    "# Фильтруем набор данных, исключая выбросы\n",
    "df = df[(df['living_area'] > lower_bound) & (df['living_area'] < upper_bound)]\n",
    "#df = df.query('total_area >= 430000')\n",
    "# Строим гистограмму last_price\n",
    "plt.hist(df['living_area'])"
   ]
  },
  {
   "cell_type": "markdown",
   "metadata": {},
   "source": [
    "## Добавим новые столбцы"
   ]
  },
  {
   "cell_type": "code",
   "execution_count": 24,
   "metadata": {},
   "outputs": [],
   "source": [
    "# Добавляем столбец с ценой одного квадратного метра\n",
    "df = df.assign(price_per_sqm = df['last_price'] / df['total_area'])\n",
    "\n",
    "# Добавляем столбец с днем публикации объявления\n",
    "df = df.assign(day_of_week = df['first_day_exposition'].dt.dayofweek)\n",
    "\n",
    "# Добавляем столбец с месяцем публикации объявления\n",
    "df = df.assign(month = df['first_day_exposition'].dt.month)\n",
    "\n",
    "# добавляем столбец с годом публикации объявления\n",
    "df = df.assign(year = df['first_day_exposition'].dt.year)\n",
    "\n",
    "# добавляем столбец с типом этажа квартиры\n",
    "def get_floor_type(row):\n",
    "    if row['floor'] == 1:\n",
    "        return 'первый'\n",
    "    elif row['floor'] == row['floors_total']:\n",
    "        return 'последний'\n",
    "    else:\n",
    "        return 'другой'\n",
    "df = df.assign(floor_type = df.apply(get_floor_type, axis=1))\n",
    "# добавляем столбец с расстоянием до центра города в км\n",
    "df = df.assign(distance_to_center_km = (df['cityCenters_nearest'] / 1000).round())"
   ]
  },
  {
   "cell_type": "markdown",
   "metadata": {},
   "source": [
    "### Проведем исследовательский анализ данных\n"
   ]
  },
  {
   "cell_type": "code",
   "execution_count": 25,
   "metadata": {},
   "outputs": [
    {
     "name": "stdout",
     "output_type": "stream",
     "text": [
      "0.03675878187825665\n"
     ]
    },
    {
     "data": {
      "image/png": "[encoded data removed]",
      "text/plain": [
       "<Figure size 432x288 with 1 Axes>"
      ]
     },
     "metadata": {
      "needs_background": "light"
     },
     "output_type": "display_data"
    },
    {
     "name": "stdout",
     "output_type": "stream",
     "text": [
      "count    21386.000000\n",
      "mean        52.478702\n",
      "std         17.521266\n",
      "min         12.000000\n",
      "25%         39.000000\n",
      "50%         49.000000\n",
      "75%         63.000000\n",
      "max        112.200000\n",
      "Name: total_area, dtype: float64\n"
     ]
    },
    {
     "data": {
      "image/png": "[encoded data removed]",
      "text/plain": [
       "<Figure size 432x288 with 1 Axes>"
      ]
     },
     "metadata": {
      "needs_background": "light"
     },
     "output_type": "display_data"
    },
    {
     "name": "stdout",
     "output_type": "stream",
     "text": [
      "count    21386.000000\n",
      "mean        29.850706\n",
      "std         12.374718\n",
      "min          2.000000\n",
      "25%         18.200000\n",
      "50%         29.000000\n",
      "75%         38.200000\n",
      "max         78.000000\n",
      "Name: living_area, dtype: float64\n"
     ]
    },
    {
     "data": {
      "image/png": "[encoded data removed]",
      "text/plain": [
       "<Figure size 432x288 with 1 Axes>"
      ]
     },
     "metadata": {
      "needs_background": "light"
     },
     "output_type": "display_data"
    },
    {
     "name": "stdout",
     "output_type": "stream",
     "text": [
      "count    21386.000000\n",
      "mean         9.353603\n",
      "std          3.713043\n",
      "min          1.300000\n",
      "25%          6.900000\n",
      "50%          8.708534\n",
      "75%         11.000000\n",
      "max         50.000000\n",
      "Name: kitchen_area, dtype: float64\n"
     ]
    },
    {
     "data": {
      "image/png": "[encoded data removed]",
      "text/plain": [
       "<Figure size 432x288 with 1 Axes>"
      ]
     },
     "metadata": {
      "needs_background": "light"
     },
     "output_type": "display_data"
    },
    {
     "name": "stdout",
     "output_type": "stream",
     "text": [
      "count    2.138600e+04\n",
      "mean     4.790437e+06\n",
      "std      2.166346e+06\n",
      "min      4.300000e+05\n",
      "25%      3.300000e+06\n",
      "50%      4.400000e+06\n",
      "75%      5.950000e+06\n",
      "max      1.180967e+07\n",
      "Name: last_price, dtype: float64\n"
     ]
    },
    {
     "data": {
      "image/png": "[encoded data removed]",
      "text/plain": [
       "<Figure size 432x288 with 1 Axes>"
      ]
     },
     "metadata": {
      "needs_background": "light"
     },
     "output_type": "display_data"
    },
    {
     "name": "stdout",
     "output_type": "stream",
     "text": [
      "count    21386.000000\n",
      "mean         1.907884\n",
      "std          0.884769\n",
      "min          0.000000\n",
      "25%          1.000000\n",
      "50%          2.000000\n",
      "75%          3.000000\n",
      "max          6.000000\n",
      "Name: rooms, dtype: float64\n"
     ]
    },
    {
     "data": {
      "image/png": "[encoded data removed]",
      "text/plain": [
       "<Figure size 432x288 with 1 Axes>"
      ]
     },
     "metadata": {
      "needs_background": "light"
     },
     "output_type": "display_data"
    },
    {
     "name": "stdout",
     "output_type": "stream",
     "text": [
      "count    21386.000000\n",
      "mean         2.669477\n",
      "std          0.173162\n",
      "min          2.000000\n",
      "25%          2.600000\n",
      "50%          2.650000\n",
      "75%          2.680000\n",
      "max          4.200000\n",
      "Name: ceiling_height, dtype: float64\n"
     ]
    },
    {
     "data": {
      "image/png": "[encoded data removed]",
      "text/plain": [
       "<Figure size 432x288 with 1 Axes>"
      ]
     },
     "metadata": {
      "needs_background": "light"
     },
     "output_type": "display_data"
    },
    {
     "name": "stdout",
     "output_type": "stream",
     "text": [
      "count    21386.000000\n",
      "mean         5.901524\n",
      "std          4.912737\n",
      "min          1.000000\n",
      "25%          2.000000\n",
      "50%          4.000000\n",
      "75%          8.000000\n",
      "max         33.000000\n",
      "Name: floor, dtype: float64\n"
     ]
    },
    {
     "data": {
      "image/png": "[encoded data removed]",
      "text/plain": [
       "<Figure size 432x288 with 1 Axes>"
      ]
     },
     "metadata": {
      "needs_background": "light"
     },
     "output_type": "display_data"
    },
    {
     "name": "stdout",
     "output_type": "stream",
     "text": [
      "count    21386.000000\n",
      "mean        10.791032\n",
      "std          6.631117\n",
      "min          1.000000\n",
      "25%          5.000000\n",
      "50%          9.000000\n",
      "75%         16.000000\n",
      "max         60.000000\n",
      "Name: floors_total, dtype: float64\n"
     ]
    },
    {
     "data": {
      "image/png": "[encoded data removed]",
      "text/plain": [
       "<Figure size 432x288 with 1 Axes>"
      ]
     },
     "metadata": {
      "needs_background": "light"
     },
     "output_type": "display_data"
    },
    {
     "name": "stdout",
     "output_type": "stream",
     "text": [
      "count    15933.000000\n",
      "mean        15.029122\n",
      "std          8.509850\n",
      "min          0.000000\n",
      "25%         11.000000\n",
      "50%         14.000000\n",
      "75%         17.000000\n",
      "max         66.000000\n",
      "Name: distance_to_center_km, dtype: float64\n"
     ]
    },
    {
     "data": {
      "image/png": "[encoded data removed]",
      "text/plain": [
       "<Figure size 432x288 with 1 Axes>"
      ]
     },
     "metadata": {
      "needs_background": "light"
     },
     "output_type": "display_data"
    },
    {
     "name": "stdout",
     "output_type": "stream",
     "text": [
      "count    15922.000000\n",
      "mean     28929.580329\n",
      "std      13007.778838\n",
      "min          0.000000\n",
      "25%      18039.500000\n",
      "50%      27123.500000\n",
      "75%      37664.000000\n",
      "max      84869.000000\n",
      "Name: airports_nearest, dtype: float64\n"
     ]
    },
    {
     "data": {
      "image/png": "[encoded data removed]",
      "text/plain": [
       "<Figure size 432x288 with 1 Axes>"
      ]
     },
     "metadata": {
      "needs_background": "light"
     },
     "output_type": "display_data"
    },
    {
     "name": "stdout",
     "output_type": "stream",
     "text": [
      "count    6602.000000\n",
      "mean      488.582854\n",
      "std       327.432570\n",
      "min         1.000000\n",
      "25%       289.000000\n",
      "50%       456.000000\n",
      "75%       614.000000\n",
      "max      3190.000000\n",
      "Name: parks_nearest, dtype: float64\n"
     ]
    },
    {
     "data": {
      "image/png": "[encoded data removed]",
      "text/plain": [
       "<Figure size 432x288 with 1 Axes>"
      ]
     },
     "metadata": {
      "needs_background": "light"
     },
     "output_type": "display_data"
    },
    {
     "name": "stdout",
     "output_type": "stream",
     "text": [
      "count    21386.000000\n",
      "mean         2.576218\n",
      "std          1.794469\n",
      "min          0.000000\n",
      "25%          1.000000\n",
      "50%          3.000000\n",
      "75%          4.000000\n",
      "max          6.000000\n",
      "Name: day_of_week, dtype: float64\n"
     ]
    },
    {
     "data": {
      "image/png": "[encoded data removed]",
      "text/plain": [
       "<Figure size 432x288 with 1 Axes>"
      ]
     },
     "metadata": {
      "needs_background": "light"
     },
     "output_type": "display_data"
    },
    {
     "name": "stdout",
     "output_type": "stream",
     "text": [
      "count    21386.000000\n",
      "mean         6.396708\n",
      "std          3.490247\n",
      "min          1.000000\n",
      "25%          3.000000\n",
      "50%          6.000000\n",
      "75%         10.000000\n",
      "max         12.000000\n",
      "Name: month, dtype: float64\n"
     ]
    },
    {
     "data": {
      "image/png": "[encoded data removed]",
      "text/plain": [
       "<Figure size 432x288 with 1 Axes>"
      ]
     },
     "metadata": {
      "needs_background": "light"
     },
     "output_type": "display_data"
    },
    {
     "data": {
      "image/png": "[encoded data removed]",
      "text/plain": [
       "<Figure size 432x288 with 1 Axes>"
      ]
     },
     "metadata": {
      "needs_background": "light"
     },
     "output_type": "display_data"
    }
   ],
   "source": [
    "corr_pandas = df['last_price'].corr(df['parks_nearest'])\n",
    "\n",
    "print(corr_pandas)\n",
    "\n",
    "# задаем список колонок\n",
    "columns = ['total_area', 'living_area', 'kitchen_area', 'last_price', 'rooms', 'ceiling_height', 'floor','floors_total', 'distance_to_center_km', 'airports_nearest', 'parks_nearest', 'day_of_week', 'month']\n",
    "# проходимся по списку в цикле\n",
    "for column in columns:\n",
    "    # строим гистограмму для текущей колонки\n",
    "    df.hist(column=column)\n",
    "    plt.title(f'Распределение {column}')\n",
    "    plt.xlabel(column)\n",
    "    plt.ylabel('Количество объектов')\n",
    "    plt.show()\n",
    "    # получаем основные статистики по текущей колонке\n",
    "    print(df[column].describe())\n",
    "\n",
    "df['floor_type'].value_counts().plot(kind='bar')\n",
    "plt.title('Распределение типа этажа')\n",
    "plt.xlabel('Тип этажа')\n",
    "plt.ylabel('Количество объектов')\n",
    "plt.show()    \n",
    "df.boxplot(column='last_price', by='floor_type')\n",
    "plt.title('Распределение цены по типу этажа')\n",
    "plt.xlabel('Тип этажа')\n",
    "plt.ylabel('Цена объекта')\n",
    "plt.show()"
   ]
  },
  {
   "cell_type": "markdown",
   "metadata": {},
   "source": [
    "**общая площадь**\n",
    "\n",
    "Общая площадь объектов имеет скошенное вправо распределение, то есть большинство значений лежит слева от среднего.\n",
    "Средняя общая площадь составляет около 60 кв.м, а медианная - около 52 кв.м. Это означает, что половина объектов имеет площадь менее 52 кв.м, а половина - более.\n",
    "Минимальная общая площадь равна 12 кв.м, а максимальная - 900 кв.м. Это свидетельствует о большом разбросе значений и возможном наличии выбросов.\n",
    "Первый квартиль равен 40 кв.м, а третий - 69.7 кв.м. Это означает, что 25% объектов имеют площадь менее 40 кв.м, а 25% - более 69.7 кв.м.\n",
    "\n",
    "**жилая площадь**\n",
    "\n",
    "Жилая площадь объектов также имеет скошенное вправо распределение, как и общая площадь. Большинство значений лежит слева от среднего.\n",
    "Средняя жилая площадь составляет около 34 кв.м, а медианная - около 30 кв.м. Это означает, что половина объектов имеет жилую площадь менее 30 кв.м, а половина - более.\n",
    "Минимальная жилая площадь равна 2 кв.м, а максимальная - 409.7 кв.м. Это свидетельствует о большом разбросе значений и возможном наличии выбросов.\n",
    "Первый квартиль равен 18.9 кв.м, а третий - 42 кв.м. Это означает, что 25% объектов имеют жилую площадь менее 18.9 кв.м, а 25% - более 42 кв.м.\n",
    "Жилая площадь коррелирует с общей площадью: чем больше общая площадь объекта, тем больше жилая площадь, примерное отношение 0.6\n",
    "\n",
    "**площадь кухни** \n",
    "\n",
    "Площадь кухни объектов также имеет скошенное вправо распределение, как и общая и жилая площадь. Большинство значений лежит слева от среднего.\n",
    "Средняя площадь кухни составляет около 10 кв.м, а медианная - около 9 кв.м. Это означает, что половина объектов имеет площадь кухни менее 9 кв.м, а половина - более.\n",
    "Минимальная площадь кухни равна 1.3 кв.м, а максимальная - 112 кв.м. Это свидетельствует о большом разбросе значений и возможном наличии выбросов.\n",
    "Первый квартиль равен 7 кв.м, а третий - 11.9 кв.м. Это означает, что 25% объектов имеют площадь кухни менее 7 кв.м, а 25% - более 11.9 кв.м.\n",
    "Площадь кухни коррелирует жилой площадью примерно 1 к 3\n",
    "\n",
    "**цена объекта**\n",
    "\n",
    "Цена объекта имеет скошенное вправо распределение, как и площадь. Большинство значений лежит слева от среднего.\n",
    "Средняя цена объекта составляет около 6.5 млн рублей, а медианная - около 4.6 млн рублей. Это означает, что половина объектов имеет цену менее 4.6 млн рублей, а половина - более.\n",
    "Минимальная цена объекта равна 430 тыс. рублей, а максимальная - 763 млн рублей. Это свидетельствует о большом разбросе значений и наличии выбросов.\n",
    "Первый квартиль равен 3.4 млн рублей, а третий - 6.8 млн рублей. Это означает, что 25% объектов имеют цену менее 3.4 млн рублей, а 25% - более 6.8 млн рублей.\n",
    "\n",
    "**количество комнат**\n",
    "\n",
    "Количество комнат имеет скошенное вправо распределение, как и площадь и цена. Большинство значений лежит слева от среднего.\n",
    "Среднее количество комнат составляет около 2, а медианное - 2. Это означает, что половина объектов имеет 2 комнаты или менее, а половина - более.\n",
    "Минимальное количество комнат равно 0, а максимальное - 19. Это свидетельствует о большом разбросе значений и наличии выбросов. Нулевое количество комнат может означать студии или апартаменты.\n",
    "Первый квартиль равен 1, а третий - 3. Это означает, что 25% объектов имеют 1 комнату или менее, а 25% - более 3 комнат.\n",
    "\n",
    "**высота потолков**\n",
    "\n",
    "Высота потолков имеет бимодальное распределение, то есть два пика значений. Один пик приходится на высоту около 2.6 метра, а другой - на около 2.8 метра.\n",
    "Средняя высота потолков составляет около 2.7 метра, а медианная - около 2.8 метра. Это означает, что половина объектов имеет высоту потолков менее 2.8 метра, а половина - более.\n",
    "Минимальная высота потолков равна 2 метрам, а максимальная - 4.2 метра. Это свидетельствует о небольшом разбросе значений и наличии выбросов.\n",
    "Первый квартиль равен 2.6 метра, а третий - 2.8 метра. Это означает, что 25% объектов имеют высоту потолков менее 2.6 метра, а 25% - более 2.8 метра.\n",
    "\n",
    "**этаж квартиры**\n",
    "\n",
    "Этаж квартиры имеет скошенное вправо распределение, как и площадь, цена и количество комнат. Большинство значений лежит слева от среднего.\n",
    "Средний этаж квартиры составляет около 6, а медианный - 4. Это означает, что половина объектов находится на 4 этаже или ниже, а половина - выше.\n",
    "Минимальный этаж квартиры равен 1, а максимальный - 33.\n",
    "Первый квартиль равен 2, а третий - 8. Это означает, что 25% объектов находится на 2 этаже или ниже, а 25% - на 8 этаже или выше.\n",
    "\n",
    "**тип этажа квартиры**\n",
    "\n",
    "Для столбца с типом object строим bar и boxplot чтобы выявить связь цены и типа этажа. По итогу приходим к следующим выводам\n",
    "\n",
    "Большинство объектов находятся на этажах, отличных от первого и последнего. Это может свидетельствовать о том, что люди предпочитают жить на средних этажах из-за большей безопасности, тишины или видов из окон.\n",
    "Меньшинство объектов находятся на первом или последнем этаже. Это может свидетельствовать о том, что эти этажи имеют некоторые недостатки, такие как шум от улицы или подъезда, низкая температура или высокая вероятность протечек.\n",
    "Тип этажа может влиять на цену объекта: скорее всего, объекты на первом или последнем этаже будут стоить дешевле, чем объекты на других этажах. Это можно проверить, построив ящиковую диаграмму для цены объекта, сгруппированную по типу этажа.\n",
    "Построив ящиковую диаграмму мы приходим к следующим выводам\n",
    "Цена объекта зависит от типа этажа: объекты на других этажах стоят дороже, чем объекты на первом или последнем этаже. Это может объясняться тем, что другие этажи имеют больше преимуществ, таких как безопасность, тишина или виды из окон.\n",
    "Объекты на первом этаже стоят дешевле всех: их средняя цена ниже, чем у других типов этажей, а также их максимальная цена. Это может объясняться тем, что первый этаж имеет больше недостатков, таких как шум от улицы или подъезда, низкая температура или высокая влажность.\n",
    "Объекты на последнем этаже стоят дороже, чем объекты на первом этаже, но дешевле, чем объекты на других этажах. Их средняя цена выше, чем у объектов на первом этаже, но ниже, чем у объектов на других этажах. Это может объясняться тем, что последний этаж имеет как преимущества, так и недостатки. Преимущества могут быть такие: больше света и воздуха, меньше соседей или шума от подъезда. Недостатки могут быть такие: высокая вероятность протечек, перегрев или переохлаждение квартиры, неудобство при отсутствии лифта.\n",
    "\n",
    "**общее количество этажей в доме**\n",
    "\n",
    "Общее количество этажей в доме имеет скошенное вправо распределение, как и площадь, цена, количество комнат и этаж квартиры. Большинство значений лежит слева от среднего.\n",
    "Среднее общее количество этажей в доме составляет около 11, а медианное - 9. Это означает, что половина домов имеет 9 этажей или менее, а половина - более.\n",
    "Минимальное общее количество этажей в доме равно 1, а максимальное - 60.\n",
    "Первый квартиль равен 5, а третий - 16. Это означает, что 25% домов имеет 5 этажей или менее, а 25% - более 16 этажей.\n",
    "\n",
    "**расстояние до центра города в метрах**\n",
    "\n",
    "Расстояние до центра города в метрах имеет скошенное вправо распределение, как и площадь, цена, количество комнат, этаж квартиры и общее количество этажей в доме. Большинство значений лежит слева от среднего.\n",
    "Среднее расстояние до центра города в метрах составляет около 14, а медианное - 13. Это означает, что половина объектов находится на расстоянии 13 км или менее от центра города, а половина - более.\n",
    "Минимальное расстояние до центра города в метрах равно 0, а максимальное - 66.\n",
    "Первый квартиль равен 9, а третий - 16. Это означает, что 25% объектов находится на расстоянии 9 км или менее от центра города, а 25% - более 16 км.\n",
    "Расстояние до центра города в метрах коррелирует с ценой объекта: чем ближе объект к центру города, тем выше его цена. Это может объясняться тем, что в центре города больше спрос на жилье и больше инфраструктуры\n",
    "\n",
    "**расстояние до ближайшего аэропорта**\n",
    "\n",
    "Расстояние до ближайшего аэропорта имеет скошенное вправо распределение, как и площадь, цена, количество комнат, этаж квартиры, общее количество этажей в доме и расстояние до центра города. Большинство значений лежит слева от среднего.\n",
    "Среднее расстояние до ближайшего аэропорта составляет около 29 км, а медианное - около 27 км. Это означает, что половина объектов находится на расстоянии 27 км или менее от ближайшего аэропорта, а половина - более.\n",
    "Минимальное расстояние до ближайшего аэропорта равно 0, а максимальное - 85 км. Это свидетельствует о большом разбросе значений и наличии выбросов.\n",
    "Первый квартиль равен 19 км, а третий - 37 км. Это означает, что 25% объектов находится на расстоянии 19 км или менее от ближайшего аэропорта, а 25% - более 37 км.\n",
    "Расстояние до ближайшего аэропорта слабо коррелирует с ценой объекта: чем ближе объект к аэропорту, тем ниже его цена, но эта зависимость не сильная. Это может объясняться тем, что близость к аэропорту может быть как преимуществом (для тех, кто часто путешествует), так и недостатком (из-за шума или загрязнения воздуха).\n",
    "\n",
    "**расстояние до ближайшего парка**\n",
    "\n",
    "Расстояние до ближайшего парка имеет скошенное вправо распределение, как и площадь, цена, количество комнат, этаж квартиры, общее количество этажей в доме, расстояние до центра города и расстояние до ближайшего аэропорта. Большинство значений лежит слева от среднего.\n",
    "Среднее расстояние до ближайшего парка составляет около 491 метра, а медианное - около 455 метров. Это означает, что половина объектов находится на расстоянии 455 метров или менее от ближайшего парка, а половина - более.\n",
    "Минимальное расстояние до ближайшего парка равно 1 метру, а максимальное - 3190 метров. Это свидетельствует о большом разбросе значений и наличии выбросов.\n",
    "Первый квартиль равен 288 метров, а третий - 612 метров. Это означает, что 25% объектов находится на расстоянии 288 метров или менее от ближайшего парка, а 25% - более 612 метров.\n",
    "Расстояние до ближайшего парка слабо коррелирует с ценой объекта: чем ближе объект к парку, тем выше его цена, но эта зависимость не сильная. Это может объясняться тем, что близость к парку может быть преимуществом для тех, кто любит природу и свежий воздух.\n",
    "\n",
    "**день и месяц публикации объявления**\n",
    "\n",
    "День публикации имеет равномерное по будням, но скошенность относительно выходных влево.Это может объясняться тем, что люди предпочитают заниматься продажей жилья в рабочие дни, а не в свободное время.\n",
    "\n",
    "Месяц публикации объявления имеет скошенность к новому году, то есть большинство значений лежит ближе к концу и началу года. Это означает, что объявления чаще публикуются зимой, ближе к новому году. Это может объясняться тем, что люди стремятся продать жилье до конца года и в начале года, когда спрос на недвижимость может быть выше.\n",
    "День и месяц публикации объявления слабо коррелируют с ценой объекта: нет явной зависимости между временем публикации и стоимостью жилья.\n",
    "\n",
    "\n",
    "\n"
   ]
  },
  {
   "cell_type": "markdown",
   "metadata": {},
   "source": [
    "# Задание 1\n",
    "\n",
    "Изучите, как быстро продавались квартиры (столбец days_exposition). Этот параметр показывает, сколько дней «висело» каждое объявление.\n",
    "\n",
    "  - Постройте гистограмму.\n",
    "    \n",
    "  - Посчитайте среднее и медиану.\n",
    "    \n",
    "  - В ячейке типа markdown опишите, сколько обычно занимает продажа. Какие продажи можно считать быстрыми, а какие — необычно долгими?"
   ]
  },
  {
   "cell_type": "code",
   "execution_count": 26,
   "metadata": {},
   "outputs": [
    {
     "data": {
      "image/png": "[encoded data removed]",
      "text/plain": [
       "<Figure size 432x288 with 1 Axes>"
      ]
     },
     "metadata": {
      "needs_background": "light"
     },
     "output_type": "display_data"
    },
    {
     "name": "stdout",
     "output_type": "stream",
     "text": [
      "Среднее количество дней публикации объявления: 171.8\n",
      "Медианное количество дней публикации объявления: 91.0\n"
     ]
    },
    {
     "data": {
      "text/plain": [
       "count    18786.000000\n",
       "mean       171.835090\n",
       "std        209.805413\n",
       "min          1.000000\n",
       "25%         44.000000\n",
       "50%         91.000000\n",
       "75%        217.000000\n",
       "max       1580.000000\n",
       "Name: days_exposition, dtype: float64"
      ]
     },
     "execution_count": 26,
     "metadata": {},
     "output_type": "execute_result"
    }
   ],
   "source": [
    "df['days_exposition'].hist(bins=50)\n",
    "plt.title('Распределение количества дней публикации объявления')\n",
    "plt.xlabel('Количество дней')\n",
    "plt.ylabel('Количество объявлений')\n",
    "plt.show()\n",
    "mean_days = df['days_exposition'].mean()\n",
    "median_days = df['days_exposition'].median()\n",
    "print(f'Среднее количество дней публикации объявления: {mean_days:.1f}')\n",
    "print(f'Медианное количество дней публикации объявления: {median_days:.1f}')\n",
    "df['days_exposition'].describe()"
   ]
  },
  {
   "cell_type": "markdown",
   "metadata": {},
   "source": [
    "**Вывод**:\n",
    "Среднее время продажи квартиры составляет 180 дней, а медиана - 95 дней. Это означает, что распределение времени продажи скошено вправо и имеет длинный правый хвост. Большинство квартир продаются в течение 100-200 дней, но есть и очень долгие продажи, которые занимают более 1000 дней. Продажи, которые занимают менее 45 дней (первый квартиль), можно считать быстрыми, а продажи, которые занимают более 231 дня (третий квартиль), можно считать необычно долгими.\n",
    "    "
   ]
  },
  {
   "cell_type": "markdown",
   "metadata": {},
   "source": [
    "# Задание 2\n",
    "\n",
    "Какие факторы больше всего влияют на общую (полную) стоимость объекта? Постройте графики, которые покажут зависимость цены от указанных ниже параметров. Для подготовки данных перед визуализацией вы можете использовать сводные таблицы.\n",
    "  - общей площади;\n",
    "  - жилой площади;\n",
    "  - площади кухни;\n",
    "  - количество комнат;\n",
    "  - типа этажа, на котором расположена квартира (первый, последний, другой);\n",
    "  - даты размещения (день недели, месяц, год);"
   ]
  },
  {
   "cell_type": "code",
   "execution_count": 27,
   "metadata": {
    "scrolled": true
   },
   "outputs": [
    {
     "name": "stdout",
     "output_type": "stream",
     "text": [
      "Корреляция между ценой и total_area равна 0.691\n",
      "Корреляция между ценой и living_area равна 0.562\n",
      "Корреляция между ценой и kitchen_area равна 0.495\n",
      "Корреляция между ценой и rooms равна 0.428\n",
      "0.8029568975336039\n"
     ]
    },
    {
     "data": {
      "image/png": "[encoded data removed]",
      "text/plain": [
       "<Figure size 432x288 with 1 Axes>"
      ]
     },
     "metadata": {
      "needs_background": "light"
     },
     "output_type": "display_data"
    },
    {
     "data": {
      "image/png": "[encoded data removed]",
      "text/plain": [
       "<Figure size 720x432 with 1 Axes>"
      ]
     },
     "metadata": {
      "needs_background": "light"
     },
     "output_type": "display_data"
    },
    {
     "data": {
      "image/png": "[encoded data removed]",
      "text/plain": [
       "<Figure size 720x432 with 1 Axes>"
      ]
     },
     "metadata": {
      "needs_background": "light"
     },
     "output_type": "display_data"
    },
    {
     "data": {
      "image/png": "[encoded data removed]",
      "text/plain": [
       "<Figure size 432x288 with 1 Axes>"
      ]
     },
     "metadata": {
      "needs_background": "light"
     },
     "output_type": "display_data"
    },
    {
     "data": {
      "image/png": "[encoded data removed]",
      "text/plain": [
       "<Figure size 432x288 with 1 Axes>"
      ]
     },
     "metadata": {
      "needs_background": "light"
     },
     "output_type": "display_data"
    }
   ],
   "source": [
    "corr = ['total_area','living_area','kitchen_area','rooms']\n",
    "for column in corr: # для каждого элемента списка corr\n",
    "    coefficient = df['last_price'].corr(df[column]) # вычисляем коэффициент корреляции между ценой и текущей колонкой\n",
    "    coefficient = round(coefficient, 3)\n",
    "    print(f'Корреляция между ценой и {column} равна {coefficient}') # выводим результат на экран\n",
    "print(df['total_area'].corr(df['rooms']))\n",
    "# График зависимости цены от общей площади можно построить с помощью диаграммы рассеяния:\n",
    "df.plot(kind='scatter', x='total_area', y='last_price', alpha= 0.03)\n",
    "plt.xlabel('Общая площадь')\n",
    "plt.ylabel('Цена')\n",
    "plt.xlim(0, 300) \n",
    "plt.ylim(0, 40000000)\n",
    "plt.show()\n",
    "\n",
    "#График зависимости цены от жилой площади можно построить также с помощью диаграммы рассеяния:\n",
    "df.plot(kind='scatter', x='living_area', y='last_price', figsize=(10, 6))\n",
    "plt.xlabel('Жилая площадь')\n",
    "plt.ylabel('Цена')\n",
    "plt.show()\n",
    "\n",
    "#График зависимости цены от площади кухни можно построить также с помощью диаграммы рассеяния:\n",
    "df.plot(kind='scatter', x='kitchen_area', y='last_price', figsize=(10, 6))\n",
    "plt.xlabel('Площадь кухни')\n",
    "plt.ylabel('Цена')\n",
    "plt.show()\n",
    "\n",
    "#График зависимости цены от количества комнат можно построить с помощью столбчатого графика, который покажет среднюю цену для каждого количества комнат:\n",
    "df.boxplot(column='last_price', by='rooms')\n",
    "plt.xlabel('Количество комнат')\n",
    "plt.ylabel('Цена')\n",
    "plt.show()\n",
    "\n",
    "#График зависимости цены от типа этажа\n",
    "df.boxplot(column='last_price', by='floor_type')\n",
    "plt.xlabel('Тип этажа')\n",
    "plt.ylabel('Цена')\n",
    "plt.show()\n"
   ]
  },
  {
   "cell_type": "code",
   "execution_count": 28,
   "metadata": {},
   "outputs": [
    {
     "data": {
      "image/png": "[encoded data removed]",
      "text/plain": [
       "<Figure size 1080x1080 with 1 Axes>"
      ]
     },
     "metadata": {
      "needs_background": "light"
     },
     "output_type": "display_data"
    }
   ],
   "source": [
    "df.boxplot(column='last_price', by='rooms', figsize=(15,15))\n",
    "plt.xlabel('Количество комнат')\n",
    "plt.ylabel('Цена')\n",
    "plt.show()"
   ]
  },
  {
   "cell_type": "code",
   "execution_count": 29,
   "metadata": {},
   "outputs": [
    {
     "data": {
      "image/png": "[encoded data removed]",
      "text/plain": [
       "<Figure size 720x720 with 1 Axes>"
      ]
     },
     "metadata": {
      "needs_background": "light"
     },
     "output_type": "display_data"
    }
   ],
   "source": [
    "#График зависимости цены от даты размещения\n",
    "pivot_table = pd.pivot_table(df, index=['year'], values='price_per_sqm', aggfunc='mean')\n",
    "pivot_table.plot(kind='line', figsize=(10,10))\n",
    "plt.xlabel('Год')\n",
    "plt.ylabel('Средняя цена за кв.м.')\n",
    "plt.show()\n",
    "\n"
   ]
  },
  {
   "cell_type": "markdown",
   "metadata": {},
   "source": [
    "Подробнее рассмотрим зависимость между ценой и датой продажи"
   ]
  },
  {
   "cell_type": "code",
   "execution_count": 30,
   "metadata": {},
   "outputs": [
    {
     "data": {
      "image/png": "[encoded data removed]",
      "text/plain": [
       "<Figure size 720x720 with 1 Axes>"
      ]
     },
     "metadata": {
      "needs_background": "light"
     },
     "output_type": "display_data"
    }
   ],
   "source": [
    "# группируем данные по месяцу и году и находим среднюю цену за кв.м.\n",
    "grouped_by_month_year = df.groupby(['year', 'month'])['price_per_sqm'].mean()\n",
    "# Группируем данные по дням недели и считаем среднюю цену\n",
    "#grouped_by_year = df.groupby('year')['price_per_sqm'].mean()\n",
    "# Строим столбчатый график\n",
    "grouped_by_month_year.plot(kind='line', figsize=(10,10))\n",
    "\n",
    "# добавляем подписи осей\n",
    "plt.xlabel('Год и месяц')\n",
    "plt.ylabel('Средняя цена за кв.м.')\n",
    "\n",
    "# показываем график\n",
    "plt.show()"
   ]
  },
  {
   "cell_type": "code",
   "execution_count": 31,
   "metadata": {},
   "outputs": [
    {
     "data": {
      "image/png": "[encoded data removed]",
      "text/plain": [
       "<Figure size 432x288 with 1 Axes>"
      ]
     },
     "metadata": {
      "needs_background": "light"
     },
     "output_type": "display_data"
    }
   ],
   "source": [
    "# Группируем данные по дням недели и считаем среднюю цену\n",
    "price_by_day = df.groupby('month')['price_per_sqm'].mean()\n",
    "# Строим столбчатый график\n",
    "price_by_day.plot(kind='bar')\n",
    "plt.xlabel('День недели')\n",
    "plt.ylabel('Средняя цена за кв.м.')\n",
    "plt.show()\n"
   ]
  },
  {
   "cell_type": "code",
   "execution_count": 32,
   "metadata": {},
   "outputs": [
    {
     "data": {
      "image/png": "[encoded data removed]",
      "text/plain": [
       "<Figure size 432x288 with 1 Axes>"
      ]
     },
     "metadata": {
      "needs_background": "light"
     },
     "output_type": "display_data"
    }
   ],
   "source": [
    "# Группируем данные по дням недели и считаем среднюю цену\n",
    "price_by_day = df.groupby('day_of_week')['price_per_sqm'].mean()\n",
    "# Строим столбчатый график\n",
    "price_by_day.plot(kind='bar')\n",
    "plt.xlabel('День недели')\n",
    "plt.ylabel('Средняя цена за кв.м.')\n",
    "plt.show()\n"
   ]
  },
  {
   "cell_type": "markdown",
   "metadata": {},
   "source": [
    "Графики показывают что никакой зависимости между днем недели, месяцем и ценой недвижимости нет. \n",
    "Но зависимость есть между ценой и годом - с 2018 по 2020 цена выросла примерно на 20 процентов. Так же видно значительное снижение цен с 2014 года - которое вероятнее всего объясняется ослабление рубля по отношению к доллару и евро. Курс доллара вырос с 33 до 56 рублей за год, а курс евро — с 45 до 69 рублей. Это привело к уменьшению спроса на жилье со стороны иностранных покупателей и инвесторов, а также к удорожанию строительных материалов и оборудования. Кроме того, в конце года произошел спад цен на нефть — основного источника доходов бюджета России. Это повлияло на экономическую ситуацию в стране,уровень доходов населения и соответственно цену на жилье."
   ]
  },
  {
   "cell_type": "code",
   "execution_count": 34,
   "metadata": {},
   "outputs": [
    {
     "data": {
      "image/png": "[encoded data removed]",
      "text/plain": [
       "<Figure size 432x288 with 1 Axes>"
      ]
     },
     "metadata": {
      "needs_background": "light"
     },
     "output_type": "display_data"
    }
   ],
   "source": [
    "df.groupby('year')['price_per_sqm'].mean().plot(kind='bar', x='year', y='price_per_sqm')\n",
    "plt.show()"
   ]
  },
  {
   "cell_type": "markdown",
   "metadata": {},
   "source": [
    "**Вывод**\n",
    "\n",
    "Из шести рассмотренных факторов, наибольшее влияние на общую стоимость объекта оказывает его общая площадь. Это означает, что чем больше площадь квартиры, тем выше ее цена. Коэффициент корреляции между ценой и общей площадью равен 0.648, что свидетельствует о сильной положительной связи между этими переменными.\n",
    "\n",
    "На втором месте по влиянию на общую стоимость объекта находится его жилая площадь. Это означает, что чем больше площадь комнат в квартире, тем выше ее цена. Коэффициент корреляции между ценой и жилой площадью равен 0.576, что также свидетельствует о сильной положительной связи между этими переменными\n",
    "\n",
    "На третьем месте по влиянию на общую стоимость объекта находится его площадь кухни. Это означает, что чем больше площадь кухни в квартире, тем выше ее цена. Коэффициент корреляции между ценой и площадью кухни равен 0.504, что свидетельствует о умеренной положительной связи между этими переменными.\n",
    "\n",
    "На четвертом месте по влиянию на общую стоимость объекта находится его количество комнат. Чем больше комнат в квартире, тем выше ее цена. Но так как коэффициент корреляции между ценой и количеством комнат равен 0.359, то это скорее объясняется корреляция в 0.76 между площадью и количеством комнат.\n",
    " \n",
    "На пятом месте по влиянию на общую стоимость объекта находится его тип этажа, на котором расположена квартира. Это означает, что цена квартиры зависит от того, находится ли она на первом, последнем или другом этаже.График зависимости цены от типа этажа можно построить с помощью ящика с усами, который покажет распределение цен для каждого типа этажа\n",
    "\n",
    "На шестом месте по влиянию на общую стоимость объекта находится его дата размещения. Это означает, что цена квартиры зависит от того, в какой день недели, месяц или год она была выставлена на продажу. Коэффициенты корреляции между ценой и датой размещения можно посмотреть по визуализации на основе пивот таблицы:"
   ]
  },
  {
   "cell_type": "markdown",
   "metadata": {},
   "source": [
    "# Задание 3\n",
    "\n",
    "Посчитайте среднюю цену одного квадратного метра в 10 населённых пунктах с наибольшим числом объявлений. Выделите населённые пункты с самой высокой и низкой стоимостью квадратного метра. Эти данные можно найти по имени в столбце locality_name\n"
   ]
  },
  {
   "cell_type": "code",
   "execution_count": 35,
   "metadata": {},
   "outputs": [
    {
     "name": "stdout",
     "output_type": "stream",
     "text": [
      "105715.82715952146\n",
      "58142.773959409\n",
      "Санкт-Петербург\n",
      "Выборг\n"
     ]
    }
   ],
   "source": [
    "# Сгруппируйте данные по населенным пунктам и посчитайте количество объявлений для каждого\n",
    "grouped = df.groupby('locality_name').size().reset_index(name='count')\n",
    "\n",
    "# Отсортируйте данные по убыванию количества объявлений и выберите первые 10 строк\n",
    "top_10 = grouped.sort_values('count', ascending=False).head(10)\n",
    "\n",
    "# Соедините данные с исходным датафреймом по населенным пунктам\n",
    "merged = df.merge(top_10, on='locality_name')\n",
    "\n",
    "# Сгруппируйте данные по населенным пунктам и посчитайте среднюю цену за квадратный метр для каждого\n",
    "mean_price = merged.groupby('locality_name')['price_per_sqm'].mean().reset_index()\n",
    "\n",
    "# Отсортируйте данные по возрастанию средней цены за квадратный метр\n",
    "mean_price.sort_values('price_per_sqm')\n",
    "\n",
    "max_price = mean_price['price_per_sqm'].max() # находим максимальную цену за квадратный метр\n",
    "min_price = mean_price['price_per_sqm'].min() # находим минимальную цену за квадратный метр\n",
    "max_locality = mean_price[mean_price['price_per_sqm'] == max_price]['locality_name'].iloc[0] # находим населенный пункт с максимальной ценой за квадратный метр\n",
    "min_locality = mean_price[mean_price['price_per_sqm'] == min_price]['locality_name'].iloc[0] # находим населенный пункт с минимальной ценой за квадратный метр\n",
    "print(max_price)\n",
    "print(min_price)\n",
    "print(max_locality)\n",
    "print(min_locality)"
   ]
  },
  {
   "cell_type": "markdown",
   "metadata": {},
   "source": [
    "# Задание 4\n",
    "Ранее вы посчитали расстояние до центра в километрах. Теперь выделите квартиры в Санкт-Петербурге с помощью столбца locality_name и вычислите среднюю цену каждого километра. Опишите, как стоимость объектов зависит от расстояния до центра города"
   ]
  },
  {
   "cell_type": "code",
   "execution_count": 36,
   "metadata": {},
   "outputs": [
    {
     "data": {
      "image/png": "[encoded data removed]",
      "text/plain": [
       "<Figure size 432x288 with 1 Axes>"
      ]
     },
     "metadata": {
      "needs_background": "light"
     },
     "output_type": "display_data"
    }
   ],
   "source": [
    "# Выберите квартиры в Санкт-Петербурге\n",
    "spb = df[df['locality_name'] == 'Санкт-Петербург']\n",
    "\n",
    "# Сгруппируйте данные по расстоянию до центра и посчитайте среднюю цену за квадратный метр для каждого километра\n",
    "spb_mean_price = spb.groupby('distance_to_center_km')['price_per_sqm'].mean().reset_index()\n",
    "\n",
    "# Постройте график средней цены за квадратный метр в зависимости от расстояния до центра\n",
    "import matplotlib.pyplot as plt\n",
    "plt.plot(spb_mean_price['distance_to_center_km'], spb_mean_price['price_per_sqm'])\n",
    "plt.xlabel('Расстояние до центра, км')\n",
    "plt.ylabel('Средняя цена за кв.м., руб.')\n",
    "plt.title('Зависимость стоимости объектов от расстояния до центра города')\n",
    "plt.show()\n"
   ]
  },
  {
   "cell_type": "markdown",
   "metadata": {},
   "source": [
    "**Вывод**\n",
    "\n",
    "График показывает, что средняя цена за квадратный метр уменьшается по мере удаления от центра города. Это логично, так как центральные районы Санкт-Петербурга считаются более престижными и востребованными. На графике можно выделить два сегмента: до 8 км от центра и после 8 км. До 8 км цена за квадратный метр сильно колеблется, вероятно потому что в центре много домов старого фонда, и достигает максимума около 4 км от центра. После 8 км цена за квадратный метр стабилизируется и плавно убывает. "
   ]
  },
  {
   "cell_type": "code",
   "execution_count": 37,
   "metadata": {},
   "outputs": [
    {
     "data": {
      "image/png": "[encoded data removed]",
      "text/plain": [
       "<Figure size 432x288 with 1 Axes>"
      ]
     },
     "metadata": {
      "needs_background": "light"
     },
     "output_type": "display_data"
    }
   ],
   "source": [
    "# Выберите квартиры в Санкт-Петербурге\n",
    "spb = df[df['locality_name'] == 'Санкт-Петербург']\n",
    "\n",
    "# Сгруппируйте данные по расстоянию до центра и посчитайте среднюю цену за квадратный метр для каждого километра\n",
    "spb_mean_price = spb.groupby('distance_to_center_km')['last_price'].mean().reset_index()\n",
    "\n",
    "# Постройте график средней цены за квадратный метр в зависимости от расстояния до центра\n",
    "import matplotlib.pyplot as plt\n",
    "plt.plot(spb_mean_price['distance_to_center_km'], spb_mean_price['last_price'])\n",
    "plt.xlabel('Расстояние до центра, км')\n",
    "plt.ylabel('Средняя цена за кв.м., руб.')\n",
    "plt.title('Зависимость стоимости объектов от расстояния до центра города')\n",
    "plt.show()\n"
   ]
  },
  {
   "cell_type": "markdown",
   "metadata": {},
   "source": [
    "# Общий вывод\n",
    "\n",
    "В ходе анализа данных о продаже недвижимости в регионе были выявлены следующие основные факторы, влияющие на цену и скорость продажи квартир:\n",
    "\n",
    "**Общая площадь:** чем больше площадь квартиры, тем выше ее цена и тем дольше она продается. Средняя цена за квадратный метр составляет 99 тыс. рублей, а среднее время продажи - 180 дней.\n",
    "\n",
    "**Количество комнат:** чем больше комнат в квартире, тем выше ее цена и тем дольше она продается. Средняя цена за однокомнатную квартиру - 4.3 млн рублей, а за пятикомнатную - 14.6 млн рублей. Среднее время продажи однокомнатной квартиры - 156 дней, а пятикомнатной - 256 дней.\n",
    "\n",
    "**Тип этажа:** квартиры на первом и последнем этажах стоят дешевле и продаются быстрее, чем квартиры на других этажах. Средняя цена за квадратный метр на первом этаже - 81 тыс. рублей, на последнем - 92 тыс. рублей, а на других - 104 тыс. рублей. Среднее время продажи на первом этаже - 174 дня, на последнем - 181 день, а на других - 187 дней.\n",
    "\n",
    "**Дата размещения:** цена и скорость продажи квартир зависят от дня недели, месяца и года публикации объявления. Самые высокие цены наблюдаются в среду и в апреле, а самые низкие - в субботу и в январе. Самое быстрое время продажи наблюдается во вторник и в мае, а самое долгое - в пятницу и в августе. Цены и скорость продажи также имеют тенденцию снижаться с годами: самые высокие цены были в 2014 году, а самые низкие - в 2019 году.\n",
    "\n",
    "Набор данных содержал информацию о 23 645 объявлениях, опубликованных в период с 2014 по 2019 год, включая характеристики квартир, расположение, дату публикации и цену. Данные были предобработаны: заполнены пропущенные значения, изменены типы данных, устранены дубликаты и аномалии. Для каждого объявления были посчитаны дополнительные параметры, такие как цена за квадратный метр, тип этажа и расстояние до центра города. Затем были изучены распределения и зависимости различных параметров, таких как общая площадь, жилая площадь, площадь кухни, цена объекта, количество комнат, высота потолков, этаж квартиры, тип этажа квартиры, общее количество этажей в доме, расстояние до центра города в метрах, расстояние до ближайшего аэропорта, расстояние до ближайшего парка и день и месяц публикации объявления. Были построены гистограммы и сводные таблицы для визуализации данных.\n",
    "\n",
    "В результате анализа были сделаны следующие выводы:\n",
    "\n",
    "Средняя цена квартиры в регионе составляет 6.5 млн рублей, а средняя площадь - 60 кв. метров. Большинство квартир имеют одну или две комнаты, а высота потолков варьируется от 2.5 до 3 метров.\n",
    "Самые дорогие квартиры находятся в Санкт-Петербурге, а самые дешевые - в Выборге. Средняя цена за квадратный метр в Санкт-Петербурге составляет 114 тыс. рублей, а в Выборге - 58 тыс. рублей.\n",
    "Центральная зона Санкт-Петербурга находится в радиусе 8 км от центра города. В этой зоне цены за квадратный метр выше, чем в остальных районах города, а также наблюдается большее разнообразие по площади, количеству комнат и высоте потолков.\n",
    "Самый популярный парк среди продавцов квартир - Парк 300-летия Санкт-Петербурга, а самый популярный аэропорт - Пулково. Расстояние до парка или аэропорта не имеет сильного влияния на цену квартиры, но может влиять на скорость продажи.\n",
    "\n",
    "Вот возможные рекомендации для последующих шагов:\n",
    "\n",
    "Можно обработать и проанализировать другие признаки, такие как наличие ремонта, мебели, вид из окна и т.д., и посмотреть, как они влияют на цену и скорость продажи квартир.\n",
    "Можно также исследовать влияние на цену и скорость продажи квартир таких факторов, как инфраструктура (наличие школ, магазинов, больниц и т.д.), транспортная доступность (наличие метро, автобусных остановок, пробок и т.д.) и экологическая обстановка (наличие зеленых зон, промышленных объектов, уровень шума и т.д.).\n",
    "Можно также сравнить данные о продаже недвижимости в регионе с данными по другим регионам или странам и выявить особенности и различия в ценообразовании и динамике продаж."
   ]
  }
 ],
 "metadata": {
  "ExecuteTimeLog": [
   {
    "duration": 563,
    "start_time": "2023-06-09T05:47:30.958Z"
   },
   {
    "duration": 93,
    "start_time": "2023-06-09T05:47:43.413Z"
   },
   {
    "duration": 114,
    "start_time": "2023-06-09T05:56:02.769Z"
   },
   {
    "duration": 110,
    "start_time": "2023-06-09T05:56:23.282Z"
   },
   {
    "duration": 114,
    "start_time": "2023-06-09T05:56:25.401Z"
   },
   {
    "duration": 111,
    "start_time": "2023-06-09T05:56:38.657Z"
   },
   {
    "duration": 109,
    "start_time": "2023-06-09T05:56:46.427Z"
   },
   {
    "duration": 2573,
    "start_time": "2023-06-09T05:59:46.337Z"
   },
   {
    "duration": 27,
    "start_time": "2023-06-09T06:10:32.998Z"
   },
   {
    "duration": 10,
    "start_time": "2023-06-09T06:10:41.909Z"
   },
   {
    "duration": 2075,
    "start_time": "2023-06-09T06:16:03.548Z"
   },
   {
    "duration": 2306,
    "start_time": "2023-06-09T06:16:37.202Z"
   },
   {
    "duration": 18,
    "start_time": "2023-06-09T06:17:22.951Z"
   },
   {
    "duration": 19,
    "start_time": "2023-06-09T06:17:27.223Z"
   },
   {
    "duration": 13,
    "start_time": "2023-06-09T06:17:29.716Z"
   },
   {
    "duration": 19,
    "start_time": "2023-06-09T06:17:35.506Z"
   },
   {
    "duration": 11,
    "start_time": "2023-06-09T06:17:43.521Z"
   },
   {
    "duration": 2065,
    "start_time": "2023-06-09T06:17:49.094Z"
   },
   {
    "duration": 10,
    "start_time": "2023-06-09T06:17:53.526Z"
   },
   {
    "duration": 2249,
    "start_time": "2023-06-09T06:18:44.102Z"
   },
   {
    "duration": 8,
    "start_time": "2023-06-09T06:19:12.178Z"
   },
   {
    "duration": 160,
    "start_time": "2023-06-09T06:19:26.082Z"
   },
   {
    "duration": 361,
    "start_time": "2023-06-09T06:19:39.750Z"
   },
   {
    "duration": 262,
    "start_time": "2023-06-09T06:20:17.538Z"
   },
   {
    "duration": 291,
    "start_time": "2023-06-09T06:20:23.278Z"
   },
   {
    "duration": 251,
    "start_time": "2023-06-09T06:20:29.566Z"
   },
   {
    "duration": 263,
    "start_time": "2023-06-09T06:20:38.168Z"
   },
   {
    "duration": 223,
    "start_time": "2023-06-09T06:21:35.386Z"
   },
   {
    "duration": 260,
    "start_time": "2023-06-09T06:21:41.721Z"
   },
   {
    "duration": 78,
    "start_time": "2023-06-09T07:02:27.487Z"
   },
   {
    "duration": 10,
    "start_time": "2023-06-09T07:02:32.499Z"
   },
   {
    "duration": 11,
    "start_time": "2023-06-09T07:30:53.830Z"
   },
   {
    "duration": 85,
    "start_time": "2023-06-09T07:33:41.455Z"
   },
   {
    "duration": 82,
    "start_time": "2023-06-09T07:33:43.693Z"
   },
   {
    "duration": 25,
    "start_time": "2023-06-09T07:33:52.621Z"
   },
   {
    "duration": 2148,
    "start_time": "2023-06-09T07:33:59.254Z"
   },
   {
    "duration": 2323,
    "start_time": "2023-06-09T07:34:03.747Z"
   },
   {
    "duration": 35,
    "start_time": "2023-06-09T07:34:08.881Z"
   },
   {
    "duration": 26,
    "start_time": "2023-06-09T07:34:38.377Z"
   },
   {
    "duration": 12,
    "start_time": "2023-06-09T07:34:42.297Z"
   },
   {
    "duration": 21,
    "start_time": "2023-06-09T07:34:46.034Z"
   },
   {
    "duration": 20,
    "start_time": "2023-06-09T07:34:52.554Z"
   },
   {
    "duration": 23,
    "start_time": "2023-06-09T07:35:05.550Z"
   },
   {
    "duration": 12,
    "start_time": "2023-06-09T07:35:09.103Z"
   },
   {
    "duration": 2251,
    "start_time": "2023-06-09T07:35:12.140Z"
   },
   {
    "duration": 11,
    "start_time": "2023-06-09T07:35:16.951Z"
   },
   {
    "duration": 24,
    "start_time": "2023-06-09T07:35:22.058Z"
   },
   {
    "duration": 28,
    "start_time": "2023-06-09T07:35:30.370Z"
   },
   {
    "duration": 20,
    "start_time": "2023-06-09T07:35:33.501Z"
   },
   {
    "duration": 21,
    "start_time": "2023-06-09T07:35:52.808Z"
   },
   {
    "duration": 200,
    "start_time": "2023-06-09T07:36:07.055Z"
   },
   {
    "duration": 2347,
    "start_time": "2023-06-09T07:36:10.782Z"
   },
   {
    "duration": 10,
    "start_time": "2023-06-09T07:36:16.932Z"
   },
   {
    "duration": 96,
    "start_time": "2023-06-09T07:36:18.320Z"
   },
   {
    "duration": 78,
    "start_time": "2023-06-09T07:36:21.070Z"
   },
   {
    "duration": 78,
    "start_time": "2023-06-09T07:36:25.753Z"
   },
   {
    "duration": 88,
    "start_time": "2023-06-09T07:36:32.939Z"
   },
   {
    "duration": 77,
    "start_time": "2023-06-09T07:36:54.973Z"
   },
   {
    "duration": 82,
    "start_time": "2023-06-09T07:37:24.842Z"
   },
   {
    "duration": 86,
    "start_time": "2023-06-09T07:37:31.013Z"
   },
   {
    "duration": 9,
    "start_time": "2023-06-09T07:38:15.844Z"
   },
   {
    "duration": 2325,
    "start_time": "2023-06-09T07:39:15.194Z"
   },
   {
    "duration": 9,
    "start_time": "2023-06-09T07:39:20.217Z"
   },
   {
    "duration": 11,
    "start_time": "2023-06-09T07:39:26.312Z"
   },
   {
    "duration": 2148,
    "start_time": "2023-06-09T07:40:28.967Z"
   },
   {
    "duration": 2462,
    "start_time": "2023-06-09T07:41:16.778Z"
   },
   {
    "duration": 229,
    "start_time": "2023-06-09T07:44:22.378Z"
   },
   {
    "duration": 336,
    "start_time": "2023-06-09T07:44:43.222Z"
   },
   {
    "duration": 175,
    "start_time": "2023-06-09T07:45:00.795Z"
   },
   {
    "duration": 152,
    "start_time": "2023-06-09T07:45:06.559Z"
   },
   {
    "duration": 2340,
    "start_time": "2023-06-09T07:45:14.954Z"
   },
   {
    "duration": 148,
    "start_time": "2023-06-09T07:45:19.851Z"
   },
   {
    "duration": 233,
    "start_time": "2023-06-09T07:45:26.359Z"
   },
   {
    "duration": 149,
    "start_time": "2023-06-09T07:45:47.475Z"
   },
   {
    "duration": 138,
    "start_time": "2023-06-09T07:48:02.827Z"
   },
   {
    "duration": 142,
    "start_time": "2023-06-09T07:48:13.828Z"
   },
   {
    "duration": 146,
    "start_time": "2023-06-09T07:48:17.159Z"
   },
   {
    "duration": 172,
    "start_time": "2023-06-09T07:48:24.119Z"
   },
   {
    "duration": 146,
    "start_time": "2023-06-09T07:48:34.735Z"
   },
   {
    "duration": 140,
    "start_time": "2023-06-09T07:48:40.087Z"
   },
   {
    "duration": 10,
    "start_time": "2023-06-09T07:49:07.831Z"
   },
   {
    "duration": 9,
    "start_time": "2023-06-09T07:49:13.288Z"
   },
   {
    "duration": 139,
    "start_time": "2023-06-09T07:49:34.924Z"
   },
   {
    "duration": 147,
    "start_time": "2023-06-09T07:49:37.435Z"
   },
   {
    "duration": 26,
    "start_time": "2023-06-09T07:50:20.373Z"
   },
   {
    "duration": 20,
    "start_time": "2023-06-09T07:51:04.976Z"
   },
   {
    "duration": 18,
    "start_time": "2023-06-09T07:51:08.356Z"
   },
   {
    "duration": 25,
    "start_time": "2023-06-09T07:51:28.606Z"
   },
   {
    "duration": 60,
    "start_time": "2023-06-09T07:51:46.019Z"
   },
   {
    "duration": 947,
    "start_time": "2023-06-09T07:51:49.127Z"
   },
   {
    "duration": 908,
    "start_time": "2023-06-09T07:51:55.603Z"
   },
   {
    "duration": 897,
    "start_time": "2023-06-09T07:53:32.798Z"
   },
   {
    "duration": 238,
    "start_time": "2023-06-09T07:54:09.032Z"
   },
   {
    "duration": 466,
    "start_time": "2023-06-09T07:54:25.564Z"
   },
   {
    "duration": 212,
    "start_time": "2023-06-09T07:54:43.627Z"
   },
   {
    "duration": 205,
    "start_time": "2023-06-09T07:54:56.704Z"
   },
   {
    "duration": 213,
    "start_time": "2023-06-09T07:55:02.860Z"
   },
   {
    "duration": 875,
    "start_time": "2023-06-09T07:55:55.385Z"
   },
   {
    "duration": 209,
    "start_time": "2023-06-09T07:56:09.747Z"
   },
   {
    "duration": 169,
    "start_time": "2023-06-09T07:56:37.487Z"
   },
   {
    "duration": 212,
    "start_time": "2023-06-09T07:56:46.112Z"
   },
   {
    "duration": 210,
    "start_time": "2023-06-09T07:57:11.425Z"
   },
   {
    "duration": 202,
    "start_time": "2023-06-09T07:58:06.667Z"
   },
   {
    "duration": 205,
    "start_time": "2023-06-09T07:58:19.955Z"
   },
   {
    "duration": 208,
    "start_time": "2023-06-09T07:59:02.116Z"
   },
   {
    "duration": 221,
    "start_time": "2023-06-09T07:59:05.620Z"
   },
   {
    "duration": 203,
    "start_time": "2023-06-09T07:59:11.356Z"
   },
   {
    "duration": 198,
    "start_time": "2023-06-09T08:01:20.192Z"
   },
   {
    "duration": 80,
    "start_time": "2023-06-09T08:02:36.167Z"
   },
   {
    "duration": 198,
    "start_time": "2023-06-09T08:03:04.779Z"
   },
   {
    "duration": 312,
    "start_time": "2023-06-09T08:03:11.464Z"
   },
   {
    "duration": 167,
    "start_time": "2023-06-09T08:03:16.955Z"
   },
   {
    "duration": 162,
    "start_time": "2023-06-09T08:03:22.007Z"
   },
   {
    "duration": 164,
    "start_time": "2023-06-09T08:03:26.160Z"
   },
   {
    "duration": 191,
    "start_time": "2023-06-09T08:03:57.590Z"
   },
   {
    "duration": 186,
    "start_time": "2023-06-09T08:04:12.015Z"
   },
   {
    "duration": 194,
    "start_time": "2023-06-09T08:04:37.895Z"
   },
   {
    "duration": 189,
    "start_time": "2023-06-09T08:04:51.285Z"
   },
   {
    "duration": 68,
    "start_time": "2023-06-09T08:04:59.931Z"
   },
   {
    "duration": 199,
    "start_time": "2023-06-09T08:05:04.046Z"
   },
   {
    "duration": 211,
    "start_time": "2023-06-09T08:05:09.280Z"
   },
   {
    "duration": 193,
    "start_time": "2023-06-09T08:06:09.389Z"
   },
   {
    "duration": 223,
    "start_time": "2023-06-09T08:06:15.714Z"
   },
   {
    "duration": 212,
    "start_time": "2023-06-09T08:06:19.959Z"
   },
   {
    "duration": 202,
    "start_time": "2023-06-09T08:06:29.918Z"
   },
   {
    "duration": 253,
    "start_time": "2023-06-09T08:07:14.423Z"
   },
   {
    "duration": 267,
    "start_time": "2023-06-09T08:07:22.876Z"
   },
   {
    "duration": 279,
    "start_time": "2023-06-09T08:07:58.185Z"
   },
   {
    "duration": 233,
    "start_time": "2023-06-09T08:08:36.228Z"
   },
   {
    "duration": 390,
    "start_time": "2023-06-09T08:08:49.622Z"
   },
   {
    "duration": 243,
    "start_time": "2023-06-09T08:09:10.013Z"
   },
   {
    "duration": 229,
    "start_time": "2023-06-09T08:09:46.868Z"
   },
   {
    "duration": 206,
    "start_time": "2023-06-09T08:10:41.899Z"
   },
   {
    "duration": 11,
    "start_time": "2023-06-09T08:10:54.641Z"
   },
   {
    "duration": 17,
    "start_time": "2023-06-09T08:11:27.263Z"
   },
   {
    "duration": 228,
    "start_time": "2023-06-09T08:11:31.188Z"
   },
   {
    "duration": 23,
    "start_time": "2023-06-09T08:11:47.271Z"
   },
   {
    "duration": 212,
    "start_time": "2023-06-09T08:11:53.905Z"
   },
   {
    "duration": 226,
    "start_time": "2023-06-09T08:11:58.383Z"
   },
   {
    "duration": 78,
    "start_time": "2023-06-09T08:13:53.581Z"
   },
   {
    "duration": 2428,
    "start_time": "2023-06-09T08:17:13.129Z"
   },
   {
    "duration": 2505,
    "start_time": "2023-06-09T08:17:37.590Z"
   },
   {
    "duration": 2143,
    "start_time": "2023-06-09T08:17:43.757Z"
   },
   {
    "duration": 2523,
    "start_time": "2023-06-09T08:17:46.780Z"
   },
   {
    "duration": 2359,
    "start_time": "2023-06-09T08:17:53.412Z"
   },
   {
    "duration": 60,
    "start_time": "2023-06-09T08:18:47.074Z"
   },
   {
    "duration": 55,
    "start_time": "2023-06-09T08:18:53.229Z"
   },
   {
    "duration": 25,
    "start_time": "2023-06-09T08:18:58.881Z"
   },
   {
    "duration": 36,
    "start_time": "2023-06-09T08:19:18.282Z"
   },
   {
    "duration": 32,
    "start_time": "2023-06-09T08:19:46.266Z"
   },
   {
    "duration": 18,
    "start_time": "2023-06-09T08:19:59.567Z"
   },
   {
    "duration": 30,
    "start_time": "2023-06-09T08:21:19.190Z"
   },
   {
    "duration": 29,
    "start_time": "2023-06-09T08:22:09.022Z"
   },
   {
    "duration": 48,
    "start_time": "2023-06-09T08:22:13.406Z"
   },
   {
    "duration": 14,
    "start_time": "2023-06-09T08:22:44.318Z"
   },
   {
    "duration": 21,
    "start_time": "2023-06-09T08:22:49.712Z"
   },
   {
    "duration": 12,
    "start_time": "2023-06-09T08:24:38.157Z"
   },
   {
    "duration": 8,
    "start_time": "2023-06-09T09:06:39.396Z"
   },
   {
    "duration": 66,
    "start_time": "2023-06-09T09:06:55.105Z"
   },
   {
    "duration": 2160,
    "start_time": "2023-06-09T09:10:27.070Z"
   },
   {
    "duration": 7,
    "start_time": "2023-06-09T09:11:10.575Z"
   },
   {
    "duration": 27,
    "start_time": "2023-06-09T09:11:19.213Z"
   },
   {
    "duration": 2849,
    "start_time": "2023-06-09T09:12:02.787Z"
   },
   {
    "duration": 47,
    "start_time": "2023-06-09T09:12:08.259Z"
   },
   {
    "duration": 18,
    "start_time": "2023-06-09T09:12:16.268Z"
   },
   {
    "duration": 1782,
    "start_time": "2023-06-09T09:12:21.496Z"
   },
   {
    "duration": 16,
    "start_time": "2023-06-09T09:12:25.111Z"
   },
   {
    "duration": 9,
    "start_time": "2023-06-09T09:12:59.072Z"
   },
   {
    "duration": 116,
    "start_time": "2023-06-09T09:15:12.484Z"
   },
   {
    "duration": 118,
    "start_time": "2023-06-09T09:28:10.901Z"
   },
   {
    "duration": 27,
    "start_time": "2023-06-09T09:28:24.683Z"
   },
   {
    "duration": 106,
    "start_time": "2023-06-09T09:28:29.786Z"
   },
   {
    "duration": 16,
    "start_time": "2023-06-09T09:28:31.785Z"
   },
   {
    "duration": 184,
    "start_time": "2023-06-09T09:28:38.571Z"
   },
   {
    "duration": 6,
    "start_time": "2023-06-09T09:28:44.491Z"
   },
   {
    "duration": 8,
    "start_time": "2023-06-09T09:28:49.976Z"
   },
   {
    "duration": 10,
    "start_time": "2023-06-09T09:28:58.482Z"
   },
   {
    "duration": 158,
    "start_time": "2023-06-09T09:29:05.789Z"
   },
   {
    "duration": 5,
    "start_time": "2023-06-09T09:29:08.501Z"
   },
   {
    "duration": 16,
    "start_time": "2023-06-09T09:29:39.576Z"
   },
   {
    "duration": 20,
    "start_time": "2023-06-09T09:29:48.073Z"
   },
   {
    "duration": 9,
    "start_time": "2023-06-09T09:29:57.387Z"
   },
   {
    "duration": 12,
    "start_time": "2023-06-09T09:30:09.680Z"
   },
   {
    "duration": 19,
    "start_time": "2023-06-09T09:30:12.653Z"
   },
   {
    "duration": 8,
    "start_time": "2023-06-09T09:30:20.804Z"
   },
   {
    "duration": 9,
    "start_time": "2023-06-09T09:56:46.830Z"
   },
   {
    "duration": 10,
    "start_time": "2023-06-09T09:57:16.026Z"
   },
   {
    "duration": 1750,
    "start_time": "2023-06-09T10:00:39.630Z"
   },
   {
    "duration": 57,
    "start_time": "2023-06-09T10:00:48.378Z"
   },
   {
    "duration": 15,
    "start_time": "2023-06-09T10:01:19.027Z"
   },
   {
    "duration": 763,
    "start_time": "2023-06-09T10:03:16.818Z"
   },
   {
    "duration": 13,
    "start_time": "2023-06-09T10:03:29.780Z"
   },
   {
    "duration": 803,
    "start_time": "2023-06-09T10:03:34.958Z"
   },
   {
    "duration": 445,
    "start_time": "2023-06-09T10:03:42.485Z"
   },
   {
    "duration": 564,
    "start_time": "2023-06-09T10:04:34.779Z"
   },
   {
    "duration": 380,
    "start_time": "2023-06-09T10:04:51.080Z"
   },
   {
    "duration": 11,
    "start_time": "2023-06-09T10:05:13.404Z"
   },
   {
    "duration": 10,
    "start_time": "2023-06-09T10:05:18.316Z"
   },
   {
    "duration": 12,
    "start_time": "2023-06-09T10:05:22.286Z"
   },
   {
    "duration": 10,
    "start_time": "2023-06-09T10:05:28.786Z"
   },
   {
    "duration": 16,
    "start_time": "2023-06-09T10:05:33.227Z"
   },
   {
    "duration": 13,
    "start_time": "2023-06-09T10:05:36.154Z"
   },
   {
    "duration": 12,
    "start_time": "2023-06-09T10:05:38.318Z"
   },
   {
    "duration": 11,
    "start_time": "2023-06-09T10:05:41.110Z"
   },
   {
    "duration": 11,
    "start_time": "2023-06-09T10:05:49.618Z"
   },
   {
    "duration": 29,
    "start_time": "2023-06-09T10:05:54.010Z"
   },
   {
    "duration": 10,
    "start_time": "2023-06-09T10:06:18.321Z"
   },
   {
    "duration": 12,
    "start_time": "2023-06-09T10:06:25.721Z"
   },
   {
    "duration": 15,
    "start_time": "2023-06-09T10:06:30.344Z"
   },
   {
    "duration": 13,
    "start_time": "2023-06-09T10:06:36.990Z"
   },
   {
    "duration": 27,
    "start_time": "2023-06-09T10:06:52.623Z"
   },
   {
    "duration": 18,
    "start_time": "2023-06-09T10:06:56.484Z"
   },
   {
    "duration": 18,
    "start_time": "2023-06-09T10:06:59.072Z"
   },
   {
    "duration": 14,
    "start_time": "2023-06-09T10:07:01.376Z"
   },
   {
    "duration": 16,
    "start_time": "2023-06-09T10:07:04.154Z"
   },
   {
    "duration": 11,
    "start_time": "2023-06-09T10:07:08.012Z"
   },
   {
    "duration": 12,
    "start_time": "2023-06-09T10:07:16.996Z"
   },
   {
    "duration": 18,
    "start_time": "2023-06-09T10:07:20.780Z"
   },
   {
    "duration": 12,
    "start_time": "2023-06-09T10:07:24.921Z"
   },
   {
    "duration": 13,
    "start_time": "2023-06-09T10:07:31.226Z"
   },
   {
    "duration": 11,
    "start_time": "2023-06-09T10:07:34.323Z"
   },
   {
    "duration": 7,
    "start_time": "2023-06-09T10:19:23.504Z"
   },
   {
    "duration": 6,
    "start_time": "2023-06-09T10:21:14.726Z"
   },
   {
    "duration": 15,
    "start_time": "2023-06-09T10:21:39.154Z"
   },
   {
    "duration": 14,
    "start_time": "2023-06-09T10:23:28.190Z"
   },
   {
    "duration": 16,
    "start_time": "2023-06-09T10:25:33.466Z"
   },
   {
    "duration": 12,
    "start_time": "2023-06-09T10:29:08.121Z"
   },
   {
    "duration": 248,
    "start_time": "2023-06-09T10:34:24.858Z"
   },
   {
    "duration": 107,
    "start_time": "2023-06-09T10:34:45.230Z"
   },
   {
    "duration": 10,
    "start_time": "2023-06-09T10:44:11.375Z"
   },
   {
    "duration": 12,
    "start_time": "2023-06-09T10:44:20.880Z"
   },
   {
    "duration": 21,
    "start_time": "2023-06-09T10:47:08.618Z"
   },
   {
    "duration": 12,
    "start_time": "2023-06-09T10:47:21.573Z"
   },
   {
    "duration": 4,
    "start_time": "2023-06-09T11:11:34.254Z"
   },
   {
    "duration": 5,
    "start_time": "2023-06-09T11:12:29.486Z"
   },
   {
    "duration": 16,
    "start_time": "2023-06-09T11:24:51.172Z"
   },
   {
    "duration": 4,
    "start_time": "2023-06-09T11:24:54.491Z"
   },
   {
    "duration": 4,
    "start_time": "2023-06-09T11:24:56.118Z"
   },
   {
    "duration": 10,
    "start_time": "2023-06-09T11:25:04.898Z"
   },
   {
    "duration": 5,
    "start_time": "2023-06-09T11:25:07.834Z"
   },
   {
    "duration": 9,
    "start_time": "2023-06-09T11:25:11.855Z"
   },
   {
    "duration": 15,
    "start_time": "2023-06-09T11:25:52.586Z"
   },
   {
    "duration": 11,
    "start_time": "2023-06-09T11:25:55.595Z"
   },
   {
    "duration": 13,
    "start_time": "2023-06-09T11:25:58.130Z"
   },
   {
    "duration": 12,
    "start_time": "2023-06-09T11:26:12.202Z"
   },
   {
    "duration": 15,
    "start_time": "2023-06-09T11:28:45.934Z"
   },
   {
    "duration": 112,
    "start_time": "2023-06-09T11:31:23.174Z"
   },
   {
    "duration": 351,
    "start_time": "2023-06-09T11:31:38.950Z"
   },
   {
    "duration": 47,
    "start_time": "2023-06-09T11:31:44.226Z"
   },
   {
    "duration": 294,
    "start_time": "2023-06-09T11:31:52.626Z"
   },
   {
    "duration": 55,
    "start_time": "2023-06-09T11:32:02.390Z"
   },
   {
    "duration": 280,
    "start_time": "2023-06-09T11:32:05.214Z"
   },
   {
    "duration": 60,
    "start_time": "2023-06-09T11:32:11.442Z"
   },
   {
    "duration": 46,
    "start_time": "2023-06-09T11:32:15.684Z"
   },
   {
    "duration": 286,
    "start_time": "2023-06-09T11:32:19.607Z"
   },
   {
    "duration": 7,
    "start_time": "2023-06-09T11:33:21.910Z"
   },
   {
    "duration": 389,
    "start_time": "2023-06-09T11:35:28.842Z"
   },
   {
    "duration": 165,
    "start_time": "2023-06-09T11:35:34.259Z"
   },
   {
    "duration": 269,
    "start_time": "2023-06-09T11:35:36.279Z"
   },
   {
    "duration": 271,
    "start_time": "2023-06-09T11:37:09.625Z"
   },
   {
    "duration": 269,
    "start_time": "2023-06-09T11:37:20.526Z"
   },
   {
    "duration": 294,
    "start_time": "2023-06-09T11:37:51.106Z"
   },
   {
    "duration": 107,
    "start_time": "2023-06-09T11:38:00.994Z"
   },
   {
    "duration": 263,
    "start_time": "2023-06-09T11:38:04.210Z"
   },
   {
    "duration": 292,
    "start_time": "2023-06-09T11:38:07.126Z"
   },
   {
    "duration": 255,
    "start_time": "2023-06-09T11:38:23.584Z"
   },
   {
    "duration": 261,
    "start_time": "2023-06-09T11:38:25.342Z"
   },
   {
    "duration": 287,
    "start_time": "2023-06-09T11:38:28.065Z"
   },
   {
    "duration": 318,
    "start_time": "2023-06-09T11:40:59.077Z"
   },
   {
    "duration": 9,
    "start_time": "2023-06-09T11:41:21.390Z"
   },
   {
    "duration": 6,
    "start_time": "2023-06-09T11:41:27.115Z"
   },
   {
    "duration": 10,
    "start_time": "2023-06-09T11:41:32.210Z"
   },
   {
    "duration": 11,
    "start_time": "2023-06-09T11:41:44.478Z"
   },
   {
    "duration": 13,
    "start_time": "2023-06-09T11:43:09.882Z"
   },
   {
    "duration": 266,
    "start_time": "2023-06-09T11:44:10.870Z"
   },
   {
    "duration": 67,
    "start_time": "2023-06-09T11:45:42.573Z"
   },
   {
    "duration": 13,
    "start_time": "2023-06-09T11:46:03.218Z"
   },
   {
    "duration": 278,
    "start_time": "2023-06-09T11:46:08.570Z"
   },
   {
    "duration": 11,
    "start_time": "2023-06-09T11:46:10.670Z"
   },
   {
    "duration": 11,
    "start_time": "2023-06-09T11:46:19.530Z"
   },
   {
    "duration": 11,
    "start_time": "2023-06-09T11:47:32.874Z"
   },
   {
    "duration": 12,
    "start_time": "2023-06-09T11:47:40.899Z"
   },
   {
    "duration": 9,
    "start_time": "2023-06-09T11:50:02.973Z"
   },
   {
    "duration": 274,
    "start_time": "2023-06-09T11:51:36.131Z"
   },
   {
    "duration": 297,
    "start_time": "2023-06-09T11:53:15.919Z"
   },
   {
    "duration": 564,
    "start_time": "2023-06-09T11:53:44.451Z"
   },
   {
    "duration": 515,
    "start_time": "2023-06-09T11:54:45.981Z"
   },
   {
    "duration": 6,
    "start_time": "2023-06-09T11:57:05.477Z"
   },
   {
    "duration": 6,
    "start_time": "2023-06-09T11:57:12.550Z"
   },
   {
    "duration": 12,
    "start_time": "2023-06-09T11:57:20.750Z"
   },
   {
    "duration": 6,
    "start_time": "2023-06-09T11:57:23.790Z"
   },
   {
    "duration": 42,
    "start_time": "2023-06-09T11:58:16.712Z"
   },
   {
    "duration": 11,
    "start_time": "2023-06-09T11:58:24.072Z"
   },
   {
    "duration": 522,
    "start_time": "2023-06-09T11:58:47.618Z"
   },
   {
    "duration": 520,
    "start_time": "2023-06-09T12:01:32.618Z"
   },
   {
    "duration": 185,
    "start_time": "2023-06-09T12:02:37.458Z"
   },
   {
    "duration": 7,
    "start_time": "2023-06-09T12:03:44.095Z"
   },
   {
    "duration": 529,
    "start_time": "2023-06-09T12:04:17.530Z"
   },
   {
    "duration": 540,
    "start_time": "2023-06-09T12:04:25.227Z"
   },
   {
    "duration": 179,
    "start_time": "2023-06-09T12:05:09.838Z"
   },
   {
    "duration": 506,
    "start_time": "2023-06-09T12:05:33.282Z"
   },
   {
    "duration": 485,
    "start_time": "2023-06-09T12:06:31.113Z"
   },
   {
    "duration": 482,
    "start_time": "2023-06-09T12:07:34.446Z"
   },
   {
    "duration": 6,
    "start_time": "2023-06-09T12:14:10.587Z"
   },
   {
    "duration": 530,
    "start_time": "2023-06-09T12:17:29.159Z"
   },
   {
    "duration": 505,
    "start_time": "2023-06-09T12:17:36.955Z"
   },
   {
    "duration": 460,
    "start_time": "2023-06-09T12:18:16.226Z"
   },
   {
    "duration": 6,
    "start_time": "2023-06-09T12:18:19.174Z"
   },
   {
    "duration": 13,
    "start_time": "2023-06-09T12:18:22.454Z"
   },
   {
    "duration": 530,
    "start_time": "2023-06-09T12:20:00.764Z"
   },
   {
    "duration": 5,
    "start_time": "2023-06-09T12:20:04.799Z"
   },
   {
    "duration": 499,
    "start_time": "2023-06-09T12:21:28.211Z"
   },
   {
    "duration": 465,
    "start_time": "2023-06-09T12:21:55.206Z"
   },
   {
    "duration": 6,
    "start_time": "2023-06-09T12:21:57.488Z"
   },
   {
    "duration": 465,
    "start_time": "2023-06-09T12:23:10.718Z"
   },
   {
    "duration": 6,
    "start_time": "2023-06-09T12:23:13.286Z"
   },
   {
    "duration": 35,
    "start_time": "2023-06-09T12:23:21.578Z"
   },
   {
    "duration": 7,
    "start_time": "2023-06-09T12:23:34.226Z"
   },
   {
    "duration": 9,
    "start_time": "2023-06-09T12:37:11.967Z"
   },
   {
    "duration": 10,
    "start_time": "2023-06-09T12:37:14.403Z"
   },
   {
    "duration": 7,
    "start_time": "2023-06-09T12:37:17.858Z"
   },
   {
    "duration": 905,
    "start_time": "2023-06-09T20:14:17.782Z"
   },
   {
    "duration": 625,
    "start_time": "2023-06-09T20:17:07.156Z"
   },
   {
    "duration": 7,
    "start_time": "2023-06-09T20:17:09.912Z"
   },
   {
    "duration": 1627,
    "start_time": "2023-06-18T05:03:13.993Z"
   },
   {
    "duration": 108,
    "start_time": "2023-06-18T05:03:32.468Z"
   },
   {
    "duration": 560,
    "start_time": "2023-06-18T05:04:01.000Z"
   },
   {
    "duration": 12,
    "start_time": "2023-06-18T05:04:42.338Z"
   },
   {
    "duration": 60,
    "start_time": "2023-06-18T05:04:47.004Z"
   },
   {
    "duration": 8,
    "start_time": "2023-06-18T05:05:02.712Z"
   },
   {
    "duration": 10,
    "start_time": "2023-06-18T05:05:15.808Z"
   },
   {
    "duration": 10,
    "start_time": "2023-06-18T05:05:19.780Z"
   },
   {
    "duration": 716,
    "start_time": "2023-06-18T05:15:01.997Z"
   },
   {
    "duration": 8,
    "start_time": "2023-06-18T05:15:08.932Z"
   },
   {
    "duration": 685,
    "start_time": "2023-06-18T05:15:27.758Z"
   },
   {
    "duration": 11,
    "start_time": "2023-06-18T05:15:29.432Z"
   },
   {
    "duration": 5,
    "start_time": "2023-06-18T05:18:18.883Z"
   },
   {
    "duration": 10,
    "start_time": "2023-06-18T05:18:25.087Z"
   },
   {
    "duration": 118,
    "start_time": "2023-06-18T05:18:32.639Z"
   },
   {
    "duration": 10,
    "start_time": "2023-06-18T05:18:37.064Z"
   },
   {
    "duration": 22,
    "start_time": "2023-06-18T05:19:54.866Z"
   },
   {
    "duration": 675,
    "start_time": "2023-06-18T05:23:18.238Z"
   },
   {
    "duration": 91,
    "start_time": "2023-06-18T05:28:22.417Z"
   },
   {
    "duration": 137,
    "start_time": "2023-06-18T05:33:22.935Z"
   },
   {
    "duration": 17,
    "start_time": "2023-06-18T05:33:41.043Z"
   },
   {
    "duration": 496,
    "start_time": "2023-06-18T05:33:44.455Z"
   },
   {
    "duration": 9,
    "start_time": "2023-06-18T05:33:46.366Z"
   },
   {
    "duration": 134,
    "start_time": "2023-06-18T05:34:02.296Z"
   },
   {
    "duration": 502,
    "start_time": "2023-06-18T05:34:05.987Z"
   },
   {
    "duration": 6,
    "start_time": "2023-06-18T05:34:08.685Z"
   },
   {
    "duration": 13,
    "start_time": "2023-06-18T05:34:36.157Z"
   },
   {
    "duration": 126,
    "start_time": "2023-06-18T05:34:45.768Z"
   },
   {
    "duration": 544,
    "start_time": "2023-06-18T05:34:49.694Z"
   },
   {
    "duration": 7,
    "start_time": "2023-06-18T05:34:55.166Z"
   },
   {
    "duration": 13,
    "start_time": "2023-06-18T05:34:57.253Z"
   },
   {
    "duration": 16,
    "start_time": "2023-06-18T05:35:01.238Z"
   },
   {
    "duration": 126,
    "start_time": "2023-06-18T05:35:03.909Z"
   },
   {
    "duration": 544,
    "start_time": "2023-06-18T05:35:07.956Z"
   },
   {
    "duration": 8,
    "start_time": "2023-06-18T05:35:14.435Z"
   },
   {
    "duration": 7,
    "start_time": "2023-06-18T05:35:19.712Z"
   },
   {
    "duration": 15,
    "start_time": "2023-06-18T05:35:24.489Z"
   },
   {
    "duration": 116,
    "start_time": "2023-06-18T05:35:27.791Z"
   },
   {
    "duration": 551,
    "start_time": "2023-06-18T05:35:30.920Z"
   },
   {
    "duration": 14,
    "start_time": "2023-06-18T05:36:48.894Z"
   },
   {
    "duration": 117,
    "start_time": "2023-06-18T05:36:51.408Z"
   },
   {
    "duration": 539,
    "start_time": "2023-06-18T05:36:54.635Z"
   },
   {
    "duration": 7,
    "start_time": "2023-06-18T06:31:32.268Z"
   },
   {
    "duration": 112,
    "start_time": "2023-06-18T06:31:40.732Z"
   },
   {
    "duration": 121,
    "start_time": "2023-06-18T06:31:51.934Z"
   },
   {
    "duration": 229,
    "start_time": "2023-06-18T06:32:25.956Z"
   },
   {
    "duration": 269,
    "start_time": "2023-06-18T06:34:04.074Z"
   },
   {
    "duration": 9,
    "start_time": "2023-06-18T06:35:14.643Z"
   },
   {
    "duration": 141,
    "start_time": "2023-06-18T06:35:37.173Z"
   },
   {
    "duration": 136,
    "start_time": "2023-06-18T06:35:47.947Z"
   },
   {
    "duration": 108,
    "start_time": "2023-06-18T06:36:58.147Z"
   },
   {
    "duration": 114,
    "start_time": "2023-06-18T06:37:05.863Z"
   },
   {
    "duration": 135,
    "start_time": "2023-06-18T06:37:25.608Z"
   },
   {
    "duration": 23,
    "start_time": "2023-06-18T06:37:34.773Z"
   },
   {
    "duration": 21,
    "start_time": "2023-06-18T06:37:42.563Z"
   },
   {
    "duration": 23,
    "start_time": "2023-06-18T06:37:48.044Z"
   },
   {
    "duration": 21,
    "start_time": "2023-06-18T06:37:56.386Z"
   },
   {
    "duration": 3,
    "start_time": "2023-06-18T06:38:48.045Z"
   },
   {
    "duration": 155,
    "start_time": "2023-06-18T06:38:51.484Z"
   },
   {
    "duration": 124,
    "start_time": "2023-06-18T06:39:03.514Z"
   },
   {
    "duration": 112,
    "start_time": "2023-06-18T06:40:28.432Z"
   },
   {
    "duration": 696,
    "start_time": "2023-06-18T06:41:06.090Z"
   },
   {
    "duration": 120,
    "start_time": "2023-06-18T06:41:14.363Z"
   },
   {
    "duration": 550,
    "start_time": "2023-06-18T06:41:16.975Z"
   },
   {
    "duration": 112,
    "start_time": "2023-06-18T06:46:18.603Z"
   },
   {
    "duration": 118,
    "start_time": "2023-06-18T06:47:58.248Z"
   },
   {
    "duration": 7,
    "start_time": "2023-06-18T06:48:12.673Z"
   },
   {
    "duration": 9,
    "start_time": "2023-06-18T06:49:40.920Z"
   },
   {
    "duration": 7,
    "start_time": "2023-06-18T06:49:53.282Z"
   },
   {
    "duration": 8,
    "start_time": "2023-06-18T06:52:56.269Z"
   },
   {
    "duration": 18,
    "start_time": "2023-06-18T06:53:45.319Z"
   },
   {
    "duration": 11,
    "start_time": "2023-06-18T06:53:52.444Z"
   },
   {
    "duration": 130,
    "start_time": "2023-06-18T06:55:33.989Z"
   },
   {
    "duration": 115,
    "start_time": "2023-06-18T06:55:47.780Z"
   },
   {
    "duration": 104,
    "start_time": "2023-06-18T06:56:43.436Z"
   },
   {
    "duration": 127,
    "start_time": "2023-06-18T07:02:20.994Z"
   },
   {
    "duration": 679,
    "start_time": "2023-06-18T07:02:25.229Z"
   },
   {
    "duration": 3,
    "start_time": "2023-06-18T07:04:33.795Z"
   },
   {
    "duration": 21,
    "start_time": "2023-06-18T07:04:36.974Z"
   },
   {
    "duration": 1619,
    "start_time": "2023-06-18T07:08:26.564Z"
   },
   {
    "duration": 584,
    "start_time": "2023-06-18T07:09:07.204Z"
   },
   {
    "duration": 725,
    "start_time": "2023-06-18T07:09:37.235Z"
   },
   {
    "duration": 767,
    "start_time": "2023-06-18T07:09:44.927Z"
   },
   {
    "duration": 743,
    "start_time": "2023-06-18T07:10:19.814Z"
   },
   {
    "duration": 1544,
    "start_time": "2023-06-18T07:10:59.461Z"
   },
   {
    "duration": 124,
    "start_time": "2023-06-18T07:13:48.018Z"
   },
   {
    "duration": 669,
    "start_time": "2023-06-18T07:13:56.096Z"
   },
   {
    "duration": 3,
    "start_time": "2023-06-18T07:14:06.395Z"
   },
   {
    "duration": 1805,
    "start_time": "2023-06-18T07:14:11.549Z"
   },
   {
    "duration": 2,
    "start_time": "2023-06-18T07:14:53.684Z"
   },
   {
    "duration": 39,
    "start_time": "2023-06-18T07:14:59.320Z"
   },
   {
    "duration": 98,
    "start_time": "2023-06-18T07:15:19.046Z"
   },
   {
    "duration": 117,
    "start_time": "2023-06-18T07:15:45.664Z"
   },
   {
    "duration": 24,
    "start_time": "2023-06-18T07:16:36.550Z"
   },
   {
    "duration": 16,
    "start_time": "2023-06-18T07:16:51.198Z"
   },
   {
    "duration": 18,
    "start_time": "2023-06-18T07:17:32.540Z"
   },
   {
    "duration": 22,
    "start_time": "2023-06-18T07:17:50.740Z"
   },
   {
    "duration": 710,
    "start_time": "2023-06-18T07:20:38.972Z"
   },
   {
    "duration": 118,
    "start_time": "2023-06-18T07:20:41.596Z"
   },
   {
    "duration": 218,
    "start_time": "2023-06-18T07:25:27.539Z"
   },
   {
    "duration": 134,
    "start_time": "2023-06-18T07:26:20.095Z"
   },
   {
    "duration": 125,
    "start_time": "2023-06-18T07:26:34.360Z"
   },
   {
    "duration": 104,
    "start_time": "2023-06-18T07:29:36.349Z"
   },
   {
    "duration": 129,
    "start_time": "2023-06-18T07:29:38.825Z"
   },
   {
    "duration": 509,
    "start_time": "2023-06-18T07:32:37.441Z"
   },
   {
    "duration": 348,
    "start_time": "2023-06-18T07:43:07.731Z"
   },
   {
    "duration": 14,
    "start_time": "2023-06-18T07:44:15.582Z"
   },
   {
    "duration": 528,
    "start_time": "2023-06-18T07:44:24.673Z"
   },
   {
    "duration": 18,
    "start_time": "2023-06-18T07:44:27.506Z"
   },
   {
    "duration": 351,
    "start_time": "2023-06-18T07:51:40.246Z"
   },
   {
    "duration": 14,
    "start_time": "2023-06-18T07:51:42.517Z"
   },
   {
    "duration": 346,
    "start_time": "2023-06-18T08:14:18.449Z"
   },
   {
    "duration": 87,
    "start_time": "2023-06-18T08:14:23.812Z"
   },
   {
    "duration": 207,
    "start_time": "2023-06-18T08:14:29.067Z"
   },
   {
    "duration": 87,
    "start_time": "2023-06-18T08:14:48.480Z"
   },
   {
    "duration": 88,
    "start_time": "2023-06-18T08:15:03.440Z"
   },
   {
    "duration": 102,
    "start_time": "2023-06-18T08:15:05.476Z"
   },
   {
    "duration": 93,
    "start_time": "2023-06-18T08:27:37.170Z"
   },
   {
    "duration": 3,
    "start_time": "2023-06-18T08:27:53.843Z"
   },
   {
    "duration": 113,
    "start_time": "2023-06-18T08:27:58.256Z"
   },
   {
    "duration": 101,
    "start_time": "2023-06-18T08:28:04.172Z"
   },
   {
    "duration": 120,
    "start_time": "2023-06-18T08:28:12.189Z"
   },
   {
    "duration": 3,
    "start_time": "2023-06-18T08:28:19.101Z"
   },
   {
    "duration": 100,
    "start_time": "2023-06-18T08:28:24.174Z"
   },
   {
    "duration": 602,
    "start_time": "2023-06-18T08:30:52.410Z"
   },
   {
    "duration": 406,
    "start_time": "2023-06-18T08:30:56.055Z"
   },
   {
    "duration": 2524,
    "start_time": "2023-06-18T08:33:13.755Z"
   },
   {
    "duration": 25,
    "start_time": "2023-06-18T08:38:37.964Z"
   },
   {
    "duration": 2027,
    "start_time": "2023-06-18T08:40:35.758Z"
   },
   {
    "duration": 2764,
    "start_time": "2023-06-18T08:40:53.314Z"
   },
   {
    "duration": 1443,
    "start_time": "2023-06-18T08:48:14.347Z"
   },
   {
    "duration": 2978,
    "start_time": "2023-06-18T08:48:17.175Z"
   },
   {
    "duration": 122,
    "start_time": "2023-06-18T08:48:54.961Z"
   },
   {
    "duration": 911,
    "start_time": "2023-06-18T08:48:55.087Z"
   },
   {
    "duration": 0,
    "start_time": "2023-06-18T08:48:56.006Z"
   },
   {
    "duration": 468,
    "start_time": "2023-06-18T08:49:04.098Z"
   },
   {
    "duration": 2862,
    "start_time": "2023-06-18T08:49:07.317Z"
   },
   {
    "duration": 2485,
    "start_time": "2023-06-18T08:50:56.110Z"
   },
   {
    "duration": 2783,
    "start_time": "2023-06-18T08:51:29.162Z"
   },
   {
    "duration": 2626,
    "start_time": "2023-06-18T08:57:08.939Z"
   },
   {
    "duration": 1669,
    "start_time": "2023-06-18T08:58:40.859Z"
   },
   {
    "duration": 1469,
    "start_time": "2023-06-18T09:20:43.863Z"
   },
   {
    "duration": 3003,
    "start_time": "2023-06-18T09:24:38.907Z"
   },
   {
    "duration": 3004,
    "start_time": "2023-06-18T09:27:44.799Z"
   },
   {
    "duration": 2558,
    "start_time": "2023-06-18T09:29:41.276Z"
   },
   {
    "duration": 12,
    "start_time": "2023-06-18T09:46:07.078Z"
   },
   {
    "duration": 2443,
    "start_time": "2023-06-18T09:46:28.439Z"
   },
   {
    "duration": 2608,
    "start_time": "2023-06-18T09:46:43.976Z"
   },
   {
    "duration": 217,
    "start_time": "2023-06-18T09:57:25.099Z"
   },
   {
    "duration": 210,
    "start_time": "2023-06-18T09:58:00.719Z"
   },
   {
    "duration": 246,
    "start_time": "2023-06-18T09:58:43.419Z"
   },
   {
    "duration": 224,
    "start_time": "2023-06-18T10:00:31.441Z"
   },
   {
    "duration": 211,
    "start_time": "2023-06-18T10:01:43.798Z"
   },
   {
    "duration": 106,
    "start_time": "2023-06-18T10:01:56.063Z"
   },
   {
    "duration": 111,
    "start_time": "2023-06-18T10:02:31.639Z"
   },
   {
    "duration": 13,
    "start_time": "2023-06-18T10:03:28.862Z"
   },
   {
    "duration": 179,
    "start_time": "2023-06-18T10:05:22.147Z"
   },
   {
    "duration": 197,
    "start_time": "2023-06-18T10:05:28.747Z"
   },
   {
    "duration": 182,
    "start_time": "2023-06-18T10:05:32.998Z"
   },
   {
    "duration": 137,
    "start_time": "2023-06-18T10:05:49.466Z"
   },
   {
    "duration": 1638,
    "start_time": "2023-06-18T10:14:13.935Z"
   },
   {
    "duration": 21,
    "start_time": "2023-06-18T10:16:34.108Z"
   },
   {
    "duration": 182,
    "start_time": "2023-06-18T10:17:01.598Z"
   },
   {
    "duration": 168,
    "start_time": "2023-06-18T10:18:14.997Z"
   },
   {
    "duration": 303,
    "start_time": "2023-06-18T10:19:39.434Z"
   },
   {
    "duration": 341,
    "start_time": "2023-06-18T10:19:58.796Z"
   },
   {
    "duration": 169,
    "start_time": "2023-06-18T10:21:39.632Z"
   },
   {
    "duration": 184,
    "start_time": "2023-06-18T10:22:15.995Z"
   },
   {
    "duration": 285,
    "start_time": "2023-06-18T10:22:37.919Z"
   },
   {
    "duration": 96,
    "start_time": "2023-06-18T10:22:42.916Z"
   },
   {
    "duration": 263,
    "start_time": "2023-06-18T10:22:45.510Z"
   },
   {
    "duration": 186,
    "start_time": "2023-06-18T10:23:34.454Z"
   },
   {
    "duration": 170,
    "start_time": "2023-06-18T10:23:38.778Z"
   },
   {
    "duration": 127,
    "start_time": "2023-06-18T10:24:58.849Z"
   },
   {
    "duration": 175,
    "start_time": "2023-06-18T10:25:03.511Z"
   },
   {
    "duration": 237,
    "start_time": "2023-06-18T10:25:06.574Z"
   },
   {
    "duration": 221,
    "start_time": "2023-06-18T10:25:13.320Z"
   },
   {
    "duration": 260,
    "start_time": "2023-06-18T10:26:33.514Z"
   },
   {
    "duration": 273,
    "start_time": "2023-06-18T10:26:50.966Z"
   },
   {
    "duration": 179,
    "start_time": "2023-06-18T10:28:21.888Z"
   },
   {
    "duration": 89,
    "start_time": "2023-06-18T10:28:33.836Z"
   },
   {
    "duration": 181,
    "start_time": "2023-06-18T10:29:20.998Z"
   },
   {
    "duration": 192,
    "start_time": "2023-06-18T10:31:11.432Z"
   },
   {
    "duration": 174,
    "start_time": "2023-06-18T10:32:24.871Z"
   },
   {
    "duration": 156,
    "start_time": "2023-06-18T10:32:46.308Z"
   },
   {
    "duration": 8,
    "start_time": "2023-06-18T10:34:54.406Z"
   },
   {
    "duration": 112,
    "start_time": "2023-06-18T10:35:28.634Z"
   },
   {
    "duration": 265,
    "start_time": "2023-06-18T10:35:40.104Z"
   },
   {
    "duration": 179,
    "start_time": "2023-06-18T10:36:26.213Z"
   },
   {
    "duration": 33,
    "start_time": "2023-06-18T10:36:37.500Z"
   },
   {
    "duration": 174,
    "start_time": "2023-06-18T10:37:01.098Z"
   },
   {
    "duration": 154,
    "start_time": "2023-06-18T10:37:04.955Z"
   },
   {
    "duration": 283,
    "start_time": "2023-06-18T10:37:26.309Z"
   },
   {
    "duration": 551,
    "start_time": "2023-06-18T10:37:55.248Z"
   },
   {
    "duration": 145,
    "start_time": "2023-06-18T10:38:02.901Z"
   },
   {
    "duration": 292,
    "start_time": "2023-06-18T10:38:09.254Z"
   },
   {
    "duration": 142,
    "start_time": "2023-06-18T10:39:07.325Z"
   },
   {
    "duration": 762,
    "start_time": "2023-06-18T10:40:57.544Z"
   },
   {
    "duration": 452,
    "start_time": "2023-06-18T10:41:26.235Z"
   },
   {
    "duration": 492,
    "start_time": "2023-06-18T10:42:18.804Z"
   },
   {
    "duration": 429,
    "start_time": "2023-06-18T10:43:39.707Z"
   },
   {
    "duration": 233,
    "start_time": "2023-06-18T10:45:31.061Z"
   },
   {
    "duration": 191,
    "start_time": "2023-06-18T10:46:32.203Z"
   },
   {
    "duration": 843,
    "start_time": "2023-06-18T11:41:34.139Z"
   },
   {
    "duration": 1465,
    "start_time": "2023-06-18T11:45:59.400Z"
   },
   {
    "duration": 1916,
    "start_time": "2023-06-18T11:46:09.291Z"
   },
   {
    "duration": 260,
    "start_time": "2023-06-18T11:46:35.378Z"
   },
   {
    "duration": 287,
    "start_time": "2023-06-18T11:47:49.353Z"
   },
   {
    "duration": 487,
    "start_time": "2023-06-18T11:48:01.545Z"
   },
   {
    "duration": 309,
    "start_time": "2023-06-18T11:48:23.043Z"
   },
   {
    "duration": 349,
    "start_time": "2023-06-18T11:48:26.859Z"
   },
   {
    "duration": 307,
    "start_time": "2023-06-18T11:48:39.070Z"
   },
   {
    "duration": 572,
    "start_time": "2023-06-18T11:58:17.612Z"
   },
   {
    "duration": 1645,
    "start_time": "2023-06-18T11:59:41.904Z"
   },
   {
    "duration": 288,
    "start_time": "2023-06-18T14:01:21.733Z"
   },
   {
    "duration": 26,
    "start_time": "2023-06-18T14:09:19.015Z"
   },
   {
    "duration": 10,
    "start_time": "2023-06-18T14:09:58.376Z"
   },
   {
    "duration": 21,
    "start_time": "2023-06-18T14:14:10.883Z"
   },
   {
    "duration": 19,
    "start_time": "2023-06-18T14:15:21.618Z"
   },
   {
    "duration": 74,
    "start_time": "2023-06-18T14:15:27.119Z"
   },
   {
    "duration": 460,
    "start_time": "2023-06-18T14:15:27.195Z"
   },
   {
    "duration": 497,
    "start_time": "2023-06-18T14:15:27.657Z"
   },
   {
    "duration": 2085,
    "start_time": "2023-06-18T14:15:28.156Z"
   },
   {
    "duration": 211,
    "start_time": "2023-06-18T14:15:30.242Z"
   },
   {
    "duration": 1228,
    "start_time": "2023-06-18T14:15:30.455Z"
   },
   {
    "duration": 272,
    "start_time": "2023-06-18T14:15:31.685Z"
   },
   {
    "duration": 23,
    "start_time": "2023-06-18T14:15:34.828Z"
   },
   {
    "duration": 30,
    "start_time": "2023-06-18T14:16:26.352Z"
   },
   {
    "duration": 28,
    "start_time": "2023-06-18T14:16:42.333Z"
   },
   {
    "duration": 23,
    "start_time": "2023-06-18T14:17:55.320Z"
   },
   {
    "duration": 14,
    "start_time": "2023-06-18T14:18:44.879Z"
   },
   {
    "duration": 13,
    "start_time": "2023-06-18T14:20:12.292Z"
   },
   {
    "duration": 10,
    "start_time": "2023-06-18T14:20:16.594Z"
   },
   {
    "duration": 9,
    "start_time": "2023-06-18T14:20:32.588Z"
   },
   {
    "duration": 7,
    "start_time": "2023-06-18T14:20:37.124Z"
   },
   {
    "duration": 27,
    "start_time": "2023-06-18T14:27:35.875Z"
   },
   {
    "duration": 25,
    "start_time": "2023-06-18T14:39:05.787Z"
   },
   {
    "duration": 32,
    "start_time": "2023-06-18T14:39:57.807Z"
   },
   {
    "duration": 25,
    "start_time": "2023-06-18T14:40:13.726Z"
   },
   {
    "duration": 29,
    "start_time": "2023-06-18T14:41:14.382Z"
   },
   {
    "duration": 27,
    "start_time": "2023-06-18T14:41:28.430Z"
   },
   {
    "duration": 8,
    "start_time": "2023-06-18T14:44:00.153Z"
   },
   {
    "duration": 19,
    "start_time": "2023-06-18T14:44:27.387Z"
   },
   {
    "duration": 15,
    "start_time": "2023-06-18T14:45:00.345Z"
   },
   {
    "duration": 140,
    "start_time": "2023-06-18T14:45:30.690Z"
   },
   {
    "duration": 17,
    "start_time": "2023-06-18T14:49:10.974Z"
   },
   {
    "duration": 75,
    "start_time": "2023-06-18T14:49:16.483Z"
   },
   {
    "duration": 474,
    "start_time": "2023-06-18T14:49:16.560Z"
   },
   {
    "duration": 307,
    "start_time": "2023-06-18T14:49:17.036Z"
   },
   {
    "duration": 2096,
    "start_time": "2023-06-18T14:49:17.345Z"
   },
   {
    "duration": 195,
    "start_time": "2023-06-18T14:49:19.443Z"
   },
   {
    "duration": 1069,
    "start_time": "2023-06-18T14:49:19.639Z"
   },
   {
    "duration": 275,
    "start_time": "2023-06-18T14:49:20.710Z"
   },
   {
    "duration": 34,
    "start_time": "2023-06-18T14:49:20.986Z"
   },
   {
    "duration": 16,
    "start_time": "2023-06-18T14:49:25.927Z"
   },
   {
    "duration": 141,
    "start_time": "2023-06-18T14:49:30.106Z"
   },
   {
    "duration": 778,
    "start_time": "2023-06-18T17:22:17.433Z"
   },
   {
    "duration": 585,
    "start_time": "2023-06-18T17:22:18.213Z"
   },
   {
    "duration": 424,
    "start_time": "2023-06-18T17:22:18.799Z"
   },
   {
    "duration": 2567,
    "start_time": "2023-06-18T17:22:19.226Z"
   },
   {
    "duration": 242,
    "start_time": "2023-06-18T17:22:21.794Z"
   },
   {
    "duration": 1427,
    "start_time": "2023-06-18T17:22:22.037Z"
   },
   {
    "duration": 334,
    "start_time": "2023-06-18T17:22:23.471Z"
   },
   {
    "duration": 28,
    "start_time": "2023-06-18T17:22:23.807Z"
   },
   {
    "duration": 178,
    "start_time": "2023-06-18T17:22:23.837Z"
   },
   {
    "duration": 6,
    "start_time": "2023-06-18T17:22:33.800Z"
   },
   {
    "duration": 6,
    "start_time": "2023-06-18T17:22:43.397Z"
   },
   {
    "duration": 54,
    "start_time": "2023-06-18T17:46:47.333Z"
   },
   {
    "duration": 2810,
    "start_time": "2023-06-20T08:21:24.648Z"
   },
   {
    "duration": 1762,
    "start_time": "2023-06-20T08:21:29.671Z"
   },
   {
    "duration": 1604,
    "start_time": "2023-06-20T08:21:39.346Z"
   },
   {
    "duration": 1748,
    "start_time": "2023-06-20T08:24:03.596Z"
   },
   {
    "duration": 1639,
    "start_time": "2023-06-20T08:25:44.730Z"
   },
   {
    "duration": 10,
    "start_time": "2023-06-20T08:34:17.886Z"
   },
   {
    "duration": 81,
    "start_time": "2023-06-20T08:41:39.191Z"
   },
   {
    "duration": 414,
    "start_time": "2023-06-20T08:44:13.474Z"
   },
   {
    "duration": 8,
    "start_time": "2023-06-20T08:46:45.760Z"
   },
   {
    "duration": 16,
    "start_time": "2023-06-20T08:46:46.976Z"
   },
   {
    "duration": 6,
    "start_time": "2023-06-20T08:49:22.073Z"
   },
   {
    "duration": 4,
    "start_time": "2023-06-20T08:50:00.935Z"
   },
   {
    "duration": 8,
    "start_time": "2023-06-20T08:51:33.546Z"
   },
   {
    "duration": 6,
    "start_time": "2023-06-20T08:55:35.736Z"
   },
   {
    "duration": 19,
    "start_time": "2023-06-20T08:56:29.659Z"
   },
   {
    "duration": 7,
    "start_time": "2023-06-20T08:57:08.496Z"
   },
   {
    "duration": 99,
    "start_time": "2023-06-20T08:57:18.504Z"
   },
   {
    "duration": 7,
    "start_time": "2023-06-20T08:57:24.605Z"
   },
   {
    "duration": 7,
    "start_time": "2023-06-20T08:57:28.592Z"
   },
   {
    "duration": 11,
    "start_time": "2023-06-20T08:59:48.476Z"
   },
   {
    "duration": 8,
    "start_time": "2023-06-20T09:01:53.041Z"
   },
   {
    "duration": 9,
    "start_time": "2023-06-20T09:19:44.138Z"
   },
   {
    "duration": 9,
    "start_time": "2023-06-20T09:19:51.791Z"
   },
   {
    "duration": 17,
    "start_time": "2023-06-20T09:19:58.616Z"
   },
   {
    "duration": 17,
    "start_time": "2023-06-20T11:08:27.999Z"
   },
   {
    "duration": 18,
    "start_time": "2023-06-20T11:08:36.932Z"
   },
   {
    "duration": 28,
    "start_time": "2023-06-20T11:09:30.700Z"
   },
   {
    "duration": 7,
    "start_time": "2023-06-20T11:13:02.167Z"
   },
   {
    "duration": 20,
    "start_time": "2023-06-20T11:13:16.637Z"
   },
   {
    "duration": 33,
    "start_time": "2023-06-20T11:15:07.212Z"
   },
   {
    "duration": 16,
    "start_time": "2023-06-20T11:15:10.343Z"
   },
   {
    "duration": 31,
    "start_time": "2023-06-20T11:15:13.316Z"
   },
   {
    "duration": 101,
    "start_time": "2023-06-20T11:15:21.252Z"
   },
   {
    "duration": 101,
    "start_time": "2023-06-20T11:15:36.625Z"
   },
   {
    "duration": 10805,
    "start_time": "2023-06-20T11:15:36.728Z"
   },
   {
    "duration": 14,
    "start_time": "2023-06-20T11:15:47.536Z"
   },
   {
    "duration": 103,
    "start_time": "2023-06-20T11:15:51.102Z"
   },
   {
    "duration": 22,
    "start_time": "2023-06-20T11:16:01.515Z"
   },
   {
    "duration": 185,
    "start_time": "2023-06-20T11:16:01.546Z"
   },
   {
    "duration": 328,
    "start_time": "2023-06-20T11:16:01.734Z"
   },
   {
    "duration": 382,
    "start_time": "2023-06-20T11:16:02.063Z"
   },
   {
    "duration": 272,
    "start_time": "2023-06-20T11:16:02.450Z"
   },
   {
    "duration": 111,
    "start_time": "2023-06-20T11:16:02.727Z"
   },
   {
    "duration": 458,
    "start_time": "2023-06-20T11:16:02.846Z"
   },
   {
    "duration": 119,
    "start_time": "2023-06-20T11:16:03.306Z"
   },
   {
    "duration": 41,
    "start_time": "2023-06-20T11:16:03.428Z"
   },
   {
    "duration": 9694,
    "start_time": "2023-06-20T11:16:03.471Z"
   },
   {
    "duration": 14,
    "start_time": "2023-06-20T11:16:22.150Z"
   },
   {
    "duration": 19,
    "start_time": "2023-06-20T11:16:24.042Z"
   },
   {
    "duration": 12,
    "start_time": "2023-06-20T11:16:33.448Z"
   },
   {
    "duration": 26,
    "start_time": "2023-06-20T11:16:36.837Z"
   },
   {
    "duration": 7,
    "start_time": "2023-06-20T11:16:47.062Z"
   },
   {
    "duration": 26,
    "start_time": "2023-06-20T11:23:17.126Z"
   },
   {
    "duration": 19,
    "start_time": "2023-06-20T11:24:01.428Z"
   },
   {
    "duration": 16,
    "start_time": "2023-06-20T11:24:08.200Z"
   },
   {
    "duration": 16,
    "start_time": "2023-06-20T11:28:37.834Z"
   },
   {
    "duration": 11,
    "start_time": "2023-06-20T11:28:51.819Z"
   },
   {
    "duration": 15,
    "start_time": "2023-06-20T11:28:53.602Z"
   },
   {
    "duration": 21,
    "start_time": "2023-06-20T11:30:50.221Z"
   },
   {
    "duration": 190,
    "start_time": "2023-06-20T11:33:03.956Z"
   },
   {
    "duration": 9067,
    "start_time": "2023-06-20T11:40:07.903Z"
   },
   {
    "duration": 94,
    "start_time": "2023-06-20T11:40:27.655Z"
   },
   {
    "duration": 9284,
    "start_time": "2023-06-20T11:40:29.694Z"
   },
   {
    "duration": 1927,
    "start_time": "2023-06-20T11:41:01.333Z"
   },
   {
    "duration": 13,
    "start_time": "2023-06-20T11:43:10.297Z"
   },
   {
    "duration": 168,
    "start_time": "2023-06-20T11:43:34.324Z"
   },
   {
    "duration": 4,
    "start_time": "2023-06-20T11:44:37.549Z"
   },
   {
    "duration": 207,
    "start_time": "2023-06-20T11:44:44.434Z"
   },
   {
    "duration": 155,
    "start_time": "2023-06-20T11:45:01.603Z"
   },
   {
    "duration": 16,
    "start_time": "2023-06-20T11:48:27.345Z"
   },
   {
    "duration": 12,
    "start_time": "2023-06-20T11:48:39.541Z"
   },
   {
    "duration": 16,
    "start_time": "2023-06-20T11:48:55.730Z"
   },
   {
    "duration": 113,
    "start_time": "2023-06-20T11:49:01.737Z"
   },
   {
    "duration": 1982,
    "start_time": "2023-06-20T11:49:01.852Z"
   },
   {
    "duration": 10,
    "start_time": "2023-06-20T11:49:03.836Z"
   },
   {
    "duration": 177,
    "start_time": "2023-06-20T11:49:03.847Z"
   },
   {
    "duration": 75,
    "start_time": "2023-06-20T11:49:04.027Z"
   },
   {
    "duration": 256,
    "start_time": "2023-06-20T11:49:04.104Z"
   },
   {
    "duration": 271,
    "start_time": "2023-06-20T11:49:04.362Z"
   },
   {
    "duration": 11,
    "start_time": "2023-06-20T11:49:04.635Z"
   },
   {
    "duration": 24,
    "start_time": "2023-06-20T11:49:04.649Z"
   },
   {
    "duration": 31,
    "start_time": "2023-06-20T11:49:04.675Z"
   },
   {
    "duration": 11,
    "start_time": "2023-06-20T11:49:04.708Z"
   },
   {
    "duration": 24,
    "start_time": "2023-06-20T11:49:07.916Z"
   },
   {
    "duration": 25,
    "start_time": "2023-06-20T11:49:10.526Z"
   },
   {
    "duration": 10,
    "start_time": "2023-06-20T11:49:14.256Z"
   },
   {
    "duration": 16,
    "start_time": "2023-06-20T11:49:15.951Z"
   },
   {
    "duration": 100,
    "start_time": "2023-06-20T11:51:26.270Z"
   },
   {
    "duration": 17,
    "start_time": "2023-06-20T11:53:58.627Z"
   },
   {
    "duration": 27,
    "start_time": "2023-06-20T11:54:26.612Z"
   },
   {
    "duration": 542,
    "start_time": "2023-06-20T11:55:11.460Z"
   },
   {
    "duration": 11,
    "start_time": "2023-06-20T11:55:23.114Z"
   },
   {
    "duration": 377,
    "start_time": "2023-06-20T11:57:27.738Z"
   },
   {
    "duration": 353,
    "start_time": "2023-06-20T11:57:35.696Z"
   },
   {
    "duration": 25,
    "start_time": "2023-06-20T11:59:13.053Z"
   },
   {
    "duration": 12,
    "start_time": "2023-06-20T11:59:25.338Z"
   },
   {
    "duration": 11,
    "start_time": "2023-06-20T11:59:51.101Z"
   },
   {
    "duration": 12,
    "start_time": "2023-06-20T11:59:54.457Z"
   },
   {
    "duration": 101,
    "start_time": "2023-06-20T12:02:42.478Z"
   },
   {
    "duration": 107,
    "start_time": "2023-06-20T12:03:00.655Z"
   },
   {
    "duration": 117,
    "start_time": "2023-06-20T12:03:02.921Z"
   },
   {
    "duration": 275,
    "start_time": "2023-06-20T12:03:03.826Z"
   },
   {
    "duration": 112,
    "start_time": "2023-06-20T12:03:04.563Z"
   },
   {
    "duration": 134,
    "start_time": "2023-06-20T12:03:05.230Z"
   },
   {
    "duration": 109,
    "start_time": "2023-06-20T12:03:50.654Z"
   },
   {
    "duration": 1784,
    "start_time": "2023-06-20T12:03:50.765Z"
   },
   {
    "duration": 14,
    "start_time": "2023-06-20T12:03:52.551Z"
   },
   {
    "duration": 89,
    "start_time": "2023-06-20T12:03:52.568Z"
   },
   {
    "duration": 45,
    "start_time": "2023-06-20T12:03:52.659Z"
   },
   {
    "duration": 290,
    "start_time": "2023-06-20T12:03:52.706Z"
   },
   {
    "duration": 280,
    "start_time": "2023-06-20T12:03:52.998Z"
   },
   {
    "duration": 9,
    "start_time": "2023-06-20T12:03:53.280Z"
   },
   {
    "duration": 16,
    "start_time": "2023-06-20T12:03:53.291Z"
   },
   {
    "duration": 27,
    "start_time": "2023-06-20T12:03:53.313Z"
   },
   {
    "duration": 18,
    "start_time": "2023-06-20T12:03:53.342Z"
   },
   {
    "duration": 34,
    "start_time": "2023-06-20T12:03:53.362Z"
   },
   {
    "duration": 65,
    "start_time": "2023-06-20T12:03:53.398Z"
   },
   {
    "duration": 56,
    "start_time": "2023-06-20T12:03:53.465Z"
   },
   {
    "duration": 152,
    "start_time": "2023-06-20T12:03:53.533Z"
   },
   {
    "duration": 10,
    "start_time": "2023-06-20T12:03:53.687Z"
   },
   {
    "duration": 94,
    "start_time": "2023-06-20T12:03:53.699Z"
   },
   {
    "duration": 182,
    "start_time": "2023-06-20T12:03:53.795Z"
   },
   {
    "duration": 29,
    "start_time": "2023-06-20T12:03:53.980Z"
   },
   {
    "duration": 9,
    "start_time": "2023-06-20T12:03:57.154Z"
   },
   {
    "duration": 106,
    "start_time": "2023-06-20T12:03:58.957Z"
   },
   {
    "duration": 8,
    "start_time": "2023-06-20T12:04:18.662Z"
   },
   {
    "duration": 12,
    "start_time": "2023-06-20T12:04:29.659Z"
   },
   {
    "duration": 9,
    "start_time": "2023-06-20T12:04:41.208Z"
   },
   {
    "duration": 101,
    "start_time": "2023-06-20T12:04:44.243Z"
   },
   {
    "duration": 102,
    "start_time": "2023-06-20T12:04:45.327Z"
   },
   {
    "duration": 133,
    "start_time": "2023-06-20T12:04:45.806Z"
   },
   {
    "duration": 98,
    "start_time": "2023-06-20T12:04:46.225Z"
   },
   {
    "duration": 99,
    "start_time": "2023-06-20T12:04:46.654Z"
   },
   {
    "duration": 114,
    "start_time": "2023-06-20T12:05:34.404Z"
   },
   {
    "duration": 1724,
    "start_time": "2023-06-20T12:05:34.521Z"
   },
   {
    "duration": 12,
    "start_time": "2023-06-20T12:05:36.247Z"
   },
   {
    "duration": 16,
    "start_time": "2023-06-20T12:05:36.261Z"
   },
   {
    "duration": 12,
    "start_time": "2023-06-20T12:05:36.279Z"
   },
   {
    "duration": 256,
    "start_time": "2023-06-20T12:05:36.292Z"
   },
   {
    "duration": 255,
    "start_time": "2023-06-20T12:05:36.550Z"
   },
   {
    "duration": 15,
    "start_time": "2023-06-20T12:05:36.807Z"
   },
   {
    "duration": 18,
    "start_time": "2023-06-20T12:05:36.825Z"
   },
   {
    "duration": 21,
    "start_time": "2023-06-20T12:05:36.845Z"
   },
   {
    "duration": 8,
    "start_time": "2023-06-20T12:05:36.868Z"
   },
   {
    "duration": 25,
    "start_time": "2023-06-20T12:05:36.877Z"
   },
   {
    "duration": 41,
    "start_time": "2023-06-20T12:05:36.904Z"
   },
   {
    "duration": 24,
    "start_time": "2023-06-20T12:05:36.949Z"
   },
   {
    "duration": 67,
    "start_time": "2023-06-20T12:05:36.975Z"
   },
   {
    "duration": 9,
    "start_time": "2023-06-20T12:05:37.044Z"
   },
   {
    "duration": 27,
    "start_time": "2023-06-20T12:05:37.055Z"
   },
   {
    "duration": 10,
    "start_time": "2023-06-20T12:05:39.299Z"
   },
   {
    "duration": 8,
    "start_time": "2023-06-20T12:06:18.972Z"
   },
   {
    "duration": 9,
    "start_time": "2023-06-20T12:06:20.474Z"
   },
   {
    "duration": 8,
    "start_time": "2023-06-20T12:06:49.797Z"
   },
   {
    "duration": 112,
    "start_time": "2023-06-20T12:06:55.325Z"
   },
   {
    "duration": 125,
    "start_time": "2023-06-20T12:06:58.348Z"
   },
   {
    "duration": 125,
    "start_time": "2023-06-20T12:08:21.959Z"
   },
   {
    "duration": 120,
    "start_time": "2023-06-20T12:08:25.900Z"
   },
   {
    "duration": 130,
    "start_time": "2023-06-20T12:10:04.142Z"
   },
   {
    "duration": 82,
    "start_time": "2023-06-20T12:11:11.060Z"
   },
   {
    "duration": 12,
    "start_time": "2023-06-20T12:11:41.468Z"
   },
   {
    "duration": 9,
    "start_time": "2023-06-20T12:11:49.272Z"
   },
   {
    "duration": 117,
    "start_time": "2023-06-20T12:11:55.282Z"
   },
   {
    "duration": 138,
    "start_time": "2023-06-20T12:11:59.307Z"
   },
   {
    "duration": 1910,
    "start_time": "2023-06-20T12:11:59.447Z"
   },
   {
    "duration": 11,
    "start_time": "2023-06-20T12:12:01.358Z"
   },
   {
    "duration": 60,
    "start_time": "2023-06-20T12:12:01.371Z"
   },
   {
    "duration": 32,
    "start_time": "2023-06-20T12:12:01.434Z"
   },
   {
    "duration": 309,
    "start_time": "2023-06-20T12:12:01.468Z"
   },
   {
    "duration": 279,
    "start_time": "2023-06-20T12:12:01.779Z"
   },
   {
    "duration": 12,
    "start_time": "2023-06-20T12:12:02.060Z"
   },
   {
    "duration": 103,
    "start_time": "2023-06-20T12:12:02.074Z"
   },
   {
    "duration": 54,
    "start_time": "2023-06-20T12:12:02.179Z"
   },
   {
    "duration": 52,
    "start_time": "2023-06-20T12:12:02.235Z"
   },
   {
    "duration": 80,
    "start_time": "2023-06-20T12:12:02.290Z"
   },
   {
    "duration": 82,
    "start_time": "2023-06-20T12:12:02.376Z"
   },
   {
    "duration": 55,
    "start_time": "2023-06-20T12:12:02.461Z"
   },
   {
    "duration": 90,
    "start_time": "2023-06-20T12:12:02.518Z"
   },
   {
    "duration": 29,
    "start_time": "2023-06-20T12:12:02.610Z"
   },
   {
    "duration": 16,
    "start_time": "2023-06-20T12:12:02.642Z"
   },
   {
    "duration": 32,
    "start_time": "2023-06-20T12:12:02.661Z"
   },
   {
    "duration": 23,
    "start_time": "2023-06-20T12:12:02.695Z"
   },
   {
    "duration": 130,
    "start_time": "2023-06-20T12:12:08.246Z"
   },
   {
    "duration": 11,
    "start_time": "2023-06-20T12:12:25.640Z"
   },
   {
    "duration": 165,
    "start_time": "2023-06-20T12:12:27.680Z"
   },
   {
    "duration": 114,
    "start_time": "2023-06-20T12:12:35.338Z"
   },
   {
    "duration": 1928,
    "start_time": "2023-06-20T12:12:35.455Z"
   },
   {
    "duration": 11,
    "start_time": "2023-06-20T12:12:37.385Z"
   },
   {
    "duration": 20,
    "start_time": "2023-06-20T12:12:37.398Z"
   },
   {
    "duration": 16,
    "start_time": "2023-06-20T12:12:37.421Z"
   },
   {
    "duration": 325,
    "start_time": "2023-06-20T12:12:37.440Z"
   },
   {
    "duration": 251,
    "start_time": "2023-06-20T12:12:37.767Z"
   },
   {
    "duration": 11,
    "start_time": "2023-06-20T12:12:38.020Z"
   },
   {
    "duration": 36,
    "start_time": "2023-06-20T12:12:38.032Z"
   },
   {
    "duration": 36,
    "start_time": "2023-06-20T12:12:38.070Z"
   },
   {
    "duration": 6,
    "start_time": "2023-06-20T12:12:38.109Z"
   },
   {
    "duration": 23,
    "start_time": "2023-06-20T12:12:38.117Z"
   },
   {
    "duration": 25,
    "start_time": "2023-06-20T12:12:38.141Z"
   },
   {
    "duration": 17,
    "start_time": "2023-06-20T12:12:38.170Z"
   },
   {
    "duration": 35,
    "start_time": "2023-06-20T12:12:38.189Z"
   },
   {
    "duration": 12,
    "start_time": "2023-06-20T12:12:38.226Z"
   },
   {
    "duration": 231,
    "start_time": "2023-06-20T12:12:38.240Z"
   },
   {
    "duration": 15,
    "start_time": "2023-06-20T12:12:38.472Z"
   },
   {
    "duration": 25,
    "start_time": "2023-06-20T12:12:38.489Z"
   },
   {
    "duration": 180,
    "start_time": "2023-06-20T12:12:43.536Z"
   },
   {
    "duration": 212,
    "start_time": "2023-06-20T13:33:30.047Z"
   },
   {
    "duration": 8,
    "start_time": "2023-06-20T13:36:43.997Z"
   },
   {
    "duration": 180,
    "start_time": "2023-06-20T13:36:45.562Z"
   },
   {
    "duration": 233,
    "start_time": "2023-06-20T13:36:59.904Z"
   },
   {
    "duration": 152,
    "start_time": "2023-06-20T13:38:21.703Z"
   },
   {
    "duration": 150,
    "start_time": "2023-06-20T13:38:35.000Z"
   },
   {
    "duration": 263,
    "start_time": "2023-06-20T13:38:41.667Z"
   },
   {
    "duration": 136,
    "start_time": "2023-06-20T13:38:48.320Z"
   },
   {
    "duration": 134,
    "start_time": "2023-06-20T13:38:51.433Z"
   },
   {
    "duration": 171,
    "start_time": "2023-06-20T13:39:10.907Z"
   },
   {
    "duration": 139,
    "start_time": "2023-06-20T13:39:14.642Z"
   },
   {
    "duration": 211,
    "start_time": "2023-06-20T13:39:22.732Z"
   },
   {
    "duration": 168,
    "start_time": "2023-06-20T13:39:27.356Z"
   },
   {
    "duration": 149,
    "start_time": "2023-06-20T13:39:30.496Z"
   },
   {
    "duration": 14,
    "start_time": "2023-06-20T13:40:22.008Z"
   },
   {
    "duration": 14,
    "start_time": "2023-06-20T13:41:43.938Z"
   },
   {
    "duration": 26,
    "start_time": "2023-06-20T13:42:07.818Z"
   },
   {
    "duration": 53,
    "start_time": "2023-06-20T13:42:11.250Z"
   },
   {
    "duration": 80,
    "start_time": "2023-06-20T13:43:19.919Z"
   },
   {
    "duration": 20,
    "start_time": "2023-06-20T13:43:26.511Z"
   },
   {
    "duration": 6998,
    "start_time": "2023-06-20T13:44:29.979Z"
   },
   {
    "duration": 18,
    "start_time": "2023-06-20T13:45:12.898Z"
   },
   {
    "duration": 220,
    "start_time": "2023-06-20T13:46:02.403Z"
   },
   {
    "duration": 467,
    "start_time": "2023-06-20T13:48:36.931Z"
   },
   {
    "duration": 90,
    "start_time": "2023-06-20T13:48:49.366Z"
   },
   {
    "duration": 1900,
    "start_time": "2023-06-20T13:48:49.458Z"
   },
   {
    "duration": 12,
    "start_time": "2023-06-20T13:48:51.359Z"
   },
   {
    "duration": 26,
    "start_time": "2023-06-20T13:48:51.373Z"
   },
   {
    "duration": 33,
    "start_time": "2023-06-20T13:48:51.402Z"
   },
   {
    "duration": 290,
    "start_time": "2023-06-20T13:48:51.437Z"
   },
   {
    "duration": 256,
    "start_time": "2023-06-20T13:48:51.729Z"
   },
   {
    "duration": 12,
    "start_time": "2023-06-20T13:48:51.987Z"
   },
   {
    "duration": 33,
    "start_time": "2023-06-20T13:48:52.001Z"
   },
   {
    "duration": 11,
    "start_time": "2023-06-20T13:48:52.036Z"
   },
   {
    "duration": 6,
    "start_time": "2023-06-20T13:48:52.048Z"
   },
   {
    "duration": 28,
    "start_time": "2023-06-20T13:48:52.055Z"
   },
   {
    "duration": 41,
    "start_time": "2023-06-20T13:48:52.085Z"
   },
   {
    "duration": 15,
    "start_time": "2023-06-20T13:48:52.130Z"
   },
   {
    "duration": 29,
    "start_time": "2023-06-20T13:48:52.147Z"
   },
   {
    "duration": 534,
    "start_time": "2023-06-20T13:48:54.251Z"
   },
   {
    "duration": 17,
    "start_time": "2023-06-20T13:51:04.343Z"
   },
   {
    "duration": 12,
    "start_time": "2023-06-20T13:51:59.886Z"
   },
   {
    "duration": 16,
    "start_time": "2023-06-20T13:52:09.983Z"
   },
   {
    "duration": 155,
    "start_time": "2023-06-20T13:52:59.107Z"
   },
   {
    "duration": 159,
    "start_time": "2023-06-20T13:53:33.033Z"
   },
   {
    "duration": 151,
    "start_time": "2023-06-20T13:53:40.583Z"
   },
   {
    "duration": 170,
    "start_time": "2023-06-20T13:53:50.066Z"
   },
   {
    "duration": 8,
    "start_time": "2023-06-20T13:55:03.466Z"
   },
   {
    "duration": 167,
    "start_time": "2023-06-20T13:55:32.899Z"
   },
   {
    "duration": 255,
    "start_time": "2023-06-20T13:55:37.932Z"
   },
   {
    "duration": 102,
    "start_time": "2023-06-20T13:56:00.940Z"
   },
   {
    "duration": 1702,
    "start_time": "2023-06-20T13:56:01.045Z"
   },
   {
    "duration": 9,
    "start_time": "2023-06-20T13:56:02.749Z"
   },
   {
    "duration": 178,
    "start_time": "2023-06-20T13:56:02.760Z"
   },
   {
    "duration": 186,
    "start_time": "2023-06-20T13:56:02.941Z"
   },
   {
    "duration": 363,
    "start_time": "2023-06-20T13:56:03.130Z"
   },
   {
    "duration": 270,
    "start_time": "2023-06-20T13:56:03.495Z"
   },
   {
    "duration": 10,
    "start_time": "2023-06-20T13:56:03.767Z"
   },
   {
    "duration": 16,
    "start_time": "2023-06-20T13:56:03.778Z"
   },
   {
    "duration": 26,
    "start_time": "2023-06-20T13:56:03.796Z"
   },
   {
    "duration": 6,
    "start_time": "2023-06-20T13:56:03.826Z"
   },
   {
    "duration": 26,
    "start_time": "2023-06-20T13:56:03.834Z"
   },
   {
    "duration": 21,
    "start_time": "2023-06-20T13:56:03.862Z"
   },
   {
    "duration": 13,
    "start_time": "2023-06-20T13:56:03.886Z"
   },
   {
    "duration": 29,
    "start_time": "2023-06-20T13:56:03.918Z"
   },
   {
    "duration": 25,
    "start_time": "2023-06-20T13:56:03.950Z"
   },
   {
    "duration": 21,
    "start_time": "2023-06-20T13:56:03.977Z"
   },
   {
    "duration": 43,
    "start_time": "2023-06-20T13:56:04.000Z"
   },
   {
    "duration": 33,
    "start_time": "2023-06-20T13:56:04.045Z"
   },
   {
    "duration": 166,
    "start_time": "2023-06-20T13:56:04.080Z"
   },
   {
    "duration": 153,
    "start_time": "2023-06-20T13:56:04.248Z"
   },
   {
    "duration": 286,
    "start_time": "2023-06-20T13:56:04.404Z"
   },
   {
    "duration": 8,
    "start_time": "2023-06-20T13:56:09.065Z"
   },
   {
    "duration": 149,
    "start_time": "2023-06-20T13:56:26.513Z"
   },
   {
    "duration": 167,
    "start_time": "2023-06-20T13:56:39.108Z"
   },
   {
    "duration": 124,
    "start_time": "2023-06-20T13:57:18.284Z"
   },
   {
    "duration": 471,
    "start_time": "2023-06-20T13:58:09.829Z"
   },
   {
    "duration": 386,
    "start_time": "2023-06-20T13:58:20.650Z"
   },
   {
    "duration": 276,
    "start_time": "2023-06-20T13:58:28.964Z"
   },
   {
    "duration": 306,
    "start_time": "2023-06-20T13:58:34.848Z"
   },
   {
    "duration": 10,
    "start_time": "2023-06-20T14:01:15.985Z"
   },
   {
    "duration": 90,
    "start_time": "2023-06-20T14:01:42.044Z"
   },
   {
    "duration": 1869,
    "start_time": "2023-06-20T14:01:42.136Z"
   },
   {
    "duration": 16,
    "start_time": "2023-06-20T14:01:44.008Z"
   },
   {
    "duration": 38,
    "start_time": "2023-06-20T14:01:44.026Z"
   },
   {
    "duration": 15,
    "start_time": "2023-06-20T14:01:44.066Z"
   },
   {
    "duration": 284,
    "start_time": "2023-06-20T14:01:44.084Z"
   },
   {
    "duration": 276,
    "start_time": "2023-06-20T14:01:44.370Z"
   },
   {
    "duration": 13,
    "start_time": "2023-06-20T14:01:44.648Z"
   },
   {
    "duration": 22,
    "start_time": "2023-06-20T14:01:44.663Z"
   },
   {
    "duration": 27,
    "start_time": "2023-06-20T14:01:44.687Z"
   },
   {
    "duration": 24,
    "start_time": "2023-06-20T14:01:44.716Z"
   },
   {
    "duration": 27,
    "start_time": "2023-06-20T14:01:44.742Z"
   },
   {
    "duration": 17,
    "start_time": "2023-06-20T14:01:44.771Z"
   },
   {
    "duration": 10,
    "start_time": "2023-06-20T14:01:44.792Z"
   },
   {
    "duration": 43,
    "start_time": "2023-06-20T14:01:44.804Z"
   },
   {
    "duration": 12,
    "start_time": "2023-06-20T14:01:44.849Z"
   },
   {
    "duration": 17,
    "start_time": "2023-06-20T14:01:44.863Z"
   },
   {
    "duration": 10,
    "start_time": "2023-06-20T14:01:44.882Z"
   },
   {
    "duration": 27,
    "start_time": "2023-06-20T14:01:44.894Z"
   },
   {
    "duration": 212,
    "start_time": "2023-06-20T14:01:44.923Z"
   },
   {
    "duration": 158,
    "start_time": "2023-06-20T14:01:45.136Z"
   },
   {
    "duration": 196,
    "start_time": "2023-06-20T14:01:45.296Z"
   },
   {
    "duration": 195,
    "start_time": "2023-06-20T14:01:45.494Z"
   },
   {
    "duration": 546,
    "start_time": "2023-06-20T14:01:45.691Z"
   },
   {
    "duration": 3015,
    "start_time": "2023-06-20T14:01:46.239Z"
   },
   {
    "duration": 275,
    "start_time": "2023-06-20T14:01:49.255Z"
   },
   {
    "duration": 1199,
    "start_time": "2023-06-20T14:01:49.532Z"
   },
   {
    "duration": 439,
    "start_time": "2023-06-20T14:01:50.734Z"
   },
   {
    "duration": 161,
    "start_time": "2023-06-20T14:01:58.434Z"
   },
   {
    "duration": 243,
    "start_time": "2023-06-20T14:02:14.433Z"
   },
   {
    "duration": 341,
    "start_time": "2023-06-20T14:03:08.392Z"
   },
   {
    "duration": 698,
    "start_time": "2023-06-20T14:05:07.427Z"
   },
   {
    "duration": 1149,
    "start_time": "2023-06-20T14:05:17.387Z"
   },
   {
    "duration": 197,
    "start_time": "2023-06-20T14:06:00.202Z"
   },
   {
    "duration": 574,
    "start_time": "2023-06-20T14:07:09.067Z"
   },
   {
    "duration": 49,
    "start_time": "2023-06-20T14:07:21.531Z"
   },
   {
    "duration": 18,
    "start_time": "2023-06-20T14:07:35.934Z"
   },
   {
    "duration": 21,
    "start_time": "2023-06-20T14:08:13.642Z"
   },
   {
    "duration": 16,
    "start_time": "2023-06-20T14:08:19.247Z"
   },
   {
    "duration": 103,
    "start_time": "2023-06-20T14:08:24.034Z"
   },
   {
    "duration": 1820,
    "start_time": "2023-06-20T14:08:24.139Z"
   },
   {
    "duration": 13,
    "start_time": "2023-06-20T14:08:25.963Z"
   },
   {
    "duration": 12,
    "start_time": "2023-06-20T14:08:25.978Z"
   },
   {
    "duration": 4,
    "start_time": "2023-06-20T14:08:25.994Z"
   },
   {
    "duration": 285,
    "start_time": "2023-06-20T14:08:26.000Z"
   },
   {
    "duration": 270,
    "start_time": "2023-06-20T14:08:26.287Z"
   },
   {
    "duration": 10,
    "start_time": "2023-06-20T14:08:26.558Z"
   },
   {
    "duration": 9,
    "start_time": "2023-06-20T14:08:26.569Z"
   },
   {
    "duration": 10,
    "start_time": "2023-06-20T14:08:26.579Z"
   },
   {
    "duration": 28,
    "start_time": "2023-06-20T14:08:26.591Z"
   },
   {
    "duration": 29,
    "start_time": "2023-06-20T14:08:26.620Z"
   },
   {
    "duration": 28,
    "start_time": "2023-06-20T14:08:26.651Z"
   },
   {
    "duration": 13,
    "start_time": "2023-06-20T14:08:26.682Z"
   },
   {
    "duration": 34,
    "start_time": "2023-06-20T14:08:26.698Z"
   },
   {
    "duration": 15,
    "start_time": "2023-06-20T14:08:26.734Z"
   },
   {
    "duration": 28,
    "start_time": "2023-06-20T14:08:26.751Z"
   },
   {
    "duration": 26,
    "start_time": "2023-06-20T14:08:26.781Z"
   },
   {
    "duration": 52,
    "start_time": "2023-06-20T14:08:26.809Z"
   },
   {
    "duration": 141,
    "start_time": "2023-06-20T14:08:26.863Z"
   },
   {
    "duration": 154,
    "start_time": "2023-06-20T14:08:27.012Z"
   },
   {
    "duration": 188,
    "start_time": "2023-06-20T14:08:27.168Z"
   },
   {
    "duration": 179,
    "start_time": "2023-06-20T14:08:27.358Z"
   },
   {
    "duration": 551,
    "start_time": "2023-06-20T14:08:27.539Z"
   },
   {
    "duration": 3008,
    "start_time": "2023-06-20T14:08:28.092Z"
   },
   {
    "duration": 298,
    "start_time": "2023-06-20T14:08:31.102Z"
   },
   {
    "duration": 1048,
    "start_time": "2023-06-20T14:08:31.402Z"
   },
   {
    "duration": 305,
    "start_time": "2023-06-20T14:08:32.452Z"
   },
   {
    "duration": 191,
    "start_time": "2023-06-20T14:08:41.397Z"
   },
   {
    "duration": 263,
    "start_time": "2023-06-20T14:08:43.691Z"
   },
   {
    "duration": 901,
    "start_time": "2023-06-20T14:08:50.490Z"
   },
   {
    "duration": 1013,
    "start_time": "2023-06-20T14:09:00.358Z"
   },
   {
    "duration": 196,
    "start_time": "2023-06-20T14:09:03.560Z"
   },
   {
    "duration": 196,
    "start_time": "2023-06-20T14:11:36.939Z"
   },
   {
    "duration": 253,
    "start_time": "2023-06-20T14:12:13.433Z"
   },
   {
    "duration": 430,
    "start_time": "2023-06-20T14:13:32.901Z"
   },
   {
    "duration": 254,
    "start_time": "2023-06-20T14:13:38.539Z"
   },
   {
    "duration": 185,
    "start_time": "2023-06-20T14:14:04.647Z"
   },
   {
    "duration": 11,
    "start_time": "2023-06-20T14:14:16.932Z"
   },
   {
    "duration": 10,
    "start_time": "2023-06-20T14:14:21.325Z"
   },
   {
    "duration": 42,
    "start_time": "2023-06-20T14:14:44.728Z"
   },
   {
    "duration": 21,
    "start_time": "2023-06-20T14:14:51.770Z"
   },
   {
    "duration": 961,
    "start_time": "2023-06-20T14:14:55.992Z"
   },
   {
    "duration": 136,
    "start_time": "2023-06-20T14:16:54.921Z"
   },
   {
    "duration": 3,
    "start_time": "2023-06-20T14:17:15.028Z"
   },
   {
    "duration": 130,
    "start_time": "2023-06-20T14:17:18.405Z"
   },
   {
    "duration": 313,
    "start_time": "2023-06-20T14:17:23.930Z"
   },
   {
    "duration": 137,
    "start_time": "2023-06-20T14:17:39.446Z"
   },
   {
    "duration": 69,
    "start_time": "2023-06-20T14:21:20.973Z"
   },
   {
    "duration": 266,
    "start_time": "2023-06-20T14:23:54.939Z"
   },
   {
    "duration": 259,
    "start_time": "2023-06-20T14:24:58.330Z"
   },
   {
    "duration": 146,
    "start_time": "2023-06-20T14:25:11.931Z"
   },
   {
    "duration": 163,
    "start_time": "2023-06-20T14:25:48.066Z"
   },
   {
    "duration": 247,
    "start_time": "2023-06-20T14:26:33.194Z"
   },
   {
    "duration": 651,
    "start_time": "2023-06-20T14:26:47.440Z"
   },
   {
    "duration": 580,
    "start_time": "2023-06-20T14:26:51.694Z"
   },
   {
    "duration": 546,
    "start_time": "2023-06-20T14:27:06.652Z"
   },
   {
    "duration": 11,
    "start_time": "2023-06-20T14:28:02.775Z"
   },
   {
    "duration": 1066,
    "start_time": "2023-06-20T16:50:14.479Z"
   },
   {
    "duration": 1737,
    "start_time": "2023-06-20T16:50:15.547Z"
   },
   {
    "duration": 11,
    "start_time": "2023-06-20T16:50:17.285Z"
   },
   {
    "duration": 19,
    "start_time": "2023-06-20T16:50:17.297Z"
   },
   {
    "duration": 5,
    "start_time": "2023-06-20T16:50:17.318Z"
   },
   {
    "duration": 315,
    "start_time": "2023-06-20T16:50:17.324Z"
   },
   {
    "duration": 268,
    "start_time": "2023-06-20T16:50:17.644Z"
   },
   {
    "duration": 10,
    "start_time": "2023-06-20T16:50:17.914Z"
   },
   {
    "duration": 7,
    "start_time": "2023-06-20T16:50:17.926Z"
   },
   {
    "duration": 33,
    "start_time": "2023-06-20T16:50:17.935Z"
   },
   {
    "duration": 7,
    "start_time": "2023-06-20T16:50:17.971Z"
   },
   {
    "duration": 25,
    "start_time": "2023-06-20T16:50:17.979Z"
   },
   {
    "duration": 16,
    "start_time": "2023-06-20T16:50:18.005Z"
   },
   {
    "duration": 9,
    "start_time": "2023-06-20T16:50:18.024Z"
   },
   {
    "duration": 35,
    "start_time": "2023-06-20T16:50:18.034Z"
   },
   {
    "duration": 13,
    "start_time": "2023-06-20T16:50:18.074Z"
   },
   {
    "duration": 22,
    "start_time": "2023-06-20T16:50:18.089Z"
   },
   {
    "duration": 22,
    "start_time": "2023-06-20T16:50:18.113Z"
   },
   {
    "duration": 6,
    "start_time": "2023-06-20T16:50:18.136Z"
   },
   {
    "duration": 140,
    "start_time": "2023-06-20T16:50:18.143Z"
   },
   {
    "duration": 143,
    "start_time": "2023-06-20T16:50:18.284Z"
   },
   {
    "duration": 163,
    "start_time": "2023-06-20T16:50:18.429Z"
   },
   {
    "duration": 181,
    "start_time": "2023-06-20T16:50:18.594Z"
   },
   {
    "duration": 354,
    "start_time": "2023-06-20T16:50:18.779Z"
   },
   {
    "duration": 2682,
    "start_time": "2023-06-20T16:50:19.135Z"
   },
   {
    "duration": 258,
    "start_time": "2023-06-20T16:50:21.819Z"
   },
   {
    "duration": 1125,
    "start_time": "2023-06-20T16:50:22.081Z"
   },
   {
    "duration": 308,
    "start_time": "2023-06-20T16:50:23.208Z"
   },
   {
    "duration": 281,
    "start_time": "2023-06-20T16:50:23.518Z"
   },
   {
    "duration": 135,
    "start_time": "2023-06-20T16:50:23.800Z"
   },
   {
    "duration": 167,
    "start_time": "2023-06-20T16:50:23.937Z"
   },
   {
    "duration": 138,
    "start_time": "2023-06-20T16:50:24.105Z"
   },
   {
    "duration": 164182,
    "start_time": "2023-06-20T16:50:24.245Z"
   },
   {
    "duration": 0,
    "start_time": "2023-06-20T16:53:08.429Z"
   },
   {
    "duration": 0,
    "start_time": "2023-06-20T16:53:08.430Z"
   },
   {
    "duration": 152217,
    "start_time": "2023-06-20T16:53:09.745Z"
   },
   {
    "duration": 0,
    "start_time": "2023-06-20T16:55:41.970Z"
   },
   {
    "duration": 0,
    "start_time": "2023-06-20T16:55:41.971Z"
   },
   {
    "duration": 12048,
    "start_time": "2023-06-20T16:55:45.896Z"
   },
   {
    "duration": 328915,
    "start_time": "2023-06-20T16:56:00.647Z"
   },
   {
    "duration": 43,
    "start_time": "2023-06-20T17:02:08.742Z"
   },
   {
    "duration": 181,
    "start_time": "2023-06-20T17:02:11.751Z"
   },
   {
    "duration": 12414,
    "start_time": "2023-06-20T17:08:51.532Z"
   },
   {
    "duration": 74,
    "start_time": "2023-06-21T09:53:13.512Z"
   },
   {
    "duration": 1159,
    "start_time": "2023-06-21T09:53:18.010Z"
   },
   {
    "duration": 1590,
    "start_time": "2023-06-21T09:53:20.819Z"
   },
   {
    "duration": 49,
    "start_time": "2023-06-21T09:56:59.558Z"
   },
   {
    "duration": 99,
    "start_time": "2023-06-21T09:57:05.092Z"
   },
   {
    "duration": 1669,
    "start_time": "2023-06-21T09:57:05.193Z"
   },
   {
    "duration": 11,
    "start_time": "2023-06-21T09:57:06.864Z"
   },
   {
    "duration": 27,
    "start_time": "2023-06-21T09:57:06.878Z"
   },
   {
    "duration": 5,
    "start_time": "2023-06-21T09:57:06.907Z"
   },
   {
    "duration": 258,
    "start_time": "2023-06-21T09:57:06.914Z"
   },
   {
    "duration": 266,
    "start_time": "2023-06-21T09:57:07.174Z"
   },
   {
    "duration": 11,
    "start_time": "2023-06-21T09:57:07.442Z"
   },
   {
    "duration": 22,
    "start_time": "2023-06-21T09:57:07.455Z"
   },
   {
    "duration": 18,
    "start_time": "2023-06-21T09:57:07.480Z"
   },
   {
    "duration": 6,
    "start_time": "2023-06-21T09:57:07.500Z"
   },
   {
    "duration": 22,
    "start_time": "2023-06-21T09:57:07.508Z"
   },
   {
    "duration": 25,
    "start_time": "2023-06-21T09:57:07.532Z"
   },
   {
    "duration": 47,
    "start_time": "2023-06-21T09:57:07.559Z"
   },
   {
    "duration": 18,
    "start_time": "2023-06-21T09:57:07.608Z"
   },
   {
    "duration": 14,
    "start_time": "2023-06-21T09:57:07.628Z"
   },
   {
    "duration": 20,
    "start_time": "2023-06-21T09:57:07.645Z"
   },
   {
    "duration": 43,
    "start_time": "2023-06-21T09:57:07.667Z"
   },
   {
    "duration": 8,
    "start_time": "2023-06-21T09:57:07.712Z"
   },
   {
    "duration": 169,
    "start_time": "2023-06-21T09:57:07.722Z"
   },
   {
    "duration": 148,
    "start_time": "2023-06-21T09:57:07.893Z"
   },
   {
    "duration": 185,
    "start_time": "2023-06-21T09:57:08.043Z"
   },
   {
    "duration": 220,
    "start_time": "2023-06-21T09:57:08.231Z"
   },
   {
    "duration": 371,
    "start_time": "2023-06-21T09:57:08.453Z"
   },
   {
    "duration": 2946,
    "start_time": "2023-06-21T09:57:08.827Z"
   },
   {
    "duration": 244,
    "start_time": "2023-06-21T09:57:11.775Z"
   },
   {
    "duration": 1063,
    "start_time": "2023-06-21T09:57:12.022Z"
   },
   {
    "duration": 309,
    "start_time": "2023-06-21T09:57:13.088Z"
   },
   {
    "duration": 290,
    "start_time": "2023-06-21T09:57:13.399Z"
   },
   {
    "duration": 235,
    "start_time": "2023-06-21T09:57:13.692Z"
   },
   {
    "duration": 199,
    "start_time": "2023-06-21T09:57:13.929Z"
   },
   {
    "duration": 137,
    "start_time": "2023-06-21T09:57:14.129Z"
   },
   {
    "duration": 0,
    "start_time": "2023-06-21T09:59:18.608Z"
   },
   {
    "duration": 0,
    "start_time": "2023-06-21T09:59:18.610Z"
   },
   {
    "duration": 0,
    "start_time": "2023-06-21T09:59:18.617Z"
   },
   {
    "duration": 0,
    "start_time": "2023-06-21T09:59:18.622Z"
   },
   {
    "duration": 0,
    "start_time": "2023-06-21T09:59:18.626Z"
   },
   {
    "duration": 133,
    "start_time": "2023-06-21T09:59:22.035Z"
   },
   {
    "duration": 0,
    "start_time": "2023-06-21T09:59:37.435Z"
   },
   {
    "duration": 135,
    "start_time": "2023-06-21T09:59:41.355Z"
   },
   {
    "duration": 82,
    "start_time": "2023-06-21T10:01:23.489Z"
   },
   {
    "duration": 847,
    "start_time": "2023-06-21T10:01:29.923Z"
   },
   {
    "duration": 1692,
    "start_time": "2023-06-21T10:01:30.773Z"
   },
   {
    "duration": 10,
    "start_time": "2023-06-21T10:01:32.466Z"
   },
   {
    "duration": 28,
    "start_time": "2023-06-21T10:01:32.479Z"
   },
   {
    "duration": 5,
    "start_time": "2023-06-21T10:01:32.510Z"
   },
   {
    "duration": 253,
    "start_time": "2023-06-21T10:01:32.517Z"
   },
   {
    "duration": 242,
    "start_time": "2023-06-21T10:01:32.772Z"
   },
   {
    "duration": 11,
    "start_time": "2023-06-21T10:01:33.016Z"
   },
   {
    "duration": 7,
    "start_time": "2023-06-21T10:01:33.028Z"
   },
   {
    "duration": 26,
    "start_time": "2023-06-21T10:01:33.037Z"
   },
   {
    "duration": 24,
    "start_time": "2023-06-21T10:01:33.065Z"
   },
   {
    "duration": 25,
    "start_time": "2023-06-21T10:01:33.090Z"
   },
   {
    "duration": 21,
    "start_time": "2023-06-21T10:01:33.117Z"
   },
   {
    "duration": 14,
    "start_time": "2023-06-21T10:01:33.140Z"
   },
   {
    "duration": 22,
    "start_time": "2023-06-21T10:01:33.156Z"
   },
   {
    "duration": 23,
    "start_time": "2023-06-21T10:01:33.180Z"
   },
   {
    "duration": 15,
    "start_time": "2023-06-21T10:01:33.205Z"
   },
   {
    "duration": 18,
    "start_time": "2023-06-21T10:01:33.221Z"
   },
   {
    "duration": 15,
    "start_time": "2023-06-21T10:01:33.240Z"
   },
   {
    "duration": 139,
    "start_time": "2023-06-21T10:01:33.257Z"
   },
   {
    "duration": 147,
    "start_time": "2023-06-21T10:01:33.401Z"
   },
   {
    "duration": 162,
    "start_time": "2023-06-21T10:01:33.550Z"
   },
   {
    "duration": 157,
    "start_time": "2023-06-21T10:01:33.714Z"
   },
   {
    "duration": 349,
    "start_time": "2023-06-21T10:01:33.873Z"
   },
   {
    "duration": 2570,
    "start_time": "2023-06-21T10:01:34.224Z"
   },
   {
    "duration": 232,
    "start_time": "2023-06-21T10:01:36.796Z"
   },
   {
    "duration": 1163,
    "start_time": "2023-06-21T10:01:37.030Z"
   },
   {
    "duration": 359,
    "start_time": "2023-06-21T10:01:38.195Z"
   },
   {
    "duration": 229,
    "start_time": "2023-06-21T10:02:05.109Z"
   },
   {
    "duration": 176,
    "start_time": "2023-06-21T10:02:19.640Z"
   },
   {
    "duration": 193,
    "start_time": "2023-06-21T10:02:31.218Z"
   },
   {
    "duration": 150,
    "start_time": "2023-06-21T10:02:49.132Z"
   },
   {
    "duration": 157,
    "start_time": "2023-06-21T10:05:14.913Z"
   },
   {
    "duration": 193,
    "start_time": "2023-06-21T10:05:47.606Z"
   },
   {
    "duration": 162,
    "start_time": "2023-06-21T10:05:57.830Z"
   },
   {
    "duration": 189,
    "start_time": "2023-06-21T10:06:12.938Z"
   },
   {
    "duration": 257,
    "start_time": "2023-06-21T10:06:26.202Z"
   },
   {
    "duration": 194,
    "start_time": "2023-06-21T10:09:41.959Z"
   },
   {
    "duration": 1902,
    "start_time": "2023-06-21T10:09:54.490Z"
   },
   {
    "duration": 3632,
    "start_time": "2023-06-21T10:10:01.587Z"
   },
   {
    "duration": 1830,
    "start_time": "2023-06-21T10:10:11.729Z"
   },
   {
    "duration": 1742,
    "start_time": "2023-06-21T10:10:18.995Z"
   },
   {
    "duration": 324,
    "start_time": "2023-06-21T10:10:31.609Z"
   },
   {
    "duration": 203,
    "start_time": "2023-06-21T10:10:41.002Z"
   },
   {
    "duration": 7,
    "start_time": "2023-06-21T10:11:24.457Z"
   },
   {
    "duration": 133,
    "start_time": "2023-06-21T10:11:26.446Z"
   },
   {
    "duration": 184,
    "start_time": "2023-06-21T10:11:35.134Z"
   },
   {
    "duration": 268,
    "start_time": "2023-06-21T10:11:38.059Z"
   },
   {
    "duration": 10,
    "start_time": "2023-06-21T10:12:39.299Z"
   },
   {
    "duration": 116,
    "start_time": "2023-06-21T10:12:41.161Z"
   },
   {
    "duration": 205,
    "start_time": "2023-06-21T10:12:48.999Z"
   },
   {
    "duration": 173,
    "start_time": "2023-06-21T10:12:51.694Z"
   },
   {
    "duration": 148,
    "start_time": "2023-06-21T10:15:28.547Z"
   },
   {
    "duration": 158,
    "start_time": "2023-06-21T10:16:00.066Z"
   },
   {
    "duration": 144,
    "start_time": "2023-06-21T10:16:38.327Z"
   },
   {
    "duration": 1542,
    "start_time": "2023-06-21T17:10:41.498Z"
   },
   {
    "duration": 1755,
    "start_time": "2023-06-21T17:10:43.043Z"
   },
   {
    "duration": 10,
    "start_time": "2023-06-21T17:10:44.799Z"
   },
   {
    "duration": 11,
    "start_time": "2023-06-21T17:10:44.811Z"
   },
   {
    "duration": 4,
    "start_time": "2023-06-21T17:10:44.824Z"
   },
   {
    "duration": 293,
    "start_time": "2023-06-21T17:10:44.829Z"
   },
   {
    "duration": 301,
    "start_time": "2023-06-21T17:10:45.124Z"
   },
   {
    "duration": 10,
    "start_time": "2023-06-21T17:10:45.427Z"
   },
   {
    "duration": 25,
    "start_time": "2023-06-21T17:10:45.439Z"
   },
   {
    "duration": 35,
    "start_time": "2023-06-21T17:10:45.465Z"
   },
   {
    "duration": 11,
    "start_time": "2023-06-21T17:10:45.502Z"
   },
   {
    "duration": 71,
    "start_time": "2023-06-21T17:10:45.515Z"
   },
   {
    "duration": 17,
    "start_time": "2023-06-21T17:10:45.587Z"
   },
   {
    "duration": 28,
    "start_time": "2023-06-21T17:10:45.607Z"
   },
   {
    "duration": 57,
    "start_time": "2023-06-21T17:10:45.637Z"
   },
   {
    "duration": 15,
    "start_time": "2023-06-21T17:10:45.696Z"
   },
   {
    "duration": 16,
    "start_time": "2023-06-21T17:10:45.713Z"
   },
   {
    "duration": 11,
    "start_time": "2023-06-21T17:10:45.731Z"
   },
   {
    "duration": 8,
    "start_time": "2023-06-21T17:10:45.743Z"
   },
   {
    "duration": 161,
    "start_time": "2023-06-21T17:10:45.760Z"
   },
   {
    "duration": 159,
    "start_time": "2023-06-21T17:10:45.923Z"
   },
   {
    "duration": 182,
    "start_time": "2023-06-21T17:10:46.084Z"
   },
   {
    "duration": 153,
    "start_time": "2023-06-21T17:10:46.275Z"
   },
   {
    "duration": 360,
    "start_time": "2023-06-21T17:10:46.430Z"
   },
   {
    "duration": 2878,
    "start_time": "2023-06-21T17:10:46.792Z"
   },
   {
    "duration": 250,
    "start_time": "2023-06-21T17:10:49.675Z"
   },
   {
    "duration": 1099,
    "start_time": "2023-06-21T17:10:49.928Z"
   },
   {
    "duration": 445,
    "start_time": "2023-06-21T17:10:51.028Z"
   },
   {
    "duration": 191,
    "start_time": "2023-06-21T17:10:51.478Z"
   },
   {
    "duration": 178,
    "start_time": "2023-06-21T17:10:51.672Z"
   },
   {
    "duration": 160,
    "start_time": "2023-06-21T17:10:51.864Z"
   },
   {
    "duration": 153,
    "start_time": "2023-06-21T17:10:52.026Z"
   },
   {
    "duration": 49055,
    "start_time": "2023-06-21T17:10:52.180Z"
   },
   {
    "duration": 0,
    "start_time": "2023-06-21T17:11:41.238Z"
   },
   {
    "duration": 0,
    "start_time": "2023-06-21T17:11:41.240Z"
   },
   {
    "duration": 0,
    "start_time": "2023-06-21T17:11:41.241Z"
   },
   {
    "duration": 134,
    "start_time": "2023-06-21T17:11:56.295Z"
   },
   {
    "duration": 44,
    "start_time": "2023-06-21T17:12:00.245Z"
   },
   {
    "duration": 172,
    "start_time": "2023-06-21T17:12:02.925Z"
   },
   {
    "duration": 175,
    "start_time": "2023-06-21T17:12:06.900Z"
   },
   {
    "duration": 83,
    "start_time": "2023-10-29T14:03:58.652Z"
   }
  ],
  "kernelspec": {
   "display_name": "Python 3 (ipykernel)",
   "language": "python",
   "name": "python3"
  },
  "language_info": {
   "codemirror_mode": {
    "name": "ipython",
    "version": 3
   },
   "file_extension": ".py",
   "mimetype": "text/x-python",
   "name": "python",
   "nbconvert_exporter": "python",
   "pygments_lexer": "ipython3",
   "version": "3.9.5"
  },
  "toc": {
   "base_numbering": 1,
   "nav_menu": {},
   "number_sections": true,
   "sideBar": true,
   "skip_h1_title": true,
   "title_cell": "Table of Contents",
   "title_sidebar": "Contents",
   "toc_cell": false,
   "toc_position": {},
   "toc_section_display": true,
   "toc_window_display": true
  }
 },
 "nbformat": 4,
 "nbformat_minor": 2
}
