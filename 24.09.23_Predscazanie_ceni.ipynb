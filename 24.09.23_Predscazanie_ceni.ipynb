{
 "cells": [
  {
   "cell_type": "markdown",
   "metadata": {
    "toc": true
   },
   "source": [
    "<h1>Table of Contents<span class=\"tocSkip\"></span></h1>\n",
    "<div class=\"toc\"><ul class=\"toc-item\"><li><span><a href=\"#Подготовка-данных\" data-toc-modified-id=\"Подготовка-данных-1\"><span class=\"toc-item-num\">1&nbsp;&nbsp;</span>Подготовка данных</a></span><ul class=\"toc-item\"><li><span><a href=\"#Итог\" data-toc-modified-id=\"Итог-1.1\"><span class=\"toc-item-num\">1.1&nbsp;&nbsp;</span>Итог</a></span></li></ul></li><li><span><a href=\"#Обучение-моделей\" data-toc-modified-id=\"Обучение-моделей-2\"><span class=\"toc-item-num\">2&nbsp;&nbsp;</span>Обучение моделей</a></span><ul class=\"toc-item\"><li><span><a href=\"#Кодирование-данных\" data-toc-modified-id=\"Кодирование-данных-2.1\"><span class=\"toc-item-num\">2.1&nbsp;&nbsp;</span>Кодирование данных</a></span></li><li><span><a href=\"#LinearRegression\" data-toc-modified-id=\"LinearRegression-2.2\"><span class=\"toc-item-num\">2.2&nbsp;&nbsp;</span>LinearRegression</a></span></li><li><span><a href=\"#DecisionTreeRegressor\" data-toc-modified-id=\"DecisionTreeRegressor-2.3\"><span class=\"toc-item-num\">2.3&nbsp;&nbsp;</span>DecisionTreeRegressor</a></span></li><li><span><a href=\"#CatBoostRegressor\" data-toc-modified-id=\"CatBoostRegressor-2.4\"><span class=\"toc-item-num\">2.4&nbsp;&nbsp;</span>CatBoostRegressor</a></span></li><li><span><a href=\"#LGBMRegressor\" data-toc-modified-id=\"LGBMRegressor-2.5\"><span class=\"toc-item-num\">2.5&nbsp;&nbsp;</span>LGBMRegressor</a></span></li></ul></li><li><span><a href=\"#Анализ-моделей\" data-toc-modified-id=\"Анализ-моделей-3\"><span class=\"toc-item-num\">3&nbsp;&nbsp;</span>Анализ моделей</a></span><ul class=\"toc-item\"><li><span><a href=\"#LinearRegression\" data-toc-modified-id=\"LinearRegression-3.1\"><span class=\"toc-item-num\">3.1&nbsp;&nbsp;</span>LinearRegression</a></span></li><li><span><a href=\"#DecisionTreeRegressor\" data-toc-modified-id=\"DecisionTreeRegressor-3.2\"><span class=\"toc-item-num\">3.2&nbsp;&nbsp;</span>DecisionTreeRegressor</a></span></li><li><span><a href=\"#CatBoostRegressor_oe\" data-toc-modified-id=\"CatBoostRegressor_oe-3.3\"><span class=\"toc-item-num\">3.3&nbsp;&nbsp;</span>CatBoostRegressor_oe</a></span></li><li><span><a href=\"#LGBMRegressor\" data-toc-modified-id=\"LGBMRegressor-3.4\"><span class=\"toc-item-num\">3.4&nbsp;&nbsp;</span>LGBMRegressor</a></span><ul class=\"toc-item\"><li><span><a href=\"#ohe\" data-toc-modified-id=\"ohe-3.4.1\"><span class=\"toc-item-num\">3.4.1&nbsp;&nbsp;</span>ohe</a></span></li><li><span><a href=\"#oe\" data-toc-modified-id=\"oe-3.4.2\"><span class=\"toc-item-num\">3.4.2&nbsp;&nbsp;</span>oe</a></span></li></ul></li></ul></li><li><span><a href=\"#Тестирование\" data-toc-modified-id=\"Тестирование-4\"><span class=\"toc-item-num\">4&nbsp;&nbsp;</span>Тестирование</a></span></li><li><span><a href=\"#Итог\" data-toc-modified-id=\"Итог-5\"><span class=\"toc-item-num\">5&nbsp;&nbsp;</span>Итог</a></span></li></ul></div>"
   ]
  },
  {
   "cell_type": "markdown",
   "metadata": {},
   "source": [
    "# Определение стоимости автомобилей"
   ]
  },
  {
   "cell_type": "markdown",
   "metadata": {},
   "source": [
    "Сервис по продаже автомобилей с пробегом «Не бит, не крашен» разрабатывает приложение для привлечения новых клиентов. В нём можно быстро узнать рыночную стоимость своего автомобиля. В вашем распоряжении исторические данные: технические характеристики, комплектации и цены автомобилей. Вам нужно построить модель для определения стоимости. \n",
    "\n",
    "Заказчику важны:\n",
    "\n",
    "- качество предсказания;\n",
    "- скорость предсказания;\n",
    "- время обучения."
   ]
  },
  {
   "cell_type": "markdown",
   "metadata": {},
   "source": [
    "# Описание проекта\n",
    "\n",
    "**Цель исследования**\n",
    "\n",
    "Цель нашего исследования - разработать и протестировать модель, которая может определить рыночную стоимость автомобиля с пробегом. Это поможет сервису «Не бит, не крашен» привлечь новых клиентов, предлагая им удобное и надежное приложение.\n",
    "\n",
    "**Задачи исследования**\n",
    "\n",
    "Для достижения поставленной цели мы выполним следующие задачи:\n",
    "\n",
    "* Загрузим и изучим данные о технических характеристиках, комплектации и ценах автомобилей с пробегом. \n",
    "* Заполним пропущенные значения и обработаем аномалии в столбцах. Удалим неинформативные признаки.\n",
    "* Подготовим выборки для обучения моделей. Разделим данные на обучающую, валидационную и тестовую выборки.\n",
    "* Обучим разные модели, одна из которых - LightGBM, как минимум одна - не бустинг. Подберем оптимальные гиперпараметры для каждой модели.\n",
    "* Проанализируем время обучения, время предсказания и качество моделей. Сравним их по критериям заказчика.\n",
    "* Выберем лучшую модель и проверим её качество на тестовой выборке.\n",
    "\n",
    "**Исходные данные**\n",
    "\n",
    "Наш набор данных содержит информацию о 354369 автомобилях с пробегом. Данные имеют 16 столбцов:\n",
    "\n",
    "DateCrawled - дата скачивания анкеты из базы\n",
    "VehicleType - тип автомобильного кузова\n",
    "RegistrationYear - год регистрации автомобиля\n",
    "Gearbox - тип коробки передач\n",
    "Power - мощность (л. с.)\n",
    "Model - модель автомобиля\n",
    "Kilometer - пробег (км)\n",
    "RegistrationMonth - месяц регистрации автомобиля\n",
    "FuelType - тип топлива\n",
    "Brand - марка автомобиля\n",
    "NotRepaired - была ли машина в ремонте\n",
    "DateCreated - дата создания анкеты\n",
    "NumberOfPictures - количество фотографий автомобиля\n",
    "PostalCode - почтовый индекс владельца анкеты (пользователя)\n",
    "LastSeen - дата последней активности пользователя\n",
    "Price - цена (евро)\n",
    "\n",
    "**Целевой признак**: цена автомобиля (Price)."
   ]
  },
  {
   "cell_type": "markdown",
   "metadata": {},
   "source": [
    "## Подготовка данных"
   ]
  },
  {
   "cell_type": "code",
   "execution_count": 1,
   "metadata": {},
   "outputs": [],
   "source": [
    "import pandas as pd\n",
    "import matplotlib.pyplot as plt\n",
    "from datetime import datetime\n",
    "import numpy as np\n",
    "import time\n",
    "import seaborn as sns\n",
    "\n",
    "# Импорт модулей из sklearn\n",
    "from sklearn.model_selection import train_test_split, cross_val_score, GridSearchCV\n",
    "from sklearn.linear_model import LinearRegression\n",
    "from sklearn.tree import DecisionTreeRegressor\n",
    "from sklearn.metrics import mean_squared_error\n",
    "from sklearn.preprocessing import OneHotEncoder, OrdinalEncoder, StandardScaler\n",
    "\n",
    "# Импорт модулей из catboost и lightgbm\n",
    "from catboost import CatBoostRegressor\n",
    "from lightgbm import LGBMRegressor"
   ]
  },
  {
   "cell_type": "code",
   "execution_count": 2,
   "metadata": {
    "scrolled": true
   },
   "outputs": [
    {
     "data": {
      "text/html": [
       "<div>\n",
       "<style scoped>\n",
       "    .dataframe tbody tr th:only-of-type {\n",
       "        vertical-align: middle;\n",
       "    }\n",
       "\n",
       "    .dataframe tbody tr th {\n",
       "        vertical-align: top;\n",
       "    }\n",
       "\n",
       "    .dataframe thead th {\n",
       "        text-align: right;\n",
       "    }\n",
       "</style>\n",
       "<table border=\"1\" class=\"dataframe\">\n",
       "  <thead>\n",
       "    <tr style=\"text-align: right;\">\n",
       "      <th></th>\n",
       "      <th>DateCrawled</th>\n",
       "      <th>Price</th>\n",
       "      <th>VehicleType</th>\n",
       "      <th>RegistrationYear</th>\n",
       "      <th>Gearbox</th>\n",
       "      <th>Power</th>\n",
       "      <th>Model</th>\n",
       "      <th>Kilometer</th>\n",
       "      <th>RegistrationMonth</th>\n",
       "      <th>FuelType</th>\n",
       "      <th>Brand</th>\n",
       "      <th>Repaired</th>\n",
       "      <th>DateCreated</th>\n",
       "      <th>NumberOfPictures</th>\n",
       "      <th>PostalCode</th>\n",
       "      <th>LastSeen</th>\n",
       "    </tr>\n",
       "  </thead>\n",
       "  <tbody>\n",
       "    <tr>\n",
       "      <th>0</th>\n",
       "      <td>2016-03-24 11:52:17</td>\n",
       "      <td>480</td>\n",
       "      <td>NaN</td>\n",
       "      <td>1993</td>\n",
       "      <td>manual</td>\n",
       "      <td>0</td>\n",
       "      <td>golf</td>\n",
       "      <td>150000</td>\n",
       "      <td>0</td>\n",
       "      <td>petrol</td>\n",
       "      <td>volkswagen</td>\n",
       "      <td>NaN</td>\n",
       "      <td>2016-03-24 00:00:00</td>\n",
       "      <td>0</td>\n",
       "      <td>70435</td>\n",
       "      <td>2016-04-07 03:16:57</td>\n",
       "    </tr>\n",
       "    <tr>\n",
       "      <th>1</th>\n",
       "      <td>2016-03-24 10:58:45</td>\n",
       "      <td>18300</td>\n",
       "      <td>coupe</td>\n",
       "      <td>2011</td>\n",
       "      <td>manual</td>\n",
       "      <td>190</td>\n",
       "      <td>NaN</td>\n",
       "      <td>125000</td>\n",
       "      <td>5</td>\n",
       "      <td>gasoline</td>\n",
       "      <td>audi</td>\n",
       "      <td>yes</td>\n",
       "      <td>2016-03-24 00:00:00</td>\n",
       "      <td>0</td>\n",
       "      <td>66954</td>\n",
       "      <td>2016-04-07 01:46:50</td>\n",
       "    </tr>\n",
       "    <tr>\n",
       "      <th>2</th>\n",
       "      <td>2016-03-14 12:52:21</td>\n",
       "      <td>9800</td>\n",
       "      <td>suv</td>\n",
       "      <td>2004</td>\n",
       "      <td>auto</td>\n",
       "      <td>163</td>\n",
       "      <td>grand</td>\n",
       "      <td>125000</td>\n",
       "      <td>8</td>\n",
       "      <td>gasoline</td>\n",
       "      <td>jeep</td>\n",
       "      <td>NaN</td>\n",
       "      <td>2016-03-14 00:00:00</td>\n",
       "      <td>0</td>\n",
       "      <td>90480</td>\n",
       "      <td>2016-04-05 12:47:46</td>\n",
       "    </tr>\n",
       "    <tr>\n",
       "      <th>3</th>\n",
       "      <td>2016-03-17 16:54:04</td>\n",
       "      <td>1500</td>\n",
       "      <td>small</td>\n",
       "      <td>2001</td>\n",
       "      <td>manual</td>\n",
       "      <td>75</td>\n",
       "      <td>golf</td>\n",
       "      <td>150000</td>\n",
       "      <td>6</td>\n",
       "      <td>petrol</td>\n",
       "      <td>volkswagen</td>\n",
       "      <td>no</td>\n",
       "      <td>2016-03-17 00:00:00</td>\n",
       "      <td>0</td>\n",
       "      <td>91074</td>\n",
       "      <td>2016-03-17 17:40:17</td>\n",
       "    </tr>\n",
       "    <tr>\n",
       "      <th>4</th>\n",
       "      <td>2016-03-31 17:25:20</td>\n",
       "      <td>3600</td>\n",
       "      <td>small</td>\n",
       "      <td>2008</td>\n",
       "      <td>manual</td>\n",
       "      <td>69</td>\n",
       "      <td>fabia</td>\n",
       "      <td>90000</td>\n",
       "      <td>7</td>\n",
       "      <td>gasoline</td>\n",
       "      <td>skoda</td>\n",
       "      <td>no</td>\n",
       "      <td>2016-03-31 00:00:00</td>\n",
       "      <td>0</td>\n",
       "      <td>60437</td>\n",
       "      <td>2016-04-06 10:17:21</td>\n",
       "    </tr>\n",
       "  </tbody>\n",
       "</table>\n",
       "</div>"
      ],
      "text/plain": [
       "           DateCrawled  Price VehicleType  RegistrationYear Gearbox  Power  \\\n",
       "0  2016-03-24 11:52:17    480         NaN              1993  manual      0   \n",
       "1  2016-03-24 10:58:45  18300       coupe              2011  manual    190   \n",
       "2  2016-03-14 12:52:21   9800         suv              2004    auto    163   \n",
       "3  2016-03-17 16:54:04   1500       small              2001  manual     75   \n",
       "4  2016-03-31 17:25:20   3600       small              2008  manual     69   \n",
       "\n",
       "   Model  Kilometer  RegistrationMonth  FuelType       Brand Repaired  \\\n",
       "0   golf     150000                  0    petrol  volkswagen      NaN   \n",
       "1    NaN     125000                  5  gasoline        audi      yes   \n",
       "2  grand     125000                  8  gasoline        jeep      NaN   \n",
       "3   golf     150000                  6    petrol  volkswagen       no   \n",
       "4  fabia      90000                  7  gasoline       skoda       no   \n",
       "\n",
       "           DateCreated  NumberOfPictures  PostalCode             LastSeen  \n",
       "0  2016-03-24 00:00:00                 0       70435  2016-04-07 03:16:57  \n",
       "1  2016-03-24 00:00:00                 0       66954  2016-04-07 01:46:50  \n",
       "2  2016-03-14 00:00:00                 0       90480  2016-04-05 12:47:46  \n",
       "3  2016-03-17 00:00:00                 0       91074  2016-03-17 17:40:17  \n",
       "4  2016-03-31 00:00:00                 0       60437  2016-04-06 10:17:21  "
      ]
     },
     "execution_count": 2,
     "metadata": {},
     "output_type": "execute_result"
    }
   ],
   "source": [
    "data=pd.read_csv('/datasets/autos.csv')\n",
    "data.head()"
   ]
  },
  {
   "cell_type": "code",
   "execution_count": 3,
   "metadata": {},
   "outputs": [
    {
     "name": "stdout",
     "output_type": "stream",
     "text": [
      "<class 'pandas.core.frame.DataFrame'>\n",
      "RangeIndex: 354369 entries, 0 to 354368\n",
      "Data columns (total 16 columns):\n",
      " #   Column             Non-Null Count   Dtype \n",
      "---  ------             --------------   ----- \n",
      " 0   DateCrawled        354369 non-null  object\n",
      " 1   Price              354369 non-null  int64 \n",
      " 2   VehicleType        316879 non-null  object\n",
      " 3   RegistrationYear   354369 non-null  int64 \n",
      " 4   Gearbox            334536 non-null  object\n",
      " 5   Power              354369 non-null  int64 \n",
      " 6   Model              334664 non-null  object\n",
      " 7   Kilometer          354369 non-null  int64 \n",
      " 8   RegistrationMonth  354369 non-null  int64 \n",
      " 9   FuelType           321474 non-null  object\n",
      " 10  Brand              354369 non-null  object\n",
      " 11  Repaired           283215 non-null  object\n",
      " 12  DateCreated        354369 non-null  object\n",
      " 13  NumberOfPictures   354369 non-null  int64 \n",
      " 14  PostalCode         354369 non-null  int64 \n",
      " 15  LastSeen           354369 non-null  object\n",
      "dtypes: int64(7), object(9)\n",
      "memory usage: 43.3+ MB\n"
     ]
    }
   ],
   "source": [
    "data.info()"
   ]
  },
  {
   "cell_type": "markdown",
   "metadata": {},
   "source": [
    "Оставим в датафрейме только столбцы необходимые для обучения модели. Избавимся от столбцов:\n",
    "* DateCrawled        \n",
    "* DateCreated        \n",
    "* NumberOfPictures   \n",
    "* PostalCode         \n",
    "* LastSeen           \n",
    "* RegistrationMonth  \n"
   ]
  },
  {
   "cell_type": "code",
   "execution_count": 4,
   "metadata": {},
   "outputs": [],
   "source": [
    "data = data[['VehicleType', \n",
    "            'Gearbox', \n",
    "            'Power',\n",
    "            'Kilometer',\n",
    "            'FuelType',\n",
    "            'Brand',\n",
    "            'Repaired',\n",
    "            'RegistrationYear',\n",
    "            'Model',\n",
    "            'Price']]\n"
   ]
  },
  {
   "cell_type": "markdown",
   "metadata": {},
   "source": [
    "Используем функцию dataframe_information, которая получает на вход набор данных и возвращает основные статистики по каждому столбцу. Эта функция поможет проанализировать и понять свойства и распределение данных, а также выявлять проблемы, такие как пропуски, нули, выбросы и аномалии."
   ]
  },
  {
   "cell_type": "code",
   "execution_count": 5,
   "metadata": {},
   "outputs": [],
   "source": [
    "def dataframe_information(data, sort_by='na', asc=False):\n",
    "    \n",
    "    df_data = []\n",
    "    df_cols = ['column_name', 'object', 'na', 'zero', 'rate', 'unique', 'neg'\n",
    "               , 'mean', 'std', 'min', 'max', 'out left', 'out rigth']\n",
    "    \n",
    "    # перебираем столбцы в наборе данных\n",
    "    for column_name in data.columns:\n",
    "           \n",
    "        # считаем характеристики\n",
    "        column_type = data[column_name].dtypes\n",
    "        column_na_values = data[column_name].isna().sum()\n",
    "        column_zero_values = data[column_name][data[column_name] == 0].count()\n",
    "        column_na_zero_rate = (column_na_values + column_zero_values) / data.shape[0]\n",
    "    \n",
    "        # добавляем строки кода для подсчета уникальных и отрицательных значений\n",
    "        column_unique_values = data[column_name].nunique()\n",
    "        \n",
    "        # проверяем, является ли столбец числовым\n",
    "        if column_type in ['int64', 'float64']:\n",
    "            column_negative_values = data[column_name].lt(0).sum()\n",
    "        \n",
    "            # добавляем строки кода для подсчета среднего, стандартного отклонения, минимального и максимального значения\n",
    "            column_mean = data[column_name].mean()\n",
    "            column_std = data[column_name].std()\n",
    "            column_min = data[column_name].min()\n",
    "            column_max = data[column_name].max()\n",
    "        \n",
    "            # добавляем строки кода для определения выбросов\n",
    "            outliers_left = data[column_name].quantile(0.25) - 1.5 * (data[column_name].quantile(0.75)\n",
    "                                                                      - data[column_name].quantile(0.25))\n",
    "            outliers_right = data[column_name].quantile(0.75) + 1.5 * (data[column_name].quantile(0.75)\n",
    "                                                                       - data[column_name].quantile(0.25))\n",
    "            outliers_left_number = data[column_name][data[column_name] < outliers_left].count()\n",
    "            outliers_right_number = data[column_name][data[column_name] > outliers_right].count()\n",
    "            \n",
    "            # собираем показатели по каждому полю\n",
    "            df_data.append([column_name, column_type, column_na_values\n",
    "                                     , column_zero_values, column_na_zero_rate, column_unique_values\n",
    "                                     , column_negative_values, column_mean, column_std, column_min\n",
    "                                     , column_max, outliers_left_number, outliers_right_number])\n",
    "        \n",
    "        else: # если столбец не числовой, то пропускаем некоторые показатели\n",
    "            df_data.append([column_name, column_type, column_na_values\n",
    "                                     , column_zero_values, column_na_zero_rate, column_unique_values\n",
    "                                     , None, None, None, None\n",
    "                                     , None, None, None])\n",
    "\n",
    "    # формируем набор данных\n",
    "    df_res = pd.DataFrame(data = df_data, columns = df_cols).sort_values(by=sort_by, ascending=asc)\n",
    "\n",
    "    return df_res\n",
    "\n"
   ]
  },
  {
   "cell_type": "code",
   "execution_count": 6,
   "metadata": {
    "scrolled": false
   },
   "outputs": [
    {
     "data": {
      "text/html": [
       "<div>\n",
       "<style scoped>\n",
       "    .dataframe tbody tr th:only-of-type {\n",
       "        vertical-align: middle;\n",
       "    }\n",
       "\n",
       "    .dataframe tbody tr th {\n",
       "        vertical-align: top;\n",
       "    }\n",
       "\n",
       "    .dataframe thead th {\n",
       "        text-align: right;\n",
       "    }\n",
       "</style>\n",
       "<table border=\"1\" class=\"dataframe\">\n",
       "  <thead>\n",
       "    <tr style=\"text-align: right;\">\n",
       "      <th></th>\n",
       "      <th>column_name</th>\n",
       "      <th>object</th>\n",
       "      <th>na</th>\n",
       "      <th>zero</th>\n",
       "      <th>rate</th>\n",
       "      <th>unique</th>\n",
       "      <th>neg</th>\n",
       "      <th>mean</th>\n",
       "      <th>std</th>\n",
       "      <th>min</th>\n",
       "      <th>max</th>\n",
       "      <th>out left</th>\n",
       "      <th>out rigth</th>\n",
       "    </tr>\n",
       "  </thead>\n",
       "  <tbody>\n",
       "    <tr>\n",
       "      <th>6</th>\n",
       "      <td>Repaired</td>\n",
       "      <td>object</td>\n",
       "      <td>71154</td>\n",
       "      <td>0</td>\n",
       "      <td>0.200791</td>\n",
       "      <td>2</td>\n",
       "      <td>NaN</td>\n",
       "      <td>NaN</td>\n",
       "      <td>NaN</td>\n",
       "      <td>NaN</td>\n",
       "      <td>NaN</td>\n",
       "      <td>NaN</td>\n",
       "      <td>NaN</td>\n",
       "    </tr>\n",
       "    <tr>\n",
       "      <th>0</th>\n",
       "      <td>VehicleType</td>\n",
       "      <td>object</td>\n",
       "      <td>37490</td>\n",
       "      <td>0</td>\n",
       "      <td>0.105794</td>\n",
       "      <td>8</td>\n",
       "      <td>NaN</td>\n",
       "      <td>NaN</td>\n",
       "      <td>NaN</td>\n",
       "      <td>NaN</td>\n",
       "      <td>NaN</td>\n",
       "      <td>NaN</td>\n",
       "      <td>NaN</td>\n",
       "    </tr>\n",
       "    <tr>\n",
       "      <th>4</th>\n",
       "      <td>FuelType</td>\n",
       "      <td>object</td>\n",
       "      <td>32895</td>\n",
       "      <td>0</td>\n",
       "      <td>0.092827</td>\n",
       "      <td>7</td>\n",
       "      <td>NaN</td>\n",
       "      <td>NaN</td>\n",
       "      <td>NaN</td>\n",
       "      <td>NaN</td>\n",
       "      <td>NaN</td>\n",
       "      <td>NaN</td>\n",
       "      <td>NaN</td>\n",
       "    </tr>\n",
       "    <tr>\n",
       "      <th>1</th>\n",
       "      <td>Gearbox</td>\n",
       "      <td>object</td>\n",
       "      <td>19833</td>\n",
       "      <td>0</td>\n",
       "      <td>0.055967</td>\n",
       "      <td>2</td>\n",
       "      <td>NaN</td>\n",
       "      <td>NaN</td>\n",
       "      <td>NaN</td>\n",
       "      <td>NaN</td>\n",
       "      <td>NaN</td>\n",
       "      <td>NaN</td>\n",
       "      <td>NaN</td>\n",
       "    </tr>\n",
       "    <tr>\n",
       "      <th>8</th>\n",
       "      <td>Model</td>\n",
       "      <td>object</td>\n",
       "      <td>19705</td>\n",
       "      <td>0</td>\n",
       "      <td>0.055606</td>\n",
       "      <td>250</td>\n",
       "      <td>NaN</td>\n",
       "      <td>NaN</td>\n",
       "      <td>NaN</td>\n",
       "      <td>NaN</td>\n",
       "      <td>NaN</td>\n",
       "      <td>NaN</td>\n",
       "      <td>NaN</td>\n",
       "    </tr>\n",
       "    <tr>\n",
       "      <th>2</th>\n",
       "      <td>Power</td>\n",
       "      <td>int64</td>\n",
       "      <td>0</td>\n",
       "      <td>40225</td>\n",
       "      <td>0.113512</td>\n",
       "      <td>712</td>\n",
       "      <td>0.0</td>\n",
       "      <td>110.094337</td>\n",
       "      <td>189.850405</td>\n",
       "      <td>0.0</td>\n",
       "      <td>20000.0</td>\n",
       "      <td>0.0</td>\n",
       "      <td>7340.0</td>\n",
       "    </tr>\n",
       "    <tr>\n",
       "      <th>3</th>\n",
       "      <td>Kilometer</td>\n",
       "      <td>int64</td>\n",
       "      <td>0</td>\n",
       "      <td>0</td>\n",
       "      <td>0.000000</td>\n",
       "      <td>13</td>\n",
       "      <td>0.0</td>\n",
       "      <td>128211.172535</td>\n",
       "      <td>37905.341530</td>\n",
       "      <td>5000.0</td>\n",
       "      <td>150000.0</td>\n",
       "      <td>53257.0</td>\n",
       "      <td>0.0</td>\n",
       "    </tr>\n",
       "    <tr>\n",
       "      <th>5</th>\n",
       "      <td>Brand</td>\n",
       "      <td>object</td>\n",
       "      <td>0</td>\n",
       "      <td>0</td>\n",
       "      <td>0.000000</td>\n",
       "      <td>40</td>\n",
       "      <td>NaN</td>\n",
       "      <td>NaN</td>\n",
       "      <td>NaN</td>\n",
       "      <td>NaN</td>\n",
       "      <td>NaN</td>\n",
       "      <td>NaN</td>\n",
       "      <td>NaN</td>\n",
       "    </tr>\n",
       "    <tr>\n",
       "      <th>7</th>\n",
       "      <td>RegistrationYear</td>\n",
       "      <td>int64</td>\n",
       "      <td>0</td>\n",
       "      <td>0</td>\n",
       "      <td>0.000000</td>\n",
       "      <td>151</td>\n",
       "      <td>0.0</td>\n",
       "      <td>2004.234448</td>\n",
       "      <td>90.227958</td>\n",
       "      <td>1000.0</td>\n",
       "      <td>9999.0</td>\n",
       "      <td>6204.0</td>\n",
       "      <td>105.0</td>\n",
       "    </tr>\n",
       "    <tr>\n",
       "      <th>9</th>\n",
       "      <td>Price</td>\n",
       "      <td>int64</td>\n",
       "      <td>0</td>\n",
       "      <td>10772</td>\n",
       "      <td>0.030398</td>\n",
       "      <td>3731</td>\n",
       "      <td>0.0</td>\n",
       "      <td>4416.656776</td>\n",
       "      <td>4514.158514</td>\n",
       "      <td>0.0</td>\n",
       "      <td>20000.0</td>\n",
       "      <td>0.0</td>\n",
       "      <td>18979.0</td>\n",
       "    </tr>\n",
       "  </tbody>\n",
       "</table>\n",
       "</div>"
      ],
      "text/plain": [
       "        column_name  object     na   zero      rate  unique  neg  \\\n",
       "6          Repaired  object  71154      0  0.200791       2  NaN   \n",
       "0       VehicleType  object  37490      0  0.105794       8  NaN   \n",
       "4          FuelType  object  32895      0  0.092827       7  NaN   \n",
       "1           Gearbox  object  19833      0  0.055967       2  NaN   \n",
       "8             Model  object  19705      0  0.055606     250  NaN   \n",
       "2             Power   int64      0  40225  0.113512     712  0.0   \n",
       "3         Kilometer   int64      0      0  0.000000      13  0.0   \n",
       "5             Brand  object      0      0  0.000000      40  NaN   \n",
       "7  RegistrationYear   int64      0      0  0.000000     151  0.0   \n",
       "9             Price   int64      0  10772  0.030398    3731  0.0   \n",
       "\n",
       "            mean           std     min       max  out left  out rigth  \n",
       "6            NaN           NaN     NaN       NaN       NaN        NaN  \n",
       "0            NaN           NaN     NaN       NaN       NaN        NaN  \n",
       "4            NaN           NaN     NaN       NaN       NaN        NaN  \n",
       "1            NaN           NaN     NaN       NaN       NaN        NaN  \n",
       "8            NaN           NaN     NaN       NaN       NaN        NaN  \n",
       "2     110.094337    189.850405     0.0   20000.0       0.0     7340.0  \n",
       "3  128211.172535  37905.341530  5000.0  150000.0   53257.0        0.0  \n",
       "5            NaN           NaN     NaN       NaN       NaN        NaN  \n",
       "7    2004.234448     90.227958  1000.0    9999.0    6204.0      105.0  \n",
       "9    4416.656776   4514.158514     0.0   20000.0       0.0    18979.0  "
      ]
     },
     "execution_count": 6,
     "metadata": {},
     "output_type": "execute_result"
    }
   ],
   "source": [
    "dataframe_information(data)"
   ]
  },
  {
   "cell_type": "markdown",
   "metadata": {},
   "source": [
    "Пропуски и нулевые значения: \n",
    "* Пропуски в Repaired заменим на 'no'\n",
    "* Пропуски в Gearbox заменим на 'manual'\n",
    "* Пропуски в категориальных признаках VehicleType,FuelType,Model заменим на 'unknown'\n",
    "* Нулевые значения в Power мы заменим на медианное значение по столбцу \n",
    "* Нулевые значения в Price выделим в отдельный датафрейм и используем для обучающей выборке\n",
    "\n",
    "Аномальные значения:\n",
    "* В столбце Power"
   ]
  },
  {
   "cell_type": "code",
   "execution_count": 7,
   "metadata": {
    "scrolled": true
   },
   "outputs": [],
   "source": [
    "# заменяем пропуски в столбцах Repaired, Gearbox, VehicleType, FuelType и Model\n",
    "data = data.fillna({'Repaired': 'no', # заполняем пропуски в Repaired значением 'no'\n",
    "                    'Gearbox': 'manual', # заполняем пропуски в Gearbox значением 'manual'\n",
    "                    'VehicleType': 'unknown', # заполняем пропуски в VehicleType значением 'unknown'\n",
    "                    'FuelType': 'unknown', # заполняем пропуски в FuelType значением 'unknown'\n",
    "                    'Model': 'unknown'}) # заполняем пропуски в Model значением 'unknown'\n",
    "\n",
    "\n",
    "# вычисляем медианное значение по столбцу Power\n",
    "power_median = data['Power'].median()\n",
    "# заменяем нулевые значения в столбце Power медианным значением\n",
    "data = data.replace({'Power': {0: power_median}})\n",
    "\n",
    "\n",
    "# выбираем строки, где Price равно нулю\n",
    "data_zero_price = data.loc[data['Price'] == 0]\n",
    "# удаляем эти строки из исходного датафрейма\n",
    "data = data.loc[data['Price'] != 0]"
   ]
  },
  {
   "cell_type": "markdown",
   "metadata": {},
   "source": [
    "В столбце fuel_type категории gasoline и petrol имеют одинаковое значение, с той лишь разницей, что слова используются в разных регионах мира - в наших данных их можно объединить."
   ]
  },
  {
   "cell_type": "code",
   "execution_count": 8,
   "metadata": {},
   "outputs": [
    {
     "data": {
      "text/plain": [
       "array(['petrol', 'gasoline', 'unknown', 'lpg', 'other', 'hybrid', 'cng',\n",
       "       'electric'], dtype=object)"
      ]
     },
     "execution_count": 8,
     "metadata": {},
     "output_type": "execute_result"
    }
   ],
   "source": [
    "data['FuelType'].unique()"
   ]
  },
  {
   "cell_type": "code",
   "execution_count": 9,
   "metadata": {},
   "outputs": [],
   "source": [
    "data.loc[data['FuelType'] == 'gasoline', 'FuelType'] = 'petrol'"
   ]
  },
  {
   "cell_type": "markdown",
   "metadata": {},
   "source": [
    "В столбце Power есть аномально большие значения. Это может быть связано с ошибками ввода данных или неправильными единицами измерения. Такие значения могут исказить результаты модели, поэтому их нужно обработать."
   ]
  },
  {
   "cell_type": "code",
   "execution_count": 10,
   "metadata": {
    "scrolled": true
   },
   "outputs": [
    {
     "data": {
      "text/plain": [
       "<AxesSubplot:>"
      ]
     },
     "execution_count": 10,
     "metadata": {},
     "output_type": "execute_result"
    },
    {
     "data": {
      "image/png": "[encoded data removed]",
      "text/plain": [
       "<Figure size 432x288 with 1 Axes>"
      ]
     },
     "metadata": {
      "needs_background": "light"
     },
     "output_type": "display_data"
    }
   ],
   "source": [
    "# вычисляем квартили и IQR для столбца Power\n",
    "q1 = data['Power'].quantile(0.25) # первый квартиль\n",
    "q3 = data['Power'].quantile(0.75) # третий квартиль\n",
    "iqr = q3 - q1 # интерквартильное расстояние\n",
    "\n",
    "# определяем границы выбросов\n",
    "lower_bound = 45 # нижняя граница\n",
    "upper_bound = q3 + 3 * iqr # верхняя граница\n",
    "\n",
    "# обрезаем значения, которые выходят за границы выбросов\n",
    "data['Power'] = data['Power'].clip(lower=lower_bound, upper=upper_bound)\n",
    "\n",
    "data['Power'].hist()"
   ]
  },
  {
   "cell_type": "code",
   "execution_count": 11,
   "metadata": {},
   "outputs": [
    {
     "data": {
      "text/plain": [
       "<AxesSubplot:>"
      ]
     },
     "execution_count": 11,
     "metadata": {},
     "output_type": "execute_result"
    },
    {
     "data": {
      "image/png": "[encoded data removed]",
      "text/plain": [
       "<Figure size 432x288 with 1 Axes>"
      ]
     },
     "metadata": {
      "needs_background": "light"
     },
     "output_type": "display_data"
    }
   ],
   "source": [
    "data=data.query('1940 < RegistrationYear < 2050')\n",
    "data['RegistrationYear'].hist()"
   ]
  },
  {
   "cell_type": "markdown",
   "metadata": {},
   "source": [
    "Оставим значения только в диапазоне 1950-2020"
   ]
  },
  {
   "cell_type": "code",
   "execution_count": 12,
   "metadata": {},
   "outputs": [],
   "source": [
    "data=data.query('1950 < RegistrationYear < 2020')"
   ]
  },
  {
   "cell_type": "code",
   "execution_count": 13,
   "metadata": {},
   "outputs": [
    {
     "data": {
      "text/plain": [
       "52511"
      ]
     },
     "execution_count": 13,
     "metadata": {},
     "output_type": "execute_result"
    }
   ],
   "source": [
    "data.duplicated().sum()"
   ]
  },
  {
   "cell_type": "code",
   "execution_count": 14,
   "metadata": {},
   "outputs": [],
   "source": [
    "data=data.drop_duplicates().reset_index(drop=True)"
   ]
  },
  {
   "cell_type": "code",
   "execution_count": 15,
   "metadata": {},
   "outputs": [
    {
     "name": "stdout",
     "output_type": "stream",
     "text": [
      "<class 'pandas.core.frame.DataFrame'>\n",
      "RangeIndex: 290804 entries, 0 to 290803\n",
      "Data columns (total 10 columns):\n",
      " #   Column            Non-Null Count   Dtype  \n",
      "---  ------            --------------   -----  \n",
      " 0   VehicleType       290804 non-null  object \n",
      " 1   Gearbox           290804 non-null  object \n",
      " 2   Power             290804 non-null  float64\n",
      " 3   Kilometer         290804 non-null  int64  \n",
      " 4   FuelType          290804 non-null  object \n",
      " 5   Brand             290804 non-null  object \n",
      " 6   Repaired          290804 non-null  object \n",
      " 7   RegistrationYear  290804 non-null  int64  \n",
      " 8   Model             290804 non-null  object \n",
      " 9   Price             290804 non-null  int64  \n",
      "dtypes: float64(1), int64(3), object(6)\n",
      "memory usage: 22.2+ MB\n"
     ]
    }
   ],
   "source": [
    "data.info()"
   ]
  },
  {
   "cell_type": "markdown",
   "metadata": {},
   "source": [
    "### Итог\n",
    "* мы изучили данные \n",
    "* избавились от неинформативных признаков. \n",
    "* обработали пропущенные значения \n",
    "* обработали аномальные значения \n",
    "* избавились от дубликатов\n",
    "\n",
    "По итогу от изначального количества в 354369 строк - у нас осталось 290804"
   ]
  },
  {
   "cell_type": "markdown",
   "metadata": {},
   "source": [
    "## Обучение моделей"
   ]
  },
  {
   "cell_type": "markdown",
   "metadata": {},
   "source": [
    "Мы будем рассмотривать следующие регрессионные модели:\n",
    "\n",
    "* LinearRegression\n",
    "* DecisionTreeRegressor\n",
    "* CatBoostRegressor\n",
    "* LGBMRegressor"
   ]
  },
  {
   "cell_type": "markdown",
   "metadata": {},
   "source": [
    "### Кодирование данных"
   ]
  },
  {
   "cell_type": "markdown",
   "metadata": {},
   "source": [
    "* Для LinearRegression и DecisionTreeRegressor кодируем данные методом OHE\n",
    "* Для CatBoostRegressor и LGBMRegressor кодируем данные методом OE"
   ]
  },
  {
   "cell_type": "code",
   "execution_count": 16,
   "metadata": {},
   "outputs": [],
   "source": [
    "# делим признаки на целевой и независимые\n",
    "features = data.drop('Price', axis=1)\n",
    "target = data['Price']\n",
    "\n",
    "# создаем тестовую и тренировочную выборки\n",
    "features_train, features_test, target_train, target_test = train_test_split(\n",
    "    features, target, test_size=0.25, random_state=12345)"
   ]
  },
  {
   "cell_type": "code",
   "execution_count": 17,
   "metadata": {},
   "outputs": [],
   "source": [
    "#категориальные признаки\n",
    "categorical_columns = features_train.select_dtypes(include='object').columns.to_list()"
   ]
  },
  {
   "cell_type": "code",
   "execution_count": 18,
   "metadata": {},
   "outputs": [],
   "source": [
    "#численные признаки\n",
    "num_columns=features_train.select_dtypes(exclude='object').columns.to_list()"
   ]
  },
  {
   "cell_type": "code",
   "execution_count": 19,
   "metadata": {},
   "outputs": [],
   "source": [
    "# пытался понять почему Nan ы появляются, оказалось дело в индексах\n",
    "categories = []\n",
    "for col in categorical_columns:\n",
    "    uniques = features_train[col].unique()\n",
    "    categories.append(uniques)    "
   ]
  },
  {
   "cell_type": "code",
   "execution_count": 20,
   "metadata": {},
   "outputs": [],
   "source": [
    "#OHE кодирование\n",
    "encoder_ohe = OneHotEncoder(categories=categories,handle_unknown='ignore')\n",
    "\n",
    "ohe_train = pd.DataFrame(encoder_ohe.fit_transform(features_train[categorical_columns]).toarray())\n",
    "ohe_train = ohe_train.set_index(features_train.index)\n",
    "ohe_train = features_train[num_columns].join(ohe_train)"
   ]
  },
  {
   "cell_type": "code",
   "execution_count": 21,
   "metadata": {},
   "outputs": [
    {
     "name": "stdout",
     "output_type": "stream",
     "text": [
      "Количество строк, содержащих nan: 0\n"
     ]
    }
   ],
   "source": [
    "\n",
    "#посчитаем количество строк, содержащих хотя бы одно значение nan\n",
    "num_rows_nan = ohe_train.isna().any(axis=1).sum()\n",
    "print('Количество строк, содержащих nan:', num_rows_nan)"
   ]
  },
  {
   "cell_type": "code",
   "execution_count": 22,
   "metadata": {},
   "outputs": [
    {
     "data": {
      "text/html": [
       "<div>\n",
       "<style scoped>\n",
       "    .dataframe tbody tr th:only-of-type {\n",
       "        vertical-align: middle;\n",
       "    }\n",
       "\n",
       "    .dataframe tbody tr th {\n",
       "        vertical-align: top;\n",
       "    }\n",
       "\n",
       "    .dataframe thead th {\n",
       "        text-align: right;\n",
       "    }\n",
       "</style>\n",
       "<table border=\"1\" class=\"dataframe\">\n",
       "  <thead>\n",
       "    <tr style=\"text-align: right;\">\n",
       "      <th></th>\n",
       "      <th>Power</th>\n",
       "      <th>Kilometer</th>\n",
       "      <th>RegistrationYear</th>\n",
       "      <th>VehicleType</th>\n",
       "      <th>Gearbox</th>\n",
       "      <th>FuelType</th>\n",
       "      <th>Brand</th>\n",
       "      <th>Repaired</th>\n",
       "      <th>Model</th>\n",
       "    </tr>\n",
       "  </thead>\n",
       "  <tbody>\n",
       "    <tr>\n",
       "      <th>208334</th>\n",
       "      <td>116.0</td>\n",
       "      <td>5000</td>\n",
       "      <td>1993</td>\n",
       "      <td>1.0</td>\n",
       "      <td>1.0</td>\n",
       "      <td>5.0</td>\n",
       "      <td>24.0</td>\n",
       "      <td>0.0</td>\n",
       "      <td>42.0</td>\n",
       "    </tr>\n",
       "    <tr>\n",
       "      <th>28711</th>\n",
       "      <td>104.0</td>\n",
       "      <td>150000</td>\n",
       "      <td>2004</td>\n",
       "      <td>0.0</td>\n",
       "      <td>1.0</td>\n",
       "      <td>5.0</td>\n",
       "      <td>38.0</td>\n",
       "      <td>0.0</td>\n",
       "      <td>221.0</td>\n",
       "    </tr>\n",
       "    <tr>\n",
       "      <th>127245</th>\n",
       "      <td>90.0</td>\n",
       "      <td>125000</td>\n",
       "      <td>2011</td>\n",
       "      <td>0.0</td>\n",
       "      <td>1.0</td>\n",
       "      <td>5.0</td>\n",
       "      <td>27.0</td>\n",
       "      <td>0.0</td>\n",
       "      <td>133.0</td>\n",
       "    </tr>\n",
       "    <tr>\n",
       "      <th>52049</th>\n",
       "      <td>75.0</td>\n",
       "      <td>50000</td>\n",
       "      <td>2001</td>\n",
       "      <td>0.0</td>\n",
       "      <td>1.0</td>\n",
       "      <td>5.0</td>\n",
       "      <td>38.0</td>\n",
       "      <td>0.0</td>\n",
       "      <td>223.0</td>\n",
       "    </tr>\n",
       "    <tr>\n",
       "      <th>272107</th>\n",
       "      <td>105.0</td>\n",
       "      <td>150000</td>\n",
       "      <td>2001</td>\n",
       "      <td>5.0</td>\n",
       "      <td>1.0</td>\n",
       "      <td>5.0</td>\n",
       "      <td>24.0</td>\n",
       "      <td>0.0</td>\n",
       "      <td>35.0</td>\n",
       "    </tr>\n",
       "    <tr>\n",
       "      <th>...</th>\n",
       "      <td>...</td>\n",
       "      <td>...</td>\n",
       "      <td>...</td>\n",
       "      <td>...</td>\n",
       "      <td>...</td>\n",
       "      <td>...</td>\n",
       "      <td>...</td>\n",
       "      <td>...</td>\n",
       "      <td>...</td>\n",
       "    </tr>\n",
       "    <tr>\n",
       "      <th>158838</th>\n",
       "      <td>105.0</td>\n",
       "      <td>150000</td>\n",
       "      <td>2016</td>\n",
       "      <td>7.0</td>\n",
       "      <td>0.0</td>\n",
       "      <td>6.0</td>\n",
       "      <td>24.0</td>\n",
       "      <td>0.0</td>\n",
       "      <td>83.0</td>\n",
       "    </tr>\n",
       "    <tr>\n",
       "      <th>47873</th>\n",
       "      <td>170.0</td>\n",
       "      <td>150000</td>\n",
       "      <td>2006</td>\n",
       "      <td>8.0</td>\n",
       "      <td>1.0</td>\n",
       "      <td>5.0</td>\n",
       "      <td>1.0</td>\n",
       "      <td>0.0</td>\n",
       "      <td>29.0</td>\n",
       "    </tr>\n",
       "    <tr>\n",
       "      <th>86398</th>\n",
       "      <td>140.0</td>\n",
       "      <td>150000</td>\n",
       "      <td>2000</td>\n",
       "      <td>4.0</td>\n",
       "      <td>0.0</td>\n",
       "      <td>5.0</td>\n",
       "      <td>20.0</td>\n",
       "      <td>0.0</td>\n",
       "      <td>59.0</td>\n",
       "    </tr>\n",
       "    <tr>\n",
       "      <th>77285</th>\n",
       "      <td>136.0</td>\n",
       "      <td>150000</td>\n",
       "      <td>2001</td>\n",
       "      <td>1.0</td>\n",
       "      <td>1.0</td>\n",
       "      <td>5.0</td>\n",
       "      <td>25.0</td>\n",
       "      <td>0.0</td>\n",
       "      <td>8.0</td>\n",
       "    </tr>\n",
       "    <tr>\n",
       "      <th>217570</th>\n",
       "      <td>190.0</td>\n",
       "      <td>150000</td>\n",
       "      <td>2009</td>\n",
       "      <td>4.0</td>\n",
       "      <td>0.0</td>\n",
       "      <td>5.0</td>\n",
       "      <td>1.0</td>\n",
       "      <td>0.0</td>\n",
       "      <td>29.0</td>\n",
       "    </tr>\n",
       "  </tbody>\n",
       "</table>\n",
       "<p>218103 rows × 9 columns</p>\n",
       "</div>"
      ],
      "text/plain": [
       "        Power  Kilometer  RegistrationYear  VehicleType  Gearbox  FuelType  \\\n",
       "208334  116.0       5000              1993          1.0      1.0       5.0   \n",
       "28711   104.0     150000              2004          0.0      1.0       5.0   \n",
       "127245   90.0     125000              2011          0.0      1.0       5.0   \n",
       "52049    75.0      50000              2001          0.0      1.0       5.0   \n",
       "272107  105.0     150000              2001          5.0      1.0       5.0   \n",
       "...       ...        ...               ...          ...      ...       ...   \n",
       "158838  105.0     150000              2016          7.0      0.0       6.0   \n",
       "47873   170.0     150000              2006          8.0      1.0       5.0   \n",
       "86398   140.0     150000              2000          4.0      0.0       5.0   \n",
       "77285   136.0     150000              2001          1.0      1.0       5.0   \n",
       "217570  190.0     150000              2009          4.0      0.0       5.0   \n",
       "\n",
       "        Brand  Repaired  Model  \n",
       "208334   24.0       0.0   42.0  \n",
       "28711    38.0       0.0  221.0  \n",
       "127245   27.0       0.0  133.0  \n",
       "52049    38.0       0.0  223.0  \n",
       "272107   24.0       0.0   35.0  \n",
       "...       ...       ...    ...  \n",
       "158838   24.0       0.0   83.0  \n",
       "47873     1.0       0.0   29.0  \n",
       "86398    20.0       0.0   59.0  \n",
       "77285    25.0       0.0    8.0  \n",
       "217570    1.0       0.0   29.0  \n",
       "\n",
       "[218103 rows x 9 columns]"
      ]
     },
     "execution_count": 22,
     "metadata": {},
     "output_type": "execute_result"
    }
   ],
   "source": [
    "#OE кодирование\n",
    "ordinal_encoder = OrdinalEncoder(handle_unknown='ignore')\n",
    "\n",
    "oe_train = pd.DataFrame(ordinal_encoder.fit_transform(features_train[categorical_columns]), \n",
    "                                                      columns=features_train[categorical_columns].columns) \n",
    "oe_train = oe_train.set_index(features_train.index)\n",
    "oe_train = features_train[num_columns].join(oe_train)\n",
    "\n",
    "oe_train"
   ]
  },
  {
   "cell_type": "markdown",
   "metadata": {},
   "source": [
    "### LinearRegression"
   ]
  },
  {
   "cell_type": "code",
   "execution_count": 23,
   "metadata": {},
   "outputs": [
    {
     "name": "stdout",
     "output_type": "stream",
     "text": [
      "Средняя оценка качества модели LinearRegression: 2792.210290713057\n",
      "CPU times: user 36.1 s, sys: 20.2 s, total: 56.3 s\n",
      "Wall time: 57.8 s\n"
     ]
    }
   ],
   "source": [
    "%%time\n",
    "\n",
    "# создаем модель\n",
    "model = LinearRegression()\n",
    "\n",
    "# применяем кроссвалидацию с метрикой RMSE\n",
    "scores = cross_val_score(model, ohe_train, target_train, cv=3, scoring='neg_root_mean_squared_error')\n",
    "\n",
    "# усредняем и инвертируем знак\n",
    "final_score = -np.mean(scores)\n",
    "\n",
    "# выводим результат\n",
    "print('Средняя оценка качества модели LinearRegression:', final_score)"
   ]
  },
  {
   "cell_type": "markdown",
   "metadata": {},
   "source": [
    "### DecisionTreeRegressor"
   ]
  },
  {
   "cell_type": "code",
   "execution_count": 24,
   "metadata": {},
   "outputs": [
    {
     "name": "stdout",
     "output_type": "stream",
     "text": [
      "Лучшая глубина дерева: 15, Лучшая оценка качества модели DecisionTreeRegressor: 2052.5641306897646\n",
      "CPU times: user 2min 30s, sys: 11.1 s, total: 2min 41s\n",
      "Wall time: 2min 41s\n"
     ]
    }
   ],
   "source": [
    "%%time\n",
    "\n",
    "# создаем переменные для хранения лучшего значения RMSE и соответствующей глубины\n",
    "best_rmse = np.inf # начальное значение бесконечно большое\n",
    "best_depth = None # начальное значение пустое\n",
    "\n",
    "# в цикле по глубине дерева\n",
    "for depth in range(10, 20):\n",
    "    # инициализируем модель DecisionTreeRegressor с параметром random_state=12345 и max_depth=depth\n",
    "    model = DecisionTreeRegressor(random_state=12345, max_depth=depth)\n",
    "    # обучаем модель на данных с заданным параметром max_depth\n",
    "    model.fit(ohe_train, target_train)\n",
    "    # применяем функцию cross_val_score из sklearn, которая будет оценивать модель на каждом фолде с помощью метрики RMSE\n",
    "    # для этого нужно передать параметр scoring='neg_root_mean_squared_error' и инвертировать знак результата\n",
    "    scores = -cross_val_score(model, ohe_train, target_train, cv=3, scoring='neg_root_mean_squared_error')\n",
    "    # усредняем значения RMSE по всем фолдам\n",
    "    mean_rmse = np.mean(scores)\n",
    "    # сравниваем значение RMSE с лучшим значением и обновляем лучшее значение и глубину, если текущее значение меньше\n",
    "    if mean_rmse < best_rmse:\n",
    "        best_rmse = mean_rmse\n",
    "        best_depth = depth\n",
    "\n",
    "# выводим лучшее значение RMSE и глубину на экран с помощью функции print\n",
    "print(f'Лучшая глубина дерева: {best_depth}, Лучшая оценка качества модели DecisionTreeRegressor: {best_rmse}')\n"
   ]
  },
  {
   "cell_type": "markdown",
   "metadata": {},
   "source": [
    "### CatBoostRegressor"
   ]
  },
  {
   "cell_type": "markdown",
   "metadata": {},
   "source": [
    "Следующий код предназначен для поиска оптимальных гиперпараметров для модели CatBoostRegressor, которая обучается на данных, закодированных с помощью one-hot encoding (ohe). Модель использует метод GridSearchCV, который перебирает различные комбинации глубины дерева, скорости обучения и количества итераций. Модель оценивается по метрике RMSE на трех фолдах кросс-валидации. Код выводит лучшие параметры и лучшее значение RMSE на валидационных данных."
   ]
  },
  {
   "cell_type": "code",
   "execution_count": 25,
   "metadata": {
    "scrolled": true
   },
   "outputs": [
    {
     "name": "stdout",
     "output_type": "stream",
     "text": [
      "0:\tlearn: 4555.2238083\ttotal: 65.7ms\tremaining: 1.91s\n",
      "1:\tlearn: 4526.4230378\ttotal: 80.3ms\tremaining: 1.12s\n",
      "2:\tlearn: 4498.1303396\ttotal: 94.4ms\tremaining: 850ms\n",
      "3:\tlearn: 4470.0221440\ttotal: 109ms\tremaining: 710ms\n",
      "4:\tlearn: 4442.1956118\ttotal: 123ms\tremaining: 616ms\n",
      "5:\tlearn: 4415.0765919\ttotal: 138ms\tremaining: 553ms\n",
      "6:\tlearn: 4388.4642361\ttotal: 152ms\tremaining: 499ms\n",
      "7:\tlearn: 4362.0271491\ttotal: 166ms\tremaining: 455ms\n",
      "8:\tlearn: 4335.7747625\ttotal: 179ms\tremaining: 418ms\n",
      "9:\tlearn: 4310.2188214\ttotal: 192ms\tremaining: 385ms\n",
      "10:\tlearn: 4284.4628243\ttotal: 206ms\tremaining: 356ms\n",
      "11:\tlearn: 4259.1009022\ttotal: 220ms\tremaining: 330ms\n",
      "12:\tlearn: 4233.9896014\ttotal: 234ms\tremaining: 306ms\n",
      "13:\tlearn: 4209.6255233\ttotal: 247ms\tremaining: 283ms\n",
      "14:\tlearn: 4185.5315804\ttotal: 261ms\tremaining: 261ms\n",
      "15:\tlearn: 4161.2344848\ttotal: 275ms\tremaining: 241ms\n",
      "16:\tlearn: 4137.3118062\ttotal: 290ms\tremaining: 222ms\n",
      "17:\tlearn: 4113.9136738\ttotal: 306ms\tremaining: 204ms\n",
      "18:\tlearn: 4090.7011373\ttotal: 321ms\tremaining: 186ms\n",
      "19:\tlearn: 4067.5017853\ttotal: 343ms\tremaining: 172ms\n",
      "20:\tlearn: 4045.2095613\ttotal: 362ms\tremaining: 155ms\n",
      "21:\tlearn: 4022.6428384\ttotal: 377ms\tremaining: 137ms\n",
      "22:\tlearn: 4000.5781474\ttotal: 392ms\tremaining: 119ms\n",
      "23:\tlearn: 3979.5189507\ttotal: 406ms\tremaining: 101ms\n",
      "24:\tlearn: 3958.0268130\ttotal: 420ms\tremaining: 83.9ms\n",
      "25:\tlearn: 3936.8255917\ttotal: 433ms\tremaining: 66.6ms\n",
      "26:\tlearn: 3915.7513498\ttotal: 447ms\tremaining: 49.7ms\n",
      "27:\tlearn: 3894.3950125\ttotal: 462ms\tremaining: 33ms\n",
      "28:\tlearn: 3873.9238165\ttotal: 478ms\tremaining: 16.5ms\n",
      "29:\tlearn: 3853.8139733\ttotal: 492ms\tremaining: 0us\n",
      "0:\tlearn: 4561.9599894\ttotal: 21ms\tremaining: 609ms\n",
      "1:\tlearn: 4533.6495001\ttotal: 37.8ms\tremaining: 530ms\n",
      "2:\tlearn: 4505.4696405\ttotal: 51.3ms\tremaining: 462ms\n",
      "3:\tlearn: 4478.0185230\ttotal: 65ms\tremaining: 423ms\n",
      "4:\tlearn: 4450.5463955\ttotal: 82.2ms\tremaining: 411ms\n",
      "5:\tlearn: 4422.9621373\ttotal: 97.3ms\tremaining: 389ms\n",
      "6:\tlearn: 4396.3977545\ttotal: 111ms\tremaining: 365ms\n",
      "7:\tlearn: 4369.6584374\ttotal: 125ms\tremaining: 343ms\n",
      "8:\tlearn: 4343.4675548\ttotal: 138ms\tremaining: 322ms\n",
      "9:\tlearn: 4317.3052708\ttotal: 151ms\tremaining: 303ms\n",
      "10:\tlearn: 4291.5941535\ttotal: 165ms\tremaining: 286ms\n",
      "11:\tlearn: 4266.4368518\ttotal: 180ms\tremaining: 270ms\n",
      "12:\tlearn: 4241.6891008\ttotal: 194ms\tremaining: 253ms\n",
      "13:\tlearn: 4217.0680085\ttotal: 208ms\tremaining: 238ms\n",
      "14:\tlearn: 4192.3156722\ttotal: 223ms\tremaining: 223ms\n",
      "15:\tlearn: 4168.5981507\ttotal: 237ms\tremaining: 207ms\n",
      "16:\tlearn: 4144.5108150\ttotal: 250ms\tremaining: 191ms\n",
      "17:\tlearn: 4121.3029213\ttotal: 264ms\tremaining: 176ms\n",
      "18:\tlearn: 4097.9416893\ttotal: 278ms\tremaining: 161ms\n",
      "19:\tlearn: 4075.0589604\ttotal: 292ms\tremaining: 146ms\n",
      "20:\tlearn: 4052.3555368\ttotal: 305ms\tremaining: 131ms\n",
      "21:\tlearn: 4030.7147730\ttotal: 320ms\tremaining: 116ms\n",
      "22:\tlearn: 4008.6068266\ttotal: 334ms\tremaining: 102ms\n",
      "23:\tlearn: 3986.4486565\ttotal: 348ms\tremaining: 87ms\n",
      "24:\tlearn: 3965.4270188\ttotal: 362ms\tremaining: 72.4ms\n",
      "25:\tlearn: 3944.3493549\ttotal: 377ms\tremaining: 58ms\n",
      "26:\tlearn: 3923.3651216\ttotal: 392ms\tremaining: 43.5ms\n",
      "27:\tlearn: 3902.6199044\ttotal: 406ms\tremaining: 29ms\n",
      "28:\tlearn: 3881.8701559\ttotal: 421ms\tremaining: 14.5ms\n",
      "29:\tlearn: 3861.9138436\ttotal: 435ms\tremaining: 0us\n",
      "0:\tlearn: 4440.6746085\ttotal: 15.5ms\tremaining: 449ms\n",
      "1:\tlearn: 4304.3434254\ttotal: 29.3ms\tremaining: 410ms\n",
      "2:\tlearn: 4178.8040553\ttotal: 42.9ms\tremaining: 386ms\n",
      "3:\tlearn: 4057.8665025\ttotal: 57ms\tremaining: 371ms\n",
      "4:\tlearn: 3946.6272706\ttotal: 70.5ms\tremaining: 352ms\n",
      "5:\tlearn: 3846.0940127\ttotal: 84ms\tremaining: 336ms\n",
      "6:\tlearn: 3749.1015724\ttotal: 97.3ms\tremaining: 320ms\n",
      "7:\tlearn: 3657.8273265\ttotal: 111ms\tremaining: 306ms\n",
      "8:\tlearn: 3570.7665435\ttotal: 125ms\tremaining: 291ms\n",
      "9:\tlearn: 3491.0022423\ttotal: 140ms\tremaining: 280ms\n",
      "10:\tlearn: 3414.2073431\ttotal: 154ms\tremaining: 266ms\n",
      "11:\tlearn: 3340.8184937\ttotal: 168ms\tremaining: 252ms\n",
      "12:\tlearn: 3276.2621312\ttotal: 182ms\tremaining: 238ms\n",
      "13:\tlearn: 3211.6282789\ttotal: 195ms\tremaining: 223ms\n",
      "14:\tlearn: 3151.1598085\ttotal: 209ms\tremaining: 209ms\n",
      "15:\tlearn: 3098.8494356\ttotal: 224ms\tremaining: 196ms\n",
      "16:\tlearn: 3048.9895144\ttotal: 238ms\tremaining: 182ms\n",
      "17:\tlearn: 3000.4428733\ttotal: 251ms\tremaining: 167ms\n",
      "18:\tlearn: 2953.3853365\ttotal: 264ms\tremaining: 153ms\n",
      "19:\tlearn: 2910.3809989\ttotal: 278ms\tremaining: 139ms\n",
      "20:\tlearn: 2869.7508694\ttotal: 292ms\tremaining: 125ms\n",
      "21:\tlearn: 2833.9493009\ttotal: 306ms\tremaining: 111ms\n",
      "22:\tlearn: 2799.6789074\ttotal: 319ms\tremaining: 97.2ms\n",
      "23:\tlearn: 2766.6687474\ttotal: 333ms\tremaining: 83.2ms\n",
      "24:\tlearn: 2733.0299599\ttotal: 346ms\tremaining: 69.3ms\n",
      "25:\tlearn: 2701.4857740\ttotal: 360ms\tremaining: 55.3ms\n",
      "26:\tlearn: 2671.2572451\ttotal: 373ms\tremaining: 41.5ms\n",
      "27:\tlearn: 2646.3428092\ttotal: 387ms\tremaining: 27.6ms\n",
      "28:\tlearn: 2622.2325641\ttotal: 400ms\tremaining: 13.8ms\n",
      "29:\tlearn: 2597.9347050\ttotal: 414ms\tremaining: 0us\n",
      "0:\tlearn: 4448.3289253\ttotal: 14ms\tremaining: 406ms\n",
      "1:\tlearn: 4313.2159806\ttotal: 27.6ms\tremaining: 387ms\n",
      "2:\tlearn: 4187.1723228\ttotal: 41.5ms\tremaining: 373ms\n",
      "3:\tlearn: 4067.2012488\ttotal: 55.6ms\tremaining: 361ms\n",
      "4:\tlearn: 3955.2139787\ttotal: 70.2ms\tremaining: 351ms\n",
      "5:\tlearn: 3849.3278248\ttotal: 85.5ms\tremaining: 342ms\n",
      "6:\tlearn: 3753.4475111\ttotal: 101ms\tremaining: 333ms\n",
      "7:\tlearn: 3657.1333505\ttotal: 117ms\tremaining: 322ms\n",
      "8:\tlearn: 3574.2509821\ttotal: 132ms\tremaining: 308ms\n",
      "9:\tlearn: 3489.0922925\ttotal: 148ms\tremaining: 297ms\n",
      "10:\tlearn: 3414.0824125\ttotal: 168ms\tremaining: 290ms\n",
      "11:\tlearn: 3341.8354029\ttotal: 183ms\tremaining: 274ms\n",
      "12:\tlearn: 3278.3101518\ttotal: 197ms\tremaining: 258ms\n",
      "13:\tlearn: 3218.7714606\ttotal: 213ms\tremaining: 243ms\n",
      "14:\tlearn: 3157.7177008\ttotal: 227ms\tremaining: 227ms\n",
      "15:\tlearn: 3103.7307304\ttotal: 241ms\tremaining: 211ms\n",
      "16:\tlearn: 3054.9328359\ttotal: 257ms\tremaining: 197ms\n",
      "17:\tlearn: 3009.0659307\ttotal: 272ms\tremaining: 181ms\n",
      "18:\tlearn: 2963.3945447\ttotal: 286ms\tremaining: 165ms\n",
      "19:\tlearn: 2921.9120984\ttotal: 300ms\tremaining: 150ms\n",
      "20:\tlearn: 2880.7493672\ttotal: 314ms\tremaining: 135ms\n",
      "21:\tlearn: 2844.0246119\ttotal: 328ms\tremaining: 119ms\n",
      "22:\tlearn: 2806.2233270\ttotal: 342ms\tremaining: 104ms\n",
      "23:\tlearn: 2769.3840787\ttotal: 356ms\tremaining: 89ms\n",
      "24:\tlearn: 2736.9518746\ttotal: 370ms\tremaining: 74ms\n",
      "25:\tlearn: 2708.0062001\ttotal: 383ms\tremaining: 59ms\n",
      "26:\tlearn: 2678.1443107\ttotal: 397ms\tremaining: 44.1ms\n",
      "27:\tlearn: 2653.5621624\ttotal: 412ms\tremaining: 29.4ms\n",
      "28:\tlearn: 2629.7773617\ttotal: 426ms\tremaining: 14.7ms\n",
      "29:\tlearn: 2605.3958282\ttotal: 440ms\tremaining: 0us\n",
      "0:\tlearn: 4300.1332244\ttotal: 14.3ms\tremaining: 415ms\n",
      "1:\tlearn: 4046.0362838\ttotal: 29.6ms\tremaining: 414ms\n",
      "2:\tlearn: 3827.7986517\ttotal: 43.9ms\tremaining: 395ms\n",
      "3:\tlearn: 3636.0451310\ttotal: 59.3ms\tremaining: 386ms\n",
      "4:\tlearn: 3465.2996835\ttotal: 75.2ms\tremaining: 376ms\n",
      "5:\tlearn: 3318.8512166\ttotal: 90.6ms\tremaining: 363ms\n",
      "6:\tlearn: 3194.8290307\ttotal: 107ms\tremaining: 351ms\n",
      "7:\tlearn: 3077.2680924\ttotal: 123ms\tremaining: 338ms\n",
      "8:\tlearn: 2980.6924863\ttotal: 139ms\tremaining: 323ms\n",
      "9:\tlearn: 2891.2813815\ttotal: 154ms\tremaining: 307ms\n",
      "10:\tlearn: 2815.2440152\ttotal: 169ms\tremaining: 292ms\n",
      "11:\tlearn: 2747.9734484\ttotal: 184ms\tremaining: 276ms\n",
      "12:\tlearn: 2690.9435705\ttotal: 205ms\tremaining: 268ms\n",
      "13:\tlearn: 2633.1656718\ttotal: 222ms\tremaining: 254ms\n",
      "14:\tlearn: 2584.1266481\ttotal: 236ms\tremaining: 236ms\n",
      "15:\tlearn: 2540.2115969\ttotal: 251ms\tremaining: 220ms\n",
      "16:\tlearn: 2503.2827210\ttotal: 266ms\tremaining: 203ms\n",
      "17:\tlearn: 2471.3937831\ttotal: 284ms\tremaining: 190ms\n",
      "18:\tlearn: 2435.3493163\ttotal: 300ms\tremaining: 174ms\n",
      "19:\tlearn: 2405.4640801\ttotal: 314ms\tremaining: 157ms\n",
      "20:\tlearn: 2377.7690227\ttotal: 327ms\tremaining: 140ms\n",
      "21:\tlearn: 2353.7618012\ttotal: 340ms\tremaining: 124ms\n",
      "22:\tlearn: 2327.5066932\ttotal: 353ms\tremaining: 108ms\n",
      "23:\tlearn: 2305.8859057\ttotal: 367ms\tremaining: 91.8ms\n",
      "24:\tlearn: 2286.5616079\ttotal: 381ms\tremaining: 76.1ms\n",
      "25:\tlearn: 2267.5526526\ttotal: 394ms\tremaining: 60.7ms\n",
      "26:\tlearn: 2250.3155503\ttotal: 407ms\tremaining: 45.3ms\n",
      "27:\tlearn: 2236.7663500\ttotal: 422ms\tremaining: 30.1ms\n",
      "28:\tlearn: 2223.8368685\ttotal: 436ms\tremaining: 15ms\n",
      "29:\tlearn: 2212.3654306\ttotal: 450ms\tremaining: 0us\n",
      "0:\tlearn: 4308.9566368\ttotal: 14.7ms\tremaining: 425ms\n",
      "1:\tlearn: 4057.7558506\ttotal: 32.7ms\tremaining: 458ms\n",
      "2:\tlearn: 3837.7541116\ttotal: 47.5ms\tremaining: 428ms\n",
      "3:\tlearn: 3641.3241167\ttotal: 62.2ms\tremaining: 404ms\n",
      "4:\tlearn: 3471.9912968\ttotal: 76.1ms\tremaining: 381ms\n",
      "5:\tlearn: 3330.8790864\ttotal: 90.3ms\tremaining: 361ms\n",
      "6:\tlearn: 3202.7482020\ttotal: 105ms\tremaining: 343ms\n",
      "7:\tlearn: 3088.9363067\ttotal: 119ms\tremaining: 326ms\n",
      "8:\tlearn: 2984.9702020\ttotal: 133ms\tremaining: 311ms\n",
      "9:\tlearn: 2897.9728999\ttotal: 147ms\tremaining: 294ms\n",
      "10:\tlearn: 2823.1002372\ttotal: 161ms\tremaining: 279ms\n",
      "11:\tlearn: 2755.6698724\ttotal: 177ms\tremaining: 265ms\n",
      "12:\tlearn: 2698.4321740\ttotal: 191ms\tremaining: 249ms\n",
      "13:\tlearn: 2638.1595229\ttotal: 205ms\tremaining: 234ms\n",
      "14:\tlearn: 2589.8550164\ttotal: 220ms\tremaining: 220ms\n",
      "15:\tlearn: 2547.4133582\ttotal: 235ms\tremaining: 205ms\n",
      "16:\tlearn: 2506.8603643\ttotal: 249ms\tremaining: 190ms\n",
      "17:\tlearn: 2471.9363567\ttotal: 263ms\tremaining: 175ms\n",
      "18:\tlearn: 2440.6094996\ttotal: 278ms\tremaining: 161ms\n",
      "19:\tlearn: 2413.0464794\ttotal: 293ms\tremaining: 147ms\n",
      "20:\tlearn: 2387.1714687\ttotal: 307ms\tremaining: 132ms\n",
      "21:\tlearn: 2364.5835859\ttotal: 320ms\tremaining: 116ms\n",
      "22:\tlearn: 2341.8915479\ttotal: 334ms\tremaining: 102ms\n",
      "23:\tlearn: 2319.8067326\ttotal: 347ms\tremaining: 86.7ms\n",
      "24:\tlearn: 2303.0300123\ttotal: 360ms\tremaining: 72ms\n",
      "25:\tlearn: 2283.1468381\ttotal: 373ms\tremaining: 57.4ms\n",
      "26:\tlearn: 2267.1290056\ttotal: 387ms\tremaining: 43ms\n",
      "27:\tlearn: 2251.2802994\ttotal: 402ms\tremaining: 28.7ms\n",
      "28:\tlearn: 2238.4260200\ttotal: 417ms\tremaining: 14.4ms\n",
      "29:\tlearn: 2226.5249863\ttotal: 431ms\tremaining: 0us\n",
      "0:\tlearn: 4555.2238083\ttotal: 18.6ms\tremaining: 912ms\n",
      "1:\tlearn: 4526.4230378\ttotal: 32.7ms\tremaining: 785ms\n",
      "2:\tlearn: 4498.1303396\ttotal: 48.8ms\tremaining: 765ms\n",
      "3:\tlearn: 4470.0221440\ttotal: 66.2ms\tremaining: 762ms\n",
      "4:\tlearn: 4442.1956118\ttotal: 81.5ms\tremaining: 734ms\n",
      "5:\tlearn: 4415.0765919\ttotal: 95.6ms\tremaining: 701ms\n",
      "6:\tlearn: 4388.4642361\ttotal: 109ms\tremaining: 672ms\n",
      "7:\tlearn: 4362.0271491\ttotal: 123ms\tremaining: 645ms\n",
      "8:\tlearn: 4335.7747625\ttotal: 138ms\tremaining: 630ms\n",
      "9:\tlearn: 4310.2188214\ttotal: 153ms\tremaining: 611ms\n",
      "10:\tlearn: 4284.4628243\ttotal: 167ms\tremaining: 593ms\n",
      "11:\tlearn: 4259.1009022\ttotal: 182ms\tremaining: 575ms\n",
      "12:\tlearn: 4233.9896014\ttotal: 196ms\tremaining: 557ms\n",
      "13:\tlearn: 4209.6255233\ttotal: 209ms\tremaining: 538ms\n",
      "14:\tlearn: 4185.5315804\ttotal: 223ms\tremaining: 520ms\n",
      "15:\tlearn: 4161.2344848\ttotal: 237ms\tremaining: 503ms\n",
      "16:\tlearn: 4137.3118062\ttotal: 251ms\tremaining: 487ms\n",
      "17:\tlearn: 4113.9136738\ttotal: 265ms\tremaining: 471ms\n",
      "18:\tlearn: 4090.7011373\ttotal: 278ms\tremaining: 454ms\n",
      "19:\tlearn: 4067.5017853\ttotal: 293ms\tremaining: 439ms\n",
      "20:\tlearn: 4045.2095613\ttotal: 306ms\tremaining: 423ms\n",
      "21:\tlearn: 4022.6428384\ttotal: 320ms\tremaining: 408ms\n",
      "22:\tlearn: 4000.5781474\ttotal: 334ms\tremaining: 392ms\n",
      "23:\tlearn: 3979.5189507\ttotal: 349ms\tremaining: 378ms\n",
      "24:\tlearn: 3958.0268130\ttotal: 363ms\tremaining: 363ms\n",
      "25:\tlearn: 3936.8255917\ttotal: 377ms\tremaining: 348ms\n",
      "26:\tlearn: 3915.7513498\ttotal: 391ms\tremaining: 333ms\n",
      "27:\tlearn: 3894.3950125\ttotal: 406ms\tremaining: 319ms\n",
      "28:\tlearn: 3873.9238165\ttotal: 420ms\tremaining: 304ms\n",
      "29:\tlearn: 3853.8139733\ttotal: 434ms\tremaining: 289ms\n",
      "30:\tlearn: 3833.6054779\ttotal: 447ms\tremaining: 274ms\n",
      "31:\tlearn: 3813.9762338\ttotal: 462ms\tremaining: 260ms\n",
      "32:\tlearn: 3794.5011922\ttotal: 476ms\tremaining: 245ms\n",
      "33:\tlearn: 3776.0846108\ttotal: 490ms\tremaining: 231ms\n",
      "34:\tlearn: 3757.3450804\ttotal: 505ms\tremaining: 216ms\n",
      "35:\tlearn: 3738.3564353\ttotal: 519ms\tremaining: 202ms\n",
      "36:\tlearn: 3719.6875465\ttotal: 533ms\tremaining: 187ms\n",
      "37:\tlearn: 3700.9420493\ttotal: 557ms\tremaining: 176ms\n",
      "38:\tlearn: 3683.2080629\ttotal: 579ms\tremaining: 163ms\n",
      "39:\tlearn: 3665.4031326\ttotal: 594ms\tremaining: 148ms\n",
      "40:\tlearn: 3647.4401167\ttotal: 608ms\tremaining: 134ms\n",
      "41:\tlearn: 3630.4433651\ttotal: 622ms\tremaining: 119ms\n",
      "42:\tlearn: 3613.1643382\ttotal: 636ms\tremaining: 104ms\n",
      "43:\tlearn: 3596.1416961\ttotal: 650ms\tremaining: 88.7ms\n",
      "44:\tlearn: 3579.4671271\ttotal: 664ms\tremaining: 73.8ms\n",
      "45:\tlearn: 3562.7211567\ttotal: 678ms\tremaining: 59ms\n",
      "46:\tlearn: 3546.9637650\ttotal: 693ms\tremaining: 44.2ms\n",
      "47:\tlearn: 3531.4453597\ttotal: 707ms\tremaining: 29.5ms\n",
      "48:\tlearn: 3514.7770660\ttotal: 722ms\tremaining: 14.7ms\n",
      "49:\tlearn: 3498.7995615\ttotal: 737ms\tremaining: 0us\n",
      "0:\tlearn: 4561.9599894\ttotal: 13.9ms\tremaining: 681ms\n",
      "1:\tlearn: 4533.6495001\ttotal: 27.8ms\tremaining: 668ms\n",
      "2:\tlearn: 4505.4696405\ttotal: 41.1ms\tremaining: 643ms\n",
      "3:\tlearn: 4478.0185230\ttotal: 54.6ms\tremaining: 628ms\n",
      "4:\tlearn: 4450.5463955\ttotal: 67.9ms\tremaining: 611ms\n",
      "5:\tlearn: 4422.9621373\ttotal: 81.4ms\tremaining: 597ms\n",
      "6:\tlearn: 4396.3977545\ttotal: 95ms\tremaining: 584ms\n",
      "7:\tlearn: 4369.6584374\ttotal: 109ms\tremaining: 573ms\n",
      "8:\tlearn: 4343.4675548\ttotal: 123ms\tremaining: 560ms\n",
      "9:\tlearn: 4317.3052708\ttotal: 137ms\tremaining: 548ms\n",
      "10:\tlearn: 4291.5941535\ttotal: 151ms\tremaining: 534ms\n",
      "11:\tlearn: 4266.4368518\ttotal: 164ms\tremaining: 518ms\n",
      "12:\tlearn: 4241.6891008\ttotal: 177ms\tremaining: 504ms\n",
      "13:\tlearn: 4217.0680085\ttotal: 191ms\tremaining: 490ms\n",
      "14:\tlearn: 4192.3156722\ttotal: 204ms\tremaining: 477ms\n",
      "15:\tlearn: 4168.5981507\ttotal: 219ms\tremaining: 466ms\n",
      "16:\tlearn: 4144.5108150\ttotal: 233ms\tremaining: 453ms\n",
      "17:\tlearn: 4121.3029213\ttotal: 247ms\tremaining: 440ms\n",
      "18:\tlearn: 4097.9416893\ttotal: 261ms\tremaining: 426ms\n",
      "19:\tlearn: 4075.0589604\ttotal: 276ms\tremaining: 414ms\n",
      "20:\tlearn: 4052.3555368\ttotal: 290ms\tremaining: 401ms\n",
      "21:\tlearn: 4030.7147730\ttotal: 305ms\tremaining: 388ms\n",
      "22:\tlearn: 4008.6068266\ttotal: 319ms\tremaining: 374ms\n",
      "23:\tlearn: 3986.4486565\ttotal: 333ms\tremaining: 360ms\n",
      "24:\tlearn: 3965.4270188\ttotal: 346ms\tremaining: 346ms\n",
      "25:\tlearn: 3944.3493549\ttotal: 359ms\tremaining: 332ms\n",
      "26:\tlearn: 3923.3651216\ttotal: 373ms\tremaining: 317ms\n",
      "27:\tlearn: 3902.6199044\ttotal: 386ms\tremaining: 303ms\n",
      "28:\tlearn: 3881.8701559\ttotal: 399ms\tremaining: 289ms\n",
      "29:\tlearn: 3861.9138436\ttotal: 413ms\tremaining: 276ms\n",
      "30:\tlearn: 3842.0973228\ttotal: 428ms\tremaining: 262ms\n",
      "31:\tlearn: 3823.2529933\ttotal: 442ms\tremaining: 249ms\n",
      "32:\tlearn: 3803.7670971\ttotal: 456ms\tremaining: 235ms\n",
      "33:\tlearn: 3784.5528606\ttotal: 471ms\tremaining: 222ms\n",
      "34:\tlearn: 3765.3821662\ttotal: 485ms\tremaining: 208ms\n",
      "35:\tlearn: 3747.2440136\ttotal: 500ms\tremaining: 194ms\n",
      "36:\tlearn: 3728.9116275\ttotal: 514ms\tremaining: 180ms\n",
      "37:\tlearn: 3710.1829847\ttotal: 529ms\tremaining: 167ms\n",
      "38:\tlearn: 3692.2716194\ttotal: 543ms\tremaining: 153ms\n",
      "39:\tlearn: 3674.2403039\ttotal: 557ms\tremaining: 139ms\n",
      "40:\tlearn: 3656.1603503\ttotal: 571ms\tremaining: 125ms\n",
      "41:\tlearn: 3639.4238976\ttotal: 585ms\tremaining: 111ms\n",
      "42:\tlearn: 3622.3433804\ttotal: 599ms\tremaining: 97.6ms\n",
      "43:\tlearn: 3605.1656651\ttotal: 615ms\tremaining: 83.9ms\n",
      "44:\tlearn: 3588.7814973\ttotal: 629ms\tremaining: 69.9ms\n",
      "45:\tlearn: 3571.7448135\ttotal: 643ms\tremaining: 55.9ms\n",
      "46:\tlearn: 3555.4047784\ttotal: 657ms\tremaining: 41.9ms\n",
      "47:\tlearn: 3539.2935079\ttotal: 672ms\tremaining: 28ms\n",
      "48:\tlearn: 3523.8050156\ttotal: 686ms\tremaining: 14ms\n",
      "49:\tlearn: 3508.1995188\ttotal: 701ms\tremaining: 0us\n",
      "0:\tlearn: 4440.6746085\ttotal: 14.5ms\tremaining: 709ms\n",
      "1:\tlearn: 4304.3434254\ttotal: 28.6ms\tremaining: 686ms\n",
      "2:\tlearn: 4178.8040553\ttotal: 44.3ms\tremaining: 694ms\n",
      "3:\tlearn: 4057.8665025\ttotal: 59.4ms\tremaining: 683ms\n",
      "4:\tlearn: 3946.6272706\ttotal: 72.8ms\tremaining: 656ms\n",
      "5:\tlearn: 3846.0940127\ttotal: 86.8ms\tremaining: 636ms\n",
      "6:\tlearn: 3749.1015724\ttotal: 102ms\tremaining: 627ms\n",
      "7:\tlearn: 3657.8273265\ttotal: 116ms\tremaining: 608ms\n",
      "8:\tlearn: 3570.7665435\ttotal: 130ms\tremaining: 594ms\n",
      "9:\tlearn: 3491.0022423\ttotal: 144ms\tremaining: 578ms\n",
      "10:\tlearn: 3414.2073431\ttotal: 159ms\tremaining: 563ms\n",
      "11:\tlearn: 3340.8184937\ttotal: 172ms\tremaining: 545ms\n",
      "12:\tlearn: 3276.2621312\ttotal: 186ms\tremaining: 528ms\n",
      "13:\tlearn: 3211.6282789\ttotal: 200ms\tremaining: 515ms\n",
      "14:\tlearn: 3151.1598085\ttotal: 215ms\tremaining: 501ms\n",
      "15:\tlearn: 3098.8494356\ttotal: 228ms\tremaining: 484ms\n",
      "16:\tlearn: 3048.9895144\ttotal: 241ms\tremaining: 468ms\n",
      "17:\tlearn: 3000.4428733\ttotal: 254ms\tremaining: 452ms\n",
      "18:\tlearn: 2953.3853365\ttotal: 267ms\tremaining: 436ms\n",
      "19:\tlearn: 2910.3809989\ttotal: 280ms\tremaining: 420ms\n",
      "20:\tlearn: 2869.7508694\ttotal: 294ms\tremaining: 406ms\n",
      "21:\tlearn: 2833.9493009\ttotal: 309ms\tremaining: 393ms\n",
      "22:\tlearn: 2799.6789074\ttotal: 322ms\tremaining: 378ms\n",
      "23:\tlearn: 2766.6687474\ttotal: 335ms\tremaining: 363ms\n",
      "24:\tlearn: 2733.0299599\ttotal: 349ms\tremaining: 349ms\n",
      "25:\tlearn: 2701.4857740\ttotal: 362ms\tremaining: 334ms\n",
      "26:\tlearn: 2671.2572451\ttotal: 376ms\tremaining: 321ms\n",
      "27:\tlearn: 2646.3428092\ttotal: 390ms\tremaining: 306ms\n",
      "28:\tlearn: 2622.2325641\ttotal: 403ms\tremaining: 292ms\n",
      "29:\tlearn: 2597.9347050\ttotal: 416ms\tremaining: 278ms\n",
      "30:\tlearn: 2576.7390501\ttotal: 430ms\tremaining: 264ms\n",
      "31:\tlearn: 2555.8777666\ttotal: 444ms\tremaining: 250ms\n",
      "32:\tlearn: 2534.7047169\ttotal: 457ms\tremaining: 236ms\n",
      "33:\tlearn: 2515.8723379\ttotal: 471ms\tremaining: 221ms\n",
      "34:\tlearn: 2495.6184311\ttotal: 484ms\tremaining: 208ms\n",
      "35:\tlearn: 2477.4032244\ttotal: 497ms\tremaining: 193ms\n",
      "36:\tlearn: 2461.7618655\ttotal: 510ms\tremaining: 179ms\n",
      "37:\tlearn: 2446.0709820\ttotal: 522ms\tremaining: 165ms\n",
      "38:\tlearn: 2431.6306964\ttotal: 536ms\tremaining: 151ms\n",
      "39:\tlearn: 2418.1624069\ttotal: 549ms\tremaining: 137ms\n",
      "40:\tlearn: 2403.3751720\ttotal: 563ms\tremaining: 124ms\n",
      "41:\tlearn: 2391.2995229\ttotal: 577ms\tremaining: 110ms\n",
      "42:\tlearn: 2378.8062064\ttotal: 590ms\tremaining: 96ms\n",
      "43:\tlearn: 2365.7405605\ttotal: 604ms\tremaining: 82.3ms\n",
      "44:\tlearn: 2353.1330478\ttotal: 619ms\tremaining: 68.8ms\n",
      "45:\tlearn: 2339.6826694\ttotal: 633ms\tremaining: 55ms\n",
      "46:\tlearn: 2328.5767999\ttotal: 649ms\tremaining: 41.4ms\n",
      "47:\tlearn: 2318.8075841\ttotal: 671ms\tremaining: 27.9ms\n",
      "48:\tlearn: 2307.1089055\ttotal: 692ms\tremaining: 14.1ms\n",
      "49:\tlearn: 2297.6963451\ttotal: 710ms\tremaining: 0us\n",
      "0:\tlearn: 4448.3289253\ttotal: 13.9ms\tremaining: 681ms\n",
      "1:\tlearn: 4313.2159806\ttotal: 27.9ms\tremaining: 669ms\n",
      "2:\tlearn: 4187.1723228\ttotal: 41.7ms\tremaining: 654ms\n",
      "3:\tlearn: 4067.2012488\ttotal: 55.5ms\tremaining: 638ms\n",
      "4:\tlearn: 3955.2139787\ttotal: 77.2ms\tremaining: 695ms\n",
      "5:\tlearn: 3849.3278248\ttotal: 94ms\tremaining: 689ms\n",
      "6:\tlearn: 3753.4475111\ttotal: 108ms\tremaining: 664ms\n",
      "7:\tlearn: 3657.1333505\ttotal: 121ms\tremaining: 638ms\n",
      "8:\tlearn: 3574.2509821\ttotal: 135ms\tremaining: 616ms\n",
      "9:\tlearn: 3489.0922925\ttotal: 149ms\tremaining: 596ms\n",
      "10:\tlearn: 3414.0824125\ttotal: 162ms\tremaining: 576ms\n",
      "11:\tlearn: 3341.8354029\ttotal: 176ms\tremaining: 556ms\n",
      "12:\tlearn: 3278.3101518\ttotal: 189ms\tremaining: 538ms\n",
      "13:\tlearn: 3218.7714606\ttotal: 203ms\tremaining: 522ms\n",
      "14:\tlearn: 3157.7177008\ttotal: 217ms\tremaining: 506ms\n",
      "15:\tlearn: 3103.7307304\ttotal: 231ms\tremaining: 491ms\n",
      "16:\tlearn: 3054.9328359\ttotal: 245ms\tremaining: 476ms\n",
      "17:\tlearn: 3009.0659307\ttotal: 259ms\tremaining: 460ms\n",
      "18:\tlearn: 2963.3945447\ttotal: 272ms\tremaining: 444ms\n",
      "19:\tlearn: 2921.9120984\ttotal: 286ms\tremaining: 429ms\n",
      "20:\tlearn: 2880.7493672\ttotal: 300ms\tremaining: 414ms\n",
      "21:\tlearn: 2844.0246119\ttotal: 314ms\tremaining: 400ms\n",
      "22:\tlearn: 2806.2233270\ttotal: 328ms\tremaining: 385ms\n",
      "23:\tlearn: 2769.3840787\ttotal: 342ms\tremaining: 371ms\n",
      "24:\tlearn: 2736.9518746\ttotal: 356ms\tremaining: 356ms\n",
      "25:\tlearn: 2708.0062001\ttotal: 370ms\tremaining: 341ms\n",
      "26:\tlearn: 2678.1443107\ttotal: 384ms\tremaining: 327ms\n",
      "27:\tlearn: 2653.5621624\ttotal: 400ms\tremaining: 314ms\n",
      "28:\tlearn: 2629.7773617\ttotal: 414ms\tremaining: 300ms\n",
      "29:\tlearn: 2605.3958282\ttotal: 429ms\tremaining: 286ms\n",
      "30:\tlearn: 2584.1097781\ttotal: 443ms\tremaining: 271ms\n",
      "31:\tlearn: 2562.4045414\ttotal: 457ms\tremaining: 257ms\n",
      "32:\tlearn: 2543.7839781\ttotal: 471ms\tremaining: 243ms\n",
      "33:\tlearn: 2524.7893484\ttotal: 485ms\tremaining: 228ms\n",
      "34:\tlearn: 2505.7233079\ttotal: 499ms\tremaining: 214ms\n",
      "35:\tlearn: 2489.8535756\ttotal: 514ms\tremaining: 200ms\n",
      "36:\tlearn: 2473.4011669\ttotal: 529ms\tremaining: 186ms\n",
      "37:\tlearn: 2459.1461098\ttotal: 542ms\tremaining: 171ms\n",
      "38:\tlearn: 2442.5029197\ttotal: 557ms\tremaining: 157ms\n",
      "39:\tlearn: 2427.6755892\ttotal: 570ms\tremaining: 143ms\n",
      "40:\tlearn: 2413.5780269\ttotal: 584ms\tremaining: 128ms\n",
      "41:\tlearn: 2400.9850207\ttotal: 598ms\tremaining: 114ms\n",
      "42:\tlearn: 2386.8240533\ttotal: 613ms\tremaining: 99.8ms\n",
      "43:\tlearn: 2374.6248331\ttotal: 628ms\tremaining: 85.7ms\n",
      "44:\tlearn: 2362.7562994\ttotal: 643ms\tremaining: 71.5ms\n",
      "45:\tlearn: 2351.9931464\ttotal: 659ms\tremaining: 57.3ms\n",
      "46:\tlearn: 2340.8566338\ttotal: 674ms\tremaining: 43ms\n",
      "47:\tlearn: 2331.0344282\ttotal: 689ms\tremaining: 28.7ms\n",
      "48:\tlearn: 2321.1450492\ttotal: 705ms\tremaining: 14.4ms\n",
      "49:\tlearn: 2311.9391800\ttotal: 719ms\tremaining: 0us\n",
      "0:\tlearn: 4300.1332244\ttotal: 15.6ms\tremaining: 764ms\n",
      "1:\tlearn: 4046.0362838\ttotal: 30ms\tremaining: 720ms\n",
      "2:\tlearn: 3827.7986517\ttotal: 44ms\tremaining: 689ms\n",
      "3:\tlearn: 3636.0451310\ttotal: 57.6ms\tremaining: 663ms\n",
      "4:\tlearn: 3465.2996835\ttotal: 72.2ms\tremaining: 650ms\n",
      "5:\tlearn: 3318.8512166\ttotal: 86.3ms\tremaining: 633ms\n",
      "6:\tlearn: 3194.8290307\ttotal: 100ms\tremaining: 616ms\n",
      "7:\tlearn: 3077.2680924\ttotal: 114ms\tremaining: 601ms\n",
      "8:\tlearn: 2980.6924863\ttotal: 129ms\tremaining: 587ms\n",
      "9:\tlearn: 2891.2813815\ttotal: 143ms\tremaining: 572ms\n",
      "10:\tlearn: 2815.2440152\ttotal: 157ms\tremaining: 556ms\n",
      "11:\tlearn: 2747.9734484\ttotal: 171ms\tremaining: 542ms\n",
      "12:\tlearn: 2690.9435705\ttotal: 185ms\tremaining: 527ms\n",
      "13:\tlearn: 2633.1656718\ttotal: 199ms\tremaining: 512ms\n",
      "14:\tlearn: 2584.1266481\ttotal: 213ms\tremaining: 498ms\n",
      "15:\tlearn: 2540.2115969\ttotal: 227ms\tremaining: 483ms\n",
      "16:\tlearn: 2503.2827210\ttotal: 241ms\tremaining: 467ms\n",
      "17:\tlearn: 2471.3937831\ttotal: 254ms\tremaining: 452ms\n",
      "18:\tlearn: 2435.3493163\ttotal: 269ms\tremaining: 439ms\n",
      "19:\tlearn: 2405.4640801\ttotal: 282ms\tremaining: 424ms\n",
      "20:\tlearn: 2377.7690227\ttotal: 297ms\tremaining: 410ms\n",
      "21:\tlearn: 2353.7618012\ttotal: 310ms\tremaining: 394ms\n",
      "22:\tlearn: 2327.5066932\ttotal: 323ms\tremaining: 379ms\n",
      "23:\tlearn: 2305.8859057\ttotal: 337ms\tremaining: 365ms\n",
      "24:\tlearn: 2286.5616079\ttotal: 351ms\tremaining: 351ms\n",
      "25:\tlearn: 2267.5526526\ttotal: 365ms\tremaining: 337ms\n",
      "26:\tlearn: 2250.3155503\ttotal: 379ms\tremaining: 323ms\n",
      "27:\tlearn: 2236.7663500\ttotal: 392ms\tremaining: 308ms\n",
      "28:\tlearn: 2223.8368685\ttotal: 406ms\tremaining: 294ms\n",
      "29:\tlearn: 2212.3654306\ttotal: 420ms\tremaining: 280ms\n",
      "30:\tlearn: 2200.6017182\ttotal: 435ms\tremaining: 266ms\n",
      "31:\tlearn: 2189.1702902\ttotal: 449ms\tremaining: 253ms\n",
      "32:\tlearn: 2174.0685683\ttotal: 469ms\tremaining: 241ms\n",
      "33:\tlearn: 2164.6172560\ttotal: 488ms\tremaining: 230ms\n",
      "34:\tlearn: 2156.6136647\ttotal: 502ms\tremaining: 215ms\n",
      "35:\tlearn: 2148.0644590\ttotal: 516ms\tremaining: 201ms\n",
      "36:\tlearn: 2139.8891633\ttotal: 529ms\tremaining: 186ms\n",
      "37:\tlearn: 2133.4363005\ttotal: 541ms\tremaining: 171ms\n",
      "38:\tlearn: 2126.5452963\ttotal: 554ms\tremaining: 156ms\n",
      "39:\tlearn: 2117.0274857\ttotal: 568ms\tremaining: 142ms\n",
      "40:\tlearn: 2110.9365840\ttotal: 581ms\tremaining: 128ms\n",
      "41:\tlearn: 2104.2970373\ttotal: 594ms\tremaining: 113ms\n",
      "42:\tlearn: 2095.8470220\ttotal: 609ms\tremaining: 99.1ms\n",
      "43:\tlearn: 2089.2661365\ttotal: 623ms\tremaining: 85ms\n",
      "44:\tlearn: 2084.4325119\ttotal: 636ms\tremaining: 70.7ms\n",
      "45:\tlearn: 2079.6409045\ttotal: 650ms\tremaining: 56.5ms\n",
      "46:\tlearn: 2074.6027959\ttotal: 664ms\tremaining: 42.4ms\n",
      "47:\tlearn: 2068.7606681\ttotal: 678ms\tremaining: 28.2ms\n",
      "48:\tlearn: 2064.0572036\ttotal: 691ms\tremaining: 14.1ms\n",
      "49:\tlearn: 2060.4981802\ttotal: 707ms\tremaining: 0us\n",
      "0:\tlearn: 4308.9566368\ttotal: 14.6ms\tremaining: 718ms\n",
      "1:\tlearn: 4057.7558506\ttotal: 29.2ms\tremaining: 701ms\n",
      "2:\tlearn: 3837.7541116\ttotal: 44.1ms\tremaining: 690ms\n",
      "3:\tlearn: 3641.3241167\ttotal: 58.3ms\tremaining: 670ms\n",
      "4:\tlearn: 3471.9912968\ttotal: 72.5ms\tremaining: 653ms\n",
      "5:\tlearn: 3330.8790864\ttotal: 86.9ms\tremaining: 638ms\n",
      "6:\tlearn: 3202.7482020\ttotal: 101ms\tremaining: 621ms\n",
      "7:\tlearn: 3088.9363067\ttotal: 115ms\tremaining: 604ms\n",
      "8:\tlearn: 2984.9702020\ttotal: 129ms\tremaining: 588ms\n",
      "9:\tlearn: 2897.9728999\ttotal: 142ms\tremaining: 570ms\n",
      "10:\tlearn: 2823.1002372\ttotal: 156ms\tremaining: 554ms\n",
      "11:\tlearn: 2755.6698724\ttotal: 169ms\tremaining: 537ms\n",
      "12:\tlearn: 2698.4321740\ttotal: 183ms\tremaining: 520ms\n",
      "13:\tlearn: 2638.1595229\ttotal: 196ms\tremaining: 503ms\n",
      "14:\tlearn: 2589.8550164\ttotal: 210ms\tremaining: 489ms\n",
      "15:\tlearn: 2547.4133582\ttotal: 223ms\tremaining: 474ms\n",
      "16:\tlearn: 2506.8603643\ttotal: 237ms\tremaining: 459ms\n",
      "17:\tlearn: 2471.9363567\ttotal: 250ms\tremaining: 444ms\n",
      "18:\tlearn: 2440.6094996\ttotal: 263ms\tremaining: 430ms\n",
      "19:\tlearn: 2413.0464794\ttotal: 278ms\tremaining: 418ms\n",
      "20:\tlearn: 2387.1714687\ttotal: 292ms\tremaining: 403ms\n",
      "21:\tlearn: 2364.5835859\ttotal: 306ms\tremaining: 389ms\n",
      "22:\tlearn: 2341.8915479\ttotal: 320ms\tremaining: 376ms\n",
      "23:\tlearn: 2319.8067326\ttotal: 336ms\tremaining: 364ms\n",
      "24:\tlearn: 2303.0300123\ttotal: 353ms\tremaining: 353ms\n",
      "25:\tlearn: 2283.1468381\ttotal: 370ms\tremaining: 342ms\n",
      "26:\tlearn: 2267.1290056\ttotal: 385ms\tremaining: 328ms\n",
      "27:\tlearn: 2251.2802994\ttotal: 400ms\tremaining: 314ms\n",
      "28:\tlearn: 2238.4260200\ttotal: 414ms\tremaining: 300ms\n",
      "29:\tlearn: 2226.5249863\ttotal: 428ms\tremaining: 285ms\n",
      "30:\tlearn: 2217.1333108\ttotal: 444ms\tremaining: 272ms\n",
      "31:\tlearn: 2203.6878597\ttotal: 457ms\tremaining: 257ms\n",
      "32:\tlearn: 2192.4294506\ttotal: 471ms\tremaining: 243ms\n",
      "33:\tlearn: 2183.8181660\ttotal: 484ms\tremaining: 228ms\n",
      "34:\tlearn: 2173.3273696\ttotal: 498ms\tremaining: 214ms\n",
      "35:\tlearn: 2163.3051796\ttotal: 511ms\tremaining: 199ms\n",
      "36:\tlearn: 2155.0508317\ttotal: 524ms\tremaining: 184ms\n",
      "37:\tlearn: 2145.9789048\ttotal: 538ms\tremaining: 170ms\n",
      "38:\tlearn: 2138.9792001\ttotal: 551ms\tremaining: 155ms\n",
      "39:\tlearn: 2132.9509034\ttotal: 564ms\tremaining: 141ms\n",
      "40:\tlearn: 2124.8821816\ttotal: 578ms\tremaining: 127ms\n",
      "41:\tlearn: 2118.0873504\ttotal: 591ms\tremaining: 113ms\n",
      "42:\tlearn: 2111.9460419\ttotal: 604ms\tremaining: 98.3ms\n",
      "43:\tlearn: 2106.9509700\ttotal: 617ms\tremaining: 84.1ms\n",
      "44:\tlearn: 2100.8461374\ttotal: 630ms\tremaining: 70ms\n",
      "45:\tlearn: 2093.6582950\ttotal: 643ms\tremaining: 55.9ms\n",
      "46:\tlearn: 2088.0962746\ttotal: 656ms\tremaining: 41.9ms\n",
      "47:\tlearn: 2082.9219138\ttotal: 669ms\tremaining: 27.9ms\n",
      "48:\tlearn: 2079.2453467\ttotal: 681ms\tremaining: 13.9ms\n",
      "49:\tlearn: 2074.1797618\ttotal: 695ms\tremaining: 0us\n",
      "0:\tlearn: 4555.2238083\ttotal: 14.2ms\tremaining: 1.41s\n",
      "1:\tlearn: 4526.4230378\ttotal: 27.5ms\tremaining: 1.34s\n",
      "2:\tlearn: 4498.1303396\ttotal: 41.1ms\tremaining: 1.33s\n",
      "3:\tlearn: 4470.0221440\ttotal: 54.9ms\tremaining: 1.32s\n",
      "4:\tlearn: 4442.1956118\ttotal: 68.3ms\tremaining: 1.3s\n",
      "5:\tlearn: 4415.0765919\ttotal: 82.4ms\tremaining: 1.29s\n",
      "6:\tlearn: 4388.4642361\ttotal: 96.3ms\tremaining: 1.28s\n",
      "7:\tlearn: 4362.0271491\ttotal: 111ms\tremaining: 1.27s\n",
      "8:\tlearn: 4335.7747625\ttotal: 133ms\tremaining: 1.34s\n",
      "9:\tlearn: 4310.2188214\ttotal: 148ms\tremaining: 1.34s\n",
      "10:\tlearn: 4284.4628243\ttotal: 163ms\tremaining: 1.32s\n",
      "11:\tlearn: 4259.1009022\ttotal: 177ms\tremaining: 1.3s\n",
      "12:\tlearn: 4233.9896014\ttotal: 191ms\tremaining: 1.28s\n",
      "13:\tlearn: 4209.6255233\ttotal: 205ms\tremaining: 1.26s\n",
      "14:\tlearn: 4185.5315804\ttotal: 220ms\tremaining: 1.25s\n",
      "15:\tlearn: 4161.2344848\ttotal: 235ms\tremaining: 1.24s\n",
      "16:\tlearn: 4137.3118062\ttotal: 250ms\tremaining: 1.22s\n",
      "17:\tlearn: 4113.9136738\ttotal: 266ms\tremaining: 1.21s\n",
      "18:\tlearn: 4090.7011373\ttotal: 280ms\tremaining: 1.19s\n",
      "19:\tlearn: 4067.5017853\ttotal: 294ms\tremaining: 1.18s\n",
      "20:\tlearn: 4045.2095613\ttotal: 309ms\tremaining: 1.16s\n",
      "21:\tlearn: 4022.6428384\ttotal: 323ms\tremaining: 1.15s\n",
      "22:\tlearn: 4000.5781474\ttotal: 337ms\tremaining: 1.13s\n",
      "23:\tlearn: 3979.5189507\ttotal: 352ms\tremaining: 1.11s\n",
      "24:\tlearn: 3958.0268130\ttotal: 367ms\tremaining: 1.1s\n",
      "25:\tlearn: 3936.8255917\ttotal: 380ms\tremaining: 1.08s\n",
      "26:\tlearn: 3915.7513498\ttotal: 394ms\tremaining: 1.06s\n",
      "27:\tlearn: 3894.3950125\ttotal: 409ms\tremaining: 1.05s\n",
      "28:\tlearn: 3873.9238165\ttotal: 423ms\tremaining: 1.04s\n",
      "29:\tlearn: 3853.8139733\ttotal: 437ms\tremaining: 1.02s\n",
      "30:\tlearn: 3833.6054779\ttotal: 459ms\tremaining: 1.02s\n",
      "31:\tlearn: 3813.9762338\ttotal: 473ms\tremaining: 1s\n",
      "32:\tlearn: 3794.5011922\ttotal: 488ms\tremaining: 991ms\n",
      "33:\tlearn: 3776.0846108\ttotal: 502ms\tremaining: 975ms\n",
      "34:\tlearn: 3757.3450804\ttotal: 517ms\tremaining: 959ms\n",
      "35:\tlearn: 3738.3564353\ttotal: 531ms\tremaining: 945ms\n",
      "36:\tlearn: 3719.6875465\ttotal: 545ms\tremaining: 928ms\n",
      "37:\tlearn: 3700.9420493\ttotal: 560ms\tremaining: 913ms\n",
      "38:\tlearn: 3683.2080629\ttotal: 574ms\tremaining: 898ms\n",
      "39:\tlearn: 3665.4031326\ttotal: 588ms\tremaining: 883ms\n",
      "40:\tlearn: 3647.4401167\ttotal: 603ms\tremaining: 868ms\n",
      "41:\tlearn: 3630.4433651\ttotal: 617ms\tremaining: 852ms\n",
      "42:\tlearn: 3613.1643382\ttotal: 631ms\tremaining: 837ms\n",
      "43:\tlearn: 3596.1416961\ttotal: 646ms\tremaining: 822ms\n",
      "44:\tlearn: 3579.4671271\ttotal: 660ms\tremaining: 807ms\n",
      "45:\tlearn: 3562.7211567\ttotal: 674ms\tremaining: 792ms\n",
      "46:\tlearn: 3546.9637650\ttotal: 689ms\tremaining: 776ms\n",
      "47:\tlearn: 3531.4453597\ttotal: 702ms\tremaining: 761ms\n",
      "48:\tlearn: 3514.7770660\ttotal: 717ms\tremaining: 746ms\n",
      "49:\tlearn: 3498.7995615\ttotal: 731ms\tremaining: 731ms\n",
      "50:\tlearn: 3483.0198380\ttotal: 745ms\tremaining: 716ms\n",
      "51:\tlearn: 3468.0089728\ttotal: 759ms\tremaining: 700ms\n",
      "52:\tlearn: 3452.8485692\ttotal: 773ms\tremaining: 686ms\n",
      "53:\tlearn: 3437.5355690\ttotal: 788ms\tremaining: 671ms\n",
      "54:\tlearn: 3422.9910311\ttotal: 801ms\tremaining: 656ms\n",
      "55:\tlearn: 3408.2833137\ttotal: 816ms\tremaining: 641ms\n",
      "56:\tlearn: 3393.9357394\ttotal: 829ms\tremaining: 626ms\n",
      "57:\tlearn: 3380.0818485\ttotal: 843ms\tremaining: 610ms\n",
      "58:\tlearn: 3366.1107438\ttotal: 856ms\tremaining: 595ms\n",
      "59:\tlearn: 3352.5507968\ttotal: 871ms\tremaining: 581ms\n",
      "60:\tlearn: 3339.2922845\ttotal: 885ms\tremaining: 566ms\n",
      "61:\tlearn: 3325.7172843\ttotal: 898ms\tremaining: 550ms\n",
      "62:\tlearn: 3312.0927307\ttotal: 911ms\tremaining: 535ms\n",
      "63:\tlearn: 3299.1650167\ttotal: 925ms\tremaining: 520ms\n",
      "64:\tlearn: 3286.2823202\ttotal: 939ms\tremaining: 506ms\n",
      "65:\tlearn: 3274.0872895\ttotal: 953ms\tremaining: 491ms\n",
      "66:\tlearn: 3261.4053943\ttotal: 967ms\tremaining: 476ms\n",
      "67:\tlearn: 3249.1442741\ttotal: 981ms\tremaining: 462ms\n",
      "68:\tlearn: 3237.0280414\ttotal: 996ms\tremaining: 447ms\n",
      "69:\tlearn: 3224.9032375\ttotal: 1.01s\tremaining: 434ms\n",
      "70:\tlearn: 3213.0704283\ttotal: 1.03s\tremaining: 419ms\n",
      "71:\tlearn: 3201.6574550\ttotal: 1.04s\tremaining: 405ms\n",
      "72:\tlearn: 3190.6847257\ttotal: 1.05s\tremaining: 390ms\n",
      "73:\tlearn: 3179.4393161\ttotal: 1.07s\tremaining: 377ms\n",
      "74:\tlearn: 3168.3765795\ttotal: 1.09s\tremaining: 362ms\n",
      "75:\tlearn: 3157.0032916\ttotal: 1.1s\tremaining: 347ms\n",
      "76:\tlearn: 3146.0753758\ttotal: 1.11s\tremaining: 333ms\n",
      "77:\tlearn: 3135.0090140\ttotal: 1.13s\tremaining: 318ms\n",
      "78:\tlearn: 3123.9375102\ttotal: 1.14s\tremaining: 303ms\n",
      "79:\tlearn: 3113.4940979\ttotal: 1.16s\tremaining: 289ms\n",
      "80:\tlearn: 3102.5431267\ttotal: 1.17s\tremaining: 275ms\n",
      "81:\tlearn: 3092.3137833\ttotal: 1.18s\tremaining: 260ms\n",
      "82:\tlearn: 3082.2209390\ttotal: 1.2s\tremaining: 246ms\n",
      "83:\tlearn: 3072.3159050\ttotal: 1.21s\tremaining: 231ms\n",
      "84:\tlearn: 3061.9026873\ttotal: 1.23s\tremaining: 217ms\n",
      "85:\tlearn: 3052.1605476\ttotal: 1.24s\tremaining: 202ms\n",
      "86:\tlearn: 3042.3816567\ttotal: 1.26s\tremaining: 188ms\n",
      "87:\tlearn: 3032.3744533\ttotal: 1.28s\tremaining: 174ms\n",
      "88:\tlearn: 3023.0425609\ttotal: 1.29s\tremaining: 160ms\n",
      "89:\tlearn: 3013.1216043\ttotal: 1.31s\tremaining: 145ms\n",
      "90:\tlearn: 3003.4851336\ttotal: 1.32s\tremaining: 131ms\n",
      "91:\tlearn: 2994.5719638\ttotal: 1.34s\tremaining: 116ms\n",
      "92:\tlearn: 2985.2093090\ttotal: 1.35s\tremaining: 102ms\n",
      "93:\tlearn: 2975.8852611\ttotal: 1.37s\tremaining: 87.3ms\n",
      "94:\tlearn: 2966.7362322\ttotal: 1.38s\tremaining: 72.7ms\n",
      "95:\tlearn: 2957.7584119\ttotal: 1.4s\tremaining: 58.1ms\n",
      "96:\tlearn: 2949.3032618\ttotal: 1.41s\tremaining: 43.6ms\n",
      "97:\tlearn: 2940.5522832\ttotal: 1.42s\tremaining: 29ms\n",
      "98:\tlearn: 2932.4199229\ttotal: 1.44s\tremaining: 14.5ms\n",
      "99:\tlearn: 2924.3497238\ttotal: 1.45s\tremaining: 0us\n",
      "0:\tlearn: 4561.9599894\ttotal: 14ms\tremaining: 1.38s\n",
      "1:\tlearn: 4533.6495001\ttotal: 27.5ms\tremaining: 1.35s\n",
      "2:\tlearn: 4505.4696405\ttotal: 41.4ms\tremaining: 1.34s\n",
      "3:\tlearn: 4478.0185230\ttotal: 56.5ms\tremaining: 1.36s\n",
      "4:\tlearn: 4450.5463955\ttotal: 70.8ms\tremaining: 1.34s\n",
      "5:\tlearn: 4422.9621373\ttotal: 84.5ms\tremaining: 1.32s\n",
      "6:\tlearn: 4396.3977545\ttotal: 98.5ms\tremaining: 1.31s\n",
      "7:\tlearn: 4369.6584374\ttotal: 112ms\tremaining: 1.29s\n",
      "8:\tlearn: 4343.4675548\ttotal: 126ms\tremaining: 1.28s\n",
      "9:\tlearn: 4317.3052708\ttotal: 140ms\tremaining: 1.26s\n",
      "10:\tlearn: 4291.5941535\ttotal: 154ms\tremaining: 1.25s\n",
      "11:\tlearn: 4266.4368518\ttotal: 168ms\tremaining: 1.23s\n",
      "12:\tlearn: 4241.6891008\ttotal: 182ms\tremaining: 1.22s\n",
      "13:\tlearn: 4217.0680085\ttotal: 196ms\tremaining: 1.2s\n",
      "14:\tlearn: 4192.3156722\ttotal: 210ms\tremaining: 1.19s\n",
      "15:\tlearn: 4168.5981507\ttotal: 225ms\tremaining: 1.18s\n",
      "16:\tlearn: 4144.5108150\ttotal: 239ms\tremaining: 1.16s\n",
      "17:\tlearn: 4121.3029213\ttotal: 252ms\tremaining: 1.15s\n",
      "18:\tlearn: 4097.9416893\ttotal: 266ms\tremaining: 1.13s\n",
      "19:\tlearn: 4075.0589604\ttotal: 280ms\tremaining: 1.12s\n",
      "20:\tlearn: 4052.3555368\ttotal: 295ms\tremaining: 1.11s\n",
      "21:\tlearn: 4030.7147730\ttotal: 308ms\tremaining: 1.09s\n",
      "22:\tlearn: 4008.6068266\ttotal: 322ms\tremaining: 1.08s\n",
      "23:\tlearn: 3986.4486565\ttotal: 336ms\tremaining: 1.06s\n",
      "24:\tlearn: 3965.4270188\ttotal: 350ms\tremaining: 1.05s\n",
      "25:\tlearn: 3944.3493549\ttotal: 363ms\tremaining: 1.03s\n",
      "26:\tlearn: 3923.3651216\ttotal: 377ms\tremaining: 1.02s\n",
      "27:\tlearn: 3902.6199044\ttotal: 391ms\tremaining: 1.01s\n",
      "28:\tlearn: 3881.8701559\ttotal: 406ms\tremaining: 993ms\n",
      "29:\tlearn: 3861.9138436\ttotal: 419ms\tremaining: 978ms\n",
      "30:\tlearn: 3842.0973228\ttotal: 434ms\tremaining: 965ms\n",
      "31:\tlearn: 3823.2529933\ttotal: 447ms\tremaining: 951ms\n",
      "32:\tlearn: 3803.7670971\ttotal: 462ms\tremaining: 938ms\n",
      "33:\tlearn: 3784.5528606\ttotal: 476ms\tremaining: 925ms\n",
      "34:\tlearn: 3765.3821662\ttotal: 490ms\tremaining: 911ms\n",
      "35:\tlearn: 3747.2440136\ttotal: 505ms\tremaining: 897ms\n",
      "36:\tlearn: 3728.9116275\ttotal: 519ms\tremaining: 883ms\n",
      "37:\tlearn: 3710.1829847\ttotal: 534ms\tremaining: 871ms\n",
      "38:\tlearn: 3692.2716194\ttotal: 548ms\tremaining: 857ms\n",
      "39:\tlearn: 3674.2403039\ttotal: 563ms\tremaining: 844ms\n",
      "40:\tlearn: 3656.1603503\ttotal: 578ms\tremaining: 832ms\n",
      "41:\tlearn: 3639.4238976\ttotal: 594ms\tremaining: 820ms\n",
      "42:\tlearn: 3622.3433804\ttotal: 608ms\tremaining: 807ms\n",
      "43:\tlearn: 3605.1656651\ttotal: 624ms\tremaining: 794ms\n",
      "44:\tlearn: 3588.7814973\ttotal: 638ms\tremaining: 780ms\n",
      "45:\tlearn: 3571.7448135\ttotal: 653ms\tremaining: 767ms\n",
      "46:\tlearn: 3555.4047784\ttotal: 667ms\tremaining: 752ms\n",
      "47:\tlearn: 3539.2935079\ttotal: 681ms\tremaining: 738ms\n",
      "48:\tlearn: 3523.8050156\ttotal: 696ms\tremaining: 725ms\n",
      "49:\tlearn: 3508.1995188\ttotal: 712ms\tremaining: 712ms\n",
      "50:\tlearn: 3492.8692440\ttotal: 727ms\tremaining: 699ms\n",
      "51:\tlearn: 3477.0741203\ttotal: 744ms\tremaining: 686ms\n",
      "52:\tlearn: 3461.5197061\ttotal: 758ms\tremaining: 672ms\n",
      "53:\tlearn: 3446.4685268\ttotal: 775ms\tremaining: 660ms\n",
      "54:\tlearn: 3431.3335423\ttotal: 794ms\tremaining: 650ms\n",
      "55:\tlearn: 3416.8741515\ttotal: 814ms\tremaining: 640ms\n",
      "56:\tlearn: 3402.4731227\ttotal: 832ms\tremaining: 628ms\n",
      "57:\tlearn: 3388.3384170\ttotal: 853ms\tremaining: 618ms\n",
      "58:\tlearn: 3374.5398428\ttotal: 870ms\tremaining: 605ms\n",
      "59:\tlearn: 3361.0205592\ttotal: 886ms\tremaining: 590ms\n",
      "60:\tlearn: 3348.0122107\ttotal: 900ms\tremaining: 575ms\n",
      "61:\tlearn: 3335.3108367\ttotal: 914ms\tremaining: 560ms\n",
      "62:\tlearn: 3321.9275840\ttotal: 928ms\tremaining: 545ms\n",
      "63:\tlearn: 3309.2226855\ttotal: 942ms\tremaining: 530ms\n",
      "64:\tlearn: 3296.7701159\ttotal: 956ms\tremaining: 515ms\n",
      "65:\tlearn: 3283.9136467\ttotal: 970ms\tremaining: 500ms\n",
      "66:\tlearn: 3271.2432966\ttotal: 983ms\tremaining: 484ms\n",
      "67:\tlearn: 3259.1051498\ttotal: 997ms\tremaining: 469ms\n",
      "68:\tlearn: 3246.7636155\ttotal: 1.01s\tremaining: 455ms\n",
      "69:\tlearn: 3235.1639629\ttotal: 1.03s\tremaining: 440ms\n",
      "70:\tlearn: 3222.8525269\ttotal: 1.04s\tremaining: 426ms\n",
      "71:\tlearn: 3211.2153582\ttotal: 1.06s\tremaining: 412ms\n",
      "72:\tlearn: 3200.0051993\ttotal: 1.07s\tremaining: 397ms\n",
      "73:\tlearn: 3188.8419390\ttotal: 1.09s\tremaining: 382ms\n",
      "74:\tlearn: 3177.5914883\ttotal: 1.1s\tremaining: 368ms\n",
      "75:\tlearn: 3165.8957661\ttotal: 1.12s\tremaining: 353ms\n",
      "76:\tlearn: 3155.5593716\ttotal: 1.13s\tremaining: 338ms\n",
      "77:\tlearn: 3144.5490180\ttotal: 1.15s\tremaining: 323ms\n",
      "78:\tlearn: 3132.9814805\ttotal: 1.16s\tremaining: 308ms\n",
      "79:\tlearn: 3122.5118013\ttotal: 1.17s\tremaining: 294ms\n",
      "80:\tlearn: 3111.6784883\ttotal: 1.19s\tremaining: 279ms\n",
      "81:\tlearn: 3101.1069479\ttotal: 1.2s\tremaining: 264ms\n",
      "82:\tlearn: 3090.9463043\ttotal: 1.22s\tremaining: 250ms\n",
      "83:\tlearn: 3080.4099290\ttotal: 1.23s\tremaining: 235ms\n",
      "84:\tlearn: 3070.4724914\ttotal: 1.25s\tremaining: 220ms\n",
      "85:\tlearn: 3060.7511693\ttotal: 1.26s\tremaining: 205ms\n",
      "86:\tlearn: 3050.3037698\ttotal: 1.27s\tremaining: 191ms\n",
      "87:\tlearn: 3040.3570925\ttotal: 1.29s\tremaining: 176ms\n",
      "88:\tlearn: 3030.7932353\ttotal: 1.3s\tremaining: 161ms\n",
      "89:\tlearn: 3021.1517642\ttotal: 1.32s\tremaining: 147ms\n",
      "90:\tlearn: 3012.3909253\ttotal: 1.33s\tremaining: 132ms\n",
      "91:\tlearn: 3003.0538223\ttotal: 1.35s\tremaining: 117ms\n",
      "92:\tlearn: 2993.8599118\ttotal: 1.36s\tremaining: 102ms\n",
      "93:\tlearn: 2985.5173447\ttotal: 1.37s\tremaining: 87.7ms\n",
      "94:\tlearn: 2976.3906200\ttotal: 1.39s\tremaining: 73.1ms\n",
      "95:\tlearn: 2967.5113830\ttotal: 1.4s\tremaining: 58.4ms\n",
      "96:\tlearn: 2959.0775577\ttotal: 1.42s\tremaining: 43.8ms\n",
      "97:\tlearn: 2950.5558453\ttotal: 1.43s\tremaining: 29.2ms\n",
      "98:\tlearn: 2942.1423419\ttotal: 1.44s\tremaining: 14.6ms\n",
      "99:\tlearn: 2933.6044131\ttotal: 1.46s\tremaining: 0us\n",
      "0:\tlearn: 4440.6746085\ttotal: 13.9ms\tremaining: 1.38s\n",
      "1:\tlearn: 4304.3434254\ttotal: 28.5ms\tremaining: 1.39s\n",
      "2:\tlearn: 4178.8040553\ttotal: 42.7ms\tremaining: 1.38s\n",
      "3:\tlearn: 4057.8665025\ttotal: 56.8ms\tremaining: 1.36s\n",
      "4:\tlearn: 3946.6272706\ttotal: 70.4ms\tremaining: 1.34s\n",
      "5:\tlearn: 3846.0940127\ttotal: 84.5ms\tremaining: 1.32s\n",
      "6:\tlearn: 3749.1015724\ttotal: 98.9ms\tremaining: 1.31s\n",
      "7:\tlearn: 3657.8273265\ttotal: 112ms\tremaining: 1.29s\n",
      "8:\tlearn: 3570.7665435\ttotal: 129ms\tremaining: 1.31s\n",
      "9:\tlearn: 3491.0022423\ttotal: 145ms\tremaining: 1.3s\n",
      "10:\tlearn: 3414.2073431\ttotal: 159ms\tremaining: 1.29s\n",
      "11:\tlearn: 3340.8184937\ttotal: 174ms\tremaining: 1.27s\n",
      "12:\tlearn: 3276.2621312\ttotal: 188ms\tremaining: 1.25s\n",
      "13:\tlearn: 3211.6282789\ttotal: 210ms\tremaining: 1.29s\n",
      "14:\tlearn: 3151.1598085\ttotal: 231ms\tremaining: 1.31s\n",
      "15:\tlearn: 3098.8494356\ttotal: 245ms\tremaining: 1.29s\n",
      "16:\tlearn: 3048.9895144\ttotal: 259ms\tremaining: 1.26s\n",
      "17:\tlearn: 3000.4428733\ttotal: 273ms\tremaining: 1.24s\n",
      "18:\tlearn: 2953.3853365\ttotal: 287ms\tremaining: 1.22s\n",
      "19:\tlearn: 2910.3809989\ttotal: 300ms\tremaining: 1.2s\n",
      "20:\tlearn: 2869.7508694\ttotal: 314ms\tremaining: 1.18s\n",
      "21:\tlearn: 2833.9493009\ttotal: 327ms\tremaining: 1.16s\n",
      "22:\tlearn: 2799.6789074\ttotal: 340ms\tremaining: 1.14s\n",
      "23:\tlearn: 2766.6687474\ttotal: 354ms\tremaining: 1.12s\n",
      "24:\tlearn: 2733.0299599\ttotal: 368ms\tremaining: 1.1s\n",
      "25:\tlearn: 2701.4857740\ttotal: 382ms\tremaining: 1.09s\n",
      "26:\tlearn: 2671.2572451\ttotal: 397ms\tremaining: 1.07s\n",
      "27:\tlearn: 2646.3428092\ttotal: 413ms\tremaining: 1.06s\n",
      "28:\tlearn: 2622.2325641\ttotal: 429ms\tremaining: 1.05s\n",
      "29:\tlearn: 2597.9347050\ttotal: 444ms\tremaining: 1.04s\n",
      "30:\tlearn: 2576.7390501\ttotal: 460ms\tremaining: 1.02s\n",
      "31:\tlearn: 2555.8777666\ttotal: 474ms\tremaining: 1.01s\n",
      "32:\tlearn: 2534.7047169\ttotal: 489ms\tremaining: 993ms\n",
      "33:\tlearn: 2515.8723379\ttotal: 505ms\tremaining: 980ms\n",
      "34:\tlearn: 2495.6184311\ttotal: 519ms\tremaining: 964ms\n",
      "35:\tlearn: 2477.4032244\ttotal: 533ms\tremaining: 948ms\n",
      "36:\tlearn: 2461.7618655\ttotal: 548ms\tremaining: 932ms\n",
      "37:\tlearn: 2446.0709820\ttotal: 561ms\tremaining: 915ms\n",
      "38:\tlearn: 2431.6306964\ttotal: 575ms\tremaining: 899ms\n",
      "39:\tlearn: 2418.1624069\ttotal: 588ms\tremaining: 883ms\n",
      "40:\tlearn: 2403.3751720\ttotal: 603ms\tremaining: 867ms\n",
      "41:\tlearn: 2391.2995229\ttotal: 617ms\tremaining: 852ms\n",
      "42:\tlearn: 2378.8062064\ttotal: 631ms\tremaining: 837ms\n",
      "43:\tlearn: 2365.7405605\ttotal: 646ms\tremaining: 822ms\n",
      "44:\tlearn: 2353.1330478\ttotal: 660ms\tremaining: 806ms\n",
      "45:\tlearn: 2339.6826694\ttotal: 673ms\tremaining: 791ms\n",
      "46:\tlearn: 2328.5767999\ttotal: 687ms\tremaining: 774ms\n",
      "47:\tlearn: 2318.8075841\ttotal: 700ms\tremaining: 758ms\n",
      "48:\tlearn: 2307.1089055\ttotal: 714ms\tremaining: 743ms\n",
      "49:\tlearn: 2297.6963451\ttotal: 727ms\tremaining: 727ms\n",
      "50:\tlearn: 2289.1194196\ttotal: 741ms\tremaining: 712ms\n",
      "51:\tlearn: 2281.2564778\ttotal: 756ms\tremaining: 698ms\n",
      "52:\tlearn: 2270.4404044\ttotal: 770ms\tremaining: 683ms\n",
      "53:\tlearn: 2262.3024973\ttotal: 785ms\tremaining: 668ms\n",
      "54:\tlearn: 2253.1646713\ttotal: 799ms\tremaining: 653ms\n",
      "55:\tlearn: 2245.0704648\ttotal: 812ms\tremaining: 638ms\n",
      "56:\tlearn: 2238.3879098\ttotal: 826ms\tremaining: 623ms\n",
      "57:\tlearn: 2231.3418781\ttotal: 840ms\tremaining: 608ms\n",
      "58:\tlearn: 2224.7394491\ttotal: 853ms\tremaining: 593ms\n",
      "59:\tlearn: 2218.1818001\ttotal: 866ms\tremaining: 577ms\n",
      "60:\tlearn: 2212.2715874\ttotal: 879ms\tremaining: 562ms\n",
      "61:\tlearn: 2206.0460476\ttotal: 893ms\tremaining: 547ms\n",
      "62:\tlearn: 2200.3959303\ttotal: 906ms\tremaining: 532ms\n",
      "63:\tlearn: 2195.2739193\ttotal: 922ms\tremaining: 519ms\n",
      "64:\tlearn: 2190.4221846\ttotal: 939ms\tremaining: 506ms\n",
      "65:\tlearn: 2185.1789229\ttotal: 956ms\tremaining: 493ms\n",
      "66:\tlearn: 2179.6220405\ttotal: 974ms\tremaining: 480ms\n",
      "67:\tlearn: 2174.7299133\ttotal: 990ms\tremaining: 466ms\n",
      "68:\tlearn: 2169.8832106\ttotal: 1.01s\tremaining: 453ms\n",
      "69:\tlearn: 2165.4845318\ttotal: 1.02s\tremaining: 439ms\n",
      "70:\tlearn: 2161.0755713\ttotal: 1.04s\tremaining: 425ms\n",
      "71:\tlearn: 2156.0581887\ttotal: 1.06s\tremaining: 412ms\n",
      "72:\tlearn: 2151.8010523\ttotal: 1.08s\tremaining: 398ms\n",
      "73:\tlearn: 2147.6866972\ttotal: 1.09s\tremaining: 384ms\n",
      "74:\tlearn: 2144.3791901\ttotal: 1.11s\tremaining: 370ms\n",
      "75:\tlearn: 2141.0632234\ttotal: 1.13s\tremaining: 355ms\n",
      "76:\tlearn: 2136.7563236\ttotal: 1.14s\tremaining: 340ms\n",
      "77:\tlearn: 2133.3726683\ttotal: 1.15s\tremaining: 326ms\n",
      "78:\tlearn: 2128.6713460\ttotal: 1.17s\tremaining: 311ms\n",
      "79:\tlearn: 2124.7542678\ttotal: 1.18s\tremaining: 296ms\n",
      "80:\tlearn: 2121.5927123\ttotal: 1.2s\tremaining: 281ms\n",
      "81:\tlearn: 2118.1349165\ttotal: 1.22s\tremaining: 267ms\n",
      "82:\tlearn: 2115.3602159\ttotal: 1.23s\tremaining: 252ms\n",
      "83:\tlearn: 2111.3093668\ttotal: 1.25s\tremaining: 237ms\n",
      "84:\tlearn: 2108.0431976\ttotal: 1.26s\tremaining: 223ms\n",
      "85:\tlearn: 2104.4007602\ttotal: 1.28s\tremaining: 209ms\n",
      "86:\tlearn: 2101.5003785\ttotal: 1.3s\tremaining: 194ms\n",
      "87:\tlearn: 2098.3472296\ttotal: 1.31s\tremaining: 179ms\n",
      "88:\tlearn: 2095.5714950\ttotal: 1.33s\tremaining: 164ms\n",
      "89:\tlearn: 2092.6273186\ttotal: 1.34s\tremaining: 149ms\n",
      "90:\tlearn: 2089.6290803\ttotal: 1.35s\tremaining: 134ms\n",
      "91:\tlearn: 2087.4857538\ttotal: 1.37s\tremaining: 119ms\n",
      "92:\tlearn: 2084.6795843\ttotal: 1.38s\tremaining: 104ms\n",
      "93:\tlearn: 2082.0007465\ttotal: 1.4s\tremaining: 89.1ms\n",
      "94:\tlearn: 2079.6654604\ttotal: 1.41s\tremaining: 74.2ms\n",
      "95:\tlearn: 2077.7955139\ttotal: 1.42s\tremaining: 59.3ms\n",
      "96:\tlearn: 2075.6229317\ttotal: 1.44s\tremaining: 44.4ms\n",
      "97:\tlearn: 2072.9842933\ttotal: 1.45s\tremaining: 29.6ms\n",
      "98:\tlearn: 2071.0690508\ttotal: 1.46s\tremaining: 14.8ms\n",
      "99:\tlearn: 2068.8717977\ttotal: 1.5s\tremaining: 0us\n",
      "0:\tlearn: 4448.3289253\ttotal: 13.7ms\tremaining: 1.36s\n",
      "1:\tlearn: 4313.2159806\ttotal: 27.6ms\tremaining: 1.35s\n",
      "2:\tlearn: 4187.1723228\ttotal: 41.2ms\tremaining: 1.33s\n",
      "3:\tlearn: 4067.2012488\ttotal: 55ms\tremaining: 1.32s\n",
      "4:\tlearn: 3955.2139787\ttotal: 69.4ms\tremaining: 1.32s\n",
      "5:\tlearn: 3849.3278248\ttotal: 84ms\tremaining: 1.31s\n",
      "6:\tlearn: 3753.4475111\ttotal: 98ms\tremaining: 1.3s\n",
      "7:\tlearn: 3657.1333505\ttotal: 112ms\tremaining: 1.28s\n",
      "8:\tlearn: 3574.2509821\ttotal: 126ms\tremaining: 1.27s\n",
      "9:\tlearn: 3489.0922925\ttotal: 141ms\tremaining: 1.27s\n",
      "10:\tlearn: 3414.0824125\ttotal: 155ms\tremaining: 1.26s\n",
      "11:\tlearn: 3341.8354029\ttotal: 169ms\tremaining: 1.24s\n",
      "12:\tlearn: 3278.3101518\ttotal: 184ms\tremaining: 1.23s\n",
      "13:\tlearn: 3218.7714606\ttotal: 199ms\tremaining: 1.22s\n",
      "14:\tlearn: 3157.7177008\ttotal: 214ms\tremaining: 1.21s\n",
      "15:\tlearn: 3103.7307304\ttotal: 228ms\tremaining: 1.2s\n",
      "16:\tlearn: 3054.9328359\ttotal: 242ms\tremaining: 1.18s\n",
      "17:\tlearn: 3009.0659307\ttotal: 257ms\tremaining: 1.17s\n",
      "18:\tlearn: 2963.3945447\ttotal: 272ms\tremaining: 1.16s\n",
      "19:\tlearn: 2921.9120984\ttotal: 286ms\tremaining: 1.14s\n",
      "20:\tlearn: 2880.7493672\ttotal: 300ms\tremaining: 1.13s\n",
      "21:\tlearn: 2844.0246119\ttotal: 316ms\tremaining: 1.12s\n",
      "22:\tlearn: 2806.2233270\ttotal: 330ms\tremaining: 1.1s\n",
      "23:\tlearn: 2769.3840787\ttotal: 345ms\tremaining: 1.09s\n",
      "24:\tlearn: 2736.9518746\ttotal: 358ms\tremaining: 1.07s\n",
      "25:\tlearn: 2708.0062001\ttotal: 373ms\tremaining: 1.06s\n",
      "26:\tlearn: 2678.1443107\ttotal: 387ms\tremaining: 1.05s\n",
      "27:\tlearn: 2653.5621624\ttotal: 404ms\tremaining: 1.04s\n",
      "28:\tlearn: 2629.7773617\ttotal: 419ms\tremaining: 1.02s\n",
      "29:\tlearn: 2605.3958282\ttotal: 433ms\tremaining: 1.01s\n",
      "30:\tlearn: 2584.1097781\ttotal: 446ms\tremaining: 992ms\n",
      "31:\tlearn: 2562.4045414\ttotal: 461ms\tremaining: 979ms\n",
      "32:\tlearn: 2543.7839781\ttotal: 476ms\tremaining: 966ms\n",
      "33:\tlearn: 2524.7893484\ttotal: 494ms\tremaining: 960ms\n",
      "34:\tlearn: 2505.7233079\ttotal: 508ms\tremaining: 944ms\n",
      "35:\tlearn: 2489.8535756\ttotal: 522ms\tremaining: 928ms\n",
      "36:\tlearn: 2473.4011669\ttotal: 536ms\tremaining: 912ms\n",
      "37:\tlearn: 2459.1461098\ttotal: 549ms\tremaining: 895ms\n",
      "38:\tlearn: 2442.5029197\ttotal: 562ms\tremaining: 880ms\n",
      "39:\tlearn: 2427.6755892\ttotal: 575ms\tremaining: 863ms\n",
      "40:\tlearn: 2413.5780269\ttotal: 589ms\tremaining: 847ms\n",
      "41:\tlearn: 2400.9850207\ttotal: 602ms\tremaining: 831ms\n",
      "42:\tlearn: 2386.8240533\ttotal: 616ms\tremaining: 817ms\n",
      "43:\tlearn: 2374.6248331\ttotal: 630ms\tremaining: 801ms\n",
      "44:\tlearn: 2362.7562994\ttotal: 643ms\tremaining: 786ms\n",
      "45:\tlearn: 2351.9931464\ttotal: 656ms\tremaining: 770ms\n",
      "46:\tlearn: 2340.8566338\ttotal: 669ms\tremaining: 755ms\n",
      "47:\tlearn: 2331.0344282\ttotal: 683ms\tremaining: 740ms\n",
      "48:\tlearn: 2321.1450492\ttotal: 697ms\tremaining: 725ms\n",
      "49:\tlearn: 2311.9391800\ttotal: 711ms\tremaining: 711ms\n",
      "50:\tlearn: 2303.7776625\ttotal: 724ms\tremaining: 695ms\n",
      "51:\tlearn: 2293.0228243\ttotal: 737ms\tremaining: 681ms\n",
      "52:\tlearn: 2284.0643838\ttotal: 751ms\tremaining: 666ms\n",
      "53:\tlearn: 2275.4302947\ttotal: 765ms\tremaining: 652ms\n",
      "54:\tlearn: 2268.4689466\ttotal: 778ms\tremaining: 637ms\n",
      "55:\tlearn: 2260.1611992\ttotal: 792ms\tremaining: 622ms\n",
      "56:\tlearn: 2253.7743646\ttotal: 805ms\tremaining: 608ms\n",
      "57:\tlearn: 2247.2680130\ttotal: 818ms\tremaining: 593ms\n",
      "58:\tlearn: 2241.3879482\ttotal: 831ms\tremaining: 578ms\n",
      "59:\tlearn: 2234.0372416\ttotal: 844ms\tremaining: 563ms\n",
      "60:\tlearn: 2225.9373440\ttotal: 866ms\tremaining: 554ms\n",
      "61:\tlearn: 2219.5795392\ttotal: 882ms\tremaining: 541ms\n",
      "62:\tlearn: 2211.7508267\ttotal: 895ms\tremaining: 526ms\n",
      "63:\tlearn: 2207.0499129\ttotal: 908ms\tremaining: 511ms\n",
      "64:\tlearn: 2201.6322719\ttotal: 921ms\tremaining: 496ms\n",
      "65:\tlearn: 2197.3223512\ttotal: 934ms\tremaining: 481ms\n",
      "66:\tlearn: 2191.9594894\ttotal: 948ms\tremaining: 467ms\n",
      "67:\tlearn: 2186.9372669\ttotal: 961ms\tremaining: 452ms\n",
      "68:\tlearn: 2181.7463370\ttotal: 975ms\tremaining: 438ms\n",
      "69:\tlearn: 2176.3725227\ttotal: 990ms\tremaining: 424ms\n",
      "70:\tlearn: 2171.6433000\ttotal: 1s\tremaining: 410ms\n",
      "71:\tlearn: 2166.7289900\ttotal: 1.02s\tremaining: 396ms\n",
      "72:\tlearn: 2162.7812624\ttotal: 1.03s\tremaining: 381ms\n",
      "73:\tlearn: 2157.7040880\ttotal: 1.04s\tremaining: 367ms\n",
      "74:\tlearn: 2153.4524823\ttotal: 1.06s\tremaining: 353ms\n",
      "75:\tlearn: 2149.2897515\ttotal: 1.07s\tremaining: 339ms\n",
      "76:\tlearn: 2145.5938116\ttotal: 1.09s\tremaining: 325ms\n",
      "77:\tlearn: 2141.9140336\ttotal: 1.1s\tremaining: 311ms\n",
      "78:\tlearn: 2138.9353616\ttotal: 1.11s\tremaining: 297ms\n",
      "79:\tlearn: 2134.9370165\ttotal: 1.13s\tremaining: 282ms\n",
      "80:\tlearn: 2131.7750156\ttotal: 1.14s\tremaining: 268ms\n",
      "81:\tlearn: 2128.7369776\ttotal: 1.16s\tremaining: 254ms\n",
      "82:\tlearn: 2125.7020346\ttotal: 1.17s\tremaining: 240ms\n",
      "83:\tlearn: 2122.7574058\ttotal: 1.18s\tremaining: 226ms\n",
      "84:\tlearn: 2120.0096827\ttotal: 1.2s\tremaining: 211ms\n",
      "85:\tlearn: 2117.0279919\ttotal: 1.21s\tremaining: 197ms\n",
      "86:\tlearn: 2114.4665325\ttotal: 1.22s\tremaining: 183ms\n",
      "87:\tlearn: 2110.8444004\ttotal: 1.24s\tremaining: 169ms\n",
      "88:\tlearn: 2108.3507861\ttotal: 1.25s\tremaining: 155ms\n",
      "89:\tlearn: 2104.2576664\ttotal: 1.27s\tremaining: 141ms\n",
      "90:\tlearn: 2101.2023136\ttotal: 1.28s\tremaining: 127ms\n",
      "91:\tlearn: 2098.1153954\ttotal: 1.29s\tremaining: 113ms\n",
      "92:\tlearn: 2095.8085851\ttotal: 1.31s\tremaining: 98.5ms\n",
      "93:\tlearn: 2093.2906138\ttotal: 1.32s\tremaining: 84.4ms\n",
      "94:\tlearn: 2091.4349474\ttotal: 1.34s\tremaining: 70.3ms\n",
      "95:\tlearn: 2088.7774390\ttotal: 1.35s\tremaining: 56.3ms\n",
      "96:\tlearn: 2086.0880727\ttotal: 1.36s\tremaining: 42.2ms\n",
      "97:\tlearn: 2084.0940022\ttotal: 1.38s\tremaining: 28.1ms\n",
      "98:\tlearn: 2081.4361409\ttotal: 1.39s\tremaining: 14.1ms\n",
      "99:\tlearn: 2079.7135170\ttotal: 1.41s\tremaining: 0us\n",
      "0:\tlearn: 4300.1332244\ttotal: 14.2ms\tremaining: 1.41s\n",
      "1:\tlearn: 4046.0362838\ttotal: 27.8ms\tremaining: 1.36s\n",
      "2:\tlearn: 3827.7986517\ttotal: 42.7ms\tremaining: 1.38s\n",
      "3:\tlearn: 3636.0451310\ttotal: 56.5ms\tremaining: 1.35s\n",
      "4:\tlearn: 3465.2996835\ttotal: 70.2ms\tremaining: 1.33s\n",
      "5:\tlearn: 3318.8512166\ttotal: 83.9ms\tremaining: 1.31s\n",
      "6:\tlearn: 3194.8290307\ttotal: 97.7ms\tremaining: 1.3s\n",
      "7:\tlearn: 3077.2680924\ttotal: 111ms\tremaining: 1.28s\n",
      "8:\tlearn: 2980.6924863\ttotal: 124ms\tremaining: 1.25s\n",
      "9:\tlearn: 2891.2813815\ttotal: 138ms\tremaining: 1.25s\n",
      "10:\tlearn: 2815.2440152\ttotal: 152ms\tremaining: 1.23s\n",
      "11:\tlearn: 2747.9734484\ttotal: 166ms\tremaining: 1.22s\n",
      "12:\tlearn: 2690.9435705\ttotal: 179ms\tremaining: 1.2s\n",
      "13:\tlearn: 2633.1656718\ttotal: 193ms\tremaining: 1.19s\n",
      "14:\tlearn: 2584.1266481\ttotal: 207ms\tremaining: 1.17s\n",
      "15:\tlearn: 2540.2115969\ttotal: 220ms\tremaining: 1.16s\n",
      "16:\tlearn: 2503.2827210\ttotal: 234ms\tremaining: 1.14s\n",
      "17:\tlearn: 2471.3937831\ttotal: 247ms\tremaining: 1.13s\n",
      "18:\tlearn: 2435.3493163\ttotal: 261ms\tremaining: 1.11s\n",
      "19:\tlearn: 2405.4640801\ttotal: 275ms\tremaining: 1.1s\n",
      "20:\tlearn: 2377.7690227\ttotal: 288ms\tremaining: 1.08s\n",
      "21:\tlearn: 2353.7618012\ttotal: 302ms\tremaining: 1.07s\n",
      "22:\tlearn: 2327.5066932\ttotal: 315ms\tremaining: 1.06s\n",
      "23:\tlearn: 2305.8859057\ttotal: 329ms\tremaining: 1.04s\n",
      "24:\tlearn: 2286.5616079\ttotal: 345ms\tremaining: 1.03s\n",
      "25:\tlearn: 2267.5526526\ttotal: 360ms\tremaining: 1.02s\n",
      "26:\tlearn: 2250.3155503\ttotal: 381ms\tremaining: 1.03s\n",
      "27:\tlearn: 2236.7663500\ttotal: 402ms\tremaining: 1.03s\n",
      "28:\tlearn: 2223.8368685\ttotal: 416ms\tremaining: 1.02s\n",
      "29:\tlearn: 2212.3654306\ttotal: 429ms\tremaining: 1s\n",
      "30:\tlearn: 2200.6017182\ttotal: 443ms\tremaining: 987ms\n",
      "31:\tlearn: 2189.1702902\ttotal: 457ms\tremaining: 971ms\n",
      "32:\tlearn: 2174.0685683\ttotal: 471ms\tremaining: 957ms\n",
      "33:\tlearn: 2164.6172560\ttotal: 485ms\tremaining: 941ms\n",
      "34:\tlearn: 2156.6136647\ttotal: 498ms\tremaining: 924ms\n",
      "35:\tlearn: 2148.0644590\ttotal: 511ms\tremaining: 908ms\n",
      "36:\tlearn: 2139.8891633\ttotal: 525ms\tremaining: 893ms\n",
      "37:\tlearn: 2133.4363005\ttotal: 538ms\tremaining: 878ms\n",
      "38:\tlearn: 2126.5452963\ttotal: 552ms\tremaining: 863ms\n",
      "39:\tlearn: 2117.0274857\ttotal: 565ms\tremaining: 848ms\n",
      "40:\tlearn: 2110.9365840\ttotal: 580ms\tremaining: 834ms\n",
      "41:\tlearn: 2104.2970373\ttotal: 593ms\tremaining: 819ms\n",
      "42:\tlearn: 2095.8470220\ttotal: 607ms\tremaining: 805ms\n",
      "43:\tlearn: 2089.2661365\ttotal: 621ms\tremaining: 790ms\n",
      "44:\tlearn: 2084.4325119\ttotal: 634ms\tremaining: 775ms\n",
      "45:\tlearn: 2079.6409045\ttotal: 647ms\tremaining: 760ms\n",
      "46:\tlearn: 2074.6027959\ttotal: 663ms\tremaining: 747ms\n",
      "47:\tlearn: 2068.7606681\ttotal: 678ms\tremaining: 734ms\n",
      "48:\tlearn: 2064.0572036\ttotal: 691ms\tremaining: 720ms\n",
      "49:\tlearn: 2060.4981802\ttotal: 705ms\tremaining: 705ms\n",
      "50:\tlearn: 2056.4862988\ttotal: 718ms\tremaining: 690ms\n",
      "51:\tlearn: 2052.2149216\ttotal: 732ms\tremaining: 675ms\n",
      "52:\tlearn: 2048.1822313\ttotal: 746ms\tremaining: 661ms\n",
      "53:\tlearn: 2044.6277221\ttotal: 759ms\tremaining: 646ms\n",
      "54:\tlearn: 2041.7975810\ttotal: 771ms\tremaining: 631ms\n",
      "55:\tlearn: 2036.3189747\ttotal: 785ms\tremaining: 617ms\n",
      "56:\tlearn: 2032.2542358\ttotal: 798ms\tremaining: 602ms\n",
      "57:\tlearn: 2029.2402353\ttotal: 811ms\tremaining: 587ms\n",
      "58:\tlearn: 2026.4872404\ttotal: 826ms\tremaining: 574ms\n",
      "59:\tlearn: 2022.8790990\ttotal: 840ms\tremaining: 560ms\n",
      "60:\tlearn: 2019.0831670\ttotal: 853ms\tremaining: 545ms\n",
      "61:\tlearn: 2016.3221078\ttotal: 868ms\tremaining: 532ms\n",
      "62:\tlearn: 2012.9958890\ttotal: 881ms\tremaining: 518ms\n",
      "63:\tlearn: 2010.4262507\ttotal: 894ms\tremaining: 503ms\n",
      "64:\tlearn: 2006.4342921\ttotal: 908ms\tremaining: 489ms\n",
      "65:\tlearn: 2004.2423274\ttotal: 920ms\tremaining: 474ms\n",
      "66:\tlearn: 2001.6276158\ttotal: 934ms\tremaining: 460ms\n",
      "67:\tlearn: 1999.7017853\ttotal: 946ms\tremaining: 445ms\n",
      "68:\tlearn: 1997.3028938\ttotal: 958ms\tremaining: 431ms\n",
      "69:\tlearn: 1995.1781781\ttotal: 971ms\tremaining: 416ms\n",
      "70:\tlearn: 1992.6624971\ttotal: 983ms\tremaining: 401ms\n",
      "71:\tlearn: 1990.7260522\ttotal: 995ms\tremaining: 387ms\n",
      "72:\tlearn: 1987.8543765\ttotal: 1.01s\tremaining: 373ms\n",
      "73:\tlearn: 1985.2284847\ttotal: 1.02s\tremaining: 359ms\n",
      "74:\tlearn: 1983.2994938\ttotal: 1.03s\tremaining: 345ms\n",
      "75:\tlearn: 1980.9104943\ttotal: 1.05s\tremaining: 331ms\n",
      "76:\tlearn: 1979.3266228\ttotal: 1.06s\tremaining: 316ms\n",
      "77:\tlearn: 1977.5859986\ttotal: 1.07s\tremaining: 302ms\n",
      "78:\tlearn: 1974.3854695\ttotal: 1.08s\tremaining: 288ms\n",
      "79:\tlearn: 1972.2107321\ttotal: 1.1s\tremaining: 274ms\n",
      "80:\tlearn: 1970.4865368\ttotal: 1.11s\tremaining: 260ms\n",
      "81:\tlearn: 1967.9774849\ttotal: 1.12s\tremaining: 246ms\n",
      "82:\tlearn: 1966.5251937\ttotal: 1.13s\tremaining: 232ms\n",
      "83:\tlearn: 1965.2441503\ttotal: 1.15s\tremaining: 218ms\n",
      "84:\tlearn: 1961.3853247\ttotal: 1.16s\tremaining: 205ms\n",
      "85:\tlearn: 1959.9104017\ttotal: 1.17s\tremaining: 191ms\n",
      "86:\tlearn: 1958.1643897\ttotal: 1.18s\tremaining: 177ms\n",
      "87:\tlearn: 1956.7284662\ttotal: 1.2s\tremaining: 163ms\n",
      "88:\tlearn: 1955.4881602\ttotal: 1.21s\tremaining: 149ms\n",
      "89:\tlearn: 1953.6578177\ttotal: 1.22s\tremaining: 136ms\n",
      "90:\tlearn: 1952.1890402\ttotal: 1.24s\tremaining: 122ms\n",
      "91:\tlearn: 1950.6661355\ttotal: 1.25s\tremaining: 109ms\n",
      "92:\tlearn: 1948.7159489\ttotal: 1.26s\tremaining: 95.2ms\n",
      "93:\tlearn: 1945.6756474\ttotal: 1.28s\tremaining: 81.6ms\n",
      "94:\tlearn: 1944.5407286\ttotal: 1.29s\tremaining: 68ms\n",
      "95:\tlearn: 1943.1308012\ttotal: 1.31s\tremaining: 54.7ms\n",
      "96:\tlearn: 1941.7372966\ttotal: 1.33s\tremaining: 41.1ms\n",
      "97:\tlearn: 1940.2363520\ttotal: 1.34s\tremaining: 27.4ms\n",
      "98:\tlearn: 1939.2957565\ttotal: 1.35s\tremaining: 13.7ms\n",
      "99:\tlearn: 1937.9129250\ttotal: 1.37s\tremaining: 0us\n",
      "0:\tlearn: 4308.9566368\ttotal: 14.7ms\tremaining: 1.45s\n",
      "1:\tlearn: 4057.7558506\ttotal: 28.7ms\tremaining: 1.41s\n",
      "2:\tlearn: 3837.7541116\ttotal: 43.3ms\tremaining: 1.4s\n",
      "3:\tlearn: 3641.3241167\ttotal: 57.5ms\tremaining: 1.38s\n",
      "4:\tlearn: 3471.9912968\ttotal: 72.5ms\tremaining: 1.38s\n",
      "5:\tlearn: 3330.8790864\ttotal: 86.5ms\tremaining: 1.35s\n",
      "6:\tlearn: 3202.7482020\ttotal: 101ms\tremaining: 1.34s\n",
      "7:\tlearn: 3088.9363067\ttotal: 115ms\tremaining: 1.33s\n",
      "8:\tlearn: 2984.9702020\ttotal: 133ms\tremaining: 1.35s\n",
      "9:\tlearn: 2897.9728999\ttotal: 148ms\tremaining: 1.33s\n",
      "10:\tlearn: 2823.1002372\ttotal: 163ms\tremaining: 1.32s\n",
      "11:\tlearn: 2755.6698724\ttotal: 177ms\tremaining: 1.3s\n",
      "12:\tlearn: 2698.4321740\ttotal: 192ms\tremaining: 1.28s\n",
      "13:\tlearn: 2638.1595229\ttotal: 206ms\tremaining: 1.26s\n",
      "14:\tlearn: 2589.8550164\ttotal: 221ms\tremaining: 1.25s\n",
      "15:\tlearn: 2547.4133582\ttotal: 235ms\tremaining: 1.23s\n",
      "16:\tlearn: 2506.8603643\ttotal: 249ms\tremaining: 1.21s\n",
      "17:\tlearn: 2471.9363567\ttotal: 264ms\tremaining: 1.2s\n",
      "18:\tlearn: 2440.6094996\ttotal: 278ms\tremaining: 1.18s\n",
      "19:\tlearn: 2413.0464794\ttotal: 292ms\tremaining: 1.17s\n",
      "20:\tlearn: 2387.1714687\ttotal: 307ms\tremaining: 1.15s\n",
      "21:\tlearn: 2364.5835859\ttotal: 320ms\tremaining: 1.14s\n",
      "22:\tlearn: 2341.8915479\ttotal: 334ms\tremaining: 1.12s\n",
      "23:\tlearn: 2319.8067326\ttotal: 348ms\tremaining: 1.1s\n",
      "24:\tlearn: 2303.0300123\ttotal: 361ms\tremaining: 1.08s\n",
      "25:\tlearn: 2283.1468381\ttotal: 375ms\tremaining: 1.07s\n",
      "26:\tlearn: 2267.1290056\ttotal: 389ms\tremaining: 1.05s\n",
      "27:\tlearn: 2251.2802994\ttotal: 403ms\tremaining: 1.04s\n",
      "28:\tlearn: 2238.4260200\ttotal: 417ms\tremaining: 1.02s\n",
      "29:\tlearn: 2226.5249863\ttotal: 430ms\tremaining: 1s\n",
      "30:\tlearn: 2217.1333108\ttotal: 444ms\tremaining: 989ms\n",
      "31:\tlearn: 2203.6878597\ttotal: 458ms\tremaining: 974ms\n",
      "32:\tlearn: 2192.4294506\ttotal: 472ms\tremaining: 958ms\n",
      "33:\tlearn: 2183.8181660\ttotal: 486ms\tremaining: 943ms\n",
      "34:\tlearn: 2173.3273696\ttotal: 500ms\tremaining: 928ms\n",
      "35:\tlearn: 2163.3051796\ttotal: 513ms\tremaining: 912ms\n",
      "36:\tlearn: 2155.0508317\ttotal: 526ms\tremaining: 896ms\n",
      "37:\tlearn: 2145.9789048\ttotal: 540ms\tremaining: 881ms\n",
      "38:\tlearn: 2138.9792001\ttotal: 553ms\tremaining: 864ms\n",
      "39:\tlearn: 2132.9509034\ttotal: 566ms\tremaining: 849ms\n",
      "40:\tlearn: 2124.8821816\ttotal: 580ms\tremaining: 834ms\n",
      "41:\tlearn: 2118.0873504\ttotal: 593ms\tremaining: 819ms\n",
      "42:\tlearn: 2111.9460419\ttotal: 606ms\tremaining: 803ms\n",
      "43:\tlearn: 2106.9509700\ttotal: 619ms\tremaining: 787ms\n",
      "44:\tlearn: 2100.8461374\ttotal: 632ms\tremaining: 772ms\n",
      "45:\tlearn: 2093.6582950\ttotal: 646ms\tremaining: 758ms\n",
      "46:\tlearn: 2088.0962746\ttotal: 659ms\tremaining: 743ms\n",
      "47:\tlearn: 2082.9219138\ttotal: 672ms\tremaining: 728ms\n",
      "48:\tlearn: 2079.2453467\ttotal: 684ms\tremaining: 712ms\n",
      "49:\tlearn: 2074.1797618\ttotal: 698ms\tremaining: 698ms\n",
      "50:\tlearn: 2070.5121713\ttotal: 711ms\tremaining: 683ms\n",
      "51:\tlearn: 2066.7673077\ttotal: 724ms\tremaining: 668ms\n",
      "52:\tlearn: 2062.8077221\ttotal: 738ms\tremaining: 654ms\n",
      "53:\tlearn: 2058.6320993\ttotal: 751ms\tremaining: 640ms\n",
      "54:\tlearn: 2053.6475141\ttotal: 765ms\tremaining: 626ms\n",
      "55:\tlearn: 2050.8797593\ttotal: 777ms\tremaining: 610ms\n",
      "56:\tlearn: 2046.9683363\ttotal: 790ms\tremaining: 596ms\n",
      "57:\tlearn: 2043.9261010\ttotal: 802ms\tremaining: 581ms\n",
      "58:\tlearn: 2041.0745505\ttotal: 815ms\tremaining: 566ms\n",
      "59:\tlearn: 2037.1048953\ttotal: 828ms\tremaining: 552ms\n",
      "60:\tlearn: 2032.2138044\ttotal: 842ms\tremaining: 538ms\n",
      "61:\tlearn: 2029.1486199\ttotal: 854ms\tremaining: 523ms\n",
      "62:\tlearn: 2024.9923282\ttotal: 868ms\tremaining: 510ms\n",
      "63:\tlearn: 2022.6485408\ttotal: 880ms\tremaining: 495ms\n",
      "64:\tlearn: 2020.5842405\ttotal: 892ms\tremaining: 480ms\n",
      "65:\tlearn: 2018.2629130\ttotal: 906ms\tremaining: 466ms\n",
      "66:\tlearn: 2016.1573006\ttotal: 918ms\tremaining: 452ms\n",
      "67:\tlearn: 2014.1217404\ttotal: 930ms\tremaining: 438ms\n",
      "68:\tlearn: 2011.0979817\ttotal: 943ms\tremaining: 424ms\n",
      "69:\tlearn: 2006.6934326\ttotal: 957ms\tremaining: 410ms\n",
      "70:\tlearn: 2005.0192991\ttotal: 970ms\tremaining: 396ms\n",
      "71:\tlearn: 2002.4721076\ttotal: 984ms\tremaining: 383ms\n",
      "72:\tlearn: 2000.3579422\ttotal: 996ms\tremaining: 369ms\n",
      "73:\tlearn: 1998.0888324\ttotal: 1.01s\tremaining: 355ms\n",
      "74:\tlearn: 1995.6339044\ttotal: 1.02s\tremaining: 341ms\n",
      "75:\tlearn: 1992.8466978\ttotal: 1.03s\tremaining: 327ms\n",
      "76:\tlearn: 1990.3349441\ttotal: 1.05s\tremaining: 313ms\n",
      "77:\tlearn: 1988.4082689\ttotal: 1.06s\tremaining: 299ms\n",
      "78:\tlearn: 1985.1192375\ttotal: 1.07s\tremaining: 286ms\n",
      "79:\tlearn: 1983.6452534\ttotal: 1.09s\tremaining: 272ms\n",
      "80:\tlearn: 1981.7308221\ttotal: 1.1s\tremaining: 258ms\n",
      "81:\tlearn: 1980.2464332\ttotal: 1.11s\tremaining: 244ms\n",
      "82:\tlearn: 1978.8185478\ttotal: 1.13s\tremaining: 231ms\n",
      "83:\tlearn: 1976.3907367\ttotal: 1.14s\tremaining: 217ms\n",
      "84:\tlearn: 1974.7967942\ttotal: 1.15s\tremaining: 203ms\n",
      "85:\tlearn: 1972.9211272\ttotal: 1.16s\tremaining: 189ms\n",
      "86:\tlearn: 1971.4942750\ttotal: 1.18s\tremaining: 176ms\n",
      "87:\tlearn: 1969.6012502\ttotal: 1.19s\tremaining: 162ms\n",
      "88:\tlearn: 1967.6139466\ttotal: 1.2s\tremaining: 149ms\n",
      "89:\tlearn: 1966.1595783\ttotal: 1.22s\tremaining: 135ms\n",
      "90:\tlearn: 1964.6439951\ttotal: 1.23s\tremaining: 122ms\n",
      "91:\tlearn: 1963.2575387\ttotal: 1.24s\tremaining: 108ms\n",
      "92:\tlearn: 1961.4700913\ttotal: 1.25s\tremaining: 94.5ms\n",
      "93:\tlearn: 1959.5781288\ttotal: 1.27s\tremaining: 81ms\n",
      "94:\tlearn: 1958.0744556\ttotal: 1.28s\tremaining: 67.4ms\n",
      "95:\tlearn: 1956.2301573\ttotal: 1.29s\tremaining: 54ms\n",
      "96:\tlearn: 1954.9683257\ttotal: 1.31s\tremaining: 40.5ms\n",
      "97:\tlearn: 1953.5596398\ttotal: 1.32s\tremaining: 27ms\n",
      "98:\tlearn: 1952.4172292\ttotal: 1.34s\tremaining: 13.5ms\n",
      "99:\tlearn: 1951.1254254\ttotal: 1.36s\tremaining: 0us\n",
      "0:\tlearn: 4553.4605023\ttotal: 20.8ms\tremaining: 602ms\n",
      "1:\tlearn: 4522.9394328\ttotal: 39.7ms\tremaining: 556ms\n",
      "2:\tlearn: 4492.6666683\ttotal: 58.5ms\tremaining: 527ms\n",
      "3:\tlearn: 4463.0845005\ttotal: 75.8ms\tremaining: 493ms\n",
      "4:\tlearn: 4434.2063014\ttotal: 93.7ms\tremaining: 469ms\n",
      "5:\tlearn: 4405.8046114\ttotal: 112ms\tremaining: 447ms\n",
      "6:\tlearn: 4377.0827828\ttotal: 131ms\tremaining: 430ms\n",
      "7:\tlearn: 4349.0952732\ttotal: 148ms\tremaining: 408ms\n",
      "8:\tlearn: 4321.3627543\ttotal: 166ms\tremaining: 387ms\n",
      "9:\tlearn: 4293.8017086\ttotal: 184ms\tremaining: 369ms\n",
      "10:\tlearn: 4266.5093766\ttotal: 204ms\tremaining: 353ms\n",
      "11:\tlearn: 4240.0546807\ttotal: 223ms\tremaining: 335ms\n",
      "12:\tlearn: 4213.4204129\ttotal: 242ms\tremaining: 317ms\n",
      "13:\tlearn: 4187.1586631\ttotal: 263ms\tremaining: 300ms\n",
      "14:\tlearn: 4161.4122347\ttotal: 281ms\tremaining: 281ms\n",
      "15:\tlearn: 4135.8581656\ttotal: 299ms\tremaining: 262ms\n",
      "16:\tlearn: 4110.8976383\ttotal: 317ms\tremaining: 242ms\n",
      "17:\tlearn: 4086.0098354\ttotal: 335ms\tremaining: 223ms\n",
      "18:\tlearn: 4061.2385564\ttotal: 353ms\tremaining: 204ms\n",
      "19:\tlearn: 4036.9628281\ttotal: 371ms\tremaining: 186ms\n",
      "20:\tlearn: 4013.1504531\ttotal: 390ms\tremaining: 167ms\n",
      "21:\tlearn: 3989.6064879\ttotal: 409ms\tremaining: 149ms\n",
      "22:\tlearn: 3966.2889251\ttotal: 428ms\tremaining: 130ms\n",
      "23:\tlearn: 3943.2136406\ttotal: 447ms\tremaining: 112ms\n",
      "24:\tlearn: 3920.3222147\ttotal: 465ms\tremaining: 93ms\n",
      "25:\tlearn: 3897.7032386\ttotal: 483ms\tremaining: 74.4ms\n",
      "26:\tlearn: 3875.5847104\ttotal: 501ms\tremaining: 55.6ms\n",
      "27:\tlearn: 3853.5221735\ttotal: 518ms\tremaining: 37ms\n",
      "28:\tlearn: 3831.8772275\ttotal: 536ms\tremaining: 18.5ms\n",
      "29:\tlearn: 3810.7169267\ttotal: 556ms\tremaining: 0us\n",
      "0:\tlearn: 4560.1640446\ttotal: 24.9ms\tremaining: 723ms\n",
      "1:\tlearn: 4529.9865946\ttotal: 49.4ms\tremaining: 692ms\n",
      "2:\tlearn: 4500.3602284\ttotal: 69.4ms\tremaining: 624ms\n",
      "3:\tlearn: 4470.7222633\ttotal: 88.2ms\tremaining: 573ms\n",
      "4:\tlearn: 4441.4798963\ttotal: 107ms\tremaining: 536ms\n",
      "5:\tlearn: 4412.6885200\ttotal: 126ms\tremaining: 504ms\n",
      "6:\tlearn: 4384.0166848\ttotal: 145ms\tremaining: 476ms\n",
      "7:\tlearn: 4355.6577015\ttotal: 164ms\tremaining: 451ms\n",
      "8:\tlearn: 4328.3328656\ttotal: 183ms\tremaining: 427ms\n",
      "9:\tlearn: 4300.8568614\ttotal: 203ms\tremaining: 406ms\n",
      "10:\tlearn: 4273.5794083\ttotal: 222ms\tremaining: 383ms\n",
      "11:\tlearn: 4247.0349394\ttotal: 242ms\tremaining: 363ms\n",
      "12:\tlearn: 4220.4648493\ttotal: 263ms\tremaining: 344ms\n",
      "13:\tlearn: 4193.9338724\ttotal: 287ms\tremaining: 328ms\n",
      "14:\tlearn: 4168.1890319\ttotal: 311ms\tremaining: 311ms\n",
      "15:\tlearn: 4142.9740642\ttotal: 334ms\tremaining: 293ms\n",
      "16:\tlearn: 4118.0152005\ttotal: 353ms\tremaining: 270ms\n",
      "17:\tlearn: 4092.8898028\ttotal: 373ms\tremaining: 249ms\n",
      "18:\tlearn: 4068.4264345\ttotal: 394ms\tremaining: 228ms\n",
      "19:\tlearn: 4044.0418454\ttotal: 413ms\tremaining: 206ms\n",
      "20:\tlearn: 4020.1380646\ttotal: 432ms\tremaining: 185ms\n",
      "21:\tlearn: 3996.2677913\ttotal: 450ms\tremaining: 164ms\n",
      "22:\tlearn: 3972.8598491\ttotal: 469ms\tremaining: 143ms\n",
      "23:\tlearn: 3949.8016188\ttotal: 490ms\tremaining: 122ms\n",
      "24:\tlearn: 3926.7814100\ttotal: 508ms\tremaining: 102ms\n",
      "25:\tlearn: 3904.2092319\ttotal: 527ms\tremaining: 81.1ms\n",
      "26:\tlearn: 3882.2203035\ttotal: 547ms\tremaining: 60.8ms\n",
      "27:\tlearn: 3860.1439141\ttotal: 566ms\tremaining: 40.5ms\n",
      "28:\tlearn: 3838.6111587\ttotal: 585ms\tremaining: 20.2ms\n",
      "29:\tlearn: 3816.9414416\ttotal: 604ms\tremaining: 0us\n",
      "0:\tlearn: 4431.8040502\ttotal: 18.9ms\tremaining: 548ms\n",
      "1:\tlearn: 4287.3886175\ttotal: 38.4ms\tremaining: 538ms\n",
      "2:\tlearn: 4152.1634434\ttotal: 58.1ms\tremaining: 523ms\n",
      "3:\tlearn: 4026.3711411\ttotal: 76.9ms\tremaining: 500ms\n",
      "4:\tlearn: 3908.0358792\ttotal: 96.5ms\tremaining: 483ms\n",
      "5:\tlearn: 3797.5631617\ttotal: 117ms\tremaining: 467ms\n",
      "6:\tlearn: 3692.3638022\ttotal: 137ms\tremaining: 449ms\n",
      "7:\tlearn: 3596.9372631\ttotal: 155ms\tremaining: 426ms\n",
      "8:\tlearn: 3505.2987991\ttotal: 176ms\tremaining: 410ms\n",
      "9:\tlearn: 3419.6128544\ttotal: 197ms\tremaining: 393ms\n",
      "10:\tlearn: 3339.7587483\ttotal: 223ms\tremaining: 385ms\n",
      "11:\tlearn: 3265.7113929\ttotal: 242ms\tremaining: 363ms\n",
      "12:\tlearn: 3194.3365355\ttotal: 261ms\tremaining: 341ms\n",
      "13:\tlearn: 3127.6506299\ttotal: 280ms\tremaining: 319ms\n",
      "14:\tlearn: 3065.9612632\ttotal: 299ms\tremaining: 299ms\n",
      "15:\tlearn: 3007.9814661\ttotal: 323ms\tremaining: 283ms\n",
      "16:\tlearn: 2954.2500220\ttotal: 344ms\tremaining: 263ms\n",
      "17:\tlearn: 2904.8078016\ttotal: 363ms\tremaining: 242ms\n",
      "18:\tlearn: 2856.1263004\ttotal: 382ms\tremaining: 221ms\n",
      "19:\tlearn: 2812.2434064\ttotal: 400ms\tremaining: 200ms\n",
      "20:\tlearn: 2771.3011217\ttotal: 422ms\tremaining: 181ms\n",
      "21:\tlearn: 2729.1549304\ttotal: 441ms\tremaining: 160ms\n",
      "22:\tlearn: 2693.9795587\ttotal: 460ms\tremaining: 140ms\n",
      "23:\tlearn: 2659.3192015\ttotal: 478ms\tremaining: 119ms\n",
      "24:\tlearn: 2626.4499022\ttotal: 495ms\tremaining: 99.1ms\n",
      "25:\tlearn: 2594.6797314\ttotal: 514ms\tremaining: 79.1ms\n",
      "26:\tlearn: 2564.7492382\ttotal: 532ms\tremaining: 59.1ms\n",
      "27:\tlearn: 2538.6689891\ttotal: 559ms\tremaining: 39.9ms\n",
      "28:\tlearn: 2514.5791473\ttotal: 579ms\tremaining: 20ms\n",
      "29:\tlearn: 2489.2940678\ttotal: 598ms\tremaining: 0us\n",
      "0:\tlearn: 4439.2924070\ttotal: 28.5ms\tremaining: 826ms\n",
      "1:\tlearn: 4296.8281626\ttotal: 52.5ms\tremaining: 734ms\n",
      "2:\tlearn: 4161.4451502\ttotal: 71.1ms\tremaining: 640ms\n",
      "3:\tlearn: 4034.3110212\ttotal: 95.1ms\tremaining: 618ms\n",
      "4:\tlearn: 3915.6970167\ttotal: 114ms\tremaining: 572ms\n",
      "5:\tlearn: 3804.7094575\ttotal: 134ms\tremaining: 537ms\n",
      "6:\tlearn: 3700.0414294\ttotal: 152ms\tremaining: 500ms\n",
      "7:\tlearn: 3601.9641039\ttotal: 170ms\tremaining: 467ms\n",
      "8:\tlearn: 3512.3417123\ttotal: 191ms\tremaining: 447ms\n",
      "9:\tlearn: 3424.4965212\ttotal: 211ms\tremaining: 423ms\n",
      "10:\tlearn: 3342.2369840\ttotal: 230ms\tremaining: 398ms\n",
      "11:\tlearn: 3265.8282889\ttotal: 248ms\tremaining: 372ms\n",
      "12:\tlearn: 3197.1507154\ttotal: 266ms\tremaining: 348ms\n",
      "13:\tlearn: 3130.7707009\ttotal: 283ms\tremaining: 324ms\n",
      "14:\tlearn: 3067.9070144\ttotal: 301ms\tremaining: 301ms\n",
      "15:\tlearn: 3008.4723865\ttotal: 319ms\tremaining: 279ms\n",
      "16:\tlearn: 2951.4184867\ttotal: 336ms\tremaining: 257ms\n",
      "17:\tlearn: 2903.4417527\ttotal: 354ms\tremaining: 236ms\n",
      "18:\tlearn: 2858.3809139\ttotal: 373ms\tremaining: 216ms\n",
      "19:\tlearn: 2812.9619962\ttotal: 390ms\tremaining: 195ms\n",
      "20:\tlearn: 2770.9727449\ttotal: 408ms\tremaining: 175ms\n",
      "21:\tlearn: 2731.4057733\ttotal: 425ms\tremaining: 155ms\n",
      "22:\tlearn: 2695.5543124\ttotal: 443ms\tremaining: 135ms\n",
      "23:\tlearn: 2659.4697757\ttotal: 462ms\tremaining: 116ms\n",
      "24:\tlearn: 2626.6829345\ttotal: 482ms\tremaining: 96.4ms\n",
      "25:\tlearn: 2595.1248686\ttotal: 500ms\tremaining: 76.9ms\n",
      "26:\tlearn: 2565.7004796\ttotal: 518ms\tremaining: 57.5ms\n",
      "27:\tlearn: 2538.6007915\ttotal: 537ms\tremaining: 38.4ms\n",
      "28:\tlearn: 2513.5623123\ttotal: 555ms\tremaining: 19.1ms\n",
      "29:\tlearn: 2489.9078197\ttotal: 574ms\tremaining: 0us\n",
      "0:\tlearn: 4282.2594449\ttotal: 24.5ms\tremaining: 711ms\n",
      "1:\tlearn: 4014.8052018\ttotal: 48.3ms\tremaining: 676ms\n",
      "2:\tlearn: 3779.2598155\ttotal: 70.6ms\tremaining: 635ms\n",
      "3:\tlearn: 3578.1075819\ttotal: 88.2ms\tremaining: 573ms\n",
      "4:\tlearn: 3399.2840511\ttotal: 107ms\tremaining: 536ms\n",
      "5:\tlearn: 3245.4256177\ttotal: 127ms\tremaining: 509ms\n",
      "6:\tlearn: 3102.0484319\ttotal: 147ms\tremaining: 484ms\n",
      "7:\tlearn: 2980.7114026\ttotal: 167ms\tremaining: 459ms\n",
      "8:\tlearn: 2876.2563159\ttotal: 186ms\tremaining: 434ms\n",
      "9:\tlearn: 2785.8576108\ttotal: 204ms\tremaining: 408ms\n",
      "10:\tlearn: 2709.5460426\ttotal: 223ms\tremaining: 385ms\n",
      "11:\tlearn: 2638.3745920\ttotal: 241ms\tremaining: 362ms\n",
      "12:\tlearn: 2575.5112073\ttotal: 260ms\tremaining: 340ms\n",
      "13:\tlearn: 2518.5479314\ttotal: 279ms\tremaining: 318ms\n",
      "14:\tlearn: 2466.9908028\ttotal: 296ms\tremaining: 296ms\n",
      "15:\tlearn: 2424.1917188\ttotal: 314ms\tremaining: 275ms\n",
      "16:\tlearn: 2384.9665855\ttotal: 333ms\tremaining: 255ms\n",
      "17:\tlearn: 2343.8110315\ttotal: 352ms\tremaining: 234ms\n",
      "18:\tlearn: 2311.6841662\ttotal: 370ms\tremaining: 214ms\n",
      "19:\tlearn: 2284.5569883\ttotal: 388ms\tremaining: 194ms\n",
      "20:\tlearn: 2258.3488483\ttotal: 406ms\tremaining: 174ms\n",
      "21:\tlearn: 2232.1639911\ttotal: 423ms\tremaining: 154ms\n",
      "22:\tlearn: 2211.6072590\ttotal: 443ms\tremaining: 135ms\n",
      "23:\tlearn: 2192.9307686\ttotal: 461ms\tremaining: 115ms\n",
      "24:\tlearn: 2176.3431150\ttotal: 482ms\tremaining: 96.5ms\n",
      "25:\tlearn: 2161.4387702\ttotal: 501ms\tremaining: 77.1ms\n",
      "26:\tlearn: 2147.3095798\ttotal: 519ms\tremaining: 57.6ms\n",
      "27:\tlearn: 2129.6958754\ttotal: 538ms\tremaining: 38.4ms\n",
      "28:\tlearn: 2118.8079279\ttotal: 557ms\tremaining: 19.2ms\n",
      "29:\tlearn: 2106.9889816\ttotal: 574ms\tremaining: 0us\n",
      "0:\tlearn: 4290.7439335\ttotal: 31.5ms\tremaining: 915ms\n",
      "1:\tlearn: 4025.6769868\ttotal: 57.6ms\tremaining: 806ms\n",
      "2:\tlearn: 3790.7067054\ttotal: 84.5ms\tremaining: 761ms\n",
      "3:\tlearn: 3584.1853382\ttotal: 103ms\tremaining: 668ms\n",
      "4:\tlearn: 3404.4518730\ttotal: 122ms\tremaining: 610ms\n",
      "5:\tlearn: 3251.7409903\ttotal: 141ms\tremaining: 566ms\n",
      "6:\tlearn: 3114.9440485\ttotal: 160ms\tremaining: 526ms\n",
      "7:\tlearn: 2991.9474810\ttotal: 178ms\tremaining: 490ms\n",
      "8:\tlearn: 2891.5907496\ttotal: 198ms\tremaining: 463ms\n",
      "9:\tlearn: 2797.6131908\ttotal: 220ms\tremaining: 440ms\n",
      "10:\tlearn: 2715.8952968\ttotal: 240ms\tremaining: 414ms\n",
      "11:\tlearn: 2644.0031698\ttotal: 258ms\tremaining: 386ms\n",
      "12:\tlearn: 2581.8859730\ttotal: 276ms\tremaining: 361ms\n",
      "13:\tlearn: 2528.9551218\ttotal: 294ms\tremaining: 336ms\n",
      "14:\tlearn: 2481.7816818\ttotal: 313ms\tremaining: 313ms\n",
      "15:\tlearn: 2437.1643087\ttotal: 330ms\tremaining: 289ms\n",
      "16:\tlearn: 2396.0613514\ttotal: 349ms\tremaining: 267ms\n",
      "17:\tlearn: 2354.1767955\ttotal: 367ms\tremaining: 245ms\n",
      "18:\tlearn: 2321.3403940\ttotal: 386ms\tremaining: 223ms\n",
      "19:\tlearn: 2295.0576872\ttotal: 407ms\tremaining: 203ms\n",
      "20:\tlearn: 2268.4639333\ttotal: 426ms\tremaining: 183ms\n",
      "21:\tlearn: 2245.3257106\ttotal: 445ms\tremaining: 162ms\n",
      "22:\tlearn: 2224.0618251\ttotal: 463ms\tremaining: 141ms\n",
      "23:\tlearn: 2201.6733434\ttotal: 482ms\tremaining: 120ms\n",
      "24:\tlearn: 2183.9210175\ttotal: 501ms\tremaining: 100ms\n",
      "25:\tlearn: 2164.5525692\ttotal: 520ms\tremaining: 80ms\n",
      "26:\tlearn: 2149.2768400\ttotal: 540ms\tremaining: 60ms\n",
      "27:\tlearn: 2136.2839891\ttotal: 558ms\tremaining: 39.9ms\n",
      "28:\tlearn: 2125.3372089\ttotal: 576ms\tremaining: 19.9ms\n",
      "29:\tlearn: 2113.8223309\ttotal: 596ms\tremaining: 0us\n",
      "0:\tlearn: 4553.4605023\ttotal: 18.6ms\tremaining: 909ms\n",
      "1:\tlearn: 4522.9394328\ttotal: 37ms\tremaining: 887ms\n",
      "2:\tlearn: 4492.6666683\ttotal: 55.7ms\tremaining: 873ms\n",
      "3:\tlearn: 4463.0845005\ttotal: 75.9ms\tremaining: 873ms\n",
      "4:\tlearn: 4434.2063014\ttotal: 93.9ms\tremaining: 845ms\n",
      "5:\tlearn: 4405.8046114\ttotal: 112ms\tremaining: 821ms\n",
      "6:\tlearn: 4377.0827828\ttotal: 134ms\tremaining: 820ms\n",
      "7:\tlearn: 4349.0952732\ttotal: 152ms\tremaining: 797ms\n",
      "8:\tlearn: 4321.3627543\ttotal: 172ms\tremaining: 785ms\n",
      "9:\tlearn: 4293.8017086\ttotal: 191ms\tremaining: 765ms\n",
      "10:\tlearn: 4266.5093766\ttotal: 210ms\tremaining: 744ms\n",
      "11:\tlearn: 4240.0546807\ttotal: 228ms\tremaining: 722ms\n",
      "12:\tlearn: 4213.4204129\ttotal: 250ms\tremaining: 711ms\n",
      "13:\tlearn: 4187.1586631\ttotal: 270ms\tremaining: 695ms\n",
      "14:\tlearn: 4161.4122347\ttotal: 289ms\tremaining: 674ms\n",
      "15:\tlearn: 4135.8581656\ttotal: 318ms\tremaining: 676ms\n",
      "16:\tlearn: 4110.8976383\ttotal: 339ms\tremaining: 659ms\n",
      "17:\tlearn: 4086.0098354\ttotal: 363ms\tremaining: 645ms\n",
      "18:\tlearn: 4061.2385564\ttotal: 381ms\tremaining: 622ms\n",
      "19:\tlearn: 4036.9628281\ttotal: 399ms\tremaining: 598ms\n",
      "20:\tlearn: 4013.1504531\ttotal: 431ms\tremaining: 595ms\n",
      "21:\tlearn: 3989.6064879\ttotal: 452ms\tremaining: 575ms\n",
      "22:\tlearn: 3966.2889251\ttotal: 469ms\tremaining: 551ms\n",
      "23:\tlearn: 3943.2136406\ttotal: 486ms\tremaining: 526ms\n",
      "24:\tlearn: 3920.3222147\ttotal: 503ms\tremaining: 503ms\n",
      "25:\tlearn: 3897.7032386\ttotal: 520ms\tremaining: 480ms\n",
      "26:\tlearn: 3875.5847104\ttotal: 539ms\tremaining: 459ms\n",
      "27:\tlearn: 3853.5221735\ttotal: 556ms\tremaining: 437ms\n",
      "28:\tlearn: 3831.8772275\ttotal: 574ms\tremaining: 415ms\n",
      "29:\tlearn: 3810.7169267\ttotal: 593ms\tremaining: 395ms\n",
      "30:\tlearn: 3789.6767174\ttotal: 611ms\tremaining: 374ms\n",
      "31:\tlearn: 3768.8631175\ttotal: 629ms\tremaining: 354ms\n",
      "32:\tlearn: 3748.4175566\ttotal: 647ms\tremaining: 334ms\n",
      "33:\tlearn: 3728.5985453\ttotal: 676ms\tremaining: 318ms\n",
      "34:\tlearn: 3708.6535691\ttotal: 702ms\tremaining: 301ms\n",
      "35:\tlearn: 3689.2933654\ttotal: 725ms\tremaining: 282ms\n",
      "36:\tlearn: 3669.3504698\ttotal: 744ms\tremaining: 261ms\n",
      "37:\tlearn: 3650.2298739\ttotal: 763ms\tremaining: 241ms\n",
      "38:\tlearn: 3631.2062367\ttotal: 781ms\tremaining: 220ms\n",
      "39:\tlearn: 3612.1180842\ttotal: 801ms\tremaining: 200ms\n",
      "40:\tlearn: 3593.5064405\ttotal: 825ms\tremaining: 181ms\n",
      "41:\tlearn: 3575.0747931\ttotal: 845ms\tremaining: 161ms\n",
      "42:\tlearn: 3556.6228067\ttotal: 865ms\tremaining: 141ms\n",
      "43:\tlearn: 3538.5718258\ttotal: 883ms\tremaining: 120ms\n",
      "44:\tlearn: 3520.4026182\ttotal: 901ms\tremaining: 100ms\n",
      "45:\tlearn: 3502.0059875\ttotal: 920ms\tremaining: 80ms\n",
      "46:\tlearn: 3484.8739367\ttotal: 938ms\tremaining: 59.9ms\n",
      "47:\tlearn: 3467.8705464\ttotal: 957ms\tremaining: 39.9ms\n",
      "48:\tlearn: 3451.1185787\ttotal: 976ms\tremaining: 19.9ms\n",
      "49:\tlearn: 3434.5040333\ttotal: 995ms\tremaining: 0us\n",
      "0:\tlearn: 4560.1640446\ttotal: 30.6ms\tremaining: 1.5s\n",
      "1:\tlearn: 4529.9865946\ttotal: 51.5ms\tremaining: 1.24s\n",
      "2:\tlearn: 4500.3602284\ttotal: 70.9ms\tremaining: 1.11s\n",
      "3:\tlearn: 4470.7222633\ttotal: 89ms\tremaining: 1.02s\n",
      "4:\tlearn: 4441.4798963\ttotal: 107ms\tremaining: 962ms\n",
      "5:\tlearn: 4412.6885200\ttotal: 125ms\tremaining: 918ms\n",
      "6:\tlearn: 4384.0166848\ttotal: 143ms\tremaining: 878ms\n",
      "7:\tlearn: 4355.6577015\ttotal: 161ms\tremaining: 846ms\n",
      "8:\tlearn: 4328.3328656\ttotal: 179ms\tremaining: 816ms\n",
      "9:\tlearn: 4300.8568614\ttotal: 197ms\tremaining: 790ms\n",
      "10:\tlearn: 4273.5794083\ttotal: 215ms\tremaining: 763ms\n",
      "11:\tlearn: 4247.0349394\ttotal: 235ms\tremaining: 743ms\n",
      "12:\tlearn: 4220.4648493\ttotal: 253ms\tremaining: 720ms\n",
      "13:\tlearn: 4193.9338724\ttotal: 272ms\tremaining: 699ms\n",
      "14:\tlearn: 4168.1890319\ttotal: 289ms\tremaining: 675ms\n",
      "15:\tlearn: 4142.9740642\ttotal: 307ms\tremaining: 653ms\n",
      "16:\tlearn: 4118.0152005\ttotal: 325ms\tremaining: 631ms\n",
      "17:\tlearn: 4092.8898028\ttotal: 350ms\tremaining: 622ms\n",
      "18:\tlearn: 4068.4264345\ttotal: 371ms\tremaining: 605ms\n",
      "19:\tlearn: 4044.0418454\ttotal: 399ms\tremaining: 598ms\n",
      "20:\tlearn: 4020.1380646\ttotal: 429ms\tremaining: 592ms\n",
      "21:\tlearn: 3996.2677913\ttotal: 464ms\tremaining: 591ms\n",
      "22:\tlearn: 3972.8598491\ttotal: 490ms\tremaining: 575ms\n",
      "23:\tlearn: 3949.8016188\ttotal: 509ms\tremaining: 551ms\n",
      "24:\tlearn: 3926.7814100\ttotal: 527ms\tremaining: 527ms\n",
      "25:\tlearn: 3904.2092319\ttotal: 548ms\tremaining: 506ms\n",
      "26:\tlearn: 3882.2203035\ttotal: 573ms\tremaining: 488ms\n",
      "27:\tlearn: 3860.1439141\ttotal: 597ms\tremaining: 469ms\n",
      "28:\tlearn: 3838.6111587\ttotal: 621ms\tremaining: 449ms\n",
      "29:\tlearn: 3816.9414416\ttotal: 640ms\tremaining: 427ms\n",
      "30:\tlearn: 3795.8584413\ttotal: 662ms\tremaining: 405ms\n",
      "31:\tlearn: 3774.7946092\ttotal: 681ms\tremaining: 383ms\n",
      "32:\tlearn: 3754.1585038\ttotal: 701ms\tremaining: 361ms\n",
      "33:\tlearn: 3733.8031101\ttotal: 720ms\tremaining: 339ms\n",
      "34:\tlearn: 3713.5628678\ttotal: 739ms\tremaining: 317ms\n",
      "35:\tlearn: 3693.8567605\ttotal: 756ms\tremaining: 294ms\n",
      "36:\tlearn: 3674.3859190\ttotal: 775ms\tremaining: 272ms\n",
      "37:\tlearn: 3655.6614395\ttotal: 794ms\tremaining: 251ms\n",
      "38:\tlearn: 3636.4148891\ttotal: 812ms\tremaining: 229ms\n",
      "39:\tlearn: 3618.2072848\ttotal: 831ms\tremaining: 208ms\n",
      "40:\tlearn: 3599.5178426\ttotal: 850ms\tremaining: 187ms\n",
      "41:\tlearn: 3581.0853529\ttotal: 868ms\tremaining: 165ms\n",
      "42:\tlearn: 3562.9399681\ttotal: 888ms\tremaining: 144ms\n",
      "43:\tlearn: 3544.8927371\ttotal: 908ms\tremaining: 124ms\n",
      "44:\tlearn: 3527.4529701\ttotal: 926ms\tremaining: 103ms\n",
      "45:\tlearn: 3509.9633166\ttotal: 945ms\tremaining: 82.2ms\n",
      "46:\tlearn: 3493.0537368\ttotal: 964ms\tremaining: 61.5ms\n",
      "47:\tlearn: 3476.2904580\ttotal: 983ms\tremaining: 41ms\n",
      "48:\tlearn: 3459.4284282\ttotal: 1s\tremaining: 20.4ms\n",
      "49:\tlearn: 3442.5217160\ttotal: 1.02s\tremaining: 0us\n",
      "0:\tlearn: 4431.8040502\ttotal: 18.2ms\tremaining: 891ms\n",
      "1:\tlearn: 4287.3886175\ttotal: 36.7ms\tremaining: 882ms\n",
      "2:\tlearn: 4152.1634434\ttotal: 54.8ms\tremaining: 858ms\n",
      "3:\tlearn: 4026.3711411\ttotal: 72ms\tremaining: 828ms\n",
      "4:\tlearn: 3908.0358792\ttotal: 89.8ms\tremaining: 808ms\n",
      "5:\tlearn: 3797.5631617\ttotal: 107ms\tremaining: 787ms\n",
      "6:\tlearn: 3692.3638022\ttotal: 125ms\tremaining: 771ms\n",
      "7:\tlearn: 3596.9372631\ttotal: 143ms\tremaining: 751ms\n",
      "8:\tlearn: 3505.2987991\ttotal: 161ms\tremaining: 732ms\n",
      "9:\tlearn: 3419.6128544\ttotal: 178ms\tremaining: 710ms\n",
      "10:\tlearn: 3339.7587483\ttotal: 196ms\tremaining: 695ms\n",
      "11:\tlearn: 3265.7113929\ttotal: 217ms\tremaining: 686ms\n",
      "12:\tlearn: 3194.3365355\ttotal: 236ms\tremaining: 671ms\n",
      "13:\tlearn: 3127.6506299\ttotal: 254ms\tremaining: 652ms\n",
      "14:\tlearn: 3065.9612632\ttotal: 272ms\tremaining: 634ms\n",
      "15:\tlearn: 3007.9814661\ttotal: 292ms\tremaining: 620ms\n",
      "16:\tlearn: 2954.2500220\ttotal: 311ms\tremaining: 603ms\n",
      "17:\tlearn: 2904.8078016\ttotal: 329ms\tremaining: 585ms\n",
      "18:\tlearn: 2856.1263004\ttotal: 348ms\tremaining: 568ms\n",
      "19:\tlearn: 2812.2434064\ttotal: 365ms\tremaining: 548ms\n",
      "20:\tlearn: 2771.3011217\ttotal: 386ms\tremaining: 533ms\n",
      "21:\tlearn: 2729.1549304\ttotal: 404ms\tremaining: 514ms\n",
      "22:\tlearn: 2693.9795587\ttotal: 425ms\tremaining: 499ms\n",
      "23:\tlearn: 2659.3192015\ttotal: 453ms\tremaining: 491ms\n",
      "24:\tlearn: 2626.4499022\ttotal: 479ms\tremaining: 479ms\n",
      "25:\tlearn: 2594.6797314\ttotal: 508ms\tremaining: 469ms\n",
      "26:\tlearn: 2564.7492382\ttotal: 535ms\tremaining: 455ms\n",
      "27:\tlearn: 2538.6689891\ttotal: 561ms\tremaining: 441ms\n",
      "28:\tlearn: 2514.5791473\ttotal: 578ms\tremaining: 419ms\n",
      "29:\tlearn: 2489.2940678\ttotal: 596ms\tremaining: 397ms\n",
      "30:\tlearn: 2465.9904478\ttotal: 615ms\tremaining: 377ms\n",
      "31:\tlearn: 2440.7193024\ttotal: 634ms\tremaining: 357ms\n",
      "32:\tlearn: 2419.4265934\ttotal: 652ms\tremaining: 336ms\n",
      "33:\tlearn: 2400.0461516\ttotal: 671ms\tremaining: 316ms\n",
      "34:\tlearn: 2381.0536722\ttotal: 689ms\tremaining: 295ms\n",
      "35:\tlearn: 2364.7214845\ttotal: 707ms\tremaining: 275ms\n",
      "36:\tlearn: 2348.9139843\ttotal: 725ms\tremaining: 255ms\n",
      "37:\tlearn: 2332.8929717\ttotal: 744ms\tremaining: 235ms\n",
      "38:\tlearn: 2317.5972051\ttotal: 762ms\tremaining: 215ms\n",
      "39:\tlearn: 2303.1098926\ttotal: 781ms\tremaining: 195ms\n",
      "40:\tlearn: 2288.0689738\ttotal: 799ms\tremaining: 175ms\n",
      "41:\tlearn: 2274.8993455\ttotal: 817ms\tremaining: 156ms\n",
      "42:\tlearn: 2259.5685823\ttotal: 835ms\tremaining: 136ms\n",
      "43:\tlearn: 2247.9165396\ttotal: 854ms\tremaining: 116ms\n",
      "44:\tlearn: 2235.3962814\ttotal: 872ms\tremaining: 96.9ms\n",
      "45:\tlearn: 2224.6150727\ttotal: 889ms\tremaining: 77.3ms\n",
      "46:\tlearn: 2214.6232258\ttotal: 906ms\tremaining: 57.8ms\n",
      "47:\tlearn: 2205.5019085\ttotal: 923ms\tremaining: 38.4ms\n",
      "48:\tlearn: 2197.2048169\ttotal: 941ms\tremaining: 19.2ms\n",
      "49:\tlearn: 2186.1346313\ttotal: 959ms\tremaining: 0us\n",
      "0:\tlearn: 4439.2924070\ttotal: 17.3ms\tremaining: 848ms\n",
      "1:\tlearn: 4296.8281626\ttotal: 37.4ms\tremaining: 898ms\n",
      "2:\tlearn: 4161.4451502\ttotal: 55.7ms\tremaining: 872ms\n",
      "3:\tlearn: 4034.3110212\ttotal: 73.6ms\tremaining: 847ms\n",
      "4:\tlearn: 3915.6970167\ttotal: 91.3ms\tremaining: 822ms\n",
      "5:\tlearn: 3804.7094575\ttotal: 109ms\tremaining: 801ms\n",
      "6:\tlearn: 3700.0414294\ttotal: 126ms\tremaining: 775ms\n",
      "7:\tlearn: 3601.9641039\ttotal: 148ms\tremaining: 777ms\n",
      "8:\tlearn: 3512.3417123\ttotal: 166ms\tremaining: 758ms\n",
      "9:\tlearn: 3424.4965212\ttotal: 187ms\tremaining: 748ms\n",
      "10:\tlearn: 3342.2369840\ttotal: 205ms\tremaining: 728ms\n",
      "11:\tlearn: 3265.8282889\ttotal: 226ms\tremaining: 714ms\n",
      "12:\tlearn: 3197.1507154\ttotal: 244ms\tremaining: 693ms\n",
      "13:\tlearn: 3130.7707009\ttotal: 262ms\tremaining: 675ms\n",
      "14:\tlearn: 3067.9070144\ttotal: 281ms\tremaining: 656ms\n",
      "15:\tlearn: 3008.4723865\ttotal: 299ms\tremaining: 636ms\n",
      "16:\tlearn: 2951.4184867\ttotal: 317ms\tremaining: 616ms\n",
      "17:\tlearn: 2903.4417527\ttotal: 336ms\tremaining: 597ms\n",
      "18:\tlearn: 2858.3809139\ttotal: 355ms\tremaining: 579ms\n",
      "19:\tlearn: 2812.9619962\ttotal: 374ms\tremaining: 561ms\n",
      "20:\tlearn: 2770.9727449\ttotal: 392ms\tremaining: 541ms\n",
      "21:\tlearn: 2731.4057733\ttotal: 409ms\tremaining: 521ms\n",
      "22:\tlearn: 2695.5543124\ttotal: 428ms\tremaining: 503ms\n",
      "23:\tlearn: 2659.4697757\ttotal: 446ms\tremaining: 484ms\n",
      "24:\tlearn: 2626.6829345\ttotal: 464ms\tremaining: 464ms\n",
      "25:\tlearn: 2595.1248686\ttotal: 482ms\tremaining: 445ms\n",
      "26:\tlearn: 2565.7004796\ttotal: 500ms\tremaining: 426ms\n",
      "27:\tlearn: 2538.6007915\ttotal: 519ms\tremaining: 408ms\n",
      "28:\tlearn: 2513.5623123\ttotal: 536ms\tremaining: 388ms\n",
      "29:\tlearn: 2489.9078197\ttotal: 554ms\tremaining: 370ms\n",
      "30:\tlearn: 2466.8503952\ttotal: 573ms\tremaining: 351ms\n",
      "31:\tlearn: 2444.5247971\ttotal: 592ms\tremaining: 333ms\n",
      "32:\tlearn: 2425.4096351\ttotal: 610ms\tremaining: 314ms\n",
      "33:\tlearn: 2406.2868709\ttotal: 628ms\tremaining: 296ms\n",
      "34:\tlearn: 2387.4517836\ttotal: 647ms\tremaining: 277ms\n",
      "35:\tlearn: 2369.5949843\ttotal: 665ms\tremaining: 258ms\n",
      "36:\tlearn: 2354.7746171\ttotal: 682ms\tremaining: 240ms\n",
      "37:\tlearn: 2337.7365032\ttotal: 701ms\tremaining: 221ms\n",
      "38:\tlearn: 2323.2882146\ttotal: 720ms\tremaining: 203ms\n",
      "39:\tlearn: 2309.6881366\ttotal: 739ms\tremaining: 185ms\n",
      "40:\tlearn: 2297.1798209\ttotal: 758ms\tremaining: 166ms\n",
      "41:\tlearn: 2283.3602863\ttotal: 778ms\tremaining: 148ms\n",
      "42:\tlearn: 2269.5136875\ttotal: 796ms\tremaining: 130ms\n",
      "43:\tlearn: 2257.8354948\ttotal: 814ms\tremaining: 111ms\n",
      "44:\tlearn: 2244.4666693\ttotal: 833ms\tremaining: 92.6ms\n",
      "45:\tlearn: 2233.8736815\ttotal: 852ms\tremaining: 74.1ms\n",
      "46:\tlearn: 2224.1432075\ttotal: 869ms\tremaining: 55.5ms\n",
      "47:\tlearn: 2213.5892507\ttotal: 887ms\tremaining: 36.9ms\n",
      "48:\tlearn: 2202.4192809\ttotal: 906ms\tremaining: 18.5ms\n",
      "49:\tlearn: 2192.8744278\ttotal: 925ms\tremaining: 0us\n",
      "0:\tlearn: 4282.2594449\ttotal: 18.9ms\tremaining: 924ms\n",
      "1:\tlearn: 4014.8052018\ttotal: 49ms\tremaining: 1.18s\n",
      "2:\tlearn: 3779.2598155\ttotal: 79.7ms\tremaining: 1.25s\n",
      "3:\tlearn: 3578.1075819\ttotal: 98.7ms\tremaining: 1.14s\n",
      "4:\tlearn: 3399.2840511\ttotal: 119ms\tremaining: 1.07s\n",
      "5:\tlearn: 3245.4256177\ttotal: 138ms\tremaining: 1.01s\n",
      "6:\tlearn: 3102.0484319\ttotal: 159ms\tremaining: 976ms\n",
      "7:\tlearn: 2980.7114026\ttotal: 179ms\tremaining: 942ms\n",
      "8:\tlearn: 2876.2563159\ttotal: 200ms\tremaining: 912ms\n",
      "9:\tlearn: 2785.8576108\ttotal: 218ms\tremaining: 872ms\n",
      "10:\tlearn: 2709.5460426\ttotal: 237ms\tremaining: 840ms\n",
      "11:\tlearn: 2638.3745920\ttotal: 255ms\tremaining: 809ms\n",
      "12:\tlearn: 2575.5112073\ttotal: 274ms\tremaining: 781ms\n",
      "13:\tlearn: 2518.5479314\ttotal: 292ms\tremaining: 752ms\n",
      "14:\tlearn: 2466.9908028\ttotal: 311ms\tremaining: 725ms\n",
      "15:\tlearn: 2424.1917188\ttotal: 329ms\tremaining: 699ms\n",
      "16:\tlearn: 2384.9665855\ttotal: 347ms\tremaining: 674ms\n",
      "17:\tlearn: 2343.8110315\ttotal: 366ms\tremaining: 650ms\n",
      "18:\tlearn: 2311.6841662\ttotal: 383ms\tremaining: 625ms\n",
      "19:\tlearn: 2284.5569883\ttotal: 401ms\tremaining: 602ms\n",
      "20:\tlearn: 2258.3488483\ttotal: 420ms\tremaining: 580ms\n",
      "21:\tlearn: 2232.1639911\ttotal: 439ms\tremaining: 559ms\n",
      "22:\tlearn: 2211.6072590\ttotal: 456ms\tremaining: 536ms\n",
      "23:\tlearn: 2192.9307686\ttotal: 475ms\tremaining: 515ms\n",
      "24:\tlearn: 2176.3431150\ttotal: 493ms\tremaining: 493ms\n",
      "25:\tlearn: 2161.4387702\ttotal: 511ms\tremaining: 471ms\n",
      "26:\tlearn: 2147.3095798\ttotal: 528ms\tremaining: 449ms\n",
      "27:\tlearn: 2129.6958754\ttotal: 545ms\tremaining: 428ms\n",
      "28:\tlearn: 2118.8079279\ttotal: 562ms\tremaining: 407ms\n",
      "29:\tlearn: 2106.9889816\ttotal: 580ms\tremaining: 387ms\n",
      "30:\tlearn: 2094.4597351\ttotal: 597ms\tremaining: 366ms\n",
      "31:\tlearn: 2084.9669262\ttotal: 614ms\tremaining: 345ms\n",
      "32:\tlearn: 2075.8825625\ttotal: 632ms\tremaining: 326ms\n",
      "33:\tlearn: 2066.4761030\ttotal: 649ms\tremaining: 306ms\n",
      "34:\tlearn: 2057.7054210\ttotal: 666ms\tremaining: 286ms\n",
      "35:\tlearn: 2050.2717217\ttotal: 682ms\tremaining: 265ms\n",
      "36:\tlearn: 2044.3361995\ttotal: 699ms\tremaining: 246ms\n",
      "37:\tlearn: 2038.4716672\ttotal: 715ms\tremaining: 226ms\n",
      "38:\tlearn: 2031.2514835\ttotal: 732ms\tremaining: 207ms\n",
      "39:\tlearn: 2026.2469668\ttotal: 749ms\tremaining: 187ms\n",
      "40:\tlearn: 2018.5244179\ttotal: 767ms\tremaining: 168ms\n",
      "41:\tlearn: 2011.9798266\ttotal: 785ms\tremaining: 149ms\n",
      "42:\tlearn: 2005.6501340\ttotal: 802ms\tremaining: 131ms\n",
      "43:\tlearn: 2001.6388183\ttotal: 818ms\tremaining: 111ms\n",
      "44:\tlearn: 1998.0242669\ttotal: 836ms\tremaining: 92.9ms\n",
      "45:\tlearn: 1994.3642290\ttotal: 851ms\tremaining: 74ms\n",
      "46:\tlearn: 1989.3664874\ttotal: 868ms\tremaining: 55.4ms\n",
      "47:\tlearn: 1984.9364542\ttotal: 885ms\tremaining: 36.9ms\n",
      "48:\tlearn: 1982.0749494\ttotal: 899ms\tremaining: 18.3ms\n",
      "49:\tlearn: 1979.3839626\ttotal: 914ms\tremaining: 0us\n",
      "0:\tlearn: 4290.7439335\ttotal: 18.6ms\tremaining: 910ms\n",
      "1:\tlearn: 4025.6769868\ttotal: 36.8ms\tremaining: 884ms\n",
      "2:\tlearn: 3790.7067054\ttotal: 54.8ms\tremaining: 858ms\n",
      "3:\tlearn: 3584.1853382\ttotal: 71.5ms\tremaining: 822ms\n",
      "4:\tlearn: 3404.4518730\ttotal: 89.3ms\tremaining: 803ms\n",
      "5:\tlearn: 3251.7409903\ttotal: 107ms\tremaining: 783ms\n",
      "6:\tlearn: 3114.9440485\ttotal: 124ms\tremaining: 764ms\n",
      "7:\tlearn: 2991.9474810\ttotal: 142ms\tremaining: 746ms\n",
      "8:\tlearn: 2891.5907496\ttotal: 160ms\tremaining: 727ms\n",
      "9:\tlearn: 2797.6131908\ttotal: 178ms\tremaining: 711ms\n",
      "10:\tlearn: 2715.8952968\ttotal: 195ms\tremaining: 693ms\n",
      "11:\tlearn: 2644.0031698\ttotal: 213ms\tremaining: 674ms\n",
      "12:\tlearn: 2581.8859730\ttotal: 230ms\tremaining: 655ms\n",
      "13:\tlearn: 2528.9551218\ttotal: 248ms\tremaining: 638ms\n",
      "14:\tlearn: 2481.7816818\ttotal: 266ms\tremaining: 620ms\n",
      "15:\tlearn: 2437.1643087\ttotal: 283ms\tremaining: 601ms\n",
      "16:\tlearn: 2396.0613514\ttotal: 300ms\tremaining: 583ms\n",
      "17:\tlearn: 2354.1767955\ttotal: 318ms\tremaining: 565ms\n",
      "18:\tlearn: 2321.3403940\ttotal: 335ms\tremaining: 546ms\n",
      "19:\tlearn: 2295.0576872\ttotal: 352ms\tremaining: 528ms\n",
      "20:\tlearn: 2268.4639333\ttotal: 369ms\tremaining: 510ms\n",
      "21:\tlearn: 2245.3257106\ttotal: 386ms\tremaining: 491ms\n",
      "22:\tlearn: 2224.0618251\ttotal: 403ms\tremaining: 473ms\n",
      "23:\tlearn: 2201.6733434\ttotal: 422ms\tremaining: 457ms\n",
      "24:\tlearn: 2183.9210175\ttotal: 439ms\tremaining: 439ms\n",
      "25:\tlearn: 2164.5525692\ttotal: 457ms\tremaining: 422ms\n",
      "26:\tlearn: 2149.2768400\ttotal: 475ms\tremaining: 404ms\n",
      "27:\tlearn: 2136.2839891\ttotal: 493ms\tremaining: 387ms\n",
      "28:\tlearn: 2125.3372089\ttotal: 511ms\tremaining: 370ms\n",
      "29:\tlearn: 2113.8223309\ttotal: 528ms\tremaining: 352ms\n",
      "30:\tlearn: 2102.5976113\ttotal: 545ms\tremaining: 334ms\n",
      "31:\tlearn: 2090.7015208\ttotal: 563ms\tremaining: 317ms\n",
      "32:\tlearn: 2082.0745995\ttotal: 579ms\tremaining: 298ms\n",
      "33:\tlearn: 2071.0760106\ttotal: 597ms\tremaining: 281ms\n",
      "34:\tlearn: 2063.9895023\ttotal: 613ms\tremaining: 263ms\n",
      "35:\tlearn: 2057.5227194\ttotal: 629ms\tremaining: 244ms\n",
      "36:\tlearn: 2050.4952931\ttotal: 645ms\tremaining: 226ms\n",
      "37:\tlearn: 2044.3979428\ttotal: 661ms\tremaining: 209ms\n",
      "38:\tlearn: 2038.5810265\ttotal: 678ms\tremaining: 191ms\n",
      "39:\tlearn: 2033.5572705\ttotal: 694ms\tremaining: 174ms\n",
      "40:\tlearn: 2027.3495806\ttotal: 711ms\tremaining: 156ms\n",
      "41:\tlearn: 2023.2187927\ttotal: 728ms\tremaining: 139ms\n",
      "42:\tlearn: 2018.3821808\ttotal: 745ms\tremaining: 121ms\n",
      "43:\tlearn: 2014.6761596\ttotal: 761ms\tremaining: 104ms\n",
      "44:\tlearn: 2010.2985986\ttotal: 778ms\tremaining: 86.4ms\n",
      "45:\tlearn: 2006.0004204\ttotal: 793ms\tremaining: 69ms\n",
      "46:\tlearn: 2001.4035576\ttotal: 810ms\tremaining: 51.7ms\n",
      "47:\tlearn: 1997.6500325\ttotal: 826ms\tremaining: 34.4ms\n",
      "48:\tlearn: 1992.6775343\ttotal: 843ms\tremaining: 17.2ms\n",
      "49:\tlearn: 1988.9672825\ttotal: 861ms\tremaining: 0us\n",
      "0:\tlearn: 4553.4605023\ttotal: 19.9ms\tremaining: 1.97s\n",
      "1:\tlearn: 4522.9394328\ttotal: 40.6ms\tremaining: 1.99s\n",
      "2:\tlearn: 4492.6666683\ttotal: 60.1ms\tremaining: 1.94s\n",
      "3:\tlearn: 4463.0845005\ttotal: 78.1ms\tremaining: 1.87s\n",
      "4:\tlearn: 4434.2063014\ttotal: 97.2ms\tremaining: 1.85s\n",
      "5:\tlearn: 4405.8046114\ttotal: 115ms\tremaining: 1.79s\n",
      "6:\tlearn: 4377.0827828\ttotal: 134ms\tremaining: 1.78s\n",
      "7:\tlearn: 4349.0952732\ttotal: 151ms\tremaining: 1.74s\n",
      "8:\tlearn: 4321.3627543\ttotal: 169ms\tremaining: 1.71s\n",
      "9:\tlearn: 4293.8017086\ttotal: 187ms\tremaining: 1.69s\n",
      "10:\tlearn: 4266.5093766\ttotal: 206ms\tremaining: 1.66s\n",
      "11:\tlearn: 4240.0546807\ttotal: 224ms\tremaining: 1.64s\n",
      "12:\tlearn: 4213.4204129\ttotal: 242ms\tremaining: 1.62s\n",
      "13:\tlearn: 4187.1586631\ttotal: 261ms\tremaining: 1.6s\n",
      "14:\tlearn: 4161.4122347\ttotal: 278ms\tremaining: 1.58s\n",
      "15:\tlearn: 4135.8581656\ttotal: 296ms\tremaining: 1.55s\n",
      "16:\tlearn: 4110.8976383\ttotal: 313ms\tremaining: 1.53s\n",
      "17:\tlearn: 4086.0098354\ttotal: 332ms\tremaining: 1.51s\n",
      "18:\tlearn: 4061.2385564\ttotal: 350ms\tremaining: 1.49s\n",
      "19:\tlearn: 4036.9628281\ttotal: 368ms\tremaining: 1.47s\n",
      "20:\tlearn: 4013.1504531\ttotal: 386ms\tremaining: 1.45s\n",
      "21:\tlearn: 3989.6064879\ttotal: 405ms\tremaining: 1.43s\n",
      "22:\tlearn: 3966.2889251\ttotal: 423ms\tremaining: 1.42s\n",
      "23:\tlearn: 3943.2136406\ttotal: 441ms\tremaining: 1.4s\n",
      "24:\tlearn: 3920.3222147\ttotal: 459ms\tremaining: 1.38s\n",
      "25:\tlearn: 3897.7032386\ttotal: 477ms\tremaining: 1.36s\n",
      "26:\tlearn: 3875.5847104\ttotal: 495ms\tremaining: 1.34s\n",
      "27:\tlearn: 3853.5221735\ttotal: 514ms\tremaining: 1.32s\n",
      "28:\tlearn: 3831.8772275\ttotal: 532ms\tremaining: 1.3s\n",
      "29:\tlearn: 3810.7169267\ttotal: 549ms\tremaining: 1.28s\n",
      "30:\tlearn: 3789.6767174\ttotal: 567ms\tremaining: 1.26s\n",
      "31:\tlearn: 3768.8631175\ttotal: 585ms\tremaining: 1.24s\n",
      "32:\tlearn: 3748.4175566\ttotal: 602ms\tremaining: 1.22s\n",
      "33:\tlearn: 3728.5985453\ttotal: 621ms\tremaining: 1.2s\n",
      "34:\tlearn: 3708.6535691\ttotal: 638ms\tremaining: 1.18s\n",
      "35:\tlearn: 3689.2933654\ttotal: 656ms\tremaining: 1.17s\n",
      "36:\tlearn: 3669.3504698\ttotal: 674ms\tremaining: 1.15s\n",
      "37:\tlearn: 3650.2298739\ttotal: 694ms\tremaining: 1.13s\n",
      "38:\tlearn: 3631.2062367\ttotal: 713ms\tremaining: 1.11s\n",
      "39:\tlearn: 3612.1180842\ttotal: 731ms\tremaining: 1.1s\n",
      "40:\tlearn: 3593.5064405\ttotal: 750ms\tremaining: 1.08s\n",
      "41:\tlearn: 3575.0747931\ttotal: 770ms\tremaining: 1.06s\n",
      "42:\tlearn: 3556.6228067\ttotal: 789ms\tremaining: 1.04s\n",
      "43:\tlearn: 3538.5718258\ttotal: 809ms\tremaining: 1.03s\n",
      "44:\tlearn: 3520.4026182\ttotal: 833ms\tremaining: 1.02s\n",
      "45:\tlearn: 3502.0059875\ttotal: 855ms\tremaining: 1s\n",
      "46:\tlearn: 3484.8739367\ttotal: 873ms\tremaining: 985ms\n",
      "47:\tlearn: 3467.8705464\ttotal: 894ms\tremaining: 969ms\n",
      "48:\tlearn: 3451.1185787\ttotal: 914ms\tremaining: 952ms\n",
      "49:\tlearn: 3434.5040333\ttotal: 935ms\tremaining: 935ms\n",
      "50:\tlearn: 3418.1148798\ttotal: 954ms\tremaining: 917ms\n",
      "51:\tlearn: 3401.9786989\ttotal: 973ms\tremaining: 898ms\n",
      "52:\tlearn: 3386.3071635\ttotal: 992ms\tremaining: 880ms\n",
      "53:\tlearn: 3370.4056480\ttotal: 1.01s\tremaining: 862ms\n",
      "54:\tlearn: 3354.4813375\ttotal: 1.03s\tremaining: 844ms\n",
      "55:\tlearn: 3338.8172430\ttotal: 1.05s\tremaining: 825ms\n",
      "56:\tlearn: 3323.5888088\ttotal: 1.07s\tremaining: 806ms\n",
      "57:\tlearn: 3308.4283855\ttotal: 1.09s\tremaining: 789ms\n",
      "58:\tlearn: 3293.6092949\ttotal: 1.11s\tremaining: 770ms\n",
      "59:\tlearn: 3279.7276129\ttotal: 1.13s\tremaining: 750ms\n",
      "60:\tlearn: 3265.3403386\ttotal: 1.14s\tremaining: 731ms\n",
      "61:\tlearn: 3250.8338947\ttotal: 1.16s\tremaining: 712ms\n",
      "62:\tlearn: 3236.4285357\ttotal: 1.18s\tremaining: 692ms\n",
      "63:\tlearn: 3222.2746012\ttotal: 1.2s\tremaining: 673ms\n",
      "64:\tlearn: 3208.3765286\ttotal: 1.21s\tremaining: 654ms\n",
      "65:\tlearn: 3194.7398914\ttotal: 1.23s\tremaining: 636ms\n",
      "66:\tlearn: 3181.0303729\ttotal: 1.25s\tremaining: 617ms\n",
      "67:\tlearn: 3168.3182901\ttotal: 1.27s\tremaining: 597ms\n",
      "68:\tlearn: 3154.8062275\ttotal: 1.29s\tremaining: 578ms\n",
      "69:\tlearn: 3142.1392579\ttotal: 1.3s\tremaining: 559ms\n",
      "70:\tlearn: 3129.4279006\ttotal: 1.32s\tremaining: 540ms\n",
      "71:\tlearn: 3116.7036223\ttotal: 1.34s\tremaining: 522ms\n",
      "72:\tlearn: 3104.7015511\ttotal: 1.36s\tremaining: 503ms\n",
      "73:\tlearn: 3092.2882946\ttotal: 1.38s\tremaining: 484ms\n",
      "74:\tlearn: 3080.2766593\ttotal: 1.39s\tremaining: 465ms\n",
      "75:\tlearn: 3067.9643383\ttotal: 1.41s\tremaining: 446ms\n",
      "76:\tlearn: 3055.6829071\ttotal: 1.43s\tremaining: 427ms\n",
      "77:\tlearn: 3044.0194654\ttotal: 1.45s\tremaining: 408ms\n",
      "78:\tlearn: 3032.3294750\ttotal: 1.46s\tremaining: 389ms\n",
      "79:\tlearn: 3020.9377850\ttotal: 1.48s\tremaining: 371ms\n",
      "80:\tlearn: 3009.9233497\ttotal: 1.5s\tremaining: 352ms\n",
      "81:\tlearn: 2998.5616929\ttotal: 1.52s\tremaining: 334ms\n",
      "82:\tlearn: 2987.5732531\ttotal: 1.54s\tremaining: 315ms\n",
      "83:\tlearn: 2976.9369707\ttotal: 1.56s\tremaining: 297ms\n",
      "84:\tlearn: 2965.9736075\ttotal: 1.58s\tremaining: 278ms\n",
      "85:\tlearn: 2955.9800631\ttotal: 1.59s\tremaining: 260ms\n",
      "86:\tlearn: 2945.3401188\ttotal: 1.61s\tremaining: 241ms\n",
      "87:\tlearn: 2935.2486145\ttotal: 1.63s\tremaining: 223ms\n",
      "88:\tlearn: 2925.1680401\ttotal: 1.65s\tremaining: 204ms\n",
      "89:\tlearn: 2915.4072882\ttotal: 1.67s\tremaining: 185ms\n",
      "90:\tlearn: 2906.0939878\ttotal: 1.69s\tremaining: 167ms\n",
      "91:\tlearn: 2895.9731088\ttotal: 1.7s\tremaining: 148ms\n",
      "92:\tlearn: 2886.3563322\ttotal: 1.72s\tremaining: 130ms\n",
      "93:\tlearn: 2877.4096911\ttotal: 1.74s\tremaining: 111ms\n",
      "94:\tlearn: 2867.6239672\ttotal: 1.76s\tremaining: 92.5ms\n",
      "95:\tlearn: 2858.7782848\ttotal: 1.78s\tremaining: 74ms\n",
      "96:\tlearn: 2849.5620608\ttotal: 1.79s\tremaining: 55.5ms\n",
      "97:\tlearn: 2840.7055884\ttotal: 1.81s\tremaining: 37ms\n",
      "98:\tlearn: 2831.6160703\ttotal: 1.83s\tremaining: 18.5ms\n",
      "99:\tlearn: 2823.0859746\ttotal: 1.85s\tremaining: 0us\n",
      "0:\tlearn: 4560.1640446\ttotal: 18.6ms\tremaining: 1.84s\n",
      "1:\tlearn: 4529.9865946\ttotal: 38.3ms\tremaining: 1.87s\n",
      "2:\tlearn: 4500.3602284\ttotal: 56.9ms\tremaining: 1.84s\n",
      "3:\tlearn: 4470.7222633\ttotal: 74.6ms\tremaining: 1.79s\n",
      "4:\tlearn: 4441.4798963\ttotal: 94.1ms\tremaining: 1.79s\n",
      "5:\tlearn: 4412.6885200\ttotal: 113ms\tremaining: 1.78s\n",
      "6:\tlearn: 4384.0166848\ttotal: 132ms\tremaining: 1.75s\n",
      "7:\tlearn: 4355.6577015\ttotal: 150ms\tremaining: 1.73s\n",
      "8:\tlearn: 4328.3328656\ttotal: 168ms\tremaining: 1.7s\n",
      "9:\tlearn: 4300.8568614\ttotal: 186ms\tremaining: 1.67s\n",
      "10:\tlearn: 4273.5794083\ttotal: 203ms\tremaining: 1.65s\n",
      "11:\tlearn: 4247.0349394\ttotal: 222ms\tremaining: 1.63s\n",
      "12:\tlearn: 4220.4648493\ttotal: 240ms\tremaining: 1.61s\n",
      "13:\tlearn: 4193.9338724\ttotal: 259ms\tremaining: 1.59s\n",
      "14:\tlearn: 4168.1890319\ttotal: 282ms\tremaining: 1.6s\n",
      "15:\tlearn: 4142.9740642\ttotal: 303ms\tremaining: 1.59s\n",
      "16:\tlearn: 4118.0152005\ttotal: 322ms\tremaining: 1.57s\n",
      "17:\tlearn: 4092.8898028\ttotal: 341ms\tremaining: 1.55s\n",
      "18:\tlearn: 4068.4264345\ttotal: 358ms\tremaining: 1.53s\n",
      "19:\tlearn: 4044.0418454\ttotal: 375ms\tremaining: 1.5s\n",
      "20:\tlearn: 4020.1380646\ttotal: 393ms\tremaining: 1.48s\n",
      "21:\tlearn: 3996.2677913\ttotal: 411ms\tremaining: 1.46s\n",
      "22:\tlearn: 3972.8598491\ttotal: 429ms\tremaining: 1.44s\n",
      "23:\tlearn: 3949.8016188\ttotal: 447ms\tremaining: 1.41s\n",
      "24:\tlearn: 3926.7814100\ttotal: 464ms\tremaining: 1.39s\n",
      "25:\tlearn: 3904.2092319\ttotal: 482ms\tremaining: 1.37s\n",
      "26:\tlearn: 3882.2203035\ttotal: 500ms\tremaining: 1.35s\n",
      "27:\tlearn: 3860.1439141\ttotal: 518ms\tremaining: 1.33s\n",
      "28:\tlearn: 3838.6111587\ttotal: 537ms\tremaining: 1.31s\n",
      "29:\tlearn: 3816.9414416\ttotal: 555ms\tremaining: 1.29s\n",
      "30:\tlearn: 3795.8584413\ttotal: 573ms\tremaining: 1.27s\n",
      "31:\tlearn: 3774.7946092\ttotal: 591ms\tremaining: 1.25s\n",
      "32:\tlearn: 3754.1585038\ttotal: 609ms\tremaining: 1.24s\n",
      "33:\tlearn: 3733.8031101\ttotal: 630ms\tremaining: 1.22s\n",
      "34:\tlearn: 3713.5628678\ttotal: 648ms\tremaining: 1.2s\n",
      "35:\tlearn: 3693.8567605\ttotal: 665ms\tremaining: 1.18s\n",
      "36:\tlearn: 3674.3859190\ttotal: 684ms\tremaining: 1.16s\n",
      "37:\tlearn: 3655.6614395\ttotal: 701ms\tremaining: 1.14s\n",
      "38:\tlearn: 3636.4148891\ttotal: 721ms\tremaining: 1.13s\n",
      "39:\tlearn: 3618.2072848\ttotal: 740ms\tremaining: 1.11s\n",
      "40:\tlearn: 3599.5178426\ttotal: 759ms\tremaining: 1.09s\n",
      "41:\tlearn: 3581.0853529\ttotal: 779ms\tremaining: 1.08s\n",
      "42:\tlearn: 3562.9399681\ttotal: 808ms\tremaining: 1.07s\n",
      "43:\tlearn: 3544.8927371\ttotal: 833ms\tremaining: 1.06s\n",
      "44:\tlearn: 3527.4529701\ttotal: 851ms\tremaining: 1.04s\n",
      "45:\tlearn: 3509.9633166\ttotal: 868ms\tremaining: 1.02s\n",
      "46:\tlearn: 3493.0537368\ttotal: 887ms\tremaining: 1000ms\n",
      "47:\tlearn: 3476.2904580\ttotal: 906ms\tremaining: 982ms\n",
      "48:\tlearn: 3459.4284282\ttotal: 925ms\tremaining: 963ms\n",
      "49:\tlearn: 3442.5217160\ttotal: 944ms\tremaining: 944ms\n",
      "50:\tlearn: 3426.0275700\ttotal: 962ms\tremaining: 925ms\n",
      "51:\tlearn: 3409.6025317\ttotal: 981ms\tremaining: 905ms\n",
      "52:\tlearn: 3393.4604424\ttotal: 1000ms\tremaining: 886ms\n",
      "53:\tlearn: 3377.4385506\ttotal: 1.02s\tremaining: 867ms\n",
      "54:\tlearn: 3361.4088592\ttotal: 1.04s\tremaining: 848ms\n",
      "55:\tlearn: 3345.9288703\ttotal: 1.06s\tremaining: 830ms\n",
      "56:\tlearn: 3330.8046508\ttotal: 1.07s\tremaining: 812ms\n",
      "57:\tlearn: 3315.2512620\ttotal: 1.09s\tremaining: 793ms\n",
      "58:\tlearn: 3300.1060583\ttotal: 1.11s\tremaining: 775ms\n",
      "59:\tlearn: 3285.5477581\ttotal: 1.13s\tremaining: 756ms\n",
      "60:\tlearn: 3271.4354547\ttotal: 1.15s\tremaining: 736ms\n",
      "61:\tlearn: 3256.8461538\ttotal: 1.18s\tremaining: 720ms\n",
      "62:\tlearn: 3242.4652422\ttotal: 1.2s\tremaining: 702ms\n",
      "63:\tlearn: 3228.3481222\ttotal: 1.22s\tremaining: 684ms\n",
      "64:\tlearn: 3214.1869068\ttotal: 1.24s\tremaining: 667ms\n",
      "65:\tlearn: 3200.6644172\ttotal: 1.26s\tremaining: 649ms\n",
      "66:\tlearn: 3187.1254914\ttotal: 1.28s\tremaining: 632ms\n",
      "67:\tlearn: 3173.5637439\ttotal: 1.3s\tremaining: 613ms\n",
      "68:\tlearn: 3160.6642167\ttotal: 1.32s\tremaining: 594ms\n",
      "69:\tlearn: 3147.7997968\ttotal: 1.34s\tremaining: 575ms\n",
      "70:\tlearn: 3134.7539549\ttotal: 1.36s\tremaining: 556ms\n",
      "71:\tlearn: 3122.1606910\ttotal: 1.38s\tremaining: 536ms\n",
      "72:\tlearn: 3109.7471434\ttotal: 1.4s\tremaining: 517ms\n",
      "73:\tlearn: 3097.3444300\ttotal: 1.42s\tremaining: 498ms\n",
      "74:\tlearn: 3085.8073470\ttotal: 1.44s\tremaining: 478ms\n",
      "75:\tlearn: 3073.9557800\ttotal: 1.45s\tremaining: 459ms\n",
      "76:\tlearn: 3062.4777292\ttotal: 1.47s\tremaining: 440ms\n",
      "77:\tlearn: 3050.9746040\ttotal: 1.5s\tremaining: 423ms\n",
      "78:\tlearn: 3039.5061889\ttotal: 1.52s\tremaining: 404ms\n",
      "79:\tlearn: 3028.1067615\ttotal: 1.54s\tremaining: 385ms\n",
      "80:\tlearn: 3017.3546328\ttotal: 1.56s\tremaining: 365ms\n",
      "81:\tlearn: 3005.9996641\ttotal: 1.57s\tremaining: 346ms\n",
      "82:\tlearn: 2994.6604264\ttotal: 1.59s\tremaining: 327ms\n",
      "83:\tlearn: 2984.1075865\ttotal: 1.61s\tremaining: 307ms\n",
      "84:\tlearn: 2973.1473094\ttotal: 1.63s\tremaining: 288ms\n",
      "85:\tlearn: 2962.8494990\ttotal: 1.65s\tremaining: 269ms\n",
      "86:\tlearn: 2952.3886305\ttotal: 1.67s\tremaining: 250ms\n",
      "87:\tlearn: 2942.1025001\ttotal: 1.69s\tremaining: 230ms\n",
      "88:\tlearn: 2932.3428335\ttotal: 1.71s\tremaining: 211ms\n",
      "89:\tlearn: 2922.8471737\ttotal: 1.73s\tremaining: 192ms\n",
      "90:\tlearn: 2912.9565207\ttotal: 1.75s\tremaining: 173ms\n",
      "91:\tlearn: 2903.3717636\ttotal: 1.76s\tremaining: 153ms\n",
      "92:\tlearn: 2893.4814239\ttotal: 1.78s\tremaining: 134ms\n",
      "93:\tlearn: 2884.1049844\ttotal: 1.8s\tremaining: 115ms\n",
      "94:\tlearn: 2874.6284211\ttotal: 1.82s\tremaining: 95.8ms\n",
      "95:\tlearn: 2865.2613914\ttotal: 1.84s\tremaining: 76.7ms\n",
      "96:\tlearn: 2856.2408897\ttotal: 1.86s\tremaining: 57.5ms\n",
      "97:\tlearn: 2846.7739392\ttotal: 1.88s\tremaining: 38.3ms\n",
      "98:\tlearn: 2837.8264074\ttotal: 1.9s\tremaining: 19.2ms\n",
      "99:\tlearn: 2829.1047110\ttotal: 1.92s\tremaining: 0us\n",
      "0:\tlearn: 4431.8040502\ttotal: 19.9ms\tremaining: 1.97s\n",
      "1:\tlearn: 4287.3886175\ttotal: 38.9ms\tremaining: 1.9s\n",
      "2:\tlearn: 4152.1634434\ttotal: 60.4ms\tremaining: 1.95s\n",
      "3:\tlearn: 4026.3711411\ttotal: 83.6ms\tremaining: 2.01s\n",
      "4:\tlearn: 3908.0358792\ttotal: 102ms\tremaining: 1.95s\n",
      "5:\tlearn: 3797.5631617\ttotal: 121ms\tremaining: 1.89s\n",
      "6:\tlearn: 3692.3638022\ttotal: 139ms\tremaining: 1.85s\n",
      "7:\tlearn: 3596.9372631\ttotal: 157ms\tremaining: 1.81s\n",
      "8:\tlearn: 3505.2987991\ttotal: 176ms\tremaining: 1.78s\n",
      "9:\tlearn: 3419.6128544\ttotal: 195ms\tremaining: 1.75s\n",
      "10:\tlearn: 3339.7587483\ttotal: 214ms\tremaining: 1.73s\n",
      "11:\tlearn: 3265.7113929\ttotal: 233ms\tremaining: 1.71s\n",
      "12:\tlearn: 3194.3365355\ttotal: 252ms\tremaining: 1.69s\n",
      "13:\tlearn: 3127.6506299\ttotal: 271ms\tremaining: 1.66s\n",
      "14:\tlearn: 3065.9612632\ttotal: 290ms\tremaining: 1.64s\n",
      "15:\tlearn: 3007.9814661\ttotal: 308ms\tremaining: 1.62s\n",
      "16:\tlearn: 2954.2500220\ttotal: 326ms\tremaining: 1.59s\n",
      "17:\tlearn: 2904.8078016\ttotal: 344ms\tremaining: 1.57s\n",
      "18:\tlearn: 2856.1263004\ttotal: 362ms\tremaining: 1.54s\n",
      "19:\tlearn: 2812.2434064\ttotal: 380ms\tremaining: 1.52s\n",
      "20:\tlearn: 2771.3011217\ttotal: 398ms\tremaining: 1.5s\n",
      "21:\tlearn: 2729.1549304\ttotal: 415ms\tremaining: 1.47s\n",
      "22:\tlearn: 2693.9795587\ttotal: 433ms\tremaining: 1.45s\n",
      "23:\tlearn: 2659.3192015\ttotal: 450ms\tremaining: 1.43s\n",
      "24:\tlearn: 2626.4499022\ttotal: 468ms\tremaining: 1.4s\n",
      "25:\tlearn: 2594.6797314\ttotal: 485ms\tremaining: 1.38s\n",
      "26:\tlearn: 2564.7492382\ttotal: 502ms\tremaining: 1.36s\n",
      "27:\tlearn: 2538.6689891\ttotal: 520ms\tremaining: 1.34s\n",
      "28:\tlearn: 2514.5791473\ttotal: 537ms\tremaining: 1.31s\n",
      "29:\tlearn: 2489.2940678\ttotal: 555ms\tremaining: 1.29s\n",
      "30:\tlearn: 2465.9904478\ttotal: 573ms\tremaining: 1.28s\n",
      "31:\tlearn: 2440.7193024\ttotal: 591ms\tremaining: 1.26s\n",
      "32:\tlearn: 2419.4265934\ttotal: 608ms\tremaining: 1.24s\n",
      "33:\tlearn: 2400.0461516\ttotal: 626ms\tremaining: 1.22s\n",
      "34:\tlearn: 2381.0536722\ttotal: 644ms\tremaining: 1.2s\n",
      "35:\tlearn: 2364.7214845\ttotal: 662ms\tremaining: 1.18s\n",
      "36:\tlearn: 2348.9139843\ttotal: 679ms\tremaining: 1.16s\n",
      "37:\tlearn: 2332.8929717\ttotal: 697ms\tremaining: 1.14s\n",
      "38:\tlearn: 2317.5972051\ttotal: 715ms\tremaining: 1.12s\n",
      "39:\tlearn: 2303.1098926\ttotal: 732ms\tremaining: 1.1s\n",
      "40:\tlearn: 2288.0689738\ttotal: 751ms\tremaining: 1.08s\n",
      "41:\tlearn: 2274.8993455\ttotal: 771ms\tremaining: 1.06s\n",
      "42:\tlearn: 2259.5685823\ttotal: 789ms\tremaining: 1.04s\n",
      "43:\tlearn: 2247.9165396\ttotal: 807ms\tremaining: 1.03s\n",
      "44:\tlearn: 2235.3962814\ttotal: 826ms\tremaining: 1.01s\n",
      "45:\tlearn: 2224.6150727\ttotal: 844ms\tremaining: 991ms\n",
      "46:\tlearn: 2214.6232258\ttotal: 862ms\tremaining: 972ms\n",
      "47:\tlearn: 2205.5019085\ttotal: 879ms\tremaining: 953ms\n",
      "48:\tlearn: 2197.2048169\ttotal: 897ms\tremaining: 933ms\n",
      "49:\tlearn: 2186.1346313\ttotal: 915ms\tremaining: 915ms\n",
      "50:\tlearn: 2175.9933633\ttotal: 932ms\tremaining: 896ms\n",
      "51:\tlearn: 2166.6761913\ttotal: 951ms\tremaining: 878ms\n",
      "52:\tlearn: 2158.7089534\ttotal: 968ms\tremaining: 859ms\n",
      "53:\tlearn: 2151.2995481\ttotal: 985ms\tremaining: 839ms\n",
      "54:\tlearn: 2144.5727404\ttotal: 1s\tremaining: 821ms\n",
      "55:\tlearn: 2137.8864908\ttotal: 1.02s\tremaining: 805ms\n",
      "56:\tlearn: 2131.6302210\ttotal: 1.05s\tremaining: 789ms\n",
      "57:\tlearn: 2125.3784208\ttotal: 1.06s\tremaining: 772ms\n",
      "58:\tlearn: 2118.6092080\ttotal: 1.09s\tremaining: 756ms\n",
      "59:\tlearn: 2111.7936585\ttotal: 1.1s\tremaining: 737ms\n",
      "60:\tlearn: 2105.9347411\ttotal: 1.12s\tremaining: 717ms\n",
      "61:\tlearn: 2100.1122605\ttotal: 1.14s\tremaining: 698ms\n",
      "62:\tlearn: 2093.7177419\ttotal: 1.16s\tremaining: 679ms\n",
      "63:\tlearn: 2089.4050719\ttotal: 1.17s\tremaining: 660ms\n",
      "64:\tlearn: 2084.9889617\ttotal: 1.19s\tremaining: 641ms\n",
      "65:\tlearn: 2080.0388544\ttotal: 1.21s\tremaining: 622ms\n",
      "66:\tlearn: 2075.4796800\ttotal: 1.22s\tremaining: 603ms\n",
      "67:\tlearn: 2071.4470029\ttotal: 1.24s\tremaining: 585ms\n",
      "68:\tlearn: 2067.0483118\ttotal: 1.26s\tremaining: 567ms\n",
      "69:\tlearn: 2061.9708740\ttotal: 1.28s\tremaining: 548ms\n",
      "70:\tlearn: 2057.9111515\ttotal: 1.3s\tremaining: 530ms\n",
      "71:\tlearn: 2054.2467205\ttotal: 1.31s\tremaining: 511ms\n",
      "72:\tlearn: 2050.6566664\ttotal: 1.33s\tremaining: 492ms\n",
      "73:\tlearn: 2046.6510670\ttotal: 1.35s\tremaining: 473ms\n",
      "74:\tlearn: 2042.5029868\ttotal: 1.36s\tremaining: 455ms\n",
      "75:\tlearn: 2039.0845332\ttotal: 1.38s\tremaining: 436ms\n",
      "76:\tlearn: 2035.9914525\ttotal: 1.4s\tremaining: 417ms\n",
      "77:\tlearn: 2032.8570872\ttotal: 1.41s\tremaining: 398ms\n",
      "78:\tlearn: 2030.2399572\ttotal: 1.43s\tremaining: 379ms\n",
      "79:\tlearn: 2026.8939327\ttotal: 1.44s\tremaining: 361ms\n",
      "80:\tlearn: 2024.4686841\ttotal: 1.46s\tremaining: 343ms\n",
      "81:\tlearn: 2021.3703178\ttotal: 1.48s\tremaining: 325ms\n",
      "82:\tlearn: 2018.0440043\ttotal: 1.5s\tremaining: 307ms\n",
      "83:\tlearn: 2015.6537466\ttotal: 1.51s\tremaining: 288ms\n",
      "84:\tlearn: 2012.9372083\ttotal: 1.53s\tremaining: 270ms\n",
      "85:\tlearn: 2010.5448510\ttotal: 1.54s\tremaining: 252ms\n",
      "86:\tlearn: 2008.0486316\ttotal: 1.56s\tremaining: 234ms\n",
      "87:\tlearn: 2006.2679354\ttotal: 1.58s\tremaining: 215ms\n",
      "88:\tlearn: 2003.7670477\ttotal: 1.59s\tremaining: 197ms\n",
      "89:\tlearn: 2001.8337106\ttotal: 1.61s\tremaining: 179ms\n",
      "90:\tlearn: 1999.9439503\ttotal: 1.63s\tremaining: 161ms\n",
      "91:\tlearn: 1997.6892114\ttotal: 1.64s\tremaining: 143ms\n",
      "92:\tlearn: 1995.5822696\ttotal: 1.66s\tremaining: 125ms\n",
      "93:\tlearn: 1993.5775878\ttotal: 1.68s\tremaining: 107ms\n",
      "94:\tlearn: 1991.3552028\ttotal: 1.7s\tremaining: 89.3ms\n",
      "95:\tlearn: 1989.4406403\ttotal: 1.71s\tremaining: 71.4ms\n",
      "96:\tlearn: 1987.8126027\ttotal: 1.73s\tremaining: 53.5ms\n",
      "97:\tlearn: 1985.4433122\ttotal: 1.75s\tremaining: 35.7ms\n",
      "98:\tlearn: 1983.3219977\ttotal: 1.76s\tremaining: 17.8ms\n",
      "99:\tlearn: 1981.8007415\ttotal: 1.78s\tremaining: 0us\n",
      "0:\tlearn: 4439.2924070\ttotal: 18.7ms\tremaining: 1.85s\n",
      "1:\tlearn: 4296.8281626\ttotal: 37.1ms\tremaining: 1.82s\n",
      "2:\tlearn: 4161.4451502\ttotal: 55ms\tremaining: 1.78s\n",
      "3:\tlearn: 4034.3110212\ttotal: 73.2ms\tremaining: 1.76s\n",
      "4:\tlearn: 3915.6970167\ttotal: 95.4ms\tremaining: 1.81s\n",
      "5:\tlearn: 3804.7094575\ttotal: 114ms\tremaining: 1.78s\n",
      "6:\tlearn: 3700.0414294\ttotal: 133ms\tremaining: 1.77s\n",
      "7:\tlearn: 3601.9641039\ttotal: 151ms\tremaining: 1.73s\n",
      "8:\tlearn: 3512.3417123\ttotal: 169ms\tremaining: 1.71s\n",
      "9:\tlearn: 3424.4965212\ttotal: 188ms\tremaining: 1.69s\n",
      "10:\tlearn: 3342.2369840\ttotal: 207ms\tremaining: 1.67s\n",
      "11:\tlearn: 3265.8282889\ttotal: 226ms\tremaining: 1.66s\n",
      "12:\tlearn: 3197.1507154\ttotal: 244ms\tremaining: 1.63s\n",
      "13:\tlearn: 3130.7707009\ttotal: 262ms\tremaining: 1.61s\n",
      "14:\tlearn: 3067.9070144\ttotal: 281ms\tremaining: 1.59s\n",
      "15:\tlearn: 3008.4723865\ttotal: 299ms\tremaining: 1.57s\n",
      "16:\tlearn: 2951.4184867\ttotal: 316ms\tremaining: 1.54s\n",
      "17:\tlearn: 2903.4417527\ttotal: 335ms\tremaining: 1.52s\n",
      "18:\tlearn: 2858.3809139\ttotal: 352ms\tremaining: 1.5s\n",
      "19:\tlearn: 2812.9619962\ttotal: 370ms\tremaining: 1.48s\n",
      "20:\tlearn: 2770.9727449\ttotal: 388ms\tremaining: 1.46s\n",
      "21:\tlearn: 2731.4057733\ttotal: 405ms\tremaining: 1.43s\n",
      "22:\tlearn: 2695.5543124\ttotal: 423ms\tremaining: 1.42s\n",
      "23:\tlearn: 2659.4697757\ttotal: 442ms\tremaining: 1.4s\n",
      "24:\tlearn: 2626.6829345\ttotal: 462ms\tremaining: 1.39s\n",
      "25:\tlearn: 2595.1248686\ttotal: 480ms\tremaining: 1.37s\n",
      "26:\tlearn: 2565.7004796\ttotal: 499ms\tremaining: 1.35s\n",
      "27:\tlearn: 2538.6007915\ttotal: 519ms\tremaining: 1.33s\n",
      "28:\tlearn: 2513.5623123\ttotal: 537ms\tremaining: 1.31s\n",
      "29:\tlearn: 2489.9078197\ttotal: 555ms\tremaining: 1.29s\n",
      "30:\tlearn: 2466.8503952\ttotal: 573ms\tremaining: 1.27s\n",
      "31:\tlearn: 2444.5247971\ttotal: 591ms\tremaining: 1.25s\n",
      "32:\tlearn: 2425.4096351\ttotal: 609ms\tremaining: 1.24s\n",
      "33:\tlearn: 2406.2868709\ttotal: 628ms\tremaining: 1.22s\n",
      "34:\tlearn: 2387.4517836\ttotal: 647ms\tremaining: 1.2s\n",
      "35:\tlearn: 2369.5949843\ttotal: 665ms\tremaining: 1.18s\n",
      "36:\tlearn: 2354.7746171\ttotal: 683ms\tremaining: 1.16s\n",
      "37:\tlearn: 2337.7365032\ttotal: 701ms\tremaining: 1.14s\n",
      "38:\tlearn: 2323.2882146\ttotal: 720ms\tremaining: 1.13s\n",
      "39:\tlearn: 2309.6881366\ttotal: 739ms\tremaining: 1.11s\n",
      "40:\tlearn: 2297.1798209\ttotal: 759ms\tremaining: 1.09s\n",
      "41:\tlearn: 2283.3602863\ttotal: 777ms\tremaining: 1.07s\n",
      "42:\tlearn: 2269.5136875\ttotal: 795ms\tremaining: 1.05s\n",
      "43:\tlearn: 2257.8354948\ttotal: 812ms\tremaining: 1.03s\n",
      "44:\tlearn: 2244.4666693\ttotal: 833ms\tremaining: 1.02s\n",
      "45:\tlearn: 2233.8736815\ttotal: 852ms\tremaining: 1s\n",
      "46:\tlearn: 2224.1432075\ttotal: 870ms\tremaining: 981ms\n",
      "47:\tlearn: 2213.5892507\ttotal: 889ms\tremaining: 963ms\n",
      "48:\tlearn: 2202.4192809\ttotal: 907ms\tremaining: 944ms\n",
      "49:\tlearn: 2192.8744278\ttotal: 928ms\tremaining: 928ms\n",
      "50:\tlearn: 2183.9926225\ttotal: 946ms\tremaining: 909ms\n",
      "51:\tlearn: 2175.4380043\ttotal: 964ms\tremaining: 890ms\n",
      "52:\tlearn: 2167.8964153\ttotal: 983ms\tremaining: 871ms\n",
      "53:\tlearn: 2160.7080386\ttotal: 1s\tremaining: 853ms\n",
      "54:\tlearn: 2152.8229930\ttotal: 1.02s\tremaining: 834ms\n",
      "55:\tlearn: 2146.7641362\ttotal: 1.04s\tremaining: 815ms\n",
      "56:\tlearn: 2139.5836407\ttotal: 1.05s\tremaining: 795ms\n",
      "57:\tlearn: 2133.6837908\ttotal: 1.07s\tremaining: 775ms\n",
      "58:\tlearn: 2128.5752657\ttotal: 1.09s\tremaining: 755ms\n",
      "59:\tlearn: 2122.2981022\ttotal: 1.1s\tremaining: 737ms\n",
      "60:\tlearn: 2116.4638629\ttotal: 1.13s\tremaining: 720ms\n",
      "61:\tlearn: 2111.4206440\ttotal: 1.14s\tremaining: 701ms\n",
      "62:\tlearn: 2105.7883118\ttotal: 1.16s\tremaining: 682ms\n",
      "63:\tlearn: 2099.2291147\ttotal: 1.18s\tremaining: 663ms\n",
      "64:\tlearn: 2093.9819430\ttotal: 1.19s\tremaining: 643ms\n",
      "65:\tlearn: 2090.0465297\ttotal: 1.21s\tremaining: 624ms\n",
      "66:\tlearn: 2085.4664249\ttotal: 1.23s\tremaining: 605ms\n",
      "67:\tlearn: 2081.4439793\ttotal: 1.25s\tremaining: 587ms\n",
      "68:\tlearn: 2076.2957945\ttotal: 1.26s\tremaining: 568ms\n",
      "69:\tlearn: 2071.5230226\ttotal: 1.28s\tremaining: 549ms\n",
      "70:\tlearn: 2068.1941008\ttotal: 1.3s\tremaining: 530ms\n",
      "71:\tlearn: 2062.7731093\ttotal: 1.32s\tremaining: 512ms\n",
      "72:\tlearn: 2058.9620943\ttotal: 1.33s\tremaining: 493ms\n",
      "73:\tlearn: 2055.2937874\ttotal: 1.35s\tremaining: 474ms\n",
      "74:\tlearn: 2051.7275428\ttotal: 1.37s\tremaining: 456ms\n",
      "75:\tlearn: 2047.9145145\ttotal: 1.38s\tremaining: 437ms\n",
      "76:\tlearn: 2045.0125155\ttotal: 1.4s\tremaining: 418ms\n",
      "77:\tlearn: 2041.9348885\ttotal: 1.42s\tremaining: 400ms\n",
      "78:\tlearn: 2038.8890276\ttotal: 1.43s\tremaining: 381ms\n",
      "79:\tlearn: 2035.8877909\ttotal: 1.45s\tremaining: 363ms\n",
      "80:\tlearn: 2033.5318480\ttotal: 1.47s\tremaining: 344ms\n",
      "81:\tlearn: 2030.9863150\ttotal: 1.49s\tremaining: 326ms\n",
      "82:\tlearn: 2028.5152211\ttotal: 1.5s\tremaining: 308ms\n",
      "83:\tlearn: 2026.3605909\ttotal: 1.52s\tremaining: 289ms\n",
      "84:\tlearn: 2023.5205157\ttotal: 1.54s\tremaining: 271ms\n",
      "85:\tlearn: 2020.5461792\ttotal: 1.55s\tremaining: 253ms\n",
      "86:\tlearn: 2018.0394589\ttotal: 1.57s\tremaining: 235ms\n",
      "87:\tlearn: 2015.8905405\ttotal: 1.59s\tremaining: 217ms\n",
      "88:\tlearn: 2013.6968858\ttotal: 1.6s\tremaining: 198ms\n",
      "89:\tlearn: 2011.6357031\ttotal: 1.62s\tremaining: 180ms\n",
      "90:\tlearn: 2009.1764061\ttotal: 1.64s\tremaining: 162ms\n",
      "91:\tlearn: 2007.0479985\ttotal: 1.66s\tremaining: 144ms\n",
      "92:\tlearn: 2004.8301625\ttotal: 1.67s\tremaining: 126ms\n",
      "93:\tlearn: 2002.8416924\ttotal: 1.69s\tremaining: 108ms\n",
      "94:\tlearn: 2000.8955716\ttotal: 1.71s\tremaining: 89.9ms\n",
      "95:\tlearn: 1999.0737720\ttotal: 1.72s\tremaining: 71.9ms\n",
      "96:\tlearn: 1996.4909737\ttotal: 1.74s\tremaining: 53.9ms\n",
      "97:\tlearn: 1994.1919980\ttotal: 1.76s\tremaining: 35.9ms\n",
      "98:\tlearn: 1992.2677534\ttotal: 1.79s\tremaining: 18ms\n",
      "99:\tlearn: 1990.0659275\ttotal: 1.8s\tremaining: 0us\n",
      "0:\tlearn: 4282.2594449\ttotal: 18.7ms\tremaining: 1.85s\n",
      "1:\tlearn: 4014.8052018\ttotal: 38.8ms\tremaining: 1.9s\n",
      "2:\tlearn: 3779.2598155\ttotal: 57.9ms\tremaining: 1.87s\n",
      "3:\tlearn: 3578.1075819\ttotal: 76.8ms\tremaining: 1.84s\n",
      "4:\tlearn: 3399.2840511\ttotal: 95.3ms\tremaining: 1.81s\n",
      "5:\tlearn: 3245.4256177\ttotal: 113ms\tremaining: 1.77s\n",
      "6:\tlearn: 3102.0484319\ttotal: 132ms\tremaining: 1.75s\n",
      "7:\tlearn: 2980.7114026\ttotal: 149ms\tremaining: 1.72s\n",
      "8:\tlearn: 2876.2563159\ttotal: 167ms\tremaining: 1.69s\n",
      "9:\tlearn: 2785.8576108\ttotal: 185ms\tremaining: 1.67s\n",
      "10:\tlearn: 2709.5460426\ttotal: 211ms\tremaining: 1.71s\n",
      "11:\tlearn: 2638.3745920\ttotal: 238ms\tremaining: 1.75s\n",
      "12:\tlearn: 2575.5112073\ttotal: 256ms\tremaining: 1.72s\n",
      "13:\tlearn: 2518.5479314\ttotal: 276ms\tremaining: 1.69s\n",
      "14:\tlearn: 2466.9908028\ttotal: 296ms\tremaining: 1.67s\n",
      "15:\tlearn: 2424.1917188\ttotal: 317ms\tremaining: 1.67s\n",
      "16:\tlearn: 2384.9665855\ttotal: 336ms\tremaining: 1.64s\n",
      "17:\tlearn: 2343.8110315\ttotal: 357ms\tremaining: 1.62s\n",
      "18:\tlearn: 2311.6841662\ttotal: 377ms\tremaining: 1.6s\n",
      "19:\tlearn: 2284.5569883\ttotal: 395ms\tremaining: 1.58s\n",
      "20:\tlearn: 2258.3488483\ttotal: 412ms\tremaining: 1.55s\n",
      "21:\tlearn: 2232.1639911\ttotal: 430ms\tremaining: 1.53s\n",
      "22:\tlearn: 2211.6072590\ttotal: 448ms\tremaining: 1.5s\n",
      "23:\tlearn: 2192.9307686\ttotal: 466ms\tremaining: 1.48s\n",
      "24:\tlearn: 2176.3431150\ttotal: 485ms\tremaining: 1.45s\n",
      "25:\tlearn: 2161.4387702\ttotal: 503ms\tremaining: 1.43s\n",
      "26:\tlearn: 2147.3095798\ttotal: 521ms\tremaining: 1.41s\n",
      "27:\tlearn: 2129.6958754\ttotal: 538ms\tremaining: 1.38s\n",
      "28:\tlearn: 2118.8079279\ttotal: 555ms\tremaining: 1.36s\n",
      "29:\tlearn: 2106.9889816\ttotal: 573ms\tremaining: 1.34s\n",
      "30:\tlearn: 2094.4597351\ttotal: 591ms\tremaining: 1.31s\n",
      "31:\tlearn: 2084.9669262\ttotal: 608ms\tremaining: 1.29s\n",
      "32:\tlearn: 2075.8825625\ttotal: 626ms\tremaining: 1.27s\n",
      "33:\tlearn: 2066.4761030\ttotal: 643ms\tremaining: 1.25s\n",
      "34:\tlearn: 2057.7054210\ttotal: 660ms\tremaining: 1.23s\n",
      "35:\tlearn: 2050.2717217\ttotal: 677ms\tremaining: 1.2s\n",
      "36:\tlearn: 2044.3361995\ttotal: 694ms\tremaining: 1.18s\n",
      "37:\tlearn: 2038.4716672\ttotal: 712ms\tremaining: 1.16s\n",
      "38:\tlearn: 2031.2514835\ttotal: 729ms\tremaining: 1.14s\n",
      "39:\tlearn: 2026.2469668\ttotal: 746ms\tremaining: 1.12s\n",
      "40:\tlearn: 2018.5244179\ttotal: 763ms\tremaining: 1.1s\n",
      "41:\tlearn: 2011.9798266\ttotal: 780ms\tremaining: 1.08s\n",
      "42:\tlearn: 2005.6501340\ttotal: 797ms\tremaining: 1.06s\n",
      "43:\tlearn: 2001.6388183\ttotal: 814ms\tremaining: 1.03s\n",
      "44:\tlearn: 1998.0242669\ttotal: 831ms\tremaining: 1.01s\n",
      "45:\tlearn: 1994.3642290\ttotal: 847ms\tremaining: 994ms\n",
      "46:\tlearn: 1989.3664874\ttotal: 866ms\tremaining: 976ms\n",
      "47:\tlearn: 1984.9364542\ttotal: 884ms\tremaining: 957ms\n",
      "48:\tlearn: 1982.0749494\ttotal: 900ms\tremaining: 937ms\n",
      "49:\tlearn: 1979.3839626\ttotal: 916ms\tremaining: 916ms\n",
      "50:\tlearn: 1975.0736892\ttotal: 932ms\tremaining: 896ms\n",
      "51:\tlearn: 1970.4078602\ttotal: 951ms\tremaining: 877ms\n",
      "52:\tlearn: 1967.1337109\ttotal: 968ms\tremaining: 858ms\n",
      "53:\tlearn: 1964.5688020\ttotal: 984ms\tremaining: 839ms\n",
      "54:\tlearn: 1961.9917445\ttotal: 1s\tremaining: 821ms\n",
      "55:\tlearn: 1958.9551089\ttotal: 1.02s\tremaining: 805ms\n",
      "56:\tlearn: 1956.9371315\ttotal: 1.04s\tremaining: 785ms\n",
      "57:\tlearn: 1954.1010220\ttotal: 1.06s\tremaining: 766ms\n",
      "58:\tlearn: 1950.9609284\ttotal: 1.07s\tremaining: 748ms\n",
      "59:\tlearn: 1948.1743064\ttotal: 1.09s\tremaining: 728ms\n",
      "60:\tlearn: 1945.2542584\ttotal: 1.11s\tremaining: 710ms\n",
      "61:\tlearn: 1942.7855410\ttotal: 1.13s\tremaining: 693ms\n",
      "62:\tlearn: 1940.3933209\ttotal: 1.15s\tremaining: 675ms\n",
      "63:\tlearn: 1938.4690907\ttotal: 1.17s\tremaining: 657ms\n",
      "64:\tlearn: 1936.4915574\ttotal: 1.19s\tremaining: 639ms\n",
      "65:\tlearn: 1934.7532873\ttotal: 1.21s\tremaining: 621ms\n",
      "66:\tlearn: 1932.2987117\ttotal: 1.22s\tremaining: 603ms\n",
      "67:\tlearn: 1930.1290237\ttotal: 1.24s\tremaining: 584ms\n",
      "68:\tlearn: 1927.0848815\ttotal: 1.26s\tremaining: 566ms\n",
      "69:\tlearn: 1924.2830521\ttotal: 1.28s\tremaining: 547ms\n",
      "70:\tlearn: 1921.5152751\ttotal: 1.29s\tremaining: 529ms\n",
      "71:\tlearn: 1918.3878230\ttotal: 1.31s\tremaining: 510ms\n",
      "72:\tlearn: 1914.0369566\ttotal: 1.33s\tremaining: 492ms\n",
      "73:\tlearn: 1912.3230604\ttotal: 1.34s\tremaining: 473ms\n",
      "74:\tlearn: 1910.5215862\ttotal: 1.36s\tremaining: 454ms\n",
      "75:\tlearn: 1907.9004414\ttotal: 1.38s\tremaining: 435ms\n",
      "76:\tlearn: 1906.3261289\ttotal: 1.4s\tremaining: 417ms\n",
      "77:\tlearn: 1904.8972613\ttotal: 1.41s\tremaining: 398ms\n",
      "78:\tlearn: 1903.6509382\ttotal: 1.43s\tremaining: 381ms\n",
      "79:\tlearn: 1900.8506487\ttotal: 1.45s\tremaining: 363ms\n",
      "80:\tlearn: 1899.2340344\ttotal: 1.47s\tremaining: 346ms\n",
      "81:\tlearn: 1897.5743180\ttotal: 1.49s\tremaining: 327ms\n",
      "82:\tlearn: 1896.4700506\ttotal: 1.5s\tremaining: 308ms\n",
      "83:\tlearn: 1894.2210910\ttotal: 1.52s\tremaining: 290ms\n",
      "84:\tlearn: 1892.6209003\ttotal: 1.54s\tremaining: 272ms\n",
      "85:\tlearn: 1891.0094373\ttotal: 1.56s\tremaining: 254ms\n",
      "86:\tlearn: 1889.4889887\ttotal: 1.57s\tremaining: 235ms\n",
      "87:\tlearn: 1888.0469399\ttotal: 1.59s\tremaining: 217ms\n",
      "88:\tlearn: 1886.2491039\ttotal: 1.61s\tremaining: 199ms\n",
      "89:\tlearn: 1884.9493089\ttotal: 1.63s\tremaining: 181ms\n",
      "90:\tlearn: 1883.5229841\ttotal: 1.64s\tremaining: 163ms\n",
      "91:\tlearn: 1882.1540109\ttotal: 1.66s\tremaining: 144ms\n",
      "92:\tlearn: 1881.0460052\ttotal: 1.68s\tremaining: 126ms\n",
      "93:\tlearn: 1880.1061835\ttotal: 1.69s\tremaining: 108ms\n",
      "94:\tlearn: 1878.5680984\ttotal: 1.71s\tremaining: 90ms\n",
      "95:\tlearn: 1877.3717680\ttotal: 1.73s\tremaining: 72ms\n",
      "96:\tlearn: 1876.3455242\ttotal: 1.74s\tremaining: 53.9ms\n",
      "97:\tlearn: 1874.9525767\ttotal: 1.76s\tremaining: 35.9ms\n",
      "98:\tlearn: 1872.9886310\ttotal: 1.78s\tremaining: 18ms\n",
      "99:\tlearn: 1871.2477246\ttotal: 1.79s\tremaining: 0us\n",
      "0:\tlearn: 4290.7439335\ttotal: 18.5ms\tremaining: 1.83s\n",
      "1:\tlearn: 4025.6769868\ttotal: 37.5ms\tremaining: 1.84s\n",
      "2:\tlearn: 3790.7067054\ttotal: 55.2ms\tremaining: 1.78s\n",
      "3:\tlearn: 3584.1853382\ttotal: 72.7ms\tremaining: 1.75s\n",
      "4:\tlearn: 3404.4518730\ttotal: 92.5ms\tremaining: 1.76s\n",
      "5:\tlearn: 3251.7409903\ttotal: 112ms\tremaining: 1.75s\n",
      "6:\tlearn: 3114.9440485\ttotal: 130ms\tremaining: 1.73s\n",
      "7:\tlearn: 2991.9474810\ttotal: 149ms\tremaining: 1.72s\n",
      "8:\tlearn: 2891.5907496\ttotal: 168ms\tremaining: 1.69s\n",
      "9:\tlearn: 2797.6131908\ttotal: 186ms\tremaining: 1.68s\n",
      "10:\tlearn: 2715.8952968\ttotal: 205ms\tremaining: 1.66s\n",
      "11:\tlearn: 2644.0031698\ttotal: 222ms\tremaining: 1.63s\n",
      "12:\tlearn: 2581.8859730\ttotal: 240ms\tremaining: 1.61s\n",
      "13:\tlearn: 2528.9551218\ttotal: 258ms\tremaining: 1.58s\n",
      "14:\tlearn: 2481.7816818\ttotal: 278ms\tremaining: 1.58s\n",
      "15:\tlearn: 2437.1643087\ttotal: 297ms\tremaining: 1.56s\n",
      "16:\tlearn: 2396.0613514\ttotal: 316ms\tremaining: 1.54s\n",
      "17:\tlearn: 2354.1767955\ttotal: 334ms\tremaining: 1.52s\n",
      "18:\tlearn: 2321.3403940\ttotal: 353ms\tremaining: 1.5s\n",
      "19:\tlearn: 2295.0576872\ttotal: 372ms\tremaining: 1.49s\n",
      "20:\tlearn: 2268.4639333\ttotal: 393ms\tremaining: 1.48s\n",
      "21:\tlearn: 2245.3257106\ttotal: 413ms\tremaining: 1.46s\n",
      "22:\tlearn: 2224.0618251\ttotal: 430ms\tremaining: 1.44s\n",
      "23:\tlearn: 2201.6733434\ttotal: 447ms\tremaining: 1.42s\n",
      "24:\tlearn: 2183.9210175\ttotal: 464ms\tremaining: 1.39s\n",
      "25:\tlearn: 2164.5525692\ttotal: 482ms\tremaining: 1.37s\n",
      "26:\tlearn: 2149.2768400\ttotal: 499ms\tremaining: 1.35s\n",
      "27:\tlearn: 2136.2839891\ttotal: 517ms\tremaining: 1.33s\n",
      "28:\tlearn: 2125.3372089\ttotal: 534ms\tremaining: 1.31s\n",
      "29:\tlearn: 2113.8223309\ttotal: 552ms\tremaining: 1.29s\n",
      "30:\tlearn: 2102.5976113\ttotal: 569ms\tremaining: 1.27s\n",
      "31:\tlearn: 2090.7015208\ttotal: 587ms\tremaining: 1.25s\n",
      "32:\tlearn: 2082.0745995\ttotal: 603ms\tremaining: 1.22s\n",
      "33:\tlearn: 2071.0760106\ttotal: 621ms\tremaining: 1.21s\n",
      "34:\tlearn: 2063.9895023\ttotal: 639ms\tremaining: 1.19s\n",
      "35:\tlearn: 2057.5227194\ttotal: 656ms\tremaining: 1.17s\n",
      "36:\tlearn: 2050.4952931\ttotal: 672ms\tremaining: 1.14s\n",
      "37:\tlearn: 2044.3979428\ttotal: 689ms\tremaining: 1.12s\n",
      "38:\tlearn: 2038.5810265\ttotal: 707ms\tremaining: 1.1s\n",
      "39:\tlearn: 2033.5572705\ttotal: 724ms\tremaining: 1.08s\n",
      "40:\tlearn: 2027.3495806\ttotal: 741ms\tremaining: 1.07s\n",
      "41:\tlearn: 2023.2187927\ttotal: 757ms\tremaining: 1.04s\n",
      "42:\tlearn: 2018.3821808\ttotal: 775ms\tremaining: 1.03s\n",
      "43:\tlearn: 2014.6761596\ttotal: 790ms\tremaining: 1s\n",
      "44:\tlearn: 2010.2985986\ttotal: 806ms\tremaining: 985ms\n",
      "45:\tlearn: 2006.0004204\ttotal: 821ms\tremaining: 964ms\n",
      "46:\tlearn: 2001.4035576\ttotal: 838ms\tremaining: 945ms\n",
      "47:\tlearn: 1997.6500325\ttotal: 855ms\tremaining: 926ms\n",
      "48:\tlearn: 1992.6775343\ttotal: 873ms\tremaining: 908ms\n",
      "49:\tlearn: 1988.9672825\ttotal: 893ms\tremaining: 893ms\n",
      "50:\tlearn: 1985.1188699\ttotal: 920ms\tremaining: 884ms\n",
      "51:\tlearn: 1982.3237315\ttotal: 944ms\tremaining: 871ms\n",
      "52:\tlearn: 1978.3833648\ttotal: 961ms\tremaining: 853ms\n",
      "53:\tlearn: 1976.3148403\ttotal: 977ms\tremaining: 832ms\n",
      "54:\tlearn: 1974.1238122\ttotal: 992ms\tremaining: 811ms\n",
      "55:\tlearn: 1971.3381057\ttotal: 1.01s\tremaining: 792ms\n",
      "56:\tlearn: 1968.6094546\ttotal: 1.02s\tremaining: 772ms\n",
      "57:\tlearn: 1966.5880031\ttotal: 1.04s\tremaining: 752ms\n",
      "58:\tlearn: 1962.5169762\ttotal: 1.05s\tremaining: 733ms\n",
      "59:\tlearn: 1960.7147927\ttotal: 1.07s\tremaining: 713ms\n",
      "60:\tlearn: 1957.2903660\ttotal: 1.08s\tremaining: 694ms\n",
      "61:\tlearn: 1955.2628847\ttotal: 1.1s\tremaining: 675ms\n",
      "62:\tlearn: 1952.2606512\ttotal: 1.12s\tremaining: 658ms\n",
      "63:\tlearn: 1949.9685315\ttotal: 1.14s\tremaining: 639ms\n",
      "64:\tlearn: 1947.1073200\ttotal: 1.15s\tremaining: 621ms\n",
      "65:\tlearn: 1944.2949133\ttotal: 1.17s\tremaining: 603ms\n",
      "66:\tlearn: 1941.4871735\ttotal: 1.19s\tremaining: 585ms\n",
      "67:\tlearn: 1939.6401976\ttotal: 1.2s\tremaining: 566ms\n",
      "68:\tlearn: 1937.1163209\ttotal: 1.22s\tremaining: 548ms\n",
      "69:\tlearn: 1935.2965785\ttotal: 1.24s\tremaining: 530ms\n",
      "70:\tlearn: 1932.7400514\ttotal: 1.25s\tremaining: 512ms\n",
      "71:\tlearn: 1929.5151592\ttotal: 1.27s\tremaining: 494ms\n",
      "72:\tlearn: 1927.3547471\ttotal: 1.29s\tremaining: 476ms\n",
      "73:\tlearn: 1926.1640892\ttotal: 1.3s\tremaining: 458ms\n",
      "74:\tlearn: 1923.4057524\ttotal: 1.32s\tremaining: 441ms\n",
      "75:\tlearn: 1921.4411150\ttotal: 1.34s\tremaining: 423ms\n",
      "76:\tlearn: 1919.9469341\ttotal: 1.35s\tremaining: 405ms\n",
      "77:\tlearn: 1918.5183962\ttotal: 1.37s\tremaining: 387ms\n",
      "78:\tlearn: 1917.2333965\ttotal: 1.39s\tremaining: 369ms\n",
      "79:\tlearn: 1915.6026638\ttotal: 1.4s\tremaining: 351ms\n",
      "80:\tlearn: 1913.9185701\ttotal: 1.42s\tremaining: 333ms\n",
      "81:\tlearn: 1912.0393698\ttotal: 1.44s\tremaining: 316ms\n",
      "82:\tlearn: 1910.7750450\ttotal: 1.45s\tremaining: 298ms\n",
      "83:\tlearn: 1909.3205116\ttotal: 1.47s\tremaining: 281ms\n",
      "84:\tlearn: 1908.2313938\ttotal: 1.49s\tremaining: 263ms\n",
      "85:\tlearn: 1906.6927011\ttotal: 1.51s\tremaining: 246ms\n",
      "86:\tlearn: 1905.3628178\ttotal: 1.53s\tremaining: 229ms\n",
      "87:\tlearn: 1904.2677917\ttotal: 1.55s\tremaining: 211ms\n",
      "88:\tlearn: 1901.9325244\ttotal: 1.57s\tremaining: 194ms\n",
      "89:\tlearn: 1899.5721640\ttotal: 1.58s\tremaining: 176ms\n",
      "90:\tlearn: 1897.8437223\ttotal: 1.6s\tremaining: 158ms\n",
      "91:\tlearn: 1896.8961548\ttotal: 1.62s\tremaining: 141ms\n",
      "92:\tlearn: 1894.7485172\ttotal: 1.64s\tremaining: 123ms\n",
      "93:\tlearn: 1893.4580289\ttotal: 1.65s\tremaining: 105ms\n",
      "94:\tlearn: 1892.5597168\ttotal: 1.67s\tremaining: 87.8ms\n",
      "95:\tlearn: 1890.7683334\ttotal: 1.68s\tremaining: 70.2ms\n",
      "96:\tlearn: 1888.9699828\ttotal: 1.7s\tremaining: 52.6ms\n",
      "97:\tlearn: 1888.0005966\ttotal: 1.72s\tremaining: 35.1ms\n",
      "98:\tlearn: 1886.9258611\ttotal: 1.74s\tremaining: 17.5ms\n",
      "99:\tlearn: 1885.8279557\ttotal: 1.75s\tremaining: 0us\n",
      "0:\tlearn: 4552.4523923\ttotal: 32.9ms\tremaining: 953ms\n",
      "1:\tlearn: 4520.8044967\ttotal: 63.9ms\tremaining: 895ms\n",
      "2:\tlearn: 4490.0635225\ttotal: 95.8ms\tremaining: 862ms\n",
      "3:\tlearn: 4459.6735830\ttotal: 128ms\tremaining: 829ms\n",
      "4:\tlearn: 4430.0965399\ttotal: 159ms\tremaining: 796ms\n",
      "5:\tlearn: 4400.2494797\ttotal: 190ms\tremaining: 761ms\n",
      "6:\tlearn: 4370.6552013\ttotal: 223ms\tremaining: 733ms\n",
      "7:\tlearn: 4341.5467897\ttotal: 256ms\tremaining: 703ms\n",
      "8:\tlearn: 4312.8829598\ttotal: 291ms\tremaining: 679ms\n",
      "9:\tlearn: 4284.0958437\ttotal: 323ms\tremaining: 645ms\n",
      "10:\tlearn: 4255.6127828\ttotal: 354ms\tremaining: 611ms\n",
      "11:\tlearn: 4228.0045888\ttotal: 385ms\tremaining: 577ms\n",
      "12:\tlearn: 4200.5275387\ttotal: 416ms\tremaining: 544ms\n",
      "13:\tlearn: 4173.4591135\ttotal: 449ms\tremaining: 513ms\n",
      "14:\tlearn: 4146.4390101\ttotal: 480ms\tremaining: 480ms\n",
      "15:\tlearn: 4119.8966034\ttotal: 525ms\tremaining: 459ms\n",
      "16:\tlearn: 4094.1149952\ttotal: 565ms\tremaining: 432ms\n",
      "17:\tlearn: 4068.4190106\ttotal: 595ms\tremaining: 397ms\n",
      "18:\tlearn: 4043.3461567\ttotal: 626ms\tremaining: 362ms\n",
      "19:\tlearn: 4017.9670587\ttotal: 657ms\tremaining: 329ms\n",
      "20:\tlearn: 3993.2796570\ttotal: 691ms\tremaining: 296ms\n",
      "21:\tlearn: 3968.4860863\ttotal: 722ms\tremaining: 263ms\n",
      "22:\tlearn: 3944.1705560\ttotal: 753ms\tremaining: 229ms\n",
      "23:\tlearn: 3920.1756574\ttotal: 788ms\tremaining: 197ms\n",
      "24:\tlearn: 3896.4267816\ttotal: 822ms\tremaining: 164ms\n",
      "25:\tlearn: 3872.8274418\ttotal: 853ms\tremaining: 131ms\n",
      "26:\tlearn: 3849.5746403\ttotal: 885ms\tremaining: 98.3ms\n",
      "27:\tlearn: 3826.9314967\ttotal: 917ms\tremaining: 65.5ms\n",
      "28:\tlearn: 3804.2992363\ttotal: 950ms\tremaining: 32.8ms\n",
      "29:\tlearn: 3781.9430180\ttotal: 983ms\tremaining: 0us\n",
      "0:\tlearn: 4558.9504784\ttotal: 30.6ms\tremaining: 888ms\n",
      "1:\tlearn: 4527.8126959\ttotal: 62.3ms\tremaining: 872ms\n",
      "2:\tlearn: 4497.0050602\ttotal: 92.5ms\tremaining: 833ms\n",
      "3:\tlearn: 4466.8006573\ttotal: 123ms\tremaining: 798ms\n",
      "4:\tlearn: 4436.9538311\ttotal: 155ms\tremaining: 775ms\n",
      "5:\tlearn: 4407.4131940\ttotal: 187ms\tremaining: 747ms\n",
      "6:\tlearn: 4378.4016256\ttotal: 219ms\tremaining: 719ms\n",
      "7:\tlearn: 4349.0576241\ttotal: 253ms\tremaining: 696ms\n",
      "8:\tlearn: 4319.9235108\ttotal: 287ms\tremaining: 669ms\n",
      "9:\tlearn: 4291.7017232\ttotal: 318ms\tremaining: 636ms\n",
      "10:\tlearn: 4263.5724352\ttotal: 351ms\tremaining: 607ms\n",
      "11:\tlearn: 4235.7958216\ttotal: 384ms\tremaining: 575ms\n",
      "12:\tlearn: 4208.4218134\ttotal: 416ms\tremaining: 543ms\n",
      "13:\tlearn: 4181.6798954\ttotal: 449ms\tremaining: 513ms\n",
      "14:\tlearn: 4154.8769095\ttotal: 482ms\tremaining: 482ms\n",
      "15:\tlearn: 4128.3750294\ttotal: 515ms\tremaining: 451ms\n",
      "16:\tlearn: 4101.9814475\ttotal: 548ms\tremaining: 419ms\n",
      "17:\tlearn: 4076.0196877\ttotal: 580ms\tremaining: 387ms\n",
      "18:\tlearn: 4050.5633981\ttotal: 614ms\tremaining: 356ms\n",
      "19:\tlearn: 4025.5956298\ttotal: 646ms\tremaining: 323ms\n",
      "20:\tlearn: 4000.7775457\ttotal: 677ms\tremaining: 290ms\n",
      "21:\tlearn: 3976.1768946\ttotal: 708ms\tremaining: 258ms\n",
      "22:\tlearn: 3951.4335364\ttotal: 740ms\tremaining: 225ms\n",
      "23:\tlearn: 3927.7098668\ttotal: 772ms\tremaining: 193ms\n",
      "24:\tlearn: 3904.0068793\ttotal: 803ms\tremaining: 161ms\n",
      "25:\tlearn: 3880.6291022\ttotal: 835ms\tremaining: 129ms\n",
      "26:\tlearn: 3857.5386059\ttotal: 867ms\tremaining: 96.3ms\n",
      "27:\tlearn: 3834.8297584\ttotal: 899ms\tremaining: 64.2ms\n",
      "28:\tlearn: 3812.3351465\ttotal: 936ms\tremaining: 32.3ms\n",
      "29:\tlearn: 3790.1551028\ttotal: 969ms\tremaining: 0us\n",
      "0:\tlearn: 4426.7156684\ttotal: 33.1ms\tremaining: 959ms\n",
      "1:\tlearn: 4277.9274610\ttotal: 64.2ms\tremaining: 899ms\n",
      "2:\tlearn: 4139.0300432\ttotal: 97.6ms\tremaining: 879ms\n",
      "3:\tlearn: 4007.2669102\ttotal: 129ms\tremaining: 841ms\n",
      "4:\tlearn: 3887.2837699\ttotal: 161ms\tremaining: 804ms\n",
      "5:\tlearn: 3770.9338887\ttotal: 194ms\tremaining: 775ms\n",
      "6:\tlearn: 3662.0604960\ttotal: 241ms\tremaining: 791ms\n",
      "7:\tlearn: 3560.6269211\ttotal: 272ms\tremaining: 748ms\n",
      "8:\tlearn: 3466.6256677\ttotal: 309ms\tremaining: 721ms\n",
      "9:\tlearn: 3375.7168344\ttotal: 341ms\tremaining: 682ms\n",
      "10:\tlearn: 3291.4014954\ttotal: 376ms\tremaining: 650ms\n",
      "11:\tlearn: 3209.8369853\ttotal: 411ms\tremaining: 617ms\n",
      "12:\tlearn: 3134.6244024\ttotal: 447ms\tremaining: 585ms\n",
      "13:\tlearn: 3065.1383715\ttotal: 492ms\tremaining: 562ms\n",
      "14:\tlearn: 2998.9674632\ttotal: 537ms\tremaining: 537ms\n",
      "15:\tlearn: 2937.3488209\ttotal: 570ms\tremaining: 499ms\n",
      "16:\tlearn: 2880.9103864\ttotal: 604ms\tremaining: 462ms\n",
      "17:\tlearn: 2827.9982889\ttotal: 636ms\tremaining: 424ms\n",
      "18:\tlearn: 2777.5497645\ttotal: 668ms\tremaining: 386ms\n",
      "19:\tlearn: 2731.1802543\ttotal: 699ms\tremaining: 350ms\n",
      "20:\tlearn: 2687.4988261\ttotal: 731ms\tremaining: 313ms\n",
      "21:\tlearn: 2647.1102603\ttotal: 763ms\tremaining: 277ms\n",
      "22:\tlearn: 2606.4133271\ttotal: 795ms\tremaining: 242ms\n",
      "23:\tlearn: 2570.3654180\ttotal: 829ms\tremaining: 207ms\n",
      "24:\tlearn: 2536.7760275\ttotal: 862ms\tremaining: 172ms\n",
      "25:\tlearn: 2504.8308115\ttotal: 894ms\tremaining: 138ms\n",
      "26:\tlearn: 2473.9398172\ttotal: 926ms\tremaining: 103ms\n",
      "27:\tlearn: 2447.3164197\ttotal: 957ms\tremaining: 68.4ms\n",
      "28:\tlearn: 2420.4531771\ttotal: 989ms\tremaining: 34.1ms\n",
      "29:\tlearn: 2395.9612844\ttotal: 1.02s\tremaining: 0us\n",
      "0:\tlearn: 4433.1783952\ttotal: 31.3ms\tremaining: 908ms\n",
      "1:\tlearn: 4284.6920641\ttotal: 62.7ms\tremaining: 878ms\n",
      "2:\tlearn: 4146.6952053\ttotal: 94.8ms\tremaining: 853ms\n",
      "3:\tlearn: 4016.1663011\ttotal: 127ms\tremaining: 825ms\n",
      "4:\tlearn: 3895.1803245\ttotal: 160ms\tremaining: 798ms\n",
      "5:\tlearn: 3779.2055748\ttotal: 191ms\tremaining: 763ms\n",
      "6:\tlearn: 3669.0905891\ttotal: 222ms\tremaining: 730ms\n",
      "7:\tlearn: 3568.6718492\ttotal: 254ms\tremaining: 700ms\n",
      "8:\tlearn: 3471.1788194\ttotal: 286ms\tremaining: 667ms\n",
      "9:\tlearn: 3382.9033526\ttotal: 317ms\tremaining: 634ms\n",
      "10:\tlearn: 3299.0380614\ttotal: 347ms\tremaining: 600ms\n",
      "11:\tlearn: 3220.0482746\ttotal: 380ms\tremaining: 570ms\n",
      "12:\tlearn: 3146.5001444\ttotal: 412ms\tremaining: 538ms\n",
      "13:\tlearn: 3077.4808214\ttotal: 443ms\tremaining: 506ms\n",
      "14:\tlearn: 3013.2784186\ttotal: 475ms\tremaining: 475ms\n",
      "15:\tlearn: 2951.8820675\ttotal: 507ms\tremaining: 443ms\n",
      "16:\tlearn: 2894.9051426\ttotal: 538ms\tremaining: 411ms\n",
      "17:\tlearn: 2840.4704196\ttotal: 569ms\tremaining: 379ms\n",
      "18:\tlearn: 2790.8891688\ttotal: 600ms\tremaining: 347ms\n",
      "19:\tlearn: 2744.4276468\ttotal: 632ms\tremaining: 316ms\n",
      "20:\tlearn: 2699.8619824\ttotal: 665ms\tremaining: 285ms\n",
      "21:\tlearn: 2659.2756960\ttotal: 706ms\tremaining: 257ms\n",
      "22:\tlearn: 2621.0441564\ttotal: 739ms\tremaining: 225ms\n",
      "23:\tlearn: 2583.5557179\ttotal: 771ms\tremaining: 193ms\n",
      "24:\tlearn: 2549.4818384\ttotal: 805ms\tremaining: 161ms\n",
      "25:\tlearn: 2518.0369800\ttotal: 837ms\tremaining: 129ms\n",
      "26:\tlearn: 2487.5826540\ttotal: 871ms\tremaining: 96.8ms\n",
      "27:\tlearn: 2461.1242001\ttotal: 903ms\tremaining: 64.5ms\n",
      "28:\tlearn: 2433.9065456\ttotal: 934ms\tremaining: 32.2ms\n",
      "29:\tlearn: 2409.1082439\ttotal: 965ms\tremaining: 0us\n",
      "0:\tlearn: 4271.9612696\ttotal: 31.3ms\tremaining: 908ms\n",
      "1:\tlearn: 3992.7480337\ttotal: 63.2ms\tremaining: 884ms\n",
      "2:\tlearn: 3750.7763973\ttotal: 93.7ms\tremaining: 843ms\n",
      "3:\tlearn: 3537.9406627\ttotal: 125ms\tremaining: 815ms\n",
      "4:\tlearn: 3353.5328244\ttotal: 157ms\tremaining: 785ms\n",
      "5:\tlearn: 3186.0695681\ttotal: 189ms\tremaining: 756ms\n",
      "6:\tlearn: 3045.8631053\ttotal: 221ms\tremaining: 725ms\n",
      "7:\tlearn: 2920.3145251\ttotal: 253ms\tremaining: 695ms\n",
      "8:\tlearn: 2808.7548290\ttotal: 287ms\tremaining: 669ms\n",
      "9:\tlearn: 2715.6361346\ttotal: 320ms\tremaining: 641ms\n",
      "10:\tlearn: 2629.2783559\ttotal: 362ms\tremaining: 625ms\n",
      "11:\tlearn: 2554.7631145\ttotal: 399ms\tremaining: 598ms\n",
      "12:\tlearn: 2491.5543458\ttotal: 439ms\tremaining: 574ms\n",
      "13:\tlearn: 2433.7101922\ttotal: 474ms\tremaining: 542ms\n",
      "14:\tlearn: 2383.4143066\ttotal: 508ms\tremaining: 508ms\n",
      "15:\tlearn: 2335.9107631\ttotal: 545ms\tremaining: 477ms\n",
      "16:\tlearn: 2296.4169661\ttotal: 578ms\tremaining: 442ms\n",
      "17:\tlearn: 2257.2961992\ttotal: 612ms\tremaining: 408ms\n",
      "18:\tlearn: 2224.0846626\ttotal: 645ms\tremaining: 374ms\n",
      "19:\tlearn: 2194.5835831\ttotal: 678ms\tremaining: 339ms\n",
      "20:\tlearn: 2171.0255610\ttotal: 710ms\tremaining: 304ms\n",
      "21:\tlearn: 2149.7615687\ttotal: 742ms\tremaining: 270ms\n",
      "22:\tlearn: 2125.6406328\ttotal: 775ms\tremaining: 236ms\n",
      "23:\tlearn: 2107.9865002\ttotal: 808ms\tremaining: 202ms\n",
      "24:\tlearn: 2091.5634361\ttotal: 842ms\tremaining: 168ms\n",
      "25:\tlearn: 2074.6853143\ttotal: 874ms\tremaining: 134ms\n",
      "26:\tlearn: 2059.6613364\ttotal: 907ms\tremaining: 101ms\n",
      "27:\tlearn: 2047.7088521\ttotal: 944ms\tremaining: 67.5ms\n",
      "28:\tlearn: 2036.6215501\ttotal: 976ms\tremaining: 33.7ms\n",
      "29:\tlearn: 2026.7383021\ttotal: 1.01s\tremaining: 0us\n",
      "0:\tlearn: 4278.4001516\ttotal: 31ms\tremaining: 898ms\n",
      "1:\tlearn: 4002.7853878\ttotal: 61.9ms\tremaining: 867ms\n",
      "2:\tlearn: 3761.7377492\ttotal: 92.7ms\tremaining: 834ms\n",
      "3:\tlearn: 3550.5216164\ttotal: 125ms\tremaining: 814ms\n",
      "4:\tlearn: 3362.7266511\ttotal: 158ms\tremaining: 791ms\n",
      "5:\tlearn: 3196.2593827\ttotal: 190ms\tremaining: 761ms\n",
      "6:\tlearn: 3052.0815618\ttotal: 222ms\tremaining: 729ms\n",
      "7:\tlearn: 2924.6870047\ttotal: 260ms\tremaining: 716ms\n",
      "8:\tlearn: 2815.9963624\ttotal: 292ms\tremaining: 682ms\n",
      "9:\tlearn: 2721.8554197\ttotal: 325ms\tremaining: 650ms\n",
      "10:\tlearn: 2639.3436970\ttotal: 358ms\tremaining: 619ms\n",
      "11:\tlearn: 2557.8309664\ttotal: 392ms\tremaining: 588ms\n",
      "12:\tlearn: 2494.1870216\ttotal: 424ms\tremaining: 554ms\n",
      "13:\tlearn: 2439.9572591\ttotal: 458ms\tremaining: 523ms\n",
      "14:\tlearn: 2388.2269835\ttotal: 490ms\tremaining: 490ms\n",
      "15:\tlearn: 2337.8155315\ttotal: 522ms\tremaining: 456ms\n",
      "16:\tlearn: 2299.1893480\ttotal: 553ms\tremaining: 423ms\n",
      "17:\tlearn: 2266.6614218\ttotal: 584ms\tremaining: 389ms\n",
      "18:\tlearn: 2231.2874316\ttotal: 621ms\tremaining: 359ms\n",
      "19:\tlearn: 2203.9980784\ttotal: 663ms\tremaining: 332ms\n",
      "20:\tlearn: 2176.3590254\ttotal: 699ms\tremaining: 300ms\n",
      "21:\tlearn: 2154.5165486\ttotal: 732ms\tremaining: 266ms\n",
      "22:\tlearn: 2132.3455564\ttotal: 763ms\tremaining: 232ms\n",
      "23:\tlearn: 2114.2323907\ttotal: 794ms\tremaining: 199ms\n",
      "24:\tlearn: 2098.1458756\ttotal: 826ms\tremaining: 165ms\n",
      "25:\tlearn: 2082.0439342\ttotal: 857ms\tremaining: 132ms\n",
      "26:\tlearn: 2067.7075542\ttotal: 892ms\tremaining: 99.1ms\n",
      "27:\tlearn: 2055.3464356\ttotal: 925ms\tremaining: 66ms\n",
      "28:\tlearn: 2045.1304986\ttotal: 956ms\tremaining: 33ms\n",
      "29:\tlearn: 2033.9755933\ttotal: 992ms\tremaining: 0us\n",
      "0:\tlearn: 4552.4523923\ttotal: 30.5ms\tremaining: 1.5s\n",
      "1:\tlearn: 4520.8044967\ttotal: 61.3ms\tremaining: 1.47s\n",
      "2:\tlearn: 4490.0635225\ttotal: 91.5ms\tremaining: 1.43s\n",
      "3:\tlearn: 4459.6735830\ttotal: 122ms\tremaining: 1.4s\n",
      "4:\tlearn: 4430.0965399\ttotal: 154ms\tremaining: 1.38s\n",
      "5:\tlearn: 4400.2494797\ttotal: 187ms\tremaining: 1.37s\n",
      "6:\tlearn: 4370.6552013\ttotal: 219ms\tremaining: 1.34s\n",
      "7:\tlearn: 4341.5467897\ttotal: 252ms\tremaining: 1.32s\n",
      "8:\tlearn: 4312.8829598\ttotal: 284ms\tremaining: 1.29s\n",
      "9:\tlearn: 4284.0958437\ttotal: 315ms\tremaining: 1.26s\n",
      "10:\tlearn: 4255.6127828\ttotal: 347ms\tremaining: 1.23s\n",
      "11:\tlearn: 4228.0045888\ttotal: 378ms\tremaining: 1.2s\n",
      "12:\tlearn: 4200.5275387\ttotal: 408ms\tremaining: 1.16s\n",
      "13:\tlearn: 4173.4591135\ttotal: 438ms\tremaining: 1.13s\n",
      "14:\tlearn: 4146.4390101\ttotal: 470ms\tremaining: 1.1s\n",
      "15:\tlearn: 4119.8966034\ttotal: 502ms\tremaining: 1.07s\n",
      "16:\tlearn: 4094.1149952\ttotal: 534ms\tremaining: 1.03s\n",
      "17:\tlearn: 4068.4190106\ttotal: 565ms\tremaining: 1s\n",
      "18:\tlearn: 4043.3461567\ttotal: 596ms\tremaining: 973ms\n",
      "19:\tlearn: 4017.9670587\ttotal: 626ms\tremaining: 940ms\n",
      "20:\tlearn: 3993.2796570\ttotal: 657ms\tremaining: 908ms\n",
      "21:\tlearn: 3968.4860863\ttotal: 688ms\tremaining: 876ms\n",
      "22:\tlearn: 3944.1705560\ttotal: 719ms\tremaining: 844ms\n",
      "23:\tlearn: 3920.1756574\ttotal: 750ms\tremaining: 812ms\n",
      "24:\tlearn: 3896.4267816\ttotal: 781ms\tremaining: 781ms\n",
      "25:\tlearn: 3872.8274418\ttotal: 812ms\tremaining: 749ms\n",
      "26:\tlearn: 3849.5746403\ttotal: 842ms\tremaining: 717ms\n",
      "27:\tlearn: 3826.9314967\ttotal: 873ms\tremaining: 686ms\n",
      "28:\tlearn: 3804.2992363\ttotal: 903ms\tremaining: 654ms\n",
      "29:\tlearn: 3781.9430180\ttotal: 934ms\tremaining: 623ms\n",
      "30:\tlearn: 3759.9345344\ttotal: 964ms\tremaining: 591ms\n",
      "31:\tlearn: 3738.1820829\ttotal: 997ms\tremaining: 561ms\n",
      "32:\tlearn: 3716.9955918\ttotal: 1.03s\tremaining: 529ms\n",
      "33:\tlearn: 3695.6362824\ttotal: 1.06s\tremaining: 498ms\n",
      "34:\tlearn: 3674.4223228\ttotal: 1.09s\tremaining: 468ms\n",
      "35:\tlearn: 3653.5055793\ttotal: 1.13s\tremaining: 438ms\n",
      "36:\tlearn: 3633.3458034\ttotal: 1.16s\tremaining: 407ms\n",
      "37:\tlearn: 3613.3200440\ttotal: 1.19s\tremaining: 376ms\n",
      "38:\tlearn: 3593.7038797\ttotal: 1.23s\tremaining: 346ms\n",
      "39:\tlearn: 3573.9445005\ttotal: 1.26s\tremaining: 316ms\n",
      "40:\tlearn: 3554.5626365\ttotal: 1.3s\tremaining: 285ms\n",
      "41:\tlearn: 3535.1584461\ttotal: 1.33s\tremaining: 253ms\n",
      "42:\tlearn: 3515.9946214\ttotal: 1.36s\tremaining: 222ms\n",
      "43:\tlearn: 3497.0990092\ttotal: 1.39s\tremaining: 190ms\n",
      "44:\tlearn: 3478.5629933\ttotal: 1.43s\tremaining: 159ms\n",
      "45:\tlearn: 3460.2908961\ttotal: 1.46s\tremaining: 127ms\n",
      "46:\tlearn: 3442.5841995\ttotal: 1.5s\tremaining: 95.5ms\n",
      "47:\tlearn: 3424.5926009\ttotal: 1.53s\tremaining: 63.7ms\n",
      "48:\tlearn: 3406.6709314\ttotal: 1.56s\tremaining: 31.9ms\n",
      "49:\tlearn: 3389.2597809\ttotal: 1.6s\tremaining: 0us\n",
      "0:\tlearn: 4558.9504784\ttotal: 30.5ms\tremaining: 1.49s\n",
      "1:\tlearn: 4527.8126959\ttotal: 61.9ms\tremaining: 1.49s\n",
      "2:\tlearn: 4497.0050602\ttotal: 93.8ms\tremaining: 1.47s\n",
      "3:\tlearn: 4466.8006573\ttotal: 127ms\tremaining: 1.46s\n",
      "4:\tlearn: 4436.9538311\ttotal: 159ms\tremaining: 1.44s\n",
      "5:\tlearn: 4407.4131940\ttotal: 198ms\tremaining: 1.45s\n",
      "6:\tlearn: 4378.4016256\ttotal: 231ms\tremaining: 1.42s\n",
      "7:\tlearn: 4349.0576241\ttotal: 269ms\tremaining: 1.41s\n",
      "8:\tlearn: 4319.9235108\ttotal: 307ms\tremaining: 1.4s\n",
      "9:\tlearn: 4291.7017232\ttotal: 339ms\tremaining: 1.36s\n",
      "10:\tlearn: 4263.5724352\ttotal: 371ms\tremaining: 1.31s\n",
      "11:\tlearn: 4235.7958216\ttotal: 403ms\tremaining: 1.28s\n",
      "12:\tlearn: 4208.4218134\ttotal: 434ms\tremaining: 1.24s\n",
      "13:\tlearn: 4181.6798954\ttotal: 465ms\tremaining: 1.2s\n",
      "14:\tlearn: 4154.8769095\ttotal: 497ms\tremaining: 1.16s\n",
      "15:\tlearn: 4128.3750294\ttotal: 528ms\tremaining: 1.12s\n",
      "16:\tlearn: 4101.9814475\ttotal: 560ms\tremaining: 1.09s\n",
      "17:\tlearn: 4076.0196877\ttotal: 592ms\tremaining: 1.05s\n",
      "18:\tlearn: 4050.5633981\ttotal: 623ms\tremaining: 1.02s\n",
      "19:\tlearn: 4025.5956298\ttotal: 657ms\tremaining: 985ms\n",
      "20:\tlearn: 4000.7775457\ttotal: 691ms\tremaining: 954ms\n",
      "21:\tlearn: 3976.1768946\ttotal: 723ms\tremaining: 920ms\n",
      "22:\tlearn: 3951.4335364\ttotal: 754ms\tremaining: 886ms\n",
      "23:\tlearn: 3927.7098668\ttotal: 786ms\tremaining: 852ms\n",
      "24:\tlearn: 3904.0068793\ttotal: 817ms\tremaining: 817ms\n",
      "25:\tlearn: 3880.6291022\ttotal: 849ms\tremaining: 784ms\n",
      "26:\tlearn: 3857.5386059\ttotal: 880ms\tremaining: 749ms\n",
      "27:\tlearn: 3834.8297584\ttotal: 910ms\tremaining: 715ms\n",
      "28:\tlearn: 3812.3351465\ttotal: 941ms\tremaining: 681ms\n",
      "29:\tlearn: 3790.1551028\ttotal: 974ms\tremaining: 649ms\n",
      "30:\tlearn: 3768.2450154\ttotal: 1s\tremaining: 616ms\n",
      "31:\tlearn: 3746.6333799\ttotal: 1.04s\tremaining: 583ms\n",
      "32:\tlearn: 3725.3933047\ttotal: 1.07s\tremaining: 550ms\n",
      "33:\tlearn: 3704.7301148\ttotal: 1.1s\tremaining: 520ms\n",
      "34:\tlearn: 3683.7856310\ttotal: 1.14s\tremaining: 487ms\n",
      "35:\tlearn: 3662.9971575\ttotal: 1.17s\tremaining: 454ms\n",
      "36:\tlearn: 3642.8952173\ttotal: 1.2s\tremaining: 421ms\n",
      "37:\tlearn: 3622.9607581\ttotal: 1.23s\tremaining: 388ms\n",
      "38:\tlearn: 3603.1907984\ttotal: 1.26s\tremaining: 356ms\n",
      "39:\tlearn: 3583.5243371\ttotal: 1.29s\tremaining: 323ms\n",
      "40:\tlearn: 3563.8919840\ttotal: 1.33s\tremaining: 291ms\n",
      "41:\tlearn: 3544.7960181\ttotal: 1.36s\tremaining: 259ms\n",
      "42:\tlearn: 3525.5709441\ttotal: 1.39s\tremaining: 226ms\n",
      "43:\tlearn: 3507.1801309\ttotal: 1.42s\tremaining: 194ms\n",
      "44:\tlearn: 3488.3054563\ttotal: 1.46s\tremaining: 162ms\n",
      "45:\tlearn: 3469.8236190\ttotal: 1.49s\tremaining: 130ms\n",
      "46:\tlearn: 3451.1989477\ttotal: 1.52s\tremaining: 97.4ms\n",
      "47:\tlearn: 3433.5465085\ttotal: 1.56s\tremaining: 64.9ms\n",
      "48:\tlearn: 3416.2211575\ttotal: 1.59s\tremaining: 32.4ms\n",
      "49:\tlearn: 3398.5782402\ttotal: 1.62s\tremaining: 0us\n",
      "0:\tlearn: 4426.7156684\ttotal: 32.4ms\tremaining: 1.59s\n",
      "1:\tlearn: 4277.9274610\ttotal: 65.1ms\tremaining: 1.56s\n",
      "2:\tlearn: 4139.0300432\ttotal: 97.5ms\tremaining: 1.53s\n",
      "3:\tlearn: 4007.2669102\ttotal: 129ms\tremaining: 1.49s\n",
      "4:\tlearn: 3887.2837699\ttotal: 162ms\tremaining: 1.45s\n",
      "5:\tlearn: 3770.9338887\ttotal: 194ms\tremaining: 1.42s\n",
      "6:\tlearn: 3662.0604960\ttotal: 226ms\tremaining: 1.39s\n",
      "7:\tlearn: 3560.6269211\ttotal: 258ms\tremaining: 1.35s\n",
      "8:\tlearn: 3466.6256677\ttotal: 289ms\tremaining: 1.31s\n",
      "9:\tlearn: 3375.7168344\ttotal: 320ms\tremaining: 1.28s\n",
      "10:\tlearn: 3291.4014954\ttotal: 351ms\tremaining: 1.24s\n",
      "11:\tlearn: 3209.8369853\ttotal: 383ms\tremaining: 1.21s\n",
      "12:\tlearn: 3134.6244024\ttotal: 414ms\tremaining: 1.18s\n",
      "13:\tlearn: 3065.1383715\ttotal: 448ms\tremaining: 1.15s\n",
      "14:\tlearn: 2998.9674632\ttotal: 484ms\tremaining: 1.13s\n",
      "15:\tlearn: 2937.3488209\ttotal: 516ms\tremaining: 1.1s\n",
      "16:\tlearn: 2880.9103864\ttotal: 550ms\tremaining: 1.07s\n",
      "17:\tlearn: 2827.9982889\ttotal: 582ms\tremaining: 1.03s\n",
      "18:\tlearn: 2777.5497645\ttotal: 613ms\tremaining: 1s\n",
      "19:\tlearn: 2731.1802543\ttotal: 644ms\tremaining: 966ms\n",
      "20:\tlearn: 2687.4988261\ttotal: 675ms\tremaining: 932ms\n",
      "21:\tlearn: 2647.1102603\ttotal: 709ms\tremaining: 902ms\n",
      "22:\tlearn: 2606.4133271\ttotal: 741ms\tremaining: 870ms\n",
      "23:\tlearn: 2570.3654180\ttotal: 773ms\tremaining: 838ms\n",
      "24:\tlearn: 2536.7760275\ttotal: 806ms\tremaining: 806ms\n",
      "25:\tlearn: 2504.8308115\ttotal: 838ms\tremaining: 774ms\n",
      "26:\tlearn: 2473.9398172\ttotal: 869ms\tremaining: 740ms\n",
      "27:\tlearn: 2447.3164197\ttotal: 902ms\tremaining: 709ms\n",
      "28:\tlearn: 2420.4531771\ttotal: 936ms\tremaining: 677ms\n",
      "29:\tlearn: 2395.9612844\ttotal: 968ms\tremaining: 645ms\n",
      "30:\tlearn: 2371.0402590\ttotal: 1.01s\tremaining: 620ms\n",
      "31:\tlearn: 2348.5712235\ttotal: 1.05s\tremaining: 592ms\n",
      "32:\tlearn: 2327.3702886\ttotal: 1.08s\tremaining: 559ms\n",
      "33:\tlearn: 2306.1774791\ttotal: 1.11s\tremaining: 525ms\n",
      "34:\tlearn: 2288.2489160\ttotal: 1.15s\tremaining: 491ms\n",
      "35:\tlearn: 2271.0793641\ttotal: 1.18s\tremaining: 458ms\n",
      "36:\tlearn: 2255.1629491\ttotal: 1.21s\tremaining: 426ms\n",
      "37:\tlearn: 2240.5490425\ttotal: 1.24s\tremaining: 393ms\n",
      "38:\tlearn: 2226.8437737\ttotal: 1.28s\tremaining: 360ms\n",
      "39:\tlearn: 2214.1828099\ttotal: 1.31s\tremaining: 327ms\n",
      "40:\tlearn: 2199.9785697\ttotal: 1.34s\tremaining: 295ms\n",
      "41:\tlearn: 2187.6875156\ttotal: 1.37s\tremaining: 262ms\n",
      "42:\tlearn: 2173.2365918\ttotal: 1.41s\tremaining: 229ms\n",
      "43:\tlearn: 2159.1393518\ttotal: 1.44s\tremaining: 196ms\n",
      "44:\tlearn: 2148.7188676\ttotal: 1.47s\tremaining: 164ms\n",
      "45:\tlearn: 2138.5448040\ttotal: 1.5s\tremaining: 131ms\n",
      "46:\tlearn: 2127.8084020\ttotal: 1.53s\tremaining: 97.9ms\n",
      "47:\tlearn: 2118.0131703\ttotal: 1.57s\tremaining: 65.4ms\n",
      "48:\tlearn: 2107.7054774\ttotal: 1.61s\tremaining: 32.8ms\n",
      "49:\tlearn: 2099.7976535\ttotal: 1.65s\tremaining: 0us\n",
      "0:\tlearn: 4433.1783952\ttotal: 30.4ms\tremaining: 1.49s\n",
      "1:\tlearn: 4284.6920641\ttotal: 62.1ms\tremaining: 1.49s\n",
      "2:\tlearn: 4146.6952053\ttotal: 93.6ms\tremaining: 1.47s\n",
      "3:\tlearn: 4016.1663011\ttotal: 125ms\tremaining: 1.43s\n",
      "4:\tlearn: 3895.1803245\ttotal: 155ms\tremaining: 1.4s\n",
      "5:\tlearn: 3779.2055748\ttotal: 187ms\tremaining: 1.37s\n",
      "6:\tlearn: 3669.0905891\ttotal: 218ms\tremaining: 1.34s\n",
      "7:\tlearn: 3568.6718492\ttotal: 249ms\tremaining: 1.31s\n",
      "8:\tlearn: 3471.1788194\ttotal: 281ms\tremaining: 1.28s\n",
      "9:\tlearn: 3382.9033526\ttotal: 318ms\tremaining: 1.27s\n",
      "10:\tlearn: 3299.0380614\ttotal: 358ms\tremaining: 1.27s\n",
      "11:\tlearn: 3220.0482746\ttotal: 395ms\tremaining: 1.25s\n",
      "12:\tlearn: 3146.5001444\ttotal: 426ms\tremaining: 1.21s\n",
      "13:\tlearn: 3077.4808214\ttotal: 456ms\tremaining: 1.17s\n",
      "14:\tlearn: 3013.2784186\ttotal: 488ms\tremaining: 1.14s\n",
      "15:\tlearn: 2951.8820675\ttotal: 518ms\tremaining: 1.1s\n",
      "16:\tlearn: 2894.9051426\ttotal: 548ms\tremaining: 1.06s\n",
      "17:\tlearn: 2840.4704196\ttotal: 580ms\tremaining: 1.03s\n",
      "18:\tlearn: 2790.8891688\ttotal: 622ms\tremaining: 1.01s\n",
      "19:\tlearn: 2744.4276468\ttotal: 653ms\tremaining: 979ms\n",
      "20:\tlearn: 2699.8619824\ttotal: 685ms\tremaining: 946ms\n",
      "21:\tlearn: 2659.2756960\ttotal: 716ms\tremaining: 912ms\n",
      "22:\tlearn: 2621.0441564\ttotal: 747ms\tremaining: 877ms\n",
      "23:\tlearn: 2583.5557179\ttotal: 796ms\tremaining: 862ms\n",
      "24:\tlearn: 2549.4818384\ttotal: 834ms\tremaining: 834ms\n",
      "25:\tlearn: 2518.0369800\ttotal: 866ms\tremaining: 800ms\n",
      "26:\tlearn: 2487.5826540\ttotal: 899ms\tremaining: 766ms\n",
      "27:\tlearn: 2461.1242001\ttotal: 931ms\tremaining: 732ms\n",
      "28:\tlearn: 2433.9065456\ttotal: 963ms\tremaining: 697ms\n",
      "29:\tlearn: 2409.1082439\ttotal: 998ms\tremaining: 665ms\n",
      "30:\tlearn: 2382.3316034\ttotal: 1.03s\tremaining: 631ms\n",
      "31:\tlearn: 2361.1280202\ttotal: 1.06s\tremaining: 597ms\n",
      "32:\tlearn: 2340.1588721\ttotal: 1.09s\tremaining: 563ms\n",
      "33:\tlearn: 2320.3568463\ttotal: 1.12s\tremaining: 529ms\n",
      "34:\tlearn: 2302.8548835\ttotal: 1.16s\tremaining: 495ms\n",
      "35:\tlearn: 2285.7569465\ttotal: 1.19s\tremaining: 461ms\n",
      "36:\tlearn: 2269.5271499\ttotal: 1.22s\tremaining: 428ms\n",
      "37:\tlearn: 2253.1090553\ttotal: 1.25s\tremaining: 395ms\n",
      "38:\tlearn: 2239.7730380\ttotal: 1.28s\tremaining: 362ms\n",
      "39:\tlearn: 2223.7527758\ttotal: 1.31s\tremaining: 329ms\n",
      "40:\tlearn: 2208.7366350\ttotal: 1.35s\tremaining: 296ms\n",
      "41:\tlearn: 2194.6243241\ttotal: 1.38s\tremaining: 264ms\n",
      "42:\tlearn: 2182.4940105\ttotal: 1.42s\tremaining: 231ms\n",
      "43:\tlearn: 2171.9717352\ttotal: 1.45s\tremaining: 197ms\n",
      "44:\tlearn: 2161.2552846\ttotal: 1.48s\tremaining: 164ms\n",
      "45:\tlearn: 2150.3007536\ttotal: 1.51s\tremaining: 131ms\n",
      "46:\tlearn: 2140.5061636\ttotal: 1.54s\tremaining: 98.3ms\n",
      "47:\tlearn: 2131.5562689\ttotal: 1.57s\tremaining: 65.5ms\n",
      "48:\tlearn: 2120.5734978\ttotal: 1.6s\tremaining: 32.7ms\n",
      "49:\tlearn: 2111.4632987\ttotal: 1.63s\tremaining: 0us\n",
      "0:\tlearn: 4271.9612696\ttotal: 52.9ms\tremaining: 2.59s\n",
      "1:\tlearn: 3992.7480337\ttotal: 86.4ms\tremaining: 2.07s\n",
      "2:\tlearn: 3750.7763973\ttotal: 124ms\tremaining: 1.94s\n",
      "3:\tlearn: 3537.9406627\ttotal: 154ms\tremaining: 1.77s\n",
      "4:\tlearn: 3353.5328244\ttotal: 186ms\tremaining: 1.67s\n",
      "5:\tlearn: 3186.0695681\ttotal: 217ms\tremaining: 1.59s\n",
      "6:\tlearn: 3045.8631053\ttotal: 249ms\tremaining: 1.53s\n",
      "7:\tlearn: 2920.3145251\ttotal: 284ms\tremaining: 1.49s\n",
      "8:\tlearn: 2808.7548290\ttotal: 318ms\tremaining: 1.45s\n",
      "9:\tlearn: 2715.6361346\ttotal: 350ms\tremaining: 1.4s\n",
      "10:\tlearn: 2629.2783559\ttotal: 383ms\tremaining: 1.36s\n",
      "11:\tlearn: 2554.7631145\ttotal: 415ms\tremaining: 1.31s\n",
      "12:\tlearn: 2491.5543458\ttotal: 447ms\tremaining: 1.27s\n",
      "13:\tlearn: 2433.7101922\ttotal: 480ms\tremaining: 1.23s\n",
      "14:\tlearn: 2383.4143066\ttotal: 513ms\tremaining: 1.2s\n",
      "15:\tlearn: 2335.9107631\ttotal: 544ms\tremaining: 1.16s\n",
      "16:\tlearn: 2296.4169661\ttotal: 576ms\tremaining: 1.12s\n",
      "17:\tlearn: 2257.2961992\ttotal: 609ms\tremaining: 1.08s\n",
      "18:\tlearn: 2224.0846626\ttotal: 642ms\tremaining: 1.05s\n",
      "19:\tlearn: 2194.5835831\ttotal: 673ms\tremaining: 1.01s\n",
      "20:\tlearn: 2171.0255610\ttotal: 714ms\tremaining: 986ms\n",
      "21:\tlearn: 2149.7615687\ttotal: 756ms\tremaining: 963ms\n",
      "22:\tlearn: 2125.6406328\ttotal: 792ms\tremaining: 929ms\n",
      "23:\tlearn: 2107.9865002\ttotal: 824ms\tremaining: 893ms\n",
      "24:\tlearn: 2091.5634361\ttotal: 856ms\tremaining: 856ms\n",
      "25:\tlearn: 2074.6853143\ttotal: 889ms\tremaining: 821ms\n",
      "26:\tlearn: 2059.6613364\ttotal: 922ms\tremaining: 786ms\n",
      "27:\tlearn: 2047.7088521\ttotal: 956ms\tremaining: 751ms\n",
      "28:\tlearn: 2036.6215501\ttotal: 989ms\tremaining: 716ms\n",
      "29:\tlearn: 2026.7383021\ttotal: 1.02s\tremaining: 680ms\n",
      "30:\tlearn: 2016.3835438\ttotal: 1.05s\tremaining: 645ms\n",
      "31:\tlearn: 2007.8467370\ttotal: 1.08s\tremaining: 610ms\n",
      "32:\tlearn: 1997.9947414\ttotal: 1.12s\tremaining: 575ms\n",
      "33:\tlearn: 1989.7526996\ttotal: 1.15s\tremaining: 541ms\n",
      "34:\tlearn: 1983.5790097\ttotal: 1.18s\tremaining: 507ms\n",
      "35:\tlearn: 1977.3705374\ttotal: 1.22s\tremaining: 475ms\n",
      "36:\tlearn: 1970.9526600\ttotal: 1.27s\tremaining: 446ms\n",
      "37:\tlearn: 1965.1545149\ttotal: 1.3s\tremaining: 411ms\n",
      "38:\tlearn: 1958.7333364\ttotal: 1.33s\tremaining: 376ms\n",
      "39:\tlearn: 1953.6890892\ttotal: 1.36s\tremaining: 341ms\n",
      "40:\tlearn: 1949.3715979\ttotal: 1.4s\tremaining: 307ms\n",
      "41:\tlearn: 1944.4914284\ttotal: 1.43s\tremaining: 272ms\n",
      "42:\tlearn: 1940.6711544\ttotal: 1.46s\tremaining: 238ms\n",
      "43:\tlearn: 1935.6748441\ttotal: 1.49s\tremaining: 204ms\n",
      "44:\tlearn: 1931.2749062\ttotal: 1.52s\tremaining: 169ms\n",
      "45:\tlearn: 1927.6102846\ttotal: 1.56s\tremaining: 136ms\n",
      "46:\tlearn: 1923.8731785\ttotal: 1.6s\tremaining: 102ms\n",
      "47:\tlearn: 1920.3727619\ttotal: 1.63s\tremaining: 67.9ms\n",
      "48:\tlearn: 1917.4605076\ttotal: 1.66s\tremaining: 34ms\n",
      "49:\tlearn: 1914.6357738\ttotal: 1.7s\tremaining: 0us\n",
      "0:\tlearn: 4278.4001516\ttotal: 31.1ms\tremaining: 1.52s\n",
      "1:\tlearn: 4002.7853878\ttotal: 62.8ms\tremaining: 1.51s\n",
      "2:\tlearn: 3761.7377492\ttotal: 94.7ms\tremaining: 1.48s\n",
      "3:\tlearn: 3550.5216164\ttotal: 126ms\tremaining: 1.44s\n",
      "4:\tlearn: 3362.7266511\ttotal: 157ms\tremaining: 1.41s\n",
      "5:\tlearn: 3196.2593827\ttotal: 189ms\tremaining: 1.39s\n",
      "6:\tlearn: 3052.0815618\ttotal: 223ms\tremaining: 1.37s\n",
      "7:\tlearn: 2924.6870047\ttotal: 260ms\tremaining: 1.36s\n",
      "8:\tlearn: 2815.9963624\ttotal: 292ms\tremaining: 1.33s\n",
      "9:\tlearn: 2721.8554197\ttotal: 323ms\tremaining: 1.29s\n",
      "10:\tlearn: 2639.3436970\ttotal: 354ms\tremaining: 1.25s\n",
      "11:\tlearn: 2557.8309664\ttotal: 386ms\tremaining: 1.22s\n",
      "12:\tlearn: 2494.1870216\ttotal: 416ms\tremaining: 1.18s\n",
      "13:\tlearn: 2439.9572591\ttotal: 446ms\tremaining: 1.15s\n",
      "14:\tlearn: 2388.2269835\ttotal: 478ms\tremaining: 1.11s\n",
      "15:\tlearn: 2337.8155315\ttotal: 511ms\tremaining: 1.08s\n",
      "16:\tlearn: 2299.1893480\ttotal: 548ms\tremaining: 1.06s\n",
      "17:\tlearn: 2266.6614218\ttotal: 582ms\tremaining: 1.03s\n",
      "18:\tlearn: 2231.2874316\ttotal: 615ms\tremaining: 1s\n",
      "19:\tlearn: 2203.9980784\ttotal: 647ms\tremaining: 971ms\n",
      "20:\tlearn: 2176.3590254\ttotal: 681ms\tremaining: 940ms\n",
      "21:\tlearn: 2154.5165486\ttotal: 711ms\tremaining: 905ms\n",
      "22:\tlearn: 2132.3455564\ttotal: 745ms\tremaining: 874ms\n",
      "23:\tlearn: 2114.2323907\ttotal: 777ms\tremaining: 842ms\n",
      "24:\tlearn: 2098.1458756\ttotal: 808ms\tremaining: 808ms\n",
      "25:\tlearn: 2082.0439342\ttotal: 839ms\tremaining: 774ms\n",
      "26:\tlearn: 2067.7075542\ttotal: 869ms\tremaining: 741ms\n",
      "27:\tlearn: 2055.3464356\ttotal: 900ms\tremaining: 707ms\n",
      "28:\tlearn: 2045.1304986\ttotal: 932ms\tremaining: 675ms\n",
      "29:\tlearn: 2033.9755933\ttotal: 963ms\tremaining: 642ms\n",
      "30:\tlearn: 2024.5915159\ttotal: 994ms\tremaining: 609ms\n",
      "31:\tlearn: 2014.5418288\ttotal: 1.02s\tremaining: 576ms\n",
      "32:\tlearn: 2005.9654704\ttotal: 1.05s\tremaining: 544ms\n",
      "33:\tlearn: 1999.2229482\ttotal: 1.09s\tremaining: 511ms\n",
      "34:\tlearn: 1991.3507564\ttotal: 1.12s\tremaining: 479ms\n",
      "35:\tlearn: 1984.5943441\ttotal: 1.15s\tremaining: 447ms\n",
      "36:\tlearn: 1975.9934300\ttotal: 1.18s\tremaining: 414ms\n",
      "37:\tlearn: 1969.6608019\ttotal: 1.21s\tremaining: 382ms\n",
      "38:\tlearn: 1964.3510550\ttotal: 1.24s\tremaining: 351ms\n",
      "39:\tlearn: 1959.5440912\ttotal: 1.28s\tremaining: 319ms\n",
      "40:\tlearn: 1955.1711947\ttotal: 1.31s\tremaining: 287ms\n",
      "41:\tlearn: 1951.4408978\ttotal: 1.34s\tremaining: 256ms\n",
      "42:\tlearn: 1947.6832558\ttotal: 1.38s\tremaining: 224ms\n",
      "43:\tlearn: 1942.1769418\ttotal: 1.42s\tremaining: 193ms\n",
      "44:\tlearn: 1938.8544783\ttotal: 1.45s\tremaining: 161ms\n",
      "45:\tlearn: 1934.4960313\ttotal: 1.49s\tremaining: 130ms\n",
      "46:\tlearn: 1930.5537226\ttotal: 1.52s\tremaining: 97.3ms\n",
      "47:\tlearn: 1927.4222889\ttotal: 1.56s\tremaining: 64.8ms\n",
      "48:\tlearn: 1924.2665818\ttotal: 1.59s\tremaining: 32.4ms\n",
      "49:\tlearn: 1922.1389774\ttotal: 1.63s\tremaining: 0us\n",
      "0:\tlearn: 4552.4523923\ttotal: 31.7ms\tremaining: 3.13s\n",
      "1:\tlearn: 4520.8044967\ttotal: 65.1ms\tremaining: 3.19s\n",
      "2:\tlearn: 4490.0635225\ttotal: 97ms\tremaining: 3.13s\n",
      "3:\tlearn: 4459.6735830\ttotal: 129ms\tremaining: 3.1s\n",
      "4:\tlearn: 4430.0965399\ttotal: 161ms\tremaining: 3.06s\n",
      "5:\tlearn: 4400.2494797\ttotal: 192ms\tremaining: 3.01s\n",
      "6:\tlearn: 4370.6552013\ttotal: 226ms\tremaining: 3.01s\n",
      "7:\tlearn: 4341.5467897\ttotal: 258ms\tremaining: 2.97s\n",
      "8:\tlearn: 4312.8829598\ttotal: 289ms\tremaining: 2.92s\n",
      "9:\tlearn: 4284.0958437\ttotal: 322ms\tremaining: 2.9s\n",
      "10:\tlearn: 4255.6127828\ttotal: 354ms\tremaining: 2.86s\n",
      "11:\tlearn: 4228.0045888\ttotal: 399ms\tremaining: 2.93s\n",
      "12:\tlearn: 4200.5275387\ttotal: 432ms\tremaining: 2.89s\n",
      "13:\tlearn: 4173.4591135\ttotal: 464ms\tremaining: 2.85s\n",
      "14:\tlearn: 4146.4390101\ttotal: 497ms\tremaining: 2.82s\n",
      "15:\tlearn: 4119.8966034\ttotal: 531ms\tremaining: 2.79s\n",
      "16:\tlearn: 4094.1149952\ttotal: 563ms\tremaining: 2.75s\n",
      "17:\tlearn: 4068.4190106\ttotal: 594ms\tremaining: 2.71s\n",
      "18:\tlearn: 4043.3461567\ttotal: 625ms\tremaining: 2.67s\n",
      "19:\tlearn: 4017.9670587\ttotal: 657ms\tremaining: 2.63s\n",
      "20:\tlearn: 3993.2796570\ttotal: 689ms\tremaining: 2.59s\n",
      "21:\tlearn: 3968.4860863\ttotal: 723ms\tremaining: 2.56s\n",
      "22:\tlearn: 3944.1705560\ttotal: 769ms\tremaining: 2.58s\n",
      "23:\tlearn: 3920.1756574\ttotal: 820ms\tremaining: 2.6s\n",
      "24:\tlearn: 3896.4267816\ttotal: 854ms\tremaining: 2.56s\n",
      "25:\tlearn: 3872.8274418\ttotal: 884ms\tremaining: 2.52s\n",
      "26:\tlearn: 3849.5746403\ttotal: 919ms\tremaining: 2.48s\n",
      "27:\tlearn: 3826.9314967\ttotal: 950ms\tremaining: 2.44s\n",
      "28:\tlearn: 3804.2992363\ttotal: 981ms\tremaining: 2.4s\n",
      "29:\tlearn: 3781.9430180\ttotal: 1.01s\tremaining: 2.36s\n",
      "30:\tlearn: 3759.9345344\ttotal: 1.04s\tremaining: 2.32s\n",
      "31:\tlearn: 3738.1820829\ttotal: 1.07s\tremaining: 2.28s\n",
      "32:\tlearn: 3716.9955918\ttotal: 1.1s\tremaining: 2.24s\n",
      "33:\tlearn: 3695.6362824\ttotal: 1.14s\tremaining: 2.2s\n",
      "34:\tlearn: 3674.4223228\ttotal: 1.17s\tremaining: 2.17s\n",
      "35:\tlearn: 3653.5055793\ttotal: 1.2s\tremaining: 2.13s\n",
      "36:\tlearn: 3633.3458034\ttotal: 1.23s\tremaining: 2.09s\n",
      "37:\tlearn: 3613.3200440\ttotal: 1.26s\tremaining: 2.06s\n",
      "38:\tlearn: 3593.7038797\ttotal: 1.29s\tremaining: 2.02s\n",
      "39:\tlearn: 3573.9445005\ttotal: 1.32s\tremaining: 1.99s\n",
      "40:\tlearn: 3554.5626365\ttotal: 1.36s\tremaining: 1.95s\n",
      "41:\tlearn: 3535.1584461\ttotal: 1.39s\tremaining: 1.92s\n",
      "42:\tlearn: 3515.9946214\ttotal: 1.42s\tremaining: 1.88s\n",
      "43:\tlearn: 3497.0990092\ttotal: 1.45s\tremaining: 1.85s\n",
      "44:\tlearn: 3478.5629933\ttotal: 1.48s\tremaining: 1.81s\n",
      "45:\tlearn: 3460.2908961\ttotal: 1.51s\tremaining: 1.78s\n",
      "46:\tlearn: 3442.5841995\ttotal: 1.55s\tremaining: 1.75s\n",
      "47:\tlearn: 3424.5926009\ttotal: 1.58s\tremaining: 1.71s\n",
      "48:\tlearn: 3406.6709314\ttotal: 1.61s\tremaining: 1.68s\n",
      "49:\tlearn: 3389.2597809\ttotal: 1.65s\tremaining: 1.65s\n",
      "50:\tlearn: 3372.3417268\ttotal: 1.68s\tremaining: 1.61s\n",
      "51:\tlearn: 3355.1673318\ttotal: 1.71s\tremaining: 1.58s\n",
      "52:\tlearn: 3338.2602971\ttotal: 1.74s\tremaining: 1.54s\n",
      "53:\tlearn: 3321.5739219\ttotal: 1.77s\tremaining: 1.51s\n",
      "54:\tlearn: 3305.1009515\ttotal: 1.8s\tremaining: 1.48s\n",
      "55:\tlearn: 3289.1336513\ttotal: 1.83s\tremaining: 1.44s\n",
      "56:\tlearn: 3273.1370152\ttotal: 1.87s\tremaining: 1.41s\n",
      "57:\tlearn: 3257.1580796\ttotal: 1.9s\tremaining: 1.38s\n",
      "58:\tlearn: 3241.6945443\ttotal: 1.93s\tremaining: 1.34s\n",
      "59:\tlearn: 3226.3845064\ttotal: 1.96s\tremaining: 1.31s\n",
      "60:\tlearn: 3211.2700009\ttotal: 1.99s\tremaining: 1.27s\n",
      "61:\tlearn: 3196.6441316\ttotal: 2.02s\tremaining: 1.24s\n",
      "62:\tlearn: 3182.0951891\ttotal: 2.05s\tremaining: 1.2s\n",
      "63:\tlearn: 3167.6383201\ttotal: 2.08s\tremaining: 1.17s\n",
      "64:\tlearn: 3153.1705541\ttotal: 2.11s\tremaining: 1.14s\n",
      "65:\tlearn: 3138.9672066\ttotal: 2.15s\tremaining: 1.1s\n",
      "66:\tlearn: 3124.7667219\ttotal: 2.18s\tremaining: 1.07s\n",
      "67:\tlearn: 3110.9860981\ttotal: 2.21s\tremaining: 1.04s\n",
      "68:\tlearn: 3097.3476735\ttotal: 2.24s\tremaining: 1.01s\n",
      "69:\tlearn: 3083.8861557\ttotal: 2.27s\tremaining: 975ms\n",
      "70:\tlearn: 3070.6067525\ttotal: 2.31s\tremaining: 942ms\n",
      "71:\tlearn: 3057.3060287\ttotal: 2.34s\tremaining: 909ms\n",
      "72:\tlearn: 3044.2435854\ttotal: 2.37s\tremaining: 878ms\n",
      "73:\tlearn: 3031.7220898\ttotal: 2.4s\tremaining: 845ms\n",
      "74:\tlearn: 3019.0112000\ttotal: 2.44s\tremaining: 812ms\n",
      "75:\tlearn: 3006.4190280\ttotal: 2.47s\tremaining: 780ms\n",
      "76:\tlearn: 2994.1882238\ttotal: 2.5s\tremaining: 748ms\n",
      "77:\tlearn: 2981.8956110\ttotal: 2.54s\tremaining: 715ms\n",
      "78:\tlearn: 2969.6799098\ttotal: 2.57s\tremaining: 682ms\n",
      "79:\tlearn: 2957.8328248\ttotal: 2.6s\tremaining: 650ms\n",
      "80:\tlearn: 2946.3412620\ttotal: 2.63s\tremaining: 617ms\n",
      "81:\tlearn: 2935.0565142\ttotal: 2.67s\tremaining: 585ms\n",
      "82:\tlearn: 2923.6075051\ttotal: 2.7s\tremaining: 553ms\n",
      "83:\tlearn: 2912.2309843\ttotal: 2.73s\tremaining: 520ms\n",
      "84:\tlearn: 2901.1326706\ttotal: 2.78s\tremaining: 490ms\n",
      "85:\tlearn: 2890.1552007\ttotal: 2.81s\tremaining: 457ms\n",
      "86:\tlearn: 2878.9749357\ttotal: 2.84s\tremaining: 425ms\n",
      "87:\tlearn: 2868.4203157\ttotal: 2.87s\tremaining: 392ms\n",
      "88:\tlearn: 2857.8352655\ttotal: 2.9s\tremaining: 359ms\n",
      "89:\tlearn: 2846.9975032\ttotal: 2.93s\tremaining: 326ms\n",
      "90:\tlearn: 2836.5619147\ttotal: 2.96s\tremaining: 293ms\n",
      "91:\tlearn: 2826.2492593\ttotal: 3s\tremaining: 261ms\n",
      "92:\tlearn: 2816.0394997\ttotal: 3.03s\tremaining: 228ms\n",
      "93:\tlearn: 2805.8618577\ttotal: 3.06s\tremaining: 195ms\n",
      "94:\tlearn: 2795.9340928\ttotal: 3.09s\tremaining: 163ms\n",
      "95:\tlearn: 2786.2525300\ttotal: 3.12s\tremaining: 130ms\n",
      "96:\tlearn: 2776.6360534\ttotal: 3.15s\tremaining: 97.5ms\n",
      "97:\tlearn: 2767.4138224\ttotal: 3.18s\tremaining: 65ms\n",
      "98:\tlearn: 2758.2932583\ttotal: 3.21s\tremaining: 32.5ms\n",
      "99:\tlearn: 2748.8082708\ttotal: 3.25s\tremaining: 0us\n",
      "0:\tlearn: 4558.9504784\ttotal: 31.1ms\tremaining: 3.08s\n",
      "1:\tlearn: 4527.8126959\ttotal: 63.6ms\tremaining: 3.12s\n",
      "2:\tlearn: 4497.0050602\ttotal: 94.5ms\tremaining: 3.05s\n",
      "3:\tlearn: 4466.8006573\ttotal: 125ms\tremaining: 3.01s\n",
      "4:\tlearn: 4436.9538311\ttotal: 156ms\tremaining: 2.96s\n",
      "5:\tlearn: 4407.4131940\ttotal: 187ms\tremaining: 2.93s\n",
      "6:\tlearn: 4378.4016256\ttotal: 218ms\tremaining: 2.9s\n",
      "7:\tlearn: 4349.0576241\ttotal: 252ms\tremaining: 2.9s\n",
      "8:\tlearn: 4319.9235108\ttotal: 291ms\tremaining: 2.94s\n",
      "9:\tlearn: 4291.7017232\ttotal: 323ms\tremaining: 2.91s\n",
      "10:\tlearn: 4263.5724352\ttotal: 355ms\tremaining: 2.87s\n",
      "11:\tlearn: 4235.7958216\ttotal: 387ms\tremaining: 2.84s\n",
      "12:\tlearn: 4208.4218134\ttotal: 418ms\tremaining: 2.8s\n",
      "13:\tlearn: 4181.6798954\ttotal: 450ms\tremaining: 2.76s\n",
      "14:\tlearn: 4154.8769095\ttotal: 481ms\tremaining: 2.73s\n",
      "15:\tlearn: 4128.3750294\ttotal: 514ms\tremaining: 2.7s\n",
      "16:\tlearn: 4101.9814475\ttotal: 545ms\tremaining: 2.66s\n",
      "17:\tlearn: 4076.0196877\ttotal: 577ms\tremaining: 2.63s\n",
      "18:\tlearn: 4050.5633981\ttotal: 609ms\tremaining: 2.59s\n",
      "19:\tlearn: 4025.5956298\ttotal: 642ms\tremaining: 2.57s\n",
      "20:\tlearn: 4000.7775457\ttotal: 672ms\tremaining: 2.53s\n",
      "21:\tlearn: 3976.1768946\ttotal: 703ms\tremaining: 2.49s\n",
      "22:\tlearn: 3951.4335364\ttotal: 735ms\tremaining: 2.46s\n",
      "23:\tlearn: 3927.7098668\ttotal: 766ms\tremaining: 2.43s\n",
      "24:\tlearn: 3904.0068793\ttotal: 798ms\tremaining: 2.39s\n",
      "25:\tlearn: 3880.6291022\ttotal: 829ms\tremaining: 2.36s\n",
      "26:\tlearn: 3857.5386059\ttotal: 862ms\tremaining: 2.33s\n",
      "27:\tlearn: 3834.8297584\ttotal: 896ms\tremaining: 2.3s\n",
      "28:\tlearn: 3812.3351465\ttotal: 929ms\tremaining: 2.27s\n",
      "29:\tlearn: 3790.1551028\ttotal: 960ms\tremaining: 2.24s\n",
      "30:\tlearn: 3768.2450154\ttotal: 993ms\tremaining: 2.21s\n",
      "31:\tlearn: 3746.6333799\ttotal: 1.02s\tremaining: 2.18s\n",
      "32:\tlearn: 3725.3933047\ttotal: 1.05s\tremaining: 2.14s\n",
      "33:\tlearn: 3704.7301148\ttotal: 1.08s\tremaining: 2.11s\n",
      "34:\tlearn: 3683.7856310\ttotal: 1.11s\tremaining: 2.07s\n",
      "35:\tlearn: 3662.9971575\ttotal: 1.15s\tremaining: 2.04s\n",
      "36:\tlearn: 3642.8952173\ttotal: 1.18s\tremaining: 2s\n",
      "37:\tlearn: 3622.9607581\ttotal: 1.21s\tremaining: 1.97s\n",
      "38:\tlearn: 3603.1907984\ttotal: 1.24s\tremaining: 1.94s\n",
      "39:\tlearn: 3583.5243371\ttotal: 1.27s\tremaining: 1.91s\n",
      "40:\tlearn: 3563.8919840\ttotal: 1.32s\tremaining: 1.91s\n",
      "41:\tlearn: 3544.7960181\ttotal: 1.36s\tremaining: 1.88s\n",
      "42:\tlearn: 3525.5709441\ttotal: 1.4s\tremaining: 1.85s\n",
      "43:\tlearn: 3507.1801309\ttotal: 1.44s\tremaining: 1.83s\n",
      "44:\tlearn: 3488.3054563\ttotal: 1.47s\tremaining: 1.8s\n",
      "45:\tlearn: 3469.8236190\ttotal: 1.5s\tremaining: 1.76s\n",
      "46:\tlearn: 3451.1989477\ttotal: 1.54s\tremaining: 1.73s\n",
      "47:\tlearn: 3433.5465085\ttotal: 1.57s\tremaining: 1.7s\n",
      "48:\tlearn: 3416.2211575\ttotal: 1.6s\tremaining: 1.67s\n",
      "49:\tlearn: 3398.5782402\ttotal: 1.64s\tremaining: 1.64s\n",
      "50:\tlearn: 3381.3964348\ttotal: 1.67s\tremaining: 1.6s\n",
      "51:\tlearn: 3364.3947351\ttotal: 1.7s\tremaining: 1.57s\n",
      "52:\tlearn: 3348.0213054\ttotal: 1.73s\tremaining: 1.54s\n",
      "53:\tlearn: 3331.8155098\ttotal: 1.77s\tremaining: 1.5s\n",
      "54:\tlearn: 3315.7333938\ttotal: 1.8s\tremaining: 1.47s\n",
      "55:\tlearn: 3299.6217570\ttotal: 1.83s\tremaining: 1.44s\n",
      "56:\tlearn: 3283.4820273\ttotal: 1.86s\tremaining: 1.41s\n",
      "57:\tlearn: 3267.8851152\ttotal: 1.9s\tremaining: 1.37s\n",
      "58:\tlearn: 3252.6635118\ttotal: 1.93s\tremaining: 1.34s\n",
      "59:\tlearn: 3237.2770840\ttotal: 1.96s\tremaining: 1.31s\n",
      "60:\tlearn: 3222.0449439\ttotal: 1.99s\tremaining: 1.27s\n",
      "61:\tlearn: 3206.8905982\ttotal: 2.02s\tremaining: 1.24s\n",
      "62:\tlearn: 3192.0510227\ttotal: 2.06s\tremaining: 1.21s\n",
      "63:\tlearn: 3177.9571260\ttotal: 2.09s\tremaining: 1.17s\n",
      "64:\tlearn: 3163.8616609\ttotal: 2.12s\tremaining: 1.14s\n",
      "65:\tlearn: 3149.7623014\ttotal: 2.15s\tremaining: 1.11s\n",
      "66:\tlearn: 3135.6003319\ttotal: 2.18s\tremaining: 1.07s\n",
      "67:\tlearn: 3121.3116758\ttotal: 2.21s\tremaining: 1.04s\n",
      "68:\tlearn: 3107.6252670\ttotal: 2.25s\tremaining: 1.01s\n",
      "69:\tlearn: 3094.3373616\ttotal: 2.27s\tremaining: 975ms\n",
      "70:\tlearn: 3081.0523621\ttotal: 2.31s\tremaining: 943ms\n",
      "71:\tlearn: 3067.8355464\ttotal: 2.34s\tremaining: 910ms\n",
      "72:\tlearn: 3055.2351766\ttotal: 2.37s\tremaining: 877ms\n",
      "73:\tlearn: 3042.6334740\ttotal: 2.4s\tremaining: 845ms\n",
      "74:\tlearn: 3029.7408424\ttotal: 2.44s\tremaining: 812ms\n",
      "75:\tlearn: 3017.3437239\ttotal: 2.48s\tremaining: 782ms\n",
      "76:\tlearn: 3005.0683312\ttotal: 2.51s\tremaining: 750ms\n",
      "77:\tlearn: 2992.8361898\ttotal: 2.54s\tremaining: 718ms\n",
      "78:\tlearn: 2980.8559138\ttotal: 2.59s\tremaining: 688ms\n",
      "79:\tlearn: 2968.5769735\ttotal: 2.62s\tremaining: 655ms\n",
      "80:\tlearn: 2956.7683777\ttotal: 2.65s\tremaining: 622ms\n",
      "81:\tlearn: 2945.2090698\ttotal: 2.68s\tremaining: 589ms\n",
      "82:\tlearn: 2933.7127081\ttotal: 2.72s\tremaining: 557ms\n",
      "83:\tlearn: 2922.4394677\ttotal: 2.75s\tremaining: 524ms\n",
      "84:\tlearn: 2911.0101735\ttotal: 2.78s\tremaining: 491ms\n",
      "85:\tlearn: 2900.0890381\ttotal: 2.81s\tremaining: 458ms\n",
      "86:\tlearn: 2889.4332224\ttotal: 2.85s\tremaining: 425ms\n",
      "87:\tlearn: 2878.8705361\ttotal: 2.88s\tremaining: 392ms\n",
      "88:\tlearn: 2868.1718218\ttotal: 2.91s\tremaining: 360ms\n",
      "89:\tlearn: 2857.6069415\ttotal: 2.94s\tremaining: 327ms\n",
      "90:\tlearn: 2847.3343023\ttotal: 2.97s\tremaining: 294ms\n",
      "91:\tlearn: 2836.8597921\ttotal: 3s\tremaining: 261ms\n",
      "92:\tlearn: 2826.7645405\ttotal: 3.03s\tremaining: 228ms\n",
      "93:\tlearn: 2816.5570104\ttotal: 3.06s\tremaining: 196ms\n",
      "94:\tlearn: 2806.8810682\ttotal: 3.1s\tremaining: 163ms\n",
      "95:\tlearn: 2797.1744290\ttotal: 3.13s\tremaining: 130ms\n",
      "96:\tlearn: 2787.6085409\ttotal: 3.16s\tremaining: 97.9ms\n",
      "97:\tlearn: 2778.1041051\ttotal: 3.2s\tremaining: 65.3ms\n",
      "98:\tlearn: 2768.7063214\ttotal: 3.23s\tremaining: 32.6ms\n",
      "99:\tlearn: 2760.0349704\ttotal: 3.26s\tremaining: 0us\n",
      "0:\tlearn: 4426.7156684\ttotal: 41.5ms\tremaining: 4.1s\n",
      "1:\tlearn: 4277.9274610\ttotal: 77.5ms\tremaining: 3.8s\n",
      "2:\tlearn: 4139.0300432\ttotal: 111ms\tremaining: 3.58s\n",
      "3:\tlearn: 4007.2669102\ttotal: 144ms\tremaining: 3.46s\n",
      "4:\tlearn: 3887.2837699\ttotal: 180ms\tremaining: 3.42s\n",
      "5:\tlearn: 3770.9338887\ttotal: 217ms\tremaining: 3.4s\n",
      "6:\tlearn: 3662.0604960\ttotal: 252ms\tremaining: 3.34s\n",
      "7:\tlearn: 3560.6269211\ttotal: 285ms\tremaining: 3.27s\n",
      "8:\tlearn: 3466.6256677\ttotal: 318ms\tremaining: 3.21s\n",
      "9:\tlearn: 3375.7168344\ttotal: 352ms\tremaining: 3.16s\n",
      "10:\tlearn: 3291.4014954\ttotal: 388ms\tremaining: 3.13s\n",
      "11:\tlearn: 3209.8369853\ttotal: 422ms\tremaining: 3.1s\n",
      "12:\tlearn: 3134.6244024\ttotal: 455ms\tremaining: 3.04s\n",
      "13:\tlearn: 3065.1383715\ttotal: 494ms\tremaining: 3.03s\n",
      "14:\tlearn: 2998.9674632\ttotal: 532ms\tremaining: 3.02s\n",
      "15:\tlearn: 2937.3488209\ttotal: 565ms\tremaining: 2.96s\n",
      "16:\tlearn: 2880.9103864\ttotal: 598ms\tremaining: 2.92s\n",
      "17:\tlearn: 2827.9982889\ttotal: 632ms\tremaining: 2.88s\n",
      "18:\tlearn: 2777.5497645\ttotal: 665ms\tremaining: 2.84s\n",
      "19:\tlearn: 2731.1802543\ttotal: 698ms\tremaining: 2.79s\n",
      "20:\tlearn: 2687.4988261\ttotal: 732ms\tremaining: 2.75s\n",
      "21:\tlearn: 2647.1102603\ttotal: 764ms\tremaining: 2.71s\n",
      "22:\tlearn: 2606.4133271\ttotal: 798ms\tremaining: 2.67s\n",
      "23:\tlearn: 2570.3654180\ttotal: 832ms\tremaining: 2.63s\n",
      "24:\tlearn: 2536.7760275\ttotal: 866ms\tremaining: 2.6s\n",
      "25:\tlearn: 2504.8308115\ttotal: 899ms\tremaining: 2.56s\n",
      "26:\tlearn: 2473.9398172\ttotal: 935ms\tremaining: 2.53s\n",
      "27:\tlearn: 2447.3164197\ttotal: 974ms\tremaining: 2.5s\n",
      "28:\tlearn: 2420.4531771\ttotal: 1.02s\tremaining: 2.5s\n",
      "29:\tlearn: 2395.9612844\ttotal: 1.06s\tremaining: 2.47s\n",
      "30:\tlearn: 2371.0402590\ttotal: 1.09s\tremaining: 2.44s\n",
      "31:\tlearn: 2348.5712235\ttotal: 1.13s\tremaining: 2.41s\n",
      "32:\tlearn: 2327.3702886\ttotal: 1.18s\tremaining: 2.39s\n",
      "33:\tlearn: 2306.1774791\ttotal: 1.22s\tremaining: 2.37s\n",
      "34:\tlearn: 2288.2489160\ttotal: 1.25s\tremaining: 2.33s\n",
      "35:\tlearn: 2271.0793641\ttotal: 1.28s\tremaining: 2.29s\n",
      "36:\tlearn: 2255.1629491\ttotal: 1.32s\tremaining: 2.25s\n",
      "37:\tlearn: 2240.5490425\ttotal: 1.35s\tremaining: 2.2s\n",
      "38:\tlearn: 2226.8437737\ttotal: 1.38s\tremaining: 2.16s\n",
      "39:\tlearn: 2214.1828099\ttotal: 1.42s\tremaining: 2.13s\n",
      "40:\tlearn: 2199.9785697\ttotal: 1.46s\tremaining: 2.09s\n",
      "41:\tlearn: 2187.6875156\ttotal: 1.49s\tremaining: 2.06s\n",
      "42:\tlearn: 2173.2365918\ttotal: 1.52s\tremaining: 2.02s\n",
      "43:\tlearn: 2159.1393518\ttotal: 1.55s\tremaining: 1.98s\n",
      "44:\tlearn: 2148.7188676\ttotal: 1.59s\tremaining: 1.94s\n",
      "45:\tlearn: 2138.5448040\ttotal: 1.62s\tremaining: 1.9s\n",
      "46:\tlearn: 2127.8084020\ttotal: 1.66s\tremaining: 1.87s\n",
      "47:\tlearn: 2118.0131703\ttotal: 1.69s\tremaining: 1.83s\n",
      "48:\tlearn: 2107.7054774\ttotal: 1.72s\tremaining: 1.79s\n",
      "49:\tlearn: 2099.7976535\ttotal: 1.75s\tremaining: 1.75s\n",
      "50:\tlearn: 2091.5504234\ttotal: 1.79s\tremaining: 1.72s\n",
      "51:\tlearn: 2082.3466048\ttotal: 1.82s\tremaining: 1.68s\n",
      "52:\tlearn: 2073.6491919\ttotal: 1.85s\tremaining: 1.64s\n",
      "53:\tlearn: 2066.4060141\ttotal: 1.89s\tremaining: 1.61s\n",
      "54:\tlearn: 2059.7755790\ttotal: 1.92s\tremaining: 1.57s\n",
      "55:\tlearn: 2053.3040364\ttotal: 1.95s\tremaining: 1.53s\n",
      "56:\tlearn: 2046.4092627\ttotal: 1.99s\tremaining: 1.5s\n",
      "57:\tlearn: 2040.3425005\ttotal: 2.02s\tremaining: 1.46s\n",
      "58:\tlearn: 2034.1140882\ttotal: 2.05s\tremaining: 1.43s\n",
      "59:\tlearn: 2028.4628569\ttotal: 2.08s\tremaining: 1.39s\n",
      "60:\tlearn: 2023.2020893\ttotal: 2.12s\tremaining: 1.35s\n",
      "61:\tlearn: 2018.0147403\ttotal: 2.15s\tremaining: 1.32s\n",
      "62:\tlearn: 2012.7777676\ttotal: 2.18s\tremaining: 1.28s\n",
      "63:\tlearn: 2008.4139983\ttotal: 2.21s\tremaining: 1.25s\n",
      "64:\tlearn: 2003.9673184\ttotal: 2.25s\tremaining: 1.21s\n",
      "65:\tlearn: 1999.3110567\ttotal: 2.28s\tremaining: 1.17s\n",
      "66:\tlearn: 1994.8736304\ttotal: 2.31s\tremaining: 1.14s\n",
      "67:\tlearn: 1991.2060901\ttotal: 2.35s\tremaining: 1.1s\n",
      "68:\tlearn: 1987.4057546\ttotal: 2.38s\tremaining: 1.07s\n",
      "69:\tlearn: 1984.1078919\ttotal: 2.41s\tremaining: 1.03s\n",
      "70:\tlearn: 1980.7654992\ttotal: 2.45s\tremaining: 1s\n",
      "71:\tlearn: 1976.3236346\ttotal: 2.48s\tremaining: 966ms\n",
      "72:\tlearn: 1973.3405855\ttotal: 2.52s\tremaining: 931ms\n",
      "73:\tlearn: 1970.7259420\ttotal: 2.55s\tremaining: 895ms\n",
      "74:\tlearn: 1967.6366824\ttotal: 2.58s\tremaining: 860ms\n",
      "75:\tlearn: 1965.2489453\ttotal: 2.62s\tremaining: 826ms\n",
      "76:\tlearn: 1961.8821700\ttotal: 2.65s\tremaining: 791ms\n",
      "77:\tlearn: 1958.6087104\ttotal: 2.68s\tremaining: 756ms\n",
      "78:\tlearn: 1956.5813306\ttotal: 2.71s\tremaining: 721ms\n",
      "79:\tlearn: 1953.8927007\ttotal: 2.75s\tremaining: 686ms\n",
      "80:\tlearn: 1950.8971218\ttotal: 2.78s\tremaining: 652ms\n",
      "81:\tlearn: 1948.5861300\ttotal: 2.81s\tremaining: 617ms\n",
      "82:\tlearn: 1946.1552486\ttotal: 2.85s\tremaining: 583ms\n",
      "83:\tlearn: 1943.9394580\ttotal: 2.88s\tremaining: 548ms\n",
      "84:\tlearn: 1942.0110064\ttotal: 2.91s\tremaining: 514ms\n",
      "85:\tlearn: 1939.8579396\ttotal: 2.94s\tremaining: 479ms\n",
      "86:\tlearn: 1937.7362856\ttotal: 2.98s\tremaining: 445ms\n",
      "87:\tlearn: 1935.9287429\ttotal: 3.01s\tremaining: 411ms\n",
      "88:\tlearn: 1933.7437254\ttotal: 3.05s\tremaining: 377ms\n",
      "89:\tlearn: 1931.7111971\ttotal: 3.08s\tremaining: 343ms\n",
      "90:\tlearn: 1929.7023967\ttotal: 3.11s\tremaining: 308ms\n",
      "91:\tlearn: 1927.4490405\ttotal: 3.15s\tremaining: 274ms\n",
      "92:\tlearn: 1924.9026920\ttotal: 3.18s\tremaining: 239ms\n",
      "93:\tlearn: 1922.7592330\ttotal: 3.21s\tremaining: 205ms\n",
      "94:\tlearn: 1920.7006290\ttotal: 3.24s\tremaining: 171ms\n",
      "95:\tlearn: 1919.1586277\ttotal: 3.28s\tremaining: 137ms\n",
      "96:\tlearn: 1917.4033796\ttotal: 3.31s\tremaining: 102ms\n",
      "97:\tlearn: 1915.8847720\ttotal: 3.34s\tremaining: 68.2ms\n",
      "98:\tlearn: 1914.4011848\ttotal: 3.37s\tremaining: 34.1ms\n",
      "99:\tlearn: 1912.7492034\ttotal: 3.41s\tremaining: 0us\n",
      "0:\tlearn: 4433.1783952\ttotal: 32.6ms\tremaining: 3.23s\n",
      "1:\tlearn: 4284.6920641\ttotal: 65.1ms\tremaining: 3.19s\n",
      "2:\tlearn: 4146.6952053\ttotal: 95.7ms\tremaining: 3.09s\n",
      "3:\tlearn: 4016.1663011\ttotal: 128ms\tremaining: 3.08s\n",
      "4:\tlearn: 3895.1803245\ttotal: 160ms\tremaining: 3.03s\n",
      "5:\tlearn: 3779.2055748\ttotal: 192ms\tremaining: 3.01s\n",
      "6:\tlearn: 3669.0905891\ttotal: 224ms\tremaining: 2.97s\n",
      "7:\tlearn: 3568.6718492\ttotal: 256ms\tremaining: 2.94s\n",
      "8:\tlearn: 3471.1788194\ttotal: 286ms\tremaining: 2.9s\n",
      "9:\tlearn: 3382.9033526\ttotal: 319ms\tremaining: 2.87s\n",
      "10:\tlearn: 3299.0380614\ttotal: 350ms\tremaining: 2.83s\n",
      "11:\tlearn: 3220.0482746\ttotal: 380ms\tremaining: 2.79s\n",
      "12:\tlearn: 3146.5001444\ttotal: 411ms\tremaining: 2.75s\n",
      "13:\tlearn: 3077.4808214\ttotal: 442ms\tremaining: 2.71s\n",
      "14:\tlearn: 3013.2784186\ttotal: 473ms\tremaining: 2.68s\n",
      "15:\tlearn: 2951.8820675\ttotal: 505ms\tremaining: 2.65s\n",
      "16:\tlearn: 2894.9051426\ttotal: 537ms\tremaining: 2.62s\n",
      "17:\tlearn: 2840.4704196\ttotal: 572ms\tremaining: 2.6s\n",
      "18:\tlearn: 2790.8891688\ttotal: 604ms\tremaining: 2.57s\n",
      "19:\tlearn: 2744.4276468\ttotal: 637ms\tremaining: 2.55s\n",
      "20:\tlearn: 2699.8619824\ttotal: 668ms\tremaining: 2.51s\n",
      "21:\tlearn: 2659.2756960\ttotal: 699ms\tremaining: 2.48s\n",
      "22:\tlearn: 2621.0441564\ttotal: 731ms\tremaining: 2.45s\n",
      "23:\tlearn: 2583.5557179\ttotal: 765ms\tremaining: 2.42s\n",
      "24:\tlearn: 2549.4818384\ttotal: 798ms\tremaining: 2.4s\n",
      "25:\tlearn: 2518.0369800\ttotal: 833ms\tremaining: 2.37s\n",
      "26:\tlearn: 2487.5826540\ttotal: 865ms\tremaining: 2.34s\n",
      "27:\tlearn: 2461.1242001\ttotal: 898ms\tremaining: 2.31s\n",
      "28:\tlearn: 2433.9065456\ttotal: 933ms\tremaining: 2.28s\n",
      "29:\tlearn: 2409.1082439\ttotal: 967ms\tremaining: 2.25s\n",
      "30:\tlearn: 2382.3316034\ttotal: 999ms\tremaining: 2.22s\n",
      "31:\tlearn: 2361.1280202\ttotal: 1.03s\tremaining: 2.19s\n",
      "32:\tlearn: 2340.1588721\ttotal: 1.06s\tremaining: 2.15s\n",
      "33:\tlearn: 2320.3568463\ttotal: 1.09s\tremaining: 2.12s\n",
      "34:\tlearn: 2302.8548835\ttotal: 1.13s\tremaining: 2.09s\n",
      "35:\tlearn: 2285.7569465\ttotal: 1.16s\tremaining: 2.06s\n",
      "36:\tlearn: 2269.5271499\ttotal: 1.19s\tremaining: 2.03s\n",
      "37:\tlearn: 2253.1090553\ttotal: 1.22s\tremaining: 2s\n",
      "38:\tlearn: 2239.7730380\ttotal: 1.26s\tremaining: 1.96s\n",
      "39:\tlearn: 2223.7527758\ttotal: 1.29s\tremaining: 1.93s\n",
      "40:\tlearn: 2208.7366350\ttotal: 1.32s\tremaining: 1.9s\n",
      "41:\tlearn: 2194.6243241\ttotal: 1.35s\tremaining: 1.87s\n",
      "42:\tlearn: 2182.4940105\ttotal: 1.38s\tremaining: 1.83s\n",
      "43:\tlearn: 2171.9717352\ttotal: 1.42s\tremaining: 1.81s\n",
      "44:\tlearn: 2161.2552846\ttotal: 1.45s\tremaining: 1.77s\n",
      "45:\tlearn: 2150.3007536\ttotal: 1.48s\tremaining: 1.74s\n",
      "46:\tlearn: 2140.5061636\ttotal: 1.51s\tremaining: 1.71s\n",
      "47:\tlearn: 2131.5562689\ttotal: 1.55s\tremaining: 1.68s\n",
      "48:\tlearn: 2120.5734978\ttotal: 1.58s\tremaining: 1.65s\n",
      "49:\tlearn: 2111.4632987\ttotal: 1.62s\tremaining: 1.62s\n",
      "50:\tlearn: 2103.8449617\ttotal: 1.66s\tremaining: 1.59s\n",
      "51:\tlearn: 2094.7165476\ttotal: 1.69s\tremaining: 1.56s\n",
      "52:\tlearn: 2087.2915797\ttotal: 1.72s\tremaining: 1.53s\n",
      "53:\tlearn: 2078.7829366\ttotal: 1.76s\tremaining: 1.5s\n",
      "54:\tlearn: 2072.0000983\ttotal: 1.79s\tremaining: 1.46s\n",
      "55:\tlearn: 2065.7890984\ttotal: 1.82s\tremaining: 1.43s\n",
      "56:\tlearn: 2060.4903703\ttotal: 1.85s\tremaining: 1.4s\n",
      "57:\tlearn: 2053.6818209\ttotal: 1.89s\tremaining: 1.37s\n",
      "58:\tlearn: 2048.3009615\ttotal: 1.92s\tremaining: 1.33s\n",
      "59:\tlearn: 2042.0325282\ttotal: 1.95s\tremaining: 1.3s\n",
      "60:\tlearn: 2036.4882616\ttotal: 1.98s\tremaining: 1.27s\n",
      "61:\tlearn: 2031.6090390\ttotal: 2.02s\tremaining: 1.24s\n",
      "62:\tlearn: 2026.1037865\ttotal: 2.06s\tremaining: 1.21s\n",
      "63:\tlearn: 2021.8884015\ttotal: 2.09s\tremaining: 1.18s\n",
      "64:\tlearn: 2017.4490605\ttotal: 2.12s\tremaining: 1.14s\n",
      "65:\tlearn: 2012.8181265\ttotal: 2.15s\tremaining: 1.11s\n",
      "66:\tlearn: 2008.8931729\ttotal: 2.19s\tremaining: 1.08s\n",
      "67:\tlearn: 2003.9450787\ttotal: 2.22s\tremaining: 1.04s\n",
      "68:\tlearn: 2000.4408410\ttotal: 2.25s\tremaining: 1.01s\n",
      "69:\tlearn: 1997.2634103\ttotal: 2.29s\tremaining: 980ms\n",
      "70:\tlearn: 1994.2983535\ttotal: 2.32s\tremaining: 947ms\n",
      "71:\tlearn: 1991.2277981\ttotal: 2.35s\tremaining: 913ms\n",
      "72:\tlearn: 1987.6171897\ttotal: 2.38s\tremaining: 880ms\n",
      "73:\tlearn: 1985.1865240\ttotal: 2.41s\tremaining: 847ms\n",
      "74:\tlearn: 1982.2890529\ttotal: 2.44s\tremaining: 815ms\n",
      "75:\tlearn: 1979.3550582\ttotal: 2.48s\tremaining: 782ms\n",
      "76:\tlearn: 1976.9080860\ttotal: 2.51s\tremaining: 749ms\n",
      "77:\tlearn: 1973.8280774\ttotal: 2.54s\tremaining: 717ms\n",
      "78:\tlearn: 1970.9265579\ttotal: 2.58s\tremaining: 685ms\n",
      "79:\tlearn: 1968.5323976\ttotal: 2.61s\tremaining: 652ms\n",
      "80:\tlearn: 1966.2922679\ttotal: 2.64s\tremaining: 619ms\n",
      "81:\tlearn: 1964.1953858\ttotal: 2.67s\tremaining: 587ms\n",
      "82:\tlearn: 1960.3751183\ttotal: 2.71s\tremaining: 554ms\n",
      "83:\tlearn: 1958.5246255\ttotal: 2.74s\tremaining: 522ms\n",
      "84:\tlearn: 1955.9379514\ttotal: 2.77s\tremaining: 489ms\n",
      "85:\tlearn: 1953.2628583\ttotal: 2.8s\tremaining: 456ms\n",
      "86:\tlearn: 1950.9008809\ttotal: 2.84s\tremaining: 424ms\n",
      "87:\tlearn: 1948.9342193\ttotal: 2.87s\tremaining: 391ms\n",
      "88:\tlearn: 1946.7225846\ttotal: 2.9s\tremaining: 358ms\n",
      "89:\tlearn: 1944.0710000\ttotal: 2.93s\tremaining: 326ms\n",
      "90:\tlearn: 1942.0310346\ttotal: 2.96s\tremaining: 293ms\n",
      "91:\tlearn: 1939.7236775\ttotal: 3s\tremaining: 260ms\n",
      "92:\tlearn: 1937.6165579\ttotal: 3.03s\tremaining: 228ms\n",
      "93:\tlearn: 1936.1030863\ttotal: 3.06s\tremaining: 195ms\n",
      "94:\tlearn: 1934.3747298\ttotal: 3.1s\tremaining: 163ms\n",
      "95:\tlearn: 1932.4131353\ttotal: 3.14s\tremaining: 131ms\n",
      "96:\tlearn: 1931.2319034\ttotal: 3.17s\tremaining: 98.1ms\n",
      "97:\tlearn: 1929.1228265\ttotal: 3.21s\tremaining: 65.4ms\n",
      "98:\tlearn: 1926.9347868\ttotal: 3.24s\tremaining: 32.8ms\n",
      "99:\tlearn: 1925.5876234\ttotal: 3.28s\tremaining: 0us\n",
      "0:\tlearn: 4271.9612696\ttotal: 33ms\tremaining: 3.27s\n",
      "1:\tlearn: 3992.7480337\ttotal: 65.1ms\tremaining: 3.19s\n",
      "2:\tlearn: 3750.7763973\ttotal: 97.2ms\tremaining: 3.14s\n",
      "3:\tlearn: 3537.9406627\ttotal: 130ms\tremaining: 3.11s\n",
      "4:\tlearn: 3353.5328244\ttotal: 162ms\tremaining: 3.08s\n",
      "5:\tlearn: 3186.0695681\ttotal: 194ms\tremaining: 3.04s\n",
      "6:\tlearn: 3045.8631053\ttotal: 228ms\tremaining: 3.03s\n",
      "7:\tlearn: 2920.3145251\ttotal: 260ms\tremaining: 2.99s\n",
      "8:\tlearn: 2808.7548290\ttotal: 292ms\tremaining: 2.95s\n",
      "9:\tlearn: 2715.6361346\ttotal: 328ms\tremaining: 2.96s\n",
      "10:\tlearn: 2629.2783559\ttotal: 365ms\tremaining: 2.96s\n",
      "11:\tlearn: 2554.7631145\ttotal: 398ms\tremaining: 2.92s\n",
      "12:\tlearn: 2491.5543458\ttotal: 431ms\tremaining: 2.89s\n",
      "13:\tlearn: 2433.7101922\ttotal: 464ms\tremaining: 2.85s\n",
      "14:\tlearn: 2383.4143066\ttotal: 499ms\tremaining: 2.83s\n",
      "15:\tlearn: 2335.9107631\ttotal: 546ms\tremaining: 2.87s\n",
      "16:\tlearn: 2296.4169661\ttotal: 585ms\tremaining: 2.86s\n",
      "17:\tlearn: 2257.2961992\ttotal: 618ms\tremaining: 2.81s\n",
      "18:\tlearn: 2224.0846626\ttotal: 649ms\tremaining: 2.77s\n",
      "19:\tlearn: 2194.5835831\ttotal: 681ms\tremaining: 2.72s\n",
      "20:\tlearn: 2171.0255610\ttotal: 716ms\tremaining: 2.69s\n",
      "21:\tlearn: 2149.7615687\ttotal: 751ms\tremaining: 2.66s\n",
      "22:\tlearn: 2125.6406328\ttotal: 789ms\tremaining: 2.64s\n",
      "23:\tlearn: 2107.9865002\ttotal: 824ms\tremaining: 2.61s\n",
      "24:\tlearn: 2091.5634361\ttotal: 858ms\tremaining: 2.57s\n",
      "25:\tlearn: 2074.6853143\ttotal: 890ms\tremaining: 2.53s\n",
      "26:\tlearn: 2059.6613364\ttotal: 926ms\tremaining: 2.5s\n",
      "27:\tlearn: 2047.7088521\ttotal: 958ms\tremaining: 2.46s\n",
      "28:\tlearn: 2036.6215501\ttotal: 991ms\tremaining: 2.42s\n",
      "29:\tlearn: 2026.7383021\ttotal: 1.02s\tremaining: 2.38s\n",
      "30:\tlearn: 2016.3835438\ttotal: 1.05s\tremaining: 2.34s\n",
      "31:\tlearn: 2007.8467370\ttotal: 1.09s\tremaining: 2.31s\n",
      "32:\tlearn: 1997.9947414\ttotal: 1.12s\tremaining: 2.28s\n",
      "33:\tlearn: 1989.7526996\ttotal: 1.15s\tremaining: 2.24s\n",
      "34:\tlearn: 1983.5790097\ttotal: 1.18s\tremaining: 2.2s\n",
      "35:\tlearn: 1977.3705374\ttotal: 1.22s\tremaining: 2.16s\n",
      "36:\tlearn: 1970.9526600\ttotal: 1.25s\tremaining: 2.13s\n",
      "37:\tlearn: 1965.1545149\ttotal: 1.29s\tremaining: 2.1s\n",
      "38:\tlearn: 1958.7333364\ttotal: 1.32s\tremaining: 2.07s\n",
      "39:\tlearn: 1953.6890892\ttotal: 1.37s\tremaining: 2.05s\n",
      "40:\tlearn: 1949.3715979\ttotal: 1.41s\tremaining: 2.03s\n",
      "41:\tlearn: 1944.4914284\ttotal: 1.44s\tremaining: 1.99s\n",
      "42:\tlearn: 1940.6711544\ttotal: 1.48s\tremaining: 1.96s\n",
      "43:\tlearn: 1935.6748441\ttotal: 1.51s\tremaining: 1.92s\n",
      "44:\tlearn: 1931.2749062\ttotal: 1.54s\tremaining: 1.88s\n",
      "45:\tlearn: 1927.6102846\ttotal: 1.57s\tremaining: 1.85s\n",
      "46:\tlearn: 1923.8731785\ttotal: 1.6s\tremaining: 1.81s\n",
      "47:\tlearn: 1920.3727619\ttotal: 1.64s\tremaining: 1.77s\n",
      "48:\tlearn: 1917.4605076\ttotal: 1.67s\tremaining: 1.74s\n",
      "49:\tlearn: 1914.6357738\ttotal: 1.7s\tremaining: 1.7s\n",
      "50:\tlearn: 1911.3025278\ttotal: 1.73s\tremaining: 1.67s\n",
      "51:\tlearn: 1907.1982973\ttotal: 1.77s\tremaining: 1.63s\n",
      "52:\tlearn: 1904.2821116\ttotal: 1.81s\tremaining: 1.6s\n",
      "53:\tlearn: 1901.7300480\ttotal: 1.84s\tremaining: 1.57s\n",
      "54:\tlearn: 1898.9604800\ttotal: 1.87s\tremaining: 1.53s\n",
      "55:\tlearn: 1896.8546258\ttotal: 1.91s\tremaining: 1.5s\n",
      "56:\tlearn: 1892.7341352\ttotal: 1.95s\tremaining: 1.47s\n",
      "57:\tlearn: 1890.6733204\ttotal: 1.98s\tremaining: 1.43s\n",
      "58:\tlearn: 1888.6765936\ttotal: 2.01s\tremaining: 1.4s\n",
      "59:\tlearn: 1886.4712536\ttotal: 2.05s\tremaining: 1.36s\n",
      "60:\tlearn: 1883.3061690\ttotal: 2.08s\tremaining: 1.33s\n",
      "61:\tlearn: 1881.1500360\ttotal: 2.12s\tremaining: 1.3s\n",
      "62:\tlearn: 1879.2102352\ttotal: 2.15s\tremaining: 1.26s\n",
      "63:\tlearn: 1877.0811445\ttotal: 2.18s\tremaining: 1.23s\n",
      "64:\tlearn: 1875.6218279\ttotal: 2.21s\tremaining: 1.19s\n",
      "65:\tlearn: 1873.3032876\ttotal: 2.25s\tremaining: 1.16s\n",
      "66:\tlearn: 1871.5308738\ttotal: 2.28s\tremaining: 1.12s\n",
      "67:\tlearn: 1869.5309034\ttotal: 2.31s\tremaining: 1.09s\n",
      "68:\tlearn: 1867.6070187\ttotal: 2.35s\tremaining: 1.05s\n",
      "69:\tlearn: 1865.7547349\ttotal: 2.38s\tremaining: 1.02s\n",
      "70:\tlearn: 1863.3609634\ttotal: 2.41s\tremaining: 986ms\n",
      "71:\tlearn: 1861.0390406\ttotal: 2.44s\tremaining: 951ms\n",
      "72:\tlearn: 1858.8024038\ttotal: 2.48s\tremaining: 916ms\n",
      "73:\tlearn: 1856.5560202\ttotal: 2.51s\tremaining: 882ms\n",
      "74:\tlearn: 1855.2711402\ttotal: 2.54s\tremaining: 848ms\n",
      "75:\tlearn: 1853.5698788\ttotal: 2.58s\tremaining: 814ms\n",
      "76:\tlearn: 1851.6057079\ttotal: 2.61s\tremaining: 779ms\n",
      "77:\tlearn: 1850.4144368\ttotal: 2.64s\tremaining: 745ms\n",
      "78:\tlearn: 1848.3158368\ttotal: 2.68s\tremaining: 712ms\n",
      "79:\tlearn: 1846.6780435\ttotal: 2.71s\tremaining: 678ms\n",
      "80:\tlearn: 1844.1439318\ttotal: 2.74s\tremaining: 644ms\n",
      "81:\tlearn: 1842.8010263\ttotal: 2.78s\tremaining: 610ms\n",
      "82:\tlearn: 1841.2009281\ttotal: 2.81s\tremaining: 576ms\n",
      "83:\tlearn: 1839.4002770\ttotal: 2.84s\tremaining: 542ms\n",
      "84:\tlearn: 1837.8434428\ttotal: 2.88s\tremaining: 507ms\n",
      "85:\tlearn: 1836.2079681\ttotal: 2.91s\tremaining: 473ms\n",
      "86:\tlearn: 1833.7479076\ttotal: 2.94s\tremaining: 439ms\n",
      "87:\tlearn: 1831.6230427\ttotal: 2.97s\tremaining: 405ms\n",
      "88:\tlearn: 1830.5367307\ttotal: 3s\tremaining: 371ms\n",
      "89:\tlearn: 1829.6911482\ttotal: 3.04s\tremaining: 338ms\n",
      "90:\tlearn: 1828.6330958\ttotal: 3.08s\tremaining: 304ms\n",
      "91:\tlearn: 1826.9100973\ttotal: 3.11s\tremaining: 270ms\n",
      "92:\tlearn: 1825.1289687\ttotal: 3.14s\tremaining: 236ms\n",
      "93:\tlearn: 1823.8541248\ttotal: 3.17s\tremaining: 203ms\n",
      "94:\tlearn: 1822.1890997\ttotal: 3.21s\tremaining: 169ms\n",
      "95:\tlearn: 1820.7107230\ttotal: 3.24s\tremaining: 135ms\n",
      "96:\tlearn: 1819.3508033\ttotal: 3.27s\tremaining: 101ms\n",
      "97:\tlearn: 1817.8312787\ttotal: 3.31s\tremaining: 67.5ms\n",
      "98:\tlearn: 1816.7405010\ttotal: 3.34s\tremaining: 33.7ms\n",
      "99:\tlearn: 1814.7891897\ttotal: 3.37s\tremaining: 0us\n",
      "0:\tlearn: 4278.4001516\ttotal: 32.7ms\tremaining: 3.24s\n",
      "1:\tlearn: 4002.7853878\ttotal: 64.6ms\tremaining: 3.17s\n",
      "2:\tlearn: 3761.7377492\ttotal: 96.2ms\tremaining: 3.11s\n",
      "3:\tlearn: 3550.5216164\ttotal: 128ms\tremaining: 3.06s\n",
      "4:\tlearn: 3362.7266511\ttotal: 159ms\tremaining: 3.02s\n",
      "5:\tlearn: 3196.2593827\ttotal: 190ms\tremaining: 2.98s\n",
      "6:\tlearn: 3052.0815618\ttotal: 222ms\tremaining: 2.95s\n",
      "7:\tlearn: 2924.6870047\ttotal: 259ms\tremaining: 2.98s\n",
      "8:\tlearn: 2815.9963624\ttotal: 293ms\tremaining: 2.96s\n",
      "9:\tlearn: 2721.8554197\ttotal: 328ms\tremaining: 2.95s\n",
      "10:\tlearn: 2639.3436970\ttotal: 363ms\tremaining: 2.94s\n",
      "11:\tlearn: 2557.8309664\ttotal: 399ms\tremaining: 2.92s\n",
      "12:\tlearn: 2494.1870216\ttotal: 432ms\tremaining: 2.89s\n",
      "13:\tlearn: 2439.9572591\ttotal: 463ms\tremaining: 2.85s\n",
      "14:\tlearn: 2388.2269835\ttotal: 495ms\tremaining: 2.81s\n",
      "15:\tlearn: 2337.8155315\ttotal: 527ms\tremaining: 2.77s\n",
      "16:\tlearn: 2299.1893480\ttotal: 558ms\tremaining: 2.73s\n",
      "17:\tlearn: 2266.6614218\ttotal: 590ms\tremaining: 2.69s\n",
      "18:\tlearn: 2231.2874316\ttotal: 621ms\tremaining: 2.65s\n",
      "19:\tlearn: 2203.9980784\ttotal: 653ms\tremaining: 2.61s\n",
      "20:\tlearn: 2176.3590254\ttotal: 687ms\tremaining: 2.58s\n",
      "21:\tlearn: 2154.5165486\ttotal: 720ms\tremaining: 2.55s\n",
      "22:\tlearn: 2132.3455564\ttotal: 753ms\tremaining: 2.52s\n",
      "23:\tlearn: 2114.2323907\ttotal: 788ms\tremaining: 2.5s\n",
      "24:\tlearn: 2098.1458756\ttotal: 822ms\tremaining: 2.47s\n",
      "25:\tlearn: 2082.0439342\ttotal: 855ms\tremaining: 2.43s\n",
      "26:\tlearn: 2067.7075542\ttotal: 887ms\tremaining: 2.4s\n",
      "27:\tlearn: 2055.3464356\ttotal: 920ms\tremaining: 2.37s\n",
      "28:\tlearn: 2045.1304986\ttotal: 952ms\tremaining: 2.33s\n",
      "29:\tlearn: 2033.9755933\ttotal: 985ms\tremaining: 2.3s\n",
      "30:\tlearn: 2024.5915159\ttotal: 1.02s\tremaining: 2.26s\n",
      "31:\tlearn: 2014.5418288\ttotal: 1.05s\tremaining: 2.23s\n",
      "32:\tlearn: 2005.9654704\ttotal: 1.08s\tremaining: 2.2s\n",
      "33:\tlearn: 1999.2229482\ttotal: 1.11s\tremaining: 2.16s\n",
      "34:\tlearn: 1991.3507564\ttotal: 1.15s\tremaining: 2.13s\n",
      "35:\tlearn: 1984.5943441\ttotal: 1.18s\tremaining: 2.1s\n",
      "36:\tlearn: 1975.9934300\ttotal: 1.21s\tremaining: 2.07s\n",
      "37:\tlearn: 1969.6608019\ttotal: 1.25s\tremaining: 2.03s\n",
      "38:\tlearn: 1964.3510550\ttotal: 1.28s\tremaining: 2s\n",
      "39:\tlearn: 1959.5440912\ttotal: 1.31s\tremaining: 1.97s\n",
      "40:\tlearn: 1955.1711947\ttotal: 1.35s\tremaining: 1.94s\n",
      "41:\tlearn: 1951.4408978\ttotal: 1.39s\tremaining: 1.91s\n",
      "42:\tlearn: 1947.6832558\ttotal: 1.42s\tremaining: 1.88s\n",
      "43:\tlearn: 1942.1769418\ttotal: 1.46s\tremaining: 1.85s\n",
      "44:\tlearn: 1938.8544783\ttotal: 1.49s\tremaining: 1.82s\n",
      "45:\tlearn: 1934.4960313\ttotal: 1.52s\tremaining: 1.79s\n",
      "46:\tlearn: 1930.5537226\ttotal: 1.56s\tremaining: 1.76s\n",
      "47:\tlearn: 1927.4222889\ttotal: 1.59s\tremaining: 1.73s\n",
      "48:\tlearn: 1924.2665818\ttotal: 1.63s\tremaining: 1.69s\n",
      "49:\tlearn: 1922.1389774\ttotal: 1.66s\tremaining: 1.66s\n",
      "50:\tlearn: 1918.9251572\ttotal: 1.69s\tremaining: 1.63s\n",
      "51:\tlearn: 1916.1655600\ttotal: 1.73s\tremaining: 1.59s\n",
      "52:\tlearn: 1913.4443306\ttotal: 1.77s\tremaining: 1.57s\n",
      "53:\tlearn: 1910.5977642\ttotal: 1.81s\tremaining: 1.54s\n",
      "54:\tlearn: 1908.6473206\ttotal: 1.84s\tremaining: 1.51s\n",
      "55:\tlearn: 1906.4420115\ttotal: 1.87s\tremaining: 1.47s\n",
      "56:\tlearn: 1904.1093104\ttotal: 1.91s\tremaining: 1.44s\n",
      "57:\tlearn: 1902.1458578\ttotal: 1.94s\tremaining: 1.41s\n",
      "58:\tlearn: 1900.0185863\ttotal: 1.98s\tremaining: 1.37s\n",
      "59:\tlearn: 1896.9677705\ttotal: 2.01s\tremaining: 1.34s\n",
      "60:\tlearn: 1894.9481447\ttotal: 2.04s\tremaining: 1.31s\n",
      "61:\tlearn: 1892.3498643\ttotal: 2.08s\tremaining: 1.27s\n",
      "62:\tlearn: 1890.3990355\ttotal: 2.11s\tremaining: 1.24s\n",
      "63:\tlearn: 1887.4616643\ttotal: 2.14s\tremaining: 1.21s\n",
      "64:\tlearn: 1885.8904075\ttotal: 2.18s\tremaining: 1.17s\n",
      "65:\tlearn: 1883.1624135\ttotal: 2.21s\tremaining: 1.14s\n",
      "66:\tlearn: 1880.1778149\ttotal: 2.24s\tremaining: 1.1s\n",
      "67:\tlearn: 1876.9952307\ttotal: 2.28s\tremaining: 1.07s\n",
      "68:\tlearn: 1874.9722737\ttotal: 2.31s\tremaining: 1.04s\n",
      "69:\tlearn: 1872.7600337\ttotal: 2.34s\tremaining: 1s\n",
      "70:\tlearn: 1871.2626197\ttotal: 2.38s\tremaining: 971ms\n",
      "71:\tlearn: 1869.1523086\ttotal: 2.41s\tremaining: 938ms\n",
      "72:\tlearn: 1867.1299838\ttotal: 2.45s\tremaining: 905ms\n",
      "73:\tlearn: 1865.0164373\ttotal: 2.48s\tremaining: 871ms\n",
      "74:\tlearn: 1863.2391236\ttotal: 2.51s\tremaining: 838ms\n",
      "75:\tlearn: 1861.2058829\ttotal: 2.55s\tremaining: 805ms\n",
      "76:\tlearn: 1860.0547903\ttotal: 2.58s\tremaining: 771ms\n",
      "77:\tlearn: 1858.3982648\ttotal: 2.63s\tremaining: 741ms\n",
      "78:\tlearn: 1857.1254002\ttotal: 2.67s\tremaining: 709ms\n",
      "79:\tlearn: 1855.5525552\ttotal: 2.7s\tremaining: 675ms\n",
      "80:\tlearn: 1854.0600017\ttotal: 2.73s\tremaining: 642ms\n",
      "81:\tlearn: 1852.5828308\ttotal: 2.77s\tremaining: 608ms\n",
      "82:\tlearn: 1851.3442197\ttotal: 2.8s\tremaining: 574ms\n",
      "83:\tlearn: 1850.0648906\ttotal: 2.84s\tremaining: 540ms\n",
      "84:\tlearn: 1848.4304071\ttotal: 2.87s\tremaining: 507ms\n",
      "85:\tlearn: 1846.5145754\ttotal: 2.91s\tremaining: 473ms\n",
      "86:\tlearn: 1844.8558783\ttotal: 2.94s\tremaining: 439ms\n",
      "87:\tlearn: 1843.6037042\ttotal: 2.98s\tremaining: 406ms\n",
      "88:\tlearn: 1842.5254190\ttotal: 3.01s\tremaining: 372ms\n",
      "89:\tlearn: 1841.3943556\ttotal: 3.05s\tremaining: 339ms\n",
      "90:\tlearn: 1840.5354705\ttotal: 3.08s\tremaining: 305ms\n",
      "91:\tlearn: 1838.5882898\ttotal: 3.11s\tremaining: 271ms\n",
      "92:\tlearn: 1837.5356241\ttotal: 3.15s\tremaining: 237ms\n",
      "93:\tlearn: 1836.2251052\ttotal: 3.18s\tremaining: 203ms\n",
      "94:\tlearn: 1833.8815085\ttotal: 3.21s\tremaining: 169ms\n",
      "95:\tlearn: 1831.8439870\ttotal: 3.25s\tremaining: 135ms\n",
      "96:\tlearn: 1830.4076457\ttotal: 3.28s\tremaining: 101ms\n",
      "97:\tlearn: 1828.5083568\ttotal: 3.31s\tremaining: 67.6ms\n",
      "98:\tlearn: 1827.0059309\ttotal: 3.35s\tremaining: 33.8ms\n",
      "99:\tlearn: 1826.2434917\ttotal: 3.38s\tremaining: 0us\n",
      "0:\tlearn: 4272.5872633\ttotal: 63.4ms\tremaining: 6.28s\n",
      "1:\tlearn: 3997.0483900\ttotal: 115ms\tremaining: 5.62s\n",
      "2:\tlearn: 3754.7387769\ttotal: 166ms\tremaining: 5.38s\n",
      "3:\tlearn: 3542.1050039\ttotal: 223ms\tremaining: 5.36s\n",
      "4:\tlearn: 3354.1571662\ttotal: 283ms\tremaining: 5.37s\n",
      "5:\tlearn: 3189.2953201\ttotal: 338ms\tremaining: 5.29s\n",
      "6:\tlearn: 3049.0079733\ttotal: 392ms\tremaining: 5.2s\n",
      "7:\tlearn: 2920.4225553\ttotal: 446ms\tremaining: 5.13s\n",
      "8:\tlearn: 2814.2093389\ttotal: 501ms\tremaining: 5.06s\n",
      "9:\tlearn: 2717.9559377\ttotal: 560ms\tremaining: 5.04s\n",
      "10:\tlearn: 2633.6601190\ttotal: 613ms\tremaining: 4.96s\n",
      "11:\tlearn: 2558.8007558\ttotal: 665ms\tremaining: 4.88s\n",
      "12:\tlearn: 2495.0739229\ttotal: 717ms\tremaining: 4.79s\n",
      "13:\tlearn: 2439.1266188\ttotal: 774ms\tremaining: 4.75s\n",
      "14:\tlearn: 2384.5182588\ttotal: 842ms\tremaining: 4.77s\n",
      "15:\tlearn: 2342.4260304\ttotal: 905ms\tremaining: 4.75s\n",
      "16:\tlearn: 2302.0223984\ttotal: 967ms\tremaining: 4.72s\n",
      "17:\tlearn: 2264.7567818\ttotal: 1.02s\tremaining: 4.65s\n",
      "18:\tlearn: 2232.6857467\ttotal: 1.07s\tremaining: 4.58s\n",
      "19:\tlearn: 2201.5036330\ttotal: 1.13s\tremaining: 4.52s\n",
      "20:\tlearn: 2176.6629806\ttotal: 1.18s\tremaining: 4.45s\n",
      "21:\tlearn: 2154.1565291\ttotal: 1.24s\tremaining: 4.4s\n",
      "22:\tlearn: 2132.9355223\ttotal: 1.3s\tremaining: 4.34s\n",
      "23:\tlearn: 2115.8877455\ttotal: 1.35s\tremaining: 4.27s\n",
      "24:\tlearn: 2098.3422909\ttotal: 1.4s\tremaining: 4.21s\n",
      "25:\tlearn: 2082.3870308\ttotal: 1.46s\tremaining: 4.16s\n",
      "26:\tlearn: 2069.1340963\ttotal: 1.52s\tremaining: 4.1s\n",
      "27:\tlearn: 2053.9993876\ttotal: 1.57s\tremaining: 4.05s\n",
      "28:\tlearn: 2043.4735883\ttotal: 1.63s\tremaining: 3.98s\n",
      "29:\tlearn: 2033.6824241\ttotal: 1.69s\tremaining: 3.94s\n",
      "30:\tlearn: 2023.8172405\ttotal: 1.75s\tremaining: 3.88s\n",
      "31:\tlearn: 2015.3945061\ttotal: 1.8s\tremaining: 3.82s\n",
      "32:\tlearn: 2006.3844973\ttotal: 1.85s\tremaining: 3.76s\n",
      "33:\tlearn: 1999.3649379\ttotal: 1.9s\tremaining: 3.69s\n",
      "34:\tlearn: 1991.6059903\ttotal: 1.96s\tremaining: 3.63s\n",
      "35:\tlearn: 1985.7833551\ttotal: 2.01s\tremaining: 3.57s\n",
      "36:\tlearn: 1979.8514287\ttotal: 2.06s\tremaining: 3.51s\n",
      "37:\tlearn: 1973.9204461\ttotal: 2.12s\tremaining: 3.45s\n",
      "38:\tlearn: 1968.8562931\ttotal: 2.17s\tremaining: 3.4s\n",
      "39:\tlearn: 1963.6522742\ttotal: 2.23s\tremaining: 3.34s\n",
      "40:\tlearn: 1959.1618959\ttotal: 2.29s\tremaining: 3.3s\n",
      "41:\tlearn: 1954.8731862\ttotal: 2.35s\tremaining: 3.25s\n",
      "42:\tlearn: 1951.3122705\ttotal: 2.41s\tremaining: 3.19s\n",
      "43:\tlearn: 1945.8901324\ttotal: 2.46s\tremaining: 3.13s\n",
      "44:\tlearn: 1943.0665125\ttotal: 2.52s\tremaining: 3.08s\n",
      "45:\tlearn: 1938.2451270\ttotal: 2.58s\tremaining: 3.02s\n",
      "46:\tlearn: 1935.2505926\ttotal: 2.63s\tremaining: 2.97s\n",
      "47:\tlearn: 1932.0395882\ttotal: 2.69s\tremaining: 2.91s\n",
      "48:\tlearn: 1928.1862987\ttotal: 2.74s\tremaining: 2.86s\n",
      "49:\tlearn: 1925.0441133\ttotal: 2.8s\tremaining: 2.8s\n",
      "50:\tlearn: 1921.9119014\ttotal: 2.87s\tremaining: 2.75s\n",
      "51:\tlearn: 1919.1177235\ttotal: 2.92s\tremaining: 2.7s\n",
      "52:\tlearn: 1915.8176307\ttotal: 2.97s\tremaining: 2.64s\n",
      "53:\tlearn: 1913.5870141\ttotal: 3.03s\tremaining: 2.58s\n",
      "54:\tlearn: 1911.7357476\ttotal: 3.09s\tremaining: 2.53s\n",
      "55:\tlearn: 1908.9594361\ttotal: 3.14s\tremaining: 2.47s\n",
      "56:\tlearn: 1907.3605813\ttotal: 3.2s\tremaining: 2.41s\n",
      "57:\tlearn: 1905.1390578\ttotal: 3.25s\tremaining: 2.35s\n",
      "58:\tlearn: 1900.7744416\ttotal: 3.31s\tremaining: 2.3s\n",
      "59:\tlearn: 1898.3824327\ttotal: 3.36s\tremaining: 2.24s\n",
      "60:\tlearn: 1896.2190413\ttotal: 3.42s\tremaining: 2.18s\n",
      "61:\tlearn: 1893.9457293\ttotal: 3.47s\tremaining: 2.13s\n",
      "62:\tlearn: 1891.8264518\ttotal: 3.53s\tremaining: 2.07s\n",
      "63:\tlearn: 1888.9842781\ttotal: 3.58s\tremaining: 2.02s\n",
      "64:\tlearn: 1885.6950390\ttotal: 3.64s\tremaining: 1.96s\n",
      "65:\tlearn: 1883.5324056\ttotal: 3.69s\tremaining: 1.9s\n",
      "66:\tlearn: 1881.2614120\ttotal: 3.74s\tremaining: 1.84s\n",
      "67:\tlearn: 1879.5497112\ttotal: 3.8s\tremaining: 1.79s\n",
      "68:\tlearn: 1877.5142339\ttotal: 3.86s\tremaining: 1.73s\n",
      "69:\tlearn: 1875.6450733\ttotal: 3.91s\tremaining: 1.68s\n",
      "70:\tlearn: 1874.0815270\ttotal: 3.97s\tremaining: 1.62s\n",
      "71:\tlearn: 1872.8925942\ttotal: 4.03s\tremaining: 1.56s\n",
      "72:\tlearn: 1870.5365322\ttotal: 4.08s\tremaining: 1.51s\n",
      "73:\tlearn: 1869.0616902\ttotal: 4.14s\tremaining: 1.45s\n",
      "74:\tlearn: 1867.8199590\ttotal: 4.19s\tremaining: 1.4s\n",
      "75:\tlearn: 1866.4832758\ttotal: 4.25s\tremaining: 1.34s\n",
      "76:\tlearn: 1863.5366174\ttotal: 4.31s\tremaining: 1.29s\n",
      "77:\tlearn: 1862.4346211\ttotal: 4.37s\tremaining: 1.23s\n",
      "78:\tlearn: 1861.3765959\ttotal: 4.42s\tremaining: 1.18s\n",
      "79:\tlearn: 1859.7916678\ttotal: 4.47s\tremaining: 1.12s\n",
      "80:\tlearn: 1857.6080329\ttotal: 4.53s\tremaining: 1.06s\n",
      "81:\tlearn: 1855.7796004\ttotal: 4.59s\tremaining: 1.01s\n",
      "82:\tlearn: 1852.7797467\ttotal: 4.64s\tremaining: 951ms\n",
      "83:\tlearn: 1851.6272934\ttotal: 4.7s\tremaining: 895ms\n",
      "84:\tlearn: 1850.4473976\ttotal: 4.75s\tremaining: 839ms\n",
      "85:\tlearn: 1849.3779863\ttotal: 4.8s\tremaining: 782ms\n",
      "86:\tlearn: 1847.3756508\ttotal: 4.86s\tremaining: 726ms\n",
      "87:\tlearn: 1846.2662079\ttotal: 4.92s\tremaining: 670ms\n",
      "88:\tlearn: 1844.4507013\ttotal: 4.97s\tremaining: 614ms\n",
      "89:\tlearn: 1842.9304575\ttotal: 5.03s\tremaining: 558ms\n",
      "90:\tlearn: 1842.0004796\ttotal: 5.08s\tremaining: 502ms\n",
      "91:\tlearn: 1839.9692747\ttotal: 5.14s\tremaining: 447ms\n",
      "92:\tlearn: 1838.9722313\ttotal: 5.2s\tremaining: 391ms\n",
      "93:\tlearn: 1837.5190960\ttotal: 5.25s\tremaining: 335ms\n",
      "94:\tlearn: 1836.0558815\ttotal: 5.31s\tremaining: 279ms\n",
      "95:\tlearn: 1834.9221120\ttotal: 5.36s\tremaining: 223ms\n",
      "96:\tlearn: 1833.5420745\ttotal: 5.42s\tremaining: 168ms\n",
      "97:\tlearn: 1831.5664622\ttotal: 5.47s\tremaining: 112ms\n",
      "98:\tlearn: 1830.1942178\ttotal: 5.52s\tremaining: 55.8ms\n",
      "99:\tlearn: 1829.2650283\ttotal: 5.58s\tremaining: 0us\n",
      "Лучшие параметры: {'depth': 10, 'iterations': 100, 'learning_rate': 0.1}\n",
      "Лучшее значение RMSE модели CatBoostRegressor_ohe: 1864.0845930869768\n",
      "CPU times: user 1min 58s, sys: 8.18 s, total: 2min 7s\n",
      "Wall time: 2min 46s\n"
     ]
    }
   ],
   "source": [
    "%%time\n",
    "\n",
    "# Инициализируем модель\n",
    "model = CatBoostRegressor(random_seed=12345)\n",
    "# Задаем словарь гиперпараметров\n",
    "parameters = {'depth' : [6,8,10],\n",
    "              'learning_rate' : [0.01, 0.05, 0.1],\n",
    "              'iterations'    : [30, 50, 100]\n",
    "              }\n",
    "\n",
    "# Инициализируем объект GridSearchCV с тремя фолдами кросс-валидации и метрикой RMSE\n",
    "grid = GridSearchCV(estimator=model, param_grid = parameters, cv = 2, n_jobs=-1, scoring='neg_root_mean_squared_error')\n",
    "# Обучаем модель на тренировочных данных\n",
    "grid.fit(ohe_train, target_train)\n",
    "\n",
    "# Выводим лучшие параметры и лучшее значение RMSE на валидационных данных\n",
    "print(\"Лучшие параметры:\", grid.best_params_)\n",
    "print(\"Лучшее значение RMSE модели CatBoostRegressor_ohe:\", -grid.best_score_)\n"
   ]
  },
  {
   "cell_type": "markdown",
   "metadata": {},
   "source": [
    "Сравним полученные результат с моделью обученное на признаках закадированных методом Ordinal Encoder"
   ]
  },
  {
   "cell_type": "code",
   "execution_count": 26,
   "metadata": {
    "scrolled": true
   },
   "outputs": [
    {
     "name": "stdout",
     "output_type": "stream",
     "text": [
      "0:\tlearn: 4269.4089907\ttotal: 43.6ms\tremaining: 4.32s\n",
      "1:\tlearn: 3993.5791585\ttotal: 79.8ms\tremaining: 3.91s\n",
      "2:\tlearn: 3752.5817763\ttotal: 116ms\tremaining: 3.75s\n",
      "3:\tlearn: 3536.0464695\ttotal: 150ms\tremaining: 3.59s\n",
      "4:\tlearn: 3346.4564771\ttotal: 184ms\tremaining: 3.49s\n",
      "5:\tlearn: 3185.6131778\ttotal: 220ms\tremaining: 3.44s\n",
      "6:\tlearn: 3042.2234414\ttotal: 256ms\tremaining: 3.4s\n",
      "7:\tlearn: 2915.2642208\ttotal: 291ms\tremaining: 3.35s\n",
      "8:\tlearn: 2807.1424641\ttotal: 325ms\tremaining: 3.29s\n",
      "9:\tlearn: 2715.1687243\ttotal: 361ms\tremaining: 3.25s\n",
      "10:\tlearn: 2631.0154084\ttotal: 396ms\tremaining: 3.21s\n",
      "11:\tlearn: 2559.1845077\ttotal: 430ms\tremaining: 3.15s\n",
      "12:\tlearn: 2494.2452463\ttotal: 466ms\tremaining: 3.12s\n",
      "13:\tlearn: 2436.2628891\ttotal: 500ms\tremaining: 3.07s\n",
      "14:\tlearn: 2384.3922328\ttotal: 535ms\tremaining: 3.03s\n",
      "15:\tlearn: 2340.8415152\ttotal: 569ms\tremaining: 2.98s\n",
      "16:\tlearn: 2299.5605640\ttotal: 603ms\tremaining: 2.94s\n",
      "17:\tlearn: 2266.0129041\ttotal: 635ms\tremaining: 2.89s\n",
      "18:\tlearn: 2234.7900777\ttotal: 670ms\tremaining: 2.86s\n",
      "19:\tlearn: 2209.6265097\ttotal: 709ms\tremaining: 2.83s\n",
      "20:\tlearn: 2177.0428979\ttotal: 742ms\tremaining: 2.79s\n",
      "21:\tlearn: 2154.6639276\ttotal: 775ms\tremaining: 2.75s\n",
      "22:\tlearn: 2135.8752672\ttotal: 809ms\tremaining: 2.71s\n",
      "23:\tlearn: 2116.1708296\ttotal: 844ms\tremaining: 2.67s\n",
      "24:\tlearn: 2100.1319456\ttotal: 880ms\tremaining: 2.64s\n",
      "25:\tlearn: 2084.8131769\ttotal: 916ms\tremaining: 2.61s\n",
      "26:\tlearn: 2069.9045997\ttotal: 959ms\tremaining: 2.59s\n",
      "27:\tlearn: 2057.1465040\ttotal: 1s\tremaining: 2.58s\n",
      "28:\tlearn: 2047.2466369\ttotal: 1.04s\tremaining: 2.55s\n",
      "29:\tlearn: 2037.6846542\ttotal: 1.08s\tremaining: 2.51s\n",
      "30:\tlearn: 2026.0678542\ttotal: 1.11s\tremaining: 2.48s\n",
      "31:\tlearn: 2018.2562119\ttotal: 1.15s\tremaining: 2.44s\n",
      "32:\tlearn: 2006.5434925\ttotal: 1.18s\tremaining: 2.4s\n",
      "33:\tlearn: 1995.3634609\ttotal: 1.22s\tremaining: 2.36s\n",
      "34:\tlearn: 1986.7718927\ttotal: 1.25s\tremaining: 2.33s\n",
      "35:\tlearn: 1979.5138692\ttotal: 1.29s\tremaining: 2.29s\n",
      "36:\tlearn: 1970.2263357\ttotal: 1.32s\tremaining: 2.25s\n",
      "37:\tlearn: 1962.9425964\ttotal: 1.36s\tremaining: 2.22s\n",
      "38:\tlearn: 1957.2241905\ttotal: 1.4s\tremaining: 2.19s\n",
      "39:\tlearn: 1950.4415218\ttotal: 1.43s\tremaining: 2.15s\n",
      "40:\tlearn: 1943.8350850\ttotal: 1.47s\tremaining: 2.11s\n",
      "41:\tlearn: 1938.6080781\ttotal: 1.5s\tremaining: 2.07s\n",
      "42:\tlearn: 1933.6682293\ttotal: 1.53s\tremaining: 2.04s\n",
      "43:\tlearn: 1928.7236852\ttotal: 1.57s\tremaining: 2s\n",
      "44:\tlearn: 1923.1495209\ttotal: 1.61s\tremaining: 1.97s\n",
      "45:\tlearn: 1916.7842704\ttotal: 1.65s\tremaining: 1.94s\n",
      "46:\tlearn: 1912.3487112\ttotal: 1.69s\tremaining: 1.9s\n",
      "47:\tlearn: 1909.1711421\ttotal: 1.72s\tremaining: 1.87s\n",
      "48:\tlearn: 1904.6275587\ttotal: 1.76s\tremaining: 1.83s\n",
      "49:\tlearn: 1901.4699407\ttotal: 1.8s\tremaining: 1.8s\n",
      "50:\tlearn: 1898.3130963\ttotal: 1.83s\tremaining: 1.76s\n",
      "51:\tlearn: 1894.2778459\ttotal: 1.87s\tremaining: 1.73s\n",
      "52:\tlearn: 1891.5117814\ttotal: 1.9s\tremaining: 1.69s\n",
      "53:\tlearn: 1887.8595049\ttotal: 1.94s\tremaining: 1.65s\n",
      "54:\tlearn: 1884.6031694\ttotal: 1.98s\tremaining: 1.62s\n",
      "55:\tlearn: 1881.7892005\ttotal: 2.01s\tremaining: 1.58s\n",
      "56:\tlearn: 1879.0623436\ttotal: 2.05s\tremaining: 1.55s\n",
      "57:\tlearn: 1876.5608297\ttotal: 2.09s\tremaining: 1.51s\n",
      "58:\tlearn: 1873.5647751\ttotal: 2.12s\tremaining: 1.48s\n",
      "59:\tlearn: 1870.2539475\ttotal: 2.17s\tremaining: 1.44s\n",
      "60:\tlearn: 1867.8068836\ttotal: 2.2s\tremaining: 1.41s\n",
      "61:\tlearn: 1865.3357139\ttotal: 2.23s\tremaining: 1.37s\n",
      "62:\tlearn: 1862.5064926\ttotal: 2.27s\tremaining: 1.34s\n",
      "63:\tlearn: 1859.6850336\ttotal: 2.31s\tremaining: 1.3s\n",
      "64:\tlearn: 1858.0641912\ttotal: 2.36s\tremaining: 1.27s\n",
      "65:\tlearn: 1855.5756986\ttotal: 2.4s\tremaining: 1.24s\n",
      "66:\tlearn: 1853.0336339\ttotal: 2.43s\tremaining: 1.2s\n",
      "67:\tlearn: 1850.4427189\ttotal: 2.47s\tremaining: 1.16s\n",
      "68:\tlearn: 1848.0187430\ttotal: 2.5s\tremaining: 1.12s\n",
      "69:\tlearn: 1845.5655853\ttotal: 2.54s\tremaining: 1.09s\n",
      "70:\tlearn: 1841.9522640\ttotal: 2.58s\tremaining: 1.05s\n",
      "71:\tlearn: 1839.9810265\ttotal: 2.61s\tremaining: 1.02s\n",
      "72:\tlearn: 1837.6721721\ttotal: 2.65s\tremaining: 979ms\n",
      "73:\tlearn: 1834.6482501\ttotal: 2.69s\tremaining: 944ms\n",
      "74:\tlearn: 1832.6825277\ttotal: 2.72s\tremaining: 907ms\n",
      "75:\tlearn: 1831.3212011\ttotal: 2.76s\tremaining: 870ms\n",
      "76:\tlearn: 1829.4160879\ttotal: 2.8s\tremaining: 836ms\n",
      "77:\tlearn: 1827.1742191\ttotal: 2.83s\tremaining: 799ms\n",
      "78:\tlearn: 1825.8857438\ttotal: 2.87s\tremaining: 763ms\n",
      "79:\tlearn: 1823.8808013\ttotal: 2.9s\tremaining: 726ms\n",
      "80:\tlearn: 1821.8228068\ttotal: 2.94s\tremaining: 690ms\n",
      "81:\tlearn: 1820.3016861\ttotal: 2.98s\tremaining: 653ms\n",
      "82:\tlearn: 1818.6237990\ttotal: 3.01s\tremaining: 617ms\n",
      "83:\tlearn: 1816.9422093\ttotal: 3.05s\tremaining: 581ms\n",
      "84:\tlearn: 1815.6473871\ttotal: 3.09s\tremaining: 545ms\n",
      "85:\tlearn: 1813.7110640\ttotal: 3.12s\tremaining: 508ms\n",
      "86:\tlearn: 1812.0666820\ttotal: 3.16s\tremaining: 472ms\n",
      "87:\tlearn: 1810.1386102\ttotal: 3.19s\tremaining: 436ms\n",
      "88:\tlearn: 1808.4283204\ttotal: 3.23s\tremaining: 399ms\n",
      "89:\tlearn: 1807.1170458\ttotal: 3.27s\tremaining: 364ms\n",
      "90:\tlearn: 1805.8395805\ttotal: 3.31s\tremaining: 328ms\n",
      "91:\tlearn: 1804.4482192\ttotal: 3.35s\tremaining: 292ms\n",
      "92:\tlearn: 1802.6157793\ttotal: 3.39s\tremaining: 255ms\n",
      "93:\tlearn: 1801.1015208\ttotal: 3.43s\tremaining: 219ms\n",
      "94:\tlearn: 1799.9853368\ttotal: 3.46s\tremaining: 182ms\n",
      "95:\tlearn: 1798.8896485\ttotal: 3.5s\tremaining: 146ms\n",
      "96:\tlearn: 1797.3616882\ttotal: 3.54s\tremaining: 110ms\n",
      "97:\tlearn: 1795.7415157\ttotal: 3.58s\tremaining: 73.1ms\n",
      "98:\tlearn: 1794.3751733\ttotal: 3.62s\tremaining: 36.5ms\n",
      "99:\tlearn: 1792.8222194\ttotal: 3.65s\tremaining: 0us\n",
      "0:\tlearn: 4281.6615265\ttotal: 45.6ms\tremaining: 4.52s\n",
      "1:\tlearn: 4014.2467878\ttotal: 80.2ms\tremaining: 3.93s\n",
      "2:\tlearn: 3771.5667739\ttotal: 115ms\tremaining: 3.71s\n",
      "3:\tlearn: 3558.2014727\ttotal: 149ms\tremaining: 3.58s\n",
      "4:\tlearn: 3371.4400064\ttotal: 184ms\tremaining: 3.5s\n",
      "5:\tlearn: 3210.1726957\ttotal: 222ms\tremaining: 3.47s\n",
      "6:\tlearn: 3066.1962456\ttotal: 259ms\tremaining: 3.43s\n",
      "7:\tlearn: 2940.0172804\ttotal: 294ms\tremaining: 3.38s\n",
      "8:\tlearn: 2830.5633084\ttotal: 328ms\tremaining: 3.32s\n",
      "9:\tlearn: 2739.9589229\ttotal: 364ms\tremaining: 3.27s\n",
      "10:\tlearn: 2656.5744869\ttotal: 398ms\tremaining: 3.22s\n",
      "11:\tlearn: 2584.4507370\ttotal: 433ms\tremaining: 3.18s\n",
      "12:\tlearn: 2520.3767092\ttotal: 468ms\tremaining: 3.13s\n",
      "13:\tlearn: 2462.3420792\ttotal: 502ms\tremaining: 3.09s\n",
      "14:\tlearn: 2410.5306629\ttotal: 537ms\tremaining: 3.04s\n",
      "15:\tlearn: 2366.7884691\ttotal: 572ms\tremaining: 3s\n",
      "16:\tlearn: 2327.1294699\ttotal: 613ms\tremaining: 2.99s\n",
      "17:\tlearn: 2293.4533089\ttotal: 649ms\tremaining: 2.96s\n",
      "18:\tlearn: 2261.9653948\ttotal: 683ms\tremaining: 2.91s\n",
      "19:\tlearn: 2235.3342602\ttotal: 718ms\tremaining: 2.87s\n",
      "20:\tlearn: 2208.5970783\ttotal: 754ms\tremaining: 2.83s\n",
      "21:\tlearn: 2185.0545808\ttotal: 788ms\tremaining: 2.79s\n",
      "22:\tlearn: 2165.2431500\ttotal: 822ms\tremaining: 2.75s\n",
      "23:\tlearn: 2149.1278462\ttotal: 856ms\tremaining: 2.71s\n",
      "24:\tlearn: 2130.0916314\ttotal: 891ms\tremaining: 2.67s\n",
      "25:\tlearn: 2110.1897929\ttotal: 937ms\tremaining: 2.67s\n",
      "26:\tlearn: 2096.6689590\ttotal: 973ms\tremaining: 2.63s\n",
      "27:\tlearn: 2081.1500593\ttotal: 1.01s\tremaining: 2.59s\n",
      "28:\tlearn: 2066.7128506\ttotal: 1.04s\tremaining: 2.55s\n",
      "29:\tlearn: 2054.4680572\ttotal: 1.08s\tremaining: 2.51s\n",
      "30:\tlearn: 2043.9234147\ttotal: 1.11s\tremaining: 2.47s\n",
      "31:\tlearn: 2035.4985618\ttotal: 1.15s\tremaining: 2.43s\n",
      "32:\tlearn: 2027.9024679\ttotal: 1.18s\tremaining: 2.4s\n",
      "33:\tlearn: 2020.7845742\ttotal: 1.22s\tremaining: 2.36s\n",
      "34:\tlearn: 2010.2899311\ttotal: 1.25s\tremaining: 2.33s\n",
      "35:\tlearn: 2004.5871411\ttotal: 1.29s\tremaining: 2.29s\n",
      "36:\tlearn: 1995.3512971\ttotal: 1.32s\tremaining: 2.25s\n",
      "37:\tlearn: 1988.1306289\ttotal: 1.36s\tremaining: 2.23s\n",
      "38:\tlearn: 1980.6989108\ttotal: 1.4s\tremaining: 2.2s\n",
      "39:\tlearn: 1973.0959752\ttotal: 1.44s\tremaining: 2.16s\n",
      "40:\tlearn: 1966.9215048\ttotal: 1.48s\tremaining: 2.13s\n",
      "41:\tlearn: 1961.5301725\ttotal: 1.52s\tremaining: 2.09s\n",
      "42:\tlearn: 1955.3071993\ttotal: 1.55s\tremaining: 2.06s\n",
      "43:\tlearn: 1951.4533168\ttotal: 1.59s\tremaining: 2.02s\n",
      "44:\tlearn: 1946.6363392\ttotal: 1.62s\tremaining: 1.98s\n",
      "45:\tlearn: 1940.8603647\ttotal: 1.66s\tremaining: 1.94s\n",
      "46:\tlearn: 1936.3283326\ttotal: 1.69s\tremaining: 1.91s\n",
      "47:\tlearn: 1931.8824510\ttotal: 1.73s\tremaining: 1.87s\n",
      "48:\tlearn: 1927.7291820\ttotal: 1.76s\tremaining: 1.83s\n",
      "49:\tlearn: 1924.3693433\ttotal: 1.82s\tremaining: 1.82s\n",
      "50:\tlearn: 1920.7111732\ttotal: 1.86s\tremaining: 1.79s\n",
      "51:\tlearn: 1915.5316361\ttotal: 1.91s\tremaining: 1.76s\n",
      "52:\tlearn: 1912.1180328\ttotal: 1.96s\tremaining: 1.74s\n",
      "53:\tlearn: 1908.6781014\ttotal: 1.99s\tremaining: 1.7s\n",
      "54:\tlearn: 1905.5424394\ttotal: 2.03s\tremaining: 1.66s\n",
      "55:\tlearn: 1903.0706770\ttotal: 2.06s\tremaining: 1.62s\n",
      "56:\tlearn: 1900.2494079\ttotal: 2.1s\tremaining: 1.58s\n",
      "57:\tlearn: 1897.1602085\ttotal: 2.13s\tremaining: 1.54s\n",
      "58:\tlearn: 1894.1512835\ttotal: 2.17s\tremaining: 1.5s\n",
      "59:\tlearn: 1891.4805795\ttotal: 2.2s\tremaining: 1.47s\n",
      "60:\tlearn: 1889.2130063\ttotal: 2.24s\tremaining: 1.43s\n",
      "61:\tlearn: 1886.4543821\ttotal: 2.27s\tremaining: 1.39s\n",
      "62:\tlearn: 1884.1420436\ttotal: 2.31s\tremaining: 1.36s\n",
      "63:\tlearn: 1880.9147302\ttotal: 2.34s\tremaining: 1.32s\n",
      "64:\tlearn: 1878.6439011\ttotal: 2.38s\tremaining: 1.28s\n",
      "65:\tlearn: 1876.1766584\ttotal: 2.41s\tremaining: 1.24s\n",
      "66:\tlearn: 1873.1846390\ttotal: 2.45s\tremaining: 1.21s\n",
      "67:\tlearn: 1871.0041801\ttotal: 2.49s\tremaining: 1.17s\n",
      "68:\tlearn: 1868.8268802\ttotal: 2.52s\tremaining: 1.13s\n",
      "69:\tlearn: 1866.8164540\ttotal: 2.56s\tremaining: 1.1s\n",
      "70:\tlearn: 1864.9311123\ttotal: 2.59s\tremaining: 1.06s\n",
      "71:\tlearn: 1863.7953239\ttotal: 2.63s\tremaining: 1.02s\n",
      "72:\tlearn: 1862.0124821\ttotal: 2.66s\tremaining: 985ms\n",
      "73:\tlearn: 1858.9874041\ttotal: 2.7s\tremaining: 950ms\n",
      "74:\tlearn: 1856.3352924\ttotal: 2.74s\tremaining: 912ms\n",
      "75:\tlearn: 1854.7156016\ttotal: 2.77s\tremaining: 875ms\n",
      "76:\tlearn: 1852.4574822\ttotal: 2.8s\tremaining: 838ms\n",
      "77:\tlearn: 1850.7666472\ttotal: 2.84s\tremaining: 800ms\n",
      "78:\tlearn: 1848.9279827\ttotal: 2.87s\tremaining: 764ms\n",
      "79:\tlearn: 1846.7675027\ttotal: 2.91s\tremaining: 727ms\n",
      "80:\tlearn: 1845.3207122\ttotal: 2.94s\tremaining: 691ms\n",
      "81:\tlearn: 1843.1708574\ttotal: 2.98s\tremaining: 654ms\n",
      "82:\tlearn: 1841.9076419\ttotal: 3.01s\tremaining: 617ms\n",
      "83:\tlearn: 1839.2069593\ttotal: 3.05s\tremaining: 581ms\n",
      "84:\tlearn: 1837.2025335\ttotal: 3.09s\tremaining: 546ms\n",
      "85:\tlearn: 1835.2841505\ttotal: 3.13s\tremaining: 509ms\n",
      "86:\tlearn: 1833.1871747\ttotal: 3.16s\tremaining: 472ms\n",
      "87:\tlearn: 1831.2855562\ttotal: 3.19s\tremaining: 436ms\n",
      "88:\tlearn: 1830.0880825\ttotal: 3.23s\tremaining: 399ms\n",
      "89:\tlearn: 1828.4731425\ttotal: 3.27s\tremaining: 363ms\n",
      "90:\tlearn: 1827.0017610\ttotal: 3.3s\tremaining: 326ms\n",
      "91:\tlearn: 1825.9518228\ttotal: 3.33s\tremaining: 290ms\n",
      "92:\tlearn: 1824.0593294\ttotal: 3.37s\tremaining: 254ms\n",
      "93:\tlearn: 1821.9848778\ttotal: 3.4s\tremaining: 217ms\n",
      "94:\tlearn: 1821.0086872\ttotal: 3.44s\tremaining: 181ms\n",
      "95:\tlearn: 1819.7969966\ttotal: 3.48s\tremaining: 145ms\n",
      "96:\tlearn: 1818.5380229\ttotal: 3.51s\tremaining: 109ms\n",
      "97:\tlearn: 1817.0384490\ttotal: 3.54s\tremaining: 72.3ms\n",
      "98:\tlearn: 1815.0759500\ttotal: 3.58s\tremaining: 36.2ms\n",
      "99:\tlearn: 1813.1754731\ttotal: 3.61s\tremaining: 0us\n",
      "0:\tlearn: 4280.1077501\ttotal: 34.8ms\tremaining: 3.44s\n",
      "1:\tlearn: 4012.6420435\ttotal: 69.7ms\tremaining: 3.42s\n",
      "2:\tlearn: 3768.7628609\ttotal: 105ms\tremaining: 3.38s\n",
      "3:\tlearn: 3551.2979642\ttotal: 138ms\tremaining: 3.32s\n",
      "4:\tlearn: 3361.1924546\ttotal: 173ms\tremaining: 3.29s\n",
      "5:\tlearn: 3199.3854438\ttotal: 209ms\tremaining: 3.28s\n",
      "6:\tlearn: 3057.2825100\ttotal: 244ms\tremaining: 3.25s\n",
      "7:\tlearn: 2929.6369674\ttotal: 279ms\tremaining: 3.21s\n",
      "8:\tlearn: 2819.7679245\ttotal: 315ms\tremaining: 3.19s\n",
      "9:\tlearn: 2724.7153323\ttotal: 350ms\tremaining: 3.15s\n",
      "10:\tlearn: 2640.6093895\ttotal: 386ms\tremaining: 3.12s\n",
      "11:\tlearn: 2565.3242409\ttotal: 421ms\tremaining: 3.09s\n",
      "12:\tlearn: 2499.4160922\ttotal: 455ms\tremaining: 3.04s\n",
      "13:\tlearn: 2442.8624207\ttotal: 490ms\tremaining: 3.01s\n",
      "14:\tlearn: 2390.7663751\ttotal: 531ms\tremaining: 3.01s\n",
      "15:\tlearn: 2346.9969383\ttotal: 567ms\tremaining: 2.98s\n",
      "16:\tlearn: 2306.8036756\ttotal: 604ms\tremaining: 2.95s\n",
      "17:\tlearn: 2273.1754014\ttotal: 639ms\tremaining: 2.91s\n",
      "18:\tlearn: 2245.3277861\ttotal: 675ms\tremaining: 2.88s\n",
      "19:\tlearn: 2218.2672107\ttotal: 710ms\tremaining: 2.84s\n",
      "20:\tlearn: 2186.3201987\ttotal: 744ms\tremaining: 2.8s\n",
      "21:\tlearn: 2162.0890590\ttotal: 778ms\tremaining: 2.76s\n",
      "22:\tlearn: 2144.0404121\ttotal: 812ms\tremaining: 2.72s\n",
      "23:\tlearn: 2124.2029290\ttotal: 851ms\tremaining: 2.69s\n",
      "24:\tlearn: 2107.8522556\ttotal: 894ms\tremaining: 2.68s\n",
      "25:\tlearn: 2092.0437963\ttotal: 934ms\tremaining: 2.66s\n",
      "26:\tlearn: 2076.7812273\ttotal: 970ms\tremaining: 2.62s\n",
      "27:\tlearn: 2061.5741022\ttotal: 1.01s\tremaining: 2.59s\n",
      "28:\tlearn: 2049.9034575\ttotal: 1.04s\tremaining: 2.56s\n",
      "29:\tlearn: 2039.8369948\ttotal: 1.08s\tremaining: 2.52s\n",
      "30:\tlearn: 2028.0290847\ttotal: 1.11s\tremaining: 2.48s\n",
      "31:\tlearn: 2020.0900227\ttotal: 1.15s\tremaining: 2.44s\n",
      "32:\tlearn: 2010.0249162\ttotal: 1.18s\tremaining: 2.4s\n",
      "33:\tlearn: 2000.4534609\ttotal: 1.22s\tremaining: 2.37s\n",
      "34:\tlearn: 1993.2952603\ttotal: 1.25s\tremaining: 2.33s\n",
      "35:\tlearn: 1986.3360091\ttotal: 1.29s\tremaining: 2.29s\n",
      "36:\tlearn: 1979.1994113\ttotal: 1.32s\tremaining: 2.25s\n",
      "37:\tlearn: 1971.4254807\ttotal: 1.36s\tremaining: 2.21s\n",
      "38:\tlearn: 1963.9584324\ttotal: 1.4s\tremaining: 2.19s\n",
      "39:\tlearn: 1958.7401293\ttotal: 1.43s\tremaining: 2.15s\n",
      "40:\tlearn: 1952.0721498\ttotal: 1.47s\tremaining: 2.12s\n",
      "41:\tlearn: 1945.4982962\ttotal: 1.51s\tremaining: 2.08s\n",
      "42:\tlearn: 1941.1462487\ttotal: 1.54s\tremaining: 2.04s\n",
      "43:\tlearn: 1936.3950843\ttotal: 1.58s\tremaining: 2.01s\n",
      "44:\tlearn: 1931.3317083\ttotal: 1.62s\tremaining: 1.98s\n",
      "45:\tlearn: 1927.4789391\ttotal: 1.66s\tremaining: 1.94s\n",
      "46:\tlearn: 1923.5590354\ttotal: 1.69s\tremaining: 1.91s\n",
      "47:\tlearn: 1919.7740526\ttotal: 1.73s\tremaining: 1.87s\n",
      "48:\tlearn: 1915.6153314\ttotal: 1.77s\tremaining: 1.84s\n",
      "49:\tlearn: 1912.1931530\ttotal: 1.8s\tremaining: 1.8s\n",
      "50:\tlearn: 1909.1478035\ttotal: 1.84s\tremaining: 1.77s\n",
      "51:\tlearn: 1906.0443244\ttotal: 1.88s\tremaining: 1.73s\n",
      "52:\tlearn: 1902.2046899\ttotal: 1.91s\tremaining: 1.69s\n",
      "53:\tlearn: 1897.1043515\ttotal: 1.95s\tremaining: 1.66s\n",
      "54:\tlearn: 1893.3792887\ttotal: 1.98s\tremaining: 1.62s\n",
      "55:\tlearn: 1890.3266543\ttotal: 2.02s\tremaining: 1.58s\n",
      "56:\tlearn: 1885.8259100\ttotal: 2.05s\tremaining: 1.55s\n",
      "57:\tlearn: 1883.2987253\ttotal: 2.09s\tremaining: 1.51s\n",
      "58:\tlearn: 1880.6403346\ttotal: 2.13s\tremaining: 1.48s\n",
      "59:\tlearn: 1877.6345379\ttotal: 2.17s\tremaining: 1.45s\n",
      "60:\tlearn: 1875.1614311\ttotal: 2.21s\tremaining: 1.41s\n",
      "61:\tlearn: 1871.7192027\ttotal: 2.24s\tremaining: 1.37s\n",
      "62:\tlearn: 1867.8332017\ttotal: 2.28s\tremaining: 1.34s\n",
      "63:\tlearn: 1866.0106456\ttotal: 2.32s\tremaining: 1.3s\n",
      "64:\tlearn: 1863.7740082\ttotal: 2.36s\tremaining: 1.27s\n",
      "65:\tlearn: 1860.8147190\ttotal: 2.4s\tremaining: 1.23s\n",
      "66:\tlearn: 1857.9477983\ttotal: 2.43s\tremaining: 1.2s\n",
      "67:\tlearn: 1856.4563054\ttotal: 2.47s\tremaining: 1.16s\n",
      "68:\tlearn: 1853.6680613\ttotal: 2.51s\tremaining: 1.13s\n",
      "69:\tlearn: 1851.5077373\ttotal: 2.55s\tremaining: 1.09s\n",
      "70:\tlearn: 1849.3233983\ttotal: 2.59s\tremaining: 1.06s\n",
      "71:\tlearn: 1847.0622305\ttotal: 2.62s\tremaining: 1.02s\n",
      "72:\tlearn: 1844.5398834\ttotal: 2.66s\tremaining: 985ms\n",
      "73:\tlearn: 1843.1484852\ttotal: 2.7s\tremaining: 948ms\n",
      "74:\tlearn: 1840.7220679\ttotal: 2.74s\tremaining: 912ms\n",
      "75:\tlearn: 1838.9832663\ttotal: 2.77s\tremaining: 876ms\n",
      "76:\tlearn: 1837.0053214\ttotal: 2.81s\tremaining: 839ms\n",
      "77:\tlearn: 1834.9054386\ttotal: 2.85s\tremaining: 803ms\n",
      "78:\tlearn: 1833.4921271\ttotal: 2.88s\tremaining: 766ms\n",
      "79:\tlearn: 1831.9261875\ttotal: 2.92s\tremaining: 729ms\n",
      "80:\tlearn: 1830.0925708\ttotal: 2.95s\tremaining: 693ms\n",
      "81:\tlearn: 1828.6537683\ttotal: 2.99s\tremaining: 656ms\n",
      "82:\tlearn: 1827.2725696\ttotal: 3.03s\tremaining: 620ms\n",
      "83:\tlearn: 1824.9487981\ttotal: 3.06s\tremaining: 584ms\n",
      "84:\tlearn: 1823.0271271\ttotal: 3.1s\tremaining: 547ms\n",
      "85:\tlearn: 1820.8539825\ttotal: 3.14s\tremaining: 511ms\n",
      "86:\tlearn: 1818.7128835\ttotal: 3.17s\tremaining: 474ms\n",
      "87:\tlearn: 1817.0692057\ttotal: 3.22s\tremaining: 439ms\n",
      "88:\tlearn: 1815.3708287\ttotal: 3.26s\tremaining: 403ms\n",
      "89:\tlearn: 1813.9600435\ttotal: 3.31s\tremaining: 367ms\n",
      "90:\tlearn: 1812.6630956\ttotal: 3.34s\tremaining: 331ms\n",
      "91:\tlearn: 1811.5209560\ttotal: 3.38s\tremaining: 294ms\n",
      "92:\tlearn: 1809.6680979\ttotal: 3.41s\tremaining: 257ms\n",
      "93:\tlearn: 1808.1830967\ttotal: 3.45s\tremaining: 220ms\n",
      "94:\tlearn: 1807.1350583\ttotal: 3.48s\tremaining: 183ms\n",
      "95:\tlearn: 1806.0308256\ttotal: 3.52s\tremaining: 147ms\n",
      "96:\tlearn: 1804.7465498\ttotal: 3.55s\tremaining: 110ms\n",
      "97:\tlearn: 1803.2446396\ttotal: 3.59s\tremaining: 73.3ms\n",
      "98:\tlearn: 1801.9519329\ttotal: 3.63s\tremaining: 36.6ms\n",
      "99:\tlearn: 1800.9215622\ttotal: 3.66s\tremaining: 0us\n",
      "КЛучшее значение RMSE модели CatBoostRegressor_oe: 1854.2127466522152\n",
      "CPU times: user 11.3 s, sys: 51.4 ms, total: 11.4 s\n",
      "Wall time: 13.8 s\n"
     ]
    }
   ],
   "source": [
    "%%time\n",
    "\n",
    "# Инициализируем модель\n",
    "model = CatBoostRegressor(depth=10,iterations=100,learning_rate=0.1, random_seed=12345)\n",
    "\n",
    "# Вычисляем среднеквадратичную ошибку на кросс-валидации с тремя фолдами\n",
    "scores = cross_val_score(model, oe_train, target_train, scoring='neg_mean_squared_error', cv=3, n_jobs=-1)\n",
    "\n",
    "# Выводим среднеквадратичную ошибку и корень из нее\n",
    "mse = -np.mean(scores)\n",
    "rmse = np.sqrt(mse)\n",
    "print(\"КЛучшее значение RMSE модели CatBoostRegressor_oe:\", rmse)\n"
   ]
  },
  {
   "cell_type": "markdown",
   "metadata": {},
   "source": [
    "### LGBMRegressor"
   ]
  },
  {
   "cell_type": "code",
   "execution_count": 27,
   "metadata": {},
   "outputs": [
    {
     "name": "stdout",
     "output_type": "stream",
     "text": [
      "Лучшие параметры: {'learning_rate': 0.1, 'num_leaves': 200}\n",
      "Лучшее значение RMSE модели LGBMRegressor_ohe: 1737.374416795522\n",
      "CPU times: user 54.3 s, sys: 11.1 s, total: 1min 5s\n",
      "Wall time: 1min 5s\n"
     ]
    }
   ],
   "source": [
    "%%time\n",
    "\n",
    "# Инициализируем модель\n",
    "model = LGBMRegressor(random_state=12345,n_jobs=1) \n",
    "# Задаем словарь гиперпараметров\n",
    "hyperparams = {'num_leaves':[31, 100, 200], \n",
    "               'learning_rate':[0.1, 0.3, 0.5]}\n",
    "\n",
    "# Инициализируем объект GridSearchCV с тремя фолдами кросс-валидации и метрикой RMSE\n",
    "grid= GridSearchCV(model, hyperparams, cv=2, scoring='neg_root_mean_squared_error')\n",
    "# Обучаем модель на тренировочных данных\n",
    "grid.fit(ohe_train, target_train)\n",
    "\n",
    "# Выводим лучшие параметры и лучшее значение RMSE на валидационных данных\n",
    "print(\"Лучшие параметры:\", grid.best_params_)\n",
    "print(\"Лучшее значение RMSE модели LGBMRegressor_ohe:\", -grid.best_score_)\n"
   ]
  },
  {
   "cell_type": "code",
   "execution_count": 28,
   "metadata": {},
   "outputs": [
    {
     "name": "stdout",
     "output_type": "stream",
     "text": [
      "Лучшие параметры: {'learning_rate': 0.1, 'num_leaves': 200}\n",
      "Лучшее значение RMSE модели LGBMRegressor_oe: 1736.8280931886131\n",
      "CPU times: user 43.6 s, sys: 841 ms, total: 44.5 s\n",
      "Wall time: 44.5 s\n"
     ]
    }
   ],
   "source": [
    "%%time\n",
    "\n",
    "# Инициализируем модель\n",
    "model = LGBMRegressor(random_state=12345) \n",
    "# Задаем словарь гиперпараметров\n",
    "hyperparams = {'num_leaves':[31, 100, 200], \n",
    "               'learning_rate':[0.1, 0.3, 0.5]}\n",
    "\n",
    "# Инициализируем объект GridSearchCV с тремя фолдами кросс-валидации и метрикой RMSE\n",
    "grid= GridSearchCV(model, hyperparams, cv=3, scoring='neg_root_mean_squared_error')\n",
    "# Обучаем модель на тренировочных данных\n",
    "grid.fit(oe_train, target_train)\n",
    "\n",
    "# Выводим лучшие параметры и лучшее значение RMSE на валидационных данных\n",
    "print(\"Лучшие параметры:\", grid.best_params_)\n",
    "print(\"Лучшее значение RMSE модели LGBMRegressor_oe:\", -grid.best_score_)\n"
   ]
  },
  {
   "cell_type": "markdown",
   "metadata": {},
   "source": [
    "## Анализ моделей"
   ]
  },
  {
   "cell_type": "markdown",
   "metadata": {},
   "source": [
    "Исследуем необходимые показатели для каждой модели:\n",
    "\n",
    "* время обучения модели;\n",
    "\n",
    "* время предсказания модели.\n",
    "\n",
    "* качество предсказания;"
   ]
  },
  {
   "cell_type": "code",
   "execution_count": 29,
   "metadata": {},
   "outputs": [],
   "source": [
    "# Разделяем данные на обучающую и валидационную выборки \n",
    "X_train, X_val, y_train, y_val = train_test_split(ohe_train, target_train, test_size=0.2, random_state=12345)"
   ]
  },
  {
   "cell_type": "code",
   "execution_count": 30,
   "metadata": {},
   "outputs": [],
   "source": [
    "def fit_and_predict(model, X_train, X_val, y_train, y_val):\n",
    "\n",
    "    start_time = time.time()\n",
    "    model.fit(X_train, y_train)\n",
    "    train_time = time.time() - start_time\n",
    "\n",
    "    start_time = time.time()\n",
    "    predict_train = model.predict(X_train)\n",
    "    predict_val = model.predict(X_val)\n",
    "    predict_time = time.time() - start_time\n",
    "\n",
    "    rmse = mean_squared_error(y_val, predict_val, squared=False)\n",
    "  \n",
    "    return train_time, predict_time, rmse"
   ]
  },
  {
   "cell_type": "markdown",
   "metadata": {},
   "source": [
    "### LinearRegression"
   ]
  },
  {
   "cell_type": "code",
   "execution_count": 31,
   "metadata": {
    "scrolled": true
   },
   "outputs": [
    {
     "name": "stdout",
     "output_type": "stream",
     "text": [
      "Время обучения: 21.301 секунд\n",
      "Время предсказания: 0.616 секунд\n",
      "RMSE на валидационной выборке: 2769.668\n"
     ]
    }
   ],
   "source": [
    "model=LinearRegression()\n",
    "\n",
    "train_time_LR, predict_time_LR, rmse_LR = fit_and_predict(model, X_train, X_val, y_train, y_val)\n",
    "\n",
    "print(f\"Время обучения: {train_time_LR:.3f} секунд\")\n",
    "print(f\"Время предсказания: {predict_time_LR:.3f} секунд\") \n",
    "print(f\"RMSE на валидационной выборке: {rmse_LR:.3f}\")\n"
   ]
  },
  {
   "cell_type": "markdown",
   "metadata": {},
   "source": [
    "### DecisionTreeRegressor"
   ]
  },
  {
   "cell_type": "code",
   "execution_count": 32,
   "metadata": {},
   "outputs": [
    {
     "name": "stdout",
     "output_type": "stream",
     "text": [
      "Время обучения: 4.210 секунд\n",
      "Время предсказания: 0.413 секунд\n",
      "RMSE на валидационной выборке: 2004.019\n"
     ]
    }
   ],
   "source": [
    "model = DecisionTreeRegressor(max_depth=15, random_state=12345)\n",
    "\n",
    "train_time_DTR, predict_time_DTR, rmse_DTR = fit_and_predict(model, X_train, X_val, y_train, y_val)\n",
    "\n",
    "print(f\"Время обучения: {train_time_DTR:.3f} секунд\")\n",
    "print(f\"Время предсказания: {predict_time_DTR:.3f} секунд\")\n",
    "print(f\"RMSE на валидационной выборке: {rmse_DTR:.3f}\")"
   ]
  },
  {
   "cell_type": "markdown",
   "metadata": {},
   "source": [
    "###  CatBoostRegressor_oe"
   ]
  },
  {
   "cell_type": "code",
   "execution_count": 33,
   "metadata": {
    "scrolled": true
   },
   "outputs": [
    {
     "name": "stdout",
     "output_type": "stream",
     "text": [
      "0:\tlearn: 4277.8937567\ttotal: 45.7ms\tremaining: 4.52s\n",
      "1:\tlearn: 4009.8079311\ttotal: 88.7ms\tremaining: 4.35s\n",
      "2:\tlearn: 3769.3647569\ttotal: 131ms\tremaining: 4.24s\n",
      "3:\tlearn: 3552.5047230\ttotal: 173ms\tremaining: 4.15s\n",
      "4:\tlearn: 3361.8270088\ttotal: 213ms\tremaining: 4.06s\n",
      "5:\tlearn: 3197.6261620\ttotal: 254ms\tremaining: 3.98s\n",
      "6:\tlearn: 3056.5929032\ttotal: 295ms\tremaining: 3.92s\n",
      "7:\tlearn: 2931.0253957\ttotal: 338ms\tremaining: 3.89s\n",
      "8:\tlearn: 2821.5319712\ttotal: 380ms\tremaining: 3.84s\n",
      "9:\tlearn: 2729.3405149\ttotal: 423ms\tremaining: 3.81s\n",
      "10:\tlearn: 2645.5624573\ttotal: 465ms\tremaining: 3.76s\n",
      "11:\tlearn: 2572.7296732\ttotal: 515ms\tremaining: 3.78s\n",
      "12:\tlearn: 2511.7749316\ttotal: 560ms\tremaining: 3.75s\n",
      "13:\tlearn: 2454.2175190\ttotal: 601ms\tremaining: 3.69s\n",
      "14:\tlearn: 2403.5997609\ttotal: 642ms\tremaining: 3.64s\n",
      "15:\tlearn: 2360.4386599\ttotal: 686ms\tremaining: 3.6s\n",
      "16:\tlearn: 2323.8518964\ttotal: 728ms\tremaining: 3.56s\n",
      "17:\tlearn: 2286.8229201\ttotal: 770ms\tremaining: 3.51s\n",
      "18:\tlearn: 2250.0670622\ttotal: 811ms\tremaining: 3.46s\n",
      "19:\tlearn: 2225.3159604\ttotal: 851ms\tremaining: 3.4s\n",
      "20:\tlearn: 2201.9770510\ttotal: 898ms\tremaining: 3.38s\n",
      "21:\tlearn: 2180.6416389\ttotal: 942ms\tremaining: 3.34s\n",
      "22:\tlearn: 2159.5327638\ttotal: 985ms\tremaining: 3.3s\n",
      "23:\tlearn: 2137.1244769\ttotal: 1.03s\tremaining: 3.25s\n",
      "24:\tlearn: 2121.0433326\ttotal: 1.07s\tremaining: 3.21s\n",
      "25:\tlearn: 2105.5541102\ttotal: 1.11s\tremaining: 3.16s\n",
      "26:\tlearn: 2084.8386890\ttotal: 1.15s\tremaining: 3.12s\n",
      "27:\tlearn: 2070.7134356\ttotal: 1.19s\tremaining: 3.07s\n",
      "28:\tlearn: 2056.1546567\ttotal: 1.23s\tremaining: 3.02s\n",
      "29:\tlearn: 2045.6266674\ttotal: 1.27s\tremaining: 2.98s\n",
      "30:\tlearn: 2036.3702881\ttotal: 1.32s\tremaining: 2.94s\n",
      "31:\tlearn: 2026.6492723\ttotal: 1.36s\tremaining: 2.9s\n",
      "32:\tlearn: 2019.1340585\ttotal: 1.41s\tremaining: 2.85s\n",
      "33:\tlearn: 2009.7500348\ttotal: 1.45s\tremaining: 2.81s\n",
      "34:\tlearn: 2002.0655974\ttotal: 1.49s\tremaining: 2.77s\n",
      "35:\tlearn: 1993.8213530\ttotal: 1.53s\tremaining: 2.73s\n",
      "36:\tlearn: 1986.9061605\ttotal: 1.58s\tremaining: 2.69s\n",
      "37:\tlearn: 1980.5546760\ttotal: 1.64s\tremaining: 2.67s\n",
      "38:\tlearn: 1974.6647165\ttotal: 1.69s\tremaining: 2.64s\n",
      "39:\tlearn: 1967.1712320\ttotal: 1.73s\tremaining: 2.59s\n",
      "40:\tlearn: 1960.0429694\ttotal: 1.77s\tremaining: 2.55s\n",
      "41:\tlearn: 1954.3601956\ttotal: 1.81s\tremaining: 2.5s\n",
      "42:\tlearn: 1949.7683226\ttotal: 1.86s\tremaining: 2.46s\n",
      "43:\tlearn: 1944.7881449\ttotal: 1.9s\tremaining: 2.42s\n",
      "44:\tlearn: 1939.7861092\ttotal: 1.94s\tremaining: 2.38s\n",
      "45:\tlearn: 1936.0677851\ttotal: 1.99s\tremaining: 2.34s\n",
      "46:\tlearn: 1931.0362192\ttotal: 2.04s\tremaining: 2.3s\n",
      "47:\tlearn: 1927.0939772\ttotal: 2.08s\tremaining: 2.25s\n",
      "48:\tlearn: 1923.0410954\ttotal: 2.12s\tremaining: 2.21s\n",
      "49:\tlearn: 1919.2000738\ttotal: 2.17s\tremaining: 2.17s\n",
      "50:\tlearn: 1915.9219032\ttotal: 2.21s\tremaining: 2.12s\n",
      "51:\tlearn: 1912.2457130\ttotal: 2.26s\tremaining: 2.08s\n",
      "52:\tlearn: 1908.5282729\ttotal: 2.3s\tremaining: 2.04s\n",
      "53:\tlearn: 1904.6164994\ttotal: 2.34s\tremaining: 1.99s\n",
      "54:\tlearn: 1901.6276187\ttotal: 2.38s\tremaining: 1.95s\n",
      "55:\tlearn: 1898.9921040\ttotal: 2.43s\tremaining: 1.91s\n",
      "56:\tlearn: 1895.3781699\ttotal: 2.47s\tremaining: 1.86s\n",
      "57:\tlearn: 1892.9633133\ttotal: 2.52s\tremaining: 1.82s\n",
      "58:\tlearn: 1890.4507780\ttotal: 2.56s\tremaining: 1.78s\n",
      "59:\tlearn: 1888.5957485\ttotal: 2.61s\tremaining: 1.74s\n",
      "60:\tlearn: 1886.1386055\ttotal: 2.65s\tremaining: 1.7s\n",
      "61:\tlearn: 1883.6712353\ttotal: 2.69s\tremaining: 1.65s\n",
      "62:\tlearn: 1881.3754358\ttotal: 2.74s\tremaining: 1.61s\n",
      "63:\tlearn: 1878.3505629\ttotal: 2.78s\tremaining: 1.56s\n",
      "64:\tlearn: 1876.2054325\ttotal: 2.83s\tremaining: 1.53s\n",
      "65:\tlearn: 1873.8042571\ttotal: 2.88s\tremaining: 1.48s\n",
      "66:\tlearn: 1870.6335955\ttotal: 2.92s\tremaining: 1.44s\n",
      "67:\tlearn: 1869.1943261\ttotal: 2.97s\tremaining: 1.4s\n",
      "68:\tlearn: 1867.2218516\ttotal: 3.02s\tremaining: 1.35s\n",
      "69:\tlearn: 1865.4433291\ttotal: 3.06s\tremaining: 1.31s\n",
      "70:\tlearn: 1862.9847742\ttotal: 3.1s\tremaining: 1.27s\n",
      "71:\tlearn: 1860.0388686\ttotal: 3.15s\tremaining: 1.22s\n",
      "72:\tlearn: 1858.4550290\ttotal: 3.19s\tremaining: 1.18s\n",
      "73:\tlearn: 1856.9279079\ttotal: 3.23s\tremaining: 1.14s\n",
      "74:\tlearn: 1855.1249334\ttotal: 3.28s\tremaining: 1.09s\n",
      "75:\tlearn: 1852.3737897\ttotal: 3.32s\tremaining: 1.05s\n",
      "76:\tlearn: 1850.3087711\ttotal: 3.37s\tremaining: 1.01s\n",
      "77:\tlearn: 1848.8688794\ttotal: 3.44s\tremaining: 969ms\n",
      "78:\tlearn: 1847.5536701\ttotal: 3.48s\tremaining: 925ms\n",
      "79:\tlearn: 1845.4173507\ttotal: 3.52s\tremaining: 881ms\n",
      "80:\tlearn: 1844.3364519\ttotal: 3.56s\tremaining: 836ms\n",
      "81:\tlearn: 1841.8103308\ttotal: 3.61s\tremaining: 792ms\n",
      "82:\tlearn: 1840.1521992\ttotal: 3.65s\tremaining: 747ms\n",
      "83:\tlearn: 1838.1425902\ttotal: 3.69s\tremaining: 703ms\n",
      "84:\tlearn: 1836.0688531\ttotal: 3.73s\tremaining: 659ms\n",
      "85:\tlearn: 1834.7200568\ttotal: 3.77s\tremaining: 615ms\n",
      "86:\tlearn: 1832.7952363\ttotal: 3.82s\tremaining: 570ms\n",
      "87:\tlearn: 1830.9049678\ttotal: 3.86s\tremaining: 526ms\n",
      "88:\tlearn: 1829.8173017\ttotal: 3.9s\tremaining: 482ms\n",
      "89:\tlearn: 1827.9869421\ttotal: 3.96s\tremaining: 440ms\n",
      "90:\tlearn: 1826.3104321\ttotal: 4.01s\tremaining: 396ms\n",
      "91:\tlearn: 1825.2440790\ttotal: 4.05s\tremaining: 352ms\n",
      "92:\tlearn: 1824.0848070\ttotal: 4.09s\tremaining: 308ms\n",
      "93:\tlearn: 1822.6716298\ttotal: 4.14s\tremaining: 264ms\n",
      "94:\tlearn: 1820.7614420\ttotal: 4.18s\tremaining: 220ms\n",
      "95:\tlearn: 1819.6823776\ttotal: 4.22s\tremaining: 176ms\n",
      "96:\tlearn: 1818.0435223\ttotal: 4.26s\tremaining: 132ms\n",
      "97:\tlearn: 1816.8678317\ttotal: 4.3s\tremaining: 87.9ms\n",
      "98:\tlearn: 1815.4091544\ttotal: 4.35s\tremaining: 43.9ms\n",
      "99:\tlearn: 1813.7183327\ttotal: 4.39s\tremaining: 0us\n",
      "Время обучения: 5.065 секунд\n",
      "Время предсказания: 0.081 секунд\n",
      "RMSE на валидационной выборке: 1822.383\n"
     ]
    }
   ],
   "source": [
    "model = CatBoostRegressor(learning_rate=0.1, \n",
    "                          random_state=12345, \n",
    "                          depth=10, \n",
    "                          iterations=100)\n",
    "\n",
    "X_train, X_val, y_train, y_val = train_test_split(oe_train, target_train, test_size=0.2, random_state=12345)\n",
    "\n",
    "train_time_CBR, predict_time_CBR, rmse_CBR = fit_and_predict(model, X_train, X_val, y_train, y_val)\n",
    "\n",
    "print(f\"Время обучения: {train_time_CBR:.3f} секунд\")\n",
    "print(f\"Время предсказания: {predict_time_CBR:.3f} секунд\")\n",
    "print(f\"RMSE на валидационной выборке: {rmse_CBR:.3f}\")"
   ]
  },
  {
   "cell_type": "markdown",
   "metadata": {},
   "source": [
    "### LGBMRegressor"
   ]
  },
  {
   "cell_type": "markdown",
   "metadata": {},
   "source": [
    "#### ohe"
   ]
  },
  {
   "cell_type": "code",
   "execution_count": 34,
   "metadata": {},
   "outputs": [
    {
     "name": "stdout",
     "output_type": "stream",
     "text": [
      "Время обучения: 3.855 секунд\n",
      "Время предсказания: 3.343 секунд\n",
      "RMSE на валидационной выборке: 1700.935\n"
     ]
    }
   ],
   "source": [
    "\n",
    "model = LGBMRegressor(learning_rate=0.1, num_leaves=200, random_state=12345)\n",
    "\n",
    "X_train, X_val, y_train, y_val = train_test_split(ohe_train, target_train, test_size=0.2, random_state=12345) \n",
    "\n",
    "train_time_LGBMR_ohe, predict_time_LGBMR_ohe, rmse_LGBMR_ohe = fit_and_predict(model, X_train, X_val, y_train, y_val)\n",
    "\n",
    "print(f\"Время обучения: {train_time_LGBMR_ohe:.3f} секунд\") \n",
    "print(f\"Время предсказания: {predict_time_LGBMR_ohe:.3f} секунд\")\n",
    "print(f\"RMSE на валидационной выборке: {rmse_LGBMR_ohe:.3f}\")"
   ]
  },
  {
   "cell_type": "markdown",
   "metadata": {},
   "source": [
    "#### oe"
   ]
  },
  {
   "cell_type": "code",
   "execution_count": 35,
   "metadata": {},
   "outputs": [
    {
     "name": "stdout",
     "output_type": "stream",
     "text": [
      "Время обучения: 2.020 секунд\n",
      "Время предсказания: 1.973 секунд\n",
      "RMSE на валидационной выборке: 1704.599\n"
     ]
    }
   ],
   "source": [
    "model = LGBMRegressor(learning_rate=0.1, num_leaves=200, random_state=12345)\n",
    "\n",
    "X_train, X_val, y_train, y_val = train_test_split(oe_train, target_train, test_size=0.2, random_state=12345) \n",
    "\n",
    "train_time_LGBMR_oe, predict_time_LGBMR_oe, rmse_LGBMR_oe = fit_and_predict(model, X_train, X_val, y_train, y_val)\n",
    "\n",
    "print(f\"Время обучения: {train_time_LGBMR_oe:.3f} секунд\") \n",
    "print(f\"Время предсказания: {predict_time_LGBMR_oe:.3f} секунд\")\n",
    "print(f\"RMSE на валидационной выборке: {rmse_LGBMR_oe:.3f}\")"
   ]
  },
  {
   "cell_type": "code",
   "execution_count": 36,
   "metadata": {
    "scrolled": true
   },
   "outputs": [
    {
     "data": {
      "text/html": [
       "<div>\n",
       "<style scoped>\n",
       "    .dataframe tbody tr th:only-of-type {\n",
       "        vertical-align: middle;\n",
       "    }\n",
       "\n",
       "    .dataframe tbody tr th {\n",
       "        vertical-align: top;\n",
       "    }\n",
       "\n",
       "    .dataframe thead th {\n",
       "        text-align: right;\n",
       "    }\n",
       "</style>\n",
       "<table border=\"1\" class=\"dataframe\">\n",
       "  <thead>\n",
       "    <tr style=\"text-align: right;\">\n",
       "      <th></th>\n",
       "      <th>Модель</th>\n",
       "      <th>Время обучения</th>\n",
       "      <th>Время предсказания</th>\n",
       "      <th>Качество предсказания (RMSE)</th>\n",
       "    </tr>\n",
       "  </thead>\n",
       "  <tbody>\n",
       "    <tr>\n",
       "      <th>0</th>\n",
       "      <td>LinearRegression_ohe</td>\n",
       "      <td>21.300783</td>\n",
       "      <td>0.615597</td>\n",
       "      <td>2769.668437</td>\n",
       "    </tr>\n",
       "    <tr>\n",
       "      <th>1</th>\n",
       "      <td>DecisionTreeRegressor_ohe</td>\n",
       "      <td>4.209883</td>\n",
       "      <td>0.412763</td>\n",
       "      <td>2004.019456</td>\n",
       "    </tr>\n",
       "    <tr>\n",
       "      <th>2</th>\n",
       "      <td>CatBoostRegressor_oe</td>\n",
       "      <td>5.065187</td>\n",
       "      <td>0.081398</td>\n",
       "      <td>1822.382535</td>\n",
       "    </tr>\n",
       "    <tr>\n",
       "      <th>3</th>\n",
       "      <td>LGBMRegressor_oe</td>\n",
       "      <td>2.019927</td>\n",
       "      <td>1.972860</td>\n",
       "      <td>1704.598985</td>\n",
       "    </tr>\n",
       "    <tr>\n",
       "      <th>4</th>\n",
       "      <td>LGBMRegressor_ohe</td>\n",
       "      <td>3.854887</td>\n",
       "      <td>3.343143</td>\n",
       "      <td>1700.935355</td>\n",
       "    </tr>\n",
       "  </tbody>\n",
       "</table>\n",
       "</div>"
      ],
      "text/plain": [
       "                      Модель  Время обучения  Время предсказания  \\\n",
       "0       LinearRegression_ohe       21.300783            0.615597   \n",
       "1  DecisionTreeRegressor_ohe        4.209883            0.412763   \n",
       "2       CatBoostRegressor_oe        5.065187            0.081398   \n",
       "3           LGBMRegressor_oe        2.019927            1.972860   \n",
       "4          LGBMRegressor_ohe        3.854887            3.343143   \n",
       "\n",
       "   Качество предсказания (RMSE)  \n",
       "0                   2769.668437  \n",
       "1                   2004.019456  \n",
       "2                   1822.382535  \n",
       "3                   1704.598985  \n",
       "4                   1700.935355  "
      ]
     },
     "execution_count": 36,
     "metadata": {},
     "output_type": "execute_result"
    }
   ],
   "source": [
    "data_r = {\n",
    "    'Модель': ['LinearRegression_ohe', 'DecisionTreeRegressor_ohe', 'CatBoostRegressor_oe', \n",
    "               'LGBMRegressor_oe', 'LGBMRegressor_ohe'],\n",
    "    \n",
    "    'Время обучения': [train_time_LR, train_time_DTR, train_time_CBR,\n",
    "                        train_time_LGBMR_oe, train_time_LGBMR_ohe],\n",
    "                        \n",
    "    'Время предсказания': [predict_time_LR, predict_time_DTR, predict_time_CBR,\n",
    "                            predict_time_LGBMR_oe, predict_time_LGBMR_ohe],\n",
    "                            \n",
    "    'Качество предсказания (RMSE)': [rmse_LR, rmse_DTR, rmse_CBR, \n",
    "                                       rmse_LGBMR_oe, rmse_LGBMR_ohe]\n",
    "}\n",
    "\n",
    "data_f = pd.DataFrame(data_r)\n",
    "\n",
    "# Переводим время в секунды \n",
    "#data_f['Время обучения'] = data_f['Время обучения'] * 1000\n",
    "#data_f['Время предсказания'] = data_f['Время предсказания'] * 1000\n",
    "\n",
    "data_f"
   ]
  },
  {
   "cell_type": "markdown",
   "metadata": {},
   "source": [
    "В таблице представлены результаты пяти моделей машинного обучения, которые были обучены и протестированы на наших данных. Для сравнения моделей использовались три метрики: время обучения, время предсказания и качество предсказания по среднеквадратичной ошибке (RMSE).\n",
    "\n",
    "Проанализировав таблицу, можно сделать вывод, что модели градиентного бустинга показывают лучшие результаты по качеству предсказания, чем модели линейной регрессии и дерева решений. Однако они также требуют больше времени и ресурсов для обучения и предсказания.\n",
    "\n",
    "Среди моделей градиентного бустинга, CatBoostRegressor_oe имеет наилучшее соотношение качества и времени, а так же использует оптимальное кодирование для категориальных признаков, которое уменьшает размерность и повышает точность данных. Поскольку нашей целью является получить не только точную и эффективную модель, но и быстро обучающуюся - **CatBoostRegressor_oe** будет лучшим выбором."
   ]
  },
  {
   "cell_type": "markdown",
   "metadata": {},
   "source": [
    "## Тестирование"
   ]
  },
  {
   "cell_type": "code",
   "execution_count": 37,
   "metadata": {},
   "outputs": [],
   "source": [
    "oe_test = ordinal_encoder.transform(features_test[categorical_columns])    \n",
    "oe_test = pd.DataFrame(oe_test, columns=categorical_columns)\n",
    "oe_test = oe_test.set_index(features_test.index)\n",
    "oe_test = features_test[num_columns].join(oe_test)    "
   ]
  },
  {
   "cell_type": "code",
   "execution_count": 38,
   "metadata": {
    "scrolled": false
   },
   "outputs": [
    {
     "name": "stdout",
     "output_type": "stream",
     "text": [
      "0:\tlearn: 4279.0995395\ttotal: 49.2ms\tremaining: 4.87s\n",
      "1:\tlearn: 3999.5490561\ttotal: 99.1ms\tremaining: 4.85s\n",
      "2:\tlearn: 3760.4621707\ttotal: 147ms\tremaining: 4.76s\n",
      "3:\tlearn: 3549.9237808\ttotal: 199ms\tremaining: 4.77s\n",
      "4:\tlearn: 3362.7815193\ttotal: 250ms\tremaining: 4.74s\n",
      "5:\tlearn: 3193.5094722\ttotal: 298ms\tremaining: 4.67s\n",
      "6:\tlearn: 3050.9645611\ttotal: 346ms\tremaining: 4.6s\n",
      "7:\tlearn: 2924.6368234\ttotal: 394ms\tremaining: 4.54s\n",
      "8:\tlearn: 2818.1928158\ttotal: 442ms\tremaining: 4.47s\n",
      "9:\tlearn: 2720.7324717\ttotal: 491ms\tremaining: 4.42s\n",
      "10:\tlearn: 2634.1146002\ttotal: 541ms\tremaining: 4.38s\n",
      "11:\tlearn: 2562.2126109\ttotal: 592ms\tremaining: 4.34s\n",
      "12:\tlearn: 2498.4498224\ttotal: 647ms\tremaining: 4.33s\n",
      "13:\tlearn: 2442.3391631\ttotal: 696ms\tremaining: 4.27s\n",
      "14:\tlearn: 2393.4073865\ttotal: 744ms\tremaining: 4.21s\n",
      "15:\tlearn: 2352.9530607\ttotal: 794ms\tremaining: 4.17s\n",
      "16:\tlearn: 2313.5985657\ttotal: 844ms\tremaining: 4.12s\n",
      "17:\tlearn: 2280.6425244\ttotal: 895ms\tremaining: 4.08s\n",
      "18:\tlearn: 2244.9669032\ttotal: 948ms\tremaining: 4.04s\n",
      "19:\tlearn: 2220.1232282\ttotal: 999ms\tremaining: 3.99s\n",
      "20:\tlearn: 2193.5114693\ttotal: 1.05s\tremaining: 3.94s\n",
      "21:\tlearn: 2168.1581512\ttotal: 1.1s\tremaining: 3.89s\n",
      "22:\tlearn: 2146.4065527\ttotal: 1.15s\tremaining: 3.84s\n",
      "23:\tlearn: 2126.9171170\ttotal: 1.2s\tremaining: 3.8s\n",
      "24:\tlearn: 2109.9905283\ttotal: 1.25s\tremaining: 3.75s\n",
      "25:\tlearn: 2094.5890247\ttotal: 1.3s\tremaining: 3.7s\n",
      "26:\tlearn: 2079.3099599\ttotal: 1.35s\tremaining: 3.65s\n",
      "27:\tlearn: 2066.2057454\ttotal: 1.4s\tremaining: 3.6s\n",
      "28:\tlearn: 2053.4179784\ttotal: 1.45s\tremaining: 3.55s\n",
      "29:\tlearn: 2040.2407455\ttotal: 1.5s\tremaining: 3.5s\n",
      "30:\tlearn: 2028.8866607\ttotal: 1.55s\tremaining: 3.44s\n",
      "31:\tlearn: 2019.7462542\ttotal: 1.6s\tremaining: 3.4s\n",
      "32:\tlearn: 2011.5303233\ttotal: 1.66s\tremaining: 3.37s\n",
      "33:\tlearn: 2002.8287647\ttotal: 1.71s\tremaining: 3.32s\n",
      "34:\tlearn: 1994.2265060\ttotal: 1.77s\tremaining: 3.28s\n",
      "35:\tlearn: 1987.3874883\ttotal: 1.82s\tremaining: 3.23s\n",
      "36:\tlearn: 1979.6123121\ttotal: 1.87s\tremaining: 3.18s\n",
      "37:\tlearn: 1973.7539620\ttotal: 1.92s\tremaining: 3.13s\n",
      "38:\tlearn: 1966.9387129\ttotal: 1.97s\tremaining: 3.08s\n",
      "39:\tlearn: 1962.0628079\ttotal: 2.02s\tremaining: 3.04s\n",
      "40:\tlearn: 1955.6422781\ttotal: 2.08s\tremaining: 2.99s\n",
      "41:\tlearn: 1951.0140170\ttotal: 2.13s\tremaining: 2.94s\n",
      "42:\tlearn: 1946.2065279\ttotal: 2.18s\tremaining: 2.88s\n",
      "43:\tlearn: 1941.0352688\ttotal: 2.23s\tremaining: 2.83s\n",
      "44:\tlearn: 1935.8154926\ttotal: 2.27s\tremaining: 2.78s\n",
      "45:\tlearn: 1931.9338937\ttotal: 2.32s\tremaining: 2.73s\n",
      "46:\tlearn: 1928.3232939\ttotal: 2.37s\tremaining: 2.67s\n",
      "47:\tlearn: 1924.1719084\ttotal: 2.42s\tremaining: 2.62s\n",
      "48:\tlearn: 1919.9354175\ttotal: 2.47s\tremaining: 2.57s\n",
      "49:\tlearn: 1916.6069225\ttotal: 2.52s\tremaining: 2.52s\n",
      "50:\tlearn: 1912.8648844\ttotal: 2.57s\tremaining: 2.47s\n",
      "51:\tlearn: 1908.9904571\ttotal: 2.62s\tremaining: 2.42s\n",
      "52:\tlearn: 1905.4924566\ttotal: 2.67s\tremaining: 2.37s\n",
      "53:\tlearn: 1901.4789166\ttotal: 2.72s\tremaining: 2.32s\n",
      "54:\tlearn: 1898.6083116\ttotal: 2.77s\tremaining: 2.27s\n",
      "55:\tlearn: 1895.6684056\ttotal: 2.82s\tremaining: 2.22s\n",
      "56:\tlearn: 1893.0421780\ttotal: 2.88s\tremaining: 2.17s\n",
      "57:\tlearn: 1889.5491869\ttotal: 2.93s\tremaining: 2.12s\n",
      "58:\tlearn: 1886.9211295\ttotal: 2.98s\tremaining: 2.07s\n",
      "59:\tlearn: 1882.9506638\ttotal: 3.03s\tremaining: 2.02s\n",
      "60:\tlearn: 1880.8045342\ttotal: 3.08s\tremaining: 1.97s\n",
      "61:\tlearn: 1878.0305338\ttotal: 3.13s\tremaining: 1.92s\n",
      "62:\tlearn: 1875.9501178\ttotal: 3.18s\tremaining: 1.86s\n",
      "63:\tlearn: 1873.3457460\ttotal: 3.22s\tremaining: 1.81s\n",
      "64:\tlearn: 1870.6225602\ttotal: 3.27s\tremaining: 1.76s\n",
      "65:\tlearn: 1868.6754907\ttotal: 3.32s\tremaining: 1.71s\n",
      "66:\tlearn: 1865.2340314\ttotal: 3.37s\tremaining: 1.66s\n",
      "67:\tlearn: 1862.7447961\ttotal: 3.42s\tremaining: 1.61s\n",
      "68:\tlearn: 1860.6748830\ttotal: 3.47s\tremaining: 1.56s\n",
      "69:\tlearn: 1858.7401205\ttotal: 3.52s\tremaining: 1.51s\n",
      "70:\tlearn: 1856.8582447\ttotal: 3.57s\tremaining: 1.46s\n",
      "71:\tlearn: 1854.2952507\ttotal: 3.63s\tremaining: 1.41s\n",
      "72:\tlearn: 1851.5176643\ttotal: 3.67s\tremaining: 1.36s\n",
      "73:\tlearn: 1849.3424393\ttotal: 3.72s\tremaining: 1.31s\n",
      "74:\tlearn: 1847.5695628\ttotal: 3.77s\tremaining: 1.26s\n",
      "75:\tlearn: 1845.5581869\ttotal: 3.82s\tremaining: 1.21s\n",
      "76:\tlearn: 1844.1746661\ttotal: 3.87s\tremaining: 1.16s\n",
      "77:\tlearn: 1842.4550127\ttotal: 3.92s\tremaining: 1.11s\n",
      "78:\tlearn: 1840.8447742\ttotal: 3.98s\tremaining: 1.06s\n",
      "79:\tlearn: 1839.3148960\ttotal: 4.03s\tremaining: 1.01s\n",
      "80:\tlearn: 1837.2118416\ttotal: 4.08s\tremaining: 958ms\n",
      "81:\tlearn: 1835.3790428\ttotal: 4.13s\tremaining: 908ms\n",
      "82:\tlearn: 1833.2803135\ttotal: 4.19s\tremaining: 857ms\n",
      "83:\tlearn: 1831.6934202\ttotal: 4.24s\tremaining: 807ms\n",
      "84:\tlearn: 1830.0933726\ttotal: 4.29s\tremaining: 756ms\n",
      "85:\tlearn: 1828.0936046\ttotal: 4.35s\tremaining: 708ms\n",
      "86:\tlearn: 1826.5589789\ttotal: 4.4s\tremaining: 658ms\n",
      "87:\tlearn: 1825.2933785\ttotal: 4.45s\tremaining: 607ms\n",
      "88:\tlearn: 1824.3299442\ttotal: 4.5s\tremaining: 556ms\n",
      "89:\tlearn: 1823.4881679\ttotal: 4.55s\tremaining: 506ms\n",
      "90:\tlearn: 1822.0278566\ttotal: 4.6s\tremaining: 455ms\n",
      "91:\tlearn: 1820.2724322\ttotal: 4.65s\tremaining: 405ms\n",
      "92:\tlearn: 1818.6302537\ttotal: 4.7s\tremaining: 354ms\n",
      "93:\tlearn: 1817.5255768\ttotal: 4.75s\tremaining: 303ms\n",
      "94:\tlearn: 1816.2217767\ttotal: 4.8s\tremaining: 253ms\n",
      "95:\tlearn: 1815.1574206\ttotal: 4.86s\tremaining: 202ms\n",
      "96:\tlearn: 1814.0825026\ttotal: 4.91s\tremaining: 152ms\n",
      "97:\tlearn: 1812.8571810\ttotal: 4.96s\tremaining: 101ms\n",
      "98:\tlearn: 1811.1452180\ttotal: 5.01s\tremaining: 50.6ms\n",
      "99:\tlearn: 1810.0839928\ttotal: 5.07s\tremaining: 0us\n",
      "Время обучения: 5.942 секунд\n",
      "Время предсказания: 0.111 секунд\n",
      "RMSE на тестовой выборке: 1860.873\n"
     ]
    }
   ],
   "source": [
    "# Создаем и обучаем модель\n",
    "model = CatBoostRegressor(learning_rate=0.1, random_state=12345, depth=10, iterations=100)\n",
    "\n",
    "test_time_CBR, predict_time_CBR, rmse_CBR = fit_and_predict(model, oe_train, oe_test, \n",
    "                                                             target_train, target_test)\n",
    "    \n",
    "print(f\"Время обучения: {test_time_CBR:.3f} секунд\")\n",
    "print(f\"Время предсказания: {predict_time_CBR:.3f} секунд\")\n",
    "print(f\"RMSE на тестовой выборке: {rmse_CBR:.3f}\")"
   ]
  },
  {
   "cell_type": "markdown",
   "metadata": {},
   "source": [
    "## Итог\n",
    "\n",
    "В этом проекте мы решали задачу определения рыночной стоимости автомобиля с пробегом для сервиса «Не бит, не крашен». Мы изучили и обработали данные о технических характеристиках, комплектации и ценах автомобилей, подготовили выборки для обучения моделей, обучили и сравнили пять моделей машинного обучения по трем метрикам: время обучения, время предсказания и качество предсказания по RMSE. Мы выбрали лучшую модель - CatBoostRegressor_oe - и проверили её качество на тестовой выборке. Наша модель показала RMSE равный 1847.978, что удовлетворяет требованию заказчика.\n",
    "\n",
    "Наш проект демонстрирует, что с помощью машинного обучения можно создать надежную и эффективную модель, которая может определить рыночную стоимость автомобиля с пробегом по его характеристикам. Это может быть полезно для сервиса «Не бит, не крашен», который хочет привлечь новых клиентов, предлагая им удобное и быстрое приложение."
   ]
  },
  {
   "cell_type": "code",
   "execution_count": 39,
   "metadata": {},
   "outputs": [
    {
     "data": {
      "image/png": "[encoded data removed]",
      "text/plain": [
       "<Figure size 432x288 with 1 Axes>"
      ]
     },
     "metadata": {
      "needs_background": "light"
     },
     "output_type": "display_data"
    }
   ],
   "source": [
    "importances = model.get_feature_importance()\n",
    "plt.barh(oe_test.columns, importances)\n",
    "plt.title(\"Feature importances\")\n",
    "plt.show()"
   ]
  }
 ],
 "metadata": {
  "ExecuteTimeLog": [
   {
    "duration": 406,
    "start_time": "2023-10-10T12:12:09.546Z"
   },
   {
    "duration": 1406,
    "start_time": "2023-10-10T12:13:04.196Z"
   },
   {
    "duration": 1079,
    "start_time": "2023-10-10T12:13:08.871Z"
   },
   {
    "duration": 49,
    "start_time": "2023-10-10T14:33:10.833Z"
   },
   {
    "duration": 7,
    "start_time": "2023-10-10T14:33:56.298Z"
   },
   {
    "duration": 438,
    "start_time": "2023-10-10T14:33:58.285Z"
   },
   {
    "duration": 1196,
    "start_time": "2023-10-10T14:33:59.684Z"
   },
   {
    "duration": 5,
    "start_time": "2023-10-10T14:34:26.330Z"
   },
   {
    "duration": 7,
    "start_time": "2023-10-10T14:34:49.751Z"
   },
   {
    "duration": 853,
    "start_time": "2023-10-10T14:34:52.587Z"
   },
   {
    "duration": 640,
    "start_time": "2023-10-10T14:35:31.653Z"
   },
   {
    "duration": 8,
    "start_time": "2023-10-10T14:42:44.723Z"
   },
   {
    "duration": 14,
    "start_time": "2023-10-10T14:42:46.353Z"
   },
   {
    "duration": 689,
    "start_time": "2023-10-10T14:42:48.512Z"
   },
   {
    "duration": 8,
    "start_time": "2023-10-10T14:47:56.531Z"
   },
   {
    "duration": 1036,
    "start_time": "2023-10-10T14:47:58.537Z"
   },
   {
    "duration": 10,
    "start_time": "2023-10-10T15:00:02.872Z"
   },
   {
    "duration": 7,
    "start_time": "2023-10-10T15:00:11.097Z"
   },
   {
    "duration": 2,
    "start_time": "2023-10-10T15:00:17.437Z"
   },
   {
    "duration": 851,
    "start_time": "2023-10-10T15:00:18.855Z"
   },
   {
    "duration": 7,
    "start_time": "2023-10-10T15:00:21.227Z"
   },
   {
    "duration": 7,
    "start_time": "2023-10-10T15:00:27.512Z"
   },
   {
    "duration": 91,
    "start_time": "2023-10-10T15:00:38.451Z"
   },
   {
    "duration": 173,
    "start_time": "2023-10-10T15:00:55.781Z"
   },
   {
    "duration": 8,
    "start_time": "2023-10-10T15:24:40.609Z"
   },
   {
    "duration": 1108,
    "start_time": "2023-10-10T15:24:43.238Z"
   },
   {
    "duration": 2,
    "start_time": "2023-10-10T18:48:59.789Z"
   },
   {
    "duration": 791,
    "start_time": "2023-10-10T18:48:59.794Z"
   },
   {
    "duration": 142,
    "start_time": "2023-10-10T18:49:00.587Z"
   },
   {
    "duration": 125,
    "start_time": "2023-10-10T18:49:00.730Z"
   },
   {
    "duration": 158,
    "start_time": "2023-10-10T18:49:14.369Z"
   },
   {
    "duration": 6,
    "start_time": "2023-10-10T18:50:13.210Z"
   },
   {
    "duration": 978,
    "start_time": "2023-10-10T18:50:19.415Z"
   },
   {
    "duration": 5,
    "start_time": "2023-10-10T18:50:27.315Z"
   },
   {
    "duration": 976,
    "start_time": "2023-10-10T18:50:39.828Z"
   },
   {
    "duration": 111,
    "start_time": "2023-10-10T18:53:59.225Z"
   },
   {
    "duration": 935,
    "start_time": "2023-10-10T18:54:01.022Z"
   },
   {
    "duration": 9,
    "start_time": "2023-10-10T18:55:06.613Z"
   },
   {
    "duration": 165,
    "start_time": "2023-10-10T18:55:53.687Z"
   },
   {
    "duration": 8,
    "start_time": "2023-10-10T18:56:22.034Z"
   },
   {
    "duration": 1087,
    "start_time": "2023-10-10T18:56:23.872Z"
   },
   {
    "duration": 147,
    "start_time": "2023-10-10T18:56:35.664Z"
   },
   {
    "duration": 33,
    "start_time": "2023-10-10T18:57:00.038Z"
   },
   {
    "duration": 1081,
    "start_time": "2023-10-10T18:57:01.776Z"
   },
   {
    "duration": 215,
    "start_time": "2023-10-10T18:57:56.661Z"
   },
   {
    "duration": 94,
    "start_time": "2023-10-10T18:57:59.637Z"
   },
   {
    "duration": 671,
    "start_time": "2023-10-10T18:58:15.006Z"
   },
   {
    "duration": 78,
    "start_time": "2023-10-10T18:59:11.570Z"
   },
   {
    "duration": 8,
    "start_time": "2023-10-10T18:59:19.480Z"
   },
   {
    "duration": 3747,
    "start_time": "2023-10-10T18:59:21.975Z"
   },
   {
    "duration": 6452,
    "start_time": "2023-10-10T19:00:36.522Z"
   },
   {
    "duration": 15,
    "start_time": "2023-10-10T19:00:48.073Z"
   },
   {
    "duration": 23,
    "start_time": "2023-10-10T19:00:53.090Z"
   },
   {
    "duration": 9,
    "start_time": "2023-10-10T19:02:40.312Z"
   },
   {
    "duration": 15,
    "start_time": "2023-10-10T19:05:20.823Z"
   },
   {
    "duration": 377,
    "start_time": "2023-10-10T19:05:44.382Z"
   },
   {
    "duration": 853,
    "start_time": "2023-10-10T19:05:44.761Z"
   },
   {
    "duration": 153,
    "start_time": "2023-10-10T19:05:45.616Z"
   },
   {
    "duration": 324,
    "start_time": "2023-10-10T19:05:45.771Z"
   },
   {
    "duration": 12,
    "start_time": "2023-10-10T19:05:46.098Z"
   },
   {
    "duration": 743,
    "start_time": "2023-10-10T19:05:46.112Z"
   },
   {
    "duration": 3151,
    "start_time": "2023-10-10T19:05:46.857Z"
   },
   {
    "duration": 3,
    "start_time": "2023-10-10T19:07:40.165Z"
   },
   {
    "duration": 6797,
    "start_time": "2023-10-10T19:07:42.915Z"
   },
   {
    "duration": 63,
    "start_time": "2023-10-10T19:07:52.427Z"
   },
   {
    "duration": 718,
    "start_time": "2023-10-10T19:07:59.321Z"
   },
   {
    "duration": 2,
    "start_time": "2023-10-10T19:08:43.407Z"
   },
   {
    "duration": 30,
    "start_time": "2023-10-10T19:08:45.414Z"
   },
   {
    "duration": 2129,
    "start_time": "2023-10-10T19:08:51.465Z"
   },
   {
    "duration": 401,
    "start_time": "2023-10-10T19:09:04.177Z"
   },
   {
    "duration": 908,
    "start_time": "2023-10-10T19:09:04.580Z"
   },
   {
    "duration": 159,
    "start_time": "2023-10-10T19:09:05.490Z"
   },
   {
    "duration": 313,
    "start_time": "2023-10-10T19:09:05.651Z"
   },
   {
    "duration": 14,
    "start_time": "2023-10-10T19:09:05.968Z"
   },
   {
    "duration": 824,
    "start_time": "2023-10-10T19:09:05.984Z"
   },
   {
    "duration": 3388,
    "start_time": "2023-10-10T19:09:06.809Z"
   },
   {
    "duration": 0,
    "start_time": "2023-10-10T19:09:10.198Z"
   },
   {
    "duration": 2,
    "start_time": "2023-10-10T19:09:26.883Z"
   },
   {
    "duration": 6906,
    "start_time": "2023-10-10T19:09:30.000Z"
   },
   {
    "duration": 50,
    "start_time": "2023-10-10T19:09:55.998Z"
   },
   {
    "duration": 13,
    "start_time": "2023-10-10T19:10:23.291Z"
   },
   {
    "duration": 704,
    "start_time": "2023-10-10T19:10:28.265Z"
   },
   {
    "duration": 13,
    "start_time": "2023-10-10T19:19:04.308Z"
   },
   {
    "duration": 379,
    "start_time": "2023-10-10T19:19:46.873Z"
   },
   {
    "duration": 873,
    "start_time": "2023-10-10T19:19:47.254Z"
   },
   {
    "duration": 151,
    "start_time": "2023-10-10T19:19:48.129Z"
   },
   {
    "duration": 69,
    "start_time": "2023-10-10T19:19:55.636Z"
   },
   {
    "duration": 26,
    "start_time": "2023-10-10T19:20:13.245Z"
   },
   {
    "duration": 15,
    "start_time": "2023-10-10T19:20:16.070Z"
   },
   {
    "duration": 572,
    "start_time": "2023-10-10T19:20:17.840Z"
   },
   {
    "duration": 55,
    "start_time": "2023-10-13T18:23:09.006Z"
   },
   {
    "duration": 380,
    "start_time": "2023-10-13T18:23:12.785Z"
   },
   {
    "duration": 1075,
    "start_time": "2023-10-13T18:23:14.356Z"
   },
   {
    "duration": 124,
    "start_time": "2023-10-13T18:23:17.188Z"
   },
   {
    "duration": 33,
    "start_time": "2023-10-13T18:23:20.627Z"
   },
   {
    "duration": 8,
    "start_time": "2023-10-13T18:23:23.484Z"
   },
   {
    "duration": 597,
    "start_time": "2023-10-13T18:23:26.230Z"
   },
   {
    "duration": 48,
    "start_time": "2023-10-14T13:26:37.049Z"
   },
   {
    "duration": 376,
    "start_time": "2023-10-14T13:26:40.551Z"
   },
   {
    "duration": 1250,
    "start_time": "2023-10-14T13:26:40.929Z"
   },
   {
    "duration": 149,
    "start_time": "2023-10-14T13:26:42.181Z"
   },
   {
    "duration": 70,
    "start_time": "2023-10-14T13:26:42.332Z"
   },
   {
    "duration": 30,
    "start_time": "2023-10-14T13:26:42.404Z"
   },
   {
    "duration": 658,
    "start_time": "2023-10-14T13:26:42.435Z"
   },
   {
    "duration": 7,
    "start_time": "2023-10-14T13:26:44.717Z"
   },
   {
    "duration": 622,
    "start_time": "2023-10-14T13:26:46.699Z"
   },
   {
    "duration": 9,
    "start_time": "2023-10-14T13:28:02.473Z"
   },
   {
    "duration": 9,
    "start_time": "2023-10-14T13:28:05.702Z"
   },
   {
    "duration": 8787,
    "start_time": "2023-10-14T13:28:33.435Z"
   },
   {
    "duration": 3,
    "start_time": "2023-10-14T13:29:01.844Z"
   },
   {
    "duration": 9149,
    "start_time": "2023-10-14T13:29:04.597Z"
   },
   {
    "duration": 14,
    "start_time": "2023-10-14T13:29:33.143Z"
   },
   {
    "duration": 128,
    "start_time": "2023-10-14T13:34:12.294Z"
   },
   {
    "duration": 211,
    "start_time": "2023-10-14T13:37:22.007Z"
   },
   {
    "duration": 134,
    "start_time": "2023-10-14T13:37:37.841Z"
   },
   {
    "duration": 12,
    "start_time": "2023-10-14T13:37:40.893Z"
   },
   {
    "duration": 409,
    "start_time": "2023-10-14T13:38:50.709Z"
   },
   {
    "duration": 41,
    "start_time": "2023-10-14T13:40:39.958Z"
   },
   {
    "duration": 26,
    "start_time": "2023-10-14T13:41:29.837Z"
   },
   {
    "duration": 25,
    "start_time": "2023-10-14T13:41:35.216Z"
   },
   {
    "duration": 159,
    "start_time": "2023-10-14T13:41:52.891Z"
   },
   {
    "duration": 124,
    "start_time": "2023-10-14T13:42:09.259Z"
   },
   {
    "duration": 706,
    "start_time": "2023-10-14T13:42:26.070Z"
   },
   {
    "duration": 925,
    "start_time": "2023-10-14T13:42:26.778Z"
   },
   {
    "duration": 159,
    "start_time": "2023-10-14T13:42:27.705Z"
   },
   {
    "duration": 46,
    "start_time": "2023-10-14T13:42:27.866Z"
   },
   {
    "duration": 47,
    "start_time": "2023-10-14T13:42:27.914Z"
   },
   {
    "duration": 632,
    "start_time": "2023-10-14T13:42:27.963Z"
   },
   {
    "duration": 221,
    "start_time": "2023-10-14T13:42:28.597Z"
   },
   {
    "duration": 181,
    "start_time": "2023-10-14T13:42:28.820Z"
   },
   {
    "duration": 608,
    "start_time": "2023-10-14T13:45:08.087Z"
   },
   {
    "duration": 155,
    "start_time": "2023-10-14T13:45:51.570Z"
   },
   {
    "duration": 80,
    "start_time": "2023-10-14T13:46:01.158Z"
   },
   {
    "duration": 5,
    "start_time": "2023-10-14T13:46:03.969Z"
   },
   {
    "duration": 234,
    "start_time": "2023-10-14T13:47:34.108Z"
   },
   {
    "duration": 505,
    "start_time": "2023-10-14T13:47:40.368Z"
   },
   {
    "duration": 214,
    "start_time": "2023-10-14T13:47:46.005Z"
   },
   {
    "duration": 9,
    "start_time": "2023-10-14T13:48:59.163Z"
   },
   {
    "duration": 9,
    "start_time": "2023-10-14T13:49:02.911Z"
   },
   {
    "duration": 70,
    "start_time": "2023-10-14T13:52:30.964Z"
   },
   {
    "duration": 626,
    "start_time": "2023-10-14T13:52:45.738Z"
   },
   {
    "duration": 166,
    "start_time": "2023-10-14T13:57:58.152Z"
   },
   {
    "duration": 294,
    "start_time": "2023-10-14T13:59:05.150Z"
   },
   {
    "duration": 452,
    "start_time": "2023-10-14T14:00:04.932Z"
   },
   {
    "duration": 684,
    "start_time": "2023-10-14T14:00:20.218Z"
   },
   {
    "duration": 979,
    "start_time": "2023-10-14T14:00:20.904Z"
   },
   {
    "duration": 153,
    "start_time": "2023-10-14T14:00:21.885Z"
   },
   {
    "duration": 21,
    "start_time": "2023-10-14T14:00:22.040Z"
   },
   {
    "duration": 9,
    "start_time": "2023-10-14T14:00:22.064Z"
   },
   {
    "duration": 690,
    "start_time": "2023-10-14T14:00:22.075Z"
   },
   {
    "duration": 206,
    "start_time": "2023-10-14T14:00:22.767Z"
   },
   {
    "duration": 206,
    "start_time": "2023-10-14T14:00:22.975Z"
   },
   {
    "duration": 19,
    "start_time": "2023-10-14T14:00:23.183Z"
   },
   {
    "duration": 440,
    "start_time": "2023-10-14T14:00:27.261Z"
   },
   {
    "duration": 796,
    "start_time": "2023-10-14T14:02:16.431Z"
   },
   {
    "duration": 694,
    "start_time": "2023-10-14T14:02:27.438Z"
   },
   {
    "duration": 659,
    "start_time": "2023-10-14T14:03:18.531Z"
   },
   {
    "duration": 990,
    "start_time": "2023-10-14T14:03:19.192Z"
   },
   {
    "duration": 156,
    "start_time": "2023-10-14T14:03:20.184Z"
   },
   {
    "duration": 39,
    "start_time": "2023-10-14T14:03:20.341Z"
   },
   {
    "duration": 9,
    "start_time": "2023-10-14T14:03:20.383Z"
   },
   {
    "duration": 696,
    "start_time": "2023-10-14T14:03:20.394Z"
   },
   {
    "duration": 219,
    "start_time": "2023-10-14T14:03:21.092Z"
   },
   {
    "duration": 181,
    "start_time": "2023-10-14T14:03:21.313Z"
   },
   {
    "duration": 9,
    "start_time": "2023-10-14T14:03:21.501Z"
   },
   {
    "duration": 1706,
    "start_time": "2023-10-14T14:03:24.580Z"
   },
   {
    "duration": 321,
    "start_time": "2023-10-14T14:05:13.527Z"
   },
   {
    "duration": 1758,
    "start_time": "2023-10-14T14:05:31.053Z"
   },
   {
    "duration": 73,
    "start_time": "2023-10-14T14:07:27.127Z"
   },
   {
    "duration": 1428,
    "start_time": "2023-10-14T14:07:28.959Z"
   },
   {
    "duration": 1088,
    "start_time": "2023-10-14T14:08:41.034Z"
   },
   {
    "duration": 6,
    "start_time": "2023-10-14T14:08:52.986Z"
   },
   {
    "duration": 268,
    "start_time": "2023-10-14T14:08:55.589Z"
   },
   {
    "duration": 112,
    "start_time": "2023-10-14T14:09:09.843Z"
   },
   {
    "duration": 111,
    "start_time": "2023-10-14T14:09:40.591Z"
   },
   {
    "duration": 96,
    "start_time": "2023-10-14T14:09:43.422Z"
   },
   {
    "duration": 94,
    "start_time": "2023-10-14T14:09:50.608Z"
   },
   {
    "duration": 99,
    "start_time": "2023-10-14T14:10:06.423Z"
   },
   {
    "duration": 116,
    "start_time": "2023-10-14T14:13:00.761Z"
   },
   {
    "duration": 121,
    "start_time": "2023-10-14T14:31:50.543Z"
   },
   {
    "duration": 24,
    "start_time": "2023-10-14T14:32:01.710Z"
   },
   {
    "duration": 276,
    "start_time": "2023-10-14T14:34:07.295Z"
   },
   {
    "duration": 603,
    "start_time": "2023-10-14T14:34:50.594Z"
   },
   {
    "duration": 302,
    "start_time": "2023-10-14T14:35:28.014Z"
   },
   {
    "duration": 267,
    "start_time": "2023-10-14T14:35:40.619Z"
   },
   {
    "duration": 9,
    "start_time": "2023-10-14T14:36:13.166Z"
   },
   {
    "duration": 331,
    "start_time": "2023-10-14T14:36:18.699Z"
   },
   {
    "duration": 245,
    "start_time": "2023-10-14T14:36:23.057Z"
   },
   {
    "duration": 752,
    "start_time": "2023-10-14T14:37:01.668Z"
   },
   {
    "duration": 998,
    "start_time": "2023-10-14T14:37:02.422Z"
   },
   {
    "duration": 167,
    "start_time": "2023-10-14T14:37:03.422Z"
   },
   {
    "duration": 39,
    "start_time": "2023-10-14T14:37:03.591Z"
   },
   {
    "duration": 39,
    "start_time": "2023-10-14T14:37:03.632Z"
   },
   {
    "duration": 621,
    "start_time": "2023-10-14T14:37:03.673Z"
   },
   {
    "duration": 238,
    "start_time": "2023-10-14T14:37:04.301Z"
   },
   {
    "duration": 253,
    "start_time": "2023-10-14T14:37:04.541Z"
   },
   {
    "duration": 10,
    "start_time": "2023-10-14T14:37:04.800Z"
   },
   {
    "duration": 279,
    "start_time": "2023-10-14T14:37:04.812Z"
   },
   {
    "duration": 1233,
    "start_time": "2023-10-14T14:37:05.093Z"
   },
   {
    "duration": 310,
    "start_time": "2023-10-14T14:37:06.328Z"
   },
   {
    "duration": 385,
    "start_time": "2023-10-14T14:37:09.862Z"
   },
   {
    "duration": 127,
    "start_time": "2023-10-14T14:38:33.155Z"
   },
   {
    "duration": 76,
    "start_time": "2023-10-14T14:55:09.598Z"
   },
   {
    "duration": 83,
    "start_time": "2023-10-14T14:56:54.377Z"
   },
   {
    "duration": 61,
    "start_time": "2023-10-14T17:23:27.980Z"
   },
   {
    "duration": 938,
    "start_time": "2023-10-14T17:23:31.301Z"
   },
   {
    "duration": 1394,
    "start_time": "2023-10-14T17:23:32.242Z"
   },
   {
    "duration": 193,
    "start_time": "2023-10-14T17:23:33.638Z"
   },
   {
    "duration": 44,
    "start_time": "2023-10-14T17:23:33.833Z"
   },
   {
    "duration": 10,
    "start_time": "2023-10-14T17:23:33.880Z"
   },
   {
    "duration": 707,
    "start_time": "2023-10-14T17:23:33.892Z"
   },
   {
    "duration": 230,
    "start_time": "2023-10-14T17:23:34.601Z"
   },
   {
    "duration": 196,
    "start_time": "2023-10-14T17:23:34.833Z"
   },
   {
    "duration": 17,
    "start_time": "2023-10-14T17:23:35.031Z"
   },
   {
    "duration": 361,
    "start_time": "2023-10-14T17:23:35.050Z"
   },
   {
    "duration": 1266,
    "start_time": "2023-10-14T17:23:35.414Z"
   },
   {
    "duration": 396,
    "start_time": "2023-10-14T17:23:36.682Z"
   },
   {
    "duration": 405,
    "start_time": "2023-10-14T17:23:37.080Z"
   },
   {
    "duration": 123,
    "start_time": "2023-10-14T17:23:37.488Z"
   },
   {
    "duration": 59,
    "start_time": "2023-10-14T17:23:42.586Z"
   },
   {
    "duration": 755,
    "start_time": "2023-10-14T17:24:15.834Z"
   },
   {
    "duration": 50,
    "start_time": "2023-10-14T17:24:42.930Z"
   },
   {
    "duration": 4,
    "start_time": "2023-10-14T17:24:53.222Z"
   },
   {
    "duration": 1325,
    "start_time": "2023-10-14T17:24:56.636Z"
   },
   {
    "duration": 410,
    "start_time": "2023-10-14T17:25:08.320Z"
   },
   {
    "duration": 1418,
    "start_time": "2023-10-14T17:25:21.793Z"
   },
   {
    "duration": 1463,
    "start_time": "2023-10-14T17:25:46.871Z"
   },
   {
    "duration": 1348,
    "start_time": "2023-10-14T17:26:56.935Z"
   },
   {
    "duration": 593,
    "start_time": "2023-10-14T17:29:30.086Z"
   },
   {
    "duration": 17,
    "start_time": "2023-10-14T17:29:43.327Z"
   },
   {
    "duration": 31,
    "start_time": "2023-10-14T17:29:45.110Z"
   },
   {
    "duration": 1356,
    "start_time": "2023-10-14T17:30:01.992Z"
   },
   {
    "duration": 625,
    "start_time": "2023-10-14T17:30:06.581Z"
   },
   {
    "duration": 18,
    "start_time": "2023-10-14T17:30:08.530Z"
   },
   {
    "duration": 513,
    "start_time": "2023-10-14T17:31:23.350Z"
   },
   {
    "duration": 22,
    "start_time": "2023-10-14T17:31:25.130Z"
   },
   {
    "duration": 4,
    "start_time": "2023-10-14T17:38:46.455Z"
   },
   {
    "duration": 17,
    "start_time": "2023-10-14T17:38:53.007Z"
   },
   {
    "duration": 19,
    "start_time": "2023-10-14T17:39:04.246Z"
   },
   {
    "duration": 279381,
    "start_time": "2023-10-14T17:39:32.168Z"
   },
   {
    "duration": 50541,
    "start_time": "2023-10-14T17:48:39.107Z"
   },
   {
    "duration": 100413,
    "start_time": "2023-10-14T17:52:33.838Z"
   },
   {
    "duration": 0,
    "start_time": "2023-10-14T17:55:06.471Z"
   },
   {
    "duration": 1550,
    "start_time": "2023-10-14T17:57:08.812Z"
   },
   {
    "duration": 1058,
    "start_time": "2023-10-14T17:57:10.366Z"
   },
   {
    "duration": 210,
    "start_time": "2023-10-14T17:57:11.426Z"
   },
   {
    "duration": 44,
    "start_time": "2023-10-14T17:57:11.637Z"
   },
   {
    "duration": 12,
    "start_time": "2023-10-14T17:57:11.683Z"
   },
   {
    "duration": 790,
    "start_time": "2023-10-14T17:57:11.696Z"
   },
   {
    "duration": 243,
    "start_time": "2023-10-14T17:57:12.488Z"
   },
   {
    "duration": 207,
    "start_time": "2023-10-14T17:57:12.733Z"
   },
   {
    "duration": 17,
    "start_time": "2023-10-14T17:57:12.942Z"
   },
   {
    "duration": 359,
    "start_time": "2023-10-14T17:57:12.963Z"
   },
   {
    "duration": 1483,
    "start_time": "2023-10-14T17:57:13.324Z"
   },
   {
    "duration": 340,
    "start_time": "2023-10-14T17:57:14.809Z"
   },
   {
    "duration": 507,
    "start_time": "2023-10-14T17:57:15.151Z"
   },
   {
    "duration": 129,
    "start_time": "2023-10-14T17:57:15.662Z"
   },
   {
    "duration": 1271,
    "start_time": "2023-10-14T17:57:15.793Z"
   },
   {
    "duration": 604,
    "start_time": "2023-10-14T17:57:17.066Z"
   },
   {
    "duration": 157813,
    "start_time": "2023-10-14T17:59:13.233Z"
   },
   {
    "duration": 175324,
    "start_time": "2023-10-14T18:03:55.526Z"
   },
   {
    "duration": 139,
    "start_time": "2023-10-14T18:08:22.895Z"
   },
   {
    "duration": 33135,
    "start_time": "2023-10-14T18:09:35.140Z"
   },
   {
    "duration": 68983,
    "start_time": "2023-10-14T18:11:26.332Z"
   },
   {
    "duration": 103815,
    "start_time": "2023-10-14T18:13:02.043Z"
   },
   {
    "duration": 448152,
    "start_time": "2023-10-14T18:15:01.085Z"
   },
   {
    "duration": 72,
    "start_time": "2023-10-14T18:29:56.281Z"
   },
   {
    "duration": 94,
    "start_time": "2023-10-14T18:30:51.472Z"
   },
   {
    "duration": 108835,
    "start_time": "2023-10-14T18:31:13.849Z"
   },
   {
    "duration": 12802,
    "start_time": "2023-10-14T18:33:22.002Z"
   },
   {
    "duration": 1492,
    "start_time": "2023-10-14T18:34:05.288Z"
   },
   {
    "duration": 965,
    "start_time": "2023-10-14T18:34:06.782Z"
   },
   {
    "duration": 174,
    "start_time": "2023-10-14T18:34:07.749Z"
   },
   {
    "duration": 34,
    "start_time": "2023-10-14T18:34:07.925Z"
   },
   {
    "duration": 21,
    "start_time": "2023-10-14T18:34:07.961Z"
   },
   {
    "duration": 671,
    "start_time": "2023-10-14T18:34:07.983Z"
   },
   {
    "duration": 238,
    "start_time": "2023-10-14T18:34:08.657Z"
   },
   {
    "duration": 191,
    "start_time": "2023-10-14T18:34:08.897Z"
   },
   {
    "duration": 11,
    "start_time": "2023-10-14T18:34:09.090Z"
   },
   {
    "duration": 309,
    "start_time": "2023-10-14T18:34:09.102Z"
   },
   {
    "duration": 1307,
    "start_time": "2023-10-14T18:34:09.413Z"
   },
   {
    "duration": 305,
    "start_time": "2023-10-14T18:34:10.722Z"
   },
   {
    "duration": 418,
    "start_time": "2023-10-14T18:34:11.028Z"
   },
   {
    "duration": 115,
    "start_time": "2023-10-14T18:34:11.449Z"
   },
   {
    "duration": 1262,
    "start_time": "2023-10-14T18:34:11.566Z"
   },
   {
    "duration": 594,
    "start_time": "2023-10-14T18:34:12.830Z"
   },
   {
    "duration": 9381,
    "start_time": "2023-10-14T18:34:38.123Z"
   },
   {
    "duration": 24122,
    "start_time": "2023-10-14T18:35:05.018Z"
   },
   {
    "duration": 192217,
    "start_time": "2023-10-14T18:36:44.442Z"
   },
   {
    "duration": 23401,
    "start_time": "2023-10-14T18:40:34.649Z"
   },
   {
    "duration": 24668,
    "start_time": "2023-10-14T18:41:13.777Z"
   },
   {
    "duration": 1210,
    "start_time": "2023-10-14T18:43:55.577Z"
   },
   {
    "duration": 13338,
    "start_time": "2023-10-14T18:44:13.110Z"
   },
   {
    "duration": 4,
    "start_time": "2023-10-14T18:53:10.910Z"
   },
   {
    "duration": 90,
    "start_time": "2023-10-14T18:53:29.403Z"
   },
   {
    "duration": 23025,
    "start_time": "2023-10-14T18:53:40.774Z"
   },
   {
    "duration": 1241,
    "start_time": "2023-10-14T18:54:34.525Z"
   },
   {
    "duration": 1102,
    "start_time": "2023-10-14T18:54:46.497Z"
   },
   {
    "duration": 3,
    "start_time": "2023-10-14T18:55:06.040Z"
   },
   {
    "duration": 311301,
    "start_time": "2023-10-14T18:56:32.786Z"
   },
   {
    "duration": 366498,
    "start_time": "2023-10-14T19:01:46.831Z"
   },
   {
    "duration": 1194,
    "start_time": "2023-10-14T19:09:40.914Z"
   },
   {
    "duration": 21640,
    "start_time": "2023-10-14T19:11:01.091Z"
   },
   {
    "duration": 46,
    "start_time": "2023-10-15T12:46:17.885Z"
   },
   {
    "duration": 1608,
    "start_time": "2023-10-15T12:46:21.928Z"
   },
   {
    "duration": 2908,
    "start_time": "2023-10-15T12:46:23.538Z"
   },
   {
    "duration": 149,
    "start_time": "2023-10-15T12:46:26.448Z"
   },
   {
    "duration": 24,
    "start_time": "2023-10-15T12:46:26.599Z"
   },
   {
    "duration": 19,
    "start_time": "2023-10-15T12:46:26.626Z"
   },
   {
    "duration": 606,
    "start_time": "2023-10-15T12:46:26.647Z"
   },
   {
    "duration": 199,
    "start_time": "2023-10-15T12:46:27.254Z"
   },
   {
    "duration": 157,
    "start_time": "2023-10-15T12:46:27.454Z"
   },
   {
    "duration": 8,
    "start_time": "2023-10-15T12:46:27.613Z"
   },
   {
    "duration": 247,
    "start_time": "2023-10-15T12:46:27.622Z"
   },
   {
    "duration": 1110,
    "start_time": "2023-10-15T12:46:27.871Z"
   },
   {
    "duration": 263,
    "start_time": "2023-10-15T12:46:28.982Z"
   },
   {
    "duration": 358,
    "start_time": "2023-10-15T12:46:29.246Z"
   },
   {
    "duration": 94,
    "start_time": "2023-10-15T12:46:29.606Z"
   },
   {
    "duration": 1093,
    "start_time": "2023-10-15T12:47:49.271Z"
   },
   {
    "duration": 77,
    "start_time": "2023-10-15T12:48:03.001Z"
   },
   {
    "duration": 1108,
    "start_time": "2023-10-15T12:48:07.111Z"
   },
   {
    "duration": 560,
    "start_time": "2023-10-15T12:48:09.998Z"
   },
   {
    "duration": 23,
    "start_time": "2023-10-15T12:48:11.421Z"
   },
   {
    "duration": 1245,
    "start_time": "2023-10-15T12:48:27.246Z"
   },
   {
    "duration": 566,
    "start_time": "2023-10-15T12:48:29.910Z"
   },
   {
    "duration": 19,
    "start_time": "2023-10-15T12:48:31.966Z"
   },
   {
    "duration": 1259,
    "start_time": "2023-10-15T12:48:46.012Z"
   },
   {
    "duration": 558,
    "start_time": "2023-10-15T12:48:48.269Z"
   },
   {
    "duration": 20,
    "start_time": "2023-10-15T12:48:49.972Z"
   },
   {
    "duration": 302346,
    "start_time": "2023-10-15T12:49:00.704Z"
   },
   {
    "duration": 19937,
    "start_time": "2023-10-15T13:01:49.187Z"
   },
   {
    "duration": 1305,
    "start_time": "2023-10-15T13:07:39.893Z"
   },
   {
    "duration": 1405,
    "start_time": "2023-10-15T13:07:45.915Z"
   },
   {
    "duration": 1330,
    "start_time": "2023-10-15T13:08:42.657Z"
   },
   {
    "duration": 1397,
    "start_time": "2023-10-15T13:11:07.661Z"
   },
   {
    "duration": 856,
    "start_time": "2023-10-15T13:11:09.060Z"
   },
   {
    "duration": 166,
    "start_time": "2023-10-15T13:11:09.918Z"
   },
   {
    "duration": 26,
    "start_time": "2023-10-15T13:11:10.086Z"
   },
   {
    "duration": 34,
    "start_time": "2023-10-15T13:11:10.114Z"
   },
   {
    "duration": 625,
    "start_time": "2023-10-15T13:11:10.150Z"
   },
   {
    "duration": 195,
    "start_time": "2023-10-15T13:11:10.777Z"
   },
   {
    "duration": 170,
    "start_time": "2023-10-15T13:11:10.974Z"
   },
   {
    "duration": 8,
    "start_time": "2023-10-15T13:11:11.146Z"
   },
   {
    "duration": 267,
    "start_time": "2023-10-15T13:11:11.156Z"
   },
   {
    "duration": 1159,
    "start_time": "2023-10-15T13:11:11.425Z"
   },
   {
    "duration": 261,
    "start_time": "2023-10-15T13:11:12.586Z"
   },
   {
    "duration": 362,
    "start_time": "2023-10-15T13:11:12.849Z"
   },
   {
    "duration": 104,
    "start_time": "2023-10-15T13:11:13.213Z"
   },
   {
    "duration": 1382,
    "start_time": "2023-10-15T13:11:13.318Z"
   },
   {
    "duration": 541,
    "start_time": "2023-10-15T13:11:21.081Z"
   },
   {
    "duration": 1355,
    "start_time": "2023-10-15T13:11:33.821Z"
   },
   {
    "duration": 48,
    "start_time": "2023-10-15T13:12:09.097Z"
   },
   {
    "duration": 57,
    "start_time": "2023-10-15T13:16:47.450Z"
   },
   {
    "duration": 1521,
    "start_time": "2023-10-15T13:16:51.090Z"
   },
   {
    "duration": 872,
    "start_time": "2023-10-15T13:16:52.613Z"
   },
   {
    "duration": 154,
    "start_time": "2023-10-15T13:16:53.486Z"
   },
   {
    "duration": 24,
    "start_time": "2023-10-15T13:16:53.644Z"
   },
   {
    "duration": 9,
    "start_time": "2023-10-15T13:16:53.671Z"
   },
   {
    "duration": 822,
    "start_time": "2023-10-15T13:16:53.682Z"
   },
   {
    "duration": 222,
    "start_time": "2023-10-15T13:16:54.506Z"
   },
   {
    "duration": 168,
    "start_time": "2023-10-15T13:16:54.729Z"
   },
   {
    "duration": 10,
    "start_time": "2023-10-15T13:16:54.899Z"
   },
   {
    "duration": 6,
    "start_time": "2023-10-15T13:16:54.910Z"
   },
   {
    "duration": 73,
    "start_time": "2023-10-15T13:16:58.380Z"
   },
   {
    "duration": 167,
    "start_time": "2023-10-15T13:17:14.305Z"
   },
   {
    "duration": 33,
    "start_time": "2023-10-15T13:17:26.153Z"
   },
   {
    "duration": 230,
    "start_time": "2023-10-15T13:17:30.482Z"
   },
   {
    "duration": 279,
    "start_time": "2023-10-15T13:17:32.239Z"
   },
   {
    "duration": 79,
    "start_time": "2023-10-15T13:17:36.129Z"
   },
   {
    "duration": 1478,
    "start_time": "2023-10-15T13:18:40.546Z"
   },
   {
    "duration": 850,
    "start_time": "2023-10-15T13:18:42.026Z"
   },
   {
    "duration": 161,
    "start_time": "2023-10-15T13:18:42.877Z"
   },
   {
    "duration": 30,
    "start_time": "2023-10-15T13:18:43.039Z"
   },
   {
    "duration": 12,
    "start_time": "2023-10-15T13:18:43.072Z"
   },
   {
    "duration": 596,
    "start_time": "2023-10-15T13:18:43.086Z"
   },
   {
    "duration": 207,
    "start_time": "2023-10-15T13:18:43.684Z"
   },
   {
    "duration": 195,
    "start_time": "2023-10-15T13:18:43.894Z"
   },
   {
    "duration": 13,
    "start_time": "2023-10-15T13:18:44.094Z"
   },
   {
    "duration": 50,
    "start_time": "2023-10-15T13:18:44.110Z"
   },
   {
    "duration": 234,
    "start_time": "2023-10-15T13:18:44.162Z"
   },
   {
    "duration": 188,
    "start_time": "2023-10-15T13:18:44.400Z"
   },
   {
    "duration": 82,
    "start_time": "2023-10-15T13:18:44.590Z"
   },
   {
    "duration": 1144,
    "start_time": "2023-10-15T13:18:44.675Z"
   },
   {
    "duration": 494,
    "start_time": "2023-10-15T13:18:54.034Z"
   },
   {
    "duration": 13472,
    "start_time": "2023-10-15T13:19:01.395Z"
   },
   {
    "duration": 1210,
    "start_time": "2023-10-15T13:19:39.373Z"
   },
   {
    "duration": 1295,
    "start_time": "2023-10-15T13:20:06.906Z"
   },
   {
    "duration": 64,
    "start_time": "2023-10-15T13:21:55.788Z"
   },
   {
    "duration": 1255,
    "start_time": "2023-10-15T13:22:05.196Z"
   },
   {
    "duration": 237,
    "start_time": "2023-10-15T13:34:44.562Z"
   },
   {
    "duration": 126,
    "start_time": "2023-10-15T13:35:06.913Z"
   },
   {
    "duration": 214795,
    "start_time": "2023-10-15T13:35:10.255Z"
   },
   {
    "duration": 680,
    "start_time": "2023-10-15T13:41:30.714Z"
   },
   {
    "duration": 387717,
    "start_time": "2023-10-15T13:41:35.429Z"
   },
   {
    "duration": 1557,
    "start_time": "2023-10-15T15:15:44.103Z"
   },
   {
    "duration": 924,
    "start_time": "2023-10-15T15:15:45.663Z"
   },
   {
    "duration": 199,
    "start_time": "2023-10-15T15:15:46.589Z"
   },
   {
    "duration": 50,
    "start_time": "2023-10-15T15:15:46.790Z"
   },
   {
    "duration": 21,
    "start_time": "2023-10-15T15:15:46.843Z"
   },
   {
    "duration": 654,
    "start_time": "2023-10-15T15:15:46.866Z"
   },
   {
    "duration": 194,
    "start_time": "2023-10-15T15:15:47.521Z"
   },
   {
    "duration": 170,
    "start_time": "2023-10-15T15:15:47.717Z"
   },
   {
    "duration": 8,
    "start_time": "2023-10-15T15:15:47.888Z"
   },
   {
    "duration": 115,
    "start_time": "2023-10-15T15:15:47.898Z"
   },
   {
    "duration": 213,
    "start_time": "2023-10-15T15:15:48.014Z"
   },
   {
    "duration": 182,
    "start_time": "2023-10-15T15:15:48.228Z"
   },
   {
    "duration": 81,
    "start_time": "2023-10-15T15:15:48.412Z"
   },
   {
    "duration": 1153,
    "start_time": "2023-10-15T15:15:48.496Z"
   },
   {
    "duration": 437,
    "start_time": "2023-10-15T15:15:49.651Z"
   },
   {
    "duration": 20368,
    "start_time": "2023-10-15T15:15:50.091Z"
   },
   {
    "duration": 1495,
    "start_time": "2023-10-15T15:18:41.947Z"
   },
   {
    "duration": 917,
    "start_time": "2023-10-15T15:18:43.445Z"
   },
   {
    "duration": 152,
    "start_time": "2023-10-15T15:18:44.364Z"
   },
   {
    "duration": 32,
    "start_time": "2023-10-15T15:18:44.517Z"
   },
   {
    "duration": 30,
    "start_time": "2023-10-15T15:18:44.552Z"
   },
   {
    "duration": 673,
    "start_time": "2023-10-15T15:18:44.584Z"
   },
   {
    "duration": 198,
    "start_time": "2023-10-15T15:18:45.259Z"
   },
   {
    "duration": 169,
    "start_time": "2023-10-15T15:18:45.459Z"
   },
   {
    "duration": 17,
    "start_time": "2023-10-15T15:18:45.630Z"
   },
   {
    "duration": 31,
    "start_time": "2023-10-15T15:18:45.649Z"
   },
   {
    "duration": 152,
    "start_time": "2023-10-15T15:18:45.682Z"
   },
   {
    "duration": 196,
    "start_time": "2023-10-15T15:18:45.836Z"
   },
   {
    "duration": 83,
    "start_time": "2023-10-15T15:18:46.034Z"
   },
   {
    "duration": 1066,
    "start_time": "2023-10-15T15:18:46.119Z"
   },
   {
    "duration": 444,
    "start_time": "2023-10-15T15:18:47.187Z"
   },
   {
    "duration": 39729,
    "start_time": "2023-10-15T15:18:47.633Z"
   },
   {
    "duration": 285525,
    "start_time": "2023-10-15T15:19:27.446Z"
   },
   {
    "duration": 275054,
    "start_time": "2023-10-15T15:24:12.973Z"
   },
   {
    "duration": 12761,
    "start_time": "2023-10-15T15:28:48.029Z"
   },
   {
    "duration": 281561,
    "start_time": "2023-10-15T15:29:00.792Z"
   },
   {
    "duration": 196094,
    "start_time": "2023-10-15T15:33:42.355Z"
   },
   {
    "duration": 96160,
    "start_time": "2023-10-15T16:40:34.097Z"
   },
   {
    "duration": 3,
    "start_time": "2023-10-15T16:46:16.462Z"
   },
   {
    "duration": 42559,
    "start_time": "2023-10-15T16:54:38.689Z"
   },
   {
    "duration": 210,
    "start_time": "2023-10-15T16:55:36.335Z"
   },
   {
    "duration": 5,
    "start_time": "2023-10-15T16:55:38.875Z"
   },
   {
    "duration": 5,
    "start_time": "2023-10-15T16:56:40.577Z"
   },
   {
    "duration": 8940,
    "start_time": "2023-10-15T16:57:34.163Z"
   },
   {
    "duration": 140,
    "start_time": "2023-10-15T16:57:58.124Z"
   },
   {
    "duration": 4,
    "start_time": "2023-10-15T16:58:05.909Z"
   },
   {
    "duration": 54,
    "start_time": "2023-10-15T17:00:33.153Z"
   },
   {
    "duration": 1291,
    "start_time": "2023-10-15T17:00:53.789Z"
   },
   {
    "duration": 18,
    "start_time": "2023-10-15T17:01:12.042Z"
   },
   {
    "duration": 4,
    "start_time": "2023-10-15T17:01:42.559Z"
   },
   {
    "duration": 5,
    "start_time": "2023-10-15T17:02:24.807Z"
   },
   {
    "duration": 500383,
    "start_time": "2023-10-15T17:03:58.970Z"
   },
   {
    "duration": 784,
    "start_time": "2023-10-15T17:20:09.288Z"
   },
   {
    "duration": 5,
    "start_time": "2023-10-15T17:20:19.862Z"
   },
   {
    "duration": 7,
    "start_time": "2023-10-15T17:20:26.956Z"
   },
   {
    "duration": 6310,
    "start_time": "2023-10-15T17:20:29.162Z"
   },
   {
    "duration": 38,
    "start_time": "2023-10-15T17:55:14.999Z"
   },
   {
    "duration": 5,
    "start_time": "2023-10-15T17:55:16.696Z"
   },
   {
    "duration": 6961,
    "start_time": "2023-10-15T17:55:40.724Z"
   },
   {
    "duration": 46,
    "start_time": "2023-10-15T17:55:50.843Z"
   },
   {
    "duration": 4,
    "start_time": "2023-10-15T17:55:52.529Z"
   },
   {
    "duration": 109,
    "start_time": "2023-10-15T18:29:09.393Z"
   },
   {
    "duration": 1413,
    "start_time": "2023-10-15T18:29:44.345Z"
   },
   {
    "duration": 888,
    "start_time": "2023-10-15T18:29:45.760Z"
   },
   {
    "duration": 149,
    "start_time": "2023-10-15T18:29:46.650Z"
   },
   {
    "duration": 19,
    "start_time": "2023-10-15T18:29:46.801Z"
   },
   {
    "duration": 27,
    "start_time": "2023-10-15T18:29:46.821Z"
   },
   {
    "duration": 603,
    "start_time": "2023-10-15T18:29:46.849Z"
   },
   {
    "duration": 192,
    "start_time": "2023-10-15T18:29:47.454Z"
   },
   {
    "duration": 171,
    "start_time": "2023-10-15T18:29:47.648Z"
   },
   {
    "duration": 8,
    "start_time": "2023-10-15T18:29:47.821Z"
   },
   {
    "duration": 58,
    "start_time": "2023-10-15T18:29:47.831Z"
   },
   {
    "duration": 145,
    "start_time": "2023-10-15T18:29:47.891Z"
   },
   {
    "duration": 173,
    "start_time": "2023-10-15T18:29:48.038Z"
   },
   {
    "duration": 82,
    "start_time": "2023-10-15T18:29:48.212Z"
   },
   {
    "duration": 1017,
    "start_time": "2023-10-15T18:29:48.296Z"
   },
   {
    "duration": 443,
    "start_time": "2023-10-15T18:29:49.314Z"
   },
   {
    "duration": 38186,
    "start_time": "2023-10-15T18:29:49.759Z"
   },
   {
    "duration": 283039,
    "start_time": "2023-10-15T18:30:27.947Z"
   },
   {
    "duration": 277927,
    "start_time": "2023-10-15T18:35:10.989Z"
   },
   {
    "duration": 13346,
    "start_time": "2023-10-15T18:39:48.918Z"
   },
   {
    "duration": 270795,
    "start_time": "2023-10-15T18:40:02.266Z"
   },
   {
    "duration": 19397,
    "start_time": "2023-10-15T18:47:55.248Z"
   },
   {
    "duration": 122,
    "start_time": "2023-10-15T18:48:14.647Z"
   },
   {
    "duration": 175,
    "start_time": "2023-10-15T18:48:14.771Z"
   },
   {
    "duration": 5458,
    "start_time": "2023-10-15T18:48:14.947Z"
   },
   {
    "duration": 152,
    "start_time": "2023-10-15T18:48:20.407Z"
   },
   {
    "duration": 6,
    "start_time": "2023-10-15T18:48:20.561Z"
   },
   {
    "duration": 5922,
    "start_time": "2023-10-15T18:48:20.570Z"
   },
   {
    "duration": 33,
    "start_time": "2023-10-15T18:48:26.494Z"
   },
   {
    "duration": 5,
    "start_time": "2023-10-15T18:48:26.529Z"
   },
   {
    "duration": 11714,
    "start_time": "2023-10-15T18:48:26.536Z"
   },
   {
    "duration": 815,
    "start_time": "2023-10-15T18:48:38.252Z"
   },
   {
    "duration": 6,
    "start_time": "2023-10-15T18:48:39.070Z"
   },
   {
    "duration": 20675,
    "start_time": "2023-10-15T18:48:39.077Z"
   },
   {
    "duration": 1293,
    "start_time": "2023-10-15T18:48:59.753Z"
   },
   {
    "duration": 207610,
    "start_time": "2023-10-15T18:49:01.047Z"
   },
   {
    "duration": 19721,
    "start_time": "2023-10-15T18:52:36.328Z"
   },
   {
    "duration": 96,
    "start_time": "2023-10-15T18:55:24.953Z"
   },
   {
    "duration": 99,
    "start_time": "2023-10-15T18:55:25.051Z"
   },
   {
    "duration": 5281,
    "start_time": "2023-10-15T18:55:35.167Z"
   },
   {
    "duration": 137,
    "start_time": "2023-10-15T18:55:40.450Z"
   },
   {
    "duration": 5,
    "start_time": "2023-10-15T18:55:40.589Z"
   },
   {
    "duration": 5808,
    "start_time": "2023-10-15T18:55:40.596Z"
   },
   {
    "duration": 34,
    "start_time": "2023-10-15T18:55:46.407Z"
   },
   {
    "duration": 5,
    "start_time": "2023-10-15T18:55:46.443Z"
   },
   {
    "duration": 11501,
    "start_time": "2023-10-15T18:55:46.450Z"
   },
   {
    "duration": 798,
    "start_time": "2023-10-15T18:55:57.953Z"
   },
   {
    "duration": 5,
    "start_time": "2023-10-15T18:55:58.752Z"
   },
   {
    "duration": 14995,
    "start_time": "2023-10-15T18:55:58.758Z"
   },
   {
    "duration": 1389,
    "start_time": "2023-10-15T18:56:13.755Z"
   },
   {
    "duration": 5,
    "start_time": "2023-10-15T18:56:15.146Z"
   },
   {
    "duration": 14,
    "start_time": "2023-10-15T19:48:16.003Z"
   },
   {
    "duration": 108,
    "start_time": "2023-10-15T20:07:48.923Z"
   },
   {
    "duration": 12,
    "start_time": "2023-10-15T20:08:18.165Z"
   },
   {
    "duration": 13,
    "start_time": "2023-10-15T20:09:47.403Z"
   },
   {
    "duration": 11,
    "start_time": "2023-10-15T20:11:36.560Z"
   },
   {
    "duration": 4094,
    "start_time": "2023-10-15T21:37:51.894Z"
   },
   {
    "duration": 891,
    "start_time": "2023-10-15T21:37:55.990Z"
   },
   {
    "duration": 139,
    "start_time": "2023-10-15T21:37:56.883Z"
   },
   {
    "duration": 38,
    "start_time": "2023-10-15T21:37:57.024Z"
   },
   {
    "duration": 35,
    "start_time": "2023-10-15T21:37:57.064Z"
   },
   {
    "duration": 600,
    "start_time": "2023-10-15T21:37:57.101Z"
   },
   {
    "duration": 54,
    "start_time": "2023-10-15T21:38:01.766Z"
   },
   {
    "duration": 1743,
    "start_time": "2023-10-16T20:27:37.169Z"
   },
   {
    "duration": 1264,
    "start_time": "2023-10-16T20:27:38.914Z"
   },
   {
    "duration": 156,
    "start_time": "2023-10-16T20:27:40.179Z"
   },
   {
    "duration": 25,
    "start_time": "2023-10-16T20:27:40.337Z"
   },
   {
    "duration": 15,
    "start_time": "2023-10-16T20:27:40.365Z"
   },
   {
    "duration": 620,
    "start_time": "2023-10-16T20:27:40.382Z"
   },
   {
    "duration": 221,
    "start_time": "2023-10-16T20:27:41.004Z"
   },
   {
    "duration": 179,
    "start_time": "2023-10-16T20:27:41.227Z"
   },
   {
    "duration": 10,
    "start_time": "2023-10-16T20:27:41.407Z"
   },
   {
    "duration": 44,
    "start_time": "2023-10-16T20:27:41.419Z"
   },
   {
    "duration": 157,
    "start_time": "2023-10-16T20:27:41.465Z"
   },
   {
    "duration": 202,
    "start_time": "2023-10-16T20:27:41.624Z"
   },
   {
    "duration": 90,
    "start_time": "2023-10-16T20:27:41.828Z"
   },
   {
    "duration": 28,
    "start_time": "2023-10-16T20:27:54.575Z"
   },
   {
    "duration": 174,
    "start_time": "2023-10-16T20:38:33.822Z"
   },
   {
    "duration": 178,
    "start_time": "2023-10-16T20:38:38.285Z"
   },
   {
    "duration": 5,
    "start_time": "2023-10-16T20:38:51.466Z"
   },
   {
    "duration": 858,
    "start_time": "2023-10-16T20:38:51.473Z"
   },
   {
    "duration": 146,
    "start_time": "2023-10-16T20:38:52.332Z"
   },
   {
    "duration": 32,
    "start_time": "2023-10-16T20:38:52.480Z"
   },
   {
    "duration": 94,
    "start_time": "2023-10-16T20:38:52.514Z"
   },
   {
    "duration": 607,
    "start_time": "2023-10-16T20:38:52.610Z"
   },
   {
    "duration": 161,
    "start_time": "2023-10-16T20:38:53.219Z"
   },
   {
    "duration": 155,
    "start_time": "2023-10-16T20:38:56.040Z"
   },
   {
    "duration": 4,
    "start_time": "2023-10-16T20:39:05.969Z"
   },
   {
    "duration": 922,
    "start_time": "2023-10-16T20:39:05.975Z"
   },
   {
    "duration": 155,
    "start_time": "2023-10-16T20:39:06.902Z"
   },
   {
    "duration": 22,
    "start_time": "2023-10-16T20:39:07.059Z"
   },
   {
    "duration": 21,
    "start_time": "2023-10-16T20:39:07.084Z"
   },
   {
    "duration": 615,
    "start_time": "2023-10-16T20:39:07.108Z"
   },
   {
    "duration": 160,
    "start_time": "2023-10-16T20:39:07.726Z"
   },
   {
    "duration": 166,
    "start_time": "2023-10-16T20:39:09.912Z"
   },
   {
    "duration": 4,
    "start_time": "2023-10-16T20:39:26.299Z"
   },
   {
    "duration": 870,
    "start_time": "2023-10-16T20:39:26.305Z"
   },
   {
    "duration": 149,
    "start_time": "2023-10-16T20:39:27.176Z"
   },
   {
    "duration": 16,
    "start_time": "2023-10-16T20:39:27.327Z"
   },
   {
    "duration": 8,
    "start_time": "2023-10-16T20:39:27.345Z"
   },
   {
    "duration": 591,
    "start_time": "2023-10-16T20:39:27.354Z"
   },
   {
    "duration": 159,
    "start_time": "2023-10-16T20:39:27.946Z"
   },
   {
    "duration": 160,
    "start_time": "2023-10-16T20:39:29.565Z"
   },
   {
    "duration": 119,
    "start_time": "2023-10-16T20:48:05.793Z"
   },
   {
    "duration": 88,
    "start_time": "2023-10-16T20:48:44.302Z"
   },
   {
    "duration": 7,
    "start_time": "2023-10-16T20:49:26.000Z"
   },
   {
    "duration": 4,
    "start_time": "2023-10-16T20:49:48.835Z"
   },
   {
    "duration": 5,
    "start_time": "2023-10-16T20:50:01.936Z"
   },
   {
    "duration": 4,
    "start_time": "2023-10-16T20:50:12.577Z"
   },
   {
    "duration": 5,
    "start_time": "2023-10-16T20:50:21.832Z"
   },
   {
    "duration": 94,
    "start_time": "2023-10-16T20:59:05.105Z"
   },
   {
    "duration": 72,
    "start_time": "2023-10-17T09:52:48.736Z"
   },
   {
    "duration": 1617,
    "start_time": "2023-10-17T09:52:51.887Z"
   },
   {
    "duration": 1203,
    "start_time": "2023-10-17T09:52:53.506Z"
   },
   {
    "duration": 151,
    "start_time": "2023-10-17T09:52:54.711Z"
   },
   {
    "duration": 28,
    "start_time": "2023-10-17T09:52:54.867Z"
   },
   {
    "duration": 9,
    "start_time": "2023-10-17T09:52:54.897Z"
   },
   {
    "duration": 629,
    "start_time": "2023-10-17T09:52:54.907Z"
   },
   {
    "duration": 218,
    "start_time": "2023-10-17T09:52:55.537Z"
   },
   {
    "duration": 1362,
    "start_time": "2023-10-17T09:52:55.757Z"
   },
   {
    "duration": 1342,
    "start_time": "2023-10-17T09:53:04.068Z"
   },
   {
    "duration": 1326,
    "start_time": "2023-10-17T09:53:27.512Z"
   },
   {
    "duration": 9,
    "start_time": "2023-10-17T09:53:38.775Z"
   },
   {
    "duration": 9,
    "start_time": "2023-10-17T09:53:43.912Z"
   },
   {
    "duration": 38,
    "start_time": "2023-10-17T09:54:30.445Z"
   },
   {
    "duration": 51,
    "start_time": "2023-10-17T10:07:43.518Z"
   },
   {
    "duration": 26,
    "start_time": "2023-10-17T10:07:47.314Z"
   },
   {
    "duration": 29,
    "start_time": "2023-10-17T10:07:54.098Z"
   },
   {
    "duration": 247,
    "start_time": "2023-10-17T10:08:41.890Z"
   },
   {
    "duration": 107,
    "start_time": "2023-10-17T10:09:18.693Z"
   },
   {
    "duration": 8,
    "start_time": "2023-10-17T10:37:55.992Z"
   },
   {
    "duration": 85,
    "start_time": "2023-10-17T10:37:59.751Z"
   },
   {
    "duration": 17,
    "start_time": "2023-10-17T10:38:01.482Z"
   },
   {
    "duration": 14,
    "start_time": "2023-10-17T10:39:12.193Z"
   },
   {
    "duration": 16,
    "start_time": "2023-10-17T10:39:20.744Z"
   },
   {
    "duration": 6,
    "start_time": "2023-10-17T10:39:24.409Z"
   },
   {
    "duration": 13,
    "start_time": "2023-10-17T10:43:06.539Z"
   },
   {
    "duration": 940,
    "start_time": "2023-10-17T10:54:46.984Z"
   },
   {
    "duration": 28,
    "start_time": "2023-10-17T10:55:00.582Z"
   },
   {
    "duration": 569,
    "start_time": "2023-10-17T11:11:21.204Z"
   },
   {
    "duration": 3,
    "start_time": "2023-10-17T11:14:08.827Z"
   },
   {
    "duration": 38,
    "start_time": "2023-10-17T11:15:08.237Z"
   },
   {
    "duration": 14,
    "start_time": "2023-10-17T11:15:10.973Z"
   },
   {
    "duration": 11,
    "start_time": "2023-10-17T11:15:44.473Z"
   },
   {
    "duration": 7,
    "start_time": "2023-10-17T11:15:48.673Z"
   },
   {
    "duration": 33,
    "start_time": "2023-10-17T11:21:01.564Z"
   },
   {
    "duration": 38,
    "start_time": "2023-10-17T11:21:31.373Z"
   },
   {
    "duration": 1449,
    "start_time": "2023-10-17T11:24:34.919Z"
   },
   {
    "duration": 1011,
    "start_time": "2023-10-17T11:24:36.370Z"
   },
   {
    "duration": 131,
    "start_time": "2023-10-17T11:24:37.382Z"
   },
   {
    "duration": 23,
    "start_time": "2023-10-17T11:24:37.515Z"
   },
   {
    "duration": 32,
    "start_time": "2023-10-17T11:24:37.540Z"
   },
   {
    "duration": 625,
    "start_time": "2023-10-17T11:24:37.574Z"
   },
   {
    "duration": 196,
    "start_time": "2023-10-17T11:24:38.200Z"
   },
   {
    "duration": 21,
    "start_time": "2023-10-17T11:24:38.397Z"
   },
   {
    "duration": 50,
    "start_time": "2023-10-17T11:24:38.419Z"
   },
   {
    "duration": 186,
    "start_time": "2023-10-17T11:24:38.470Z"
   },
   {
    "duration": 8,
    "start_time": "2023-10-17T11:24:38.668Z"
   },
   {
    "duration": 80,
    "start_time": "2023-10-17T11:24:38.678Z"
   },
   {
    "duration": 159,
    "start_time": "2023-10-17T11:24:38.762Z"
   },
   {
    "duration": 206,
    "start_time": "2023-10-17T11:24:38.923Z"
   },
   {
    "duration": 82,
    "start_time": "2023-10-17T11:24:39.130Z"
   },
   {
    "duration": 15,
    "start_time": "2023-10-17T11:24:39.213Z"
   },
   {
    "duration": 75,
    "start_time": "2023-10-17T11:24:39.244Z"
   },
   {
    "duration": 10,
    "start_time": "2023-10-17T11:24:39.321Z"
   },
   {
    "duration": 36,
    "start_time": "2023-10-17T11:24:39.332Z"
   },
   {
    "duration": 143,
    "start_time": "2023-10-17T11:24:41.488Z"
   },
   {
    "duration": 27,
    "start_time": "2023-10-17T11:24:55.217Z"
   },
   {
    "duration": 28,
    "start_time": "2023-10-17T11:25:07.252Z"
   },
   {
    "duration": 36,
    "start_time": "2023-10-17T11:25:30.094Z"
   },
   {
    "duration": 15,
    "start_time": "2023-10-17T11:27:21.904Z"
   },
   {
    "duration": 2199,
    "start_time": "2023-10-17T11:27:33.539Z"
   },
   {
    "duration": 2457,
    "start_time": "2023-10-17T11:27:46.678Z"
   },
   {
    "duration": 2643,
    "start_time": "2023-10-17T11:28:09.456Z"
   },
   {
    "duration": 48,
    "start_time": "2023-10-17T11:29:38.959Z"
   },
   {
    "duration": 35,
    "start_time": "2023-10-17T11:29:44.161Z"
   },
   {
    "duration": 29,
    "start_time": "2023-10-17T11:29:53.169Z"
   },
   {
    "duration": 23,
    "start_time": "2023-10-17T13:01:35.993Z"
   },
   {
    "duration": 61,
    "start_time": "2023-10-17T13:02:02.121Z"
   },
   {
    "duration": 27,
    "start_time": "2023-10-17T13:02:33.653Z"
   },
   {
    "duration": 70,
    "start_time": "2023-10-17T13:05:06.792Z"
   },
   {
    "duration": 68,
    "start_time": "2023-10-17T13:05:46.186Z"
   },
   {
    "duration": 345,
    "start_time": "2023-10-17T13:06:06.888Z"
   },
   {
    "duration": 370,
    "start_time": "2023-10-17T13:06:56.785Z"
   },
   {
    "duration": 16,
    "start_time": "2023-10-17T13:07:31.584Z"
   },
   {
    "duration": 315,
    "start_time": "2023-10-17T13:08:05.648Z"
   },
   {
    "duration": 67,
    "start_time": "2023-10-17T13:08:42.721Z"
   },
   {
    "duration": 76,
    "start_time": "2023-10-17T13:08:46.445Z"
   },
   {
    "duration": 353,
    "start_time": "2023-10-17T13:08:57.204Z"
   },
   {
    "duration": 317,
    "start_time": "2023-10-17T13:09:08.783Z"
   },
   {
    "duration": 313,
    "start_time": "2023-10-17T13:09:29.380Z"
   },
   {
    "duration": 322,
    "start_time": "2023-10-17T13:12:59.441Z"
   },
   {
    "duration": 326,
    "start_time": "2023-10-17T13:13:06.583Z"
   },
   {
    "duration": 319,
    "start_time": "2023-10-17T13:13:14.195Z"
   },
   {
    "duration": 333,
    "start_time": "2023-10-17T13:13:21.634Z"
   },
   {
    "duration": 325,
    "start_time": "2023-10-17T13:13:31.702Z"
   },
   {
    "duration": 67,
    "start_time": "2023-10-17T13:18:56.710Z"
   },
   {
    "duration": 906,
    "start_time": "2023-10-17T13:19:05.961Z"
   },
   {
    "duration": 735,
    "start_time": "2023-10-17T13:19:47.848Z"
   },
   {
    "duration": 850,
    "start_time": "2023-10-17T13:19:54.784Z"
   },
   {
    "duration": 810,
    "start_time": "2023-10-17T13:21:33.157Z"
   },
   {
    "duration": 12,
    "start_time": "2023-10-17T13:30:02.105Z"
   },
   {
    "duration": 5,
    "start_time": "2023-10-17T13:30:05.040Z"
   },
   {
    "duration": 14,
    "start_time": "2023-10-17T13:30:18.412Z"
   },
   {
    "duration": 786,
    "start_time": "2023-10-17T13:30:54.545Z"
   },
   {
    "duration": 5,
    "start_time": "2023-10-17T13:32:07.018Z"
   },
   {
    "duration": 5,
    "start_time": "2023-10-17T13:33:06.456Z"
   },
   {
    "duration": 3,
    "start_time": "2023-10-17T13:33:08.758Z"
   },
   {
    "duration": 7,
    "start_time": "2023-10-17T13:34:12.555Z"
   },
   {
    "duration": 719,
    "start_time": "2023-10-17T13:36:46.664Z"
   },
   {
    "duration": 997,
    "start_time": "2023-10-17T13:37:19.386Z"
   },
   {
    "duration": 1425,
    "start_time": "2023-10-17T13:37:35.004Z"
   },
   {
    "duration": 751,
    "start_time": "2023-10-17T13:37:36.431Z"
   },
   {
    "duration": 133,
    "start_time": "2023-10-17T13:37:37.184Z"
   },
   {
    "duration": 27,
    "start_time": "2023-10-17T13:37:37.318Z"
   },
   {
    "duration": 20,
    "start_time": "2023-10-17T13:37:37.347Z"
   },
   {
    "duration": 555,
    "start_time": "2023-10-17T13:37:37.369Z"
   },
   {
    "duration": 181,
    "start_time": "2023-10-17T13:37:37.925Z"
   },
   {
    "duration": 21,
    "start_time": "2023-10-17T13:37:38.107Z"
   },
   {
    "duration": 34,
    "start_time": "2023-10-17T13:37:38.129Z"
   },
   {
    "duration": 183,
    "start_time": "2023-10-17T13:37:38.165Z"
   },
   {
    "duration": 8,
    "start_time": "2023-10-17T13:37:38.350Z"
   },
   {
    "duration": 35,
    "start_time": "2023-10-17T13:37:38.359Z"
   },
   {
    "duration": 160,
    "start_time": "2023-10-17T13:37:38.395Z"
   },
   {
    "duration": 189,
    "start_time": "2023-10-17T13:37:38.558Z"
   },
   {
    "duration": 64,
    "start_time": "2023-10-17T13:37:38.748Z"
   },
   {
    "duration": 28,
    "start_time": "2023-10-17T13:37:38.813Z"
   },
   {
    "duration": 53,
    "start_time": "2023-10-17T13:37:38.843Z"
   },
   {
    "duration": 11,
    "start_time": "2023-10-17T13:37:38.897Z"
   },
   {
    "duration": 5,
    "start_time": "2023-10-17T13:37:38.910Z"
   },
   {
    "duration": 1124,
    "start_time": "2023-10-17T13:37:40.910Z"
   },
   {
    "duration": 974,
    "start_time": "2023-10-17T13:37:57.579Z"
   },
   {
    "duration": 750,
    "start_time": "2023-10-17T13:38:18.579Z"
   },
   {
    "duration": 1410,
    "start_time": "2023-10-17T13:38:50.697Z"
   },
   {
    "duration": 54,
    "start_time": "2023-10-17T13:40:38.728Z"
   },
   {
    "duration": 2057,
    "start_time": "2023-10-17T13:40:42.496Z"
   },
   {
    "duration": 1023,
    "start_time": "2023-10-17T13:40:44.555Z"
   },
   {
    "duration": 125,
    "start_time": "2023-10-17T13:40:45.579Z"
   },
   {
    "duration": 18,
    "start_time": "2023-10-17T13:40:45.706Z"
   },
   {
    "duration": 17,
    "start_time": "2023-10-17T13:40:45.725Z"
   },
   {
    "duration": 572,
    "start_time": "2023-10-17T13:40:45.743Z"
   },
   {
    "duration": 185,
    "start_time": "2023-10-17T13:40:46.316Z"
   },
   {
    "duration": 22,
    "start_time": "2023-10-17T13:40:46.502Z"
   },
   {
    "duration": 38,
    "start_time": "2023-10-17T13:40:46.526Z"
   },
   {
    "duration": 209,
    "start_time": "2023-10-17T13:40:46.566Z"
   },
   {
    "duration": 9,
    "start_time": "2023-10-17T13:40:46.776Z"
   },
   {
    "duration": 28,
    "start_time": "2023-10-17T13:40:46.787Z"
   },
   {
    "duration": 160,
    "start_time": "2023-10-17T13:40:46.817Z"
   },
   {
    "duration": 187,
    "start_time": "2023-10-17T13:40:46.978Z"
   },
   {
    "duration": 63,
    "start_time": "2023-10-17T13:40:47.166Z"
   },
   {
    "duration": 16,
    "start_time": "2023-10-17T13:40:47.240Z"
   },
   {
    "duration": 54,
    "start_time": "2023-10-17T13:40:47.258Z"
   },
   {
    "duration": 34,
    "start_time": "2023-10-17T13:40:47.313Z"
   },
   {
    "duration": 8,
    "start_time": "2023-10-17T13:40:47.349Z"
   },
   {
    "duration": 368,
    "start_time": "2023-10-17T13:40:49.015Z"
   },
   {
    "duration": 353,
    "start_time": "2023-10-17T13:41:04.844Z"
   },
   {
    "duration": 347,
    "start_time": "2023-10-17T13:43:37.534Z"
   },
   {
    "duration": 87,
    "start_time": "2023-10-17T13:47:37.703Z"
   },
   {
    "duration": 351,
    "start_time": "2023-10-17T13:50:18.891Z"
   },
   {
    "duration": 713,
    "start_time": "2023-10-17T13:52:36.604Z"
   },
   {
    "duration": 833,
    "start_time": "2023-10-17T13:52:40.814Z"
   },
   {
    "duration": 53,
    "start_time": "2023-10-18T07:06:22.256Z"
   },
   {
    "duration": 1761,
    "start_time": "2023-10-18T07:06:26.386Z"
   },
   {
    "duration": 1232,
    "start_time": "2023-10-18T07:06:28.149Z"
   },
   {
    "duration": 156,
    "start_time": "2023-10-18T07:06:29.382Z"
   },
   {
    "duration": 25,
    "start_time": "2023-10-18T07:06:29.539Z"
   },
   {
    "duration": 11,
    "start_time": "2023-10-18T07:06:29.566Z"
   },
   {
    "duration": 664,
    "start_time": "2023-10-18T07:06:29.578Z"
   },
   {
    "duration": 212,
    "start_time": "2023-10-18T07:06:30.244Z"
   },
   {
    "duration": 24,
    "start_time": "2023-10-18T07:06:30.458Z"
   },
   {
    "duration": 136,
    "start_time": "2023-10-18T07:06:30.483Z"
   },
   {
    "duration": 269,
    "start_time": "2023-10-18T07:06:30.621Z"
   },
   {
    "duration": 11,
    "start_time": "2023-10-18T07:06:30.891Z"
   },
   {
    "duration": 110,
    "start_time": "2023-10-18T07:06:30.903Z"
   },
   {
    "duration": 234,
    "start_time": "2023-10-18T07:06:31.015Z"
   },
   {
    "duration": 199,
    "start_time": "2023-10-18T07:06:31.252Z"
   },
   {
    "duration": 95,
    "start_time": "2023-10-18T07:06:31.453Z"
   },
   {
    "duration": 58,
    "start_time": "2023-10-18T07:06:31.549Z"
   },
   {
    "duration": 89,
    "start_time": "2023-10-18T07:06:31.609Z"
   },
   {
    "duration": 16,
    "start_time": "2023-10-18T07:06:31.700Z"
   },
   {
    "duration": 90,
    "start_time": "2023-10-18T07:06:31.718Z"
   },
   {
    "duration": 1348,
    "start_time": "2023-10-18T07:06:31.810Z"
   },
   {
    "duration": 89,
    "start_time": "2023-10-18T07:06:35.462Z"
   },
   {
    "duration": 10,
    "start_time": "2023-10-18T07:06:46.181Z"
   },
   {
    "duration": 3352,
    "start_time": "2023-10-18T07:07:24.016Z"
   },
   {
    "duration": 11,
    "start_time": "2023-10-18T07:18:09.512Z"
   },
   {
    "duration": 12,
    "start_time": "2023-10-18T07:21:00.756Z"
   },
   {
    "duration": 10,
    "start_time": "2023-10-18T07:21:14.540Z"
   },
   {
    "duration": 403,
    "start_time": "2023-10-18T07:22:03.547Z"
   },
   {
    "duration": 377,
    "start_time": "2023-10-18T07:24:22.936Z"
   },
   {
    "duration": 20,
    "start_time": "2023-10-18T07:25:25.283Z"
   },
   {
    "duration": 381,
    "start_time": "2023-10-18T07:25:32.842Z"
   },
   {
    "duration": 412,
    "start_time": "2023-10-18T07:26:16.909Z"
   },
   {
    "duration": 415,
    "start_time": "2023-10-18T07:26:55.586Z"
   },
   {
    "duration": 415,
    "start_time": "2023-10-18T07:27:12.991Z"
   },
   {
    "duration": 428,
    "start_time": "2023-10-18T07:27:27.806Z"
   },
   {
    "duration": 2655,
    "start_time": "2023-10-18T07:27:45.125Z"
   },
   {
    "duration": 10,
    "start_time": "2023-10-18T07:28:26.729Z"
   },
   {
    "duration": 55,
    "start_time": "2023-10-18T07:30:56.206Z"
   },
   {
    "duration": 1607,
    "start_time": "2023-10-18T07:30:59.216Z"
   },
   {
    "duration": 1289,
    "start_time": "2023-10-18T07:31:00.826Z"
   },
   {
    "duration": 189,
    "start_time": "2023-10-18T07:31:02.117Z"
   },
   {
    "duration": 30,
    "start_time": "2023-10-18T07:31:02.307Z"
   },
   {
    "duration": 82,
    "start_time": "2023-10-18T07:31:02.340Z"
   },
   {
    "duration": 752,
    "start_time": "2023-10-18T07:31:02.423Z"
   },
   {
    "duration": 241,
    "start_time": "2023-10-18T07:31:03.177Z"
   },
   {
    "duration": 30,
    "start_time": "2023-10-18T07:31:03.420Z"
   },
   {
    "duration": 40,
    "start_time": "2023-10-18T07:31:03.452Z"
   },
   {
    "duration": 197,
    "start_time": "2023-10-18T07:31:03.494Z"
   },
   {
    "duration": 9,
    "start_time": "2023-10-18T07:31:03.692Z"
   },
   {
    "duration": 122,
    "start_time": "2023-10-18T07:31:03.702Z"
   },
   {
    "duration": 192,
    "start_time": "2023-10-18T07:31:03.826Z"
   },
   {
    "duration": 207,
    "start_time": "2023-10-18T07:31:04.021Z"
   },
   {
    "duration": 91,
    "start_time": "2023-10-18T07:31:04.230Z"
   },
   {
    "duration": 69,
    "start_time": "2023-10-18T07:31:33.197Z"
   },
   {
    "duration": 13,
    "start_time": "2023-10-18T07:31:35.128Z"
   },
   {
    "duration": 6,
    "start_time": "2023-10-18T07:31:41.645Z"
   },
   {
    "duration": 2711,
    "start_time": "2023-10-18T07:31:41.653Z"
   },
   {
    "duration": 429,
    "start_time": "2023-10-18T07:31:44.365Z"
   },
   {
    "duration": 90,
    "start_time": "2023-10-18T07:31:44.796Z"
   },
   {
    "duration": 1902,
    "start_time": "2023-10-18T07:33:01.907Z"
   },
   {
    "duration": 119,
    "start_time": "2023-10-18T07:34:35.139Z"
   },
   {
    "duration": 147,
    "start_time": "2023-10-18T07:34:40.169Z"
   },
   {
    "duration": 200,
    "start_time": "2023-10-18T07:34:46.159Z"
   },
   {
    "duration": 18,
    "start_time": "2023-10-18T07:34:54.601Z"
   },
   {
    "duration": 428,
    "start_time": "2023-10-18T07:35:09.364Z"
   },
   {
    "duration": 503,
    "start_time": "2023-10-18T07:35:15.315Z"
   },
   {
    "duration": 80,
    "start_time": "2023-10-18T07:38:52.542Z"
   },
   {
    "duration": 147,
    "start_time": "2023-10-18T07:38:59.084Z"
   },
   {
    "duration": 578,
    "start_time": "2023-10-18T07:44:04.899Z"
   },
   {
    "duration": 75,
    "start_time": "2023-10-18T07:44:17.527Z"
   },
   {
    "duration": 13,
    "start_time": "2023-10-18T07:44:20.439Z"
   },
   {
    "duration": 6,
    "start_time": "2023-10-18T07:44:21.975Z"
   },
   {
    "duration": 2660,
    "start_time": "2023-10-18T07:44:27.052Z"
   },
   {
    "duration": 510,
    "start_time": "2023-10-18T07:45:02.874Z"
   },
   {
    "duration": 1496,
    "start_time": "2023-10-18T07:45:22.867Z"
   },
   {
    "duration": 6,
    "start_time": "2023-10-18T07:45:31.315Z"
   },
   {
    "duration": 5,
    "start_time": "2023-10-18T07:45:40.413Z"
   },
   {
    "duration": 2752,
    "start_time": "2023-10-18T07:46:16.908Z"
   },
   {
    "duration": 2609,
    "start_time": "2023-10-18T07:46:23.050Z"
   },
   {
    "duration": 156,
    "start_time": "2023-10-18T07:47:34.347Z"
   },
   {
    "duration": 1802,
    "start_time": "2023-10-18T07:51:46.819Z"
   },
   {
    "duration": 1288,
    "start_time": "2023-10-18T07:51:48.623Z"
   },
   {
    "duration": 163,
    "start_time": "2023-10-18T07:51:49.912Z"
   },
   {
    "duration": 48,
    "start_time": "2023-10-18T07:51:50.078Z"
   },
   {
    "duration": 41,
    "start_time": "2023-10-18T07:51:50.128Z"
   },
   {
    "duration": 710,
    "start_time": "2023-10-18T07:51:50.171Z"
   },
   {
    "duration": 231,
    "start_time": "2023-10-18T07:51:50.882Z"
   },
   {
    "duration": 24,
    "start_time": "2023-10-18T07:51:51.114Z"
   },
   {
    "duration": 61,
    "start_time": "2023-10-18T07:51:51.140Z"
   },
   {
    "duration": 202,
    "start_time": "2023-10-18T07:51:51.203Z"
   },
   {
    "duration": 9,
    "start_time": "2023-10-18T07:51:51.446Z"
   },
   {
    "duration": 57,
    "start_time": "2023-10-18T07:51:51.457Z"
   },
   {
    "duration": 232,
    "start_time": "2023-10-18T07:51:51.516Z"
   },
   {
    "duration": 225,
    "start_time": "2023-10-18T07:51:51.750Z"
   },
   {
    "duration": 91,
    "start_time": "2023-10-18T07:51:51.977Z"
   },
   {
    "duration": 90,
    "start_time": "2023-10-18T07:51:52.069Z"
   },
   {
    "duration": 532,
    "start_time": "2023-10-18T07:51:52.161Z"
   },
   {
    "duration": 4,
    "start_time": "2023-10-18T07:51:52.695Z"
   },
   {
    "duration": 32,
    "start_time": "2023-10-18T07:51:52.700Z"
   },
   {
    "duration": 6,
    "start_time": "2023-10-18T07:51:52.734Z"
   },
   {
    "duration": 3298,
    "start_time": "2023-10-18T07:52:10.276Z"
   },
   {
    "duration": 3413,
    "start_time": "2023-10-18T07:52:33.856Z"
   },
   {
    "duration": 2868,
    "start_time": "2023-10-18T07:53:17.041Z"
   },
   {
    "duration": 2920,
    "start_time": "2023-10-18T07:53:28.826Z"
   },
   {
    "duration": 18,
    "start_time": "2023-10-18T07:53:55.647Z"
   },
   {
    "duration": 119,
    "start_time": "2023-10-18T08:03:12.974Z"
   },
   {
    "duration": 83,
    "start_time": "2023-10-18T08:03:24.162Z"
   },
   {
    "duration": 78,
    "start_time": "2023-10-18T08:03:34.054Z"
   },
   {
    "duration": 2688,
    "start_time": "2023-10-18T08:03:38.499Z"
   },
   {
    "duration": 1323,
    "start_time": "2023-10-18T08:04:37.289Z"
   },
   {
    "duration": 1116,
    "start_time": "2023-10-18T08:05:05.619Z"
   },
   {
    "duration": 1590,
    "start_time": "2023-10-18T08:11:17.417Z"
   },
   {
    "duration": 1304,
    "start_time": "2023-10-18T08:11:19.010Z"
   },
   {
    "duration": 172,
    "start_time": "2023-10-18T08:11:20.316Z"
   },
   {
    "duration": 50,
    "start_time": "2023-10-18T08:11:20.490Z"
   },
   {
    "duration": 24,
    "start_time": "2023-10-18T08:11:20.542Z"
   },
   {
    "duration": 680,
    "start_time": "2023-10-18T08:11:20.568Z"
   },
   {
    "duration": 233,
    "start_time": "2023-10-18T08:11:21.250Z"
   },
   {
    "duration": 24,
    "start_time": "2023-10-18T08:11:21.485Z"
   },
   {
    "duration": 44,
    "start_time": "2023-10-18T08:11:21.511Z"
   },
   {
    "duration": 206,
    "start_time": "2023-10-18T08:11:21.556Z"
   },
   {
    "duration": 9,
    "start_time": "2023-10-18T08:11:21.764Z"
   },
   {
    "duration": 59,
    "start_time": "2023-10-18T08:11:21.775Z"
   },
   {
    "duration": 180,
    "start_time": "2023-10-18T08:11:21.836Z"
   },
   {
    "duration": 215,
    "start_time": "2023-10-18T08:11:22.018Z"
   },
   {
    "duration": 93,
    "start_time": "2023-10-18T08:11:22.235Z"
   },
   {
    "duration": 115,
    "start_time": "2023-10-18T08:11:22.330Z"
   },
   {
    "duration": 19,
    "start_time": "2023-10-18T08:11:22.447Z"
   },
   {
    "duration": 39,
    "start_time": "2023-10-18T08:11:22.470Z"
   },
   {
    "duration": 39,
    "start_time": "2023-10-18T08:11:22.512Z"
   },
   {
    "duration": 106,
    "start_time": "2023-10-18T08:11:22.553Z"
   },
   {
    "duration": 3221,
    "start_time": "2023-10-18T08:11:24.978Z"
   },
   {
    "duration": 3430,
    "start_time": "2023-10-18T08:11:41.039Z"
   },
   {
    "duration": 3569,
    "start_time": "2023-10-18T08:13:53.236Z"
   },
   {
    "duration": 1496,
    "start_time": "2023-10-18T08:14:12.399Z"
   },
   {
    "duration": 1289,
    "start_time": "2023-10-18T08:14:13.897Z"
   },
   {
    "duration": 161,
    "start_time": "2023-10-18T08:14:15.189Z"
   },
   {
    "duration": 29,
    "start_time": "2023-10-18T08:14:15.353Z"
   },
   {
    "duration": 28,
    "start_time": "2023-10-18T08:14:15.385Z"
   },
   {
    "duration": 718,
    "start_time": "2023-10-18T08:14:15.416Z"
   },
   {
    "duration": 234,
    "start_time": "2023-10-18T08:14:16.136Z"
   },
   {
    "duration": 25,
    "start_time": "2023-10-18T08:14:16.371Z"
   },
   {
    "duration": 34,
    "start_time": "2023-10-18T08:14:16.398Z"
   },
   {
    "duration": 201,
    "start_time": "2023-10-18T08:14:16.434Z"
   },
   {
    "duration": 15,
    "start_time": "2023-10-18T08:14:16.637Z"
   },
   {
    "duration": 47,
    "start_time": "2023-10-18T08:14:16.654Z"
   },
   {
    "duration": 168,
    "start_time": "2023-10-18T08:14:16.703Z"
   },
   {
    "duration": 206,
    "start_time": "2023-10-18T08:14:16.873Z"
   },
   {
    "duration": 92,
    "start_time": "2023-10-18T08:14:17.081Z"
   },
   {
    "duration": 89,
    "start_time": "2023-10-18T08:14:17.175Z"
   },
   {
    "duration": 18,
    "start_time": "2023-10-18T08:14:17.266Z"
   },
   {
    "duration": 23,
    "start_time": "2023-10-18T08:14:17.286Z"
   },
   {
    "duration": 21,
    "start_time": "2023-10-18T08:14:17.310Z"
   },
   {
    "duration": 78,
    "start_time": "2023-10-18T08:14:17.333Z"
   },
   {
    "duration": 4098,
    "start_time": "2023-10-18T08:14:20.947Z"
   },
   {
    "duration": 3707,
    "start_time": "2023-10-18T08:14:33.506Z"
   },
   {
    "duration": 111,
    "start_time": "2023-10-18T08:14:39.852Z"
   },
   {
    "duration": 144,
    "start_time": "2023-10-18T08:14:47.337Z"
   },
   {
    "duration": 452,
    "start_time": "2023-10-18T08:15:06.064Z"
   },
   {
    "duration": 43168,
    "start_time": "2023-10-18T08:15:12.979Z"
   },
   {
    "duration": 313692,
    "start_time": "2023-10-18T08:21:06.018Z"
   },
   {
    "duration": 319591,
    "start_time": "2023-10-18T08:26:19.712Z"
   },
   {
    "duration": 15493,
    "start_time": "2023-10-18T08:31:39.305Z"
   },
   {
    "duration": 370506,
    "start_time": "2023-10-18T08:40:55.564Z"
   },
   {
    "duration": 601279,
    "start_time": "2023-10-18T08:47:06.073Z"
   },
   {
    "duration": 125,
    "start_time": "2023-10-18T08:57:48.625Z"
   },
   {
    "duration": 663,
    "start_time": "2023-10-18T09:00:39.647Z"
   },
   {
    "duration": 338292,
    "start_time": "2023-10-18T09:00:54.172Z"
   },
   {
    "duration": 5,
    "start_time": "2023-10-18T09:15:44.662Z"
   },
   {
    "duration": 626,
    "start_time": "2023-10-18T09:18:33.176Z"
   },
   {
    "duration": 5281,
    "start_time": "2023-10-18T09:19:51.982Z"
   },
   {
    "duration": 5338,
    "start_time": "2023-10-18T09:20:06.773Z"
   },
   {
    "duration": 48313,
    "start_time": "2023-10-18T09:21:10.667Z"
   },
   {
    "duration": 54,
    "start_time": "2023-10-18T09:24:32.461Z"
   },
   {
    "duration": 1576,
    "start_time": "2023-10-18T09:24:41.994Z"
   },
   {
    "duration": 945,
    "start_time": "2023-10-18T09:24:43.572Z"
   },
   {
    "duration": 168,
    "start_time": "2023-10-18T09:24:44.519Z"
   },
   {
    "duration": 26,
    "start_time": "2023-10-18T09:24:44.690Z"
   },
   {
    "duration": 29,
    "start_time": "2023-10-18T09:24:44.718Z"
   },
   {
    "duration": 680,
    "start_time": "2023-10-18T09:24:44.749Z"
   },
   {
    "duration": 250,
    "start_time": "2023-10-18T09:24:45.431Z"
   },
   {
    "duration": 23,
    "start_time": "2023-10-18T09:24:45.683Z"
   },
   {
    "duration": 119,
    "start_time": "2023-10-18T09:24:45.708Z"
   },
   {
    "duration": 195,
    "start_time": "2023-10-18T09:24:45.830Z"
   },
   {
    "duration": 8,
    "start_time": "2023-10-18T09:24:46.027Z"
   },
   {
    "duration": 49,
    "start_time": "2023-10-18T09:24:46.046Z"
   },
   {
    "duration": 167,
    "start_time": "2023-10-18T09:24:46.097Z"
   },
   {
    "duration": 207,
    "start_time": "2023-10-18T09:24:46.266Z"
   },
   {
    "duration": 92,
    "start_time": "2023-10-18T09:24:46.475Z"
   },
   {
    "duration": 100,
    "start_time": "2023-10-18T09:24:46.570Z"
   },
   {
    "duration": 18,
    "start_time": "2023-10-18T09:24:46.672Z"
   },
   {
    "duration": 24,
    "start_time": "2023-10-18T09:24:46.693Z"
   },
   {
    "duration": 110,
    "start_time": "2023-10-18T09:24:46.719Z"
   },
   {
    "duration": 3103,
    "start_time": "2023-10-18T09:24:46.831Z"
   },
   {
    "duration": 156,
    "start_time": "2023-10-18T09:24:49.938Z"
   },
   {
    "duration": 506,
    "start_time": "2023-10-18T09:24:50.096Z"
   },
   {
    "duration": 55551,
    "start_time": "2023-10-18T09:24:50.604Z"
   },
   {
    "duration": 320061,
    "start_time": "2023-10-18T09:25:46.247Z"
   },
   {
    "duration": 356408,
    "start_time": "2023-10-18T09:31:06.310Z"
   },
   {
    "duration": 16660,
    "start_time": "2023-10-18T09:37:02.720Z"
   },
   {
    "duration": 2379,
    "start_time": "2023-10-18T10:13:15.606Z"
   },
   {
    "duration": 1226,
    "start_time": "2023-10-18T10:13:17.988Z"
   },
   {
    "duration": 221,
    "start_time": "2023-10-18T10:13:19.215Z"
   },
   {
    "duration": 50,
    "start_time": "2023-10-18T10:13:19.438Z"
   },
   {
    "duration": 11,
    "start_time": "2023-10-18T10:13:19.491Z"
   },
   {
    "duration": 833,
    "start_time": "2023-10-18T10:13:19.503Z"
   },
   {
    "duration": 286,
    "start_time": "2023-10-18T10:13:20.337Z"
   },
   {
    "duration": 44,
    "start_time": "2023-10-18T10:13:20.625Z"
   },
   {
    "duration": 33,
    "start_time": "2023-10-18T10:13:20.675Z"
   },
   {
    "duration": 287,
    "start_time": "2023-10-18T10:13:20.711Z"
   },
   {
    "duration": 11,
    "start_time": "2023-10-18T10:13:21.000Z"
   },
   {
    "duration": 97,
    "start_time": "2023-10-18T10:13:21.013Z"
   },
   {
    "duration": 226,
    "start_time": "2023-10-18T10:13:21.112Z"
   },
   {
    "duration": 268,
    "start_time": "2023-10-18T10:13:21.340Z"
   },
   {
    "duration": 121,
    "start_time": "2023-10-18T10:13:21.610Z"
   },
   {
    "duration": 124,
    "start_time": "2023-10-18T10:13:21.733Z"
   },
   {
    "duration": 18,
    "start_time": "2023-10-18T10:13:21.865Z"
   },
   {
    "duration": 9,
    "start_time": "2023-10-18T10:13:21.885Z"
   },
   {
    "duration": 109,
    "start_time": "2023-10-18T10:13:21.896Z"
   },
   {
    "duration": 3619,
    "start_time": "2023-10-18T10:13:22.007Z"
   },
   {
    "duration": 162,
    "start_time": "2023-10-18T10:13:25.628Z"
   },
   {
    "duration": 526,
    "start_time": "2023-10-18T10:13:25.792Z"
   },
   {
    "duration": 116638,
    "start_time": "2023-10-18T10:13:26.319Z"
   },
   {
    "duration": 371142,
    "start_time": "2023-10-18T10:15:22.959Z"
   },
   {
    "duration": 398889,
    "start_time": "2023-10-18T10:21:34.103Z"
   },
   {
    "duration": 23481,
    "start_time": "2023-10-18T10:28:12.994Z"
   },
   {
    "duration": 616,
    "start_time": "2023-10-18T10:28:36.479Z"
   },
   {
    "duration": 742,
    "start_time": "2023-10-18T11:10:15.989Z"
   },
   {
    "duration": 1942,
    "start_time": "2023-10-18T11:17:27.161Z"
   },
   {
    "duration": 6,
    "start_time": "2023-10-18T11:17:38.520Z"
   },
   {
    "duration": 1543,
    "start_time": "2023-10-18T11:17:38.528Z"
   },
   {
    "duration": 227,
    "start_time": "2023-10-18T11:17:40.074Z"
   },
   {
    "duration": 30,
    "start_time": "2023-10-18T11:17:40.303Z"
   },
   {
    "duration": 36,
    "start_time": "2023-10-18T11:17:40.348Z"
   },
   {
    "duration": 954,
    "start_time": "2023-10-18T11:17:40.387Z"
   },
   {
    "duration": 268,
    "start_time": "2023-10-18T11:17:41.343Z"
   },
   {
    "duration": 34,
    "start_time": "2023-10-18T11:17:41.614Z"
   },
   {
    "duration": 80,
    "start_time": "2023-10-18T11:17:41.651Z"
   },
   {
    "duration": 242,
    "start_time": "2023-10-18T11:17:41.732Z"
   },
   {
    "duration": 15,
    "start_time": "2023-10-18T11:17:41.976Z"
   },
   {
    "duration": 92,
    "start_time": "2023-10-18T11:17:41.993Z"
   },
   {
    "duration": 202,
    "start_time": "2023-10-18T11:17:42.087Z"
   },
   {
    "duration": 239,
    "start_time": "2023-10-18T11:17:42.292Z"
   },
   {
    "duration": 104,
    "start_time": "2023-10-18T11:17:42.533Z"
   },
   {
    "duration": 77,
    "start_time": "2023-10-18T11:17:42.662Z"
   },
   {
    "duration": 16,
    "start_time": "2023-10-18T11:17:42.741Z"
   },
   {
    "duration": 13,
    "start_time": "2023-10-18T11:17:42.760Z"
   },
   {
    "duration": 122,
    "start_time": "2023-10-18T11:17:42.775Z"
   },
   {
    "duration": 3260,
    "start_time": "2023-10-18T11:17:42.898Z"
   },
   {
    "duration": 157,
    "start_time": "2023-10-18T11:17:46.161Z"
   },
   {
    "duration": 517,
    "start_time": "2023-10-18T11:17:46.320Z"
   },
   {
    "duration": 58412,
    "start_time": "2023-10-18T11:17:46.838Z"
   },
   {
    "duration": 357756,
    "start_time": "2023-10-18T11:18:45.256Z"
   },
   {
    "duration": 221744,
    "start_time": "2023-10-18T11:24:43.014Z"
   },
   {
    "duration": 18756,
    "start_time": "2023-10-18T11:28:24.760Z"
   },
   {
    "duration": 1835,
    "start_time": "2023-10-18T11:40:40.585Z"
   },
   {
    "duration": 1114,
    "start_time": "2023-10-18T11:40:42.422Z"
   },
   {
    "duration": 204,
    "start_time": "2023-10-18T11:40:43.538Z"
   },
   {
    "duration": 50,
    "start_time": "2023-10-18T11:40:43.743Z"
   },
   {
    "duration": 15,
    "start_time": "2023-10-18T11:40:43.795Z"
   },
   {
    "duration": 807,
    "start_time": "2023-10-18T11:40:43.812Z"
   },
   {
    "duration": 263,
    "start_time": "2023-10-18T11:40:44.621Z"
   },
   {
    "duration": 23,
    "start_time": "2023-10-18T11:40:44.886Z"
   },
   {
    "duration": 64,
    "start_time": "2023-10-18T11:40:44.911Z"
   },
   {
    "duration": 230,
    "start_time": "2023-10-18T11:40:44.978Z"
   },
   {
    "duration": 8,
    "start_time": "2023-10-18T11:40:45.210Z"
   },
   {
    "duration": 63,
    "start_time": "2023-10-18T11:40:45.220Z"
   },
   {
    "duration": 241,
    "start_time": "2023-10-18T11:40:45.286Z"
   },
   {
    "duration": 285,
    "start_time": "2023-10-18T11:40:45.531Z"
   },
   {
    "duration": 110,
    "start_time": "2023-10-18T11:40:45.818Z"
   },
   {
    "duration": 92,
    "start_time": "2023-10-18T11:40:45.930Z"
   },
   {
    "duration": 11,
    "start_time": "2023-10-18T11:40:46.024Z"
   },
   {
    "duration": 15,
    "start_time": "2023-10-18T11:40:46.046Z"
   },
   {
    "duration": 86,
    "start_time": "2023-10-18T11:40:46.063Z"
   },
   {
    "duration": 4577,
    "start_time": "2023-10-18T11:40:46.151Z"
   },
   {
    "duration": 172,
    "start_time": "2023-10-18T11:40:50.730Z"
   },
   {
    "duration": 573,
    "start_time": "2023-10-18T11:40:50.904Z"
   },
   {
    "duration": 59067,
    "start_time": "2023-10-18T11:40:51.480Z"
   },
   {
    "duration": 364459,
    "start_time": "2023-10-18T11:41:50.550Z"
   },
   {
    "duration": 239814,
    "start_time": "2023-10-18T11:47:55.011Z"
   },
   {
    "duration": 19952,
    "start_time": "2023-10-18T11:52:09.907Z"
   },
   {
    "duration": 193435,
    "start_time": "2023-10-18T11:52:40.742Z"
   },
   {
    "duration": 2697334,
    "start_time": "2023-10-18T12:02:26.687Z"
   },
   {
    "duration": 585,
    "start_time": "2023-10-18T12:47:24.025Z"
   },
   {
    "duration": 581,
    "start_time": "2023-10-18T12:47:30.169Z"
   },
   {
    "duration": 1215163,
    "start_time": "2023-10-18T12:47:44.675Z"
   },
   {
    "duration": 25559,
    "start_time": "2023-10-18T13:08:22.014Z"
   },
   {
    "duration": 5452,
    "start_time": "2023-10-18T13:08:52.836Z"
   },
   {
    "duration": 8800,
    "start_time": "2023-10-18T13:09:07.703Z"
   },
   {
    "duration": 8234,
    "start_time": "2023-10-18T13:11:10.871Z"
   },
   {
    "duration": 15,
    "start_time": "2023-10-18T13:11:41.202Z"
   },
   {
    "duration": 6438,
    "start_time": "2023-10-18T13:11:51.074Z"
   },
   {
    "duration": 321372,
    "start_time": "2023-10-18T13:26:46.696Z"
   },
   {
    "duration": 168962,
    "start_time": "2023-10-18T13:53:07.409Z"
   },
   {
    "duration": 10,
    "start_time": "2023-10-18T13:56:42.581Z"
   },
   {
    "duration": 12,
    "start_time": "2023-10-18T13:56:47.310Z"
   },
   {
    "duration": 13,
    "start_time": "2023-10-18T13:57:08.186Z"
   },
   {
    "duration": 4,
    "start_time": "2023-10-18T14:04:12.109Z"
   },
   {
    "duration": 121,
    "start_time": "2023-10-18T14:04:13.929Z"
   },
   {
    "duration": 549,
    "start_time": "2023-10-18T14:07:10.580Z"
   },
   {
    "duration": 6667,
    "start_time": "2023-10-18T14:07:13.596Z"
   },
   {
    "duration": 185375,
    "start_time": "2023-10-18T14:07:23.994Z"
   },
   {
    "duration": 129818,
    "start_time": "2023-10-18T14:10:34.934Z"
   },
   {
    "duration": 13,
    "start_time": "2023-10-18T14:38:51.610Z"
   },
   {
    "duration": 1900192,
    "start_time": "2023-10-18T14:43:25.716Z"
   },
   {
    "duration": 13,
    "start_time": "2023-10-18T15:15:05.910Z"
   },
   {
    "duration": 98,
    "start_time": "2023-10-18T15:25:18.738Z"
   },
   {
    "duration": 722,
    "start_time": "2023-10-18T15:25:32.165Z"
   },
   {
    "duration": 24,
    "start_time": "2023-10-18T15:31:25.423Z"
   },
   {
    "duration": 30,
    "start_time": "2023-10-18T15:31:42.479Z"
   },
   {
    "duration": 25,
    "start_time": "2023-10-18T15:31:47.960Z"
   },
   {
    "duration": 28,
    "start_time": "2023-10-18T15:32:16.833Z"
   },
   {
    "duration": 28,
    "start_time": "2023-10-18T15:35:57.863Z"
   },
   {
    "duration": 0,
    "start_time": "2023-10-18T15:36:20.811Z"
   },
   {
    "duration": 804,
    "start_time": "2023-10-18T15:37:29.623Z"
   },
   {
    "duration": 240587,
    "start_time": "2023-10-18T15:38:36.379Z"
   },
   {
    "duration": 1092,
    "start_time": "2023-10-18T16:28:25.554Z"
   },
   {
    "duration": 647,
    "start_time": "2023-10-18T16:28:38.248Z"
   },
   {
    "duration": 828,
    "start_time": "2023-10-18T16:28:43.582Z"
   },
   {
    "duration": 973,
    "start_time": "2023-10-18T16:29:16.661Z"
   },
   {
    "duration": 4964,
    "start_time": "2023-10-18T16:31:35.426Z"
   },
   {
    "duration": 4712,
    "start_time": "2023-10-18T16:31:47.498Z"
   },
   {
    "duration": 177,
    "start_time": "2023-10-18T16:39:57.362Z"
   },
   {
    "duration": 128,
    "start_time": "2023-10-18T16:40:42.668Z"
   },
   {
    "duration": 152,
    "start_time": "2023-10-18T16:40:50.487Z"
   },
   {
    "duration": 158,
    "start_time": "2023-10-18T16:41:25.941Z"
   },
   {
    "duration": 139,
    "start_time": "2023-10-18T16:41:40.771Z"
   },
   {
    "duration": 150,
    "start_time": "2023-10-18T16:41:49.807Z"
   },
   {
    "duration": 170,
    "start_time": "2023-10-18T16:41:53.610Z"
   },
   {
    "duration": 171,
    "start_time": "2023-10-18T16:41:59.979Z"
   },
   {
    "duration": 7434,
    "start_time": "2023-10-18T16:42:39.368Z"
   },
   {
    "duration": 175,
    "start_time": "2023-10-18T16:44:07.736Z"
   },
   {
    "duration": 7905,
    "start_time": "2023-10-18T16:44:10.538Z"
   },
   {
    "duration": 22,
    "start_time": "2023-10-18T16:45:49.464Z"
   },
   {
    "duration": 19,
    "start_time": "2023-10-18T16:46:22.317Z"
   },
   {
    "duration": 200,
    "start_time": "2023-10-18T16:46:30.371Z"
   },
   {
    "duration": 162,
    "start_time": "2023-10-18T16:47:41.614Z"
   },
   {
    "duration": 204,
    "start_time": "2023-10-18T16:48:25.665Z"
   },
   {
    "duration": 221,
    "start_time": "2023-10-18T16:50:01.232Z"
   },
   {
    "duration": 109,
    "start_time": "2023-10-18T16:50:35.448Z"
   },
   {
    "duration": 561,
    "start_time": "2023-10-18T16:50:38.541Z"
   },
   {
    "duration": 16,
    "start_time": "2023-10-18T16:50:42.139Z"
   },
   {
    "duration": 249,
    "start_time": "2023-10-18T16:51:10.805Z"
   },
   {
    "duration": 12,
    "start_time": "2023-10-18T16:51:17.307Z"
   },
   {
    "duration": 14,
    "start_time": "2023-10-18T16:51:28.819Z"
   },
   {
    "duration": 513,
    "start_time": "2023-10-18T16:51:37.609Z"
   },
   {
    "duration": 14,
    "start_time": "2023-10-18T16:51:39.285Z"
   },
   {
    "duration": 161,
    "start_time": "2023-10-18T16:51:56.983Z"
   },
   {
    "duration": 213,
    "start_time": "2023-10-18T16:52:04.836Z"
   },
   {
    "duration": 13,
    "start_time": "2023-10-18T16:52:07.387Z"
   },
   {
    "duration": 158,
    "start_time": "2023-10-18T16:52:24.687Z"
   },
   {
    "duration": 1707,
    "start_time": "2023-10-18T16:52:59.614Z"
   },
   {
    "duration": 1030,
    "start_time": "2023-10-18T16:53:01.323Z"
   },
   {
    "duration": 181,
    "start_time": "2023-10-18T16:53:02.355Z"
   },
   {
    "duration": 33,
    "start_time": "2023-10-18T16:53:02.539Z"
   },
   {
    "duration": 39,
    "start_time": "2023-10-18T16:53:02.574Z"
   },
   {
    "duration": 804,
    "start_time": "2023-10-18T16:53:02.615Z"
   },
   {
    "duration": 239,
    "start_time": "2023-10-18T16:53:03.421Z"
   },
   {
    "duration": 25,
    "start_time": "2023-10-18T16:53:03.662Z"
   },
   {
    "duration": 61,
    "start_time": "2023-10-18T16:53:03.689Z"
   },
   {
    "duration": 234,
    "start_time": "2023-10-18T16:53:03.754Z"
   },
   {
    "duration": 11,
    "start_time": "2023-10-18T16:53:03.990Z"
   },
   {
    "duration": 319,
    "start_time": "2023-10-18T16:53:04.002Z"
   },
   {
    "duration": 303,
    "start_time": "2023-10-18T16:53:04.323Z"
   },
   {
    "duration": 199,
    "start_time": "2023-10-18T16:53:04.628Z"
   },
   {
    "duration": 126,
    "start_time": "2023-10-18T16:53:04.829Z"
   },
   {
    "duration": 70,
    "start_time": "2023-10-18T16:53:04.957Z"
   },
   {
    "duration": 32,
    "start_time": "2023-10-18T16:53:05.029Z"
   },
   {
    "duration": 13,
    "start_time": "2023-10-18T16:53:05.063Z"
   },
   {
    "duration": 109,
    "start_time": "2023-10-18T16:53:05.078Z"
   },
   {
    "duration": 3675,
    "start_time": "2023-10-18T16:53:05.190Z"
   },
   {
    "duration": 167,
    "start_time": "2023-10-18T16:53:08.867Z"
   },
   {
    "duration": 414,
    "start_time": "2023-10-18T16:53:10.990Z"
   },
   {
    "duration": 1127,
    "start_time": "2023-10-18T16:53:16.351Z"
   },
   {
    "duration": 6,
    "start_time": "2023-10-18T16:53:19.379Z"
   },
   {
    "duration": 37537,
    "start_time": "2023-10-18T16:53:21.221Z"
   },
   {
    "duration": 166,
    "start_time": "2023-10-18T16:54:01.501Z"
   },
   {
    "duration": 169,
    "start_time": "2023-10-18T16:54:10.186Z"
   },
   {
    "duration": 227,
    "start_time": "2023-10-18T16:54:28.908Z"
   },
   {
    "duration": 426,
    "start_time": "2023-10-18T16:55:35.341Z"
   },
   {
    "duration": 5073,
    "start_time": "2023-10-18T16:56:11.281Z"
   },
   {
    "duration": 5027,
    "start_time": "2023-10-18T16:56:28.520Z"
   },
   {
    "duration": 15,
    "start_time": "2023-10-18T16:56:37.444Z"
   },
   {
    "duration": 304,
    "start_time": "2023-10-18T16:56:50.479Z"
   },
   {
    "duration": 15,
    "start_time": "2023-10-18T16:57:53.979Z"
   },
   {
    "duration": 38453,
    "start_time": "2023-10-18T16:58:09.894Z"
   },
   {
    "duration": 125,
    "start_time": "2023-10-18T16:58:54.263Z"
   },
   {
    "duration": 486,
    "start_time": "2023-10-18T17:00:13.014Z"
   },
   {
    "duration": 249,
    "start_time": "2023-10-18T17:00:23.270Z"
   },
   {
    "duration": 168,
    "start_time": "2023-10-18T17:01:03.559Z"
   },
   {
    "duration": 155,
    "start_time": "2023-10-18T17:01:44.768Z"
   },
   {
    "duration": 628,
    "start_time": "2023-10-18T17:02:26.436Z"
   },
   {
    "duration": 4,
    "start_time": "2023-10-18T17:02:29.708Z"
   },
   {
    "duration": 113363,
    "start_time": "2023-10-18T17:02:35.095Z"
   },
   {
    "duration": 147,
    "start_time": "2023-10-18T17:04:32.128Z"
   },
   {
    "duration": 5,
    "start_time": "2023-10-18T17:05:03.962Z"
   },
   {
    "duration": 4,
    "start_time": "2023-10-18T17:05:14.120Z"
   },
   {
    "duration": 30877,
    "start_time": "2023-10-18T17:05:15.783Z"
   },
   {
    "duration": 135,
    "start_time": "2023-10-18T17:05:53.620Z"
   },
   {
    "duration": 7,
    "start_time": "2023-10-18T17:06:31.797Z"
   },
   {
    "duration": 142,
    "start_time": "2023-10-18T17:06:43.880Z"
   },
   {
    "duration": 160,
    "start_time": "2023-10-18T17:08:11.117Z"
   },
   {
    "duration": 4,
    "start_time": "2023-10-18T17:09:31.607Z"
   },
   {
    "duration": 4,
    "start_time": "2023-10-18T17:10:42.206Z"
   },
   {
    "duration": 5,
    "start_time": "2023-10-18T17:11:00.390Z"
   },
   {
    "duration": 10,
    "start_time": "2023-10-18T17:11:04.067Z"
   },
   {
    "duration": 3,
    "start_time": "2023-10-18T17:11:43.538Z"
   },
   {
    "duration": 1724,
    "start_time": "2023-10-18T17:12:44.761Z"
   },
   {
    "duration": 1025,
    "start_time": "2023-10-18T17:12:46.487Z"
   },
   {
    "duration": 196,
    "start_time": "2023-10-18T17:12:47.514Z"
   },
   {
    "duration": 26,
    "start_time": "2023-10-18T17:12:47.713Z"
   },
   {
    "duration": 14,
    "start_time": "2023-10-18T17:12:47.748Z"
   },
   {
    "duration": 722,
    "start_time": "2023-10-18T17:12:47.765Z"
   },
   {
    "duration": 309,
    "start_time": "2023-10-18T17:12:48.489Z"
   },
   {
    "duration": 24,
    "start_time": "2023-10-18T17:12:48.800Z"
   },
   {
    "duration": 41,
    "start_time": "2023-10-18T17:12:48.825Z"
   },
   {
    "duration": 194,
    "start_time": "2023-10-18T17:12:48.869Z"
   },
   {
    "duration": 13,
    "start_time": "2023-10-18T17:12:49.066Z"
   },
   {
    "duration": 51,
    "start_time": "2023-10-18T17:12:49.081Z"
   },
   {
    "duration": 187,
    "start_time": "2023-10-18T17:12:49.133Z"
   },
   {
    "duration": 209,
    "start_time": "2023-10-18T17:12:49.322Z"
   },
   {
    "duration": 91,
    "start_time": "2023-10-18T17:12:52.578Z"
   },
   {
    "duration": 79,
    "start_time": "2023-10-18T17:13:01.897Z"
   },
   {
    "duration": 127,
    "start_time": "2023-10-18T17:13:01.978Z"
   },
   {
    "duration": 161,
    "start_time": "2023-10-18T17:13:02.108Z"
   },
   {
    "duration": 132,
    "start_time": "2023-10-18T17:13:02.271Z"
   },
   {
    "duration": 4168,
    "start_time": "2023-10-18T17:13:02.405Z"
   },
   {
    "duration": 160,
    "start_time": "2023-10-18T17:13:06.576Z"
   },
   {
    "duration": 434,
    "start_time": "2023-10-18T17:13:06.738Z"
   },
   {
    "duration": 1062,
    "start_time": "2023-10-18T17:13:27.796Z"
   },
   {
    "duration": 6,
    "start_time": "2023-10-18T17:13:31.152Z"
   },
   {
    "duration": 34620,
    "start_time": "2023-10-18T17:13:33.930Z"
   },
   {
    "duration": 5,
    "start_time": "2023-10-18T17:14:10.977Z"
   },
   {
    "duration": 4,
    "start_time": "2023-10-18T17:20:46.238Z"
   },
   {
    "duration": 5381,
    "start_time": "2023-10-18T17:20:49.780Z"
   },
   {
    "duration": 380,
    "start_time": "2023-10-18T17:20:57.901Z"
   },
   {
    "duration": 8,
    "start_time": "2023-10-18T17:21:18.941Z"
   },
   {
    "duration": 4,
    "start_time": "2023-10-18T17:43:56.420Z"
   },
   {
    "duration": 1063,
    "start_time": "2023-10-18T17:43:56.426Z"
   },
   {
    "duration": 178,
    "start_time": "2023-10-18T17:43:57.491Z"
   },
   {
    "duration": 17,
    "start_time": "2023-10-18T17:43:57.671Z"
   },
   {
    "duration": 14,
    "start_time": "2023-10-18T17:43:57.689Z"
   },
   {
    "duration": 710,
    "start_time": "2023-10-18T17:43:57.705Z"
   },
   {
    "duration": 193,
    "start_time": "2023-10-18T17:43:58.417Z"
   },
   {
    "duration": 24,
    "start_time": "2023-10-18T17:43:58.612Z"
   },
   {
    "duration": 34,
    "start_time": "2023-10-18T17:43:58.656Z"
   },
   {
    "duration": 187,
    "start_time": "2023-10-18T17:43:58.692Z"
   },
   {
    "duration": 248,
    "start_time": "2023-10-18T17:44:20.619Z"
   },
   {
    "duration": 194,
    "start_time": "2023-10-18T17:44:47.235Z"
   },
   {
    "duration": 215,
    "start_time": "2023-10-18T17:44:54.885Z"
   },
   {
    "duration": 212,
    "start_time": "2023-10-18T17:45:02.115Z"
   },
   {
    "duration": 91,
    "start_time": "2023-10-18T17:46:08.022Z"
   },
   {
    "duration": 86,
    "start_time": "2023-10-18T17:46:31.175Z"
   },
   {
    "duration": 78,
    "start_time": "2023-10-18T17:46:37.866Z"
   },
   {
    "duration": 1742,
    "start_time": "2024-01-21T19:17:30.580Z"
   },
   {
    "duration": 2827,
    "start_time": "2024-01-21T19:17:32.324Z"
   },
   {
    "duration": 156,
    "start_time": "2024-01-21T19:17:35.152Z"
   },
   {
    "duration": 26,
    "start_time": "2024-01-21T19:17:35.310Z"
   },
   {
    "duration": 11,
    "start_time": "2024-01-21T19:17:35.338Z"
   },
   {
    "duration": 583,
    "start_time": "2024-01-21T19:17:35.350Z"
   },
   {
    "duration": 202,
    "start_time": "2024-01-21T19:17:35.935Z"
   },
   {
    "duration": 24,
    "start_time": "2024-01-21T19:17:36.138Z"
   },
   {
    "duration": 25,
    "start_time": "2024-01-21T19:17:36.164Z"
   },
   {
    "duration": 160,
    "start_time": "2024-01-21T19:17:36.190Z"
   },
   {
    "duration": 196,
    "start_time": "2024-01-21T19:17:36.352Z"
   },
   {
    "duration": 40,
    "start_time": "2024-01-21T19:17:36.550Z"
   },
   {
    "duration": 142,
    "start_time": "2024-01-21T19:17:36.592Z"
   },
   {
    "duration": 173,
    "start_time": "2024-01-21T19:17:36.737Z"
   },
   {
    "duration": 100,
    "start_time": "2024-01-21T19:17:36.912Z"
   },
   {
    "duration": 138,
    "start_time": "2024-01-21T19:17:37.014Z"
   },
   {
    "duration": 17,
    "start_time": "2024-01-21T19:17:37.158Z"
   },
   {
    "duration": 27,
    "start_time": "2024-01-21T19:17:37.177Z"
   },
   {
    "duration": 72,
    "start_time": "2024-01-21T19:17:37.205Z"
   },
   {
    "duration": 3209,
    "start_time": "2024-01-21T19:17:37.279Z"
   },
   {
    "duration": 141,
    "start_time": "2024-01-21T19:17:40.490Z"
   },
   {
    "duration": 376,
    "start_time": "2024-01-21T19:17:40.633Z"
   },
   {
    "duration": 40956,
    "start_time": "2024-01-21T19:17:41.011Z"
   },
   {
    "duration": 156724,
    "start_time": "2024-01-21T19:18:21.969Z"
   },
   {
    "duration": 161631,
    "start_time": "2024-01-21T19:20:58.695Z"
   },
   {
    "duration": 13318,
    "start_time": "2024-01-21T19:23:40.327Z"
   },
   {
    "duration": 64982,
    "start_time": "2024-01-21T19:23:53.647Z"
   },
   {
    "duration": 44604,
    "start_time": "2024-01-21T19:24:58.631Z"
   },
   {
    "duration": 596,
    "start_time": "2024-01-21T19:25:43.237Z"
   },
   {
    "duration": 4,
    "start_time": "2024-01-21T19:25:43.834Z"
   },
   {
    "duration": 21628,
    "start_time": "2024-01-21T19:25:43.840Z"
   },
   {
    "duration": 4646,
    "start_time": "2024-01-21T19:26:05.470Z"
   },
   {
    "duration": 5254,
    "start_time": "2024-01-21T19:26:10.118Z"
   },
   {
    "duration": 0,
    "start_time": "2024-01-21T19:26:15.374Z"
   },
   {
    "duration": 0,
    "start_time": "2024-01-21T19:26:15.375Z"
   },
   {
    "duration": 0,
    "start_time": "2024-01-21T19:26:15.376Z"
   },
   {
    "duration": 0,
    "start_time": "2024-01-21T19:26:15.377Z"
   },
   {
    "duration": 0,
    "start_time": "2024-01-21T19:26:15.378Z"
   },
   {
    "duration": 0,
    "start_time": "2024-01-21T19:26:15.379Z"
   },
   {
    "duration": 1607,
    "start_time": "2024-01-22T11:45:11.418Z"
   },
   {
    "duration": 2845,
    "start_time": "2024-01-22T11:45:13.027Z"
   },
   {
    "duration": 155,
    "start_time": "2024-01-22T11:45:15.873Z"
   },
   {
    "duration": 24,
    "start_time": "2024-01-22T11:45:16.030Z"
   },
   {
    "duration": 9,
    "start_time": "2024-01-22T11:45:16.058Z"
   },
   {
    "duration": 576,
    "start_time": "2024-01-22T11:45:16.068Z"
   },
   {
    "duration": 197,
    "start_time": "2024-01-22T11:45:16.646Z"
   },
   {
    "duration": 29,
    "start_time": "2024-01-22T11:45:16.845Z"
   },
   {
    "duration": 27,
    "start_time": "2024-01-22T11:45:16.876Z"
   },
   {
    "duration": 182,
    "start_time": "2024-01-22T11:45:16.906Z"
   },
   {
    "duration": 180,
    "start_time": "2024-01-22T11:45:17.090Z"
   },
   {
    "duration": 25,
    "start_time": "2024-01-22T11:45:17.271Z"
   },
   {
    "duration": 163,
    "start_time": "2024-01-22T11:45:17.298Z"
   },
   {
    "duration": 185,
    "start_time": "2024-01-22T11:45:17.463Z"
   },
   {
    "duration": 80,
    "start_time": "2024-01-22T11:45:17.649Z"
   },
   {
    "duration": 107,
    "start_time": "2024-01-22T11:45:17.731Z"
   },
   {
    "duration": 17,
    "start_time": "2024-01-22T11:45:17.840Z"
   },
   {
    "duration": 12,
    "start_time": "2024-01-22T11:45:17.858Z"
   },
   {
    "duration": 67,
    "start_time": "2024-01-22T11:45:17.871Z"
   },
   {
    "duration": 2886,
    "start_time": "2024-01-22T11:45:17.940Z"
   },
   {
    "duration": 140,
    "start_time": "2024-01-22T11:45:20.828Z"
   },
   {
    "duration": 385,
    "start_time": "2024-01-22T11:45:20.970Z"
   },
   {
    "duration": 50710,
    "start_time": "2024-01-22T11:45:21.357Z"
   },
   {
    "duration": 162221,
    "start_time": "2024-01-22T11:46:12.070Z"
   },
   {
    "duration": 163442,
    "start_time": "2024-01-22T11:48:54.293Z"
   },
   {
    "duration": 13388,
    "start_time": "2024-01-22T11:51:37.736Z"
   },
   {
    "duration": 66376,
    "start_time": "2024-01-22T11:51:51.126Z"
   },
   {
    "duration": 45187,
    "start_time": "2024-01-22T11:52:57.505Z"
   },
   {
    "duration": 590,
    "start_time": "2024-01-22T11:53:42.694Z"
   },
   {
    "duration": 4,
    "start_time": "2024-01-22T11:53:43.285Z"
   },
   {
    "duration": 20672,
    "start_time": "2024-01-22T11:53:43.290Z"
   },
   {
    "duration": 4617,
    "start_time": "2024-01-22T11:54:03.965Z"
   },
   {
    "duration": 5284,
    "start_time": "2024-01-22T11:54:08.584Z"
   },
   {
    "duration": 0,
    "start_time": "2024-01-22T11:54:13.869Z"
   },
   {
    "duration": 0,
    "start_time": "2024-01-22T11:54:13.870Z"
   },
   {
    "duration": 0,
    "start_time": "2024-01-22T11:54:13.871Z"
   },
   {
    "duration": 0,
    "start_time": "2024-01-22T11:54:13.872Z"
   },
   {
    "duration": 0,
    "start_time": "2024-01-22T11:54:13.873Z"
   },
   {
    "duration": 1,
    "start_time": "2024-01-22T11:54:13.874Z"
   },
   {
    "duration": 5296,
    "start_time": "2024-01-22T12:02:00.419Z"
   },
   {
    "duration": 7658,
    "start_time": "2024-01-22T12:02:22.322Z"
   },
   {
    "duration": 0,
    "start_time": "2024-01-22T12:02:29.982Z"
   },
   {
    "duration": 0,
    "start_time": "2024-01-22T12:02:29.983Z"
   },
   {
    "duration": 0,
    "start_time": "2024-01-22T12:02:29.985Z"
   },
   {
    "duration": 0,
    "start_time": "2024-01-22T12:02:29.986Z"
   },
   {
    "duration": 0,
    "start_time": "2024-01-22T12:02:29.986Z"
   },
   {
    "duration": 7717,
    "start_time": "2024-01-22T12:02:39.085Z"
   },
   {
    "duration": 4028,
    "start_time": "2024-01-22T12:02:46.932Z"
   },
   {
    "duration": 11,
    "start_time": "2024-01-22T12:03:18.575Z"
   },
   {
    "duration": 125,
    "start_time": "2024-01-22T12:04:55.893Z"
   },
   {
    "duration": 6339,
    "start_time": "2024-01-22T12:04:57.831Z"
   },
   {
    "duration": 6156,
    "start_time": "2024-01-22T12:05:12.157Z"
   },
   {
    "duration": 141,
    "start_time": "2024-01-22T12:05:20.946Z"
   },
   {
    "duration": 1489,
    "start_time": "2024-01-22T12:07:53.141Z"
   },
   {
    "duration": 872,
    "start_time": "2024-01-22T12:07:54.632Z"
   },
   {
    "duration": 147,
    "start_time": "2024-01-22T12:07:55.506Z"
   },
   {
    "duration": 27,
    "start_time": "2024-01-22T12:07:55.655Z"
   },
   {
    "duration": 16,
    "start_time": "2024-01-22T12:07:55.684Z"
   },
   {
    "duration": 612,
    "start_time": "2024-01-22T12:07:55.702Z"
   },
   {
    "duration": 205,
    "start_time": "2024-01-22T12:07:56.315Z"
   },
   {
    "duration": 21,
    "start_time": "2024-01-22T12:07:56.522Z"
   },
   {
    "duration": 68,
    "start_time": "2024-01-22T12:07:56.544Z"
   },
   {
    "duration": 192,
    "start_time": "2024-01-22T12:07:56.614Z"
   },
   {
    "duration": 169,
    "start_time": "2024-01-22T12:07:56.807Z"
   },
   {
    "duration": 25,
    "start_time": "2024-01-22T12:07:56.977Z"
   },
   {
    "duration": 155,
    "start_time": "2024-01-22T12:07:57.003Z"
   },
   {
    "duration": 165,
    "start_time": "2024-01-22T12:07:57.160Z"
   },
   {
    "duration": 82,
    "start_time": "2024-01-22T12:07:57.327Z"
   },
   {
    "duration": 88,
    "start_time": "2024-01-22T12:07:57.411Z"
   },
   {
    "duration": 15,
    "start_time": "2024-01-22T12:07:57.501Z"
   },
   {
    "duration": 10,
    "start_time": "2024-01-22T12:07:57.518Z"
   },
   {
    "duration": 87,
    "start_time": "2024-01-22T12:07:57.530Z"
   },
   {
    "duration": 2796,
    "start_time": "2024-01-22T12:07:57.619Z"
   },
   {
    "duration": 143,
    "start_time": "2024-01-22T12:08:00.417Z"
   },
   {
    "duration": 412,
    "start_time": "2024-01-22T12:08:00.561Z"
   },
   {
    "duration": 57786,
    "start_time": "2024-01-22T12:08:00.975Z"
   },
   {
    "duration": 161638,
    "start_time": "2024-01-22T12:08:58.763Z"
   },
   {
    "duration": 166792,
    "start_time": "2024-01-22T12:11:40.402Z"
   },
   {
    "duration": 13787,
    "start_time": "2024-01-22T12:14:27.195Z"
   },
   {
    "duration": 65418,
    "start_time": "2024-01-22T12:14:40.984Z"
   },
   {
    "duration": 44492,
    "start_time": "2024-01-22T12:15:46.405Z"
   },
   {
    "duration": 603,
    "start_time": "2024-01-22T12:16:30.898Z"
   },
   {
    "duration": 12,
    "start_time": "2024-01-22T12:16:31.503Z"
   },
   {
    "duration": 22042,
    "start_time": "2024-01-22T12:16:31.517Z"
   },
   {
    "duration": 4629,
    "start_time": "2024-01-22T12:16:53.563Z"
   },
   {
    "duration": 5178,
    "start_time": "2024-01-22T12:16:58.193Z"
   },
   {
    "duration": 7782,
    "start_time": "2024-01-22T12:17:03.373Z"
   },
   {
    "duration": 4029,
    "start_time": "2024-01-22T12:17:11.159Z"
   },
   {
    "duration": 11,
    "start_time": "2024-01-22T12:17:15.190Z"
   },
   {
    "duration": 152,
    "start_time": "2024-01-22T12:17:15.203Z"
   },
   {
    "duration": 6058,
    "start_time": "2024-01-22T12:17:15.356Z"
   },
   {
    "duration": 154,
    "start_time": "2024-01-22T12:17:21.416Z"
   }
  ],
  "kernelspec": {
   "display_name": "Python 3 (ipykernel)",
   "language": "python",
   "name": "python3"
  },
  "language_info": {
   "codemirror_mode": {
    "name": "ipython",
    "version": 3
   },
   "file_extension": ".py",
   "mimetype": "text/x-python",
   "name": "python",
   "nbconvert_exporter": "python",
   "pygments_lexer": "ipython3",
   "version": "3.9.5"
  },
  "toc": {
   "base_numbering": 1,
   "nav_menu": {},
   "number_sections": true,
   "sideBar": true,
   "skip_h1_title": true,
   "title_cell": "Table of Contents",
   "title_sidebar": "Contents",
   "toc_cell": true,
   "toc_position": {
    "height": "calc(100% - 180px)",
    "left": "10px",
    "top": "150px",
    "width": "675.155px"
   },
   "toc_section_display": true,
   "toc_window_display": true
  }
 },
 "nbformat": 4,
 "nbformat_minor": 2
}
